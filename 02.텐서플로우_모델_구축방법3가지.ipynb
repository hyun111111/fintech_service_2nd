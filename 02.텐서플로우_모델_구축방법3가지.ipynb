{
 "cells": [
  {
   "cell_type": "markdown",
   "id": "dbdf28eb",
   "metadata": {},
   "source": [
    "# 딥러닝 라이브러리 2가지\n",
    "## 텐서플로우(google) - 산업용\n",
    "* 이미지 관련 라이브러리\n",
    "* keras를 이용해 코딩이 쉬움\n",
    "* 순차적, 함수적, 클래스\n",
    "\n",
    "## 파이토치 (meta) - 연구용\n",
    "* 자연어관련 라이브러리\n",
    "* 허깅페이스, 랭체인\n",
    "* 클래스 - 무조건 상속받아서 구현"
   ]
  },
  {
   "cell_type": "code",
   "execution_count": null,
   "id": "43a45a0e",
   "metadata": {},
   "outputs": [],
   "source": []
  }
 ],
 "metadata": {
  "kernelspec": {
   "display_name": "Python 3 (ipykernel)",
   "language": "python",
   "name": "python3"
  },
  "language_info": {
   "codemirror_mode": {
    "name": "ipython",
    "version": 3
   },
   "file_extension": ".py",
   "mimetype": "text/x-python",
   "name": "python",
   "nbconvert_exporter": "python",
   "pygments_lexer": "ipython3",
   "version": "3.9.22"
  }
 },
 "nbformat": 4,
 "nbformat_minor": 5
}
