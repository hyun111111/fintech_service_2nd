{
 "cells": [
  {
   "cell_type": "markdown",
   "id": "20623b03",
   "metadata": {},
   "source": [
    "# 프로그램을 하는 3가지 방법"
   ]
  },
  {
   "cell_type": "markdown",
   "id": "0788c772",
   "metadata": {},
   "source": [
    "1. 절차적 프로그래밍\n",
    "* 프로그래밍을 순차적으로 하는 것\n",
    "* n코드가 위에서 아래로 절차적으로 실행"
   ]
  },
  {
   "cell_type": "code",
   "execution_count": 1,
   "id": "24b5db79",
   "metadata": {},
   "outputs": [
    {
     "name": "stdout",
     "output_type": "stream",
     "text": [
      "3\n"
     ]
    }
   ],
   "source": [
    "a = 1\n",
    "b = 2\n",
    "print(a+b)"
   ]
  },
  {
   "cell_type": "markdown",
   "id": "d7c9ca5f",
   "metadata": {},
   "source": [
    "2. 함수형 프로그래밍\n",
    "* 여러 개의 함수를 작성해서 함수에 기반해 프로그램이 실행\n",
    "* 코드의 재사용 가능\n",
    "* 유지보수가 쉬워짐\n",
    "* 버그 발생률이 낮고 예측 가능성이 높음\n",
    "* 병렬처리, 동시성 처리에 강함 - 멀티 코어를 이용할 때 유리"
   ]
  },
  {
   "cell_type": "code",
   "execution_count": 2,
   "id": "81e4b2fe",
   "metadata": {},
   "outputs": [
    {
     "name": "stdout",
     "output_type": "stream",
     "text": [
      "[1, 4, 9, 16]\n"
     ]
    }
   ],
   "source": [
    "# 리스트의 제곱합 구하기\n",
    "nums = [1,2,3,4]\n",
    "squares = list(map(lambda x: x * x, nums))\n",
    "print(squares)"
   ]
  },
  {
   "cell_type": "markdown",
   "id": "b10b5cdc",
   "metadata": {},
   "source": [
    "3. 객체지향 프로그래밍\n",
    "* JAVA, C++\n",
    "* 클래스 기반으로 프로그래밍\n",
    "* 캡슐화, 상속, 다형성 같은 개념 사용\n",
    "* 코드를 재사용하는데 특화\n",
    "* 여러사람이 이용할 때 같은 코드를 독립적으로 사용 가능"
   ]
  },
  {
   "cell_type": "code",
   "execution_count": 3,
   "id": "d8037705",
   "metadata": {},
   "outputs": [
    {
     "name": "stdout",
     "output_type": "stream",
     "text": [
      "[1, 4, 9, 16]\n"
     ]
    }
   ],
   "source": [
    "nums = [1,2,3,4]\n",
    "squares = list(map(lambda x: x * x, nums))\n",
    "print(squares)"
   ]
  },
  {
   "cell_type": "code",
   "execution_count": 4,
   "id": "6d99df7d",
   "metadata": {},
   "outputs": [],
   "source": [
    "def add(a, b):\n",
    "    return a+b"
   ]
  },
  {
   "cell_type": "code",
   "execution_count": 5,
   "id": "c1f5f659",
   "metadata": {},
   "outputs": [
    {
     "data": {
      "text/plain": [
       "3"
      ]
     },
     "execution_count": 5,
     "metadata": {},
     "output_type": "execute_result"
    }
   ],
   "source": [
    "\n",
    "add(1, 2)"
   ]
  },
  {
   "cell_type": "markdown",
   "id": "eb6aa7b0",
   "metadata": {},
   "source": [
    "# 클래스란?\n",
    "* 클래스는 객체지향 프로그래밍의 핵심\n",
    "* 클래스 하나에 여러 개의 함수(메서드)를 포함\n",
    "* 클래스 = 공장(커피머신 공장) - 커피머신\n",
    "* 메서드 = 커피머신의 기능 (에스프레소, 아메리카노, 카페라떼, 스팀)"
   ]
  },
  {
   "cell_type": "markdown",
   "id": "f7cf625c",
   "metadata": {},
   "source": [
    "더하기 함수 만들기"
   ]
  },
  {
   "cell_type": "code",
   "execution_count": 6,
   "id": "221b31b2",
   "metadata": {},
   "outputs": [],
   "source": [
    "def add(num1, num2):\n",
    "    result = num1 + num2\n",
    "    return result"
   ]
  },
  {
   "cell_type": "code",
   "execution_count": 7,
   "id": "cc1b2a48",
   "metadata": {},
   "outputs": [
    {
     "data": {
      "text/plain": [
       "8"
      ]
     },
     "execution_count": 7,
     "metadata": {},
     "output_type": "execute_result"
    }
   ],
   "source": [
    "add(3, 5)"
   ]
  },
  {
   "cell_type": "markdown",
   "id": "770328e4",
   "metadata": {},
   "source": [
    "이전에 계산했던 결과를 기억하는 계산기"
   ]
  },
  {
   "cell_type": "code",
   "execution_count": 8,
   "id": "865145cb",
   "metadata": {},
   "outputs": [],
   "source": [
    "\n",
    "result_cal = 0\n",
    "def add(num, result_cal):\n",
    "    print(\"result_cal\", result_cal)\n",
    "    result_cal += num\n",
    "    return result_cal"
   ]
  },
  {
   "cell_type": "code",
   "execution_count": 14,
   "id": "bbdccca7",
   "metadata": {
    "scrolled": true
   },
   "outputs": [
    {
     "name": "stdout",
     "output_type": "stream",
     "text": [
      "result_cal 0\n"
     ]
    },
    {
     "data": {
      "text/plain": [
       "10"
      ]
     },
     "execution_count": 14,
     "metadata": {},
     "output_type": "execute_result"
    }
   ],
   "source": [
    "\n",
    "add(10, result_cal)"
   ]
  },
  {
   "cell_type": "markdown",
   "id": "82d4319a",
   "metadata": {},
   "source": [
    "아래랑 다른 애다."
   ]
  },
  {
   "cell_type": "code",
   "execution_count": 10,
   "id": "7d66aaaa",
   "metadata": {},
   "outputs": [
    {
     "data": {
      "text/plain": [
       "0"
      ]
     },
     "execution_count": 10,
     "metadata": {},
     "output_type": "execute_result"
    }
   ],
   "source": [
    "result_cal"
   ]
  },
  {
   "cell_type": "code",
   "execution_count": 1,
   "id": "45843870",
   "metadata": {},
   "outputs": [],
   "source": [
    "result_cal = 0\n",
    "def add(num):\n",
    "    global result_cal\n",
    "    result_cal += num\n",
    "    return result_cal"
   ]
  },
  {
   "cell_type": "code",
   "execution_count": 3,
   "id": "d0007a7c",
   "metadata": {},
   "outputs": [
    {
     "data": {
      "text/plain": [
       "14"
      ]
     },
     "execution_count": 3,
     "metadata": {},
     "output_type": "execute_result"
    }
   ],
   "source": [
    "add(7)"
   ]
  },
  {
   "cell_type": "markdown",
   "id": "606d2a6a",
   "metadata": {},
   "source": [
    "global로 전역변수로사용은 가능함."
   ]
  },
  {
   "cell_type": "code",
   "execution_count": 4,
   "id": "14191c23",
   "metadata": {},
   "outputs": [],
   "source": [
    "result_cal = 0\n",
    "def mul10(num):\n",
    "    global result_cal\n",
    "    result_cal += num * 10\n",
    "    return result_cal"
   ]
  },
  {
   "cell_type": "code",
   "execution_count": 6,
   "id": "92b48a2e",
   "metadata": {},
   "outputs": [
    {
     "data": {
      "text/plain": [
       "50"
      ]
     },
     "execution_count": 6,
     "metadata": {},
     "output_type": "execute_result"
    }
   ],
   "source": [
    "mul10(2)"
   ]
  },
  {
   "cell_type": "markdown",
   "id": "b67b2c0b",
   "metadata": {},
   "source": [
    "만약 mul함수를 길동이와 둘리가 동시에 같이 쓰고 싶다면?"
   ]
  },
  {
   "cell_type": "code",
   "execution_count": 7,
   "id": "c80ef6f1",
   "metadata": {},
   "outputs": [
    {
     "data": {
      "text/plain": [
       "150"
      ]
     },
     "execution_count": 7,
     "metadata": {},
     "output_type": "execute_result"
    }
   ],
   "source": [
    "mul10(10)"
   ]
  },
  {
   "cell_type": "markdown",
   "id": "bf503a81",
   "metadata": {},
   "source": [
    "내가 해놓은 작업을 초기화 시키지 않으면 동시에 못씀 <br>\n",
    "함수를 다 각자 만든다면? 함수를 100개 다 따로 써야함"
   ]
  },
  {
   "cell_type": "markdown",
   "id": "066be5a6",
   "metadata": {},
   "source": [
    "-> 클래스를 만들어놓으면 그것이 가능하다."
   ]
  },
  {
   "cell_type": "markdown",
   "id": "9b28003f",
   "metadata": {},
   "source": [
    "# 클래스 만들기\n",
    "* 클래스의 이름은 카멜표기법으로 만들어준다.\n",
    "* ()는 생략가능<br>\n",
    "class 클래스명Camel():<br>\n",
    "____def 메소드명(): # 클래스 아래 함수는 메소드라고 함\n",
    "________실행할 코드<br>\n",
    "________return<br>\n",
    "____def 메소드명2(): <br>\n",
    "________실행할 코드<br>\n",
    "________return<br>"
   ]
  },
  {
   "cell_type": "markdown",
   "id": "2bbeddfc",
   "metadata": {},
   "source": [
    "pytorch, 텐서플로우 를 쓴다고 하는경우 클래스를 열심히 해야함.\n",
    "* 파이썬으로 하는 경우 함수까지만 사용하는경우가 대부분"
   ]
  },
  {
   "cell_type": "code",
   "execution_count": null,
   "id": "9ea8caec",
   "metadata": {},
   "outputs": [],
   "source": []
  },
  {
   "cell_type": "markdown",
   "id": "1ee11133",
   "metadata": {},
   "source": [
    "클래스로 계산기 만들기"
   ]
  },
  {
   "cell_type": "code",
   "execution_count": 10,
   "id": "40d53248",
   "metadata": {},
   "outputs": [],
   "source": [
    "class Calculator():\n",
    "    def __init__(self):  #self Calulator()\n",
    "        self.result = 0\n",
    "    def add(self,num):\n",
    "        self.result += num\n",
    "        return self.result"
   ]
  },
  {
   "cell_type": "code",
   "execution_count": 11,
   "id": "ed4c7f11",
   "metadata": {
    "scrolled": true
   },
   "outputs": [
    {
     "data": {
      "text/plain": [
       "5"
      ]
     },
     "execution_count": 11,
     "metadata": {},
     "output_type": "execute_result"
    }
   ],
   "source": [
    "cal = Calculator()\n",
    "cal.add(5)"
   ]
  },
  {
   "cell_type": "markdown",
   "id": "1f7e1053",
   "metadata": {},
   "source": [
    "# 인스턴스\n",
    "* 만들어진 클래스를 변수에 담는 것\n",
    "* 사용자 등록"
   ]
  },
  {
   "cell_type": "code",
   "execution_count": 13,
   "id": "455c3aaa",
   "metadata": {},
   "outputs": [
    {
     "data": {
      "text/plain": [
       "35"
      ]
     },
     "execution_count": 13,
     "metadata": {},
     "output_type": "execute_result"
    }
   ],
   "source": [
    "cal.add(20)"
   ]
  },
  {
   "cell_type": "markdown",
   "id": "e56ba85b",
   "metadata": {},
   "source": [
    "+10 했다가 +20했음"
   ]
  },
  {
   "cell_type": "code",
   "execution_count": 14,
   "id": "03bf3ef5",
   "metadata": {},
   "outputs": [
    {
     "data": {
      "text/plain": [
       "100"
      ]
     },
     "execution_count": 14,
     "metadata": {},
     "output_type": "execute_result"
    }
   ],
   "source": [
    "dul = Calculator()\n",
    "dul.add(100)"
   ]
  },
  {
   "cell_type": "code",
   "execution_count": 15,
   "id": "76db3286",
   "metadata": {},
   "outputs": [
    {
     "data": {
      "text/plain": [
       "300"
      ]
     },
     "execution_count": 15,
     "metadata": {},
     "output_type": "execute_result"
    }
   ],
   "source": [
    "dul.add(200)"
   ]
  },
  {
   "cell_type": "markdown",
   "id": "5adc5eba",
   "metadata": {},
   "source": [
    "계산 결과가 독립적으로 계산됨"
   ]
  },
  {
   "cell_type": "markdown",
   "id": "ff352772",
   "metadata": {},
   "source": [
    "# 클래스 사용방법\n",
    "* 변수에 클래스를 담아서 인스턴트 생성\n",
    "* 공장에서 만든 커피머신을 사용자에게 배송\n",
    "* 인스턴스 변수명 = 클래스명()\n",
    "* 인스턴스를 생성하고 나면, 인스턴스 변수명, 메소드 형식으로 클래스에 정의한 메소드를 사용할수 있다."
   ]
  },
  {
   "cell_type": "markdown",
   "id": "bb7b438d",
   "metadata": {},
   "source": [
    "# 메소드(method)\n",
    "* 클래스 안에 정의하는 함수\n",
    "* 클래스에 기능을 만들어준다.\n",
    "* 함수랑 같음\n",
    "* 클래스에서 사용할때는 self를 붙여줌\n",
    "* def 메소드명(self, 매개변수1, *매개변수2=\"\", **kwargs 등): <br>\n",
    "  ____self,매개변수 = 매개변수"
   ]
  },
  {
   "cell_type": "markdown",
   "id": "dc6948fd",
   "metadata": {},
   "source": [
    "사칙연산이 가능한 계산기 만들기"
   ]
  },
  {
   "cell_type": "code",
   "execution_count": 26,
   "id": "52950cf8",
   "metadata": {},
   "outputs": [],
   "source": [
    "class FourCal():\n",
    "    # 데이터를 입력받는 역할의 setdata method\n",
    "    def setdata(self,num1,*num2):\n",
    "        self.num1 = num1\n",
    "        self.num2 = num2\n",
    "        print(\"self.num1\",self.num1)\n",
    "        print(\"self.num2\",self.num2)"
   ]
  },
  {
   "cell_type": "code",
   "execution_count": 27,
   "id": "97190904",
   "metadata": {},
   "outputs": [],
   "source": [
    "sam = FourCal()"
   ]
  },
  {
   "cell_type": "code",
   "execution_count": 28,
   "id": "fc6c516e",
   "metadata": {},
   "outputs": [
    {
     "name": "stdout",
     "output_type": "stream",
     "text": [
      "self.num1 4\n",
      "self.num2 (2, 3, 4, 5, 6)\n"
     ]
    }
   ],
   "source": [
    "sam.setdata(4,2,3,4,5,6)"
   ]
  },
  {
   "cell_type": "markdown",
   "id": "428bc219",
   "metadata": {},
   "source": [
    "왜 self를 쓸까? -> 정확하게 말하면 self가 인스턴스(사용자)를 뜻함\n",
    "어떤 인스턴트에서 사용되는지를 정의해야하기 때문에 인스턴트를 매개변수로 사용하기 위해서 self를 쓴다.\n",
    "* 누가 - 스스로"
   ]
  },
  {
   "cell_type": "code",
   "execution_count": 31,
   "id": "ab3c1c06",
   "metadata": {},
   "outputs": [],
   "source": [
    "class FourCal():\n",
    "    # 데이터를 입력받는 역할의 setdata method\n",
    "    def setdata(self,num1,num2):\n",
    "        self.num1 = num1\n",
    "        self.num2 = num2\n",
    "        print(\"self.num1\",self.num1)\n",
    "        print(\"self.num2\",self.num2)\n",
    "    #덧셈\n",
    "    def add(self):\n",
    "        result = self.num1 + self.num2\n",
    "        return result\n",
    "    #뺄셈\n",
    "    def sub(self):\n",
    "        result = self.num1 - self.num2\n",
    "        return result\n",
    "    #곱셈\n",
    "    def mul(self):\n",
    "        result = self.num1 * self.num2\n",
    "        return result\n",
    "    #나눗셈\n",
    "    def div(self):\n",
    "        result = self.num1 / self.num2\n",
    "        return result"
   ]
  },
  {
   "cell_type": "markdown",
   "id": "449c6bff",
   "metadata": {},
   "source": [
    "self를 쓰지 않으면 누가썼는지 알수 없다 필수요건"
   ]
  },
  {
   "cell_type": "code",
   "execution_count": 40,
   "id": "7f66182e",
   "metadata": {},
   "outputs": [],
   "source": [
    "sam = FourCal()"
   ]
  },
  {
   "cell_type": "code",
   "execution_count": 41,
   "id": "5b904339",
   "metadata": {},
   "outputs": [
    {
     "ename": "AttributeError",
     "evalue": "'FourCal' object has no attribute 'num1'",
     "output_type": "error",
     "traceback": [
      "\u001b[1;31m---------------------------------------------------------------------------\u001b[0m",
      "\u001b[1;31mAttributeError\u001b[0m                            Traceback (most recent call last)",
      "Cell \u001b[1;32mIn[41], line 1\u001b[0m\n\u001b[1;32m----> 1\u001b[0m \u001b[43msam\u001b[49m\u001b[38;5;241;43m.\u001b[39;49m\u001b[43madd\u001b[49m\u001b[43m(\u001b[49m\u001b[43m)\u001b[49m\n",
      "Cell \u001b[1;32mIn[31], line 10\u001b[0m, in \u001b[0;36mFourCal.add\u001b[1;34m(self)\u001b[0m\n\u001b[0;32m      9\u001b[0m \u001b[38;5;28;01mdef\u001b[39;00m\u001b[38;5;250m \u001b[39m\u001b[38;5;21madd\u001b[39m(\u001b[38;5;28mself\u001b[39m):\n\u001b[1;32m---> 10\u001b[0m     result \u001b[38;5;241m=\u001b[39m \u001b[38;5;28;43mself\u001b[39;49m\u001b[38;5;241;43m.\u001b[39;49m\u001b[43mnum1\u001b[49m \u001b[38;5;241m+\u001b[39m \u001b[38;5;28mself\u001b[39m\u001b[38;5;241m.\u001b[39mnum2\n\u001b[0;32m     11\u001b[0m     \u001b[38;5;28;01mreturn\u001b[39;00m result\n",
      "\u001b[1;31mAttributeError\u001b[0m: 'FourCal' object has no attribute 'num1'"
     ]
    }
   ],
   "source": [
    "sam.add()"
   ]
  },
  {
   "cell_type": "markdown",
   "id": "580b47b1",
   "metadata": {},
   "source": [
    "미리 데이터를 받지 않으면 사용할 수 없다."
   ]
  },
  {
   "cell_type": "code",
   "execution_count": 33,
   "id": "a56ee97b",
   "metadata": {},
   "outputs": [
    {
     "name": "stdout",
     "output_type": "stream",
     "text": [
      "self.num1 3\n",
      "self.num2 5\n"
     ]
    }
   ],
   "source": [
    "sam.setdata(3,5)"
   ]
  },
  {
   "cell_type": "code",
   "execution_count": 35,
   "id": "c0f436df",
   "metadata": {},
   "outputs": [
    {
     "data": {
      "text/plain": [
       "8"
      ]
     },
     "execution_count": 35,
     "metadata": {},
     "output_type": "execute_result"
    }
   ],
   "source": [
    "sam.add()"
   ]
  },
  {
   "cell_type": "code",
   "execution_count": 37,
   "id": "c8d9764e",
   "metadata": {},
   "outputs": [
    {
     "data": {
      "text/plain": [
       "-2"
      ]
     },
     "execution_count": 37,
     "metadata": {},
     "output_type": "execute_result"
    }
   ],
   "source": [
    "sam.sub()"
   ]
  },
  {
   "cell_type": "code",
   "execution_count": 38,
   "id": "6cccc020",
   "metadata": {},
   "outputs": [
    {
     "data": {
      "text/plain": [
       "15"
      ]
     },
     "execution_count": 38,
     "metadata": {},
     "output_type": "execute_result"
    }
   ],
   "source": [
    "sam.mul()"
   ]
  },
  {
   "cell_type": "code",
   "execution_count": 39,
   "id": "e1d5a761",
   "metadata": {},
   "outputs": [
    {
     "data": {
      "text/plain": [
       "0.6"
      ]
     },
     "execution_count": 39,
     "metadata": {},
     "output_type": "execute_result"
    }
   ],
   "source": [
    "sam.div()"
   ]
  },
  {
   "cell_type": "markdown",
   "id": "cac62140",
   "metadata": {},
   "source": [
    "# 생성자\n",
    "* 클래스를 실행해서 인스턴스를 만들때 초기값을 받도록 해주는 메소드\n",
    "* 생성자(constructor)는 객체(인스턴스)가 생성될 때 자동으로 호출되는 메서드 주로 초기값을 받을 때 사용\n",
    "* 클래스 내에서 메서드명으로 \\_\\_init\\_\\_를 사용하면 그것이 생성자가 된다.\n"
   ]
  },
  {
   "cell_type": "markdown",
   "id": "f7ce8db1",
   "metadata": {},
   "source": [
    "* 생성자를 이용해 초기값을 입력받는 FourCal2"
   ]
  },
  {
   "cell_type": "code",
   "execution_count": 15,
   "id": "ae5c5c4c",
   "metadata": {},
   "outputs": [],
   "source": [
    "class FourCal2():\n",
    "    def __init__(self, num1, num2):\n",
    "        self.num1 = num1\n",
    "        self.num2 = num2\n",
    "    def add(self):\n",
    "        result = self.num1 + self.num2\n",
    "        return result\n",
    "    def suv(self):\n",
    "        result = self.num1 - self.num2\n",
    "        return result\n",
    "    def mul(self):\n",
    "        result = self.num1 * self.num2\n",
    "        return result\n",
    "    def div(self):\n",
    "        result = self.num1 / self.num2\n",
    "        return result"
   ]
  },
  {
   "cell_type": "code",
   "execution_count": 16,
   "id": "77a91cf7",
   "metadata": {},
   "outputs": [
    {
     "ename": "TypeError",
     "evalue": "__init__() missing 2 required positional arguments: 'num1' and 'num2'",
     "output_type": "error",
     "traceback": [
      "\u001b[1;31m---------------------------------------------------------------------------\u001b[0m",
      "\u001b[1;31mTypeError\u001b[0m                                 Traceback (most recent call last)",
      "Cell \u001b[1;32mIn[16], line 1\u001b[0m\n\u001b[1;32m----> 1\u001b[0m gildong \u001b[38;5;241m=\u001b[39m \u001b[43mFourCal2\u001b[49m\u001b[43m(\u001b[49m\u001b[43m)\u001b[49m\n",
      "\u001b[1;31mTypeError\u001b[0m: __init__() missing 2 required positional arguments: 'num1' and 'num2'"
     ]
    }
   ],
   "source": [
    "gildong = FourCal2()"
   ]
  },
  {
   "cell_type": "code",
   "execution_count": 17,
   "id": "684aac98",
   "metadata": {},
   "outputs": [],
   "source": [
    "gildong = FourCal2(3, 5)"
   ]
  },
  {
   "cell_type": "code",
   "execution_count": 18,
   "id": "2953d26b",
   "metadata": {},
   "outputs": [
    {
     "data": {
      "text/plain": [
       "8"
      ]
     },
     "execution_count": 18,
     "metadata": {},
     "output_type": "execute_result"
    }
   ],
   "source": [
    "gildong.add()"
   ]
  },
  {
   "cell_type": "code",
   "execution_count": 79,
   "id": "9af911ac",
   "metadata": {},
   "outputs": [
    {
     "data": {
      "text/plain": [
       "-2"
      ]
     },
     "execution_count": 79,
     "metadata": {},
     "output_type": "execute_result"
    }
   ],
   "source": [
    "gildong.suv()"
   ]
  },
  {
   "cell_type": "code",
   "execution_count": 80,
   "id": "0bca8042",
   "metadata": {},
   "outputs": [
    {
     "ename": "TypeError",
     "evalue": "div() takes 1 positional argument but 3 were given",
     "output_type": "error",
     "traceback": [
      "\u001b[1;31m---------------------------------------------------------------------------\u001b[0m",
      "\u001b[1;31mTypeError\u001b[0m                                 Traceback (most recent call last)",
      "Cell \u001b[1;32mIn[80], line 1\u001b[0m\n\u001b[1;32m----> 1\u001b[0m \u001b[43mgildong\u001b[49m\u001b[38;5;241;43m.\u001b[39;49m\u001b[43mdiv\u001b[49m\u001b[43m(\u001b[49m\u001b[38;5;241;43m3\u001b[39;49m\u001b[43m,\u001b[49m\u001b[38;5;241;43m4\u001b[39;49m\u001b[43m)\u001b[49m\n",
      "\u001b[1;31mTypeError\u001b[0m: div() takes 1 positional argument but 3 were given"
     ]
    }
   ],
   "source": [
    "gildong.div(3,4)"
   ]
  },
  {
   "cell_type": "code",
   "execution_count": 54,
   "id": "02b8b950",
   "metadata": {},
   "outputs": [],
   "source": [
    "class FourCal3():\n",
    "    def __init__(self):\n",
    "        self.num1 = 0\n",
    "        self.num2 = 0\n",
    "    def add(self,num1,num2):\n",
    "        self.num1 = num1\n",
    "        self.num1 = num2\n",
    "        result = self.num1 + self.num2\n",
    "        return result\n",
    "    def suv(self):\n",
    "        result = self.num1 - self.num2\n",
    "        return result\n",
    "    def mul(self):\n",
    "        result = self.num1 * self.num2\n",
    "        return result\n",
    "    def div(self):\n",
    "        result = self.num1 / self.num2\n",
    "        return result"
   ]
  },
  {
   "cell_type": "code",
   "execution_count": 55,
   "id": "801e7051",
   "metadata": {},
   "outputs": [],
   "source": [
    "sally = FourCal3()"
   ]
  },
  {
   "cell_type": "code",
   "execution_count": 56,
   "id": "b7f70404",
   "metadata": {},
   "outputs": [
    {
     "data": {
      "text/plain": [
       "5"
      ]
     },
     "execution_count": 56,
     "metadata": {},
     "output_type": "execute_result"
    }
   ],
   "source": [
    "sally.add(4,5)"
   ]
  },
  {
   "cell_type": "code",
   "execution_count": 59,
   "id": "eb414fd4",
   "metadata": {},
   "outputs": [
    {
     "ename": "TypeError",
     "evalue": "suv() takes 1 positional argument but 3 were given",
     "output_type": "error",
     "traceback": [
      "\u001b[1;31m---------------------------------------------------------------------------\u001b[0m",
      "\u001b[1;31mTypeError\u001b[0m                                 Traceback (most recent call last)",
      "Cell \u001b[1;32mIn[59], line 1\u001b[0m\n\u001b[1;32m----> 1\u001b[0m \u001b[43msally\u001b[49m\u001b[38;5;241;43m.\u001b[39;49m\u001b[43msuv\u001b[49m\u001b[43m(\u001b[49m\u001b[38;5;241;43m4\u001b[39;49m\u001b[43m,\u001b[49m\u001b[38;5;241;43m6\u001b[39;49m\u001b[43m)\u001b[49m\n",
      "\u001b[1;31mTypeError\u001b[0m: suv() takes 1 positional argument but 3 were given"
     ]
    }
   ],
   "source": [
    "sally.suv(4,6)"
   ]
  },
  {
   "cell_type": "markdown",
   "id": "d0dc0af8",
   "metadata": {},
   "source": [
    "# 클래스의 상속\n",
    "* 어떤 클래스를 만들떄 다른 클래스의 기능을 물려받는 것\n",
    "* 기존 클래스에 기능을 추가할 때\n",
    "* A클래스는 상속받아 B클래스를 생성한다고 할떄\n",
    "* B클래스는 A클래스의 모든 기능을 사용할 수 있다."
   ]
  },
  {
   "cell_type": "code",
   "execution_count": 67,
   "id": "4b481f8b",
   "metadata": {},
   "outputs": [],
   "source": [
    "class MoreFourCal(FourCal2):\n",
    "    def pow(self):\n",
    "        result = self.num1 **self.num2\n",
    "        return result"
   ]
  },
  {
   "cell_type": "code",
   "execution_count": 87,
   "id": "d2a329fd",
   "metadata": {},
   "outputs": [],
   "source": [
    "dul = MoreFourCal(2,3)"
   ]
  },
  {
   "cell_type": "code",
   "execution_count": 88,
   "id": "0d969fec",
   "metadata": {},
   "outputs": [
    {
     "data": {
      "text/plain": [
       "8"
      ]
     },
     "execution_count": 88,
     "metadata": {},
     "output_type": "execute_result"
    }
   ],
   "source": [
    "dul.pow()"
   ]
  },
  {
   "cell_type": "code",
   "execution_count": 91,
   "id": "e7a2d259",
   "metadata": {},
   "outputs": [
    {
     "data": {
      "text/plain": [
       "-1"
      ]
     },
     "execution_count": 91,
     "metadata": {},
     "output_type": "execute_result"
    }
   ],
   "source": [
    "dul.suv()"
   ]
  },
  {
   "cell_type": "markdown",
   "id": "ab358fb8",
   "metadata": {},
   "source": [
    "코드의 재사용성 올라감"
   ]
  },
  {
   "cell_type": "markdown",
   "id": "142e2fc9",
   "metadata": {},
   "source": [
    "self를 입력해야한다는 것은 self외에 다른것도 있는지"
   ]
  },
  {
   "cell_type": "markdown",
   "id": "7fac8359",
   "metadata": {},
   "source": [
    "# 메서드 오버라이딩 (method overriding)\n",
    "* 부모에게 상속받은 메서드를 자식클래스에서 동일한 이름으로 재정의"
   ]
  },
  {
   "cell_type": "code",
   "execution_count": 92,
   "id": "e2f18ea0",
   "metadata": {},
   "outputs": [],
   "source": [
    "kim = MoreFourCal(2,0)"
   ]
  },
  {
   "cell_type": "code",
   "execution_count": 93,
   "id": "23777be2",
   "metadata": {},
   "outputs": [
    {
     "data": {
      "text/plain": [
       "2"
      ]
     },
     "execution_count": 93,
     "metadata": {},
     "output_type": "execute_result"
    }
   ],
   "source": [
    "kim.add()"
   ]
  },
  {
   "cell_type": "code",
   "execution_count": 95,
   "id": "ccc53d64",
   "metadata": {},
   "outputs": [
    {
     "ename": "ZeroDivisionError",
     "evalue": "division by zero",
     "output_type": "error",
     "traceback": [
      "\u001b[1;31m---------------------------------------------------------------------------\u001b[0m",
      "\u001b[1;31mZeroDivisionError\u001b[0m                         Traceback (most recent call last)",
      "Cell \u001b[1;32mIn[95], line 1\u001b[0m\n\u001b[1;32m----> 1\u001b[0m \u001b[43mkim\u001b[49m\u001b[38;5;241;43m.\u001b[39;49m\u001b[43mdiv\u001b[49m\u001b[43m(\u001b[49m\u001b[43m)\u001b[49m\n",
      "Cell \u001b[1;32mIn[74], line 15\u001b[0m, in \u001b[0;36mFourCal2.div\u001b[1;34m(self)\u001b[0m\n\u001b[0;32m     14\u001b[0m \u001b[38;5;28;01mdef\u001b[39;00m\u001b[38;5;250m \u001b[39m\u001b[38;5;21mdiv\u001b[39m(\u001b[38;5;28mself\u001b[39m):\n\u001b[1;32m---> 15\u001b[0m     result \u001b[38;5;241m=\u001b[39m \u001b[38;5;28;43mself\u001b[39;49m\u001b[38;5;241;43m.\u001b[39;49m\u001b[43mnum1\u001b[49m\u001b[43m \u001b[49m\u001b[38;5;241;43m/\u001b[39;49m\u001b[43m \u001b[49m\u001b[38;5;28;43mself\u001b[39;49m\u001b[38;5;241;43m.\u001b[39;49m\u001b[43mnum2\u001b[49m\n\u001b[0;32m     16\u001b[0m     \u001b[38;5;28;01mreturn\u001b[39;00m result\n",
      "\u001b[1;31mZeroDivisionError\u001b[0m: division by zero"
     ]
    }
   ],
   "source": [
    "kim.div()"
   ]
  },
  {
   "cell_type": "markdown",
   "id": "fe8bb22d",
   "metadata": {},
   "source": [
    "ForCal2는 num2에 0이 입력될 경우 div메서드 실행시 0으로 나누게 되기 떄문에 에러발생\n",
    "* SafeFourCal를 만들고 FourCal2를 상속받은 후 div함수를 재정의하여 에러를 없앰"
   ]
  },
  {
   "cell_type": "code",
   "execution_count": 83,
   "id": "59064546",
   "metadata": {},
   "outputs": [],
   "source": [
    "class SafeFourCal(FourCal2):\n",
    "    def div(self):\n",
    "        if self.num2 == 0:\n",
    "            return 0\n",
    "        else :\n",
    "            return self.num1/ self.num2"
   ]
  },
  {
   "cell_type": "code",
   "execution_count": 96,
   "id": "86dd853e",
   "metadata": {},
   "outputs": [],
   "source": [
    "kim = SafeFourCal(2,0)"
   ]
  },
  {
   "cell_type": "code",
   "execution_count": 97,
   "id": "faa72ad3",
   "metadata": {},
   "outputs": [
    {
     "data": {
      "text/plain": [
       "0"
      ]
     },
     "execution_count": 97,
     "metadata": {},
     "output_type": "execute_result"
    }
   ],
   "source": [
    "kim.div()"
   ]
  },
  {
   "cell_type": "markdown",
   "id": "702f9763",
   "metadata": {},
   "source": [
    "원래 껀 오류나는 기능 그대로이기 떄문에.\n",
    "이전걸로 바꾸면 다시 오류난다"
   ]
  },
  {
   "cell_type": "markdown",
   "id": "2a19a88e",
   "metadata": {},
   "source": [
    "# 메서드 오버로딩\n",
    "* 한 클래스 안에서 동일 메서드의 기능을 다르게 재정의 \n",
    "* 동일한 이름의 메서드가 기능이 약간 변경된 채로 여러개 존재\n",
    "* def add(num1,num2)\n",
    "* def add(num1,num2,num3)\n",
    "* def add(num1,num2,num3,num4)"
   ]
  },
  {
   "cell_type": "code",
   "execution_count": 98,
   "id": "66492afb",
   "metadata": {},
   "outputs": [],
   "source": [
    "class OverloadingEx():\n",
    "    def add(self,x,y):\n",
    "        return x + y\n",
    "    def add(self,x,y,z):\n",
    "        return x + y + z\n",
    "    def add(self, x, y, z, a):\n",
    "        return x + y + z + a"
   ]
  },
  {
   "cell_type": "code",
   "execution_count": 99,
   "id": "13bf0fb3",
   "metadata": {},
   "outputs": [],
   "source": [
    "sam = OverloadingEx()"
   ]
  },
  {
   "cell_type": "code",
   "execution_count": 100,
   "id": "553b31d3",
   "metadata": {},
   "outputs": [
    {
     "ename": "TypeError",
     "evalue": "add() missing 2 required positional arguments: 'z' and 'a'",
     "output_type": "error",
     "traceback": [
      "\u001b[1;31m---------------------------------------------------------------------------\u001b[0m",
      "\u001b[1;31mTypeError\u001b[0m                                 Traceback (most recent call last)",
      "Cell \u001b[1;32mIn[100], line 1\u001b[0m\n\u001b[1;32m----> 1\u001b[0m \u001b[43msam\u001b[49m\u001b[38;5;241;43m.\u001b[39;49m\u001b[43madd\u001b[49m\u001b[43m(\u001b[49m\u001b[38;5;241;43m10\u001b[39;49m\u001b[43m,\u001b[49m\u001b[38;5;241;43m20\u001b[39;49m\u001b[43m)\u001b[49m\n",
      "\u001b[1;31mTypeError\u001b[0m: add() missing 2 required positional arguments: 'z' and 'a'"
     ]
    }
   ],
   "source": [
    "sam.add(10,20)"
   ]
  },
  {
   "cell_type": "markdown",
   "id": "b15d40af",
   "metadata": {},
   "source": [
    "multipledispatch 패키지를 통한 메서드 오버로딩"
   ]
  },
  {
   "cell_type": "markdown",
   "id": "c724bd3c",
   "metadata": {},
   "source": [
    "!pip install multipledispatch"
   ]
  },
  {
   "cell_type": "code",
   "execution_count": 102,
   "id": "e0ce7b75",
   "metadata": {},
   "outputs": [],
   "source": [
    "from multipledispatch import dispatch"
   ]
  },
  {
   "cell_type": "code",
   "execution_count": 103,
   "id": "8b761ee4",
   "metadata": {},
   "outputs": [],
   "source": [
    "class OverloadingEx2():\n",
    "    @dispatch(int,int)\n",
    "    def add(self,x,y):\n",
    "        return x + y\n",
    "    @dispatch(int,int,int)\n",
    "    def add(self,x,y,z):\n",
    "        return x + y + z\n",
    "    @dispatch(int,int,int,int)\n",
    "    def add(self,x,y,z,a):\n",
    "        return x + y + z -a\n",
    "    @dispatch(float,float,float,float)\n",
    "    def add(self,x,y,z,a):\n",
    "        return (x + y)-(z*a)"
   ]
  },
  {
   "cell_type": "markdown",
   "id": "346c0634",
   "metadata": {},
   "source": [
    "@dispatch -> 데코레이터. 함수. 아래껄 받아서 다시 리턴"
   ]
  },
  {
   "cell_type": "code",
   "execution_count": 104,
   "id": "1eed1f87",
   "metadata": {},
   "outputs": [],
   "source": [
    "sam = OverloadingEx2()"
   ]
  },
  {
   "cell_type": "code",
   "execution_count": 105,
   "id": "cd358ad2",
   "metadata": {},
   "outputs": [
    {
     "data": {
      "text/plain": [
       "5"
      ]
     },
     "execution_count": 105,
     "metadata": {},
     "output_type": "execute_result"
    }
   ],
   "source": [
    "sam.add(2,3)"
   ]
  },
  {
   "cell_type": "code",
   "execution_count": 106,
   "id": "82ece2fa",
   "metadata": {},
   "outputs": [
    {
     "data": {
      "text/plain": [
       "9"
      ]
     },
     "execution_count": 106,
     "metadata": {},
     "output_type": "execute_result"
    }
   ],
   "source": [
    "sam.add(2,3,4)"
   ]
  },
  {
   "cell_type": "code",
   "execution_count": 107,
   "id": "037a9d80",
   "metadata": {},
   "outputs": [
    {
     "data": {
      "text/plain": [
       "8"
      ]
     },
     "execution_count": 107,
     "metadata": {},
     "output_type": "execute_result"
    }
   ],
   "source": [
    "sam.add(2,3,4,1)"
   ]
  },
  {
   "cell_type": "code",
   "execution_count": 108,
   "id": "48e16a7c",
   "metadata": {},
   "outputs": [
    {
     "data": {
      "text/plain": [
       "-7.0"
      ]
     },
     "execution_count": 108,
     "metadata": {},
     "output_type": "execute_result"
    }
   ],
   "source": [
    "sam.add(2.0,3.0,3.0,4.0)"
   ]
  },
  {
   "cell_type": "code",
   "execution_count": 109,
   "id": "95d6289d",
   "metadata": {},
   "outputs": [
    {
     "ename": "NotImplementedError",
     "evalue": "Could not find signature for add: <int, float>",
     "output_type": "error",
     "traceback": [
      "\u001b[1;31m---------------------------------------------------------------------------\u001b[0m",
      "\u001b[1;31mNotImplementedError\u001b[0m                       Traceback (most recent call last)",
      "Cell \u001b[1;32mIn[109], line 1\u001b[0m\n\u001b[1;32m----> 1\u001b[0m \u001b[43msam\u001b[49m\u001b[38;5;241;43m.\u001b[39;49m\u001b[43madd\u001b[49m\u001b[43m(\u001b[49m\u001b[38;5;241;43m2\u001b[39;49m\u001b[43m,\u001b[49m\u001b[38;5;241;43m3.0\u001b[39;49m\u001b[43m)\u001b[49m\n",
      "File \u001b[1;32m~\\miniforge3\\envs\\fintech\\lib\\site-packages\\multipledispatch\\dispatcher.py:435\u001b[0m, in \u001b[0;36mMethodDispatcher.__call__\u001b[1;34m(self, *args, **kwargs)\u001b[0m\n\u001b[0;32m    433\u001b[0m func \u001b[38;5;241m=\u001b[39m \u001b[38;5;28mself\u001b[39m\u001b[38;5;241m.\u001b[39mdispatch(\u001b[38;5;241m*\u001b[39mtypes)\n\u001b[0;32m    434\u001b[0m \u001b[38;5;28;01mif\u001b[39;00m \u001b[38;5;129;01mnot\u001b[39;00m func:\n\u001b[1;32m--> 435\u001b[0m     \u001b[38;5;28;01mraise\u001b[39;00m \u001b[38;5;167;01mNotImplementedError\u001b[39;00m(\n\u001b[0;32m    436\u001b[0m         \u001b[38;5;124m\"\u001b[39m\u001b[38;5;124mCould not find signature for \u001b[39m\u001b[38;5;132;01m%s\u001b[39;00m\u001b[38;5;124m: <\u001b[39m\u001b[38;5;132;01m%s\u001b[39;00m\u001b[38;5;124m>\u001b[39m\u001b[38;5;124m\"\u001b[39m\n\u001b[0;32m    437\u001b[0m         \u001b[38;5;241m%\u001b[39m (\u001b[38;5;28mself\u001b[39m\u001b[38;5;241m.\u001b[39mname, str_signature(types))\n\u001b[0;32m    438\u001b[0m     )\n\u001b[0;32m    439\u001b[0m \u001b[38;5;28;01mreturn\u001b[39;00m func(\u001b[38;5;28mself\u001b[39m\u001b[38;5;241m.\u001b[39mobj, \u001b[38;5;241m*\u001b[39margs, \u001b[38;5;241m*\u001b[39m\u001b[38;5;241m*\u001b[39mkwargs)\n",
      "\u001b[1;31mNotImplementedError\u001b[0m: Could not find signature for add: <int, float>"
     ]
    }
   ],
   "source": [
    "sam.add(2,3.0)"
   ]
  },
  {
   "cell_type": "markdown",
   "id": "25ecb6e8",
   "metadata": {},
   "source": [
    "# 클래스 속성과 인스턴트 속성\n",
    "* 클래스 속성: 클래스 전체에서 공유하는 속성(변수), 모든 인스턴스에서 공유\n",
    "* 인스턴스 속성: 인스턴스에서만 사용하는 속성, 인스턴스간 공유 안됨."
   ]
  },
  {
   "cell_type": "code",
   "execution_count": 114,
   "id": "d0a5da88",
   "metadata": {},
   "outputs": [],
   "source": [
    "class Family():\n",
    "    lastname = \"김\" #클래스 초기화 속성값"
   ]
  },
  {
   "cell_type": "code",
   "execution_count": 111,
   "id": "689133ab",
   "metadata": {},
   "outputs": [],
   "source": [
    "kim = Family()"
   ]
  },
  {
   "cell_type": "code",
   "execution_count": 112,
   "id": "8c9659a4",
   "metadata": {},
   "outputs": [
    {
     "data": {
      "text/plain": [
       "'김'"
      ]
     },
     "execution_count": 112,
     "metadata": {},
     "output_type": "execute_result"
    }
   ],
   "source": [
    "kim.lastname"
   ]
  },
  {
   "cell_type": "code",
   "execution_count": 115,
   "id": "70b5b1eb",
   "metadata": {},
   "outputs": [],
   "source": [
    "park = Family()\n",
    "park.lastname = \"박\""
   ]
  },
  {
   "cell_type": "code",
   "execution_count": 116,
   "id": "ff192633",
   "metadata": {},
   "outputs": [
    {
     "data": {
      "text/plain": [
       "'박'"
      ]
     },
     "execution_count": 116,
     "metadata": {},
     "output_type": "execute_result"
    }
   ],
   "source": [
    "park.lastname"
   ]
  },
  {
   "cell_type": "code",
   "execution_count": 118,
   "id": "7802ab51",
   "metadata": {
    "scrolled": true
   },
   "outputs": [
    {
     "data": {
      "text/plain": [
       "'김'"
      ]
     },
     "execution_count": 118,
     "metadata": {},
     "output_type": "execute_result"
    }
   ],
   "source": [
    "kim.lastname"
   ]
  },
  {
   "cell_type": "code",
   "execution_count": 125,
   "id": "929c2881",
   "metadata": {},
   "outputs": [
    {
     "data": {
      "text/plain": [
       "'김'"
      ]
     },
     "execution_count": 125,
     "metadata": {},
     "output_type": "execute_result"
    }
   ],
   "source": [
    "sally = Family()\n",
    "sally.lastname"
   ]
  },
  {
   "cell_type": "markdown",
   "id": "a91c3752",
   "metadata": {},
   "source": [
    "# 비공개 클래스 속성\n",
    "* \\_\\_변수명 - 비공개 속성\n",
    "* 보안이 필요해서 남들에게 정보를 노출하고 싶지 않을 때 사용"
   ]
  },
  {
   "cell_type": "code",
   "execution_count": 126,
   "id": "f676038e",
   "metadata": {},
   "outputs": [],
   "source": [
    "class Plnfo():\n",
    "    lastname = \"홍\"\n",
    "    __first_name = \"길동\"\n",
    "    __password = \"9513\""
   ]
  },
  {
   "cell_type": "code",
   "execution_count": 127,
   "id": "17af756b",
   "metadata": {},
   "outputs": [],
   "source": [
    "kim = Plnfo()"
   ]
  },
  {
   "cell_type": "code",
   "execution_count": 128,
   "id": "b1bf600f",
   "metadata": {},
   "outputs": [
    {
     "ename": "AttributeError",
     "evalue": "'Plnfo' object has no attribute '__first_name'",
     "output_type": "error",
     "traceback": [
      "\u001b[1;31m---------------------------------------------------------------------------\u001b[0m",
      "\u001b[1;31mAttributeError\u001b[0m                            Traceback (most recent call last)",
      "Cell \u001b[1;32mIn[128], line 1\u001b[0m\n\u001b[1;32m----> 1\u001b[0m \u001b[43mkim\u001b[49m\u001b[38;5;241;43m.\u001b[39;49m\u001b[43m__first_name\u001b[49m\n",
      "\u001b[1;31mAttributeError\u001b[0m: 'Plnfo' object has no attribute '__first_name'"
     ]
    }
   ],
   "source": [
    "kim.__first_name"
   ]
  },
  {
   "cell_type": "code",
   "execution_count": 129,
   "id": "e7fdb615",
   "metadata": {},
   "outputs": [
    {
     "ename": "AttributeError",
     "evalue": "'Plnfo' object has no attribute '__password'",
     "output_type": "error",
     "traceback": [
      "\u001b[1;31m---------------------------------------------------------------------------\u001b[0m",
      "\u001b[1;31mAttributeError\u001b[0m                            Traceback (most recent call last)",
      "Cell \u001b[1;32mIn[129], line 1\u001b[0m\n\u001b[1;32m----> 1\u001b[0m \u001b[43mkim\u001b[49m\u001b[38;5;241;43m.\u001b[39;49m\u001b[43m__password\u001b[49m\n",
      "\u001b[1;31mAttributeError\u001b[0m: 'Plnfo' object has no attribute '__password'"
     ]
    }
   ],
   "source": [
    "kim.__password"
   ]
  },
  {
   "cell_type": "code",
   "execution_count": 130,
   "id": "b4c2397d",
   "metadata": {},
   "outputs": [
    {
     "data": {
      "text/plain": [
       "'홍'"
      ]
     },
     "execution_count": 130,
     "metadata": {},
     "output_type": "execute_result"
    }
   ],
   "source": [
    "kim.lastname"
   ]
  },
  {
   "cell_type": "code",
   "execution_count": 131,
   "id": "af1b6c2f",
   "metadata": {},
   "outputs": [],
   "source": [
    "kim.lastname = \"김\""
   ]
  },
  {
   "cell_type": "code",
   "execution_count": 132,
   "id": "07c660af",
   "metadata": {},
   "outputs": [
    {
     "data": {
      "text/plain": [
       "'김'"
      ]
     },
     "execution_count": 132,
     "metadata": {},
     "output_type": "execute_result"
    }
   ],
   "source": [
    "kim.lastname"
   ]
  },
  {
   "cell_type": "markdown",
   "id": "095ea6f7",
   "metadata": {},
   "source": [
    "* 비공개 클래스 속성을 직접 출력하려고 하면 에러\n",
    "* 클래스 내에서 메서드를 만들어서 출력하면 출력이 가능"
   ]
  },
  {
   "cell_type": "code",
   "execution_count": 143,
   "id": "0e73fcea",
   "metadata": {},
   "outputs": [],
   "source": [
    "class Plnfo():\n",
    "    lastname = \"홍\"\n",
    "    __first_name = \"길동\"\n",
    "    __password = \"9513\"\n",
    "    def print_name(self):\n",
    "        print(self.__first_name)\n",
    "    def print_password(self):\n",
    "        print(self.__password)"
   ]
  },
  {
   "cell_type": "markdown",
   "id": "4e38e0bb",
   "metadata": {},
   "source": []
  },
  {
   "cell_type": "code",
   "execution_count": 144,
   "id": "c27e978b",
   "metadata": {},
   "outputs": [],
   "source": [
    "sam = Plnfo()"
   ]
  },
  {
   "cell_type": "code",
   "execution_count": 145,
   "id": "ea2fbaaa",
   "metadata": {},
   "outputs": [
    {
     "name": "stdout",
     "output_type": "stream",
     "text": [
      "길동\n"
     ]
    }
   ],
   "source": [
    "sam.print_name()"
   ]
  },
  {
   "cell_type": "code",
   "execution_count": 146,
   "id": "990875c5",
   "metadata": {},
   "outputs": [
    {
     "name": "stdout",
     "output_type": "stream",
     "text": [
      "9513\n"
     ]
    }
   ],
   "source": [
    "sam.print_password()"
   ]
  },
  {
   "cell_type": "markdown",
   "id": "b20f7b40",
   "metadata": {},
   "source": [
    "# 정적메서드 static method\n",
    "* 인스턴트를 만들지 않고도 클래스의 메서드를 바로 사용할 수 있는 메서드\n",
    "* 메서드 위에 @staticmethod라는 데코레이터를 붙여서 만든다.\n",
    "* static method는 self를 받지 않으므로 인스턴트 속성, 인스턴트 메서드가 필요하지 않을 때 사용."
   ]
  },
  {
   "cell_type": "code",
   "execution_count": 147,
   "id": "14ebf522",
   "metadata": {},
   "outputs": [],
   "source": [
    "class Cal():\n",
    "    @staticmethod\n",
    "    def add(a,b):\n",
    "        print(a+b)\n",
    "    @staticmethod\n",
    "    def sub(a,b):\n",
    "        print(a-b)"
   ]
  },
  {
   "cell_type": "code",
   "execution_count": 148,
   "id": "6563f8ca",
   "metadata": {},
   "outputs": [],
   "source": [
    "sam = Cal()"
   ]
  },
  {
   "cell_type": "code",
   "execution_count": 149,
   "id": "cbe524b0",
   "metadata": {},
   "outputs": [
    {
     "name": "stdout",
     "output_type": "stream",
     "text": [
      "9\n"
     ]
    }
   ],
   "source": [
    "sam.add(4,5)"
   ]
  },
  {
   "cell_type": "code",
   "execution_count": 150,
   "id": "02beabf0",
   "metadata": {},
   "outputs": [],
   "source": [
    "sally = Cal()"
   ]
  },
  {
   "cell_type": "code",
   "execution_count": 151,
   "id": "79f7e04a",
   "metadata": {},
   "outputs": [
    {
     "name": "stdout",
     "output_type": "stream",
     "text": [
      "13\n"
     ]
    }
   ],
   "source": [
    "sally.add(10,3)"
   ]
  },
  {
   "cell_type": "code",
   "execution_count": 152,
   "id": "8023886e",
   "metadata": {},
   "outputs": [
    {
     "name": "stdout",
     "output_type": "stream",
     "text": [
      "7\n"
     ]
    }
   ],
   "source": [
    "sally.add(4,3)"
   ]
  },
  {
   "cell_type": "markdown",
   "id": "c8547d07",
   "metadata": {},
   "source": [
    "일반 함수처럼 쓰인다"
   ]
  },
  {
   "cell_type": "markdown",
   "id": "12c25b02",
   "metadata": {},
   "source": [
    "그럼 함수 쓰지 이걸 왜쓰지?"
   ]
  },
  {
   "cell_type": "code",
   "execution_count": 153,
   "id": "9d913eda",
   "metadata": {},
   "outputs": [
    {
     "name": "stdout",
     "output_type": "stream",
     "text": [
      "15\n"
     ]
    }
   ],
   "source": [
    "Cal.add(10,5)"
   ]
  },
  {
   "cell_type": "markdown",
   "id": "6f9e422a",
   "metadata": {},
   "source": [
    "그냥 쓸수도 있다"
   ]
  },
  {
   "cell_type": "markdown",
   "id": "2af5c9e1",
   "metadata": {},
   "source": [
    "# 클래스 메서드 class method\n",
    "* 메서드 위에 @classmethod를 붙여서 만든다. \n",
    "* 클래스 메서드의 첫 번째 매개변수에는 cls를 지정해야한다. \n",
    "* 클래스 메서드도 staticmethod처럼 인스턴트 생성 없이 호출이 가능하다.\n",
    "* 클래스 메서드는 메서드 안에서 클래스 속성, 클래스 메서드에 접근해야할 때 사용한다. "
   ]
  },
  {
   "cell_type": "code",
   "execution_count": 164,
   "id": "dae9ad67",
   "metadata": {},
   "outputs": [],
   "source": [
    "class Factory():\n",
    "    n_coffee_machine = 0 #클래스 속성\n",
    "    \n",
    "    def __init__(self):\n",
    "        #인스턴스가 생성될 떄 클래스속성에 1을 더함.\n",
    "        Factory.n_coffee_machine += 1 \n",
    "    \n",
    "    @classmethod\n",
    "    def print_n_coffee_machin(cls):\n",
    "        print(f\"{cls.n_coffee_machine}개가 제조되었습니다.\")"
   ]
  },
  {
   "cell_type": "code",
   "execution_count": 173,
   "id": "0b4e7be0",
   "metadata": {},
   "outputs": [
    {
     "name": "stdout",
     "output_type": "stream",
     "text": [
      "4개가 제조되었습니다.\n"
     ]
    }
   ],
   "source": [
    "Factory.print_n_coffee_machin()"
   ]
  },
  {
   "cell_type": "code",
   "execution_count": 168,
   "id": "403195a7",
   "metadata": {},
   "outputs": [],
   "source": [
    "sam = Factory()"
   ]
  },
  {
   "cell_type": "code",
   "execution_count": 170,
   "id": "8bacaf34",
   "metadata": {},
   "outputs": [],
   "source": [
    "sally = Factory()"
   ]
  },
  {
   "cell_type": "code",
   "execution_count": 172,
   "id": "54bf890d",
   "metadata": {},
   "outputs": [],
   "source": [
    "bob = Factory()"
   ]
  },
  {
   "cell_type": "markdown",
   "id": "73bc1b20",
   "metadata": {},
   "source": [
    "# 추상 클래스 abc(abstract base class)\n",
    "* abc 모듈 필요\n",
    "* 추상클래스는 추상클래스를 상속받아 클래스를 만들 때 반드시 만들어야하는 메소드를 지정해주는 클래스\n",
    "* 인터페이스\n",
    "* 규칙을 부여해서 그 규칙에 따라 클래스를 만들도록 강제함\n",
    "* 추상 클래스를 상속받은 클래스는 반드시 추상클래스에서 정의한 메소드를 overriding으로 구현해야한다.\n",
    "* 이력서 양식에 맞추어 내용 적기"
   ]
  },
  {
   "cell_type": "code",
   "execution_count": 182,
   "id": "b03c2808",
   "metadata": {},
   "outputs": [],
   "source": [
    "from abc import *"
   ]
  },
  {
   "cell_type": "code",
   "execution_count": 196,
   "id": "df73e106",
   "metadata": {},
   "outputs": [],
   "source": [
    "# 추상클래스\n",
    "class CoffeeBase(metaclass=ABCMeta):\n",
    "    @abstractmethod\n",
    "    def bean_input(self):\n",
    "        pass\n",
    "    @abstractmethod\n",
    "    def grind(self):\n",
    "        pass"
   ]
  },
  {
   "cell_type": "code",
   "execution_count": 187,
   "id": "01455fc5",
   "metadata": {},
   "outputs": [
    {
     "ename": "TypeError",
     "evalue": "Can't instantiate abstract class CoffeeBase with abstract methods bean_input, grind",
     "output_type": "error",
     "traceback": [
      "\u001b[1;31m---------------------------------------------------------------------------\u001b[0m",
      "\u001b[1;31mTypeError\u001b[0m                                 Traceback (most recent call last)",
      "Cell \u001b[1;32mIn[187], line 2\u001b[0m\n\u001b[0;32m      1\u001b[0m \u001b[38;5;66;03m#추상클래스는 인스턴트 생성 불가\u001b[39;00m\n\u001b[1;32m----> 2\u001b[0m sam \u001b[38;5;241m=\u001b[39m \u001b[43mCoffeeBase\u001b[49m\u001b[43m(\u001b[49m\u001b[43m)\u001b[49m\n",
      "\u001b[1;31mTypeError\u001b[0m: Can't instantiate abstract class CoffeeBase with abstract methods bean_input, grind"
     ]
    }
   ],
   "source": [
    "#추상클래스는 인스턴트 생성 불가\n",
    "sam = CoffeeBase()"
   ]
  },
  {
   "cell_type": "code",
   "execution_count": 199,
   "id": "17b7bfbe",
   "metadata": {},
   "outputs": [],
   "source": [
    "class CoffeeBase2(CoffeeBase):\n",
    "    def bean_input(self):\n",
    "        print('커피 원두 넣기')\n",
    "    def grind(self):\n",
    "        print('커피 원두 갈기')"
   ]
  },
  {
   "cell_type": "code",
   "execution_count": 200,
   "id": "ee61e6f2",
   "metadata": {},
   "outputs": [],
   "source": [
    "sam = CoffeeBase2()"
   ]
  },
  {
   "cell_type": "code",
   "execution_count": 202,
   "id": "a31f70d1",
   "metadata": {},
   "outputs": [
    {
     "name": "stdout",
     "output_type": "stream",
     "text": [
      "커피 원두 넣기\n"
     ]
    }
   ],
   "source": [
    "sam.bean_input()"
   ]
  },
  {
   "cell_type": "code",
   "execution_count": 203,
   "id": "7cc8ba6b",
   "metadata": {},
   "outputs": [
    {
     "name": "stdout",
     "output_type": "stream",
     "text": [
      "커피 원두 갈기\n"
     ]
    }
   ],
   "source": [
    "sam.grind()"
   ]
  },
  {
   "cell_type": "code",
   "execution_count": null,
   "id": "e61e8158",
   "metadata": {},
   "outputs": [],
   "source": []
  }
 ],
 "metadata": {
  "kernelspec": {
   "display_name": "Python 3 (ipykernel)",
   "language": "python",
   "name": "python3"
  },
  "language_info": {
   "codemirror_mode": {
    "name": "ipython",
    "version": 3
   },
   "file_extension": ".py",
   "mimetype": "text/x-python",
   "name": "python",
   "nbconvert_exporter": "python",
   "pygments_lexer": "ipython3",
   "version": "3.9.21"
  }
 },
 "nbformat": 4,
 "nbformat_minor": 5
}
