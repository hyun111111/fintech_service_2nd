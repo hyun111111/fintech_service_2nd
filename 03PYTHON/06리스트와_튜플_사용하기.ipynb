{
 "cells": [
  {
   "cell_type": "markdown",
   "id": "7e6aa517",
   "metadata": {},
   "source": [
    "# 리스트와 튜플 사용하기\n",
    "* 일일히 자료 정의를 할 수 없어서 여러개의 자료를 한꺼번에 처리하기 위함"
   ]
  },
  {
   "cell_type": "code",
   "execution_count": 1,
   "id": "7f66ca35",
   "metadata": {},
   "outputs": [],
   "source": [
    "a =1\n",
    "b =2\n",
    "c = 3\n",
    "d = 4\n",
    "e = 5"
   ]
  },
  {
   "cell_type": "code",
   "execution_count": 2,
   "id": "fa321f00",
   "metadata": {},
   "outputs": [
    {
     "data": {
      "text/plain": [
       "list"
      ]
     },
     "execution_count": 2,
     "metadata": {},
     "output_type": "execute_result"
    }
   ],
   "source": [
    "l = [1,2, \"파이싼\", 3.0, [4,5,6], (7,8,\"리스트\"), True, False]\n",
    "type(l)"
   ]
  },
  {
   "cell_type": "markdown",
   "id": "092094b7",
   "metadata": {},
   "source": [
    "# 리스트 만들기\n",
    "* 대괄호 안에 자료를 나열해서 만듦\n",
    "* 내용이 비어있는 리스트도 생성 가능 []\n",
    "* 자료가 1개만 있는 리스트도 생성이 가능"
   ]
  },
  {
   "cell_type": "code",
   "execution_count": 15,
   "id": "cf53e66d",
   "metadata": {},
   "outputs": [
    {
     "ename": "NameError",
     "evalue": "name 'l2' is not defined",
     "output_type": "error",
     "traceback": [
      "\u001b[1;31m---------------------------------------------------------------------------\u001b[0m",
      "\u001b[1;31mNameError\u001b[0m                                 Traceback (most recent call last)",
      "Cell \u001b[1;32mIn[15], line 2\u001b[0m\n\u001b[0;32m      1\u001b[0m ㅣ2\u001b[38;5;241m=\u001b[39m[]\n\u001b[1;32m----> 2\u001b[0m \u001b[38;5;28mprint\u001b[39m(ㅣ2, \u001b[38;5;28mtype\u001b[39m(\u001b[43ml2\u001b[49m))\n",
      "\u001b[1;31mNameError\u001b[0m: name 'l2' is not defined"
     ]
    }
   ],
   "source": [
    "ㅣ2=[]\n",
    "print(ㅣ2, type(l2))"
   ]
  },
  {
   "cell_type": "code",
   "execution_count": 10,
   "id": "a7b76a62",
   "metadata": {},
   "outputs": [
    {
     "name": "stdout",
     "output_type": "stream",
     "text": [
      "[1] <class 'list'>\n"
     ]
    }
   ],
   "source": [
    "l3 = [1]\n",
    "print(l3, type(l3))"
   ]
  },
  {
   "cell_type": "markdown",
   "id": "1c42ab32",
   "metadata": {},
   "source": [
    "# 리스트 형변환 함수 list()"
   ]
  },
  {
   "cell_type": "code",
   "execution_count": 16,
   "id": "76d20ef9",
   "metadata": {},
   "outputs": [
    {
     "data": {
      "text/plain": [
       "range"
      ]
     },
     "execution_count": 16,
     "metadata": {},
     "output_type": "execute_result"
    }
   ],
   "source": [
    "type(range(1,10))"
   ]
  },
  {
   "cell_type": "code",
   "execution_count": 18,
   "id": "4f366532",
   "metadata": {},
   "outputs": [
    {
     "name": "stdout",
     "output_type": "stream",
     "text": [
      "range(1, 10)\n"
     ]
    }
   ],
   "source": [
    "print(range(1,10))"
   ]
  },
  {
   "cell_type": "code",
   "execution_count": 19,
   "id": "1e227667",
   "metadata": {},
   "outputs": [
    {
     "data": {
      "text/plain": [
       "[1, 2, 3, 4, 5, 6, 7, 8, 9]"
      ]
     },
     "execution_count": 19,
     "metadata": {},
     "output_type": "execute_result"
    }
   ],
   "source": [
    "list(range(1,10))"
   ]
  },
  {
   "cell_type": "code",
   "execution_count": 20,
   "id": "a2909e4c",
   "metadata": {},
   "outputs": [
    {
     "data": {
      "text/plain": [
       "[1, 2, 3, 4]"
      ]
     },
     "execution_count": 20,
     "metadata": {},
     "output_type": "execute_result"
    }
   ],
   "source": [
    "list((1,2,3,4))"
   ]
  },
  {
   "cell_type": "markdown",
   "id": "c91c35a4",
   "metadata": {},
   "source": [
    "## 숫자를 생성해주는 range()\n",
    "* range(시작번호, 끝번호+1, step)"
   ]
  },
  {
   "cell_type": "code",
   "execution_count": 21,
   "id": "f3c701aa",
   "metadata": {},
   "outputs": [
    {
     "data": {
      "text/plain": [
       "[1, 3, 5, 7, 9]"
      ]
     },
     "execution_count": 21,
     "metadata": {},
     "output_type": "execute_result"
    }
   ],
   "source": [
    "list(range(1,11,2))"
   ]
  },
  {
   "cell_type": "code",
   "execution_count": 22,
   "id": "141c1f66",
   "metadata": {},
   "outputs": [
    {
     "data": {
      "text/plain": [
       "[4,\n",
       " 8,\n",
       " 12,\n",
       " 16,\n",
       " 20,\n",
       " 24,\n",
       " 28,\n",
       " 32,\n",
       " 36,\n",
       " 40,\n",
       " 44,\n",
       " 48,\n",
       " 52,\n",
       " 56,\n",
       " 60,\n",
       " 64,\n",
       " 68,\n",
       " 72,\n",
       " 76,\n",
       " 80,\n",
       " 84,\n",
       " 88,\n",
       " 92,\n",
       " 96]"
      ]
     },
     "execution_count": 22,
     "metadata": {},
     "output_type": "execute_result"
    }
   ],
   "source": [
    "list(range(4,100,4))"
   ]
  },
  {
   "cell_type": "code",
   "execution_count": 24,
   "id": "6ab2a9cb",
   "metadata": {},
   "outputs": [
    {
     "data": {
      "text/plain": [
       "[100,\n",
       " 96,\n",
       " 92,\n",
       " 88,\n",
       " 84,\n",
       " 80,\n",
       " 76,\n",
       " 72,\n",
       " 68,\n",
       " 64,\n",
       " 60,\n",
       " 56,\n",
       " 52,\n",
       " 48,\n",
       " 44,\n",
       " 40,\n",
       " 36,\n",
       " 32,\n",
       " 28,\n",
       " 24,\n",
       " 20,\n",
       " 16,\n",
       " 12,\n",
       " 8,\n",
       " 4]"
      ]
     },
     "execution_count": 24,
     "metadata": {},
     "output_type": "execute_result"
    }
   ],
   "source": [
    "list(range(100,1,-4))"
   ]
  },
  {
   "cell_type": "markdown",
   "id": "9177804b",
   "metadata": {},
   "source": [
    "## 리스트에 자료 추가하기 .append()"
   ]
  },
  {
   "cell_type": "code",
   "execution_count": 27,
   "id": "160a9612",
   "metadata": {},
   "outputs": [
    {
     "data": {
      "text/plain": [
       "[1, 2, '파이싼', 3.0, [4, 5, 6], (7, 8, '리스트'), True, False, 3, 3]"
      ]
     },
     "execution_count": 27,
     "metadata": {},
     "output_type": "execute_result"
    }
   ],
   "source": [
    "l.append(3)\n",
    "l"
   ]
  },
  {
   "cell_type": "code",
   "execution_count": 29,
   "id": "d94fd43e",
   "metadata": {},
   "outputs": [
    {
     "data": {
      "text/plain": [
       "[1, 2, '파이싼', 3.0, [4, 5, 6], (7, 8, '리스트'), True, False, 3, 3, 3.0, 3.0]"
      ]
     },
     "execution_count": 29,
     "metadata": {},
     "output_type": "execute_result"
    }
   ],
   "source": [
    "l.append(3.0)\n",
    "l"
   ]
  },
  {
   "cell_type": "code",
   "execution_count": 31,
   "id": "2d1f83bf",
   "metadata": {},
   "outputs": [
    {
     "data": {
      "text/plain": [
       "[1,\n",
       " 2,\n",
       " '파이싼',\n",
       " 3.0,\n",
       " [4, 5, 6],\n",
       " (7, 8, '리스트'),\n",
       " True,\n",
       " False,\n",
       " 3,\n",
       " 3,\n",
       " 3.0,\n",
       " 3.0,\n",
       " '헤헿',\n",
       " '헤헿']"
      ]
     },
     "execution_count": 31,
     "metadata": {},
     "output_type": "execute_result"
    }
   ],
   "source": [
    "l.append('헤헿')\n",
    "l"
   ]
  },
  {
   "cell_type": "code",
   "execution_count": 32,
   "id": "0f252d62",
   "metadata": {},
   "outputs": [],
   "source": [
    "l.append([4,5,6])"
   ]
  },
  {
   "cell_type": "code",
   "execution_count": 33,
   "id": "86254fa9",
   "metadata": {},
   "outputs": [
    {
     "data": {
      "text/plain": [
       "[1,\n",
       " 2,\n",
       " '파이싼',\n",
       " 3.0,\n",
       " [4, 5, 6],\n",
       " (7, 8, '리스트'),\n",
       " True,\n",
       " False,\n",
       " 3,\n",
       " 3,\n",
       " 3.0,\n",
       " 3.0,\n",
       " '헤헿',\n",
       " '헤헿',\n",
       " [4, 5, 6]]"
      ]
     },
     "execution_count": 33,
     "metadata": {},
     "output_type": "execute_result"
    }
   ],
   "source": [
    "l"
   ]
  },
  {
   "cell_type": "code",
   "execution_count": 34,
   "id": "565ab8dc",
   "metadata": {},
   "outputs": [
    {
     "data": {
      "text/plain": [
       "[1,\n",
       " 2,\n",
       " '파이싼',\n",
       " 3.0,\n",
       " [4, 5, 6],\n",
       " (7, 8, '리스트'),\n",
       " True,\n",
       " False,\n",
       " 3,\n",
       " 3,\n",
       " 3.0,\n",
       " 3.0,\n",
       " '헤헿',\n",
       " '헤헿',\n",
       " [4, 5, 6],\n",
       " (7, 8, 9)]"
      ]
     },
     "execution_count": 34,
     "metadata": {},
     "output_type": "execute_result"
    }
   ],
   "source": [
    "l.append((7,8,9))\n",
    "l"
   ]
  },
  {
   "cell_type": "code",
   "execution_count": 35,
   "id": "00b71b03",
   "metadata": {},
   "outputs": [
    {
     "data": {
      "text/plain": [
       "[1,\n",
       " 2,\n",
       " '파이싼',\n",
       " 3.0,\n",
       " [4, 5, 6],\n",
       " (7, 8, '리스트'),\n",
       " True,\n",
       " False,\n",
       " 3,\n",
       " 3,\n",
       " 3.0,\n",
       " 3.0,\n",
       " '헤헿',\n",
       " '헤헿',\n",
       " [4, 5, 6],\n",
       " (7, 8, 9),\n",
       " {dict: 1234}]"
      ]
     },
     "execution_count": 35,
     "metadata": {},
     "output_type": "execute_result"
    }
   ],
   "source": [
    "l.append({dict:1234})\n",
    "l"
   ]
  },
  {
   "cell_type": "markdown",
   "id": "3f03934e",
   "metadata": {},
   "source": [
    "## 특정한 위치에 자료 추가 .insert\n",
    "* .insert(넣을 위치앞 인덱스 번호 , 넣을 자료 )"
   ]
  },
  {
   "cell_type": "code",
   "execution_count": 38,
   "id": "0a53b7bd",
   "metadata": {},
   "outputs": [
    {
     "data": {
      "text/plain": [
       "[1,\n",
       " 2,\n",
       " 3,\n",
       " '파이싼',\n",
       " 3.0,\n",
       " [4, 5, 6],\n",
       " (7, 8, '리스트'),\n",
       " True,\n",
       " False,\n",
       " 3,\n",
       " 3,\n",
       " 3.0,\n",
       " 3.0,\n",
       " '헤헿',\n",
       " '헤헿',\n",
       " [4, 5, 6],\n",
       " (7, 8, 9),\n",
       " {dict: 1234}]"
      ]
     },
     "execution_count": 38,
     "metadata": {},
     "output_type": "execute_result"
    }
   ],
   "source": [
    "# ㅇ니덱스 2번에 정수 3 넣기\n",
    "l.insert(2,3)\n",
    "l"
   ]
  },
  {
   "cell_type": "markdown",
   "id": "88f2c4a2",
   "metadata": {},
   "source": [
    "## 리스트의 자료 삭제하기\n",
    "* del 변수명 [인덱스 번호] : 해당 인덱스 번호의 자료 삭제\n",
    "* pop(): 리스트의 가장 끝 자료가 출력되면서 삭제됨. \n",
    "* remove(값) : 리스트의 앞부터 일치하는 값 1개를 찾아서 삭제 중복된 자료가 있다면 앞\n",
    "* 정수 실수 상관없이 지워진다."
   ]
  },
  {
   "cell_type": "code",
   "execution_count": 42,
   "id": "2ac39cd6",
   "metadata": {},
   "outputs": [
    {
     "data": {
      "text/plain": [
       "[1,\n",
       " 2,\n",
       " 3,\n",
       " '파이싼',\n",
       " 3.0,\n",
       " [4, 5, 6],\n",
       " True,\n",
       " False,\n",
       " 3,\n",
       " 3,\n",
       " 3.0,\n",
       " 3.0,\n",
       " '헤헿',\n",
       " '헤헿',\n",
       " [4, 5, 6],\n",
       " (7, 8, 9),\n",
       " {dict: 1234}]"
      ]
     },
     "execution_count": 42,
     "metadata": {},
     "output_type": "execute_result"
    }
   ],
   "source": [
    "del l[6]\n",
    "l"
   ]
  },
  {
   "cell_type": "code",
   "execution_count": 44,
   "id": "d13b08ef",
   "metadata": {},
   "outputs": [],
   "source": [
    "del l[2]"
   ]
  },
  {
   "cell_type": "code",
   "execution_count": 45,
   "id": "7797e89a",
   "metadata": {},
   "outputs": [
    {
     "data": {
      "text/plain": [
       "[1,\n",
       " 2,\n",
       " '파이싼',\n",
       " 3.0,\n",
       " [4, 5, 6],\n",
       " True,\n",
       " False,\n",
       " 3,\n",
       " 3,\n",
       " 3.0,\n",
       " 3.0,\n",
       " '헤헿',\n",
       " '헤헿',\n",
       " [4, 5, 6],\n",
       " (7, 8, 9),\n",
       " {dict: 1234}]"
      ]
     },
     "execution_count": 45,
     "metadata": {},
     "output_type": "execute_result"
    }
   ],
   "source": [
    "l"
   ]
  },
  {
   "cell_type": "code",
   "execution_count": 46,
   "id": "f9706cd0",
   "metadata": {
    "scrolled": true
   },
   "outputs": [
    {
     "data": {
      "text/plain": [
       "{dict: 1234}"
      ]
     },
     "execution_count": 46,
     "metadata": {},
     "output_type": "execute_result"
    }
   ],
   "source": [
    "l.pop()"
   ]
  },
  {
   "cell_type": "markdown",
   "id": "9da8b266",
   "metadata": {},
   "source": [
    "* Signature: l.pop(index=-1, /)\n",
    "* Docstring:\n",
    "* Remove and return item at index (default last)."
   ]
  },
  {
   "cell_type": "code",
   "execution_count": 47,
   "id": "0884cdbd",
   "metadata": {},
   "outputs": [
    {
     "data": {
      "text/plain": [
       "[1,\n",
       " 2,\n",
       " '파이싼',\n",
       " 3.0,\n",
       " [4, 5, 6],\n",
       " True,\n",
       " False,\n",
       " 3,\n",
       " 3,\n",
       " 3.0,\n",
       " 3.0,\n",
       " '헤헿',\n",
       " '헤헿',\n",
       " [4, 5, 6],\n",
       " (7, 8, 9)]"
      ]
     },
     "execution_count": 47,
     "metadata": {},
     "output_type": "execute_result"
    }
   ],
   "source": [
    "l"
   ]
  },
  {
   "cell_type": "code",
   "execution_count": 49,
   "id": "0b447e81",
   "metadata": {},
   "outputs": [
    {
     "data": {
      "text/plain": [
       "[1,\n",
       " 2,\n",
       " '파이싼',\n",
       " [4, 5, 6],\n",
       " True,\n",
       " False,\n",
       " 3,\n",
       " 3,\n",
       " 3.0,\n",
       " 3.0,\n",
       " '헤헿',\n",
       " '헤헿',\n",
       " [4, 5, 6],\n",
       " (7, 8, 9)]"
      ]
     },
     "execution_count": 49,
     "metadata": {},
     "output_type": "execute_result"
    }
   ],
   "source": [
    "l.remove(3)\n",
    "l"
   ]
  },
  {
   "cell_type": "code",
   "execution_count": 53,
   "id": "1dddad6d",
   "metadata": {},
   "outputs": [
    {
     "data": {
      "text/plain": [
       "[1, 2, '파이싼', [4, 5, 6], True, False, '헤헿', '헤헿', [4, 5, 6], (7, 8, 9)]"
      ]
     },
     "execution_count": 53,
     "metadata": {},
     "output_type": "execute_result"
    }
   ],
   "source": [
    "l.remove(3) # 여러번 실행했더니 실수 3.0도 삭제됨\n",
    "l"
   ]
  },
  {
   "cell_type": "markdown",
   "id": "b2372655",
   "metadata": {},
   "source": [
    "## 리스트를 확장하기 .extend()\n",
    "* 리스트에 자료를 추가하되, 요소만 추가\n",
    "* append는 자료 자체가 추가"
   ]
  },
  {
   "cell_type": "code",
   "execution_count": 54,
   "id": "66e31fa5",
   "metadata": {},
   "outputs": [],
   "source": [
    "a = [1,2,3]\n",
    "b = [4,5,6]"
   ]
  },
  {
   "cell_type": "code",
   "execution_count": 55,
   "id": "02c643f9",
   "metadata": {},
   "outputs": [],
   "source": [
    "a.append(b)"
   ]
  },
  {
   "cell_type": "code",
   "execution_count": 56,
   "id": "4639b5d3",
   "metadata": {},
   "outputs": [
    {
     "data": {
      "text/plain": [
       "[1, 2, 3, [4, 5, 6]]"
      ]
     },
     "execution_count": 56,
     "metadata": {},
     "output_type": "execute_result"
    }
   ],
   "source": [
    "a"
   ]
  },
  {
   "cell_type": "code",
   "execution_count": 57,
   "id": "aafc5753",
   "metadata": {},
   "outputs": [
    {
     "data": {
      "text/plain": [
       "4"
      ]
     },
     "execution_count": 57,
     "metadata": {},
     "output_type": "execute_result"
    }
   ],
   "source": [
    "len(a)"
   ]
  },
  {
   "cell_type": "code",
   "execution_count": 58,
   "id": "7d183fee",
   "metadata": {},
   "outputs": [
    {
     "data": {
      "text/plain": [
       "4"
      ]
     },
     "execution_count": 58,
     "metadata": {},
     "output_type": "execute_result"
    }
   ],
   "source": [
    "a[3][0]"
   ]
  },
  {
   "cell_type": "code",
   "execution_count": 60,
   "id": "be4e19ab",
   "metadata": {},
   "outputs": [
    {
     "data": {
      "text/plain": [
       "[1, 2, 3, [4, 5, 6], [4, 5, 6]]"
      ]
     },
     "execution_count": 60,
     "metadata": {},
     "output_type": "execute_result"
    }
   ],
   "source": [
    "a.insert(4,b)\n",
    "a"
   ]
  },
  {
   "cell_type": "code",
   "execution_count": 62,
   "id": "f23ae1f2",
   "metadata": {},
   "outputs": [
    {
     "data": {
      "text/plain": [
       "[1, 2, 3, [4, 5, 6], [4, 5, 6], 7, 8, 9]"
      ]
     },
     "execution_count": 62,
     "metadata": {},
     "output_type": "execute_result"
    }
   ],
   "source": [
    "a.extend([7,8,9])\n",
    "a"
   ]
  },
  {
   "cell_type": "code",
   "execution_count": 63,
   "id": "a2e681d0",
   "metadata": {},
   "outputs": [],
   "source": [
    "c = [7,8,9]"
   ]
  },
  {
   "cell_type": "code",
   "execution_count": 64,
   "id": "3f792f53",
   "metadata": {},
   "outputs": [
    {
     "data": {
      "text/plain": [
       "[4, 5, 6]"
      ]
     },
     "execution_count": 64,
     "metadata": {},
     "output_type": "execute_result"
    }
   ],
   "source": [
    "b"
   ]
  },
  {
   "cell_type": "code",
   "execution_count": 65,
   "id": "3535931b",
   "metadata": {},
   "outputs": [
    {
     "data": {
      "text/plain": [
       "[7, 8, 9]"
      ]
     },
     "execution_count": 65,
     "metadata": {},
     "output_type": "execute_result"
    }
   ],
   "source": [
    "c"
   ]
  },
  {
   "cell_type": "code",
   "execution_count": 66,
   "id": "971e9014",
   "metadata": {},
   "outputs": [
    {
     "data": {
      "text/plain": [
       "[4, 5, 6, 7, 8, 9]"
      ]
     },
     "execution_count": 66,
     "metadata": {},
     "output_type": "execute_result"
    }
   ],
   "source": [
    "b.extend(c)\n",
    "b"
   ]
  },
  {
   "cell_type": "markdown",
   "id": "6ec24997",
   "metadata": {},
   "source": [
    "## list + list = .extend를 한 것과 동일하다."
   ]
  },
  {
   "cell_type": "code",
   "execution_count": 67,
   "id": "a3e8f6c9",
   "metadata": {},
   "outputs": [
    {
     "data": {
      "text/plain": [
       "[4, 5, 6, 7, 8, 9, 7, 8, 9]"
      ]
     },
     "execution_count": 67,
     "metadata": {},
     "output_type": "execute_result"
    }
   ],
   "source": [
    "b + c"
   ]
  },
  {
   "cell_type": "markdown",
   "id": "e3be4bf9",
   "metadata": {},
   "source": [
    "## 리스트 안에서 원하는 값의 인덱스 찾기 \n",
    "* in, not in: 리스트 안에 원하는 값이 있는지 확인\n",
    "* 원하는 값이 있는 위치를 찾을 때 .index(찾을 값)\n",
    "* 동일한 값이 여러개 있는 경우 가장 앞의 값을 변환\n",
    "* 두번쨰 이상의 자료를 찾으려면 옵션에 시작인덱스를 지정하면 된다.\n",
    "* .index(찾는 값, 시작 인덱스 번호)"
   ]
  },
  {
   "cell_type": "code",
   "execution_count": 68,
   "id": "f3088d96",
   "metadata": {},
   "outputs": [
    {
     "data": {
      "text/plain": [
       "[1, 2, 3, [4, 5, 6, 7, 8, 9], [4, 5, 6, 7, 8, 9], 7, 8, 9]"
      ]
     },
     "execution_count": 68,
     "metadata": {},
     "output_type": "execute_result"
    }
   ],
   "source": [
    "a"
   ]
  },
  {
   "cell_type": "code",
   "execution_count": 69,
   "id": "7ffb59eb",
   "metadata": {},
   "outputs": [
    {
     "ename": "ValueError",
     "evalue": "4 is not in list",
     "output_type": "error",
     "traceback": [
      "\u001b[1;31m---------------------------------------------------------------------------\u001b[0m",
      "\u001b[1;31mValueError\u001b[0m                                Traceback (most recent call last)",
      "Cell \u001b[1;32mIn[69], line 1\u001b[0m\n\u001b[1;32m----> 1\u001b[0m \u001b[43ma\u001b[49m\u001b[38;5;241;43m.\u001b[39;49m\u001b[43mindex\u001b[49m\u001b[43m(\u001b[49m\u001b[38;5;241;43m4\u001b[39;49m\u001b[43m)\u001b[49m\n",
      "\u001b[1;31mValueError\u001b[0m: 4 is not in list"
     ]
    }
   ],
   "source": [
    "a.index(4)"
   ]
  },
  {
   "cell_type": "code",
   "execution_count": 70,
   "id": "19546ca1",
   "metadata": {},
   "outputs": [
    {
     "data": {
      "text/plain": [
       "2"
      ]
     },
     "execution_count": 70,
     "metadata": {},
     "output_type": "execute_result"
    }
   ],
   "source": [
    "a.index(3)"
   ]
  },
  {
   "cell_type": "code",
   "execution_count": 71,
   "id": "2a6adf4a",
   "metadata": {},
   "outputs": [
    {
     "data": {
      "text/plain": [
       "0"
      ]
     },
     "execution_count": 71,
     "metadata": {},
     "output_type": "execute_result"
    }
   ],
   "source": [
    "a[3].index(4)"
   ]
  },
  {
   "cell_type": "markdown",
   "id": "bd4cc841",
   "metadata": {},
   "source": [
    "근데 안에있는 걸 못찾으면 활용성이 덜어질거 같은데..."
   ]
  },
  {
   "cell_type": "code",
   "execution_count": 72,
   "id": "88c39a4c",
   "metadata": {},
   "outputs": [
    {
     "data": {
      "text/plain": [
       "[1, 2, 3, [4, 5, 6, 7, 8, 9], [4, 5, 6, 7, 8, 9], 7, 8, 9, 1, 2, 3]"
      ]
     },
     "execution_count": 72,
     "metadata": {},
     "output_type": "execute_result"
    }
   ],
   "source": [
    "a.extend([1,2,3])\n",
    "a"
   ]
  },
  {
   "cell_type": "code",
   "execution_count": 73,
   "id": "c82653a3",
   "metadata": {},
   "outputs": [
    {
     "data": {
      "text/plain": [
       "2"
      ]
     },
     "execution_count": 73,
     "metadata": {},
     "output_type": "execute_result"
    }
   ],
   "source": [
    "a.index(3)"
   ]
  },
  {
   "cell_type": "markdown",
   "id": "bec0f211",
   "metadata": {},
   "source": [
    "a에서 두번쨰 3을 찾으세요\n",
    "* Signature: a.index(value, start=0, stop=9223372036854775807, /)\n",
    "* Docstring:\n",
    "* Return first index of value."
   ]
  },
  {
   "cell_type": "code",
   "execution_count": 74,
   "id": "53ce04a7",
   "metadata": {},
   "outputs": [
    {
     "data": {
      "text/plain": [
       "10"
      ]
     },
     "execution_count": 74,
     "metadata": {},
     "output_type": "execute_result"
    }
   ],
   "source": [
    "a.index(3, 3)"
   ]
  },
  {
   "cell_type": "code",
   "execution_count": 76,
   "id": "60a6918c",
   "metadata": {},
   "outputs": [
    {
     "data": {
      "text/plain": [
       "[1,\n",
       " 2,\n",
       " 3,\n",
       " [4, 5, 6, 7, 8, 9],\n",
       " [4, 5, 6, 7, 8, 9],\n",
       " 7,\n",
       " 8,\n",
       " 9,\n",
       " 1,\n",
       " 2,\n",
       " 3,\n",
       " '파이썬',\n",
       " '파이썬']"
      ]
     },
     "execution_count": 76,
     "metadata": {},
     "output_type": "execute_result"
    }
   ],
   "source": [
    "a.append(\"파이썬\")\n",
    "a"
   ]
  },
  {
   "cell_type": "code",
   "execution_count": 77,
   "id": "ead08cf0",
   "metadata": {},
   "outputs": [
    {
     "data": {
      "text/plain": [
       "11"
      ]
     },
     "execution_count": 77,
     "metadata": {},
     "output_type": "execute_result"
    }
   ],
   "source": [
    "a.index(\"파이썬\")"
   ]
  },
  {
   "cell_type": "markdown",
   "id": "1d9babcf",
   "metadata": {},
   "source": [
    "## 리스트 안에서 특정 값의 개수 구하기 .count(값)"
   ]
  },
  {
   "cell_type": "code",
   "execution_count": 78,
   "id": "11543b94",
   "metadata": {},
   "outputs": [
    {
     "data": {
      "text/plain": [
       "[1,\n",
       " 2,\n",
       " 3,\n",
       " [4, 5, 6, 7, 8, 9],\n",
       " [4, 5, 6, 7, 8, 9],\n",
       " 7,\n",
       " 8,\n",
       " 9,\n",
       " 1,\n",
       " 2,\n",
       " 3,\n",
       " '파이썬',\n",
       " '파이썬']"
      ]
     },
     "execution_count": 78,
     "metadata": {},
     "output_type": "execute_result"
    }
   ],
   "source": [
    "a"
   ]
  },
  {
   "cell_type": "code",
   "execution_count": 79,
   "id": "8c5ff9bf",
   "metadata": {},
   "outputs": [
    {
     "data": {
      "text/plain": [
       "0"
      ]
     },
     "execution_count": 79,
     "metadata": {},
     "output_type": "execute_result"
    }
   ],
   "source": [
    "a.count(4)"
   ]
  },
  {
   "cell_type": "markdown",
   "id": "9f11fdbb",
   "metadata": {},
   "source": [
    "## 리스트 순서 뒤집기 .reverse()\n",
    "* 실행즉시 원본 데이터가 변경 (재할당  x)"
   ]
  },
  {
   "cell_type": "code",
   "execution_count": 80,
   "id": "921cdc7c",
   "metadata": {},
   "outputs": [
    {
     "data": {
      "text/plain": [
       "[1,\n",
       " 2,\n",
       " 3,\n",
       " [4, 5, 6, 7, 8, 9],\n",
       " [4, 5, 6, 7, 8, 9],\n",
       " 7,\n",
       " 8,\n",
       " 9,\n",
       " 1,\n",
       " 2,\n",
       " 3,\n",
       " '파이썬',\n",
       " '파이썬']"
      ]
     },
     "execution_count": 80,
     "metadata": {},
     "output_type": "execute_result"
    }
   ],
   "source": [
    "a"
   ]
  },
  {
   "cell_type": "code",
   "execution_count": 81,
   "id": "68cf6b89",
   "metadata": {},
   "outputs": [],
   "source": [
    "a.reverse()"
   ]
  },
  {
   "cell_type": "code",
   "execution_count": 82,
   "id": "33dabfd3",
   "metadata": {},
   "outputs": [
    {
     "data": {
      "text/plain": [
       "['파이썬',\n",
       " '파이썬',\n",
       " 3,\n",
       " 2,\n",
       " 1,\n",
       " 9,\n",
       " 8,\n",
       " 7,\n",
       " [4, 5, 6, 7, 8, 9],\n",
       " [4, 5, 6, 7, 8, 9],\n",
       " 3,\n",
       " 2,\n",
       " 1]"
      ]
     },
     "execution_count": 82,
     "metadata": {},
     "output_type": "execute_result"
    }
   ],
   "source": [
    "a"
   ]
  },
  {
   "cell_type": "markdown",
   "id": "c84d77d8",
   "metadata": {},
   "source": [
    "* 인덱싱으로 순서 뒤집기"
   ]
  },
  {
   "cell_type": "code",
   "execution_count": 85,
   "id": "789ba179",
   "metadata": {},
   "outputs": [
    {
     "data": {
      "text/plain": [
       "[1,\n",
       " 2,\n",
       " 3,\n",
       " [4, 5, 6, 7, 8, 9],\n",
       " [4, 5, 6, 7, 8, 9],\n",
       " 7,\n",
       " 8,\n",
       " 9,\n",
       " 1,\n",
       " 2,\n",
       " 3,\n",
       " '파이썬',\n",
       " '파이썬']"
      ]
     },
     "execution_count": 85,
     "metadata": {},
     "output_type": "execute_result"
    }
   ],
   "source": [
    "a[::-1] # 리버스와 동일 효과, 원본 바꾸기 x"
   ]
  },
  {
   "cell_type": "markdown",
   "id": "21821793",
   "metadata": {},
   "source": [
    "## 리스트 정렬. sort() 오름차순 .sort(reverse=True)내림차순\n",
    "* 실행 즉시 원데이터를 바꿈"
   ]
  },
  {
   "cell_type": "code",
   "execution_count": 86,
   "id": "5bae648c",
   "metadata": {},
   "outputs": [],
   "source": [
    "a = [1,3,4,5,6,7,2,8,6567,9]"
   ]
  },
  {
   "cell_type": "code",
   "execution_count": 87,
   "id": "a688a83c",
   "metadata": {},
   "outputs": [
    {
     "data": {
      "text/plain": [
       "[1, 2, 3, 4, 5, 6, 7, 8, 9, 6567]"
      ]
     },
     "execution_count": 87,
     "metadata": {},
     "output_type": "execute_result"
    }
   ],
   "source": [
    "a.sort()\n",
    "a"
   ]
  },
  {
   "cell_type": "code",
   "execution_count": 92,
   "id": "62d7b0a2",
   "metadata": {},
   "outputs": [
    {
     "data": {
      "text/plain": [
       "[6567, 9, 8, 7, 6, 5, 4, 3, 2, 1]"
      ]
     },
     "execution_count": 92,
     "metadata": {},
     "output_type": "execute_result"
    }
   ],
   "source": [
    "a.sort(reverse=True)\n",
    "a"
   ]
  },
  {
   "cell_type": "markdown",
   "id": "faa3a006",
   "metadata": {},
   "source": [
    "## sorted(리스트) 오름차순, sorted(리스트, reverse=True)내림차순\n",
    "# 값 변화 없음"
   ]
  },
  {
   "cell_type": "code",
   "execution_count": 93,
   "id": "5176096a",
   "metadata": {},
   "outputs": [],
   "source": [
    "b = [32,42,3,4,5,671,2,4,3545,9]"
   ]
  },
  {
   "cell_type": "code",
   "execution_count": 95,
   "id": "0ed3d3dd",
   "metadata": {},
   "outputs": [
    {
     "data": {
      "text/plain": [
       "[2, 3, 4, 4, 5, 9, 32, 42, 671, 3545]"
      ]
     },
     "execution_count": 95,
     "metadata": {},
     "output_type": "execute_result"
    }
   ],
   "source": [
    "sorted(b)\n"
   ]
  },
  {
   "cell_type": "code",
   "execution_count": 96,
   "id": "5b2c1f89",
   "metadata": {},
   "outputs": [
    {
     "data": {
      "text/plain": [
       "[32, 42, 3, 4, 5, 671, 2, 4, 3545, 9]"
      ]
     },
     "execution_count": 96,
     "metadata": {},
     "output_type": "execute_result"
    }
   ],
   "source": [
    "b"
   ]
  },
  {
   "cell_type": "code",
   "execution_count": 97,
   "id": "7f8f9712",
   "metadata": {},
   "outputs": [
    {
     "data": {
      "text/plain": [
       "[3545, 671, 42, 32, 9, 5, 4, 4, 3, 2]"
      ]
     },
     "execution_count": 97,
     "metadata": {},
     "output_type": "execute_result"
    }
   ],
   "source": [
    "sorted(b, reverse=True)"
   ]
  },
  {
   "cell_type": "code",
   "execution_count": 98,
   "id": "563087c2",
   "metadata": {},
   "outputs": [
    {
     "data": {
      "text/plain": [
       "[32, 42, 3, 4, 5, 671, 2, 4, 3545, 9]"
      ]
     },
     "execution_count": 98,
     "metadata": {},
     "output_type": "execute_result"
    }
   ],
   "source": [
    "b"
   ]
  },
  {
   "cell_type": "markdown",
   "id": "a8e01047",
   "metadata": {},
   "source": [
    "# 튜플 tuple\n",
    "* 튜플은 리스트처럼 모든 자료형을 넣어 만들수 있다. \n",
    "* 순서가 있는 자료형, 인덱스가 있다\n",
    "* 인덱싱, 슬라이싱 가능\n",
    "* 자료의 추가 삭제가 안됨\n",
    "* ()안에 자료를 넣어서 만든다. \n",
    "* 튜플 형변환 함수는 tuple()\n",
    "* 자료 1개만 넣어서 만들 수 있다. (1,) 형식이어야한다.\n",
    "* 튜플 생성시 자료가 2개 이상인 경우()는 생략 가능. "
   ]
  },
  {
   "cell_type": "code",
   "execution_count": 99,
   "id": "88cec6fe",
   "metadata": {},
   "outputs": [
    {
     "data": {
      "text/plain": [
       "(1, 2, 3)"
      ]
     },
     "execution_count": 99,
     "metadata": {},
     "output_type": "execute_result"
    }
   ],
   "source": [
    "t = (1,2,3)\n",
    "t"
   ]
  },
  {
   "cell_type": "code",
   "execution_count": 100,
   "id": "69360dd9",
   "metadata": {},
   "outputs": [
    {
     "data": {
      "text/plain": [
       "1"
      ]
     },
     "execution_count": 100,
     "metadata": {},
     "output_type": "execute_result"
    }
   ],
   "source": [
    "t[0]"
   ]
  },
  {
   "cell_type": "code",
   "execution_count": 101,
   "id": "1a06219e",
   "metadata": {},
   "outputs": [
    {
     "ename": "AttributeError",
     "evalue": "'tuple' object has no attribute 'append'",
     "output_type": "error",
     "traceback": [
      "\u001b[1;31m---------------------------------------------------------------------------\u001b[0m",
      "\u001b[1;31mAttributeError\u001b[0m                            Traceback (most recent call last)",
      "Cell \u001b[1;32mIn[101], line 1\u001b[0m\n\u001b[1;32m----> 1\u001b[0m \u001b[43mt\u001b[49m\u001b[38;5;241;43m.\u001b[39;49m\u001b[43mappend\u001b[49m()\n",
      "\u001b[1;31mAttributeError\u001b[0m: 'tuple' object has no attribute 'append'"
     ]
    }
   ],
   "source": [
    "t.append()"
   ]
  },
  {
   "cell_type": "code",
   "execution_count": 102,
   "id": "bab61436",
   "metadata": {},
   "outputs": [],
   "source": [
    "t2 = (4,5,6)"
   ]
  },
  {
   "cell_type": "markdown",
   "id": "22367672",
   "metadata": {},
   "source": [
    "## 튜플 + 튜플 = 두개의 요소가 1개로 합쳐짐"
   ]
  },
  {
   "cell_type": "code",
   "execution_count": 103,
   "id": "bcd042d7",
   "metadata": {},
   "outputs": [
    {
     "data": {
      "text/plain": [
       "(1, 2, 3, 4, 5, 6)"
      ]
     },
     "execution_count": 103,
     "metadata": {},
     "output_type": "execute_result"
    }
   ],
   "source": [
    "t + t2"
   ]
  },
  {
   "cell_type": "code",
   "execution_count": 104,
   "id": "6e283172",
   "metadata": {},
   "outputs": [
    {
     "data": {
      "text/plain": [
       "(1, 2, 3, 4, 5)"
      ]
     },
     "execution_count": 104,
     "metadata": {},
     "output_type": "execute_result"
    }
   ],
   "source": [
    "tuple([1,2,3,4,5])"
   ]
  },
  {
   "cell_type": "code",
   "execution_count": 105,
   "id": "860abee3",
   "metadata": {},
   "outputs": [
    {
     "ename": "TypeError",
     "evalue": "'tuple' object doesn't support item deletion",
     "output_type": "error",
     "traceback": [
      "\u001b[1;31m---------------------------------------------------------------------------\u001b[0m",
      "\u001b[1;31mTypeError\u001b[0m                                 Traceback (most recent call last)",
      "Cell \u001b[1;32mIn[105], line 1\u001b[0m\n\u001b[1;32m----> 1\u001b[0m \u001b[38;5;28;01mdel\u001b[39;00m t[\u001b[38;5;241m0\u001b[39m]\n",
      "\u001b[1;31mTypeError\u001b[0m: 'tuple' object doesn't support item deletion"
     ]
    }
   ],
   "source": [
    "del t[0]"
   ]
  },
  {
   "cell_type": "code",
   "execution_count": 106,
   "id": "a9c80da9",
   "metadata": {},
   "outputs": [
    {
     "ename": "AttributeError",
     "evalue": "'tuple' object has no attribute 'insert'",
     "output_type": "error",
     "traceback": [
      "\u001b[1;31m---------------------------------------------------------------------------\u001b[0m",
      "\u001b[1;31mAttributeError\u001b[0m                            Traceback (most recent call last)",
      "Cell \u001b[1;32mIn[106], line 1\u001b[0m\n\u001b[1;32m----> 1\u001b[0m \u001b[43mt\u001b[49m\u001b[38;5;241;43m.\u001b[39;49m\u001b[43minsert\u001b[49m(\u001b[38;5;241m2\u001b[39m, \u001b[38;5;241m3\u001b[39m)\n",
      "\u001b[1;31mAttributeError\u001b[0m: 'tuple' object has no attribute 'insert'"
     ]
    }
   ],
   "source": [
    "t.insert(2, 3)"
   ]
  },
  {
   "cell_type": "markdown",
   "id": "5dea73cf",
   "metadata": {},
   "source": [
    "* list와 같이 특정 값의 인덱스를 찾는 것은 가능"
   ]
  },
  {
   "cell_type": "code",
   "execution_count": 107,
   "id": "ca82de2c",
   "metadata": {},
   "outputs": [
    {
     "data": {
      "text/plain": [
       "1"
      ]
     },
     "execution_count": 107,
     "metadata": {},
     "output_type": "execute_result"
    }
   ],
   "source": [
    "t.index(2)"
   ]
  },
  {
   "cell_type": "markdown",
   "id": "78ed417e",
   "metadata": {},
   "source": [
    "list와 같이 특정 값을 세는 것도 가능"
   ]
  },
  {
   "cell_type": "code",
   "execution_count": 108,
   "id": "ce9d7c87",
   "metadata": {},
   "outputs": [
    {
     "data": {
      "text/plain": [
       "1"
      ]
     },
     "execution_count": 108,
     "metadata": {},
     "output_type": "execute_result"
    }
   ],
   "source": [
    "t.count(1)"
   ]
  },
  {
   "cell_type": "markdown",
   "id": "37cf79af",
   "metadata": {},
   "source": [
    "* 튜플에 자료를 추가하고 싶을 떄\n",
    "* list로 형변환 후 다시 tuple로 형변환을 한다. "
   ]
  },
  {
   "cell_type": "code",
   "execution_count": 114,
   "id": "7c598081",
   "metadata": {},
   "outputs": [
    {
     "data": {
      "text/plain": [
       "(1, 2, 3)"
      ]
     },
     "execution_count": 114,
     "metadata": {},
     "output_type": "execute_result"
    }
   ],
   "source": [
    "t"
   ]
  },
  {
   "cell_type": "code",
   "execution_count": 123,
   "id": "20fc9710",
   "metadata": {},
   "outputs": [],
   "source": [
    "t=list(t)"
   ]
  },
  {
   "cell_type": "code",
   "execution_count": 124,
   "id": "8b598d7a",
   "metadata": {},
   "outputs": [
    {
     "data": {
      "text/plain": [
       "[1, 2, 3, 4, 5, 6, 4, 5, 6]"
      ]
     },
     "execution_count": 124,
     "metadata": {},
     "output_type": "execute_result"
    }
   ],
   "source": [
    "t.extend([4,5,6])\n",
    "t"
   ]
  },
  {
   "cell_type": "code",
   "execution_count": 130,
   "id": "5b342b0e",
   "metadata": {},
   "outputs": [
    {
     "data": {
      "text/plain": [
       "(1, 2, 3, 4, 5, 6, 4, 5, 6)"
      ]
     },
     "execution_count": 130,
     "metadata": {},
     "output_type": "execute_result"
    }
   ],
   "source": [
    "t = tuple(t)\n",
    "t"
   ]
  },
  {
   "cell_type": "markdown",
   "id": "188dc807",
   "metadata": {},
   "source": [
    "* 튜플에 자료를 1개만 넣고 만들고 싶을떄\n",
    "* (자료, )"
   ]
  },
  {
   "cell_type": "code",
   "execution_count": 126,
   "id": "3e697f9a",
   "metadata": {},
   "outputs": [
    {
     "name": "stdout",
     "output_type": "stream",
     "text": [
      "튜플 <class 'str'>\n"
     ]
    }
   ],
   "source": [
    "t3 = (\"튜플\")\n",
    "print(t3,type(t3))"
   ]
  },
  {
   "cell_type": "code",
   "execution_count": 127,
   "id": "714ddd08",
   "metadata": {},
   "outputs": [
    {
     "name": "stdout",
     "output_type": "stream",
     "text": [
      "('튜플',) <class 'tuple'>\n"
     ]
    }
   ],
   "source": [
    "t4 = (\"튜플\",)\n",
    "print(t4,type(t4))"
   ]
  },
  {
   "cell_type": "markdown",
   "id": "449236ea",
   "metadata": {},
   "source": [
    "* 괄호를 생락하고 튜플 만들기"
   ]
  },
  {
   "cell_type": "code",
   "execution_count": 128,
   "id": "5e891b5d",
   "metadata": {},
   "outputs": [
    {
     "name": "stdout",
     "output_type": "stream",
     "text": [
      "('튜플', '괄호없이', '만들기', 222) <class 'tuple'>\n"
     ]
    }
   ],
   "source": [
    "t5 = \"튜플\", \"괄호없이\", \"만들기\", 222\n",
    "print(t5, type(t5))"
   ]
  },
  {
   "cell_type": "markdown",
   "id": "ab0aa300",
   "metadata": {},
   "source": [
    "# 시퀀스 객체(자료형)\n",
    "* 문자열, 리스트, 튜플 같은 순서가 있는 자료형 : 시퀀스 자료형\n",
    "* 순서가 있고, 인덱스 번호가 부여되며 인덱싱, 슬라이싱이 가능\n",
    "* 반복문에 시퀀스 자료형을 그대로 넣어서 반복시키는 것이 가능"
   ]
  },
  {
   "cell_type": "markdown",
   "id": "b012ab19",
   "metadata": {},
   "source": [
    "* in, not in으로 특정값이 있는지 확인"
   ]
  },
  {
   "cell_type": "code",
   "execution_count": 131,
   "id": "ee46cb52",
   "metadata": {},
   "outputs": [
    {
     "data": {
      "text/plain": [
       "(1, 2, 3, 4, 5, 6, 4, 5, 6)"
      ]
     },
     "execution_count": 131,
     "metadata": {},
     "output_type": "execute_result"
    }
   ],
   "source": [
    "t"
   ]
  },
  {
   "cell_type": "code",
   "execution_count": 132,
   "id": "cf556f5b",
   "metadata": {},
   "outputs": [
    {
     "data": {
      "text/plain": [
       "False"
      ]
     },
     "execution_count": 132,
     "metadata": {},
     "output_type": "execute_result"
    }
   ],
   "source": [
    "9 in t"
   ]
  },
  {
   "cell_type": "code",
   "execution_count": 133,
   "id": "79befb59",
   "metadata": {},
   "outputs": [
    {
     "data": {
      "text/plain": [
       "True"
      ]
     },
     "execution_count": 133,
     "metadata": {},
     "output_type": "execute_result"
    }
   ],
   "source": [
    "4 in t"
   ]
  },
  {
   "cell_type": "code",
   "execution_count": null,
   "id": "2cf641b4",
   "metadata": {},
   "outputs": [],
   "source": [
    "c = \"시퀀스 자료형은 in\""
   ]
  },
  {
   "cell_type": "code",
   "execution_count": null,
   "id": "f1d8f7c5",
   "metadata": {},
   "outputs": [],
   "source": [
    "\"지료\" in c"
   ]
  },
  {
   "cell_type": "code",
   "execution_count": null,
   "id": "198dfcee",
   "metadata": {},
   "outputs": [],
   "source": [
    "\"확인\" in c"
   ]
  },
  {
   "cell_type": "code",
   "execution_count": 134,
   "id": "958cd0cb",
   "metadata": {},
   "outputs": [
    {
     "data": {
      "text/plain": [
       "True"
      ]
     },
     "execution_count": 134,
     "metadata": {},
     "output_type": "execute_result"
    }
   ],
   "source": [
    "list_01 = [1,2,3,4,5]\n",
    "3 in list_01"
   ]
  },
  {
   "cell_type": "markdown",
   "id": "8e59c04f",
   "metadata": {},
   "source": [
    "* 시퀀스 객체는 + 연산자를 이용하여 서로 연결이 가능"
   ]
  },
  {
   "cell_type": "code",
   "execution_count": 135,
   "id": "af0283bd",
   "metadata": {},
   "outputs": [
    {
     "data": {
      "text/plain": [
       "'시퀀스자료형'"
      ]
     },
     "execution_count": 135,
     "metadata": {},
     "output_type": "execute_result"
    }
   ],
   "source": [
    "\"시퀀스\" + \"자료형\""
   ]
  },
  {
   "cell_type": "code",
   "execution_count": 136,
   "id": "b46678d7",
   "metadata": {},
   "outputs": [
    {
     "data": {
      "text/plain": [
       "[1, 2, 3, 4, 5, 6, 7, 8]"
      ]
     },
     "execution_count": 136,
     "metadata": {},
     "output_type": "execute_result"
    }
   ],
   "source": [
    "[1,2,3,4] + [5,6,7,8]"
   ]
  },
  {
   "cell_type": "code",
   "execution_count": 138,
   "id": "07b93688",
   "metadata": {},
   "outputs": [
    {
     "data": {
      "text/plain": [
       "(1, 2, 3, 4, 5, 6, 7, 8)"
      ]
     },
     "execution_count": 138,
     "metadata": {},
     "output_type": "execute_result"
    }
   ],
   "source": [
    "(1,2,3,4) + (5,6,7,8)"
   ]
  },
  {
   "cell_type": "markdown",
   "id": "5429ade8",
   "metadata": {},
   "source": [
    " 시퀀스 객체 > 각 자료 속성(list 등 ..) \n",
    " * 시퀀스 객체는 *로 반복 가능\n",
    " * 요소만 반복, 자료형 자체는 반복 x"
   ]
  },
  {
   "cell_type": "code",
   "execution_count": 139,
   "id": "8144f293",
   "metadata": {},
   "outputs": [
    {
     "data": {
      "text/plain": [
       "'=================================================='"
      ]
     },
     "execution_count": 139,
     "metadata": {},
     "output_type": "execute_result"
    }
   ],
   "source": [
    "\"=\"*50"
   ]
  },
  {
   "cell_type": "code",
   "execution_count": 141,
   "id": "0808fe6c",
   "metadata": {},
   "outputs": [
    {
     "data": {
      "text/plain": [
       "[1, 2, 3, 1, 2, 3, 1, 2, 3]"
      ]
     },
     "execution_count": 141,
     "metadata": {},
     "output_type": "execute_result"
    }
   ],
   "source": [
    "[1,2,3]*3"
   ]
  },
  {
   "cell_type": "code",
   "execution_count": 142,
   "id": "f785cb9f",
   "metadata": {},
   "outputs": [
    {
     "data": {
      "text/plain": [
       "(4, 5, 6, 4, 5, 6, 4, 5, 6)"
      ]
     },
     "execution_count": 142,
     "metadata": {},
     "output_type": "execute_result"
    }
   ],
   "source": [
    "(4,5,6)*3"
   ]
  },
  {
   "cell_type": "code",
   "execution_count": 143,
   "id": "d8a319f0",
   "metadata": {},
   "outputs": [
    {
     "name": "stdout",
     "output_type": "stream",
     "text": [
      "문\n",
      "자\n",
      "열\n",
      "은\n",
      " \n",
      "반\n",
      "복\n",
      "문\n",
      "에\n",
      "서\n",
      " \n",
      "사\n",
      "용\n",
      "가\n",
      "능\n"
     ]
    }
   ],
   "source": [
    "for i in \"문자열은 반복문에서 사용가능\":\n",
    "    print(i)"
   ]
  },
  {
   "cell_type": "code",
   "execution_count": 145,
   "id": "c7b5120a",
   "metadata": {},
   "outputs": [
    {
     "ename": "SyntaxError",
     "evalue": "invalid syntax (3539368319.py, line 2)",
     "output_type": "error",
     "traceback": [
      "\u001b[1;36m  Cell \u001b[1;32mIn[145], line 2\u001b[1;36m\u001b[0m\n\u001b[1;33m    for i t:\u001b[0m\n\u001b[1;37m          ^\u001b[0m\n\u001b[1;31mSyntaxError\u001b[0m\u001b[1;31m:\u001b[0m invalid syntax\n"
     ]
    }
   ],
   "source": [
    "t1 = (1,2,3,4,5)\n",
    "for i t:\n",
    "    print(i)"
   ]
  },
  {
   "cell_type": "markdown",
   "id": "d9a16759",
   "metadata": {},
   "source": [
    "* 리스트, 튜플은 sum(), max(), min()과 같은 함수로 연산도 가능"
   ]
  },
  {
   "cell_type": "code",
   "execution_count": 147,
   "id": "2cf3c18f",
   "metadata": {},
   "outputs": [
    {
     "data": {
      "text/plain": [
       "36"
      ]
     },
     "execution_count": 147,
     "metadata": {},
     "output_type": "execute_result"
    }
   ],
   "source": [
    "sum(t)"
   ]
  },
  {
   "cell_type": "code",
   "execution_count": 149,
   "id": "1b2393ea",
   "metadata": {},
   "outputs": [
    {
     "data": {
      "text/plain": [
       "6"
      ]
     },
     "execution_count": 149,
     "metadata": {},
     "output_type": "execute_result"
    }
   ],
   "source": [
    "max(t)"
   ]
  },
  {
   "cell_type": "code",
   "execution_count": 150,
   "id": "77b0d7f5",
   "metadata": {},
   "outputs": [
    {
     "data": {
      "text/plain": [
       "1"
      ]
     },
     "execution_count": 150,
     "metadata": {},
     "output_type": "execute_result"
    }
   ],
   "source": [
    "min(t)"
   ]
  },
  {
   "cell_type": "code",
   "execution_count": null,
   "id": "e6cd3b55",
   "metadata": {},
   "outputs": [],
   "source": []
  },
  {
   "cell_type": "code",
   "execution_count": null,
   "id": "498cc1d5",
   "metadata": {},
   "outputs": [],
   "source": []
  },
  {
   "cell_type": "code",
   "execution_count": null,
   "id": "495eb5d8",
   "metadata": {},
   "outputs": [],
   "source": []
  },
  {
   "cell_type": "code",
   "execution_count": null,
   "id": "f39ea3d3",
   "metadata": {},
   "outputs": [],
   "source": []
  },
  {
   "cell_type": "code",
   "execution_count": null,
   "id": "41443dfa",
   "metadata": {},
   "outputs": [],
   "source": []
  },
  {
   "cell_type": "code",
   "execution_count": null,
   "id": "6f1c7c7c",
   "metadata": {},
   "outputs": [],
   "source": []
  },
  {
   "cell_type": "code",
   "execution_count": null,
   "id": "87a91d73",
   "metadata": {},
   "outputs": [],
   "source": []
  },
  {
   "cell_type": "code",
   "execution_count": null,
   "id": "62238441",
   "metadata": {},
   "outputs": [],
   "source": []
  }
 ],
 "metadata": {
  "kernelspec": {
   "display_name": "Python 3 (ipykernel)",
   "language": "python",
   "name": "python3"
  },
  "language_info": {
   "codemirror_mode": {
    "name": "ipython",
    "version": 3
   },
   "file_extension": ".py",
   "mimetype": "text/x-python",
   "name": "python",
   "nbconvert_exporter": "python",
   "pygments_lexer": "ipython3",
   "version": "3.9.21"
  }
 },
 "nbformat": 4,
 "nbformat_minor": 5
}
