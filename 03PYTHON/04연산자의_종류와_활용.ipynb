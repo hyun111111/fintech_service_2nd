{
 "cells": [
  {
   "cell_type": "markdown",
   "id": "1e0d6618",
   "metadata": {},
   "source": [
    "# 연산자의 종류\n",
    "* 산술, 할당, 비교, 논리, 식별, 멤버"
   ]
  },
  {
   "cell_type": "markdown",
   "id": "796d9a5b",
   "metadata": {},
   "source": [
    "# 산술연산자 +, -, *, /, %, //, **"
   ]
  },
  {
   "cell_type": "code",
   "execution_count": 1,
   "id": "c7f3dda1",
   "metadata": {},
   "outputs": [
    {
     "data": {
      "text/plain": [
       "2"
      ]
     },
     "execution_count": 1,
     "metadata": {},
     "output_type": "execute_result"
    }
   ],
   "source": [
    "1+1"
   ]
  },
  {
   "cell_type": "code",
   "execution_count": 2,
   "id": "65ceaae2",
   "metadata": {},
   "outputs": [
    {
     "data": {
      "text/plain": [
       "5.1"
      ]
     },
     "execution_count": 2,
     "metadata": {},
     "output_type": "execute_result"
    }
   ],
   "source": [
    "2 + 3.1"
   ]
  },
  {
   "cell_type": "code",
   "execution_count": 3,
   "id": "8cd9e7c0",
   "metadata": {},
   "outputs": [
    {
     "data": {
      "text/plain": [
       "-1"
      ]
     },
     "execution_count": 3,
     "metadata": {},
     "output_type": "execute_result"
    }
   ],
   "source": [
    "3 -4"
   ]
  },
  {
   "cell_type": "code",
   "execution_count": 4,
   "id": "e97f46b0",
   "metadata": {},
   "outputs": [
    {
     "data": {
      "text/plain": [
       "15"
      ]
     },
     "execution_count": 4,
     "metadata": {},
     "output_type": "execute_result"
    }
   ],
   "source": [
    "5 *3"
   ]
  },
  {
   "cell_type": "code",
   "execution_count": 5,
   "id": "ea1eed62",
   "metadata": {},
   "outputs": [
    {
     "data": {
      "text/plain": [
       "1.6666666666666667"
      ]
     },
     "execution_count": 5,
     "metadata": {},
     "output_type": "execute_result"
    }
   ],
   "source": [
    "5/3"
   ]
  },
  {
   "cell_type": "code",
   "execution_count": 6,
   "id": "4f3042ac",
   "metadata": {},
   "outputs": [
    {
     "data": {
      "text/plain": [
       "2.0"
      ]
     },
     "execution_count": 6,
     "metadata": {},
     "output_type": "execute_result"
    }
   ],
   "source": [
    "4/2"
   ]
  },
  {
   "cell_type": "markdown",
   "id": "840ae68e",
   "metadata": {},
   "source": [
    "%는 나머지를 구하는 연산자(%2로 나눠서 0이면 짝수 1이면 홀수)"
   ]
  },
  {
   "cell_type": "code",
   "execution_count": 7,
   "id": "10ecc853",
   "metadata": {},
   "outputs": [
    {
     "data": {
      "text/plain": [
       "0"
      ]
     },
     "execution_count": 7,
     "metadata": {},
     "output_type": "execute_result"
    }
   ],
   "source": [
    "4 % 2"
   ]
  },
  {
   "cell_type": "code",
   "execution_count": 9,
   "id": "f4633c84",
   "metadata": {},
   "outputs": [
    {
     "data": {
      "text/plain": [
       "1"
      ]
     },
     "execution_count": 9,
     "metadata": {},
     "output_type": "execute_result"
    }
   ],
   "source": [
    "15 % 2"
   ]
  },
  {
   "cell_type": "markdown",
   "id": "f878cf97",
   "metadata": {},
   "source": [
    "// 몫만 구하는 연산자"
   ]
  },
  {
   "cell_type": "code",
   "execution_count": 10,
   "id": "f23167b4",
   "metadata": {},
   "outputs": [
    {
     "data": {
      "text/plain": [
       "2"
      ]
     },
     "execution_count": 10,
     "metadata": {},
     "output_type": "execute_result"
    }
   ],
   "source": [
    "7//3"
   ]
  },
  {
   "cell_type": "markdown",
   "id": "e7521f4e",
   "metadata": {},
   "source": [
    "** 제곱"
   ]
  },
  {
   "cell_type": "code",
   "execution_count": 11,
   "id": "20c93ed4",
   "metadata": {},
   "outputs": [
    {
     "data": {
      "text/plain": [
       "8"
      ]
     },
     "execution_count": 11,
     "metadata": {},
     "output_type": "execute_result"
    }
   ],
   "source": [
    "2**3"
   ]
  },
  {
   "cell_type": "markdown",
   "id": "11f27693",
   "metadata": {},
   "source": [
    "# 할당 연산자\n",
    "* =. +-, -=, *=, /=, %="
   ]
  },
  {
   "cell_type": "code",
   "execution_count": 28,
   "id": "888d2f37",
   "metadata": {},
   "outputs": [],
   "source": [
    "a = 10 \n",
    "b = 5"
   ]
  },
  {
   "cell_type": "code",
   "execution_count": 29,
   "id": "39579027",
   "metadata": {},
   "outputs": [
    {
     "data": {
      "text/plain": [
       "15"
      ]
     },
     "execution_count": 29,
     "metadata": {},
     "output_type": "execute_result"
    }
   ],
   "source": [
    "a = a + 5\n",
    "a"
   ]
  },
  {
   "cell_type": "markdown",
   "id": "54923d61",
   "metadata": {},
   "source": [
    "위와 아래는 같다"
   ]
  },
  {
   "cell_type": "code",
   "execution_count": 30,
   "id": "f12c2ae1",
   "metadata": {},
   "outputs": [
    {
     "data": {
      "text/plain": [
       "20"
      ]
     },
     "execution_count": 30,
     "metadata": {},
     "output_type": "execute_result"
    }
   ],
   "source": [
    "a += 5\n",
    "a"
   ]
  },
  {
   "cell_type": "code",
   "execution_count": 23,
   "id": "4c36217d",
   "metadata": {},
   "outputs": [
    {
     "data": {
      "text/plain": [
       "-5"
      ]
     },
     "execution_count": 23,
     "metadata": {},
     "output_type": "execute_result"
    }
   ],
   "source": [
    "#  b = b-10\n",
    "b -= 10\n",
    "b"
   ]
  },
  {
   "cell_type": "code",
   "execution_count": 31,
   "id": "bfcd1778",
   "metadata": {},
   "outputs": [
    {
     "data": {
      "text/plain": [
       "4.0"
      ]
     },
     "execution_count": 31,
     "metadata": {},
     "output_type": "execute_result"
    }
   ],
   "source": [
    "a /= 5\n",
    "a"
   ]
  },
  {
   "cell_type": "code",
   "execution_count": 32,
   "id": "b4ca3f3f",
   "metadata": {},
   "outputs": [
    {
     "data": {
      "text/plain": [
       "0.0"
      ]
     },
     "execution_count": 32,
     "metadata": {},
     "output_type": "execute_result"
    }
   ],
   "source": [
    "a %=2\n",
    "a"
   ]
  },
  {
   "cell_type": "markdown",
   "id": "3afa02f2",
   "metadata": {},
   "source": [
    "# 비교연산자 \n",
    "* ==: 같다\n",
    "* !=: 다르다\n",
    "* \\> : 초과 \n",
    "* < : 미만\n",
    "* \\>= : 이상 \n",
    "* <= : 이하 "
   ]
  },
  {
   "cell_type": "code",
   "execution_count": 33,
   "id": "bf1d7b51",
   "metadata": {},
   "outputs": [],
   "source": [
    "a = 3\n",
    "b = 3.0\n",
    "c = 5\n",
    "d = \"Python\"\n",
    "e = \"python\"\n",
    "f = True\n",
    "g = False"
   ]
  },
  {
   "cell_type": "markdown",
   "id": "1af5bddd",
   "metadata": {},
   "source": [
    "== 같으면 True, 틀리면 False"
   ]
  },
  {
   "cell_type": "code",
   "execution_count": 34,
   "id": "7a0d7365",
   "metadata": {},
   "outputs": [
    {
     "data": {
      "text/plain": [
       "True"
      ]
     },
     "execution_count": 34,
     "metadata": {},
     "output_type": "execute_result"
    }
   ],
   "source": [
    "a == b"
   ]
  },
  {
   "cell_type": "code",
   "execution_count": 35,
   "id": "c263c884",
   "metadata": {},
   "outputs": [
    {
     "data": {
      "text/plain": [
       "False"
      ]
     },
     "execution_count": 35,
     "metadata": {},
     "output_type": "execute_result"
    }
   ],
   "source": [
    "a == c"
   ]
  },
  {
   "cell_type": "code",
   "execution_count": 36,
   "id": "58d89c8a",
   "metadata": {},
   "outputs": [
    {
     "data": {
      "text/plain": [
       "False"
      ]
     },
     "execution_count": 36,
     "metadata": {},
     "output_type": "execute_result"
    }
   ],
   "source": [
    "d == e"
   ]
  },
  {
   "cell_type": "markdown",
   "id": "f5f656f2",
   "metadata": {},
   "source": [
    "* != 다르면 True, 같으면 False"
   ]
  },
  {
   "cell_type": "code",
   "execution_count": 38,
   "id": "bf65890d",
   "metadata": {},
   "outputs": [
    {
     "data": {
      "text/plain": [
       "False"
      ]
     },
     "execution_count": 38,
     "metadata": {},
     "output_type": "execute_result"
    }
   ],
   "source": [
    "a != b"
   ]
  },
  {
   "cell_type": "code",
   "execution_count": 39,
   "id": "b113a4a7",
   "metadata": {},
   "outputs": [
    {
     "data": {
      "text/plain": [
       "True"
      ]
     },
     "execution_count": 39,
     "metadata": {},
     "output_type": "execute_result"
    }
   ],
   "source": [
    "a != c"
   ]
  },
  {
   "cell_type": "code",
   "execution_count": 40,
   "id": "835d85ee",
   "metadata": {},
   "outputs": [
    {
     "data": {
      "text/plain": [
       "True"
      ]
     },
     "execution_count": 40,
     "metadata": {},
     "output_type": "execute_result"
    }
   ],
   "source": [
    "d != e"
   ]
  },
  {
   "cell_type": "code",
   "execution_count": 42,
   "id": "5298fbe5",
   "metadata": {},
   "outputs": [
    {
     "name": "stdout",
     "output_type": "stream",
     "text": [
      "3\n",
      "3.0\n"
     ]
    },
    {
     "data": {
      "text/plain": [
       "False"
      ]
     },
     "execution_count": 42,
     "metadata": {},
     "output_type": "execute_result"
    }
   ],
   "source": [
    "print(a)\n",
    "print(b)\n",
    "a > b"
   ]
  },
  {
   "cell_type": "code",
   "execution_count": 43,
   "id": "719340f9",
   "metadata": {},
   "outputs": [
    {
     "data": {
      "text/plain": [
       "False"
      ]
     },
     "execution_count": 43,
     "metadata": {},
     "output_type": "execute_result"
    }
   ],
   "source": [
    "a > c"
   ]
  },
  {
   "cell_type": "code",
   "execution_count": 44,
   "id": "d0681c16",
   "metadata": {},
   "outputs": [
    {
     "name": "stdout",
     "output_type": "stream",
     "text": [
      "3\n",
      "3.0\n"
     ]
    },
    {
     "data": {
      "text/plain": [
       "True"
      ]
     },
     "execution_count": 44,
     "metadata": {},
     "output_type": "execute_result"
    }
   ],
   "source": [
    "print(a)\n",
    "print(b)\n",
    "a >= b"
   ]
  },
  {
   "cell_type": "code",
   "execution_count": 45,
   "id": "c9d92cb3",
   "metadata": {},
   "outputs": [
    {
     "name": "stdout",
     "output_type": "stream",
     "text": [
      "3\n",
      "3.0\n"
     ]
    },
    {
     "data": {
      "text/plain": [
       "True"
      ]
     },
     "execution_count": 45,
     "metadata": {},
     "output_type": "execute_result"
    }
   ],
   "source": [
    "print(a)\n",
    "print(b)\n",
    "a <= b"
   ]
  },
  {
   "cell_type": "markdown",
   "id": "b6e2af7c",
   "metadata": {},
   "source": [
    "# 논리 연산자\n",
    "* and, or, not"
   ]
  },
  {
   "cell_type": "markdown",
   "id": "bef9f36b",
   "metadata": {},
   "source": [
    "* and는 두 값이 모두 참이어야 참"
   ]
  },
  {
   "cell_type": "code",
   "execution_count": 46,
   "id": "b27e59d7",
   "metadata": {},
   "outputs": [
    {
     "data": {
      "text/plain": [
       "True"
      ]
     },
     "execution_count": 46,
     "metadata": {},
     "output_type": "execute_result"
    }
   ],
   "source": [
    "True and True"
   ]
  },
  {
   "cell_type": "code",
   "execution_count": 47,
   "id": "a7d1fe70",
   "metadata": {},
   "outputs": [
    {
     "data": {
      "text/plain": [
       "False"
      ]
     },
     "execution_count": 47,
     "metadata": {},
     "output_type": "execute_result"
    }
   ],
   "source": [
    "True and False"
   ]
  },
  {
   "cell_type": "code",
   "execution_count": 48,
   "id": "d6bc4bbc",
   "metadata": {},
   "outputs": [
    {
     "data": {
      "text/plain": [
       "False"
      ]
     },
     "execution_count": 48,
     "metadata": {},
     "output_type": "execute_result"
    }
   ],
   "source": [
    "False and False"
   ]
  },
  {
   "cell_type": "markdown",
   "id": "663aae4d",
   "metadata": {},
   "source": [
    "or 두 값중 하나라도 참이면 참, 두 값 모두가 거짓이여야 거짓"
   ]
  },
  {
   "cell_type": "code",
   "execution_count": 49,
   "id": "0fde1d50",
   "metadata": {},
   "outputs": [
    {
     "data": {
      "text/plain": [
       "True"
      ]
     },
     "execution_count": 49,
     "metadata": {},
     "output_type": "execute_result"
    }
   ],
   "source": [
    "True or True"
   ]
  },
  {
   "cell_type": "code",
   "execution_count": 50,
   "id": "18c714fc",
   "metadata": {},
   "outputs": [
    {
     "data": {
      "text/plain": [
       "True"
      ]
     },
     "execution_count": 50,
     "metadata": {},
     "output_type": "execute_result"
    }
   ],
   "source": [
    "True or False"
   ]
  },
  {
   "cell_type": "code",
   "execution_count": 51,
   "id": "07ba8ed1",
   "metadata": {},
   "outputs": [
    {
     "data": {
      "text/plain": [
       "False"
      ]
     },
     "execution_count": 51,
     "metadata": {},
     "output_type": "execute_result"
    }
   ],
   "source": [
    "False or False"
   ]
  },
  {
   "cell_type": "markdown",
   "id": "97faa4ce",
   "metadata": {},
   "source": [
    "not은 값을 반대로 뒤집음 True=>False, False=>True"
   ]
  },
  {
   "cell_type": "code",
   "execution_count": 52,
   "id": "5f350bfb",
   "metadata": {},
   "outputs": [
    {
     "data": {
      "text/plain": [
       "False"
      ]
     },
     "execution_count": 52,
     "metadata": {},
     "output_type": "execute_result"
    }
   ],
   "source": [
    "not True"
   ]
  },
  {
   "cell_type": "code",
   "execution_count": 53,
   "id": "55a66dc1",
   "metadata": {},
   "outputs": [
    {
     "data": {
      "text/plain": [
       "True"
      ]
     },
     "execution_count": 53,
     "metadata": {},
     "output_type": "execute_result"
    }
   ],
   "source": [
    "not False"
   ]
  },
  {
   "cell_type": "markdown",
   "id": "00260ce8",
   "metadata": {},
   "source": [
    "* and, or, not 우선순위\n",
    "* not, and, or 순으로 판단"
   ]
  },
  {
   "cell_type": "code",
   "execution_count": 54,
   "id": "6590f9e3",
   "metadata": {},
   "outputs": [
    {
     "data": {
      "text/plain": [
       "True"
      ]
     },
     "execution_count": 54,
     "metadata": {},
     "output_type": "execute_result"
    }
   ],
   "source": [
    "not True and False or not False"
   ]
  },
  {
   "cell_type": "code",
   "execution_count": 55,
   "id": "7718b912",
   "metadata": {},
   "outputs": [
    {
     "data": {
      "text/plain": [
       "True"
      ]
     },
     "execution_count": 55,
     "metadata": {},
     "output_type": "execute_result"
    }
   ],
   "source": [
    "10 == 10 and 10 != 5"
   ]
  },
  {
   "cell_type": "markdown",
   "id": "2a05ccac",
   "metadata": {},
   "source": [
    "# 식별연산자\n",
    "* is, is not (object, data type)이 같은지 비교"
   ]
  },
  {
   "cell_type": "code",
   "execution_count": 56,
   "id": "9a0263de",
   "metadata": {},
   "outputs": [
    {
     "name": "stdout",
     "output_type": "stream",
     "text": [
      "3\n",
      "3.0\n",
      "5\n"
     ]
    }
   ],
   "source": [
    "print(a)\n",
    "print(b)\n",
    "print(c)"
   ]
  },
  {
   "cell_type": "code",
   "execution_count": 59,
   "id": "77c9e225",
   "metadata": {},
   "outputs": [
    {
     "name": "stdout",
     "output_type": "stream",
     "text": [
      "True\n"
     ]
    }
   ],
   "source": [
    "print(a == b) # a는 정수, b는 실수 3.0이라서 값이 같은데, is는 데이터 타입까지 봄"
   ]
  },
  {
   "cell_type": "code",
   "execution_count": 58,
   "id": "c5d8e846",
   "metadata": {},
   "outputs": [
    {
     "name": "stdout",
     "output_type": "stream",
     "text": [
      "False\n"
     ]
    }
   ],
   "source": [
    "print( a is b )"
   ]
  },
  {
   "cell_type": "code",
   "execution_count": 60,
   "id": "49b49401",
   "metadata": {},
   "outputs": [],
   "source": [
    "d = 3"
   ]
  },
  {
   "cell_type": "code",
   "execution_count": 63,
   "id": "0d1bf8e0",
   "metadata": {},
   "outputs": [
    {
     "name": "stdout",
     "output_type": "stream",
     "text": [
      "True\n"
     ]
    }
   ],
   "source": [
    "print( a is d ) # a와 b가 모두 int 3이기 때문에 True"
   ]
  },
  {
   "cell_type": "code",
   "execution_count": 64,
   "id": "9c8f16ab",
   "metadata": {},
   "outputs": [
    {
     "name": "stdout",
     "output_type": "stream",
     "text": [
      "True\n"
     ]
    }
   ],
   "source": [
    "print( a is not b )"
   ]
  },
  {
   "cell_type": "markdown",
   "id": "6dc21554",
   "metadata": {},
   "source": [
    "# 멤버연산자\n",
    "* in, not in"
   ]
  },
  {
   "cell_type": "code",
   "execution_count": 65,
   "id": "0a9ed585",
   "metadata": {},
   "outputs": [],
   "source": [
    "mem = [1,2,3,4,5]"
   ]
  },
  {
   "cell_type": "code",
   "execution_count": 66,
   "id": "0af33ba3",
   "metadata": {},
   "outputs": [
    {
     "data": {
      "text/plain": [
       "True"
      ]
     },
     "execution_count": 66,
     "metadata": {},
     "output_type": "execute_result"
    }
   ],
   "source": [
    "3 in mem "
   ]
  },
  {
   "cell_type": "code",
   "execution_count": 67,
   "id": "8944bd0f",
   "metadata": {},
   "outputs": [
    {
     "data": {
      "text/plain": [
       "False"
      ]
     },
     "execution_count": 67,
     "metadata": {},
     "output_type": "execute_result"
    }
   ],
   "source": [
    "10 in mem "
   ]
  },
  {
   "cell_type": "code",
   "execution_count": 68,
   "id": "feb20074",
   "metadata": {},
   "outputs": [
    {
     "data": {
      "text/plain": [
       "True"
      ]
     },
     "execution_count": 68,
     "metadata": {},
     "output_type": "execute_result"
    }
   ],
   "source": [
    "10 not in mem"
   ]
  },
  {
   "cell_type": "code",
   "execution_count": 69,
   "id": "755f5dd8",
   "metadata": {},
   "outputs": [
    {
     "data": {
      "text/plain": [
       "False"
      ]
     },
     "execution_count": 69,
     "metadata": {},
     "output_type": "execute_result"
    }
   ],
   "source": [
    "3 not in mem"
   ]
  },
  {
   "cell_type": "code",
   "execution_count": null,
   "id": "2d262c8f",
   "metadata": {},
   "outputs": [],
   "source": []
  },
  {
   "cell_type": "code",
   "execution_count": null,
   "id": "78fda6aa",
   "metadata": {},
   "outputs": [],
   "source": []
  }
 ],
 "metadata": {
  "kernelspec": {
   "display_name": "Python 3 (ipykernel)",
   "language": "python",
   "name": "python3"
  },
  "language_info": {
   "codemirror_mode": {
    "name": "ipython",
    "version": 3
   },
   "file_extension": ".py",
   "mimetype": "text/x-python",
   "name": "python",
   "nbconvert_exporter": "python",
   "pygments_lexer": "ipython3",
   "version": "3.9.21"
  }
 },
 "nbformat": 4,
 "nbformat_minor": 5
}
