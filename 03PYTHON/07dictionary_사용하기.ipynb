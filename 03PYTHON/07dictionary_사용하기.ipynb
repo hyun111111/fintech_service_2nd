{
 "cells": [
  {
   "cell_type": "markdown",
   "id": "41c9ec46",
   "metadata": {},
   "source": [
    "# 딕셔너리 사용하기\n",
    "* dict 타입, json 형이라고도 함\n",
    "* web에서 자료를 주고받을 때 주로 사용하는 형식\n",
    "* { key : value } \n",
    "* key에는 list, dict를 제외한 자료형이 올 수 있음, \n",
    "* value에는 모든 자료형의 자료가 들어갈 수 있다. "
   ]
  },
  {
   "cell_type": "code",
   "execution_count": 1,
   "id": "5a742a8a",
   "metadata": {},
   "outputs": [
    {
     "ename": "SyntaxError",
     "evalue": "only single target (not tuple) can be annotated (3263173568.py, line 1)",
     "output_type": "error",
     "traceback": [
      "\u001b[1;36m  Cell \u001b[1;32mIn[1], line 1\u001b[1;36m\u001b[0m\n\u001b[1;33m    (\"남\", \"클래스\", '생존여부') : 0,\u001b[0m\n\u001b[1;37m    ^\u001b[0m\n\u001b[1;31mSyntaxError\u001b[0m\u001b[1;31m:\u001b[0m only single target (not tuple) can be annotated\n"
     ]
    }
   ],
   "source": [
    "(\"남\", \"클래스\", '생존여부') : 0, "
   ]
  },
  {
   "cell_type": "markdown",
   "id": "58da24e0",
   "metadata": {},
   "source": [
    "## 딕셔너리 만들기\n",
    "* 중괄호 안에 key : value 쌍으로 만든다. \n",
    "* 빈 딕셔너리 생성가능 {}\n",
    "* dict()함수를 이용해서 대량의 딕셔너리 생성 가능"
   ]
  },
  {
   "cell_type": "code",
   "execution_count": 2,
   "id": "9cbbc10b",
   "metadata": {},
   "outputs": [],
   "source": [
    "d = {'년월' : '20250523', '국가': '미국', '방문자수':1000}"
   ]
  },
  {
   "cell_type": "code",
   "execution_count": 3,
   "id": "d5748eec",
   "metadata": {},
   "outputs": [
    {
     "data": {
      "text/plain": [
       "'미국'"
      ]
     },
     "execution_count": 3,
     "metadata": {},
     "output_type": "execute_result"
    }
   ],
   "source": [
    "d['국가']"
   ]
  },
  {
   "cell_type": "code",
   "execution_count": 4,
   "id": "acdddd6a",
   "metadata": {},
   "outputs": [
    {
     "name": "stdout",
     "output_type": "stream",
     "text": [
      "{} <class 'dict'>\n"
     ]
    }
   ],
   "source": [
    "d2 = {}\n",
    "print(d2, type(d2))"
   ]
  },
  {
   "cell_type": "markdown",
   "id": "cd2980f2",
   "metadata": {},
   "source": [
    "## dict key의 자료형\n",
    "* 정수, 문자열, 실수, 불린(boolen), tuple\n",
    "* dic, list는 key가 될 수 없다"
   ]
  },
  {
   "cell_type": "code",
   "execution_count": 8,
   "id": "7644c299",
   "metadata": {},
   "outputs": [
    {
     "data": {
      "text/plain": [
       "{'백': 100, 100: '백', 3.5: [3.5, 3.7], False: 0, (0, '서울'): '종로구'}"
      ]
     },
     "execution_count": 8,
     "metadata": {},
     "output_type": "execute_result"
    }
   ],
   "source": [
    "d3 = { '백': 100, 100 : '백', 3.5: [3.5,3.7], False :0, (0,\"서울\") :\"종로구\"}\n",
    "d3"
   ]
  },
  {
   "cell_type": "code",
   "execution_count": 10,
   "id": "2e66d84c",
   "metadata": {},
   "outputs": [
    {
     "ename": "TypeError",
     "evalue": "unhashable type: 'list'",
     "output_type": "error",
     "traceback": [
      "\u001b[1;31m---------------------------------------------------------------------------\u001b[0m",
      "\u001b[1;31mTypeError\u001b[0m                                 Traceback (most recent call last)",
      "Cell \u001b[1;32mIn[10], line 1\u001b[0m\n\u001b[1;32m----> 1\u001b[0m d4 \u001b[38;5;241m=\u001b[39m { \u001b[38;5;124m'\u001b[39m\u001b[38;5;124m백\u001b[39m\u001b[38;5;124m'\u001b[39m: \u001b[38;5;241m100\u001b[39m, \u001b[38;5;241m100\u001b[39m : \u001b[38;5;124m'\u001b[39m\u001b[38;5;124m백\u001b[39m\u001b[38;5;124m'\u001b[39m, \u001b[38;5;241m3.5\u001b[39m: [\u001b[38;5;241m3.5\u001b[39m,\u001b[38;5;241m3.7\u001b[39m], \u001b[38;5;28;01mFalse\u001b[39;00m :\u001b[38;5;241m0\u001b[39m, (\u001b[38;5;241m0\u001b[39m,\u001b[38;5;124m\"\u001b[39m\u001b[38;5;124m서울\u001b[39m\u001b[38;5;124m\"\u001b[39m) :\u001b[38;5;124m\"\u001b[39m\u001b[38;5;124m종로구\u001b[39m\u001b[38;5;124m\"\u001b[39m, {[\u001b[38;5;241m1\u001b[39m,\u001b[38;5;241m2\u001b[39m]}:\u001b[38;5;124m\"\u001b[39m\u001b[38;5;124m리스트\u001b[39m\u001b[38;5;124m\"\u001b[39m}\n\u001b[0;32m      2\u001b[0m d3\n",
      "\u001b[1;31mTypeError\u001b[0m: unhashable type: 'list'"
     ]
    }
   ],
   "source": [
    "d4 = { '백': 100, 100 : '백', 3.5: [3.5,3.7], False :0, (0,\"서울\") :\"종로구\", {[1,2]}:\"리스트\"}\n",
    "d3"
   ]
  },
  {
   "cell_type": "code",
   "execution_count": 11,
   "id": "852241a8",
   "metadata": {},
   "outputs": [
    {
     "ename": "TypeError",
     "evalue": "unhashable type: 'dict'",
     "output_type": "error",
     "traceback": [
      "\u001b[1;31m---------------------------------------------------------------------------\u001b[0m",
      "\u001b[1;31mTypeError\u001b[0m                                 Traceback (most recent call last)",
      "Cell \u001b[1;32mIn[11], line 1\u001b[0m\n\u001b[1;32m----> 1\u001b[0m d4 \u001b[38;5;241m=\u001b[39m { \u001b[38;5;124m'\u001b[39m\u001b[38;5;124m백\u001b[39m\u001b[38;5;124m'\u001b[39m: \u001b[38;5;241m100\u001b[39m, \u001b[38;5;241m100\u001b[39m : \u001b[38;5;124m'\u001b[39m\u001b[38;5;124m백\u001b[39m\u001b[38;5;124m'\u001b[39m, \u001b[38;5;241m3.5\u001b[39m: [\u001b[38;5;241m3.5\u001b[39m,\u001b[38;5;241m3.7\u001b[39m], \u001b[38;5;28;01mFalse\u001b[39;00m :\u001b[38;5;241m0\u001b[39m, (\u001b[38;5;241m0\u001b[39m,\u001b[38;5;124m\"\u001b[39m\u001b[38;5;124m서울\u001b[39m\u001b[38;5;124m\"\u001b[39m) :\u001b[38;5;124m\"\u001b[39m\u001b[38;5;124m종로구\u001b[39m\u001b[38;5;124m\"\u001b[39m, {\u001b[38;5;241m1\u001b[39m:\u001b[38;5;241m3\u001b[39m}:\u001b[38;5;124m\"\u001b[39m\u001b[38;5;124m리스트\u001b[39m\u001b[38;5;124m\"\u001b[39m}\n\u001b[0;32m      2\u001b[0m d3\n",
      "\u001b[1;31mTypeError\u001b[0m: unhashable type: 'dict'"
     ]
    }
   ],
   "source": [
    "d4 = { '백': 100, 100 : '백', 3.5: [3.5,3.7], False :0, (0,\"서울\") :\"종로구\", {1:3}:\"리스트\"}\n",
    "d3"
   ]
  },
  {
   "cell_type": "code",
   "execution_count": 12,
   "id": "0e7c0d46",
   "metadata": {},
   "outputs": [
    {
     "data": {
      "text/plain": [
       "100"
      ]
     },
     "execution_count": 12,
     "metadata": {},
     "output_type": "execute_result"
    }
   ],
   "source": [
    "d3['백']"
   ]
  },
  {
   "cell_type": "code",
   "execution_count": 13,
   "id": "bee7ea9e",
   "metadata": {},
   "outputs": [
    {
     "data": {
      "text/plain": [
       "'백'"
      ]
     },
     "execution_count": 13,
     "metadata": {},
     "output_type": "execute_result"
    }
   ],
   "source": [
    "d3[100]"
   ]
  },
  {
   "cell_type": "code",
   "execution_count": 14,
   "id": "72a467d8",
   "metadata": {},
   "outputs": [
    {
     "data": {
      "text/plain": [
       "[3.5, 3.7]"
      ]
     },
     "execution_count": 14,
     "metadata": {},
     "output_type": "execute_result"
    }
   ],
   "source": [
    "d3[3.5]"
   ]
  },
  {
   "cell_type": "code",
   "execution_count": 16,
   "id": "6187d819",
   "metadata": {},
   "outputs": [
    {
     "data": {
      "text/plain": [
       "0"
      ]
     },
     "execution_count": 16,
     "metadata": {},
     "output_type": "execute_result"
    }
   ],
   "source": [
    "d3[False]"
   ]
  },
  {
   "cell_type": "code",
   "execution_count": 17,
   "id": "dd43dc55",
   "metadata": {},
   "outputs": [
    {
     "data": {
      "text/plain": [
       "'종로구'"
      ]
     },
     "execution_count": 17,
     "metadata": {},
     "output_type": "execute_result"
    }
   ],
   "source": [
    "d3[0,\"서울\"]"
   ]
  },
  {
   "cell_type": "code",
   "execution_count": 18,
   "id": "7cee6930",
   "metadata": {},
   "outputs": [
    {
     "data": {
      "text/plain": [
       "'종로구'"
      ]
     },
     "execution_count": 18,
     "metadata": {},
     "output_type": "execute_result"
    }
   ],
   "source": [
    "d3[(0,\"서울\")]"
   ]
  },
  {
   "cell_type": "markdown",
   "id": "669115cc",
   "metadata": {},
   "source": [
    "## 딕셔너리의 Value의 자료형\n",
    "* value는 모든 자료형이 올 수 있다. "
   ]
  },
  {
   "cell_type": "code",
   "execution_count": 19,
   "id": "b392eaf1",
   "metadata": {},
   "outputs": [],
   "source": [
    "d4 = {'정수':100, '실수': 3.5, '문자열': '딕셔너리의 값',\n",
    "     '리스트':[1,2,3,4], '튜플':(1,2,3,4), '딕셔너리': {'key':\"value\"}, '불린' : True}"
   ]
  },
  {
   "cell_type": "code",
   "execution_count": 20,
   "id": "9fd8199e",
   "metadata": {},
   "outputs": [
    {
     "data": {
      "text/plain": [
       "100"
      ]
     },
     "execution_count": 20,
     "metadata": {},
     "output_type": "execute_result"
    }
   ],
   "source": [
    "d4['정수']"
   ]
  },
  {
   "cell_type": "code",
   "execution_count": 21,
   "id": "ba552bab",
   "metadata": {},
   "outputs": [
    {
     "data": {
      "text/plain": [
       "3"
      ]
     },
     "execution_count": 21,
     "metadata": {},
     "output_type": "execute_result"
    }
   ],
   "source": [
    "d4['리스트'][2]"
   ]
  },
  {
   "cell_type": "code",
   "execution_count": 22,
   "id": "9ffd28e6",
   "metadata": {},
   "outputs": [
    {
     "data": {
      "text/plain": [
       "'value'"
      ]
     },
     "execution_count": 22,
     "metadata": {},
     "output_type": "execute_result"
    }
   ],
   "source": [
    "d4['딕셔너리']['key']"
   ]
  },
  {
   "cell_type": "markdown",
   "id": "c5c353a5",
   "metadata": {},
   "source": [
    "## 빈 딕셔너리 만들기\n",
    "* 변수 = {}\n",
    "* 변수 = dict()"
   ]
  },
  {
   "cell_type": "code",
   "execution_count": 23,
   "id": "ab2361bb",
   "metadata": {},
   "outputs": [
    {
     "name": "stdout",
     "output_type": "stream",
     "text": [
      "{} <class 'dict'>\n"
     ]
    }
   ],
   "source": [
    "d5 = {}\n",
    "print (d5, type(d5))"
   ]
  },
  {
   "cell_type": "code",
   "execution_count": 24,
   "id": "a13daa14",
   "metadata": {},
   "outputs": [
    {
     "name": "stdout",
     "output_type": "stream",
     "text": [
      "{} <class 'dict'>\n"
     ]
    }
   ],
   "source": [
    "d6 = dict()\n",
    "print(d6, type(d6))"
   ]
  },
  {
   "cell_type": "markdown",
   "id": "2b70f8de",
   "metadata": {},
   "source": [
    "## 딕셔너리에 자료 추가하기\n",
    "* 변수['key'] = value\n",
    "* 이미 key가 있는 경우 자료가 수정됨"
   ]
  },
  {
   "cell_type": "code",
   "execution_count": 28,
   "id": "55e3219b",
   "metadata": {},
   "outputs": [
    {
     "data": {
      "text/plain": [
       "{'번호': 0}"
      ]
     },
     "execution_count": 28,
     "metadata": {},
     "output_type": "execute_result"
    }
   ],
   "source": [
    "d5['번호'] = 0\n",
    "d5"
   ]
  },
  {
   "cell_type": "code",
   "execution_count": 29,
   "id": "cfd2d795",
   "metadata": {},
   "outputs": [
    {
     "data": {
      "text/plain": [
       "{'번호': 0, '리스트': [1, 2, 3]}"
      ]
     },
     "execution_count": 29,
     "metadata": {},
     "output_type": "execute_result"
    }
   ],
   "source": [
    "d5['리스트'] = [1,2,3]\n",
    "d5"
   ]
  },
  {
   "cell_type": "code",
   "execution_count": 32,
   "id": "32e14d5b",
   "metadata": {},
   "outputs": [
    {
     "data": {
      "text/plain": [
       "{'번호': 0, '리스트': [1, 2, 3]}"
      ]
     },
     "execution_count": 32,
     "metadata": {},
     "output_type": "execute_result"
    }
   ],
   "source": [
    "d5['번호'] = 0\n",
    "d5 \n",
    "# 이미 키가 있는 경우 자료가 수정이된다. "
   ]
  },
  {
   "cell_type": "code",
   "execution_count": 34,
   "id": "7da60ebc",
   "metadata": {},
   "outputs": [
    {
     "data": {
      "text/plain": [
       "{'번호': 1, '이름': '둘리', '나이': 15}"
      ]
     },
     "execution_count": 34,
     "metadata": {},
     "output_type": "execute_result"
    }
   ],
   "source": [
    "d7 ={'번호': 0, \"이름\": \"홍길동\", \"나이\" :30, '번호' : 1, \n",
    "    '번호' :1, \"이름\": \"둘리\", \"나이\":15}\n",
    "d7\n",
    "# 한 문장 안에서 입력한 것이 중복되도 덮어씀"
   ]
  },
  {
   "cell_type": "markdown",
   "id": "ceb1860f",
   "metadata": {},
   "source": [
    "# 딕셔너리에서 KEY가 중복되면 나중에 들어온 key로 내용이 변경됨"
   ]
  },
  {
   "cell_type": "markdown",
   "id": "4c368614",
   "metadata": {},
   "source": [
    "# dict 함수를 사용해서 dict만들기"
   ]
  },
  {
   "cell_type": "markdown",
   "id": "3de3e4bd",
   "metadata": {},
   "source": [
    "## dict(key1=value1, key2=value2, key3=value3)\n",
    "* key에 ',\"\"를 사용하지 않는다. \n",
    "* key는 모두 문자형으로 변환된다.\n",
    "* value가 문자형 자료면 반드시 \"\"가 필요하다."
   ]
  },
  {
   "cell_type": "code",
   "execution_count": 36,
   "id": "d3842ff1",
   "metadata": {},
   "outputs": [
    {
     "data": {
      "text/plain": [
       "{'정수': 100,\n",
       " '실수': 3.5,\n",
       " '문자': '문자열',\n",
       " '리스트': [1, 2, 3],\n",
       " '튜플': (1, 2, 3),\n",
       " '딕셔너리': {'key', 'value'}}"
      ]
     },
     "execution_count": 36,
     "metadata": {},
     "output_type": "execute_result"
    }
   ],
   "source": [
    "dict_ex1 = dict(정수=100, 실수=3.5, 문자=\"문자열\",\n",
    "               리스트=[1,2,3], 튜플=(1,2,3),\n",
    "               딕셔너리 = {'key','value'})\n",
    "dict_ex1"
   ]
  },
  {
   "cell_type": "markdown",
   "id": "ddc8d4b9",
   "metadata": {},
   "source": [
    "* url 만들때 리쿼스트 라이브러리를 쓰면 딕셔너리 형태로 만들어 주므로 이때 이 함수를 많이 사용한다. "
   ]
  },
  {
   "cell_type": "markdown",
   "id": "8f0398c3",
   "metadata": {},
   "source": [
    "## dict([key1, value1), (key2, value2)])\n",
    "        * 리스트 안에 key, value 쌍으로 넣기"
   ]
  },
  {
   "cell_type": "code",
   "execution_count": 45,
   "id": "51149f60",
   "metadata": {},
   "outputs": [
    {
     "ename": "SyntaxError",
     "evalue": "closing parenthesis ']' does not match opening parenthesis '(' on line 3 (1864838895.py, line 6)",
     "output_type": "error",
     "traceback": [
      "\u001b[1;36m  Cell \u001b[1;32mIn[45], line 6\u001b[1;36m\u001b[0m\n\u001b[1;33m    ])\u001b[0m\n\u001b[1;37m    ^\u001b[0m\n\u001b[1;31mSyntaxError\u001b[0m\u001b[1;31m:\u001b[0m closing parenthesis ']' does not match opening parenthesis '(' on line 3\n"
     ]
    }
   ],
   "source": [
    "dict2_ex2 = dict([('wjdtn,3'),(\"실수\", 3.5),\n",
    "                 ('문자열', \"문자열입니다\")\n",
    "                 (\"list\", [1,2,3],\n",
    "                 (\"tuple\",(1,2,3)),\n",
    "                 (\"dict\",{'key':\"value\"})\n",
    "                 ])\n",
    "dict2_ex2 "
   ]
  },
  {
   "cell_type": "markdown",
   "id": "e70b6abf",
   "metadata": {},
   "source": [
    "## dict(zip([key1,key2], [value1,value2]))\n",
    "* key 묶음 리스트와 value 묶음 리스트를 zip 함수로 합친 후 dict 생성\n",
    "* key 묶음의 요소 개수와 value묶음의 요소 개수가 일치해야함. "
   ]
  },
  {
   "cell_type": "code",
   "execution_count": 51,
   "id": "3959cef5",
   "metadata": {},
   "outputs": [
    {
     "name": "stdout",
     "output_type": "stream",
     "text": [
      "1 5\n",
      "2 6\n",
      "3 7\n",
      "4 8\n"
     ]
    }
   ],
   "source": [
    "for a, b in zip([1,2,3,4], [5,6,7,8]):\n",
    "    print(a, b)"
   ]
  },
  {
   "cell_type": "code",
   "execution_count": 50,
   "id": "9e527ef7",
   "metadata": {},
   "outputs": [
    {
     "name": "stdout",
     "output_type": "stream",
     "text": [
      "4\n"
     ]
    }
   ],
   "source": [
    "    print(a)"
   ]
  },
  {
   "cell_type": "code",
   "execution_count": 52,
   "id": "3c99a7f4",
   "metadata": {},
   "outputs": [
    {
     "name": "stdout",
     "output_type": "stream",
     "text": [
      "(1, 5, 9)\n",
      "(2, 6, 10)\n",
      "(3, 7, 11)\n",
      "(4, 8, 12)\n"
     ]
    }
   ],
   "source": [
    "for a in zip([1,2,3,4], [5,6,7,8], [9,10,11,12]):\n",
    "    print(a)"
   ]
  },
  {
   "cell_type": "code",
   "execution_count": 53,
   "id": "7f36626d",
   "metadata": {},
   "outputs": [
    {
     "data": {
      "text/plain": [
       "(4, 8, 12)"
      ]
     },
     "execution_count": 53,
     "metadata": {},
     "output_type": "execute_result"
    }
   ],
   "source": [
    "a"
   ]
  },
  {
   "cell_type": "code",
   "execution_count": 65,
   "id": "a76c0ef0",
   "metadata": {},
   "outputs": [
    {
     "data": {
      "text/plain": [
       "{'정수': 10, '실수': 10.3, '문자열': '문자열입니다', '리스트': [1, 2, 3], '튜플': (1, 2, 3)}"
      ]
     },
     "execution_count": 65,
     "metadata": {},
     "output_type": "execute_result"
    }
   ],
   "source": [
    "dict_ex3 = dict(zip(['정수','실수','문자열', '리스트', '튜플'],\n",
    "                   [10, 10.3, \"문자열입니다\", [1,2,3,], (1,2,3), {10:30}]))\n",
    "dict_ex3"
   ]
  },
  {
   "cell_type": "markdown",
   "id": "2df7d11c",
   "metadata": {},
   "source": [
    "## 딕셔너리에서 값 삭제하기\n",
    "* del 변수명['key']:key와 value 쌍이 모두 삭제"
   ]
  },
  {
   "cell_type": "code",
   "execution_count": 59,
   "id": "5de26764",
   "metadata": {},
   "outputs": [
    {
     "data": {
      "text/plain": [
       "{'정수': 10, '실수': 10.3, '문자열': '문자열입니다', '리스트': [1, 23], '튜플': (1, 2, 3)}"
      ]
     },
     "execution_count": 59,
     "metadata": {},
     "output_type": "execute_result"
    }
   ],
   "source": [
    "dict_ex3"
   ]
  },
  {
   "cell_type": "code",
   "execution_count": 66,
   "id": "5a20878c",
   "metadata": {},
   "outputs": [
    {
     "ename": "KeyError",
     "evalue": "'딕셔너리'",
     "output_type": "error",
     "traceback": [
      "\u001b[1;31m---------------------------------------------------------------------------\u001b[0m",
      "\u001b[1;31mKeyError\u001b[0m                                  Traceback (most recent call last)",
      "Cell \u001b[1;32mIn[66], line 1\u001b[0m\n\u001b[1;32m----> 1\u001b[0m \u001b[38;5;28;01mdel\u001b[39;00m dict_ex3[\u001b[38;5;124m'\u001b[39m\u001b[38;5;124m딕셔너리\u001b[39m\u001b[38;5;124m'\u001b[39m]\n",
      "\u001b[1;31mKeyError\u001b[0m: '딕셔너리'"
     ]
    }
   ],
   "source": [
    "del dict_ex3['딕셔너리']"
   ]
  },
  {
   "cell_type": "code",
   "execution_count": 67,
   "id": "ce105468",
   "metadata": {},
   "outputs": [
    {
     "data": {
      "text/plain": [
       "3"
      ]
     },
     "execution_count": 67,
     "metadata": {},
     "output_type": "execute_result"
    }
   ],
   "source": [
    "dict_ex3['리스트'].pop()"
   ]
  },
  {
   "cell_type": "code",
   "execution_count": 68,
   "id": "905ccca7",
   "metadata": {},
   "outputs": [],
   "source": [
    "dict_ex3['리스트'].append(2)"
   ]
  },
  {
   "cell_type": "code",
   "execution_count": 69,
   "id": "c3a68bd2",
   "metadata": {},
   "outputs": [
    {
     "data": {
      "text/plain": [
       "{'정수': 10, '실수': 10.3, '문자열': '문자열입니다', '리스트': [1, 2, 2], '튜플': (1, 2, 3)}"
      ]
     },
     "execution_count": 69,
     "metadata": {},
     "output_type": "execute_result"
    }
   ],
   "source": [
    "dict_ex3"
   ]
  },
  {
   "cell_type": "markdown",
   "id": "fc11dbb7",
   "metadata": {},
   "source": [
    "## 딕셔너리 안에 특정 key가 있는지 확인하기 "
   ]
  },
  {
   "cell_type": "code",
   "execution_count": 71,
   "id": "1a540241",
   "metadata": {},
   "outputs": [
    {
     "data": {
      "text/plain": [
       "True"
      ]
     },
     "execution_count": 71,
     "metadata": {},
     "output_type": "execute_result"
    }
   ],
   "source": [
    "'리스트' in dict_ex3"
   ]
  },
  {
   "cell_type": "code",
   "execution_count": 72,
   "id": "eb2b795e",
   "metadata": {},
   "outputs": [
    {
     "data": {
      "text/plain": [
       "False"
      ]
     },
     "execution_count": 72,
     "metadata": {},
     "output_type": "execute_result"
    }
   ],
   "source": [
    "10 in dict_ex3"
   ]
  },
  {
   "cell_type": "markdown",
   "id": "a0f58a68",
   "metadata": {},
   "source": [
    "# 딕셔너리 안에 KEY가 몇개 있는지 "
   ]
  },
  {
   "cell_type": "code",
   "execution_count": 73,
   "id": "df241e24",
   "metadata": {},
   "outputs": [
    {
     "data": {
      "text/plain": [
       "5"
      ]
     },
     "execution_count": 73,
     "metadata": {},
     "output_type": "execute_result"
    }
   ],
   "source": [
    "len(dict_ex3)"
   ]
  },
  {
   "cell_type": "code",
   "execution_count": 74,
   "id": "6ae0adbd",
   "metadata": {},
   "outputs": [],
   "source": [
    "data = {'info':[{'name': \"Alice\", \"scores\":(95, 88, 92)},\n",
    "                 {'name': \"Bob\", \"scores\": (78, 85, 89)}],\n",
    "        'extra':{\"hobbies\":['reading', 'coding'], \n",
    "                 'location':('Seoul','Busan')}\n",
    "        }"
   ]
  },
  {
   "cell_type": "code",
   "execution_count": 76,
   "id": "6780f6b5",
   "metadata": {},
   "outputs": [
    {
     "data": {
      "text/plain": [
       "2"
      ]
     },
     "execution_count": 76,
     "metadata": {},
     "output_type": "execute_result"
    }
   ],
   "source": [
    "len(data)\n"
   ]
  },
  {
   "cell_type": "markdown",
   "id": "b230215e",
   "metadata": {},
   "source": [
    "## 딕셔너리 함수 사용하기"
   ]
  },
  {
   "cell_type": "markdown",
   "id": "9f83832b",
   "metadata": {},
   "source": [
    "* setdefault(key,value)\n",
    "* 딕셔너리에 key 와 value를 추가\n",
    "* key 가 중복되면 나중에 추가하는 값을 무시함 (원래 자료 보존)\n",
    "* key만 넣고 value를 생락하면 자동으로 'None'이 입력됨."
   ]
  },
  {
   "cell_type": "code",
   "execution_count": 78,
   "id": "c6a44a04",
   "metadata": {},
   "outputs": [
    {
     "data": {
      "text/plain": [
       "{'년월': '20250523', '국가': '미국', '방문자수': 1000}"
      ]
     },
     "execution_count": 78,
     "metadata": {},
     "output_type": "execute_result"
    }
   ],
   "source": [
    "d"
   ]
  },
  {
   "cell_type": "code",
   "execution_count": 79,
   "id": "2602d492",
   "metadata": {},
   "outputs": [],
   "source": [
    "d[\"년월\"]=20240412"
   ]
  },
  {
   "cell_type": "code",
   "execution_count": 80,
   "id": "ae31be51",
   "metadata": {},
   "outputs": [
    {
     "data": {
      "text/plain": [
       "{'년월': 20240412, '국가': '미국', '방문자수': 1000}"
      ]
     },
     "execution_count": 80,
     "metadata": {},
     "output_type": "execute_result"
    }
   ],
   "source": [
    "d"
   ]
  },
  {
   "cell_type": "code",
   "execution_count": 84,
   "id": "d2910a77",
   "metadata": {},
   "outputs": [
    {
     "data": {
      "text/plain": [
       "20240412"
      ]
     },
     "execution_count": 84,
     "metadata": {},
     "output_type": "execute_result"
    }
   ],
   "source": [
    "d.setdefault('년월', 20250314)\n",
    "# 자료가 무시됨"
   ]
  },
  {
   "cell_type": "code",
   "execution_count": 82,
   "id": "9783f143",
   "metadata": {},
   "outputs": [
    {
     "data": {
      "text/plain": [
       "{'년월': 20240412, '국가': '미국', '방문자수': 1000}"
      ]
     },
     "execution_count": 82,
     "metadata": {},
     "output_type": "execute_result"
    }
   ],
   "source": [
    "d"
   ]
  },
  {
   "cell_type": "code",
   "execution_count": 83,
   "id": "3a58ec1d",
   "metadata": {},
   "outputs": [
    {
     "data": {
      "text/plain": [
       "{'년월': 20240412, '국가': '미국', '방문자수': 1000, '날씨': '맑음'}"
      ]
     },
     "execution_count": 83,
     "metadata": {},
     "output_type": "execute_result"
    }
   ],
   "source": [
    "d.setdefault('날씨', '맑음')\n",
    "d"
   ]
  },
  {
   "cell_type": "markdown",
   "id": "722ab47e",
   "metadata": {},
   "source": [
    "### uptate(key=value)\n",
    "* 기존에 key가 있는 경우 값을 새로운 값으로 update\n",
    "* 기존에 key가 없는 경우 새로운 key, value 생성\n",
    "* key 부분에 \",\" 사용하지 않는다"
   ]
  },
  {
   "cell_type": "code",
   "execution_count": 86,
   "id": "e08bef7d",
   "metadata": {},
   "outputs": [
    {
     "data": {
      "text/plain": [
       "{'년월': 20240412, '국가': '미국', '방문자수': 500, '날씨': '맑음'}"
      ]
     },
     "execution_count": 86,
     "metadata": {},
     "output_type": "execute_result"
    }
   ],
   "source": [
    "d.update(방문자수=500)\n",
    "d"
   ]
  },
  {
   "cell_type": "code",
   "execution_count": 87,
   "id": "547315d3",
   "metadata": {},
   "outputs": [
    {
     "data": {
      "text/plain": [
       "{'년월': 20240412, '국가': '미국', '방문자수': 500, '날씨': '맑음', '바람': '강함'}"
      ]
     },
     "execution_count": 87,
     "metadata": {},
     "output_type": "execute_result"
    }
   ],
   "source": [
    "d.update(바람='강함')\n",
    "d"
   ]
  },
  {
   "cell_type": "markdown",
   "id": "c378bec2",
   "metadata": {},
   "source": [
    "## 딕셔너리에서 value를 가져오는 함수로 .get()\n",
    "* .get(key, key가 없을 때 기본 값)\n",
    "* 딕셔너리 내에 key가 있다가 없다가를 반복하는 경우 오류 방지\n",
    "* 에러 무시해서 가져오고 싶은것만"
   ]
  },
  {
   "cell_type": "code",
   "execution_count": 88,
   "id": "bd6dbbc6",
   "metadata": {},
   "outputs": [
    {
     "data": {
      "text/plain": [
       "'강함'"
      ]
     },
     "execution_count": 88,
     "metadata": {},
     "output_type": "execute_result"
    }
   ],
   "source": [
    "d['바람']"
   ]
  },
  {
   "cell_type": "code",
   "execution_count": 89,
   "id": "548af547",
   "metadata": {
    "scrolled": true
   },
   "outputs": [
    {
     "ename": "KeyError",
     "evalue": "'강수량'",
     "output_type": "error",
     "traceback": [
      "\u001b[1;31m---------------------------------------------------------------------------\u001b[0m",
      "\u001b[1;31mKeyError\u001b[0m                                  Traceback (most recent call last)",
      "Cell \u001b[1;32mIn[89], line 1\u001b[0m\n\u001b[1;32m----> 1\u001b[0m \u001b[43md\u001b[49m\u001b[43m[\u001b[49m\u001b[38;5;124;43m'\u001b[39;49m\u001b[38;5;124;43m강수량\u001b[39;49m\u001b[38;5;124;43m'\u001b[39;49m\u001b[43m]\u001b[49m\n",
      "\u001b[1;31mKeyError\u001b[0m: '강수량'"
     ]
    }
   ],
   "source": [
    "d['강수량']"
   ]
  },
  {
   "cell_type": "code",
   "execution_count": 92,
   "id": "40643b9a",
   "metadata": {},
   "outputs": [
    {
     "data": {
      "text/plain": [
       "'맑음'"
      ]
     },
     "execution_count": 92,
     "metadata": {},
     "output_type": "execute_result"
    }
   ],
   "source": [
    "d.get(\"날씨\")"
   ]
  },
  {
   "cell_type": "code",
   "execution_count": 94,
   "id": "de8f95e4",
   "metadata": {},
   "outputs": [
    {
     "data": {
      "text/plain": [
       "'해당 key 없음'"
      ]
     },
     "execution_count": 94,
     "metadata": {},
     "output_type": "execute_result"
    }
   ],
   "source": [
    "d.get(\"강수량\", \"해당 key 없음\")"
   ]
  },
  {
   "cell_type": "code",
   "execution_count": 91,
   "id": "9bc7f8d6",
   "metadata": {},
   "outputs": [
    {
     "data": {
      "text/plain": [
       "(95, 88, 92)"
      ]
     },
     "execution_count": 91,
     "metadata": {},
     "output_type": "execute_result"
    }
   ],
   "source": [
    "data['info'][0]['scores']"
   ]
  },
  {
   "cell_type": "markdown",
   "id": "a3ea771b",
   "metadata": {},
   "source": [
    "## 딕셔너리에서 key,value(key,value)를 가져오는 함수\n",
    "* keys() : 딕셔너리에서 key만 출력\n",
    "* values(): 딕셔너리에서 value만 출력\n",
    "* item() : 딕셔너리의 key와 value를 튜플 묶음 형태로 출력(key, value)"
   ]
  },
  {
   "cell_type": "markdown",
   "id": "4bfa4e2a",
   "metadata": {},
   "source": [
    "### key(): 딕셔너리에서 key만 출력\n",
    "* list() 함수로 형변환 해줄경우 수정 가능"
   ]
  },
  {
   "cell_type": "code",
   "execution_count": 99,
   "id": "bfc9745f",
   "metadata": {},
   "outputs": [
    {
     "data": {
      "text/plain": [
       "dict_keys(['info', 'extra'])"
      ]
     },
     "execution_count": 99,
     "metadata": {},
     "output_type": "execute_result"
    }
   ],
   "source": [
    "data.keys()"
   ]
  },
  {
   "cell_type": "code",
   "execution_count": 98,
   "id": "74468a64",
   "metadata": {},
   "outputs": [
    {
     "ename": "TypeError",
     "evalue": "'dict_keys' object is not subscriptable",
     "output_type": "error",
     "traceback": [
      "\u001b[1;31m---------------------------------------------------------------------------\u001b[0m",
      "\u001b[1;31mTypeError\u001b[0m                                 Traceback (most recent call last)",
      "Cell \u001b[1;32mIn[98], line 1\u001b[0m\n\u001b[1;32m----> 1\u001b[0m \u001b[43mdata\u001b[49m\u001b[38;5;241;43m.\u001b[39;49m\u001b[43mkeys\u001b[49m\u001b[43m(\u001b[49m\u001b[43m)\u001b[49m\u001b[43m[\u001b[49m\u001b[38;5;241;43m0\u001b[39;49m\u001b[43m]\u001b[49m\n",
      "\u001b[1;31mTypeError\u001b[0m: 'dict_keys' object is not subscriptable"
     ]
    }
   ],
   "source": [
    "data.keys()[0] # 인덱싱 안됨"
   ]
  },
  {
   "cell_type": "code",
   "execution_count": 103,
   "id": "d562bbe7",
   "metadata": {},
   "outputs": [
    {
     "data": {
      "text/plain": [
       "dict_keys"
      ]
     },
     "execution_count": 103,
     "metadata": {},
     "output_type": "execute_result"
    }
   ],
   "source": [
    "type(data.keys())"
   ]
  },
  {
   "cell_type": "code",
   "execution_count": 111,
   "id": "9a1e73a7",
   "metadata": {},
   "outputs": [
    {
     "data": {
      "text/plain": [
       "['info', 'extra']"
      ]
     },
     "execution_count": 111,
     "metadata": {},
     "output_type": "execute_result"
    }
   ],
   "source": [
    "list(data.keys())"
   ]
  },
  {
   "cell_type": "code",
   "execution_count": 110,
   "id": "a1e7e2f3",
   "metadata": {},
   "outputs": [
    {
     "data": {
      "text/plain": [
       "'info'"
      ]
     },
     "execution_count": 110,
     "metadata": {},
     "output_type": "execute_result"
    }
   ],
   "source": [
    "list(data.keys())[0]"
   ]
  },
  {
   "cell_type": "code",
   "execution_count": null,
   "id": "555b1d60",
   "metadata": {},
   "outputs": [],
   "source": []
  },
  {
   "cell_type": "code",
   "execution_count": 105,
   "id": "ee5a4093",
   "metadata": {},
   "outputs": [
    {
     "data": {
      "text/plain": [
       "list"
      ]
     },
     "execution_count": 105,
     "metadata": {},
     "output_type": "execute_result"
    }
   ],
   "source": [
    "type(list(data.keys()))"
   ]
  },
  {
   "cell_type": "code",
   "execution_count": 107,
   "id": "7071b7f9",
   "metadata": {},
   "outputs": [
    {
     "name": "stdout",
     "output_type": "stream",
     "text": [
      "info\n",
      "extra\n"
     ]
    }
   ],
   "source": [
    "for i in data.keys():\n",
    "          print(i)"
   ]
  },
  {
   "cell_type": "markdown",
   "id": "21c8d800",
   "metadata": {},
   "source": [
    "* values(): 딕셔너리에서 value만 추출\n",
    "* list()로 형변환을 해주면 list처럼 사용 가능\n",
    "* 반복문에서 사용 가능"
   ]
  },
  {
   "cell_type": "code",
   "execution_count": 108,
   "id": "65b128a1",
   "metadata": {},
   "outputs": [
    {
     "data": {
      "text/plain": [
       "dict_values([[{'name': 'Alice', 'scores': (95, 88, 92)}, {'name': 'Bob', 'scores': (78, 85, 89)}], {'hobbies': ['reading', 'coding'], 'location': ('Seoul', 'Busan')}])"
      ]
     },
     "execution_count": 108,
     "metadata": {},
     "output_type": "execute_result"
    }
   ],
   "source": [
    "data.values()"
   ]
  },
  {
   "cell_type": "code",
   "execution_count": 112,
   "id": "aa806c6b",
   "metadata": {},
   "outputs": [
    {
     "data": {
      "text/plain": [
       "'Alice'"
      ]
     },
     "execution_count": 112,
     "metadata": {},
     "output_type": "execute_result"
    }
   ],
   "source": [
    "list(data.values())[0][0]['name']"
   ]
  },
  {
   "cell_type": "code",
   "execution_count": 113,
   "id": "a58272de",
   "metadata": {},
   "outputs": [
    {
     "name": "stdout",
     "output_type": "stream",
     "text": [
      "[{'name': 'Alice', 'scores': (95, 88, 92)}, {'name': 'Bob', 'scores': (78, 85, 89)}]\n",
      "\n",
      "{'hobbies': ['reading', 'coding'], 'location': ('Seoul', 'Busan')}\n",
      "\n"
     ]
    }
   ],
   "source": [
    "for i in data.values():\n",
    "          print(i, end=\"\\n\\n\")"
   ]
  },
  {
   "cell_type": "code",
   "execution_count": 114,
   "id": "fc8aa3b9",
   "metadata": {},
   "outputs": [
    {
     "name": "stdout",
     "output_type": "stream",
     "text": [
      "[{'name': 'Alice', 'scores': (95, 88, 92)}, {'name': 'Bob', 'scores': (78, 85, 89)}]\n",
      "{'hobbies': ['reading', 'coding'], 'location': ('Seoul', 'Busan')}\n"
     ]
    }
   ],
   "source": [
    "for i in data.values():\n",
    "          print(i)"
   ]
  },
  {
   "cell_type": "markdown",
   "id": "3749f7f4",
   "metadata": {},
   "source": [
    "### items() : key와 value 를 튜플 형태로 쌍으로 출력\n",
    "* list() 형변환을 통해서 list처럼 사용가능"
   ]
  },
  {
   "cell_type": "code",
   "execution_count": 118,
   "id": "516188b0",
   "metadata": {},
   "outputs": [
    {
     "name": "stdout",
     "output_type": "stream",
     "text": [
      "('info', [{'name': 'Alice', 'scores': (95, 88, 92)}, {'name': 'Bob', 'scores': (78, 85, 89)}])\n",
      "\n",
      "('extra', {'hobbies': ['reading', 'coding'], 'location': ('Seoul', 'Busan')})\n",
      "\n"
     ]
    }
   ],
   "source": [
    "for item in data.items() :\n",
    "    print(item, end=\"\\n\\n\")"
   ]
  },
  {
   "cell_type": "code",
   "execution_count": 119,
   "id": "5e195873",
   "metadata": {},
   "outputs": [
    {
     "name": "stdout",
     "output_type": "stream",
     "text": [
      "('년월', 20240412)\n",
      "('국가', '미국')\n",
      "('방문자수', 500)\n",
      "('날씨', '맑음')\n",
      "('바람', '강함')\n"
     ]
    }
   ],
   "source": [
    "for ii in d.items():\n",
    "    print(ii)"
   ]
  },
  {
   "cell_type": "code",
   "execution_count": 121,
   "id": "de8042ac",
   "metadata": {},
   "outputs": [
    {
     "data": {
      "text/plain": [
       "[('년월', 20240412), ('국가', '미국')]"
      ]
     },
     "execution_count": 121,
     "metadata": {},
     "output_type": "execute_result"
    }
   ],
   "source": [
    "list(d.items())[0:2]"
   ]
  },
  {
   "cell_type": "markdown",
   "id": "cd6e20e0",
   "metadata": {},
   "source": [
    "* 딕셔너리에서 데어터 삭제하기 pop"
   ]
  },
  {
   "cell_type": "code",
   "execution_count": 122,
   "id": "30ecca6e",
   "metadata": {},
   "outputs": [
    {
     "data": {
      "text/plain": [
       "{'년월': 20240412, '국가': '미국', '방문자수': 500, '날씨': '맑음', '바람': '강함'}"
      ]
     },
     "execution_count": 122,
     "metadata": {},
     "output_type": "execute_result"
    }
   ],
   "source": [
    "d"
   ]
  },
  {
   "cell_type": "code",
   "execution_count": 123,
   "id": "68e183ba",
   "metadata": {},
   "outputs": [],
   "source": [
    "del d['년월']"
   ]
  },
  {
   "cell_type": "code",
   "execution_count": 124,
   "id": "b3e2641b",
   "metadata": {},
   "outputs": [
    {
     "data": {
      "text/plain": [
       "{'국가': '미국', '방문자수': 500, '날씨': '맑음', '바람': '강함'}"
      ]
     },
     "execution_count": 124,
     "metadata": {},
     "output_type": "execute_result"
    }
   ],
   "source": [
    "d"
   ]
  },
  {
   "cell_type": "code",
   "execution_count": 125,
   "id": "27a6553f",
   "metadata": {},
   "outputs": [
    {
     "data": {
      "text/plain": [
       "'강함'"
      ]
     },
     "execution_count": 125,
     "metadata": {},
     "output_type": "execute_result"
    }
   ],
   "source": [
    "d.pop('바람')"
   ]
  },
  {
   "cell_type": "code",
   "execution_count": null,
   "id": "8461ecfd",
   "metadata": {},
   "outputs": [],
   "source": []
  },
  {
   "cell_type": "code",
   "execution_count": null,
   "id": "9d02678c",
   "metadata": {},
   "outputs": [],
   "source": []
  },
  {
   "cell_type": "code",
   "execution_count": null,
   "id": "884e187a",
   "metadata": {},
   "outputs": [],
   "source": []
  },
  {
   "cell_type": "code",
   "execution_count": null,
   "id": "468a2f22",
   "metadata": {},
   "outputs": [],
   "source": []
  },
  {
   "cell_type": "code",
   "execution_count": null,
   "id": "ba062497",
   "metadata": {},
   "outputs": [],
   "source": []
  },
  {
   "cell_type": "code",
   "execution_count": null,
   "id": "eca0641e",
   "metadata": {},
   "outputs": [],
   "source": []
  },
  {
   "cell_type": "code",
   "execution_count": null,
   "id": "5ca28103",
   "metadata": {},
   "outputs": [],
   "source": []
  },
  {
   "cell_type": "code",
   "execution_count": null,
   "id": "56eb2f69",
   "metadata": {},
   "outputs": [],
   "source": []
  },
  {
   "cell_type": "code",
   "execution_count": null,
   "id": "f2195130",
   "metadata": {},
   "outputs": [],
   "source": []
  },
  {
   "cell_type": "code",
   "execution_count": null,
   "id": "ceca55bd",
   "metadata": {},
   "outputs": [],
   "source": []
  }
 ],
 "metadata": {
  "kernelspec": {
   "display_name": "Python 3 (ipykernel)",
   "language": "python",
   "name": "python3"
  },
  "language_info": {
   "codemirror_mode": {
    "name": "ipython",
    "version": 3
   },
   "file_extension": ".py",
   "mimetype": "text/x-python",
   "name": "python",
   "nbconvert_exporter": "python",
   "pygments_lexer": "ipython3",
   "version": "3.9.21"
  }
 },
 "nbformat": 4,
 "nbformat_minor": 5
}
