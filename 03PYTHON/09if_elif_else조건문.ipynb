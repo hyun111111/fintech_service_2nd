{
 "cells": [
  {
   "cell_type": "markdown",
   "id": "b13426cd",
   "metadata": {},
   "source": [
    "# if else 조건문"
   ]
  },
  {
   "cell_type": "markdown",
   "id": "c0ec8519",
   "metadata": {},
   "source": [
    "## 1. 조건문이란? 특정 조건을 판별해서 작업을 분기시키는 문법\n",
    "if 조건식:<br>\n",
    "____조건이 참일떄 실행할 코드<br>\n",
    "else<br>\n",
    "----조건이 거짓일 떄 실행할 코드 <br>"
   ]
  },
  {
   "cell_type": "code",
   "execution_count": 3,
   "id": "1d66c0fe",
   "metadata": {},
   "outputs": [],
   "source": [
    "x = 13"
   ]
  },
  {
   "cell_type": "code",
   "execution_count": 6,
   "id": "9648c72d",
   "metadata": {},
   "outputs": [
    {
     "name": "stdout",
     "output_type": "stream",
     "text": [
      "10은, 10입니다\n"
     ]
    }
   ],
   "source": [
    "if x==10:\n",
    "    print (f\"{x}은, 10입니다\")\n",
    "else:\n",
    "    print (f\"{x}은, 10이 아닙니다.\")"
   ]
  },
  {
   "cell_type": "code",
   "execution_count": 10,
   "id": "20f2f1ca",
   "metadata": {},
   "outputs": [],
   "source": [
    "l1 = ['파이썬', '조건문', 10,15,3, True, [1,2,3], (4,5,6), {\"key\":\"365\"}] "
   ]
  },
  {
   "cell_type": "code",
   "execution_count": 14,
   "id": "8662597a",
   "metadata": {},
   "outputs": [
    {
     "data": {
      "text/plain": [
       "True"
      ]
     },
     "execution_count": 14,
     "metadata": {},
     "output_type": "execute_result"
    }
   ],
   "source": [
    "\"파이썬\" in l1"
   ]
  },
  {
   "cell_type": "code",
   "execution_count": 11,
   "id": "11936573",
   "metadata": {
    "scrolled": true
   },
   "outputs": [
    {
     "name": "stdout",
     "output_type": "stream",
     "text": [
      "l1안에 파이썬이 있습니다.\n"
     ]
    }
   ],
   "source": [
    "if \"파이썬\" in l1:\n",
    "    print(\"l1안에 파이썬이 있습니다.\")"
   ]
  },
  {
   "cell_type": "code",
   "execution_count": 16,
   "id": "e4eb09db",
   "metadata": {},
   "outputs": [
    {
     "data": {
      "text/plain": [
       "False"
      ]
     },
     "execution_count": 16,
     "metadata": {},
     "output_type": "execute_result"
    }
   ],
   "source": [
    "\"파이썬\" not in l1"
   ]
  },
  {
   "cell_type": "code",
   "execution_count": 22,
   "id": "0f1ac34f",
   "metadata": {},
   "outputs": [],
   "source": [
    "if \"파이썬\" not in l1:\n",
    "    print(\"l1안에 파이썬이 없습니다.\")"
   ]
  },
  {
   "cell_type": "code",
   "execution_count": 35,
   "id": "062e31f3",
   "metadata": {},
   "outputs": [
    {
     "name": "stdout",
     "output_type": "stream",
     "text": [
      "l1안에 파이썬이 있습니다.\n"
     ]
    }
   ],
   "source": [
    "if \"파이썬\" in l1:\n",
    "    print(\"l1안에 파이썬이 있습니다.\")\n",
    "else:\n",
    "    print(\"l1안에 파이썬이 없습니다. ㅋ\")"
   ]
  },
  {
   "cell_type": "markdown",
   "id": "c3fe91b0",
   "metadata": {},
   "source": [
    "* 숫자를 입력받아 홀수인지 짝수인지 판단하는 프로그램"
   ]
  },
  {
   "cell_type": "code",
   "execution_count": 43,
   "id": "bd6d5920",
   "metadata": {},
   "outputs": [
    {
     "name": "stdout",
     "output_type": "stream",
     "text": [
      "숫자를 입력하세요8\n",
      "입력한 숫자 8는 짝수입니다.\n"
     ]
    }
   ],
   "source": [
    "x = input(\"숫자를 입력하세요\")\n",
    "if int(x) % 2 == 0:\n",
    "    print(f\"입력한 숫자 {x}는 짝수입니다.\")\n",
    "else:\n",
    "    print(f\"입력한 숫자 {x}는 홀수입니다.\")"
   ]
  },
  {
   "cell_type": "code",
   "execution_count": 44,
   "id": "87a82ca6",
   "metadata": {},
   "outputs": [
    {
     "data": {
      "text/plain": [
       "'8'"
      ]
     },
     "execution_count": 44,
     "metadata": {},
     "output_type": "execute_result"
    }
   ],
   "source": [
    "x"
   ]
  },
  {
   "cell_type": "code",
   "execution_count": 46,
   "id": "bf701d1c",
   "metadata": {},
   "outputs": [
    {
     "ename": "TypeError",
     "evalue": "not all arguments converted during string formatting",
     "output_type": "error",
     "traceback": [
      "\u001b[1;31m---------------------------------------------------------------------------\u001b[0m",
      "\u001b[1;31mTypeError\u001b[0m                                 Traceback (most recent call last)",
      "Cell \u001b[1;32mIn[46], line 1\u001b[0m\n\u001b[1;32m----> 1\u001b[0m \u001b[38;5;28;01mif\u001b[39;00m \u001b[38;5;241m0\u001b[39m \u001b[38;5;241m<\u001b[39m\u001b[38;5;241m=\u001b[39m \u001b[38;5;28mint\u001b[39m(x) \u001b[38;5;241m<\u001b[39m\u001b[38;5;241m=\u001b[39m \u001b[38;5;241m10\u001b[39m \u001b[38;5;129;01mand\u001b[39;00m \u001b[43mx\u001b[49m\u001b[43m \u001b[49m\u001b[38;5;241;43m%\u001b[39;49m\u001b[38;5;241;43m2\u001b[39;49m \u001b[38;5;241m==\u001b[39m \u001b[38;5;241m0\u001b[39m: \u001b[38;5;66;03m# and 조건은 적절아지 않는듯, 그리고 조건발동도 순서가있다.\u001b[39;00m\n\u001b[0;32m      2\u001b[0m     \u001b[38;5;28mprint\u001b[39m(\u001b[38;5;124mf\u001b[39m\u001b[38;5;124m\"\u001b[39m\u001b[38;5;132;01m{\u001b[39;00mx\u001b[38;5;132;01m}\u001b[39;00m\u001b[38;5;124m는 0에서 10 사이의 숫자입니다.\u001b[39m\u001b[38;5;124m\"\u001b[39m)\n\u001b[0;32m      3\u001b[0m \u001b[38;5;28;01melse\u001b[39;00m:\n",
      "\u001b[1;31mTypeError\u001b[0m: not all arguments converted during string formatting"
     ]
    }
   ],
   "source": [
    "if 0 <= int(x) <= 10 and x %2 == 0: # and 조건은 적절아지 않는듯, 그리고 조건발동도 순서가있다.\n",
    "    print(f\"{x}는 0에서 10 사이의 숫자입니다.\")\n",
    "else:\n",
    "    print(f\"{x}는 0에서 10사이에 있는 숫자가 아니고 홀수입니다.\")"
   ]
  },
  {
   "cell_type": "markdown",
   "id": "78515487",
   "metadata": {},
   "source": [
    "## 2. 다중조건문 사용하기 elif\n",
    "if 조건식: <br>\n",
    "----조건이 참일 때 실행할 코드 <br>\n",
    "elif 조건식 2:<br>\n",
    "----조건식2가 참일때 실행할 코드<br>\n",
    "elif 조건식 3:<br>\n",
    "----조건식 3이 참일때 실행할 코드<br>\n",
    "else:<br>\n",
    "____조건식 1,2,3이 모두 거짓일떄 실행할 코드<br>"
   ]
  },
  {
   "cell_type": "markdown",
   "id": "55b7c817",
   "metadata": {},
   "source": [
    "* 점수를 입력받아서 81-100 A, 61-80 B, 41-60 C, 21-40 D, 0-20 F 등급"
   ]
  },
  {
   "cell_type": "code",
   "execution_count": 61,
   "id": "3f240f4c",
   "metadata": {},
   "outputs": [
    {
     "name": "stdout",
     "output_type": "stream",
     "text": [
      "점수를 입력하세요44\n",
      "44는 C등급입니다.\n"
     ]
    }
   ],
   "source": [
    "score = int(input(\"점수를 입력하세요\"))\n",
    "if 0 <= score <= 100:\n",
    "    if 0 <= score <= 20:\n",
    "        print(f\"{score}는 f등급입니다.\")\n",
    "    elif 21 <= score <= 40:\n",
    "        print(f\"{score}는 D등급입니다.\")\n",
    "    elif 41 <= score <= 60:\n",
    "        print(f\"{score}는 C등급입니다.\")\n",
    "    elif 61 <= score <= 80:\n",
    "        print(f\"{score}는 B등급입니다.\")\n",
    "    elif 81 <= score <= 100:\n",
    "        print(f\"{score}는 A등급입니다.\")\n",
    "else:\n",
    "    print(\"0-100사이 숫자를 입력해 주세요\")"
   ]
  },
  {
   "cell_type": "markdown",
   "id": "85ec59af",
   "metadata": {},
   "source": [
    "* 1-50사이에 숫자를 입력받아서 3의 배수면 3의 배수입니다. 3의 배수가 아니면 3의 배수가 아닙니다.\n",
    "    * 입력받기, 정수로 변환하기\n",
    "    * 1-50 사이의 숫자인가?\n",
    "    * 3의 배수인가? %3 ==0\n",
    "    * 출력\n"
   ]
  },
  {
   "cell_type": "markdown",
   "id": "507a0e4d",
   "metadata": {},
   "source": [
    "### 항상 먼저 조건문이 작동이 되는지 print문으로 찍어보고 진행하자!!!!"
   ]
  },
  {
   "cell_type": "code",
   "execution_count": 75,
   "id": "8d37b92f",
   "metadata": {},
   "outputs": [
    {
     "name": "stdout",
     "output_type": "stream",
     "text": [
      "양수로 숫자를 입력해 주세요23\n",
      "23은 3의 배수가 아닙니다\n"
     ]
    }
   ],
   "source": [
    "\n",
    "number = int(float(input(\"양수로 숫자를 입력해 주세요\")))\n",
    "if 0 < number <= 50:\n",
    "    if number%3 == 0:\n",
    "        print(f\"{number}은 3의 배수입니다\")\n",
    "    else:\n",
    "        print(f\"{number}은 3의 배수가 아닙니다\")\n",
    "else: \n",
    "    print(\"숫자를 1-50 사이의 정수로 입력해 주세요\")"
   ]
  },
  {
   "cell_type": "markdown",
   "id": "87b9e510",
   "metadata": {},
   "source": [
    "## 3. 조건 표현식\n",
    "* 참일 때 실행코드 if 조건 else 거짓일때 실행코드"
   ]
  },
  {
   "cell_type": "code",
   "execution_count": 78,
   "id": "f30ac882",
   "metadata": {},
   "outputs": [
    {
     "name": "stdout",
     "output_type": "stream",
     "text": [
      "숫자를 입력하세요12\n",
      "짝수\n"
     ]
    }
   ],
   "source": [
    "# 일반적인 if -else 문\n",
    "num = int(input(\"숫자를 입력하세요\"))\n",
    "#print(num,type(num))\n",
    "if num % 2 == 0:\n",
    "    print(\"짝수\")\n",
    "else :\n",
    "    print(\"홀수\")"
   ]
  },
  {
   "cell_type": "code",
   "execution_count": 82,
   "id": "0452f4b2",
   "metadata": {},
   "outputs": [
    {
     "name": "stdout",
     "output_type": "stream",
     "text": [
      "숫자를 입력하세요23234\n",
      "짝수\n"
     ]
    }
   ],
   "source": [
    "# 조건표현식 그냥 한번에 쭉 쓸 수 있다 독특한 파이썬 표현식\n",
    "num = int(float(input(\"숫자를 입력하세요\")))\n",
    "#print(num,type(num))\n",
    "print(\"짝수\") if num % 2 == 0 else print(\"홀수\")"
   ]
  },
  {
   "cell_type": "code",
   "execution_count": null,
   "id": "1aaeaf8e",
   "metadata": {},
   "outputs": [],
   "source": []
  }
 ],
 "metadata": {
  "kernelspec": {
   "display_name": "Python 3 (ipykernel)",
   "language": "python",
   "name": "python3"
  },
  "language_info": {
   "codemirror_mode": {
    "name": "ipython",
    "version": 3
   },
   "file_extension": ".py",
   "mimetype": "text/x-python",
   "name": "python",
   "nbconvert_exporter": "python",
   "pygments_lexer": "ipython3",
   "version": "3.9.21"
  }
 },
 "nbformat": 4,
 "nbformat_minor": 5
}
