{
 "cells": [
  {
   "cell_type": "markdown",
   "id": "a4496d9f",
   "metadata": {},
   "source": [
    "# 반복문 for, while\n",
    "* 반복문은 동일한 작업을 여러번 반복해야할 경우 사용\n",
    "* for, while 두 종류의 반복문이 있음\n",
    "* for는 **반복횟수가 정해져있는 경우** 사용-> 시퀀스 자료형\n",
    "* while은 반복 횟수가 정해져 있지 않을(무한반복) 때 사용 -> 무한반복을 시키되 특정조건을 만나면 멈추는"
   ]
  },
  {
   "cell_type": "markdown",
   "id": "6c3f1b73",
   "metadata": {},
   "source": [
    "## for 반복문: 반복할 횟수가 정해져 있는 경우\n",
    "for 변수1, 변수2 in 반복할 객체/자료(문자열, 리스트 ,튜플, 딕셔너리): <br>\n",
    "____(공백 4개)반복할 코드"
   ]
  },
  {
   "cell_type": "code",
   "execution_count": 1,
   "id": "4f8eb03d",
   "metadata": {},
   "outputs": [],
   "source": [
    "#숫자 생성 함수 .range(시작,끝, step)"
   ]
  },
  {
   "cell_type": "code",
   "execution_count": 2,
   "id": "ab6f8e1f",
   "metadata": {},
   "outputs": [
    {
     "name": "stdout",
     "output_type": "stream",
     "text": [
      "1 2 3 4 5 6 7 8 9 10 "
     ]
    }
   ],
   "source": [
    "# for 문을 이용해서 숫자 1-10을 출력\n",
    "for num in range(1,11):\n",
    "    print(num, end=\" \")"
   ]
  },
  {
   "cell_type": "markdown",
   "id": "14690474",
   "metadata": {},
   "source": [
    "* 순서가 있는 자료형(문자열, 리스트, 튜플) + 순서는 없지만 dict도 반복문에서 사용 가능"
   ]
  },
  {
   "cell_type": "code",
   "execution_count": 3,
   "id": "324dea62",
   "metadata": {},
   "outputs": [
    {
     "name": "stdout",
     "output_type": "stream",
     "text": [
      "파    이    썬    은         문    자    열    을         반    복    문    에         넣    어         출    력    가    능    "
     ]
    }
   ],
   "source": [
    "# 문자열 \n",
    "for char in \"파이썬은 문자열을 반복문에 넣어 출력가능\":\n",
    "    print(char, end=\"    \")"
   ]
  },
  {
   "cell_type": "code",
   "execution_count": 4,
   "id": "f97e43f8",
   "metadata": {},
   "outputs": [
    {
     "name": "stdout",
     "output_type": "stream",
     "text": [
      "1\n",
      "2\n",
      "3\n",
      "4\n",
      "사\n",
      "오\n",
      "[6, 7, 8]\n",
      "(8, 9, 10)\n",
      "{'key': 'value'}\n"
     ]
    }
   ],
   "source": [
    "# 리스트\n",
    "for l_item in [1,2,3,4,\"사\",\"오\", [6,7,8],(8,9,10), {\"key\":\"value\"}]:\n",
    "    print(l_item)"
   ]
  },
  {
   "cell_type": "code",
   "execution_count": 5,
   "id": "74523e45",
   "metadata": {},
   "outputs": [
    {
     "name": "stdout",
     "output_type": "stream",
     "text": [
      "1\n",
      "2\n",
      "3\n",
      "4\n",
      "사\n",
      "오\n",
      "[6, 7, 8]\n",
      "(8, 9, 10)\n",
      "{'key': 'value'}\n"
     ]
    }
   ],
   "source": [
    "# 튜플\n",
    "for t_item in (1,2,3,4,\"사\",\"오\", [6,7,8],(8,9,10),{\"key\":\"value\"}):\n",
    "    print(t_item)"
   ]
  },
  {
   "cell_type": "code",
   "execution_count": 6,
   "id": "904cbd61",
   "metadata": {},
   "outputs": [],
   "source": [
    "d = dict(이름=\"홍길동\", 나이=40, 주소=\"서울\", 전화번호=\"010-1111-1111\")"
   ]
  },
  {
   "cell_type": "code",
   "execution_count": 7,
   "id": "50d422f8",
   "metadata": {},
   "outputs": [
    {
     "data": {
      "text/plain": [
       "{'이름': '홍길동', '나이': 40, '주소': '서울', '전화번호': '010-1111-1111'}"
      ]
     },
     "execution_count": 7,
     "metadata": {},
     "output_type": "execute_result"
    }
   ],
   "source": [
    "d"
   ]
  },
  {
   "cell_type": "code",
   "execution_count": 8,
   "id": "c2733cf2",
   "metadata": {},
   "outputs": [
    {
     "name": "stdout",
     "output_type": "stream",
     "text": [
      "홍길동\n",
      "40\n",
      "서울\n",
      "010-1111-1111\n"
     ]
    }
   ],
   "source": [
    "for item in d:\n",
    "    print(d.get(item, \"key 없음\"))"
   ]
  },
  {
   "cell_type": "code",
   "execution_count": 9,
   "id": "bac6ce3a",
   "metadata": {},
   "outputs": [
    {
     "name": "stdout",
     "output_type": "stream",
     "text": [
      "홍길동\n",
      "40\n",
      "서울\n",
      "010-1111-1111\n"
     ]
    }
   ],
   "source": [
    "for key in d:\n",
    "    print(d[key])"
   ]
  },
  {
   "cell_type": "code",
   "execution_count": 10,
   "id": "4ac03b9a",
   "metadata": {},
   "outputs": [
    {
     "name": "stdout",
     "output_type": "stream",
     "text": [
      "이름\n",
      "나이\n",
      "주소\n",
      "전화번호\n"
     ]
    }
   ],
   "source": [
    "for item in d.keys():\n",
    "    print(item)"
   ]
  },
  {
   "cell_type": "code",
   "execution_count": 11,
   "id": "c8c60c4b",
   "metadata": {},
   "outputs": [
    {
     "name": "stdout",
     "output_type": "stream",
     "text": [
      "홍길동\n",
      "40\n",
      "서울\n",
      "010-1111-1111\n"
     ]
    }
   ],
   "source": [
    "for item in d.values():\n",
    "    print(item)"
   ]
  },
  {
   "cell_type": "code",
   "execution_count": 12,
   "id": "ed16cc3d",
   "metadata": {
    "scrolled": true
   },
   "outputs": [
    {
     "name": "stdout",
     "output_type": "stream",
     "text": [
      "이름 홍길동\n",
      "나이 40\n",
      "주소 서울\n",
      "전화번호 010-1111-1111\n"
     ]
    }
   ],
   "source": [
    "for key, value in d.items(): # 이런 함수들이 있는 이유 : 반복문을 잘 돌리기 위해서. 자동화\n",
    "    print(key,value)"
   ]
  },
  {
   "cell_type": "markdown",
   "id": "0f02ef89",
   "metadata": {},
   "source": [
    "* for 반복문을 이용해서 1부터 10까지 정수를 더한 합을 출력하세요\n",
    "    * 1부터 10까지 숫자를 만들어서 반복문에 넣어야함\n",
    "    * 1-10 더함\n",
    "    * 누적덧셈을 한 결과를 출력"
   ]
  },
  {
   "cell_type": "code",
   "execution_count": 13,
   "id": "59cc3965",
   "metadata": {},
   "outputs": [
    {
     "name": "stdout",
     "output_type": "stream",
     "text": [
      "1\n",
      "2\n",
      "3\n",
      "4\n",
      "5\n",
      "6\n",
      "7\n",
      "8\n",
      "9\n",
      "10\n"
     ]
    }
   ],
   "source": [
    "for num in range(1,11):\n",
    "    print(num)"
   ]
  },
  {
   "cell_type": "code",
   "execution_count": 14,
   "id": "1ddc495f",
   "metadata": {},
   "outputs": [
    {
     "name": "stdout",
     "output_type": "stream",
     "text": [
      "1\n",
      "3\n",
      "6\n",
      "10\n",
      "15\n",
      "21\n",
      "28\n",
      "36\n",
      "45\n",
      "55\n"
     ]
    }
   ],
   "source": [
    "hap = 0\n",
    "for num in range(1,11):\n",
    "    hap = hap + num\n",
    "    print(hap)"
   ]
  },
  {
   "cell_type": "code",
   "execution_count": 15,
   "id": "c9ef9122",
   "metadata": {},
   "outputs": [
    {
     "name": "stdout",
     "output_type": "stream",
     "text": [
      "55\n"
     ]
    }
   ],
   "source": [
    "hap = 0\n",
    "for num in range(1,11):\n",
    "    hap = hap + num\n",
    "print(hap) # print문 위치 주의"
   ]
  },
  {
   "cell_type": "code",
   "execution_count": 16,
   "id": "a94b05ef",
   "metadata": {
    "scrolled": false
   },
   "outputs": [
    {
     "name": "stdout",
     "output_type": "stream",
     "text": [
      "hap: 0 + num: 1: 1\n",
      "hap: 1 + num: 2: 3\n",
      "hap: 3 + num: 3: 6\n",
      "hap: 6 + num: 4: 10\n",
      "hap: 10 + num: 5: 15\n",
      "hap: 15 + num: 6: 21\n",
      "hap: 21 + num: 7: 28\n",
      "hap: 28 + num: 8: 36\n",
      "hap: 36 + num: 9: 45\n",
      "hap: 45 + num: 10: 55\n"
     ]
    }
   ],
   "source": [
    "hap = 0\n",
    "for num in range(1,11):\n",
    "    print(f\"hap: {hap} + num: {num}\",end=\": \")\n",
    "    hap += num # hap = hap +num\n",
    "    print(f\"{hap}\")"
   ]
  },
  {
   "cell_type": "code",
   "execution_count": 17,
   "id": "3a0bae56",
   "metadata": {},
   "outputs": [
    {
     "name": "stdout",
     "output_type": "stream",
     "text": [
      "hap: 0 + num: 1: 1\n",
      "hap: 0 + num: 2: 2\n",
      "hap: 0 + num: 3: 3\n",
      "hap: 0 + num: 4: 4\n",
      "hap: 0 + num: 5: 5\n",
      "hap: 0 + num: 6: 6\n",
      "hap: 0 + num: 7: 7\n",
      "hap: 0 + num: 8: 8\n",
      "hap: 0 + num: 9: 9\n",
      "hap: 0 + num: 10: 10\n"
     ]
    }
   ],
   "source": [
    "for num in range(1,11):\n",
    "    hap = 0 # 중간에 하면 합을 초기화\n",
    "    print(f\"hap: {hap} + num: {num}\",end=\": \")\n",
    "    hap += num # hap = hap +num\n",
    "    print(f\"{hap}\")"
   ]
  },
  {
   "cell_type": "markdown",
   "id": "19e76ead",
   "metadata": {},
   "source": [
    "* 1부터 50까지 수 중에서 짝수인 수의 합을 구하시오.\n",
    "* 1-50 수를 만들기(range(1-51))\n",
    "* 홀수, 짝수 구분 if, %2 == 0\n",
    "* 짝수일 때 누적합, 결과 저장할 변수 hap\n",
    "* 최종 결과 출력"
   ]
  },
  {
   "cell_type": "code",
   "execution_count": 18,
   "id": "83d32aeb",
   "metadata": {},
   "outputs": [
    {
     "name": "stdout",
     "output_type": "stream",
     "text": [
      "1\n",
      "2\n",
      "3\n",
      "4\n",
      "5\n",
      "6\n",
      "7\n",
      "8\n",
      "9\n",
      "10\n",
      "11\n",
      "12\n",
      "13\n",
      "14\n",
      "15\n",
      "16\n",
      "17\n",
      "18\n",
      "19\n",
      "20\n",
      "21\n",
      "22\n",
      "23\n",
      "24\n",
      "25\n",
      "26\n",
      "27\n",
      "28\n",
      "29\n",
      "30\n",
      "31\n",
      "32\n",
      "33\n",
      "34\n",
      "35\n",
      "36\n",
      "37\n",
      "38\n",
      "39\n",
      "40\n",
      "41\n",
      "42\n",
      "43\n",
      "44\n",
      "45\n",
      "46\n",
      "47\n",
      "48\n",
      "49\n",
      "50\n"
     ]
    }
   ],
   "source": [
    "for num in range(1,51):\n",
    "    print(num)"
   ]
  },
  {
   "cell_type": "code",
   "execution_count": 19,
   "id": "7d7be6a9",
   "metadata": {},
   "outputs": [
    {
     "name": "stdout",
     "output_type": "stream",
     "text": [
      "hap:0, num:2\n",
      "hap:2, num:4\n",
      "hap:6, num:6\n",
      "hap:12, num:8\n",
      "hap:20, num:10\n",
      "hap:30, num:12\n",
      "hap:42, num:14\n",
      "hap:56, num:16\n",
      "hap:72, num:18\n",
      "hap:90, num:20\n",
      "hap:110, num:22\n",
      "hap:132, num:24\n",
      "hap:156, num:26\n",
      "hap:182, num:28\n",
      "hap:210, num:30\n",
      "hap:240, num:32\n",
      "hap:272, num:34\n",
      "hap:306, num:36\n",
      "hap:342, num:38\n",
      "hap:380, num:40\n",
      "hap:420, num:42\n",
      "hap:462, num:44\n",
      "hap:506, num:46\n",
      "hap:552, num:48\n",
      "hap:600, num:50\n",
      "650\n"
     ]
    }
   ],
   "source": [
    "hap = 0\n",
    "for num in range(1,51):\n",
    "    if num%2 == 0:\n",
    "        print(f\"hap:{hap}, num:{num}\")\n",
    "        hap += num\n",
    "print(hap)"
   ]
  },
  {
   "cell_type": "markdown",
   "id": "3f660ea6",
   "metadata": {},
   "source": [
    "* 1-100수를 만들고 그 중에서 30-70까지만 더해서 출력하세요\n",
    "* 2가지 방법을 이용하여, if, 슬라이싱"
   ]
  },
  {
   "cell_type": "code",
   "execution_count": 20,
   "id": "7ded4b95",
   "metadata": {},
   "outputs": [
    {
     "name": "stdout",
     "output_type": "stream",
     "text": [
      "1 2 3 4 5 6 7 8 9 10 11 12 13 14 15 16 17 18 19 20 21 22 23 24 25 26 27 28 29 30 31 32 33 34 35 36 37 38 39 40 41 42 43 44 45 46 47 48 49 50 51 52 53 54 55 56 57 58 59 60 61 62 63 64 65 66 67 68 69 70 71 72 73 74 75 76 77 78 79 80 81 82 83 84 85 86 87 88 89 90 91 92 93 94 95 96 97 98 99 100 "
     ]
    }
   ],
   "source": [
    "for num2 in range(1,101):\n",
    "    print(num2, end=\" \")"
   ]
  },
  {
   "cell_type": "code",
   "execution_count": 21,
   "id": "da0bee12",
   "metadata": {},
   "outputs": [
    {
     "name": "stdout",
     "output_type": "stream",
     "text": [
      "합:30,num:30\n",
      "합:61,num:31\n",
      "합:93,num:32\n",
      "합:126,num:33\n",
      "합:160,num:34\n",
      "합:195,num:35\n",
      "합:231,num:36\n",
      "합:268,num:37\n",
      "합:306,num:38\n",
      "합:345,num:39\n",
      "합:385,num:40\n",
      "합:426,num:41\n",
      "합:468,num:42\n",
      "합:511,num:43\n",
      "합:555,num:44\n",
      "합:600,num:45\n",
      "합:646,num:46\n",
      "합:693,num:47\n",
      "합:741,num:48\n",
      "합:790,num:49\n",
      "합:840,num:50\n",
      "합:891,num:51\n",
      "합:943,num:52\n",
      "합:996,num:53\n",
      "합:1050,num:54\n",
      "합:1105,num:55\n",
      "합:1161,num:56\n",
      "합:1218,num:57\n",
      "합:1276,num:58\n",
      "합:1335,num:59\n",
      "합:1395,num:60\n",
      "합:1456,num:61\n",
      "합:1518,num:62\n",
      "합:1581,num:63\n",
      "합:1645,num:64\n",
      "합:1710,num:65\n",
      "합:1776,num:66\n",
      "합:1843,num:67\n",
      "합:1911,num:68\n",
      "합:1980,num:69\n",
      "합:2050,num:70\n",
      "합:2121,num:71\n",
      "합:2193,num:72\n",
      "합:2266,num:73\n",
      "합:2340,num:74\n",
      "합:2415,num:75\n",
      "합:2491,num:76\n",
      "합:2568,num:77\n",
      "합:2646,num:78\n",
      "합:2725,num:79\n",
      "합:2805,num:80\n",
      "합:2886,num:81\n",
      "합:2968,num:82\n",
      "합:3051,num:83\n",
      "합:3135,num:84\n",
      "합:3220,num:85\n",
      "합:3306,num:86\n",
      "합:3393,num:87\n",
      "합:3481,num:88\n",
      "합:3570,num:89\n",
      "합:3660,num:90\n",
      "합:3751,num:91\n",
      "합:3843,num:92\n",
      "합:3936,num:93\n",
      "합:4030,num:94\n",
      "합:4125,num:95\n",
      "합:4221,num:96\n",
      "합:4318,num:97\n",
      "합:4416,num:98\n",
      "합:4515,num:99\n",
      "합:4615,num:100\n",
      "4615\n"
     ]
    }
   ],
   "source": [
    "hap = 0\n",
    "for num2 in range(1,101):\n",
    "    if 30 <= num2 <= 100:\n",
    "        hap += num2\n",
    "        print(f'합:{hap},num:{num2}')\n",
    "print(hap)"
   ]
  },
  {
   "cell_type": "code",
   "execution_count": 22,
   "id": "a8e19146",
   "metadata": {},
   "outputs": [
    {
     "name": "stdout",
     "output_type": "stream",
     "text": [
      "4615\n"
     ]
    }
   ],
   "source": [
    "hap = 0\n",
    "for num2 in range(1,101):\n",
    "    if 30 <= num2 <= 100:\n",
    "        hap += num2\n",
    "print(hap)"
   ]
  },
  {
   "cell_type": "code",
   "execution_count": 23,
   "id": "5ec6cb2a",
   "metadata": {},
   "outputs": [
    {
     "name": "stdout",
     "output_type": "stream",
     "text": [
      "[1, 2, 3, 4, 5, 6, 7, 8, 9, 10, 11, 12, 13, 14, 15, 16, 17, 18, 19, 20, 21, 22, 23, 24, 25, 26, 27, 28, 29, 30, 31, 32, 33, 34, 35, 36, 37, 38, 39, 40, 41, 42, 43, 44, 45, 46, 47, 48, 49, 50, 51, 52, 53, 54, 55, 56, 57, 58, 59, 60, 61, 62, 63, 64, 65, 66, 67, 68, 69, 70, 71, 72, 73, 74, 75, 76, 77, 78, 79, 80, 81, 82, 83, 84, 85, 86, 87, 88, 89, 90, 91, 92, 93, 94, 95, 96, 97, 98, 99, 100]\n"
     ]
    }
   ],
   "source": [
    "num3 = list(range(1,101))\n",
    "print(num3)"
   ]
  },
  {
   "cell_type": "code",
   "execution_count": 24,
   "id": "381825aa",
   "metadata": {},
   "outputs": [
    {
     "data": {
      "text/plain": [
       "4615"
      ]
     },
     "execution_count": 24,
     "metadata": {},
     "output_type": "execute_result"
    }
   ],
   "source": [
    "sum(num3[29:101])"
   ]
  },
  {
   "cell_type": "code",
   "execution_count": 25,
   "id": "6bc2c35b",
   "metadata": {},
   "outputs": [
    {
     "name": "stdout",
     "output_type": "stream",
     "text": [
      "hap:0, num:30\n",
      "hap:30, num:31\n",
      "hap:61, num:32\n",
      "hap:93, num:33\n",
      "hap:126, num:34\n",
      "hap:160, num:35\n",
      "hap:195, num:36\n",
      "hap:231, num:37\n",
      "hap:268, num:38\n",
      "hap:306, num:39\n",
      "hap:345, num:40\n",
      "hap:385, num:41\n",
      "hap:426, num:42\n",
      "hap:468, num:43\n",
      "hap:511, num:44\n",
      "hap:555, num:45\n",
      "hap:600, num:46\n",
      "hap:646, num:47\n",
      "hap:693, num:48\n",
      "hap:741, num:49\n",
      "hap:790, num:50\n",
      "hap:840, num:51\n",
      "hap:891, num:52\n",
      "hap:943, num:53\n",
      "hap:996, num:54\n",
      "hap:1050, num:55\n",
      "hap:1105, num:56\n",
      "hap:1161, num:57\n",
      "hap:1218, num:58\n",
      "hap:1276, num:59\n",
      "hap:1335, num:60\n",
      "hap:1395, num:61\n",
      "hap:1456, num:62\n",
      "hap:1518, num:63\n",
      "hap:1581, num:64\n",
      "hap:1645, num:65\n",
      "hap:1710, num:66\n",
      "hap:1776, num:67\n",
      "hap:1843, num:68\n",
      "hap:1911, num:69\n",
      "hap:1980, num:70\n",
      "2050\n"
     ]
    }
   ],
   "source": [
    "hap = 0\n",
    "for num4 in range(1,101)[29:70]:\n",
    "    print(f'hap:{hap}, num:{num4}')\n",
    "    hap += num4\n",
    "print(hap)"
   ]
  },
  {
   "cell_type": "markdown",
   "id": "243d0ac0",
   "metadata": {},
   "source": [
    "* 100-1까지 더하는 반복문을 만드세요\n",
    "* range에서 역순으로 숫자 생성\n",
    "* range에서 숫자생성 후 뒤집는 방법"
   ]
  },
  {
   "cell_type": "code",
   "execution_count": 26,
   "id": "8a810a12",
   "metadata": {
    "scrolled": true
   },
   "outputs": [
    {
     "name": "stdout",
     "output_type": "stream",
     "text": [
      "100 99 98 97 96 95 94 93 92 91 90 89 88 87 86 85 84 83 82 81 80 79 78 77 76 75 74 73 72 71 70 69 68 67 66 65 64 63 62 61 60 59 58 57 56 55 54 53 52 51 50 49 48 47 46 45 44 43 42 41 40 39 38 37 36 35 34 33 32 31 30 29 28 27 26 25 24 23 22 21 20 19 18 17 16 15 14 13 12 11 10 9 8 7 6 5 4 3 2 1 5050\n"
     ]
    }
   ],
   "source": [
    "hap = 0\n",
    "for num5 in range(100,0,-1):\n",
    "    print (num5, end=\" \")\n",
    "    hap += num5\n",
    "print(hap)"
   ]
  },
  {
   "cell_type": "code",
   "execution_count": 27,
   "id": "21a722fa",
   "metadata": {},
   "outputs": [
    {
     "ename": "TypeError",
     "evalue": "'NoneType' object is not iterable",
     "output_type": "error",
     "traceback": [
      "\u001b[1;31m---------------------------------------------------------------------------\u001b[0m",
      "\u001b[1;31mTypeError\u001b[0m                                 Traceback (most recent call last)",
      "Cell \u001b[1;32mIn[27], line 3\u001b[0m\n\u001b[0;32m      1\u001b[0m \u001b[38;5;66;03m# 슬라이싱을 이용해서 순서뒤집기\u001b[39;00m\n\u001b[0;32m      2\u001b[0m hap \u001b[38;5;241m=\u001b[39m \u001b[38;5;241m0\u001b[39m\n\u001b[1;32m----> 3\u001b[0m \u001b[38;5;28;01mfor\u001b[39;00m num5 \u001b[38;5;129;01min\u001b[39;00m \u001b[38;5;28mlist\u001b[39m(\u001b[38;5;28mrange\u001b[39m(\u001b[38;5;241m1\u001b[39m,\u001b[38;5;241m101\u001b[39m))\u001b[38;5;241m.\u001b[39msort(reverse\u001b[38;5;241m=\u001b[39m\u001b[38;5;28;01mTrue\u001b[39;00m):\n\u001b[0;32m      4\u001b[0m     \u001b[38;5;28mprint\u001b[39m(num5)\n\u001b[0;32m      5\u001b[0m \u001b[38;5;66;03m#     hap += num5\u001b[39;00m\n\u001b[0;32m      6\u001b[0m \u001b[38;5;66;03m# print(hap)\u001b[39;00m\n",
      "\u001b[1;31mTypeError\u001b[0m: 'NoneType' object is not iterable"
     ]
    }
   ],
   "source": [
    "# 슬라이싱을 이용해서 순서뒤집기\n",
    "hap = 0\n",
    "for num5 in list(range(1,101)).sort(reverse=True):\n",
    "    print(num5)\n",
    "#     hap += num5\n",
    "# print(hap)"
   ]
  },
  {
   "cell_type": "code",
   "execution_count": 28,
   "id": "2f0e3a48",
   "metadata": {},
   "outputs": [
    {
     "name": "stdout",
     "output_type": "stream",
     "text": [
      "100 99 98 97 96 95 94 93 92 91 90 89 88 87 86 85 84 83 82 81 80 79 78 77 76 75 74 73 72 71 70 69 68 67 66 65 64 63 62 61 60 59 58 57 56 55 54 53 52 51 50 49 48 47 46 45 44 43 42 41 40 39 38 37 36 35 34 33 32 31 30 29 28 27 26 25 24 23 22 21 20 19 18 17 16 15 14 13 12 11 10 9 8 7 6 5 4 3 2 1 5050\n"
     ]
    }
   ],
   "source": [
    "hap = 0\n",
    "for num5 in range(1,101)[::-1]:\n",
    "    print (num5, end=\" \")\n",
    "    hap += num5\n",
    "print(hap)"
   ]
  },
  {
   "cell_type": "code",
   "execution_count": 29,
   "id": "e18d55ec",
   "metadata": {},
   "outputs": [
    {
     "name": "stdout",
     "output_type": "stream",
     "text": [
      "5050\n"
     ]
    }
   ],
   "source": [
    "hap = 0\n",
    "for num5 in reversed(range(1,101)):\n",
    "    hap += num5\n",
    "print(hap)"
   ]
  },
  {
   "cell_type": "markdown",
   "id": "aa26f9ec",
   "metadata": {},
   "source": [
    "# enumaerte() : 반복문에서 자료의 인덱스를 만들어주는 함수\n",
    "* 인덱스 튜플 자료형으로 추출해줌"
   ]
  },
  {
   "cell_type": "code",
   "execution_count": null,
   "id": "00184dfd",
   "metadata": {},
   "outputs": [],
   "source": [
    "s = \"enumerate 함수는 반복문에서 index를 만들어 출력해주는 함수입니다.\""
   ]
  },
  {
   "cell_type": "code",
   "execution_count": null,
   "id": "17340092",
   "metadata": {},
   "outputs": [],
   "source": [
    "for i in s:\n",
    "    print(i, end=\" \")"
   ]
  },
  {
   "cell_type": "code",
   "execution_count": null,
   "id": "a74c16d0",
   "metadata": {},
   "outputs": [],
   "source": [
    "for i in enumerate(s):\n",
    "    print(i)"
   ]
  },
  {
   "cell_type": "code",
   "execution_count": null,
   "id": "f10c92de",
   "metadata": {},
   "outputs": [],
   "source": [
    "import time"
   ]
  },
  {
   "cell_type": "code",
   "execution_count": null,
   "id": "7a30f64c",
   "metadata": {},
   "outputs": [],
   "source": [
    "for idx, i in enumerate(s):\n",
    "    print(f\"현재반복횟수: {idx+1}/{len(s)}\", end=\"\\r\")\n",
    "    time.sleep(1)\n",
    "#     print(idx,i)"
   ]
  },
  {
   "cell_type": "code",
   "execution_count": null,
   "id": "238c4990",
   "metadata": {},
   "outputs": [],
   "source": [
    "d = dict(이름=\"홍길동\", 나이=30, 전화번호=\"010-1111-1111\", 주소=\"서울\")"
   ]
  },
  {
   "cell_type": "code",
   "execution_count": null,
   "id": "ee56c4c5",
   "metadata": {},
   "outputs": [],
   "source": [
    "for idx, item in enumaerate()"
   ]
  },
  {
   "cell_type": "code",
   "execution_count": null,
   "id": "9abb5a51",
   "metadata": {},
   "outputs": [],
   "source": []
  },
  {
   "cell_type": "code",
   "execution_count": null,
   "id": "3865a69b",
   "metadata": {},
   "outputs": [],
   "source": []
  },
  {
   "cell_type": "markdown",
   "id": "a00ae516",
   "metadata": {},
   "source": [
    "## continue, break\n",
    "* continue: 코드 실행을 건너뛰고 반복 계속 진행\n",
    "* breakL: 특정 조건이 되었을때 반복문 정지"
   ]
  },
  {
   "cell_type": "code",
   "execution_count": null,
   "id": "2b47e4d9",
   "metadata": {},
   "outputs": [],
   "source": [
    "for idx, i in enumerate(s):\n",
    "#    print(f\"현재반복횟수: {idx+1}/{len(s)}\", end=\"\\r\")\n",
    "    if idx %2 == 0:\n",
    "        continue # 아래쪽 코드 실행 없이 다시 반복\n",
    "    else:\n",
    "        print(idx,i)\n",
    "        if idx >= 19:\n",
    "            break # 멈추도록 실행\n",
    "    time.sleep(1)\n",
    "#     print(idx,i)"
   ]
  },
  {
   "cell_type": "markdown",
   "id": "7b412a2a",
   "metadata": {},
   "source": [
    "# while : 반복한 횟수가 정해지지 않은 경우\n",
    "* 무한반복 가능\n",
    "* 무한반복이 되지 않도록 조건식을 잘 짜주는것이 중요\n",
    "\n",
    "변수 선언 및 초기화\n",
    "while 조건식: <br>\n",
    "____반복할 코드 <br>\n",
    "____변수 증가/감소 코드 <br>\n",
    "____반복문이 종료될 조건 + break <br>"
   ]
  },
  {
   "cell_type": "markdown",
   "id": "b185c1cd",
   "metadata": {},
   "source": [
    "while 문으로 1-10까지 출력"
   ]
  },
  {
   "cell_type": "code",
   "execution_count": 30,
   "id": "ab4e5cbb",
   "metadata": {},
   "outputs": [
    {
     "name": "stdout",
     "output_type": "stream",
     "text": [
      "1 2 3 4 5 6 7 8 9 10 "
     ]
    }
   ],
   "source": [
    "i = 1\n",
    "while i <= 10:\n",
    "    print(i,end=\" \")\n",
    "    i += 1"
   ]
  },
  {
   "cell_type": "markdown",
   "id": "2b58b5a5",
   "metadata": {},
   "source": [
    "* 20에서 1까지 더한 숫자를 출력"
   ]
  },
  {
   "cell_type": "code",
   "execution_count": 31,
   "id": "d3fe6218",
   "metadata": {},
   "outputs": [
    {
     "name": "stdout",
     "output_type": "stream",
     "text": [
      "20 19 18 17 16 15 14 13 12 11 10 9 8 7 6 5 4 3 2 1 210\n"
     ]
    }
   ],
   "source": [
    "i = 20\n",
    "hap =0\n",
    "while i >= 1:\n",
    "    print(i,end=\" \")\n",
    "    hap += i\n",
    "    i -= 1\n",
    "print(hap)"
   ]
  },
  {
   "cell_type": "markdown",
   "id": "89575835",
   "metadata": {},
   "source": [
    "* 1-50 까지의 수 중에서 3의배수이거나, 짝수인 수를 찾아서 더한 값을 출력하세요."
   ]
  },
  {
   "cell_type": "code",
   "execution_count": 32,
   "id": "a3719fc6",
   "metadata": {},
   "outputs": [
    {
     "name": "stdout",
     "output_type": "stream",
     "text": [
      "i2: 2, hap:0\n",
      "i2: 3, hap:0\n",
      "i2: 4, hap:0\n",
      "i2: 5, hap:0\n",
      "i2: 6, hap:0\n",
      "i2: 7, hap:0\n",
      "i2: 8, hap:0\n",
      "i2: 9, hap:0\n",
      "i2: 10, hap:0\n",
      "i2: 11, hap:0\n",
      "i2: 12, hap:0\n",
      "i2: 13, hap:0\n",
      "i2: 14, hap:0\n",
      "i2: 15, hap:0\n",
      "i2: 16, hap:0\n",
      "i2: 17, hap:0\n",
      "i2: 18, hap:0\n",
      "i2: 19, hap:0\n",
      "i2: 20, hap:0\n",
      "i2: 21, hap:0\n",
      "i2: 22, hap:0\n",
      "i2: 23, hap:0\n",
      "i2: 24, hap:0\n",
      "i2: 25, hap:0\n",
      "i2: 26, hap:0\n",
      "i2: 27, hap:0\n",
      "i2: 28, hap:0\n",
      "i2: 29, hap:0\n",
      "i2: 30, hap:0\n",
      "i2: 31, hap:0\n",
      "i2: 32, hap:0\n",
      "i2: 33, hap:0\n",
      "i2: 34, hap:0\n",
      "i2: 35, hap:0\n",
      "i2: 36, hap:0\n",
      "i2: 37, hap:0\n",
      "i2: 38, hap:0\n",
      "i2: 39, hap:0\n",
      "i2: 40, hap:0\n",
      "i2: 41, hap:0\n",
      "i2: 42, hap:0\n",
      "i2: 43, hap:0\n",
      "i2: 44, hap:0\n",
      "i2: 45, hap:0\n",
      "i2: 46, hap:0\n",
      "i2: 47, hap:0\n",
      "i2: 48, hap:0\n",
      "i2: 49, hap:0\n",
      "i2: 50, hap:0\n"
     ]
    }
   ],
   "source": [
    "i2 = 1\n",
    "hap = 0\n",
    "while i2 < 50:\n",
    "        i2 += 1\n",
    "        print(f\"i2: {i2}, hap:{hap}\")"
   ]
  },
  {
   "cell_type": "code",
   "execution_count": 33,
   "id": "127f6a08",
   "metadata": {},
   "outputs": [
    {
     "name": "stdout",
     "output_type": "stream",
     "text": [
      "i2: 2, hap:0\n",
      "i2: 3, hap:2\n",
      "i2: 4, hap:5\n",
      "i2: 6, hap:9\n",
      "i2: 8, hap:15\n",
      "i2: 9, hap:23\n",
      "i2: 10, hap:32\n",
      "i2: 12, hap:42\n",
      "i2: 14, hap:54\n",
      "i2: 15, hap:68\n",
      "i2: 16, hap:83\n",
      "i2: 18, hap:99\n",
      "i2: 20, hap:117\n",
      "i2: 21, hap:137\n",
      "i2: 22, hap:158\n",
      "i2: 24, hap:180\n",
      "i2: 26, hap:204\n",
      "i2: 27, hap:230\n",
      "i2: 28, hap:257\n",
      "i2: 30, hap:285\n",
      "i2: 32, hap:315\n",
      "i2: 33, hap:347\n",
      "i2: 34, hap:380\n",
      "i2: 36, hap:414\n",
      "i2: 38, hap:450\n",
      "i2: 39, hap:488\n",
      "i2: 40, hap:527\n",
      "i2: 42, hap:567\n",
      "i2: 44, hap:609\n",
      "i2: 45, hap:653\n",
      "i2: 46, hap:698\n",
      "i2: 48, hap:744\n",
      "i2: 50, hap:792\n",
      "842\n"
     ]
    }
   ],
   "source": [
    "i2 = 1\n",
    "hap = 0\n",
    "while i2 <= 50:\n",
    "    if i2%3 == 0 or i2%2 == 0:\n",
    "        print(f\"i2: {i2}, hap:{hap}\")\n",
    "        hap += i2\n",
    "    i2 += 1\n",
    "print(hap)"
   ]
  },
  {
   "cell_type": "markdown",
   "id": "f65331af",
   "metadata": {},
   "source": [
    "## While의 무한반복\n",
    "* while 뒤의 조건이 True인 경우 무한반복\n",
    "* while문 내에서 if 조건문으로 break를 걸어주어야 멈춤"
   ]
  },
  {
   "cell_type": "code",
   "execution_count": null,
   "id": "d8fd5cbe",
   "metadata": {},
   "outputs": [],
   "source": [
    "while True:\n",
    "    print('무한반복',end=\" \")"
   ]
  },
  {
   "cell_type": "markdown",
   "id": "aa33253b",
   "metadata": {},
   "source": [
    "* 무한반복 후 while문 내에서 조건을 주어 멈추기 "
   ]
  },
  {
   "cell_type": "code",
   "execution_count": null,
   "id": "3a5f5348",
   "metadata": {},
   "outputs": [],
   "source": [
    "i = 1\n",
    "while True:\n",
    "    print(i,'무한반복', end=\" \")\n",
    "    if i >= 100:\n",
    "        break\n",
    "    i += 1"
   ]
  },
  {
   "cell_type": "markdown",
   "id": "5db8e7f0",
   "metadata": {},
   "source": [
    "# 무한반복이 되는 조건 : True\n",
    "* True가 되는 경우: 1, 정수, 실수, 문자열, list, tuple, dict, True, \" \"\n",
    "* False가 되는 경우: 0, 0.0, \"\",'',[],(),{}, False"
   ]
  },
  {
   "cell_type": "code",
   "execution_count": 34,
   "id": "cdb0db7e",
   "metadata": {
    "scrolled": true
   },
   "outputs": [
    {
     "name": "stdout",
     "output_type": "stream",
     "text": [
      "1 무한반복 2 무한반복 3 무한반복 4 무한반복 5 무한반복 6 무한반복 7 무한반복 8 무한반복 9 무한반복 10 무한반복 11 무한반복 12 무한반복 13 무한반복 14 무한반복 15 무한반복 16 무한반복 17 무한반복 18 무한반복 19 무한반복 20 무한반복 21 무한반복 22 무한반복 23 무한반복 24 무한반복 25 무한반복 26 무한반복 27 무한반복 28 무한반복 29 무한반복 30 무한반복 31 무한반복 32 무한반복 33 무한반복 34 무한반복 35 무한반복 36 무한반복 37 무한반복 38 무한반복 39 무한반복 40 무한반복 41 무한반복 42 무한반복 43 무한반복 44 무한반복 45 무한반복 46 무한반복 47 무한반복 48 무한반복 49 무한반복 50 무한반복 51 무한반복 52 무한반복 53 무한반복 54 무한반복 55 무한반복 56 무한반복 57 무한반복 58 무한반복 59 무한반복 60 무한반복 61 무한반복 62 무한반복 63 무한반복 64 무한반복 65 무한반복 66 무한반복 67 무한반복 68 무한반복 69 무한반복 70 무한반복 71 무한반복 72 무한반복 73 무한반복 74 무한반복 75 무한반복 76 무한반복 77 무한반복 78 무한반복 79 무한반복 80 무한반복 81 무한반복 82 무한반복 83 무한반복 84 무한반복 85 무한반복 86 무한반복 87 무한반복 88 무한반복 89 무한반복 90 무한반복 91 무한반복 92 무한반복 93 무한반복 94 무한반복 95 무한반복 96 무한반복 97 무한반복 98 무한반복 99 무한반복 100 무한반복 "
     ]
    }
   ],
   "source": [
    "i = 1\n",
    "while \" \":\n",
    "    print(i,'무한반복', end=\" \")\n",
    "    if i >= 100:\n",
    "        break\n",
    "    i += 1"
   ]
  },
  {
   "cell_type": "code",
   "execution_count": 35,
   "id": "ff1eb8b1",
   "metadata": {},
   "outputs": [],
   "source": [
    "i = 1\n",
    "while \"\":\n",
    "    print(i,'무한반복', end=\" \")\n",
    "    if i >= 100:\n",
    "        break\n",
    "    i += 1"
   ]
  },
  {
   "cell_type": "code",
   "execution_count": 36,
   "id": "902e2442",
   "metadata": {},
   "outputs": [],
   "source": [
    "i = 1\n",
    "while ():\n",
    "    print(i,'무한반복', end=\" \")\n",
    "    if i >= 100:\n",
    "        break\n",
    "    i += 1"
   ]
  },
  {
   "cell_type": "code",
   "execution_count": 42,
   "id": "bd4270f4",
   "metadata": {},
   "outputs": [
    {
     "name": "stdout",
     "output_type": "stream",
     "text": [
      "1 while 뒤 조건은 어떤 자료형이 들어가도 됩니다 2 while 뒤 조건은 어떤 자료형이 들어가도 됩니다 3 while 뒤 조건은 어떤 자료형이 들어가도 됩니다 4 while 뒤 조건은 어떤 자료형이 들어가도 됩니다 5 while 뒤 조건은 어떤 자료형이 들어가도 됩니다 6 while 뒤 조건은 어떤 자료형이 들어가도 됩니다 7 while 뒤 조건은 어떤 자료형이 들어가도 됩니다 8 while 뒤 조건은 어떤 자료형이 들어가도 됩니다 9 while 뒤 조건은 어떤 자료형이 들어가도 됩니다 10 while 뒤 조건은 어떤 자료형이 들어가도 됩니다 11 while 뒤 조건은 어떤 자료형이 들어가도 됩니다 12 while 뒤 조건은 어떤 자료형이 들어가도 됩니다 13 while 뒤 조건은 어떤 자료형이 들어가도 됩니다 14 while 뒤 조건은 어떤 자료형이 들어가도 됩니다 15 while 뒤 조건은 어떤 자료형이 들어가도 됩니다 16 while 뒤 조건은 어떤 자료형이 들어가도 됩니다 17 while 뒤 조건은 어떤 자료형이 들어가도 됩니다 18 while 뒤 조건은 어떤 자료형이 들어가도 됩니다 19 while 뒤 조건은 어떤 자료형이 들어가도 됩니다 20 while 뒤 조건은 어떤 자료형이 들어가도 됩니다 21 while 뒤 조건은 어떤 자료형이 들어가도 됩니다 22 while 뒤 조건은 어떤 자료형이 들어가도 됩니다 23 while 뒤 조건은 어떤 자료형이 들어가도 됩니다 24 while 뒤 조건은 어떤 자료형이 들어가도 됩니다 25 while 뒤 조건은 어떤 자료형이 들어가도 됩니다 26 while 뒤 조건은 어떤 자료형이 들어가도 됩니다 27 while 뒤 조건은 어떤 자료형이 들어가도 됩니다 28 while 뒤 조건은 어떤 자료형이 들어가도 됩니다 29 while 뒤 조건은 어떤 자료형이 들어가도 됩니다 30 while 뒤 조건은 어떤 자료형이 들어가도 됩니다 31 while 뒤 조건은 어떤 자료형이 들어가도 됩니다 32 while 뒤 조건은 어떤 자료형이 들어가도 됩니다 33 while 뒤 조건은 어떤 자료형이 들어가도 됩니다 34 while 뒤 조건은 어떤 자료형이 들어가도 됩니다 35 while 뒤 조건은 어떤 자료형이 들어가도 됩니다 36 while 뒤 조건은 어떤 자료형이 들어가도 됩니다 37 while 뒤 조건은 어떤 자료형이 들어가도 됩니다 38 while 뒤 조건은 어떤 자료형이 들어가도 됩니다 39 while 뒤 조건은 어떤 자료형이 들어가도 됩니다 40 while 뒤 조건은 어떤 자료형이 들어가도 됩니다 41 while 뒤 조건은 어떤 자료형이 들어가도 됩니다 42 while 뒤 조건은 어떤 자료형이 들어가도 됩니다 43 while 뒤 조건은 어떤 자료형이 들어가도 됩니다 44 while 뒤 조건은 어떤 자료형이 들어가도 됩니다 45 while 뒤 조건은 어떤 자료형이 들어가도 됩니다 46 while 뒤 조건은 어떤 자료형이 들어가도 됩니다 47 while 뒤 조건은 어떤 자료형이 들어가도 됩니다 48 while 뒤 조건은 어떤 자료형이 들어가도 됩니다 49 while 뒤 조건은 어떤 자료형이 들어가도 됩니다 50 while 뒤 조건은 어떤 자료형이 들어가도 됩니다 51 while 뒤 조건은 어떤 자료형이 들어가도 됩니다 52 while 뒤 조건은 어떤 자료형이 들어가도 됩니다 53 while 뒤 조건은 어떤 자료형이 들어가도 됩니다 54 while 뒤 조건은 어떤 자료형이 들어가도 됩니다 55 while 뒤 조건은 어떤 자료형이 들어가도 됩니다 56 while 뒤 조건은 어떤 자료형이 들어가도 됩니다 57 while 뒤 조건은 어떤 자료형이 들어가도 됩니다 58 while 뒤 조건은 어떤 자료형이 들어가도 됩니다 59 while 뒤 조건은 어떤 자료형이 들어가도 됩니다 60 while 뒤 조건은 어떤 자료형이 들어가도 됩니다 61 while 뒤 조건은 어떤 자료형이 들어가도 됩니다 62 while 뒤 조건은 어떤 자료형이 들어가도 됩니다 63 while 뒤 조건은 어떤 자료형이 들어가도 됩니다 64 while 뒤 조건은 어떤 자료형이 들어가도 됩니다 65 while 뒤 조건은 어떤 자료형이 들어가도 됩니다 66 while 뒤 조건은 어떤 자료형이 들어가도 됩니다 67 while 뒤 조건은 어떤 자료형이 들어가도 됩니다 68 while 뒤 조건은 어떤 자료형이 들어가도 됩니다 69 while 뒤 조건은 어떤 자료형이 들어가도 됩니다 70 while 뒤 조건은 어떤 자료형이 들어가도 됩니다 71 while 뒤 조건은 어떤 자료형이 들어가도 됩니다 72 while 뒤 조건은 어떤 자료형이 들어가도 됩니다 73 while 뒤 조건은 어떤 자료형이 들어가도 됩니다 74 while 뒤 조건은 어떤 자료형이 들어가도 됩니다 75 while 뒤 조건은 어떤 자료형이 들어가도 됩니다 76 while 뒤 조건은 어떤 자료형이 들어가도 됩니다 77 while 뒤 조건은 어떤 자료형이 들어가도 됩니다 78 while 뒤 조건은 어떤 자료형이 들어가도 됩니다 79 while 뒤 조건은 어떤 자료형이 들어가도 됩니다 80 while 뒤 조건은 어떤 자료형이 들어가도 됩니다 81 while 뒤 조건은 어떤 자료형이 들어가도 됩니다 82 while 뒤 조건은 어떤 자료형이 들어가도 됩니다 83 while 뒤 조건은 어떤 자료형이 들어가도 됩니다 84 while 뒤 조건은 어떤 자료형이 들어가도 됩니다 85 while 뒤 조건은 어떤 자료형이 들어가도 됩니다 86 while 뒤 조건은 어떤 자료형이 들어가도 됩니다 87 while 뒤 조건은 어떤 자료형이 들어가도 됩니다 88 while 뒤 조건은 어떤 자료형이 들어가도 됩니다 89 while 뒤 조건은 어떤 자료형이 들어가도 됩니다 90 while 뒤 조건은 어떤 자료형이 들어가도 됩니다 91 while 뒤 조건은 어떤 자료형이 들어가도 됩니다 92 while 뒤 조건은 어떤 자료형이 들어가도 됩니다 93 while 뒤 조건은 어떤 자료형이 들어가도 됩니다 94 while 뒤 조건은 어떤 자료형이 들어가도 됩니다 95 while 뒤 조건은 어떤 자료형이 들어가도 됩니다 96 while 뒤 조건은 어떤 자료형이 들어가도 됩니다 97 while 뒤 조건은 어떤 자료형이 들어가도 됩니다 98 while 뒤 조건은 어떤 자료형이 들어가도 됩니다 99 while 뒤 조건은 어떤 자료형이 들어가도 됩니다 100 while 뒤 조건은 어떤 자료형이 들어가도 됩니다 "
     ]
    }
   ],
   "source": [
    "i = 1\n",
    "while (0.0,):\n",
    "    print(i,'while 뒤 조건은 어떤 자료형이 들어가도 됩니다', end=\" \")\n",
    "    if i >= 100:\n",
    "        break\n",
    "    i += 1"
   ]
  },
  {
   "cell_type": "markdown",
   "id": "b76153e0",
   "metadata": {},
   "source": [
    "# 중첩 반복문\n",
    "* 반복문을 2개 이상 겹쳐서 사용 하는것\n",
    "* 바늘 시계의 원리와 같음\n",
    "* 안쪽 반복문이 끝난 후 바깥쪽 반복문이 실행\n",
    "* 초침 -> 분침 -> 시침"
   ]
  },
  {
   "cell_type": "markdown",
   "id": "c607ae26",
   "metadata": {},
   "source": [
    "* 구구단 만들기 2중 중첩 for문\n",
    "* 2단 -9단\n",
    "* 1-9\n",
    "* 2*1 =2"
   ]
  },
  {
   "cell_type": "code",
   "execution_count": 43,
   "id": "faf358b5",
   "metadata": {},
   "outputs": [
    {
     "name": "stdout",
     "output_type": "stream",
     "text": [
      "2 X 1 =  2\n",
      "2 X 2 =  4\n",
      "2 X 3 =  6\n",
      "2 X 4 =  8\n",
      "2 X 5 =  10\n",
      "2 X 6 =  12\n",
      "2 X 7 =  14\n",
      "2 X 8 =  16\n",
      "2 X 9 =  18\n",
      "3 X 1 =  3\n",
      "3 X 2 =  6\n",
      "3 X 3 =  9\n",
      "3 X 4 =  12\n",
      "3 X 5 =  15\n",
      "3 X 6 =  18\n",
      "3 X 7 =  21\n",
      "3 X 8 =  24\n",
      "3 X 9 =  27\n",
      "4 X 1 =  4\n",
      "4 X 2 =  8\n",
      "4 X 3 =  12\n",
      "4 X 4 =  16\n",
      "4 X 5 =  20\n",
      "4 X 6 =  24\n",
      "4 X 7 =  28\n",
      "4 X 8 =  32\n",
      "4 X 9 =  36\n",
      "5 X 1 =  5\n",
      "5 X 2 =  10\n",
      "5 X 3 =  15\n",
      "5 X 4 =  20\n",
      "5 X 5 =  25\n",
      "5 X 6 =  30\n",
      "5 X 7 =  35\n",
      "5 X 8 =  40\n",
      "5 X 9 =  45\n",
      "6 X 1 =  6\n",
      "6 X 2 =  12\n",
      "6 X 3 =  18\n",
      "6 X 4 =  24\n",
      "6 X 5 =  30\n",
      "6 X 6 =  36\n",
      "6 X 7 =  42\n",
      "6 X 8 =  48\n",
      "6 X 9 =  54\n",
      "7 X 1 =  7\n",
      "7 X 2 =  14\n",
      "7 X 3 =  21\n",
      "7 X 4 =  28\n",
      "7 X 5 =  35\n",
      "7 X 6 =  42\n",
      "7 X 7 =  49\n",
      "7 X 8 =  56\n",
      "7 X 9 =  63\n",
      "8 X 1 =  8\n",
      "8 X 2 =  16\n",
      "8 X 3 =  24\n",
      "8 X 4 =  32\n",
      "8 X 5 =  40\n",
      "8 X 6 =  48\n",
      "8 X 7 =  56\n",
      "8 X 8 =  64\n",
      "8 X 9 =  72\n",
      "9 X 1 =  9\n",
      "9 X 2 =  18\n",
      "9 X 3 =  27\n",
      "9 X 4 =  36\n",
      "9 X 5 =  45\n",
      "9 X 6 =  54\n",
      "9 X 7 =  63\n",
      "9 X 8 =  72\n",
      "9 X 9 =  81\n"
     ]
    }
   ],
   "source": [
    "\n",
    "for num1 in range(2,10):\n",
    "#     print(num1)\n",
    "    for num2 in range(1,10):\n",
    "        print(f\"{num1} X {num2} = \", num1*num2)"
   ]
  },
  {
   "cell_type": "markdown",
   "id": "16eb5704",
   "metadata": {},
   "source": [
    "* 반복문 3개로 시계 만들기\n",
    "* 초 : 00 -59\n",
    "* 분 : 00 -59\n",
    "* 시 : 00 -23\n",
    "* import time, time.sleep(0.2)"
   ]
  },
  {
   "cell_type": "code",
   "execution_count": 36,
   "id": "5b03a9eb",
   "metadata": {},
   "outputs": [],
   "source": [
    "import time"
   ]
  },
  {
   "cell_type": "code",
   "execution_count": 37,
   "id": "5c9906a8",
   "metadata": {},
   "outputs": [
    {
     "name": "stdout",
     "output_type": "stream",
     "text": [
      "00:31:37\r"
     ]
    },
    {
     "ename": "KeyboardInterrupt",
     "evalue": "",
     "output_type": "error",
     "traceback": [
      "\u001b[1;31m---------------------------------------------------------------------------\u001b[0m",
      "\u001b[1;31mKeyboardInterrupt\u001b[0m                         Traceback (most recent call last)",
      "Cell \u001b[1;32mIn[37], line 7\u001b[0m\n\u001b[0;32m      5\u001b[0m \u001b[38;5;28;01mfor\u001b[39;00m cho \u001b[38;5;129;01min\u001b[39;00m \u001b[38;5;28mrange\u001b[39m(\u001b[38;5;241m0\u001b[39m,\u001b[38;5;241m60\u001b[39m):\n\u001b[0;32m      6\u001b[0m     \u001b[38;5;28mprint\u001b[39m(\u001b[38;5;124mf\u001b[39m\u001b[38;5;124m\"\u001b[39m\u001b[38;5;132;01m{\u001b[39;00msi\u001b[38;5;132;01m:\u001b[39;00m\u001b[38;5;124m02d\u001b[39m\u001b[38;5;132;01m}\u001b[39;00m\u001b[38;5;124m:\u001b[39m\u001b[38;5;132;01m{\u001b[39;00mbun\u001b[38;5;132;01m:\u001b[39;00m\u001b[38;5;124m02\u001b[39m\u001b[38;5;132;01m}\u001b[39;00m\u001b[38;5;124m:\u001b[39m\u001b[38;5;132;01m{\u001b[39;00mcho\u001b[38;5;132;01m:\u001b[39;00m\u001b[38;5;124m02d\u001b[39m\u001b[38;5;132;01m}\u001b[39;00m\u001b[38;5;124m\"\u001b[39m, end\u001b[38;5;241m=\u001b[39m\u001b[38;5;124m\"\u001b[39m\u001b[38;5;130;01m\\r\u001b[39;00m\u001b[38;5;124m\"\u001b[39m)\n\u001b[1;32m----> 7\u001b[0m     \u001b[43mtime\u001b[49m\u001b[38;5;241;43m.\u001b[39;49m\u001b[43msleep\u001b[49m\u001b[43m(\u001b[49m\u001b[38;5;241;43m0.2\u001b[39;49m\u001b[43m)\u001b[49m\n",
      "\u001b[1;31mKeyboardInterrupt\u001b[0m: "
     ]
    }
   ],
   "source": [
    "for si in range(0,24):\n",
    "#     print(si, end=\" \")\n",
    "    for bun in range(0,60):\n",
    "#         print(cho, bun, end=\" \")\n",
    "        for cho in range(0,60):\n",
    "            print(f\"{si:02d}:{bun:02}:{cho:02d}\", end=\"\\r\")\n",
    "            time.sleep(0.2)"
   ]
  },
  {
   "cell_type": "markdown",
   "id": "9b418014",
   "metadata": {},
   "source": [
    "## 중첩반복문을 이용해서 다중 리스트 출력하기"
   ]
  },
  {
   "cell_type": "code",
   "execution_count": 45,
   "id": "598ba795",
   "metadata": {},
   "outputs": [],
   "source": [
    "l1 = []"
   ]
  },
  {
   "cell_type": "code",
   "execution_count": 46,
   "id": "8e215a16",
   "metadata": {},
   "outputs": [
    {
     "data": {
      "text/plain": [
       "[1, 2, 3, 4, 5]"
      ]
     },
     "execution_count": 46,
     "metadata": {},
     "output_type": "execute_result"
    }
   ],
   "source": [
    "list(range(1,6))"
   ]
  },
  {
   "cell_type": "code",
   "execution_count": 57,
   "id": "d755d402",
   "metadata": {},
   "outputs": [],
   "source": [
    "l1.append(list(range(1,6)))"
   ]
  },
  {
   "cell_type": "code",
   "execution_count": 58,
   "id": "017a7c79",
   "metadata": {},
   "outputs": [
    {
     "data": {
      "text/plain": [
       "[[1, 2, 3, 4, 5],\n",
       " [1, 2, 3, 4, 5],\n",
       " [1, 2, 3, 4, 5],\n",
       " [1, 2, 3, 4, 5],\n",
       " [1, 2, 3, 4, 5]]"
      ]
     },
     "execution_count": 58,
     "metadata": {},
     "output_type": "execute_result"
    }
   ],
   "source": [
    "l1 "
   ]
  },
  {
   "cell_type": "code",
   "execution_count": 59,
   "id": "505b3ba2",
   "metadata": {},
   "outputs": [
    {
     "name": "stdout",
     "output_type": "stream",
     "text": [
      "1\n",
      "2\n",
      "3\n",
      "4\n",
      "5\n"
     ]
    }
   ],
   "source": [
    "print(l1[0][0])\n",
    "print(l1[0][1])\n",
    "print(l1[0][2])\n",
    "print(l1[0][3])\n",
    "print(l1[0][4])"
   ]
  },
  {
   "cell_type": "code",
   "execution_count": 60,
   "id": "21cc3c64",
   "metadata": {},
   "outputs": [
    {
     "name": "stdout",
     "output_type": "stream",
     "text": [
      "1 2 3 4 5 1 2 3 4 5 1 2 3 4 5 1 2 3 4 5 1 2 3 4 5 "
     ]
    }
   ],
   "source": [
    "for item1 in l1:\n",
    "#     print(item1)\n",
    "    for item2 in item1:\n",
    "        print(item2, end=\" \") # 인덱스가 몇개가 되었든 모두 해체할 수 있다."
   ]
  },
  {
   "cell_type": "markdown",
   "id": "67e143c3",
   "metadata": {},
   "source": [
    "L1 리스트에 있는 모든 요소를 L2리스트에 모두 넣으세요"
   ]
  },
  {
   "cell_type": "code",
   "execution_count": 61,
   "id": "0dbface7",
   "metadata": {},
   "outputs": [
    {
     "name": "stdout",
     "output_type": "stream",
     "text": [
      "[1, 2, 3, 4, 5]\n",
      "[1, 2, 3, 4, 5]\n",
      "[1, 2, 3, 4, 5]\n",
      "[1, 2, 3, 4, 5]\n",
      "[1, 2, 3, 4, 5]\n",
      "[1, 2, 3, 4, 5, 1, 2, 3, 4, 5, 1, 2, 3, 4, 5, 1, 2, 3, 4, 5, 1, 2, 3, 4, 5]\n"
     ]
    }
   ],
   "source": [
    "L2 = []\n",
    "for item1 in l1:\n",
    "    print(item1)\n",
    "    for item2 in item1:\n",
    "        L2.append(item2)\n",
    "print(L2)"
   ]
  },
  {
   "cell_type": "code",
   "execution_count": 74,
   "id": "a27c7cf2",
   "metadata": {},
   "outputs": [
    {
     "name": "stdout",
     "output_type": "stream",
     "text": [
      "5 <class 'int'>\n"
     ]
    }
   ],
   "source": [
    "print(item2, type(item2))"
   ]
  },
  {
   "cell_type": "markdown",
   "id": "a3386f23",
   "metadata": {},
   "source": [
    "* 리스트에 동물 이름이 저장되어 있다. 여기서 동물 이름의 첫글자만 출력하세요.\n",
    "* animal = ['dog','cat','parrot']"
   ]
  },
  {
   "cell_type": "markdown",
   "id": "57a95efa",
   "metadata": {},
   "source": [
    "반복문 만들기\n",
    "요소 자르기\n",
    "앞글자 한개씩 출력"
   ]
  },
  {
   "cell_type": "code",
   "execution_count": 62,
   "id": "50560cbd",
   "metadata": {},
   "outputs": [],
   "source": [
    "animal = ['dog','cat','parrot']"
   ]
  },
  {
   "cell_type": "code",
   "execution_count": 63,
   "id": "61ed429c",
   "metadata": {},
   "outputs": [
    {
     "name": "stdout",
     "output_type": "stream",
     "text": [
      "['dog', 'cat', 'parrot']\n"
     ]
    }
   ],
   "source": [
    "print(animal)"
   ]
  },
  {
   "cell_type": "code",
   "execution_count": 80,
   "id": "f6d46771",
   "metadata": {},
   "outputs": [
    {
     "ename": "AttributeError",
     "evalue": "'list' object has no attribute 'split'",
     "output_type": "error",
     "traceback": [
      "\u001b[1;31m---------------------------------------------------------------------------\u001b[0m",
      "\u001b[1;31mAttributeError\u001b[0m                            Traceback (most recent call last)",
      "Cell \u001b[1;32mIn[80], line 1\u001b[0m\n\u001b[1;32m----> 1\u001b[0m \u001b[43manimal\u001b[49m\u001b[38;5;241;43m.\u001b[39;49m\u001b[43msplit\u001b[49m(\u001b[38;5;124m\"\u001b[39m\u001b[38;5;124m\"\u001b[39m)\n",
      "\u001b[1;31mAttributeError\u001b[0m: 'list' object has no attribute 'split'"
     ]
    }
   ],
   "source": [
    "animal.split(\"\")"
   ]
  },
  {
   "cell_type": "code",
   "execution_count": 64,
   "id": "bc8cdc4b",
   "metadata": {},
   "outputs": [
    {
     "name": "stdout",
     "output_type": "stream",
     "text": [
      "d\n",
      "c\n",
      "p\n"
     ]
    }
   ],
   "source": [
    "for spel in animal:\n",
    "    print(spel[0])"
   ]
  },
  {
   "cell_type": "code",
   "execution_count": null,
   "id": "b616b639",
   "metadata": {},
   "outputs": [],
   "source": []
  },
  {
   "cell_type": "markdown",
   "id": "4a4765dc",
   "metadata": {},
   "source": [
    "리스트에서 세글자 이상의 문자를 화면에 출력하라\n",
    "* L2 = [\"l\",\"study\",\"paython\",\"language\"\"!\"]\n",
    "* study\n",
    "* python\n",
    "* language"
   ]
  },
  {
   "cell_type": "code",
   "execution_count": 65,
   "id": "297bfa1d",
   "metadata": {},
   "outputs": [],
   "source": [
    "L2 = [\"l\",\"study\",\"paython\",\"language\",\"!\"]"
   ]
  },
  {
   "cell_type": "code",
   "execution_count": 66,
   "id": "413aae46",
   "metadata": {},
   "outputs": [
    {
     "data": {
      "text/plain": [
       "['l', 'study', 'paython', 'language', '!']"
      ]
     },
     "execution_count": 66,
     "metadata": {},
     "output_type": "execute_result"
    }
   ],
   "source": [
    "L2"
   ]
  },
  {
   "cell_type": "code",
   "execution_count": 67,
   "id": "2630a482",
   "metadata": {},
   "outputs": [
    {
     "name": "stdout",
     "output_type": "stream",
     "text": [
      "study\n",
      "paython\n",
      "language\n"
     ]
    }
   ],
   "source": [
    "for spel2 in L2:\n",
    "    if len(spel2) >= 3:\n",
    "        print(spel2)"
   ]
  },
  {
   "cell_type": "code",
   "execution_count": 87,
   "id": "f609ef3e",
   "metadata": {},
   "outputs": [],
   "source": [
    "# 리스트 만들기\n",
    "# 요소를 하나씩 거내기\n",
    "# 3이상인 글자 길이를 재기\n",
    "# 출력하기"
   ]
  },
  {
   "cell_type": "markdown",
   "id": "18a36343",
   "metadata": {},
   "source": [
    "리스트에 저장된 데이터를 아래와 같이 출력하세요.<br>\n",
    "101호<br>\n",
    "102호<br>\n",
    "201호<br>\n",
    "202호<br>\n",
    "202호<br>\n",
    "301호<br>\n",
    "302호<br>"
   ]
  },
  {
   "cell_type": "code",
   "execution_count": 68,
   "id": "3663d871",
   "metadata": {},
   "outputs": [],
   "source": [
    "apart = [[101,102], [201,202], [301,302]]"
   ]
  },
  {
   "cell_type": "code",
   "execution_count": 69,
   "id": "9c03e9bf",
   "metadata": {},
   "outputs": [
    {
     "data": {
      "text/plain": [
       "[[101, 102], [201, 202], [301, 302]]"
      ]
     },
     "execution_count": 69,
     "metadata": {},
     "output_type": "execute_result"
    }
   ],
   "source": [
    "apart"
   ]
  },
  {
   "cell_type": "code",
   "execution_count": 95,
   "id": "b3f26414",
   "metadata": {},
   "outputs": [
    {
     "name": "stdout",
     "output_type": "stream",
     "text": [
      "101 호\n",
      "102 호\n",
      "201 호\n",
      "202 호\n",
      "301 호\n",
      "302 호\n"
     ]
    }
   ],
   "source": [
    "for floor in apart:\n",
    "#     print(ho1)\n",
    "    for room in floor:\n",
    "        print(f'{room} 호')"
   ]
  },
  {
   "cell_type": "markdown",
   "id": "63724b00",
   "metadata": {},
   "source": [
    "301호<br>\n",
    "302호<br>\n",
    "201호<br>\n",
    "202호<br>\n",
    "101호<br>\n",
    "102호<br>"
   ]
  },
  {
   "cell_type": "code",
   "execution_count": 98,
   "id": "8c57c6f6",
   "metadata": {},
   "outputs": [
    {
     "name": "stdout",
     "output_type": "stream",
     "text": [
      "301 호\n",
      "302 호\n",
      "201 호\n",
      "202 호\n",
      "101 호\n",
      "102 호\n"
     ]
    }
   ],
   "source": [
    "for floor in apart[::-1]:\n",
    "#     print(ho1)\n",
    "    for room in floor:\n",
    "        print(f'{room} 호')"
   ]
  },
  {
   "cell_type": "code",
   "execution_count": null,
   "id": "66e6aab2",
   "metadata": {},
   "outputs": [],
   "source": [
    "# 층 있는 바깥 리스트의 순서를 역순 정렬\n"
   ]
  },
  {
   "cell_type": "code",
   "execution_count": 100,
   "id": "49469ed6",
   "metadata": {},
   "outputs": [
    {
     "name": "stdout",
     "output_type": "stream",
     "text": [
      "301 호\n",
      "302 호\n",
      "201 호\n",
      "202 호\n",
      "101 호\n",
      "102 호\n"
     ]
    }
   ],
   "source": [
    "for floor in reversed(apart):\n",
    "    for room in floor:\n",
    "        print(room, \"호\")"
   ]
  },
  {
   "cell_type": "code",
   "execution_count": null,
   "id": "ec9e8149",
   "metadata": {},
   "outputs": [],
   "source": []
  },
  {
   "cell_type": "code",
   "execution_count": null,
   "id": "2cc71d5e",
   "metadata": {},
   "outputs": [],
   "source": []
  },
  {
   "cell_type": "code",
   "execution_count": null,
   "id": "5300e25a",
   "metadata": {},
   "outputs": [],
   "source": []
  },
  {
   "cell_type": "code",
   "execution_count": null,
   "id": "bfc3d0e0",
   "metadata": {},
   "outputs": [],
   "source": []
  },
  {
   "cell_type": "code",
   "execution_count": null,
   "id": "58e095e1",
   "metadata": {},
   "outputs": [],
   "source": []
  },
  {
   "cell_type": "code",
   "execution_count": null,
   "id": "a7611b6e",
   "metadata": {},
   "outputs": [],
   "source": []
  },
  {
   "cell_type": "code",
   "execution_count": null,
   "id": "5af76c63",
   "metadata": {},
   "outputs": [],
   "source": []
  },
  {
   "cell_type": "code",
   "execution_count": null,
   "id": "eb0dd1d8",
   "metadata": {},
   "outputs": [],
   "source": []
  }
 ],
 "metadata": {
  "kernelspec": {
   "display_name": "Python 3 (ipykernel)",
   "language": "python",
   "name": "python3"
  },
  "language_info": {
   "codemirror_mode": {
    "name": "ipython",
    "version": 3
   },
   "file_extension": ".py",
   "mimetype": "text/x-python",
   "name": "python",
   "nbconvert_exporter": "python",
   "pygments_lexer": "ipython3",
   "version": "3.9.21"
  }
 },
 "nbformat": 4,
 "nbformat_minor": 5
}
