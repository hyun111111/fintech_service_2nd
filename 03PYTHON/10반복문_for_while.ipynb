{
 "cells": [
  {
   "cell_type": "markdown",
   "id": "a4496d9f",
   "metadata": {},
   "source": [
    "# 반복문 for, while\n",
    "* 반복문은 동일한 작업을 여러번 반복해야할 경우 사용\n",
    "* for, while 두 종류의 반복문이 있음\n",
    "* for는 **반복횟수가 정해져있는 경우** 사용-> 시퀀스 자료형\n",
    "* while은 반복 횟수가 정해져 있지 않을(무한반복) 때 사용 -> 무한반복을 시키되 특정조건을 만나면 멈추는"
   ]
  },
  {
   "cell_type": "markdown",
   "id": "6c3f1b73",
   "metadata": {},
   "source": [
    "## for 반복문: 반복할 횟수가 정해져 있는 경우\n",
    "for 변수1, 변수2 in 반복할 객체/자료(문자열, 리스트 ,튜플, 딕셔너리): <br>\n",
    "____(공백 4개)반복할 코드"
   ]
  },
  {
   "cell_type": "code",
   "execution_count": 1,
   "id": "4f8eb03d",
   "metadata": {},
   "outputs": [],
   "source": [
    "#숫자 생성 함수 .range(시작,끝, step)"
   ]
  },
  {
   "cell_type": "code",
   "execution_count": 3,
   "id": "ab6f8e1f",
   "metadata": {},
   "outputs": [
    {
     "name": "stdout",
     "output_type": "stream",
     "text": [
      "1 2 3 4 5 6 7 8 9 10 "
     ]
    }
   ],
   "source": [
    "# for 문을 이용해서 숫자 1-10을 출력\n",
    "for num in range(1,11):\n",
    "    print(num, end=\" \")"
   ]
  },
  {
   "cell_type": "markdown",
   "id": "14690474",
   "metadata": {},
   "source": [
    "* 순서가 있는 자료형(문자열, 리스트, 튜플) + 순서는 없지만 dict도 반복문에서 사용 가능"
   ]
  },
  {
   "cell_type": "code",
   "execution_count": 9,
   "id": "324dea62",
   "metadata": {},
   "outputs": [
    {
     "name": "stdout",
     "output_type": "stream",
     "text": [
      "파    이    썬    은         문    자    열    을         반    복    문    에         넣    어         출    력    가    능    "
     ]
    }
   ],
   "source": [
    "# 문자열 \n",
    "for char in \"파이썬은 문자열을 반복문에 넣어 출력가능\":\n",
    "    print(char, end=\"    \")"
   ]
  },
  {
   "cell_type": "code",
   "execution_count": 19,
   "id": "f97e43f8",
   "metadata": {},
   "outputs": [
    {
     "name": "stdout",
     "output_type": "stream",
     "text": [
      "1\n",
      "2\n",
      "3\n",
      "4\n",
      "사\n",
      "오\n",
      "[6, 7, 8]\n",
      "(8, 9, 10)\n",
      "{'key': 'value'}\n"
     ]
    }
   ],
   "source": [
    "# 리스트\n",
    "for l_item in [1,2,3,4,\"사\",\"오\", [6,7,8],(8,9,10), {\"key\":\"value\"}]:\n",
    "    print(l_item)"
   ]
  },
  {
   "cell_type": "code",
   "execution_count": 20,
   "id": "74523e45",
   "metadata": {},
   "outputs": [
    {
     "name": "stdout",
     "output_type": "stream",
     "text": [
      "1\n",
      "2\n",
      "3\n",
      "4\n",
      "사\n",
      "오\n",
      "[6, 7, 8]\n",
      "(8, 9, 10)\n",
      "{'key': 'value'}\n"
     ]
    }
   ],
   "source": [
    "# 튜플\n",
    "for t_item in (1,2,3,4,\"사\",\"오\", [6,7,8],(8,9,10),{\"key\":\"value\"}):\n",
    "    print(t_item)"
   ]
  },
  {
   "cell_type": "code",
   "execution_count": 13,
   "id": "904cbd61",
   "metadata": {},
   "outputs": [],
   "source": [
    "d = dict(이름=\"홍길동\", 나이=40, 주소=\"서울\", 전화번호=\"010-1111-1111\")"
   ]
  },
  {
   "cell_type": "code",
   "execution_count": 15,
   "id": "50d422f8",
   "metadata": {},
   "outputs": [
    {
     "data": {
      "text/plain": [
       "{'이름': '홍길동', '나이': 40, '주소': '서울', '전화번호': '010-1111-1111'}"
      ]
     },
     "execution_count": 15,
     "metadata": {},
     "output_type": "execute_result"
    }
   ],
   "source": [
    "d"
   ]
  },
  {
   "cell_type": "code",
   "execution_count": 22,
   "id": "c2733cf2",
   "metadata": {},
   "outputs": [
    {
     "name": "stdout",
     "output_type": "stream",
     "text": [
      "홍길동\n",
      "40\n",
      "서울\n",
      "010-1111-1111\n"
     ]
    }
   ],
   "source": [
    "for item in d:\n",
    "    print(d.get(item, \"key 없음\"))"
   ]
  },
  {
   "cell_type": "code",
   "execution_count": 25,
   "id": "4ac03b9a",
   "metadata": {},
   "outputs": [
    {
     "name": "stdout",
     "output_type": "stream",
     "text": [
      "이름\n",
      "나이\n",
      "주소\n",
      "전화번호\n"
     ]
    }
   ],
   "source": [
    "for item in d.keys():\n",
    "    print(item)"
   ]
  },
  {
   "cell_type": "code",
   "execution_count": 26,
   "id": "c8c60c4b",
   "metadata": {},
   "outputs": [
    {
     "name": "stdout",
     "output_type": "stream",
     "text": [
      "홍길동\n",
      "40\n",
      "서울\n",
      "010-1111-1111\n"
     ]
    }
   ],
   "source": [
    "for item in d.values():\n",
    "    print(item)"
   ]
  },
  {
   "cell_type": "code",
   "execution_count": 30,
   "id": "ed16cc3d",
   "metadata": {
    "scrolled": true
   },
   "outputs": [
    {
     "name": "stdout",
     "output_type": "stream",
     "text": [
      "이름 홍길동\n",
      "나이 40\n",
      "주소 서울\n",
      "전화번호 010-1111-1111\n"
     ]
    }
   ],
   "source": [
    "for key, value in d.items(): # 이런 함수들이 있는 이유 : 반복문을 잘 돌리기 위해서. 자동화\n",
    "    print(key,value)"
   ]
  },
  {
   "cell_type": "markdown",
   "id": "0f02ef89",
   "metadata": {},
   "source": [
    "* for 반복문을 이용해서 1부터 10까지 정수를 더한 합을 출력하세요\n",
    "    * 1부터 10까지 숫자를 만들어서 반복문에 넣어야함\n",
    "    * 1-10 더함\n",
    "    * 누적덧셈을 한 결과를 출력"
   ]
  },
  {
   "cell_type": "code",
   "execution_count": 53,
   "id": "59cc3965",
   "metadata": {},
   "outputs": [
    {
     "name": "stdout",
     "output_type": "stream",
     "text": [
      "1\n",
      "2\n",
      "3\n",
      "4\n",
      "5\n",
      "6\n",
      "7\n",
      "8\n",
      "9\n",
      "10\n"
     ]
    }
   ],
   "source": [
    "for num in range(1,11):\n",
    "    print(num)"
   ]
  },
  {
   "cell_type": "code",
   "execution_count": 54,
   "id": "a94b05ef",
   "metadata": {},
   "outputs": [
    {
     "name": "stdout",
     "output_type": "stream",
     "text": [
      "hap: 0 + num: 1: 1\n",
      "hap: 1 + num: 2: 3\n",
      "hap: 3 + num: 3: 6\n",
      "hap: 6 + num: 4: 10\n",
      "hap: 10 + num: 5: 15\n",
      "hap: 15 + num: 6: 21\n",
      "hap: 21 + num: 7: 28\n",
      "hap: 28 + num: 8: 36\n",
      "hap: 36 + num: 9: 45\n",
      "hap: 45 + num: 10: 55\n"
     ]
    }
   ],
   "source": [
    "hap = 0\n",
    "for num in range(1,11):\n",
    "    print(f\"hap: {hap} + num: {num}\",end=\": \")\n",
    "    hap += num # hap = hap +num\n",
    "    print(f\"{hap}\")"
   ]
  },
  {
   "cell_type": "code",
   "execution_count": 55,
   "id": "3a0bae56",
   "metadata": {},
   "outputs": [
    {
     "name": "stdout",
     "output_type": "stream",
     "text": [
      "hap: 0 + num: 1: 1\n",
      "hap: 0 + num: 2: 2\n",
      "hap: 0 + num: 3: 3\n",
      "hap: 0 + num: 4: 4\n",
      "hap: 0 + num: 5: 5\n",
      "hap: 0 + num: 6: 6\n",
      "hap: 0 + num: 7: 7\n",
      "hap: 0 + num: 8: 8\n",
      "hap: 0 + num: 9: 9\n",
      "hap: 0 + num: 10: 10\n"
     ]
    }
   ],
   "source": [
    "for num in range(1,11):\n",
    "    hap = 0 # 중간에 하면 합을 초기화\n",
    "    print(f\"hap: {hap} + num: {num}\",end=\": \")\n",
    "    hap += num # hap = hap +num\n",
    "    print(f\"{hap}\")"
   ]
  },
  {
   "cell_type": "code",
   "execution_count": null,
   "id": "dd9f525d",
   "metadata": {},
   "outputs": [],
   "source": []
  },
  {
   "cell_type": "code",
   "execution_count": null,
   "id": "83d32aeb",
   "metadata": {},
   "outputs": [],
   "source": []
  },
  {
   "cell_type": "code",
   "execution_count": null,
   "id": "7d7be6a9",
   "metadata": {},
   "outputs": [],
   "source": []
  },
  {
   "cell_type": "code",
   "execution_count": null,
   "id": "e075df63",
   "metadata": {},
   "outputs": [],
   "source": []
  },
  {
   "cell_type": "code",
   "execution_count": null,
   "id": "7ded4b95",
   "metadata": {},
   "outputs": [],
   "source": []
  },
  {
   "cell_type": "code",
   "execution_count": null,
   "id": "da0bee12",
   "metadata": {},
   "outputs": [],
   "source": []
  },
  {
   "cell_type": "code",
   "execution_count": null,
   "id": "5ec6cb2a",
   "metadata": {},
   "outputs": [],
   "source": []
  },
  {
   "cell_type": "code",
   "execution_count": null,
   "id": "381825aa",
   "metadata": {},
   "outputs": [],
   "source": []
  },
  {
   "cell_type": "code",
   "execution_count": null,
   "id": "6bc2c35b",
   "metadata": {},
   "outputs": [],
   "source": []
  },
  {
   "cell_type": "code",
   "execution_count": null,
   "id": "d0584bcd",
   "metadata": {},
   "outputs": [],
   "source": []
  },
  {
   "cell_type": "code",
   "execution_count": null,
   "id": "8a810a12",
   "metadata": {},
   "outputs": [],
   "source": []
  },
  {
   "cell_type": "code",
   "execution_count": null,
   "id": "2f0e3a48",
   "metadata": {},
   "outputs": [],
   "source": []
  },
  {
   "cell_type": "code",
   "execution_count": null,
   "id": "e18d55ec",
   "metadata": {},
   "outputs": [],
   "source": []
  }
 ],
 "metadata": {
  "kernelspec": {
   "display_name": "Python 3 (ipykernel)",
   "language": "python",
   "name": "python3"
  },
  "language_info": {
   "codemirror_mode": {
    "name": "ipython",
    "version": 3
   },
   "file_extension": ".py",
   "mimetype": "text/x-python",
   "name": "python",
   "nbconvert_exporter": "python",
   "pygments_lexer": "ipython3",
   "version": "3.9.21"
  }
 },
 "nbformat": 4,
 "nbformat_minor": 5
}
