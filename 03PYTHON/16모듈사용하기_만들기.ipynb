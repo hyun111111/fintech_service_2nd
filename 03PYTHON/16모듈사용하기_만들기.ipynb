{
 "cells": [
  {
   "cell_type": "markdown",
   "id": "af8197a1",
   "metadata": {},
   "source": [
    "# 모듈 사용하기\n",
    "* 누군가가 미리 사용하기 편하게 만들어놓은 함수, 클래스\n",
    "* import 명령을 통해서 프로그램 가장 위에서 모듈을 불러와 사용할 수 있음.\n",
    "* 모듈에 너무 많은 기능이 있는 경우 from 모듈명 import 함수/메서드명 형식으로 일부 기능만 불러올 수도 있음\n",
    "* 모듈은 사용자가 직접 만들수도 있음\n",
    "* 모듈을 불러올 때는 실행하는 파일과 같은 위치에 있어야 함"
   ]
  },
  {
   "cell_type": "markdown",
   "id": "3926b062",
   "metadata": {},
   "source": [
    "# datetime 모듈 사용하기"
   ]
  },
  {
   "cell_type": "code",
   "execution_count": 1,
   "id": "26d382e5",
   "metadata": {},
   "outputs": [],
   "source": [
    "from datetime import datetime"
   ]
  },
  {
   "cell_type": "code",
   "execution_count": 2,
   "id": "0422d771",
   "metadata": {},
   "outputs": [
    {
     "data": {
      "text/plain": [
       "datetime.datetime(2025, 3, 28, 17, 25, 37, 4705)"
      ]
     },
     "execution_count": 2,
     "metadata": {},
     "output_type": "execute_result"
    }
   ],
   "source": [
    "datetime.now()"
   ]
  },
  {
   "cell_type": "code",
   "execution_count": 3,
   "id": "924d4414",
   "metadata": {},
   "outputs": [],
   "source": [
    "now = datetime.now()"
   ]
  },
  {
   "cell_type": "code",
   "execution_count": 4,
   "id": "5719d28f",
   "metadata": {},
   "outputs": [
    {
     "data": {
      "text/plain": [
       "2025"
      ]
     },
     "execution_count": 4,
     "metadata": {},
     "output_type": "execute_result"
    }
   ],
   "source": [
    "now.year"
   ]
  },
  {
   "cell_type": "code",
   "execution_count": 5,
   "id": "ba00a788",
   "metadata": {},
   "outputs": [
    {
     "ename": "TypeError",
     "evalue": "'datetime.datetime' object is not iterable",
     "output_type": "error",
     "traceback": [
      "\u001b[1;31m---------------------------------------------------------------------------\u001b[0m",
      "\u001b[1;31mTypeError\u001b[0m                                 Traceback (most recent call last)",
      "Cell \u001b[1;32mIn[5], line 1\u001b[0m\n\u001b[1;32m----> 1\u001b[0m \u001b[38;5;28;43mlist\u001b[39;49m\u001b[43m(\u001b[49m\u001b[43mnow\u001b[49m\u001b[43m)\u001b[49m\n",
      "\u001b[1;31mTypeError\u001b[0m: 'datetime.datetime' object is not iterable"
     ]
    }
   ],
   "source": [
    "list(now)"
   ]
  },
  {
   "cell_type": "markdown",
   "id": "6f6123e1",
   "metadata": {},
   "source": [
    "데이트 타임 객체"
   ]
  },
  {
   "cell_type": "code",
   "execution_count": 6,
   "id": "d65486cb",
   "metadata": {},
   "outputs": [
    {
     "data": {
      "text/plain": [
       "3"
      ]
     },
     "execution_count": 6,
     "metadata": {},
     "output_type": "execute_result"
    }
   ],
   "source": [
    "now.month"
   ]
  },
  {
   "cell_type": "code",
   "execution_count": 7,
   "id": "8378502e",
   "metadata": {},
   "outputs": [
    {
     "data": {
      "text/plain": [
       "28"
      ]
     },
     "execution_count": 7,
     "metadata": {},
     "output_type": "execute_result"
    }
   ],
   "source": [
    "now.day"
   ]
  },
  {
   "cell_type": "code",
   "execution_count": 8,
   "id": "4c9e6548",
   "metadata": {},
   "outputs": [
    {
     "data": {
      "text/plain": [
       "17"
      ]
     },
     "execution_count": 8,
     "metadata": {},
     "output_type": "execute_result"
    }
   ],
   "source": [
    "now.hour"
   ]
  },
  {
   "cell_type": "code",
   "execution_count": 9,
   "id": "06fe2279",
   "metadata": {},
   "outputs": [
    {
     "data": {
      "text/plain": [
       "37"
      ]
     },
     "execution_count": 9,
     "metadata": {},
     "output_type": "execute_result"
    }
   ],
   "source": [
    "now.second"
   ]
  },
  {
   "cell_type": "markdown",
   "id": "f59139e3",
   "metadata": {},
   "source": [
    "시간을 포멧에 맞춰 출력하기"
   ]
  },
  {
   "cell_type": "code",
   "execution_count": 10,
   "id": "374d520b",
   "metadata": {},
   "outputs": [
    {
     "data": {
      "text/plain": [
       "'2025.03.28 17:25:37'"
      ]
     },
     "execution_count": 10,
     "metadata": {},
     "output_type": "execute_result"
    }
   ],
   "source": [
    "now.strftime(\"%Y.%m.%d %H:%M:%S\")"
   ]
  },
  {
   "cell_type": "code",
   "execution_count": 11,
   "id": "e9d8a563",
   "metadata": {},
   "outputs": [
    {
     "data": {
      "text/plain": [
       "'25.25.03/28/25 17:25:37'"
      ]
     },
     "execution_count": 11,
     "metadata": {},
     "output_type": "execute_result"
    }
   ],
   "source": [
    "now.strftime(\"%y.%M.%D %H:%M:%S\")"
   ]
  },
  {
   "cell_type": "markdown",
   "id": "efe3f4a5",
   "metadata": {},
   "source": [
    "# OS 모듈"
   ]
  },
  {
   "cell_type": "code",
   "execution_count": 12,
   "id": "b530cf14",
   "metadata": {},
   "outputs": [],
   "source": [
    "import os"
   ]
  },
  {
   "cell_type": "code",
   "execution_count": 13,
   "id": "ead8aeb9",
   "metadata": {},
   "outputs": [
    {
     "name": "stdout",
     "output_type": "stream",
     "text": [
      "현재 운영체제 nt\n",
      "현재 사용하는 폴더: C:\\fintech\\03PYTHON\n",
      "현재 폴더 내부의 파일 리스트: ['.ipynb_checkpoints', '01_how_to_jupyternotebook.ipynb', '02python_basic.ipynb', '03파이썬의_자료형.ipynb', '04연산자의_종류와_활용.ipynb', '05문자열과_문자열함수.ipynb', '06리스트와_튜플_사용하기.ipynb', '07dictionary_사용하기.ipynb', '08서식지정자와_문자열_포멧팅.ipynb', '09if_elif_else조건문.ipynb', '10반복문_for_while.ipynb', '11리스트표현식_파일읽기쓰기.ipynb', '12JSON데이터_언패킹해서_csv파일로 만들기.ipynb', '13함수만들기_예외처리.ipynb', '14JSON언패킹2_ 호텔스닷컴리뷰_자료정리하기.ipynb', '15클래스만들기.ipynb', '16모듈사용하기_만들기.ipynb', 'data', 'Miniforge_주피터노트북 설치 및 설정.pdf', 'myfuc.py', 'new.txt', 'original.txt', 'testdir', 'test_utf-8.txt', 'text.txt', 'text2.txt', '__pycache__', '연습문제 초보자를 위한 파이썬 30.ipynb', '연습문제_01_print_자료형_연산자.ipynb', '연습문제_02_문자열_리스트.ipynb', '연습문제_03_리스트_튜플_20문제.ipynb', '연습문제_04_딕셔너리_30문제.ipynb', '연습문제_05_딕셔너리_조건문_반복문연습문제.ipynb', '호텔스닷컴리뷰.csv', '호텔정보.csv']\n"
     ]
    }
   ],
   "source": [
    "# 내가 사용하는 컴퓨터의 기본 정보 출력하기\n",
    "print(\"현재 운영체제\", os.name)\n",
    "print(\"현재 사용하는 폴더:\",os.getcwd())\n",
    "print(\"현재 폴더 내부의 파일 리스트:\", os.listdir())"
   ]
  },
  {
   "cell_type": "code",
   "execution_count": 14,
   "id": "c6c95f92",
   "metadata": {},
   "outputs": [
    {
     "ename": "NameError",
     "evalue": "name 'i' is not defined",
     "output_type": "error",
     "traceback": [
      "\u001b[1;31m---------------------------------------------------------------------------\u001b[0m",
      "\u001b[1;31mNameError\u001b[0m                                 Traceback (most recent call last)",
      "Cell \u001b[1;32mIn[14], line 4\u001b[0m\n\u001b[0;32m      1\u001b[0m files \u001b[38;5;241m=\u001b[39m[]\n\u001b[0;32m      2\u001b[0m \u001b[38;5;28;01mfor\u001b[39;00m file_name \u001b[38;5;129;01min\u001b[39;00m os\u001b[38;5;241m.\u001b[39mlistdir():\n\u001b[0;32m      3\u001b[0m \u001b[38;5;66;03m#     print(i)\u001b[39;00m\n\u001b[1;32m----> 4\u001b[0m     \u001b[38;5;28;01mif\u001b[39;00m \u001b[43mi\u001b[49m[\u001b[38;5;241m-\u001b[39m\u001b[38;5;241m3\u001b[39m:] \u001b[38;5;241m==\u001b[39m \u001b[38;5;124m\"\u001b[39m\u001b[38;5;124mtxt\u001b[39m\u001b[38;5;124m\"\u001b[39m:\n\u001b[0;32m      5\u001b[0m         \u001b[38;5;28mprint\u001b[39m(i)\n\u001b[0;32m      6\u001b[0m         \u001b[38;5;28;01mwith\u001b[39;00m \u001b[38;5;28mopen\u001b[39m(file_name, encoding\u001b[38;5;241m=\u001b[39m\u001b[38;5;124m\"\u001b[39m\u001b[38;5;124mutf-8\u001b[39m\u001b[38;5;124m\"\u001b[39m) \u001b[38;5;28;01mas\u001b[39;00m file:\n",
      "\u001b[1;31mNameError\u001b[0m: name 'i' is not defined"
     ]
    }
   ],
   "source": [
    "files =[]\n",
    "for file_name in os.listdir():\n",
    "#     print(i)\n",
    "    if i[-3:] == \"txt\":\n",
    "        print(i)\n",
    "        with open(file_name, encoding=\"utf-8\") as file:\n",
    "            data = file.read()\n",
    "            files.append(data)"
   ]
  },
  {
   "cell_type": "code",
   "execution_count": 15,
   "id": "78a743c8",
   "metadata": {},
   "outputs": [
    {
     "data": {
      "text/plain": [
       "[]"
      ]
     },
     "execution_count": 15,
     "metadata": {},
     "output_type": "execute_result"
    }
   ],
   "source": [
    "files"
   ]
  },
  {
   "cell_type": "code",
   "execution_count": 16,
   "id": "6967dc74",
   "metadata": {},
   "outputs": [
    {
     "ename": "FileExistsError",
     "evalue": "[WinError 183] 파일이 이미 있으므로 만들 수 없습니다: 'testdir'",
     "output_type": "error",
     "traceback": [
      "\u001b[1;31m---------------------------------------------------------------------------\u001b[0m",
      "\u001b[1;31mFileExistsError\u001b[0m                           Traceback (most recent call last)",
      "Cell \u001b[1;32mIn[16], line 2\u001b[0m\n\u001b[0;32m      1\u001b[0m \u001b[38;5;66;03m# 현재 위치에서 폴더 만들기\u001b[39;00m\n\u001b[1;32m----> 2\u001b[0m \u001b[43mos\u001b[49m\u001b[38;5;241;43m.\u001b[39;49m\u001b[43mmkdir\u001b[49m\u001b[43m(\u001b[49m\u001b[38;5;124;43m\"\u001b[39;49m\u001b[38;5;124;43mtestdir\u001b[39;49m\u001b[38;5;124;43m\"\u001b[39;49m\u001b[43m)\u001b[49m\n",
      "\u001b[1;31mFileExistsError\u001b[0m: [WinError 183] 파일이 이미 있으므로 만들 수 없습니다: 'testdir'"
     ]
    }
   ],
   "source": [
    "# 현재 위치에서 폴더 만들기\n",
    "os.mkdir(\"testdir\")"
   ]
  },
  {
   "cell_type": "code",
   "execution_count": 17,
   "id": "d7e65586",
   "metadata": {},
   "outputs": [],
   "source": [
    "# 현재 위치에서 폴더 삭제하기\n",
    "os.rmdir(\"testdir\")"
   ]
  },
  {
   "cell_type": "code",
   "execution_count": 18,
   "id": "fb385374",
   "metadata": {},
   "outputs": [
    {
     "data": {
      "text/plain": [
       "0"
      ]
     },
     "execution_count": 18,
     "metadata": {},
     "output_type": "execute_result"
    }
   ],
   "source": [
    "# cmd 명령어 실행하기\n",
    "os.system(\"dir\")"
   ]
  },
  {
   "cell_type": "code",
   "execution_count": 19,
   "id": "e1cf2af6",
   "metadata": {},
   "outputs": [],
   "source": [
    "# 파일을 생성하고 파일이름 변경하기\n",
    "with open(\"original.txt\", \"w\") as file:\n",
    "    file.write(\"안녕하세요\")"
   ]
  },
  {
   "cell_type": "code",
   "execution_count": 20,
   "id": "02645494",
   "metadata": {},
   "outputs": [
    {
     "ename": "FileExistsError",
     "evalue": "[WinError 183] 파일이 이미 있으므로 만들 수 없습니다: 'original.txt' -> 'new.txt'",
     "output_type": "error",
     "traceback": [
      "\u001b[1;31m---------------------------------------------------------------------------\u001b[0m",
      "\u001b[1;31mFileExistsError\u001b[0m                           Traceback (most recent call last)",
      "Cell \u001b[1;32mIn[20], line 1\u001b[0m\n\u001b[1;32m----> 1\u001b[0m \u001b[43mos\u001b[49m\u001b[38;5;241;43m.\u001b[39;49m\u001b[43mrename\u001b[49m\u001b[43m(\u001b[49m\u001b[38;5;124;43m\"\u001b[39;49m\u001b[38;5;124;43moriginal.txt\u001b[39;49m\u001b[38;5;124;43m\"\u001b[39;49m\u001b[43m,\u001b[49m\u001b[43m \u001b[49m\u001b[38;5;124;43m\"\u001b[39;49m\u001b[38;5;124;43mnew.txt\u001b[39;49m\u001b[38;5;124;43m\"\u001b[39;49m\u001b[43m)\u001b[49m\n",
      "\u001b[1;31mFileExistsError\u001b[0m: [WinError 183] 파일이 이미 있으므로 만들 수 없습니다: 'original.txt' -> 'new.txt'"
     ]
    }
   ],
   "source": [
    "os.rename(\"original.txt\", \"new.txt\")"
   ]
  },
  {
   "cell_type": "code",
   "execution_count": 21,
   "id": "2cbc811e",
   "metadata": {},
   "outputs": [],
   "source": [
    "# 폴더가 있는지 확인하고 없으면 폴더 생성하기\n",
    "if not os.path.exists(\"./testdir\"):\n",
    "    os.mkdir(\"testdir\")\n",
    "else:\n",
    "    print(\"testdir이 이미 있습니다\")"
   ]
  },
  {
   "cell_type": "code",
   "execution_count": 22,
   "id": "e8aee775",
   "metadata": {},
   "outputs": [
    {
     "name": "stdout",
     "output_type": "stream",
     "text": [
      "value\n"
     ]
    }
   ],
   "source": [
    "# 환경변수에 변수와 값 추가하기\n",
    "os.environ['key'] = \"value\"\n",
    "print(os.environ.get('key'))"
   ]
  },
  {
   "cell_type": "code",
   "execution_count": 23,
   "id": "fb34cc7d",
   "metadata": {},
   "outputs": [
    {
     "name": "stdout",
     "output_type": "stream",
     "text": [
      "C:\\Users\\Admin\\miniforge3\\envs\\fintech;C:\\Users\\Admin\\miniforge3\\envs\\fintech\\Library\\mingw-w64\\bin;C:\\Users\\Admin\\miniforge3\\envs\\fintech\\Library\\usr\\bin;C:\\Users\\Admin\\miniforge3\\envs\\fintech\\Library\\bin;C:\\Users\\Admin\\miniforge3\\envs\\fintech\\Scripts;C:\\Users\\Admin\\miniforge3\\envs\\fintech\\bin;C:\\Users\\Admin\\miniforge3\\condabin;C:\\Windows\\system32;C:\\Windows;C:\\Windows\\System32\\Wbem;C:\\Windows\\System32\\WindowsPowerShell\\v1.0;C:\\Windows\\System32\\OpenSSH;C:\\Program Files\\Bandizip;C:\\Program Files\\Git\\cmd;C:\\Users\\Admin\\AppData\\Local\\Microsoft\\WindowsApps;C:\\Users\\Admin\\AppData\\Local\\Programs\\Microsoft VS Code\\bin\n"
     ]
    }
   ],
   "source": [
    "print(os.environ.get('Path'))"
   ]
  },
  {
   "cell_type": "code",
   "execution_count": 24,
   "id": "f7b0eed6",
   "metadata": {},
   "outputs": [],
   "source": [
    "from myfuc import *"
   ]
  },
  {
   "cell_type": "markdown",
   "id": "463b6bc0",
   "metadata": {},
   "source": [
    "* 전부 불러오기 , Cal만 불러올수 있음"
   ]
  },
  {
   "cell_type": "code",
   "execution_count": 25,
   "id": "deb26197",
   "metadata": {},
   "outputs": [
    {
     "data": {
      "text/plain": [
       "7"
      ]
     },
     "execution_count": 25,
     "metadata": {},
     "output_type": "execute_result"
    }
   ],
   "source": [
    "add(3,4)"
   ]
  },
  {
   "cell_type": "code",
   "execution_count": 26,
   "id": "d9d0d91a",
   "metadata": {},
   "outputs": [],
   "source": [
    "sam = Cal(3,4)"
   ]
  },
  {
   "cell_type": "code",
   "execution_count": 27,
   "id": "d97eca44",
   "metadata": {},
   "outputs": [
    {
     "data": {
      "text/plain": [
       "7"
      ]
     },
     "execution_count": 27,
     "metadata": {},
     "output_type": "execute_result"
    }
   ],
   "source": [
    "sam.add()"
   ]
  },
  {
   "cell_type": "code",
   "execution_count": null,
   "id": "43bce956",
   "metadata": {},
   "outputs": [],
   "source": []
  },
  {
   "cell_type": "code",
   "execution_count": null,
   "id": "c02d3f9a",
   "metadata": {},
   "outputs": [],
   "source": []
  },
  {
   "cell_type": "code",
   "execution_count": null,
   "id": "fe7d7142",
   "metadata": {},
   "outputs": [],
   "source": []
  },
  {
   "cell_type": "code",
   "execution_count": null,
   "id": "14220c89",
   "metadata": {},
   "outputs": [],
   "source": []
  }
 ],
 "metadata": {
  "kernelspec": {
   "display_name": "Python 3 (ipykernel)",
   "language": "python",
   "name": "python3"
  },
  "language_info": {
   "codemirror_mode": {
    "name": "ipython",
    "version": 3
   },
   "file_extension": ".py",
   "mimetype": "text/x-python",
   "name": "python",
   "nbconvert_exporter": "python",
   "pygments_lexer": "ipython3",
   "version": "3.9.21"
  }
 },
 "nbformat": 4,
 "nbformat_minor": 5
}
