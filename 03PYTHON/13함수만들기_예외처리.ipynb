{
 "cells": [
  {
   "cell_type": "markdown",
   "id": "d3b6917b",
   "metadata": {},
   "source": [
    "# 함수만들기\n",
    "* print(), split(), input(),  -> 함수\n",
    "* 함수의 괄호 안에 값을 넣으면 출력을 해주거나 입력을 받거나 변환을 해줌.\n",
    "* 만들어져있는 도구\n",
    "* funtion 기능\n",
    "* 자주 사용하는 기능을 미리 만들어서 **반복 재사용**을 할 수 있게 만든 것"
   ]
  },
  {
   "cell_type": "markdown",
   "id": "b53cf8dc",
   "metadata": {},
   "source": [
    "#\n",
    "   "
   ]
  },
  {
   "cell_type": "code",
   "execution_count": 3,
   "id": "f8d538d5",
   "metadata": {},
   "outputs": [
    {
     "data": {
      "text/plain": [
       "[10, 20, 30, 40]"
      ]
     },
     "execution_count": 3,
     "metadata": {},
     "output_type": "execute_result"
    }
   ],
   "source": [
    "# 리스트의 자료에 10을 곱해서 다시 리스트로 출력하세요.4\n",
    "# result = [10,20,30,40]\n",
    "l = [1,2,3,4 ]\n",
    "result =[]\n",
    "for i in l :\n",
    "    result.append(i*10)\n",
    "result"
   ]
  },
  {
   "cell_type": "code",
   "execution_count": 4,
   "id": "4180ac94",
   "metadata": {},
   "outputs": [],
   "source": [
    "def mul10(num):\n",
    "    result = []\n",
    "    for i in l :\n",
    "        result.append(i*1\n",
    "    return result"
   ]
  },
  {
   "cell_type": "code",
   "execution_count": 5,
   "id": "ce416ea6",
   "metadata": {},
   "outputs": [
    {
     "data": {
      "text/plain": [
       "[1, 2, 3, 4]"
      ]
     },
     "execution_count": 5,
     "metadata": {},
     "output_type": "execute_result"
    }
   ],
   "source": [
    "l "
   ]
  },
  {
   "cell_type": "code",
   "execution_count": 6,
   "id": "3f66a865",
   "metadata": {},
   "outputs": [
    {
     "data": {
      "text/plain": [
       "[10, 20, 30, 40]"
      ]
     },
     "execution_count": 6,
     "metadata": {},
     "output_type": "execute_result"
    }
   ],
   "source": [
    "result = mul10(l)\n",
    "result"
   ]
  },
  {
   "cell_type": "code",
   "execution_count": 7,
   "id": "eae64033",
   "metadata": {},
   "outputs": [
    {
     "data": {
      "text/plain": [
       "[10, 20, 30, 40]"
      ]
     },
     "execution_count": 7,
     "metadata": {},
     "output_type": "execute_result"
    }
   ],
   "source": [
    "l2 = list(range(0,51))\n",
    "result2 = mul10(l2)\n",
    "result2"
   ]
  },
  {
   "cell_type": "markdown",
   "id": "736020fe",
   "metadata": {},
   "source": [
    "# 함수 만드는법\n",
    "def 함수이름(변수명1,변수명2):\n",
    "____ 실행코드\n",
    "____ return 반환할값 (결과)"
   ]
  },
  {
   "cell_type": "code",
   "execution_count": 11,
   "id": "b2f1cdbe",
   "metadata": {},
   "outputs": [],
   "source": [
    "def hello():\n",
    "    print(\"Hello python 함수만들기\")"
   ]
  },
  {
   "cell_type": "code",
   "execution_count": 14,
   "id": "9fdebae1",
   "metadata": {},
   "outputs": [
    {
     "name": "stdout",
     "output_type": "stream",
     "text": [
      "hello2 파이썬 함수 만들기\n"
     ]
    }
   ],
   "source": [
    "hello2()"
   ]
  },
  {
   "cell_type": "markdown",
   "id": "c8f549fb",
   "metadata": {},
   "source": [
    "## 함수 호출 순서\n",
    "* 함수는 호출하기 전에 반드시 먼저 정의되어야 하고 (만들어놓아야함) \n",
    "* 함수 정의가 함수 실행보다 위에 있어야한다. "
   ]
  },
  {
   "cell_type": "code",
   "execution_count": 13,
   "id": "f04ea67b",
   "metadata": {},
   "outputs": [],
   "source": [
    "def hello2():\n",
    "    print(\"hello2 파이썬 함수 만들기\")"
   ]
  },
  {
   "cell_type": "markdown",
   "id": "1a2f1ec0",
   "metadata": {},
   "source": [
    "우리가 VS CODE에서 실행했다면 해당 코드는 늦게 작성되았으므로 작동되지 않을 것 <br>\n",
    "스크립트 언어이기 때문에 주피터 노트북과 같은 특수한 환경이 아니라면 작동되지 않는다.<br>\n",
    "그래서 함수를 만들면 최상위로 올릴 것 <br>"
   ]
  },
  {
   "cell_type": "markdown",
   "id": "865d729c",
   "metadata": {},
   "source": [
    "# 함수의 매개변수\n",
    "* 함수의 ()안에 받는 값을 저장하는 변수\n",
    "* 독립되어 있다. 안쪽에서 만든 변수와 동작은 바깥과 무관함\n",
    "* () 안에 값을 받아서 함수 내에서 처리할때 사용"
   ]
  },
  {
   "cell_type": "markdown",
   "id": "bd3feb8f",
   "metadata": {},
   "source": [
    "###  전역변수와 지역변수\n",
    "* 바깥에서 만드는 함수를 전역변수\n",
    "* 내에서만드는 함수를 지역변수"
   ]
  },
  {
   "cell_type": "code",
   "execution_count": 16,
   "id": "8e2d4dea",
   "metadata": {},
   "outputs": [],
   "source": [
    "# 원의 넓이를 구하는 함수 - 반지름 * 반지름 * 3.14\n",
    "def circle(c):\n",
    "    print(f\"반지름의 길이가 {c}인 원의 넓이는: {c*c*3.14}입니다.\")"
   ]
  },
  {
   "cell_type": "code",
   "execution_count": 17,
   "id": "7d260379",
   "metadata": {},
   "outputs": [
    {
     "name": "stdout",
     "output_type": "stream",
     "text": [
      "반지름의 길이가 10인 원의 넓이는: 314.0입니다.\n"
     ]
    }
   ],
   "source": [
    "circle(10)"
   ]
  },
  {
   "cell_type": "markdown",
   "id": "20ebbae5",
   "metadata": {},
   "source": [
    "* 매개변수 2개짜리 함수 - 덧샘 함수 만들기"
   ]
  },
  {
   "cell_type": "code",
   "execution_count": 18,
   "id": "c17b3ae4",
   "metadata": {},
   "outputs": [],
   "source": [
    "def add(a,b):\n",
    "    return a + b "
   ]
  },
  {
   "cell_type": "code",
   "execution_count": 19,
   "id": "fe0fd94f",
   "metadata": {},
   "outputs": [
    {
     "data": {
      "text/plain": [
       "13"
      ]
     },
     "execution_count": 19,
     "metadata": {},
     "output_type": "execute_result"
    }
   ],
   "source": [
    "add(10,3)"
   ]
  },
  {
   "cell_type": "markdown",
   "id": "e37ea1d9",
   "metadata": {},
   "source": [
    "* 매개변수 3개짜리 변수\n",
    "* num_maker라는 함수를 매개변수 3개를 이용해서 만드세요.\n",
    "* 숫자를 3개 입력받아 첫번쨰 숫자는 시작숫자, 두번쨰 숫자는 끝 숫자, 마지막 숫자는 step으로 실행하게 하세요.\n",
    "* num_maker(1,11,2)\n",
    "* 결과:1,2,3,4,9"
   ]
  },
  {
   "cell_type": "code",
   "execution_count": 20,
   "id": "b2f9db81",
   "metadata": {},
   "outputs": [],
   "source": [
    "def num_maker(a,b,c):\n",
    "    result = list(range(a,b,c))\n",
    "    return result"
   ]
  },
  {
   "cell_type": "code",
   "execution_count": 21,
   "id": "bde311d8",
   "metadata": {},
   "outputs": [
    {
     "data": {
      "text/plain": [
       "[1, 3, 5, 7, 9]"
      ]
     },
     "execution_count": 21,
     "metadata": {},
     "output_type": "execute_result"
    }
   ],
   "source": [
    "num_maker(1,11,2)"
   ]
  },
  {
   "cell_type": "markdown",
   "id": "4a34c76a",
   "metadata": {},
   "source": [
    "# 리턴 값이 여러개인 함수"
   ]
  },
  {
   "cell_type": "code",
   "execution_count": 33,
   "id": "715731b5",
   "metadata": {},
   "outputs": [],
   "source": [
    "def add_sub(a,b):\n",
    "    sub = a- b\n",
    "    return add, sub"
   ]
  },
  {
   "cell_type": "code",
   "execution_count": 34,
   "id": "7c0e413b",
   "metadata": {},
   "outputs": [
    {
     "name": "stdout",
     "output_type": "stream",
     "text": [
      "[10, 20, 30, 40] <class 'list'>\n",
      "10 20\n"
     ]
    }
   ],
   "source": [
    "add_result, sub_result = add_sub(3, 5)\n",
    "print(result, type(result))\n",
    "print(result[0], result[1])"
   ]
  },
  {
   "cell_type": "markdown",
   "id": "98d72e4b",
   "metadata": {},
   "source": [
    "### 튜플 자료형으로 묶인다 "
   ]
  },
  {
   "cell_type": "markdown",
   "id": "cffb38a3",
   "metadata": {},
   "source": [
    "* num_maker2- 정방향, 역방향 리스트가 출력되는 함수\n",
    "* 3개의 숫자를 입력받아서 숫자리스트를 만들고\n",
    "* 리스트 +3을 한 결과를 리스트로 반환\n",
    "* 한 번은 정방향으로 출력\n",
    "* 또 한번은 역방향으로 출력"
   ]
  },
  {
   "cell_type": "code",
   "execution_count": 31,
   "id": "6d6e5e35",
   "metadata": {},
   "outputs": [],
   "source": [
    "def num_maker2(start,end,step):\n",
    "    result = list(range(start+3,end+3,step))\n",
    "    reversed_list = result[::-1]\n",
    "    return result, reversed_list"
   ]
  },
  {
   "cell_type": "code",
   "execution_count": 32,
   "id": "d3b91764",
   "metadata": {},
   "outputs": [
    {
     "data": {
      "text/plain": [
       "([4, 5, 6, 7, 8, 9, 10, 11, 12], [12, 11, 10, 9, 8, 7, 6, 5, 4])"
      ]
     },
     "execution_count": 32,
     "metadata": {},
     "output_type": "execute_result"
    }
   ],
   "source": [
    "num_maker2(1,10,1)"
   ]
  },
  {
   "cell_type": "code",
   "execution_count": null,
   "id": "7e0b9ef6",
   "metadata": {},
   "outputs": [],
   "source": [
    "for i in "
   ]
  },
  {
   "cell_type": "markdown",
   "id": "816472b4",
   "metadata": {},
   "source": [
    "# 중간에 함수를 종료시키기 위한 용도의 return\n",
    "* 반복문에서 break 처럼 활용이 가능\n",
    "* 함수 내에서 return이 실행되면 함수는 종료 "
   ]
  },
  {
   "cell_type": "markdown",
   "id": "ef49a659",
   "metadata": {},
   "source": [
    "* 1-100까지 숫자중에서 짝수만 더해서 출력하세요\n",
    "* 단, 숫자가 50이상이 되면 멈추시오"
   ]
  },
  {
   "cell_type": "code",
   "execution_count": 52,
   "id": "7ec6e241",
   "metadata": {},
   "outputs": [],
   "source": [
    "def even(num):\n",
    "    num = 0\n",
    "    num2 = 0\n",
    "    while num > 50:\n",
    "        if num % 2 == 0 :\n",
    "            num += 1\n",
    "        else:\n",
    "            break\n",
    "        print(num2)"
   ]
  },
  {
   "cell_type": "code",
   "execution_count": 50,
   "id": "a03f64bc",
   "metadata": {},
   "outputs": [],
   "source": [
    "def even(num):\n",
    "    hap =0\n",
    "    for i in num:\n",
    "        if i < 50:\n",
    "            if i % 2 ==0:\n",
    "                hap += i\n",
    "        else :\n",
    "            break \n",
    "        print(hap)"
   ]
  },
  {
   "cell_type": "code",
   "execution_count": 53,
   "id": "32037ed3",
   "metadata": {},
   "outputs": [],
   "source": [
    "even(list(range(1,101)))"
   ]
  },
  {
   "cell_type": "code",
   "execution_count": 61,
   "id": "dd48434d",
   "metadata": {},
   "outputs": [],
   "source": [
    "def even2(num):\n",
    "    hap =0\n",
    "    for i in num:\n",
    "        if i < 50:\n",
    "            if i % 2 ==0:\n",
    "                hap += i\n",
    "                print(f\"{i}+{hap}=\", end=\"\")\n",
    "                hap += i\n",
    "                print(f\"{hap}\",end=\" \")\n",
    "        else :\n",
    "            return hap"
   ]
  },
  {
   "cell_type": "code",
   "execution_count": 63,
   "id": "6be6207e",
   "metadata": {},
   "outputs": [
    {
     "name": "stdout",
     "output_type": "stream",
     "text": [
      "2+2=4 4+8=12 6+18=24 8+32=40 10+50=60 12+72=84 14+98=112 16+128=144 18+162=180 20+200=220 22+242=264 24+288=312 26+338=364 28+392=420 30+450=480 32+512=544 34+578=612 36+648=684 38+722=760 40+800=840 42+882=924 44+968=1012 46+1058=1104 48+1152=1200 "
     ]
    },
    {
     "data": {
      "text/plain": [
       "1200"
      ]
     },
     "execution_count": 63,
     "metadata": {},
     "output_type": "execute_result"
    }
   ],
   "source": [
    "even2(list(range(1,101)))"
   ]
  },
  {
   "cell_type": "markdown",
   "id": "8cff43e9",
   "metadata": {},
   "source": [
    "* 점수를 입력받아서 91-100이면 A학점, 81-90 B학점, 71-80이면 C학점, 61-70이면 D학점 60이하는 f학점을 출력하는 student_grade 함수를 만드시오\n",
    "* 점수를 입력받는 input()\n",
    "*  student_grade함수에 입력받은 값을 넣어줌\n",
    "* student_grade 함수에서는 입력받은 값을 비교해서 학점 출력"
   ]
  },
  {
   "cell_type": "code",
   "execution_count": 70,
   "id": "62b6ccb1",
   "metadata": {},
   "outputs": [
    {
     "name": "stdout",
     "output_type": "stream",
     "text": [
      "점수를 입력하세요30\n",
      "F학점\n"
     ]
    }
   ],
   "source": [
    "student_grade = int(input(\"점수를 입력하세요\"))\n",
    "if 0 <= student_grade <= 100 :\n",
    "    if 100 >= student_grade >= 91:\n",
    "        print(\"A학점\")\n",
    "    elif 90 >= student_grade >= 81:\n",
    "        print(\"B학점\")\n",
    "    elif 80 >= student_grade >= 71:\n",
    "        print(\"C학점\")\n",
    "    elif 70 >= student_grade >= 61:\n",
    "        print(\"D학점\")\n",
    "    elif student_grade <= 60 :\n",
    "        print(\"F학점\")\n",
    "else :\n",
    "    \"점수는 1-100까지 입력해주세요\""
   ]
  },
  {
   "cell_type": "code",
   "execution_count": 72,
   "id": "cb92e8e3",
   "metadata": {},
   "outputs": [],
   "source": [
    "def student_greade(score):\n",
    "    if 0 <= score <= 100 :\n",
    "        if 100 >= score >= 91:\n",
    "            print(\"A학점\")\n",
    "        elif 90 >= score >= 81:\n",
    "            print(\"B학점\")\n",
    "        elif 80 >= score >= 71:\n",
    "            print(\"C학점\")\n",
    "        elif 70 >= score >= 61:\n",
    "            print(\"D학점\")\n",
    "        else :\n",
    "            print(\"F학점\")\n",
    "    else :\n",
    "        \"점수는 1-100까지 입력해주세요\"\n",
    "        return"
   ]
  },
  {
   "cell_type": "code",
   "execution_count": 76,
   "id": "572b8647",
   "metadata": {},
   "outputs": [],
   "source": [
    "def student_greade(score):\n",
    "    if 0 <= score <= 100 : \n",
    "        if 100 >= score >= 91:\n",
    "            return \"A학점\"\n",
    "        elif 90 >= score >= 81:\n",
    "            return \"B학점\"\n",
    "        elif 80 >= score >= 71:\n",
    "            return \"C학점\"\n",
    "        elif 70 >= score >= 61:\n",
    "            return \"D학점\"\n",
    "        else :\n",
    "            return \"F학점\"\n",
    "    else :\n",
    "        return \"점수는 1-100까지 입력해주세요\""
   ]
  },
  {
   "cell_type": "code",
   "execution_count": 78,
   "id": "75a02d23",
   "metadata": {},
   "outputs": [
    {
     "name": "stdout",
     "output_type": "stream",
     "text": [
      "점수를 입력해주세요90\n"
     ]
    },
    {
     "data": {
      "text/plain": [
       "'B학점'"
      ]
     },
     "execution_count": 78,
     "metadata": {},
     "output_type": "execute_result"
    }
   ],
   "source": [
    "mark = int(input(\"점수를 입력해주세요\"))\n",
    "result = student_greade(mark)\n",
    "result"
   ]
  },
  {
   "cell_type": "markdown",
   "id": "717be2fd",
   "metadata": {},
   "source": [
    "# 인수 : 함수에 집어넣는 자료 (매개변수에 넣는 자료)\n",
    "#### 위치 인수(positional argument): 위치가 고정된 인수\n",
    "* 위치가 고정된 인수 \n",
    "* 순서가 바뀌거나 개수가 달라지면 오류\n",
    "#### 가변 위치 인수(args, Variable-length Arguments)\n",
    "* 여러개의 자료를 넣을 수 있는 인수, 제한 없음\n",
    "#### 키워드 인수(keyword arguments)\n",
    "* 매개변수에 이름을 명시해서 인수를 넣어주는 것\n",
    "#### 가변 키워드 인수 (kwargs, variable-length keyword arguments)\n",
    "* 키워드 인수를 숫자 제한 없이 넣는 경우"
   ]
  },
  {
   "cell_type": "markdown",
   "id": "f7550beb",
   "metadata": {},
   "source": [
    "## 위치인수\n",
    "* 위치인수(positional argument)\n",
    "* 널는 순서와 갯수를 일치시켜야함"
   ]
  },
  {
   "cell_type": "code",
   "execution_count": 79,
   "id": "4702f61a",
   "metadata": {},
   "outputs": [],
   "source": [
    "def print_nums(a,b,c):\n",
    "    print(a,b,c)"
   ]
  },
  {
   "cell_type": "code",
   "execution_count": 80,
   "id": "87139776",
   "metadata": {},
   "outputs": [
    {
     "ename": "TypeError",
     "evalue": "print_nums() missing 1 required positional argument: 'c'",
     "output_type": "error",
     "traceback": [
      "\u001b[1;31m---------------------------------------------------------------------------\u001b[0m",
      "\u001b[1;31mTypeError\u001b[0m                                 Traceback (most recent call last)",
      "Cell \u001b[1;32mIn[80], line 1\u001b[0m\n\u001b[1;32m----> 1\u001b[0m \u001b[43mprint_nums\u001b[49m\u001b[43m(\u001b[49m\u001b[38;5;241;43m1\u001b[39;49m\u001b[43m,\u001b[49m\u001b[38;5;241;43m5\u001b[39;49m\u001b[43m)\u001b[49m\n",
      "\u001b[1;31mTypeError\u001b[0m: print_nums() missing 1 required positional argument: 'c'"
     ]
    }
   ],
   "source": [
    "print_nums(1,5)"
   ]
  },
  {
   "cell_type": "code",
   "execution_count": 81,
   "id": "78d6bc0c",
   "metadata": {},
   "outputs": [
    {
     "ename": "TypeError",
     "evalue": "print_nums() missing 2 required positional arguments: 'b' and 'c'",
     "output_type": "error",
     "traceback": [
      "\u001b[1;31m---------------------------------------------------------------------------\u001b[0m",
      "\u001b[1;31mTypeError\u001b[0m                                 Traceback (most recent call last)",
      "Cell \u001b[1;32mIn[81], line 2\u001b[0m\n\u001b[0;32m      1\u001b[0m l1 \u001b[38;5;241m=\u001b[39m [\u001b[38;5;241m1\u001b[39m,\u001b[38;5;241m2\u001b[39m,\u001b[38;5;241m3\u001b[39m]\n\u001b[1;32m----> 2\u001b[0m \u001b[43mprint_nums\u001b[49m\u001b[43m(\u001b[49m\u001b[43ml1\u001b[49m\u001b[43m)\u001b[49m\n",
      "\u001b[1;31mTypeError\u001b[0m: print_nums() missing 2 required positional arguments: 'b' and 'c'"
     ]
    }
   ],
   "source": [
    "l1 = [1,2,3]\n",
    "print_nums(l1)"
   ]
  },
  {
   "cell_type": "markdown",
   "id": "5ae4b6ef",
   "metadata": {},
   "source": [
    "튜플 리스트는 자료가 안에 많아도 하나의 리스트는  하나로 쓰기 때문에"
   ]
  },
  {
   "cell_type": "markdown",
   "id": "82561265",
   "metadata": {},
   "source": [
    "리스트 .튜플 언페깅으로 여러개의 자료 넣기"
   ]
  },
  {
   "cell_type": "code",
   "execution_count": 83,
   "id": "bad2d165",
   "metadata": {},
   "outputs": [
    {
     "name": "stdout",
     "output_type": "stream",
     "text": [
      "1 2 3\n"
     ]
    }
   ],
   "source": [
    "print_nums(*l1)"
   ]
  },
  {
   "cell_type": "markdown",
   "id": "43740bfe",
   "metadata": {},
   "source": [
    "## 가변인수\n",
    "* * 은 리스트를 풀어라\n",
    "* 가변위치인수\n",
    "* 자료를 개수의 제한넣이 넣을 수 있느 인수"
   ]
  },
  {
   "cell_type": "code",
   "execution_count": 91,
   "id": "914fb476",
   "metadata": {},
   "outputs": [],
   "source": [
    "def print_num(*nums):\n",
    "    print(nums,type(nums))\n",
    "    for i in nums:\n",
    "        print(i, end=\" \")"
   ]
  },
  {
   "cell_type": "code",
   "execution_count": 92,
   "id": "78d63a62",
   "metadata": {},
   "outputs": [
    {
     "name": "stdout",
     "output_type": "stream",
     "text": [
      "(1, 2, 3, 4, 5, 6, 7, 8, 9, 10) <class 'tuple'>\n",
      "1 2 3 4 5 6 7 8 9 10 "
     ]
    }
   ],
   "source": [
    "print_num(1,2,3,4,5,6,7,8,9,10)"
   ]
  },
  {
   "cell_type": "code",
   "execution_count": 93,
   "id": "48f33e6e",
   "metadata": {},
   "outputs": [
    {
     "name": "stdout",
     "output_type": "stream",
     "text": [
      "1 2 3 4 5\n"
     ]
    }
   ],
   "source": [
    "print(1, 2, 3, 4, 5)"
   ]
  },
  {
   "cell_type": "markdown",
   "id": "c05413f0",
   "metadata": {},
   "source": [
    "* my-sum\n",
    "* 여러개의 숫자를 입력받으면 합계를 구해주는 함수"
   ]
  },
  {
   "cell_type": "code",
   "execution_count": 100,
   "id": "48f9262d",
   "metadata": {},
   "outputs": [],
   "source": [
    "def my_sum(*args):\n",
    "    hap = 0\n",
    "    for i in args:\n",
    "        hap += i\n",
    "    return hap"
   ]
  },
  {
   "cell_type": "code",
   "execution_count": 101,
   "id": "0f23aaed",
   "metadata": {},
   "outputs": [
    {
     "name": "stdout",
     "output_type": "stream",
     "text": [
      "55\n"
     ]
    }
   ],
   "source": [
    "result = my_sum (1,2,3,4,5,6,7,8,9, 10)\n",
    "print(result)\n",
    "# 55"
   ]
  },
  {
   "cell_type": "code",
   "execution_count": 103,
   "id": "fd729561",
   "metadata": {},
   "outputs": [
    {
     "data": {
      "text/plain": [
       "500500"
      ]
     },
     "execution_count": 103,
     "metadata": {},
     "output_type": "execute_result"
    }
   ],
   "source": [
    "print(*list(range(1,1001)))"
   ]
  },
  {
   "cell_type": "code",
   "execution_count": null,
   "id": "7b7b1451",
   "metadata": {},
   "outputs": [],
   "source": [
    "print(*list(range(1,1001))"
   ]
  },
  {
   "cell_type": "markdown",
   "id": "e9cd9440",
   "metadata": {},
   "source": [
    "* 위치인수와 가변인수 동시에 받기\n",
    "* 위치인수와 가변인수를 동시에 받을 때는 반드시 위치인수가 먼저 와야한다.\n",
    "* def muls(a, *args) : O\n",
    "* def muls(*args, a) : X"
   ]
  },
  {
   "cell_type": "code",
   "execution_count": 104,
   "id": "f2bc0bc2",
   "metadata": {},
   "outputs": [],
   "source": [
    "# 정수와 리스트를 받아 리스트의 요소에 입력받은 정수를 곱하는 함수"
   ]
  },
  {
   "cell_type": "code",
   "execution_count": 122,
   "id": "a507365a",
   "metadata": {},
   "outputs": [],
   "source": [
    "def muls(a, *args):\n",
    "    print(a, args)\n",
    "    result = []\n",
    "    for num in args:\n",
    "        result.append(a*num)\n",
    "    return result"
   ]
  },
  {
   "cell_type": "code",
   "execution_count": 123,
   "id": "032c85fc",
   "metadata": {},
   "outputs": [],
   "source": [
    "l2 = [1,2,3,4,5] "
   ]
  },
  {
   "cell_type": "code",
   "execution_count": 124,
   "id": "c00ab1c6",
   "metadata": {},
   "outputs": [
    {
     "name": "stdout",
     "output_type": "stream",
     "text": [
      "2 (1, 2, 3, 4, 5)\n"
     ]
    },
    {
     "data": {
      "text/plain": [
       "[2, 4, 6, 8, 10]"
      ]
     },
     "execution_count": 124,
     "metadata": {},
     "output_type": "execute_result"
    }
   ],
   "source": [
    "muls(2,*l2)"
   ]
  },
  {
   "cell_type": "code",
   "execution_count": 125,
   "id": "32346dd4",
   "metadata": {},
   "outputs": [
    {
     "name": "stdout",
     "output_type": "stream",
     "text": [
      "2 ([1, 2, 3, 4, 5],)\n"
     ]
    },
    {
     "data": {
      "text/plain": [
       "[[1, 2, 3, 4, 5, 1, 2, 3, 4, 5]]"
      ]
     },
     "execution_count": 125,
     "metadata": {},
     "output_type": "execute_result"
    }
   ],
   "source": [
    "muls(2,l2)"
   ]
  },
  {
   "cell_type": "code",
   "execution_count": 126,
   "id": "0a2b6a06",
   "metadata": {},
   "outputs": [
    {
     "name": "stdout",
     "output_type": "stream",
     "text": [
      "1 (2, 3, 4, 5, 3)\n"
     ]
    },
    {
     "data": {
      "text/plain": [
       "[2, 3, 4, 5, 3]"
      ]
     },
     "execution_count": 126,
     "metadata": {},
     "output_type": "execute_result"
    }
   ],
   "source": [
    "muls(*l2, 3)"
   ]
  },
  {
   "cell_type": "markdown",
   "id": "18603240",
   "metadata": {},
   "source": [
    "* 인수 위치를 바꾸면?"
   ]
  },
  {
   "cell_type": "code",
   "execution_count": 119,
   "id": "164f5f03",
   "metadata": {},
   "outputs": [],
   "source": [
    "def muls(*args, a):\n",
    "    print(a, args)\n",
    "    result = []\n",
    "    for num in args:\n",
    "        result.append(a*num)\n",
    "    return result"
   ]
  },
  {
   "cell_type": "code",
   "execution_count": 121,
   "id": "5b497483",
   "metadata": {},
   "outputs": [
    {
     "ename": "TypeError",
     "evalue": "muls() missing 1 required keyword-only argument: 'a'",
     "output_type": "error",
     "traceback": [
      "\u001b[1;31m---------------------------------------------------------------------------\u001b[0m",
      "\u001b[1;31mTypeError\u001b[0m                                 Traceback (most recent call last)",
      "Cell \u001b[1;32mIn[121], line 1\u001b[0m\n\u001b[1;32m----> 1\u001b[0m \u001b[43mmuls\u001b[49m\u001b[43m(\u001b[49m\u001b[38;5;241;43m*\u001b[39;49m\u001b[43ml2\u001b[49m\u001b[43m,\u001b[49m\u001b[43m \u001b[49m\u001b[38;5;241;43m3\u001b[39;49m\u001b[43m)\u001b[49m\n",
      "\u001b[1;31mTypeError\u001b[0m: muls() missing 1 required keyword-only argument: 'a'"
     ]
    }
   ],
   "source": [
    "muls(*l2, 3)"
   ]
  },
  {
   "cell_type": "markdown",
   "id": "12ecdba5",
   "metadata": {},
   "source": [
    "* *가 붙으면 가변인수로 되버리기 때문에 a으로 변경없이 전부 *인수에 속해버린다."
   ]
  },
  {
   "cell_type": "markdown",
   "id": "75073885",
   "metadata": {},
   "source": [
    "## 키워드 인수 \n",
    "* 매개변수 이름을 직접 입력하고 자료를 할당하는 것"
   ]
  },
  {
   "cell_type": "code",
   "execution_count": 127,
   "id": "d2c748b6",
   "metadata": {},
   "outputs": [
    {
     "name": "stdout",
     "output_type": "stream",
     "text": [
      "1 vs 2 vs 3!!"
     ]
    }
   ],
   "source": [
    "print(1,2,3, sep=\" vs \", end=\"!!\")"
   ]
  },
  {
   "cell_type": "markdown",
   "id": "f7f20889",
   "metadata": {},
   "source": [
    "* 개인 정보를 출력하는 함수"
   ]
  },
  {
   "cell_type": "code",
   "execution_count": 134,
   "id": "1e624f67",
   "metadata": {},
   "outputs": [],
   "source": [
    "def personal_info(name, age, address):\n",
    "    print(\"이름: \", name)\n",
    "    print(\"나이: \", age)\n",
    "    print(\"주소: \", address)"
   ]
  },
  {
   "cell_type": "code",
   "execution_count": 135,
   "id": "0551576a",
   "metadata": {},
   "outputs": [
    {
     "name": "stdout",
     "output_type": "stream",
     "text": [
      "이름:  30\n",
      "나이:  서울시\n",
      "주소:  홍길동\n"
     ]
    }
   ],
   "source": [
    "personal_info(30,\"서울시\", \"홍길동\")"
   ]
  },
  {
   "cell_type": "code",
   "execution_count": 136,
   "id": "f7224ea5",
   "metadata": {
    "scrolled": true
   },
   "outputs": [
    {
     "name": "stdout",
     "output_type": "stream",
     "text": [
      "이름:  홍길동\n",
      "나이:  30\n",
      "주소:  서울시\n"
     ]
    }
   ],
   "source": [
    "personal_info(age=30,address=\"서울시\", name=\"홍길동\")"
   ]
  },
  {
   "cell_type": "markdown",
   "id": "06b72c5f",
   "metadata": {},
   "source": [
    "* 키워드 인수는 기본값 설정이 가능하다\n",
    "* 기본값이 있는 인수는 가장 늦게 설정해야함"
   ]
  },
  {
   "cell_type": "code",
   "execution_count": 138,
   "id": "528dc45e",
   "metadata": {},
   "outputs": [],
   "source": [
    "def personal_info(name, age, address=\"안알려 줌\"):\n",
    "    print(\"이름: \", name)\n",
    "    print(\"나이: \", age)\n",
    "    print(\"주소: \", address)"
   ]
  },
  {
   "cell_type": "code",
   "execution_count": 137,
   "id": "9f244604",
   "metadata": {},
   "outputs": [
    {
     "ename": "TypeError",
     "evalue": "personal_info() missing 1 required positional argument: 'address'",
     "output_type": "error",
     "traceback": [
      "\u001b[1;31m---------------------------------------------------------------------------\u001b[0m",
      "\u001b[1;31mTypeError\u001b[0m                                 Traceback (most recent call last)",
      "Cell \u001b[1;32mIn[137], line 1\u001b[0m\n\u001b[1;32m----> 1\u001b[0m \u001b[43mpersonal_info\u001b[49m\u001b[43m(\u001b[49m\u001b[43mage\u001b[49m\u001b[38;5;241;43m=\u001b[39;49m\u001b[38;5;241;43m30\u001b[39;49m\u001b[43m,\u001b[49m\u001b[43m \u001b[49m\u001b[43mname\u001b[49m\u001b[38;5;241;43m=\u001b[39;49m\u001b[38;5;124;43m\"\u001b[39;49m\u001b[38;5;124;43m홍길동\u001b[39;49m\u001b[38;5;124;43m\"\u001b[39;49m\u001b[43m)\u001b[49m\n",
      "\u001b[1;31mTypeError\u001b[0m: personal_info() missing 1 required positional argument: 'address'"
     ]
    }
   ],
   "source": [
    "personal_info(age=30, name=\"홍길동\")"
   ]
  },
  {
   "cell_type": "code",
   "execution_count": 139,
   "id": "94a9315a",
   "metadata": {},
   "outputs": [
    {
     "name": "stdout",
     "output_type": "stream",
     "text": [
      "이름:  홍길동\n",
      "나이:  30\n",
      "주소:  서울시\n"
     ]
    }
   ],
   "source": [
    "personal_info(age=30,address=\"서울시\", name=\"홍길동\")"
   ]
  },
  {
   "cell_type": "code",
   "execution_count": 140,
   "id": "b3c2f980",
   "metadata": {},
   "outputs": [
    {
     "name": "stdout",
     "output_type": "stream",
     "text": [
      "이름:  홍길동\n",
      "나이:  30\n",
      "주소:  안알려 줌\n"
     ]
    }
   ],
   "source": [
    "personal_info(age=30, name=\"홍길동\")"
   ]
  },
  {
   "cell_type": "markdown",
   "id": "85158bc7",
   "metadata": {},
   "source": [
    "* 딕셔너리 언패킹\n",
    "* 식셔너리 앞에 **을 붙여서 딕셔너리 언패킹 가능\n",
    "* **{'address': '서울시 강남구', \"name\":\"홍길동\",\"age\":30})"
   ]
  },
  {
   "cell_type": "code",
   "execution_count": 142,
   "id": "1d07e09c",
   "metadata": {},
   "outputs": [
    {
     "name": "stdout",
     "output_type": "stream",
     "text": [
      "이름:  홍길동\n",
      "나이:  30\n",
      "주소:  서울시 강남구\n"
     ]
    }
   ],
   "source": [
    "personal_info(**{'address': '서울시 강남구', \"name\":\"홍길동\",\"age\":30})"
   ]
  },
  {
   "cell_type": "markdown",
   "id": "f903fa6e",
   "metadata": {},
   "source": [
    "## 키워드 가변인수\n",
    "* def 함수명(**kwargs):<br>\n",
    "  ____"
   ]
  },
  {
   "cell_type": "code",
   "execution_count": 150,
   "id": "b8e3b4c0",
   "metadata": {},
   "outputs": [],
   "source": [
    "def personal_info2(**kwargs):\n",
    "    print(kwargs)\n",
    "    key = list(kwargs.keys())\n",
    "    value = list(kwargs.values())\n",
    "    print(key)\n",
    "    print(value)"
   ]
  },
  {
   "cell_type": "code",
   "execution_count": 151,
   "id": "aa046299",
   "metadata": {},
   "outputs": [
    {
     "name": "stdout",
     "output_type": "stream",
     "text": [
      "{'address': '서울시', 'name': '홍길동'}\n",
      "['address', 'name']\n",
      "['서울시', '홍길동']\n"
     ]
    }
   ],
   "source": [
    "personal_info2(address='서울시',name=\"홍길동\")"
   ]
  },
  {
   "cell_type": "markdown",
   "id": "71b80faa",
   "metadata": {},
   "source": [
    "### 위치인수와 키워드 가변인수 같이 사용하기\n",
    "* 위치인수, 가변인수 순으로 옴"
   ]
  },
  {
   "cell_type": "code",
   "execution_count": 152,
   "id": "13b70be6",
   "metadata": {},
   "outputs": [],
   "source": [
    "def personal_info3(num, **kwargs):\n",
    "    print(kwargs)\n",
    "    key = list(kwargs.keys())\n",
    "    value = list(kwargs.values())\n",
    "    print(num)\n",
    "    print(key)\n",
    "    print(value)"
   ]
  },
  {
   "cell_type": "code",
   "execution_count": 153,
   "id": "ffc606f1",
   "metadata": {},
   "outputs": [
    {
     "name": "stdout",
     "output_type": "stream",
     "text": [
      "{'address': '서울시', 'name': '홍길동'}\n",
      "1\n",
      "['address', 'name']\n",
      "['서울시', '홍길동']\n"
     ]
    }
   ],
   "source": [
    "personal_info3(1, address='서울시',name=\"홍길동\")"
   ]
  },
  {
   "cell_type": "code",
   "execution_count": 154,
   "id": "8976da42",
   "metadata": {},
   "outputs": [
    {
     "ename": "SyntaxError",
     "evalue": "invalid syntax (2837520718.py, line 1)",
     "output_type": "error",
     "traceback": [
      "\u001b[1;36m  Cell \u001b[1;32mIn[154], line 1\u001b[1;36m\u001b[0m\n\u001b[1;33m    def personal_info3(**kwargs, num):\u001b[0m\n\u001b[1;37m                                 ^\u001b[0m\n\u001b[1;31mSyntaxError\u001b[0m\u001b[1;31m:\u001b[0m invalid syntax\n"
     ]
    }
   ],
   "source": [
    "def personal_info3(**kwargs, num):\n",
    "    print(kwargs)\n",
    "    key = list(kwargs.keys())\n",
    "    value = list(kwargs.values())\n",
    "    print(num)\n",
    "    print(key)\n",
    "    print(value)"
   ]
  },
  {
   "cell_type": "markdown",
   "id": "bc194400",
   "metadata": {},
   "source": [
    "* 가변인수와 키워드 가변인수 함께 쓰기\n",
    "* 가변인수 => 키워드 가변인수 순으로 쓴다.\n",
    "* def 함수명( *args, **kwargs)"
   ]
  },
  {
   "cell_type": "code",
   "execution_count": 165,
   "id": "1e263e65",
   "metadata": {},
   "outputs": [],
   "source": [
    "def custom_print(*args,**kwargs):\n",
    "  #     print(args,kwargs)\n",
    "#    *args = 1,2,3\n",
    "#    *kwargs = sep=\"//\", end=\"!!\"\n",
    "  print(*args,**kwargs)"
   ]
  },
  {
   "cell_type": "code",
   "execution_count": 164,
   "id": "27dfcf81",
   "metadata": {},
   "outputs": [
    {
     "name": "stdout",
     "output_type": "stream",
     "text": [
      "(1, 2, 3, 4) {'sep': '//', 'end': '!!'}\n"
     ]
    }
   ],
   "source": [
    "custom_print(1,2,3,4, sep=\"//\", end=\"!!\")"
   ]
  },
  {
   "cell_type": "code",
   "execution_count": 160,
   "id": "b861a0dd",
   "metadata": {},
   "outputs": [
    {
     "name": "stdout",
     "output_type": "stream",
     "text": [
      "1//2//3//4!!"
     ]
    }
   ],
   "source": [
    "custom_print(1,2,3,4, sep=\"//\", end=\"!!\")"
   ]
  },
  {
   "cell_type": "code",
   "execution_count": 166,
   "id": "8b5dc64b",
   "metadata": {},
   "outputs": [
    {
     "ename": "SyntaxError",
     "evalue": "invalid syntax (2015949475.py, line 1)",
     "output_type": "error",
     "traceback": [
      "\u001b[1;36m  Cell \u001b[1;32mIn[166], line 1\u001b[1;36m\u001b[0m\n\u001b[1;33m    def custom_print(**args,*kwargs):\u001b[0m\n\u001b[1;37m                            ^\u001b[0m\n\u001b[1;31mSyntaxError\u001b[0m\u001b[1;31m:\u001b[0m invalid syntax\n"
     ]
    }
   ],
   "source": [
    "def custom_print(**args,*kwargs):\n",
    "#    print(args,kwargs)\n",
    "#    *args = 1,2,3\n",
    "#    *kwargs = sep=\"//\", end=\"!!\"\n",
    "    print(**args,*kwargs)"
   ]
  },
  {
   "cell_type": "markdown",
   "id": "c8cd7a44",
   "metadata": {},
   "source": [
    "#### 매개변수 = 함수가 자료를 반을 떄 사용하는 변수\n",
    "* 위치인수(a) : 위치가 고정된 매개변수, 위치인수는 키워드 인수로 사용가능(변수명=값)\n",
    "\n",
    "* 가변인수(*args): 여라개의 자료를 동시에 받을 수 있음. => tuple로 변환되어 들어옴\n",
    "* 키워드 가변인수(**kwargs): 여러개의 자료를 동시에 받을 수 있는데 key=value 형태로 받는 인수 => dict 형태로 들어옴"
   ]
  },
  {
   "cell_type": "markdown",
   "id": "7e0915b2",
   "metadata": {},
   "source": [
    "* 매개변수에 초기값 지정하기\n",
    "* 초기값이 지정된 매개변수는 반드시 마지막에 위치해야함.\n",
    "\n",
    "* 위치인수 , 키워드인수 , 가변인수, 키워드 가변인수를 동시에 다 사용할 경우 \n",
    "* 위치인수 => 키워드인수(기본값),가변인수, 키워드가변인수 순서로 사용한다. "
   ]
  },
  {
   "cell_type": "code",
   "execution_count": 170,
   "id": "80e9763c",
   "metadata": {},
   "outputs": [],
   "source": [
    "def personal_info6(idx, address=\"비공개\", *args,**kwargs):\n",
    "    print(f\"idx: {idx}\")\n",
    "    print(f\"address: {address}\")\n",
    "    print(f\"*args: {args}\")\n",
    "    print(f\"kwargs: {kwargs}\")"
   ]
  },
  {
   "cell_type": "code",
   "execution_count": 173,
   "id": "20aeaee8",
   "metadata": {},
   "outputs": [
    {
     "name": "stdout",
     "output_type": "stream",
     "text": [
      "idx: 1\n",
      "address: 서울\n",
      "*args: (30, 40, 50)\n",
      "kwargs: {'이름': '홍길동', '성별': '남자'}\n"
     ]
    }
   ],
   "source": [
    "personal_info6(1, \"서울\", 30,40,50, 이름=\"홍길동\", 성별=\"남자\")"
   ]
  },
  {
   "cell_type": "markdown",
   "id": "7bc2c8d8",
   "metadata": {},
   "source": [
    "print("
   ]
  },
  {
   "cell_type": "markdown",
   "id": "ae15d2c6",
   "metadata": {},
   "source": [
    "* 함수 doc스트링 사용하기\n",
    "* 함수의 기능을 설명하거나 사용법을 함수 내에 적어놓는 것\n",
    "* def 함수이름(매개변수): <br>\n",
    "\"\"\" 독스트링으로 설명 \"\"\"\n",
    "* docstring 은 함수 실행시에는 출력되지 않음\n",
    "* print(함수이름.__doc__)\n",
    "* help(함수이름)"
   ]
  },
  {
   "cell_type": "code",
   "execution_count": 174,
   "id": "ced78628",
   "metadata": {},
   "outputs": [
    {
     "name": "stdout",
     "output_type": "stream",
     "text": [
      "Help on built-in function print in module builtins:\n",
      "\n",
      "print(...)\n",
      "    print(value, ..., sep=' ', end='\\n', file=sys.stdout, flush=False)\n",
      "    \n",
      "    Prints the values to a stream, or to sys.stdout by default.\n",
      "    Optional keyword arguments:\n",
      "    file:  a file-like object (stream); defaults to the current sys.stdout.\n",
      "    sep:   string inserted between values, default a space.\n",
      "    end:   string appended after the last value, default a newline.\n",
      "    flush: whether to forcibly flush the stream.\n",
      "\n"
     ]
    }
   ],
   "source": [
    "help(print)"
   ]
  },
  {
   "cell_type": "code",
   "execution_count": 181,
   "id": "7d0dfff7",
   "metadata": {},
   "outputs": [
    {
     "name": "stdout",
     "output_type": "stream",
     "text": [
      "print(value, ..., sep=' ', end='\\n', file=sys.stdout, flush=False)\n",
      "\n",
      "Prints the values to a stream, or to sys.stdout by default.\n",
      "Optional keyword arguments:\n",
      "file:  a file-like object (stream); defaults to the current sys.stdout.\n",
      "sep:   string inserted between values, default a space.\n",
      "end:   string appended after the last value, default a newline.\n",
      "flush: whether to forcibly flush the stream.\n"
     ]
    }
   ],
   "source": [
    "print(print.__doc__)"
   ]
  },
  {
   "cell_type": "code",
   "execution_count": 176,
   "id": "f6625e4d",
   "metadata": {},
   "outputs": [
    {
     "name": "stdout",
     "output_type": "stream",
     "text": [
      "Help on function open in module io:\n",
      "\n",
      "open(file, mode='r', buffering=-1, encoding=None, errors=None, newline=None, closefd=True, opener=None)\n",
      "    Open file and return a stream.  Raise OSError upon failure.\n",
      "    \n",
      "    file is either a text or byte string giving the name (and the path\n",
      "    if the file isn't in the current working directory) of the file to\n",
      "    be opened or an integer file descriptor of the file to be\n",
      "    wrapped. (If a file descriptor is given, it is closed when the\n",
      "    returned I/O object is closed, unless closefd is set to False.)\n",
      "    \n",
      "    mode is an optional string that specifies the mode in which the file\n",
      "    is opened. It defaults to 'r' which means open for reading in text\n",
      "    mode.  Other common values are 'w' for writing (truncating the file if\n",
      "    it already exists), 'x' for creating and writing to a new file, and\n",
      "    'a' for appending (which on some Unix systems, means that all writes\n",
      "    append to the end of the file regardless of the current seek position).\n",
      "    In text mode, if encoding is not specified the encoding used is platform\n",
      "    dependent: locale.getpreferredencoding(False) is called to get the\n",
      "    current locale encoding. (For reading and writing raw bytes use binary\n",
      "    mode and leave encoding unspecified.) The available modes are:\n",
      "    \n",
      "    ========= ===============================================================\n",
      "    Character Meaning\n",
      "    --------- ---------------------------------------------------------------\n",
      "    'r'       open for reading (default)\n",
      "    'w'       open for writing, truncating the file first\n",
      "    'x'       create a new file and open it for writing\n",
      "    'a'       open for writing, appending to the end of the file if it exists\n",
      "    'b'       binary mode\n",
      "    't'       text mode (default)\n",
      "    '+'       open a disk file for updating (reading and writing)\n",
      "    'U'       universal newline mode (deprecated)\n",
      "    ========= ===============================================================\n",
      "    \n",
      "    The default mode is 'rt' (open for reading text). For binary random\n",
      "    access, the mode 'w+b' opens and truncates the file to 0 bytes, while\n",
      "    'r+b' opens the file without truncation. The 'x' mode implies 'w' and\n",
      "    raises an `FileExistsError` if the file already exists.\n",
      "    \n",
      "    Python distinguishes between files opened in binary and text modes,\n",
      "    even when the underlying operating system doesn't. Files opened in\n",
      "    binary mode (appending 'b' to the mode argument) return contents as\n",
      "    bytes objects without any decoding. In text mode (the default, or when\n",
      "    't' is appended to the mode argument), the contents of the file are\n",
      "    returned as strings, the bytes having been first decoded using a\n",
      "    platform-dependent encoding or using the specified encoding if given.\n",
      "    \n",
      "    'U' mode is deprecated and will raise an exception in future versions\n",
      "    of Python.  It has no effect in Python 3.  Use newline to control\n",
      "    universal newlines mode.\n",
      "    \n",
      "    buffering is an optional integer used to set the buffering policy.\n",
      "    Pass 0 to switch buffering off (only allowed in binary mode), 1 to select\n",
      "    line buffering (only usable in text mode), and an integer > 1 to indicate\n",
      "    the size of a fixed-size chunk buffer.  When no buffering argument is\n",
      "    given, the default buffering policy works as follows:\n",
      "    \n",
      "    * Binary files are buffered in fixed-size chunks; the size of the buffer\n",
      "      is chosen using a heuristic trying to determine the underlying device's\n",
      "      \"block size\" and falling back on `io.DEFAULT_BUFFER_SIZE`.\n",
      "      On many systems, the buffer will typically be 4096 or 8192 bytes long.\n",
      "    \n",
      "    * \"Interactive\" text files (files for which isatty() returns True)\n",
      "      use line buffering.  Other text files use the policy described above\n",
      "      for binary files.\n",
      "    \n",
      "    encoding is the name of the encoding used to decode or encode the\n",
      "    file. This should only be used in text mode. The default encoding is\n",
      "    platform dependent, but any encoding supported by Python can be\n",
      "    passed.  See the codecs module for the list of supported encodings.\n",
      "    \n",
      "    errors is an optional string that specifies how encoding errors are to\n",
      "    be handled---this argument should not be used in binary mode. Pass\n",
      "    'strict' to raise a ValueError exception if there is an encoding error\n",
      "    (the default of None has the same effect), or pass 'ignore' to ignore\n",
      "    errors. (Note that ignoring encoding errors can lead to data loss.)\n",
      "    See the documentation for codecs.register or run 'help(codecs.Codec)'\n",
      "    for a list of the permitted encoding error strings.\n",
      "    \n",
      "    newline controls how universal newlines works (it only applies to text\n",
      "    mode). It can be None, '', '\\n', '\\r', and '\\r\\n'.  It works as\n",
      "    follows:\n",
      "    \n",
      "    * On input, if newline is None, universal newlines mode is\n",
      "      enabled. Lines in the input can end in '\\n', '\\r', or '\\r\\n', and\n",
      "      these are translated into '\\n' before being returned to the\n",
      "      caller. If it is '', universal newline mode is enabled, but line\n",
      "      endings are returned to the caller untranslated. If it has any of\n",
      "      the other legal values, input lines are only terminated by the given\n",
      "      string, and the line ending is returned to the caller untranslated.\n",
      "    \n",
      "    * On output, if newline is None, any '\\n' characters written are\n",
      "      translated to the system default line separator, os.linesep. If\n",
      "      newline is '' or '\\n', no translation takes place. If newline is any\n",
      "      of the other legal values, any '\\n' characters written are translated\n",
      "      to the given string.\n",
      "    \n",
      "    If closefd is False, the underlying file descriptor will be kept open\n",
      "    when the file is closed. This does not work when a file name is given\n",
      "    and must be True in that case.\n",
      "    \n",
      "    A custom opener can be used by passing a callable as *opener*. The\n",
      "    underlying file descriptor for the file object is then obtained by\n",
      "    calling *opener* with (*file*, *flags*). *opener* must return an open\n",
      "    file descriptor (passing os.open as *opener* results in functionality\n",
      "    similar to passing None).\n",
      "    \n",
      "    open() returns a file object whose type depends on the mode, and\n",
      "    through which the standard file operations such as reading and writing\n",
      "    are performed. When open() is used to open a file in a text mode ('w',\n",
      "    'r', 'wt', 'rt', etc.), it returns a TextIOWrapper. When used to open\n",
      "    a file in a binary mode, the returned class varies: in read binary\n",
      "    mode, it returns a BufferedReader; in write binary and append binary\n",
      "    modes, it returns a BufferedWriter, and in read/write mode, it returns\n",
      "    a BufferedRandom.\n",
      "    \n",
      "    It is also possible to use a string or bytearray as a file for both\n",
      "    reading and writing. For strings StringIO can be used like a file\n",
      "    opened in a text mode, and for bytes a BytesIO can be used like a file\n",
      "    opened in a binary mode.\n",
      "\n"
     ]
    }
   ],
   "source": [
    "help(open)"
   ]
  },
  {
   "cell_type": "code",
   "execution_count": 177,
   "id": "9d640196",
   "metadata": {},
   "outputs": [
    {
     "name": "stdout",
     "output_type": "stream",
     "text": [
      "Help on function personal_info6 in module __main__:\n",
      "\n",
      "personal_info6(idx, address='비공개', *args, **kwargs)\n",
      "\n"
     ]
    }
   ],
   "source": [
    "help(personal_info6)"
   ]
  },
  {
   "cell_type": "code",
   "execution_count": 178,
   "id": "82454cad",
   "metadata": {},
   "outputs": [],
   "source": [
    "def add(a,b):\n",
    "    \"\"\"\n",
    "    이 함수는 a와 b를 더한 뒤 결과를 반환하는 함수입니다. \n",
    "    \"\"\"\n",
    "    return a+b"
   ]
  },
  {
   "cell_type": "code",
   "execution_count": 182,
   "id": "d61de6e6",
   "metadata": {},
   "outputs": [
    {
     "name": "stdout",
     "output_type": "stream",
     "text": [
      "Help on function add in module __main__:\n",
      "\n",
      "add(a, b)\n",
      "    이 함수는 a와 b를 더한 뒤 결과를 반환하는 함수입니다.\n",
      "\n"
     ]
    }
   ],
   "source": [
    "help(add)"
   ]
  },
  {
   "cell_type": "markdown",
   "id": "79ab6d70",
   "metadata": {},
   "source": [
    "# 람다 표현식(lamda expression)\n",
    "* 익명함수(함수 이름이 없음)\n",
    "* 간단한 함수를 작성하거나 다른 함수의 인수로 함수를 넣을 대 사용\n",
    "* 사용 후 메모리에서 삭제 \n",
    "* lambda 매개변수: return할 값,계산식\n",
    "* (lambda x: x+10)(5)\n",
    "* plus_five = lambda x:x + 10\n",
    "* plus_five(5)"
   ]
  },
  {
   "cell_type": "code",
   "execution_count": 184,
   "id": "de64c8ef",
   "metadata": {},
   "outputs": [
    {
     "name": "stdout",
     "output_type": "stream",
     "text": [
      "{'__name__': '__main__', '__doc__': 'Automatically created module for IPython interactive environment', '__package__': None, '__loader__': None, '__spec__': None, '__builtin__': <module 'builtins' (built-in)>, '__builtins__': <module 'builtins' (built-in)>, '_ih': ['', '# 리스트의 자료에 10을 곱해서 다시 리스트로 출력하세요.4\\n# result = [10,20,30,40]\\nㅣ = [1,2,3,4 ]', '# 리스트의 자료에 10을 곱해서 다시 리스트로 출력하세요.4\\n# result = [10,20,30,40]\\nㅣ = [1,2,3,4 ]\\nresult =[]\\nfor i in l :\\n    result.append(i*10)\\nresult', '# 리스트의 자료에 10을 곱해서 다시 리스트로 출력하세요.4\\n# result = [10,20,30,40]\\nl = [1,2,3,4 ]\\nresult =[]\\nfor i in l :\\n    result.append(i*10)\\nresult', 'def mul10(num):\\n    result = []\\n    for i in l :\\n        result.append(i*10)\\n    return result', 'l ', 'result = mul10(l)\\nresult', 'l2 = list(range(0,51))\\nresult2 = mul10(l2)\\nresult2', 'def Hello():\\n    print(\"Hello python 함수만들기\")', 'hello', 'hello()', 'def hello():\\n    print(\"Hello python 함수만들기\")', 'hello()', 'def hello2():\\n    print(\"hello2 파이썬 함수 만들기\")', 'hello2()', '# 원의 넓이를 구하는 함수 - 반지름 * 반지름 * 3.14\\ndef circle(c):\\n    print(f\"dnjsdml sjfqdlsms: {c*c*3.14}입니다.\")', '# 원의 넓이를 구하는 함수 - 반지름 * 반지름 * 3.14\\ndef circle(c):\\n    print(f\"반지름의 길이가 {c}인 원의 넓이는: {c*c*3.14}입니다.\")', 'circle(10)', 'def add(a,b):\\n    return a + b ', 'add(10,3)', 'def num_maker(a,b,c):\\n    result = list(range(a,b,c))\\n    return result', 'num_maker(1,11,2)', 'def add_sub(a,b):\\n    sub = a- b\\n    return add, sub', 'def add_sub(a,b):\\n    sub = a- b\\n    return add, sub', 'add_result, sub_result = add_sub(3, 5)\\nprint(result, type(result))\\nprint(result[0], result[1])', 'def num_maker2(start,end,step):\\n    result = list(range(start+3,end+3,step))\\n    print(result, result.reverse())', 'num_maker2(1,10,1)', 'def num_maker2(start,end,step):\\n    result = list(range(start+3,end+3,step))\\n    return result, result.reverse()', 'num_maker2(1,10,1)', 'def num_maker2(start,end,step):\\n    result = list(range(start+3,end+3,step))\\n    return result, result[::1-]', 'def num_maker2(start,end,step):\\n    result = list(range(start+3,end+3,step))\\n    return result, result[::-1]', 'def num_maker2(start,end,step):\\n    result = list(range(start+3,end+3,step))\\n    reversed_list = result[::-1]\\n    return result, reversed_list', 'num_maker2(1,10,1)', 'def add_sub(a,b):\\n    sub = a- b\\n    return add, sub', 'add_result, sub_result = add_sub(3, 5)\\nprint(result, type(result))\\nprint(result[0], result[1])', 'even(list(range(1,101)))', \"def even(num):\\n    num = 0\\n    num2 =[]\\n    while num > 50:\\n        if num@2 === 0 :\\n            num += 1\\n            num2.append('+',num)\\n    print(num2)\", \"def even(num):\\n    num = 0\\n    num2 =[]\\n    while num > 50:\\n        if num@2 == 0 :\\n            num += 1\\n            num2.append('+',num)\\n    print(num2)\", 'even(list(range(1,101)))', \"def even(num):\\n    num = 0\\n    num2 =[]\\n    while num > 50:\\n        if num@2 == 0 :\\n            num += 1\\n            num2.append('+',num)\\n        print(num2)\", 'even(list(range(1,101)))', 'even(list(range(1,101)))', \"def even(num):\\n    num = 0\\n    num2 =[]\\n    while num > 50:\\n        if num@2 == 0 :\\n            num += 1\\n            num2.append('+',num)\\n            print(num2)\", 'even(list(range(1,101)))', \"def even(num):\\n    num = 0\\n    num2 =[]\\n    while num > 50:\\n        if num%2 == 0 :\\n            num += 1\\n            num2.append('+',num)\\n            print(num2)\", 'even(list(range(1,101)))', 'def even(num):\\n    hap =0\\n    for i in num:\\n        if i < 50:\\n            if i % 2 ==0:\\n                hap += i\\n        else :\\n            break \\n        print(hap)', 'even(list(range(1,101)))', 'def even(num):\\n    num = 0\\n    num2 = 0\\n    while num > 50:\\n        if num % 2 == 0 :\\n            num += 1\\n        else:\\n            break\\n            print(num2)', 'even(list(range(1,101)))', 'def even(num):\\n    hap =0\\n    for i in num:\\n        if i < 50:\\n            if i % 2 ==0:\\n                hap += i\\n        else :\\n            break \\n        print(hap)', 'even(list(range(1,101)))', 'def even(num):\\n    num = 0\\n    num2 = 0\\n    while num > 50:\\n        if num % 2 == 0 :\\n            num += 1\\n        else:\\n            break\\n        print(num2)', 'even(list(range(1,101)))', 'def even2(num):\\n    hap =0\\n    for i in num:\\n        if i < 50:\\n            if i % 2 ==0:\\n                hap += i\\n        else :\\n            return hap', 'even2(list(range(1,101)))', 'def even2(num):\\n    hap =0\\n    for i in num:\\n        if i < 50:\\n            if i % 2 ==0:\\n                hap += i\\n                print(f\"{i}+hap, end=\" \")\\n                hap += i\\n                print(f\"{hap}\",end=\" \")\\n        else :\\n            return hap', 'def even2(num):\\n    hap =0\\n    for i in num:\\n        if i < 50:\\n            if i % 2 ==0:\\n                hap += i\\n                print(f\"{i}+hap\", end=\" \")\\n                hap += i\\n                print(f\"{hap}\",end=\" \")\\n        else :\\n            return hap', 'even2(list(range(1,101)))', 'def even2(num):\\n    hap =0\\n    for i in num:\\n        if i < 50:\\n            if i % 2 ==0:\\n                hap += i\\n                print(f\"{i}+{hap}\", end=\" \")\\n                hap += i\\n                print(f\"{hap}\",end=\" \")\\n        else :\\n            return hap', 'even2(list(range(1,101)))', 'def even2(num):\\n    hap =0\\n    for i in num:\\n        if i < 50:\\n            if i % 2 ==0:\\n                hap += i\\n                print(f\"{i}+{hap}=\", end=\"\")\\n                hap += i\\n                print(f\"{hap}\",end=\" \")\\n        else :\\n            return hap', 'even2(list(range(1,101)))', 'even2(list(range(1,101)))', 'student_grade = int(input(\"점수를 입력하세요\"))\\nif 0 <= student_greade <= 100 :\\n    if 100 >= student_greade >= 91:\\n        print(\"A학점\")\\n    elif 90 >= student_greade >= 81:\\n        print(\"B학점\")\\n    elif 80 >= student_greade >= 71:\\n        print(\"C학점\")\\n    elif 70 >= student_greade >= 61:\\n        print(\"D학점\")\\n    elif 60 >= student_greade\\n        print(\"F학점\")\\nelse :\\n    \"점수는 1-100까지 입력해주세요\"', 'student_grade = int(input(\"점수를 입력하세요\"))\\nif 0 <= student_greade <= 100 :\\n    if 100 >= student_greade >= 91:\\n        print(\"A학점\")\\n    elif 90 >= student_greade >= 81:\\n        print(\"B학점\")\\n    elif 80 >= student_greade >= 71:\\n        print(\"C학점\")\\n    elif 70 >= student_greade >= 61:\\n        print(\"D학점\")\\n    elif student_greade <= 60\\n        print(\"F학점\")\\nelse :\\n    \"점수는 1-100까지 입력해주세요\"', 'student_grade = int(input(\"점수를 입력하세요\"))\\nif 0 <= student_greade <= 100 :\\n    if 100 >= student_greade >= 91:\\n        print(\"A학점\")\\n    elif 90 >= student_greade >= 81:\\n        print(\"B학점\")\\n    elif 80 >= student_greade >= 71:\\n        print(\"C학점\")\\n    elif 70 >= student_greade >= 61:\\n        print(\"D학점\")\\n    elif student_greade =< 60\\n        print(\"F학점\")\\nelse :\\n    \"점수는 1-100까지 입력해주세요\"', 'student_grade = int(input(\"점수를 입력하세요\"))\\nif 0 <= student_greade <= 100 :\\n    if 100 >= student_greade >= 91:\\n        print(\"A학점\")\\n    elif 90 >= student_greade >= 81:\\n        print(\"B학점\")\\n    elif 80 >= student_greade >= 71:\\n        print(\"C학점\")\\n    elif 70 >= student_greade >= 61:\\n        print(\"D학점\")\\n    elif student_greade =< 60 :\\n        print(\"F학점\")\\nelse :\\n    \"점수는 1-100까지 입력해주세요\"', 'student_grade = int(input(\"점수를 입력하세요\"))\\nif 0 <= student_greade <= 100 :\\n    if 100 >= student_greade >= 91:\\n        print(\"A학점\")\\n    elif 90 >= student_greade >= 81:\\n        print(\"B학점\")\\n    elif 80 >= student_greade >= 71:\\n        print(\"C학점\")\\n    elif 70 >= student_greade >= 61:\\n        print(\"D학점\")\\n    elif student_greade <= 60 :\\n        print(\"F학점\")\\nelse :\\n    \"점수는 1-100까지 입력해주세요\"', 'student_greade = int(input(\"점수를 입력하세요\"))\\nif 0 <= student_greade <= 100 :\\n    if 100 >= student_greade >= 91:\\n        print(\"A학점\")\\n    elif 90 >= student_greade >= 81:\\n        print(\"B학점\")\\n    elif 80 >= student_greade >= 71:\\n        print(\"C학점\")\\n    elif 70 >= student_greade >= 61:\\n        print(\"D학점\")\\n    elif student_greade <= 60 :\\n        print(\"F학점\")\\nelse :\\n    \"점수는 1-100까지 입력해주세요\"', 'student_grade = int(input(\"점수를 입력하세요\"))\\nif 0 <= student_grade <= 100 :\\n    if 100 >= student_grade >= 91:\\n        print(\"A학점\")\\n    elif 90 >= student_grade >= 81:\\n        print(\"B학점\")\\n    elif 80 >= student_grade >= 71:\\n        print(\"C학점\")\\n    elif 70 >= student_grade >= 61:\\n        print(\"D학점\")\\n    elif student_grade <= 60 :\\n        print(\"F학점\")\\nelse :\\n    \"점수는 1-100까지 입력해주세요\"', 'student_greade(int(input(\"점수를 입력해주세요\")))', 'def student_greade(score):\\n    if 0 <= score <= 100 :\\n        if 100 >= score >= 91:\\n            print(\"A학점\")\\n        elif 90 >= score >= 81:\\n            print(\"B학점\")\\n        elif 80 >= score >= 71:\\n            print(\"C학점\")\\n        elif 70 >= score >= 61:\\n            print(\"D학점\")\\n        else :\\n            print(\"F학점\")\\n    else :\\n        \"점수는 1-100까지 입력해주세요\"\\n        return', 'student_greade(int(input(\"점수를 입력해주세요\")))', 'def student_greade(score):\\n    if 0 <= score <= 100 : \\n       if 100 >= score >= 91:\\n            returreturn \"\\n    elif 90 >= score >= 81:\\n            return \"B학점\"\\n        elif 80 >= score >= 71:\\n            return \"C학점\"\\n        elif 70 >= score >= 61:\\n            return \"D학점\"\\n        else :\\n            return \"F학점\"\\n    else :\\n        return \"점수는 1-100까지 입력해주세요\"', 'def student_greade(score):\\n    if 0 <= score <= 100 : \\n        if 100 >= score >= 91:\\n            return \"A학점\"\\n        elif 90 >= score >= 81:\\n            return \"B학점\"\\n        elif 80 >= score >= 71:\\n            return \"C학점\"\\n        elif 70 >= score >= 61:\\n            return \"D학점\"\\n        else :\\n            return \"F학점\"\\n    else :\\n        return \"점수는 1-100까지 입력해주세요\"', 'student_greade(int(input(\"점수를 입력해주세요\")))', 'mark = int(input(\"점수를 입력해주세요\"))\\nresult = student_greade(mark)\\nresult', 'def print_nums(a,b,c):\\n    print(a,b,c)', 'print_nums(1,5)', 'l1 = [1,2,3]\\nprint_nums(l1)', '리스트 .튜플 언페깅으로 여러개의 자료 넣기', 'print_nums(*l1)', 'def print_num(*nums):\\n    for i in hums:\\n        print(i, end=\" \")', 'print(print_num)(1)', 'print(print_num)(1,2,3,4,5,6,7,8,9,19)', 'print_num(1,2,3,4,5,6,7,8,9,19)', 'def print_num(*nums):\\n    print(num,type(nums))\\n    for i in hums:\\n        print(i, end=\" \")', 'print_num(1,2,3,4,5,6,7,8,9,19)', 'print_num(1,2,3,4,5,6,7,8,9,10)', 'def print_num(*nums):\\n    print(nums,type(nums))\\n    for i in nums:\\n        print(i, end=\" \")', 'print_num(1,2,3,4,5,6,7,8,9,10)', 'print(1, 2, 3, 4, 5)', 'def my_sum(*num):\\n    hap = 0\\n    for i in num:\\n        hap += num\\n        return hap', 'result = my_sum (1,2,3,,4,5,6,,7,8,9, 10)\\nprint(result)\\n# 55', 'result = my_sum (1,2,3,4,5,6,,7,8,9, 10)\\nprint(result)\\n# 55', 'result = my_sum (1,2,3,4,5,6,7,8,9, 10)\\nprint(result)\\n# 55', 'def my_sum(*num):\\n    hap = 0\\n    for i in num:\\n        hap += i\\n        return hap', 'result = my_sum (1,2,3,4,5,6,7,8,9, 10)\\nprint(result)\\n# 55', 'def my_sum(*num):\\n    hap = 0\\n    for i in num:\\n        hap += i\\n    return hap', 'result = my_sum (1,2,3,4,5,6,7,8,9, 10)\\nprint(result)\\n# 55', 'my_sum(*list(range(1,1000)))', 'my_sum(*list(range(1,1001)))', '# 정수와 리스트를 받아 리스트의 요소에 입력받은 정수를 곱하는 함수', 'def muls(a, *args):\\n    result = []\\n    for num in args:\\n        result.append(a*num)\\n    return result', 'l2 = [1,2,,3,4,5] ', 'l2 = [1,2,3,4,5] ', 'muls(2,*l2)', 'def muls(a, *args):\\n    result = []\\n    for num in args:\\n        result.append(a*num)\\n    return result', 'l2 = [1,2,3,4,5] ', 'muls(2,*l2)', 'def muls(a, *args):\\n    print(a, args)\\n    result = []\\n    for num in args:\\n        result.append(a*num)\\n    return result', 'l2 = [1,2,3,4,5] ', 'muls(2,*l2)', 'muls(2,l2)', 'muls(l2, 2)', 'muls(*l2, 2)', 'muls(*l2, 3)', 'def muls(*args, a):\\n    print(a, args)\\n    result = []\\n    for num in args:\\n        result.append(a*num)\\n    return result', 'muls(*l2, 3)', 'muls(*l2, 3)', 'def muls(a, *args):\\n    print(a, args)\\n    result = []\\n    for num in args:\\n        result.append(a*num)\\n    return result', 'l2 = [1,2,3,4,5] ', 'muls(2,*l2)', 'muls(2,l2)', 'muls(*l2, 3)', 'print(1,2,3, sep=\" vs \", end=\"!!\")', 'def presonal_info(name, age, address):\\n    print(\"이름: \", name)\\n    print(\"나이: \", age)\\n    print(\"주소: \", address)', 'persnal_info(30,\"서울시\", \"홍길동\")', 'def presonal_info(name, age, address):\\n    print(\"이름: \", name)\\n    print(\"나이: \", age)\\n    print(\"주소: \", address)', 'persnal_info(30,\"서울시\", \"홍길동\")', 'persㅐnal_info(30,\"서울시\", \"홍길동\")', 'personal_info(30,\"서울시\", \"홍길동\")', 'def personal_info(name, age, address):\\n    print(\"이름: \", name)\\n    print(\"나이: \", age)\\n    print(\"주소: \", address)', 'personal_info(30,\"서울시\", \"홍길동\")', 'personal_info(age=30,address=\"서울시\", name=\"홍길동\")', 'personal_info(age=30, name=\"홍길동\")', 'def personal_info(name, age, address=\"안알려 줌\"):\\n    print(\"이름: \", name)\\n    print(\"나이: \", age)\\n    print(\"주소: \", address)', 'personal_info(age=30,address=\"서울시\", name=\"홍길동\")', 'personal_info(age=30, name=\"홍길동\")', 'personal_info(**{\\'address\\': \\'서울시 강남구\\', \"name\":\"홍길동\",\"age\":30}))', 'personal_info(**{\\'address\\': \\'서울시 강남구\\', \"name\":\"홍길동\",\"age\":30})', 'def personal_info2(**kwargs):\\n    print(kwargs)', 'personal_info2(address=서울시,name=\"홍길동\")', 'personal_info2(address=\\'서울시\\',name=\"홍길동\")', 'def personal_info2(**kwargs):\\n    print(kwargs)\\n    key = list(kwagrgs.keys())\\n    value = list(kwagrgs.values())\\n    print(key)\\n    print(value)', 'personal_info2(address=\\'서울시\\',name=\"홍길동\")', 'def personal_info2(**kwargs):\\n    print(kwargs)\\n    key = list(kwargs.keys())\\n    value = list(kwagrgs.values())\\n    print(key)\\n    print(value)', 'personal_info2(address=\\'서울시\\',name=\"홍길동\")', 'def personal_info2(**kwargs):\\n    print(kwargs)\\n    key = list(kwargs.keys())\\n    value = list(kwargs.values())\\n    print(key)\\n    print(value)', 'personal_info2(address=\\'서울시\\',name=\"홍길동\")', 'def personal_info3(num, **kwargs):\\n    print(kwargs)\\n    key = list(kwargs.keys())\\n    value = list(kwargs.values())\\n    print(num)\\n    print(key)\\n    print(value)', 'personal_info3(1, address=\\'서울시\\',name=\"홍길동\")', 'def personal_info3(**kwargs, num):\\n    print(kwargs)\\n    key = list(kwargs.keys())\\n    value = list(kwargs.values())\\n    print(num)\\n    print(key)\\n    print(value)', 'def custom_print(*args,**kwargs):\\n    print(args,kwargs)', 'custom_print(1,2,3,4, sep=\"//\", end=\"!!\")', 'def custom_print(*args,**kwargs):\\n#    print(args,kwargs)\\n    print(*args,**kwargs)', 'custom_print(1,2,3,4, sep=\"//\", end=\"!!\")', 'custom_print(1,2,3,4, sep=\"//\", end=\"!!\")', 'custom_print(1,2,3,4, sep=\"//\", end=\"!!\")', 'def custom_print(*args,**kwargs):\\n       print(args,kwargs)\\n#    *args = 1,2,3\\n#    *kwargs = sep=\"//\", end=\"!!\"\\n    print(*args,**kwargs)', 'def custom_print(*args,**kwargs):\\n       print(args,kwargs)\\n#    *args = 1,2,3\\n#    *kwargs = sep=\"//\", end=\"!!\"\\n#   print(*args,**kwargs)', 'custom_print(1,2,3,4, sep=\"//\", end=\"!!\")', 'def custom_print(*args,**kwargs):\\n  #     print(args,kwargs)\\n#    *args = 1,2,3\\n#    *kwargs = sep=\"//\", end=\"!!\"\\n  print(*args,**kwargs)', 'def custom_print(**args,*kwargs):\\n#    print(args,kwargs)\\n#    *args = 1,2,3\\n#    *kwargs = sep=\"//\", end=\"!!\"\\n    print(**args,*kwargs)', 'def personal_info6(idx, address=\"비공개\", *args,**kwargs):\\n    print(f\"idx: {idx}\")\\n    print(f\"address: {address}\")\\n    print(f\"*args: {args}\")\\n    print(f\"kwargs: {kwargs}\")', 'personal_info6(1, address=\"서울\", 30,40,50, 이름=\"홍길동\", 성별=\"남자\")', 'personal_info6(1, address=\"서울\", 30,40,50, 이름=\"홍길동\", 성별=\"남자\")', 'def personal_info6(idx, address=\"비공개\", *args,**kwargs):\\n    print(f\"idx: {idx}\")\\n    print(f\"address: {address}\")\\n    print(f\"*args: {args}\")\\n    print(f\"kwargs: {kwargs}\")', 'personal_info6(1, \"서울\", 30,40,50, 이름=\"홍길동\", 성별=\"남자\")', 'personal_info6(1, \" \", 30,40,50, 이름=\"홍길동\", 성별=\"남자\")', 'personal_info6(1, \"서울\", 30,40,50, 이름=\"홍길동\", 성별=\"남자\")', 'help(print)', 'print(print__doc__)', 'help(open)', 'help(personal_info6)', 'def add(a,b):\\n    \"\"\"\\n    이 함수는 a와 b를 더한 뒤 결과를 반환하는 함수입니다. \\n    \"\"\"\\n    return a+b', 'help(add)', 'print(prin.t__doc__)', 'print(print.__doc__)', 'help(add)', 'print(globals)', 'print(globals())'], '_oh': {3: [10, 20, 30, 40], 5: [1, 2, 3, 4], 6: [10, 20, 30, 40], 7: [10, 20, 30, 40], 19: 13, 21: [1, 3, 5, 7, 9], 28: ([12, 11, 10, 9, 8, 7, 6, 5, 4], None), 32: ([4, 5, 6, 7, 8, 9, 10, 11, 12], [12, 11, 10, 9, 8, 7, 6, 5, 4]), 55: 600, 58: 1200, 60: 1200, 62: 1200, 63: 1200, 77: '점수는 1-100까지 입력해주세요', 78: 'B학점', 102: 499500, 103: 500500, 108: [2, 4, 6, 8, 10], 111: [2, 4, 6, 8, 10], 114: [2, 4, 6, 8, 10], 115: [[1, 2, 3, 4, 5, 1, 2, 3, 4, 5]], 116: [[1, 2, 3, 4, 5, 1, 2, 3, 4, 5]], 117: [2, 3, 4, 5, 2], 118: [2, 3, 4, 5, 3], 124: [2, 4, 6, 8, 10], 125: [[1, 2, 3, 4, 5, 1, 2, 3, 4, 5]], 126: [2, 3, 4, 5, 3]}, '_dh': [WindowsPath('C:/fintech/03PYTHON')], 'In': ['', '# 리스트의 자료에 10을 곱해서 다시 리스트로 출력하세요.4\\n# result = [10,20,30,40]\\nㅣ = [1,2,3,4 ]', '# 리스트의 자료에 10을 곱해서 다시 리스트로 출력하세요.4\\n# result = [10,20,30,40]\\nㅣ = [1,2,3,4 ]\\nresult =[]\\nfor i in l :\\n    result.append(i*10)\\nresult', '# 리스트의 자료에 10을 곱해서 다시 리스트로 출력하세요.4\\n# result = [10,20,30,40]\\nl = [1,2,3,4 ]\\nresult =[]\\nfor i in l :\\n    result.append(i*10)\\nresult', 'def mul10(num):\\n    result = []\\n    for i in l :\\n        result.append(i*10)\\n    return result', 'l ', 'result = mul10(l)\\nresult', 'l2 = list(range(0,51))\\nresult2 = mul10(l2)\\nresult2', 'def Hello():\\n    print(\"Hello python 함수만들기\")', 'hello', 'hello()', 'def hello():\\n    print(\"Hello python 함수만들기\")', 'hello()', 'def hello2():\\n    print(\"hello2 파이썬 함수 만들기\")', 'hello2()', '# 원의 넓이를 구하는 함수 - 반지름 * 반지름 * 3.14\\ndef circle(c):\\n    print(f\"dnjsdml sjfqdlsms: {c*c*3.14}입니다.\")', '# 원의 넓이를 구하는 함수 - 반지름 * 반지름 * 3.14\\ndef circle(c):\\n    print(f\"반지름의 길이가 {c}인 원의 넓이는: {c*c*3.14}입니다.\")', 'circle(10)', 'def add(a,b):\\n    return a + b ', 'add(10,3)', 'def num_maker(a,b,c):\\n    result = list(range(a,b,c))\\n    return result', 'num_maker(1,11,2)', 'def add_sub(a,b):\\n    sub = a- b\\n    return add, sub', 'def add_sub(a,b):\\n    sub = a- b\\n    return add, sub', 'add_result, sub_result = add_sub(3, 5)\\nprint(result, type(result))\\nprint(result[0], result[1])', 'def num_maker2(start,end,step):\\n    result = list(range(start+3,end+3,step))\\n    print(result, result.reverse())', 'num_maker2(1,10,1)', 'def num_maker2(start,end,step):\\n    result = list(range(start+3,end+3,step))\\n    return result, result.reverse()', 'num_maker2(1,10,1)', 'def num_maker2(start,end,step):\\n    result = list(range(start+3,end+3,step))\\n    return result, result[::1-]', 'def num_maker2(start,end,step):\\n    result = list(range(start+3,end+3,step))\\n    return result, result[::-1]', 'def num_maker2(start,end,step):\\n    result = list(range(start+3,end+3,step))\\n    reversed_list = result[::-1]\\n    return result, reversed_list', 'num_maker2(1,10,1)', 'def add_sub(a,b):\\n    sub = a- b\\n    return add, sub', 'add_result, sub_result = add_sub(3, 5)\\nprint(result, type(result))\\nprint(result[0], result[1])', 'even(list(range(1,101)))', \"def even(num):\\n    num = 0\\n    num2 =[]\\n    while num > 50:\\n        if num@2 === 0 :\\n            num += 1\\n            num2.append('+',num)\\n    print(num2)\", \"def even(num):\\n    num = 0\\n    num2 =[]\\n    while num > 50:\\n        if num@2 == 0 :\\n            num += 1\\n            num2.append('+',num)\\n    print(num2)\", 'even(list(range(1,101)))', \"def even(num):\\n    num = 0\\n    num2 =[]\\n    while num > 50:\\n        if num@2 == 0 :\\n            num += 1\\n            num2.append('+',num)\\n        print(num2)\", 'even(list(range(1,101)))', 'even(list(range(1,101)))', \"def even(num):\\n    num = 0\\n    num2 =[]\\n    while num > 50:\\n        if num@2 == 0 :\\n            num += 1\\n            num2.append('+',num)\\n            print(num2)\", 'even(list(range(1,101)))', \"def even(num):\\n    num = 0\\n    num2 =[]\\n    while num > 50:\\n        if num%2 == 0 :\\n            num += 1\\n            num2.append('+',num)\\n            print(num2)\", 'even(list(range(1,101)))', 'def even(num):\\n    hap =0\\n    for i in num:\\n        if i < 50:\\n            if i % 2 ==0:\\n                hap += i\\n        else :\\n            break \\n        print(hap)', 'even(list(range(1,101)))', 'def even(num):\\n    num = 0\\n    num2 = 0\\n    while num > 50:\\n        if num % 2 == 0 :\\n            num += 1\\n        else:\\n            break\\n            print(num2)', 'even(list(range(1,101)))', 'def even(num):\\n    hap =0\\n    for i in num:\\n        if i < 50:\\n            if i % 2 ==0:\\n                hap += i\\n        else :\\n            break \\n        print(hap)', 'even(list(range(1,101)))', 'def even(num):\\n    num = 0\\n    num2 = 0\\n    while num > 50:\\n        if num % 2 == 0 :\\n            num += 1\\n        else:\\n            break\\n        print(num2)', 'even(list(range(1,101)))', 'def even2(num):\\n    hap =0\\n    for i in num:\\n        if i < 50:\\n            if i % 2 ==0:\\n                hap += i\\n        else :\\n            return hap', 'even2(list(range(1,101)))', 'def even2(num):\\n    hap =0\\n    for i in num:\\n        if i < 50:\\n            if i % 2 ==0:\\n                hap += i\\n                print(f\"{i}+hap, end=\" \")\\n                hap += i\\n                print(f\"{hap}\",end=\" \")\\n        else :\\n            return hap', 'def even2(num):\\n    hap =0\\n    for i in num:\\n        if i < 50:\\n            if i % 2 ==0:\\n                hap += i\\n                print(f\"{i}+hap\", end=\" \")\\n                hap += i\\n                print(f\"{hap}\",end=\" \")\\n        else :\\n            return hap', 'even2(list(range(1,101)))', 'def even2(num):\\n    hap =0\\n    for i in num:\\n        if i < 50:\\n            if i % 2 ==0:\\n                hap += i\\n                print(f\"{i}+{hap}\", end=\" \")\\n                hap += i\\n                print(f\"{hap}\",end=\" \")\\n        else :\\n            return hap', 'even2(list(range(1,101)))', 'def even2(num):\\n    hap =0\\n    for i in num:\\n        if i < 50:\\n            if i % 2 ==0:\\n                hap += i\\n                print(f\"{i}+{hap}=\", end=\"\")\\n                hap += i\\n                print(f\"{hap}\",end=\" \")\\n        else :\\n            return hap', 'even2(list(range(1,101)))', 'even2(list(range(1,101)))', 'student_grade = int(input(\"점수를 입력하세요\"))\\nif 0 <= student_greade <= 100 :\\n    if 100 >= student_greade >= 91:\\n        print(\"A학점\")\\n    elif 90 >= student_greade >= 81:\\n        print(\"B학점\")\\n    elif 80 >= student_greade >= 71:\\n        print(\"C학점\")\\n    elif 70 >= student_greade >= 61:\\n        print(\"D학점\")\\n    elif 60 >= student_greade\\n        print(\"F학점\")\\nelse :\\n    \"점수는 1-100까지 입력해주세요\"', 'student_grade = int(input(\"점수를 입력하세요\"))\\nif 0 <= student_greade <= 100 :\\n    if 100 >= student_greade >= 91:\\n        print(\"A학점\")\\n    elif 90 >= student_greade >= 81:\\n        print(\"B학점\")\\n    elif 80 >= student_greade >= 71:\\n        print(\"C학점\")\\n    elif 70 >= student_greade >= 61:\\n        print(\"D학점\")\\n    elif student_greade <= 60\\n        print(\"F학점\")\\nelse :\\n    \"점수는 1-100까지 입력해주세요\"', 'student_grade = int(input(\"점수를 입력하세요\"))\\nif 0 <= student_greade <= 100 :\\n    if 100 >= student_greade >= 91:\\n        print(\"A학점\")\\n    elif 90 >= student_greade >= 81:\\n        print(\"B학점\")\\n    elif 80 >= student_greade >= 71:\\n        print(\"C학점\")\\n    elif 70 >= student_greade >= 61:\\n        print(\"D학점\")\\n    elif student_greade =< 60\\n        print(\"F학점\")\\nelse :\\n    \"점수는 1-100까지 입력해주세요\"', 'student_grade = int(input(\"점수를 입력하세요\"))\\nif 0 <= student_greade <= 100 :\\n    if 100 >= student_greade >= 91:\\n        print(\"A학점\")\\n    elif 90 >= student_greade >= 81:\\n        print(\"B학점\")\\n    elif 80 >= student_greade >= 71:\\n        print(\"C학점\")\\n    elif 70 >= student_greade >= 61:\\n        print(\"D학점\")\\n    elif student_greade =< 60 :\\n        print(\"F학점\")\\nelse :\\n    \"점수는 1-100까지 입력해주세요\"', 'student_grade = int(input(\"점수를 입력하세요\"))\\nif 0 <= student_greade <= 100 :\\n    if 100 >= student_greade >= 91:\\n        print(\"A학점\")\\n    elif 90 >= student_greade >= 81:\\n        print(\"B학점\")\\n    elif 80 >= student_greade >= 71:\\n        print(\"C학점\")\\n    elif 70 >= student_greade >= 61:\\n        print(\"D학점\")\\n    elif student_greade <= 60 :\\n        print(\"F학점\")\\nelse :\\n    \"점수는 1-100까지 입력해주세요\"', 'student_greade = int(input(\"점수를 입력하세요\"))\\nif 0 <= student_greade <= 100 :\\n    if 100 >= student_greade >= 91:\\n        print(\"A학점\")\\n    elif 90 >= student_greade >= 81:\\n        print(\"B학점\")\\n    elif 80 >= student_greade >= 71:\\n        print(\"C학점\")\\n    elif 70 >= student_greade >= 61:\\n        print(\"D학점\")\\n    elif student_greade <= 60 :\\n        print(\"F학점\")\\nelse :\\n    \"점수는 1-100까지 입력해주세요\"', 'student_grade = int(input(\"점수를 입력하세요\"))\\nif 0 <= student_grade <= 100 :\\n    if 100 >= student_grade >= 91:\\n        print(\"A학점\")\\n    elif 90 >= student_grade >= 81:\\n        print(\"B학점\")\\n    elif 80 >= student_grade >= 71:\\n        print(\"C학점\")\\n    elif 70 >= student_grade >= 61:\\n        print(\"D학점\")\\n    elif student_grade <= 60 :\\n        print(\"F학점\")\\nelse :\\n    \"점수는 1-100까지 입력해주세요\"', 'student_greade(int(input(\"점수를 입력해주세요\")))', 'def student_greade(score):\\n    if 0 <= score <= 100 :\\n        if 100 >= score >= 91:\\n            print(\"A학점\")\\n        elif 90 >= score >= 81:\\n            print(\"B학점\")\\n        elif 80 >= score >= 71:\\n            print(\"C학점\")\\n        elif 70 >= score >= 61:\\n            print(\"D학점\")\\n        else :\\n            print(\"F학점\")\\n    else :\\n        \"점수는 1-100까지 입력해주세요\"\\n        return', 'student_greade(int(input(\"점수를 입력해주세요\")))', 'def student_greade(score):\\n    if 0 <= score <= 100 : \\n       if 100 >= score >= 91:\\n            returreturn \"\\n    elif 90 >= score >= 81:\\n            return \"B학점\"\\n        elif 80 >= score >= 71:\\n            return \"C학점\"\\n        elif 70 >= score >= 61:\\n            return \"D학점\"\\n        else :\\n            return \"F학점\"\\n    else :\\n        return \"점수는 1-100까지 입력해주세요\"', 'def student_greade(score):\\n    if 0 <= score <= 100 : \\n        if 100 >= score >= 91:\\n            return \"A학점\"\\n        elif 90 >= score >= 81:\\n            return \"B학점\"\\n        elif 80 >= score >= 71:\\n            return \"C학점\"\\n        elif 70 >= score >= 61:\\n            return \"D학점\"\\n        else :\\n            return \"F학점\"\\n    else :\\n        return \"점수는 1-100까지 입력해주세요\"', 'student_greade(int(input(\"점수를 입력해주세요\")))', 'mark = int(input(\"점수를 입력해주세요\"))\\nresult = student_greade(mark)\\nresult', 'def print_nums(a,b,c):\\n    print(a,b,c)', 'print_nums(1,5)', 'l1 = [1,2,3]\\nprint_nums(l1)', '리스트 .튜플 언페깅으로 여러개의 자료 넣기', 'print_nums(*l1)', 'def print_num(*nums):\\n    for i in hums:\\n        print(i, end=\" \")', 'print(print_num)(1)', 'print(print_num)(1,2,3,4,5,6,7,8,9,19)', 'print_num(1,2,3,4,5,6,7,8,9,19)', 'def print_num(*nums):\\n    print(num,type(nums))\\n    for i in hums:\\n        print(i, end=\" \")', 'print_num(1,2,3,4,5,6,7,8,9,19)', 'print_num(1,2,3,4,5,6,7,8,9,10)', 'def print_num(*nums):\\n    print(nums,type(nums))\\n    for i in nums:\\n        print(i, end=\" \")', 'print_num(1,2,3,4,5,6,7,8,9,10)', 'print(1, 2, 3, 4, 5)', 'def my_sum(*num):\\n    hap = 0\\n    for i in num:\\n        hap += num\\n        return hap', 'result = my_sum (1,2,3,,4,5,6,,7,8,9, 10)\\nprint(result)\\n# 55', 'result = my_sum (1,2,3,4,5,6,,7,8,9, 10)\\nprint(result)\\n# 55', 'result = my_sum (1,2,3,4,5,6,7,8,9, 10)\\nprint(result)\\n# 55', 'def my_sum(*num):\\n    hap = 0\\n    for i in num:\\n        hap += i\\n        return hap', 'result = my_sum (1,2,3,4,5,6,7,8,9, 10)\\nprint(result)\\n# 55', 'def my_sum(*num):\\n    hap = 0\\n    for i in num:\\n        hap += i\\n    return hap', 'result = my_sum (1,2,3,4,5,6,7,8,9, 10)\\nprint(result)\\n# 55', 'my_sum(*list(range(1,1000)))', 'my_sum(*list(range(1,1001)))', '# 정수와 리스트를 받아 리스트의 요소에 입력받은 정수를 곱하는 함수', 'def muls(a, *args):\\n    result = []\\n    for num in args:\\n        result.append(a*num)\\n    return result', 'l2 = [1,2,,3,4,5] ', 'l2 = [1,2,3,4,5] ', 'muls(2,*l2)', 'def muls(a, *args):\\n    result = []\\n    for num in args:\\n        result.append(a*num)\\n    return result', 'l2 = [1,2,3,4,5] ', 'muls(2,*l2)', 'def muls(a, *args):\\n    print(a, args)\\n    result = []\\n    for num in args:\\n        result.append(a*num)\\n    return result', 'l2 = [1,2,3,4,5] ', 'muls(2,*l2)', 'muls(2,l2)', 'muls(l2, 2)', 'muls(*l2, 2)', 'muls(*l2, 3)', 'def muls(*args, a):\\n    print(a, args)\\n    result = []\\n    for num in args:\\n        result.append(a*num)\\n    return result', 'muls(*l2, 3)', 'muls(*l2, 3)', 'def muls(a, *args):\\n    print(a, args)\\n    result = []\\n    for num in args:\\n        result.append(a*num)\\n    return result', 'l2 = [1,2,3,4,5] ', 'muls(2,*l2)', 'muls(2,l2)', 'muls(*l2, 3)', 'print(1,2,3, sep=\" vs \", end=\"!!\")', 'def presonal_info(name, age, address):\\n    print(\"이름: \", name)\\n    print(\"나이: \", age)\\n    print(\"주소: \", address)', 'persnal_info(30,\"서울시\", \"홍길동\")', 'def presonal_info(name, age, address):\\n    print(\"이름: \", name)\\n    print(\"나이: \", age)\\n    print(\"주소: \", address)', 'persnal_info(30,\"서울시\", \"홍길동\")', 'persㅐnal_info(30,\"서울시\", \"홍길동\")', 'personal_info(30,\"서울시\", \"홍길동\")', 'def personal_info(name, age, address):\\n    print(\"이름: \", name)\\n    print(\"나이: \", age)\\n    print(\"주소: \", address)', 'personal_info(30,\"서울시\", \"홍길동\")', 'personal_info(age=30,address=\"서울시\", name=\"홍길동\")', 'personal_info(age=30, name=\"홍길동\")', 'def personal_info(name, age, address=\"안알려 줌\"):\\n    print(\"이름: \", name)\\n    print(\"나이: \", age)\\n    print(\"주소: \", address)', 'personal_info(age=30,address=\"서울시\", name=\"홍길동\")', 'personal_info(age=30, name=\"홍길동\")', 'personal_info(**{\\'address\\': \\'서울시 강남구\\', \"name\":\"홍길동\",\"age\":30}))', 'personal_info(**{\\'address\\': \\'서울시 강남구\\', \"name\":\"홍길동\",\"age\":30})', 'def personal_info2(**kwargs):\\n    print(kwargs)', 'personal_info2(address=서울시,name=\"홍길동\")', 'personal_info2(address=\\'서울시\\',name=\"홍길동\")', 'def personal_info2(**kwargs):\\n    print(kwargs)\\n    key = list(kwagrgs.keys())\\n    value = list(kwagrgs.values())\\n    print(key)\\n    print(value)', 'personal_info2(address=\\'서울시\\',name=\"홍길동\")', 'def personal_info2(**kwargs):\\n    print(kwargs)\\n    key = list(kwargs.keys())\\n    value = list(kwagrgs.values())\\n    print(key)\\n    print(value)', 'personal_info2(address=\\'서울시\\',name=\"홍길동\")', 'def personal_info2(**kwargs):\\n    print(kwargs)\\n    key = list(kwargs.keys())\\n    value = list(kwargs.values())\\n    print(key)\\n    print(value)', 'personal_info2(address=\\'서울시\\',name=\"홍길동\")', 'def personal_info3(num, **kwargs):\\n    print(kwargs)\\n    key = list(kwargs.keys())\\n    value = list(kwargs.values())\\n    print(num)\\n    print(key)\\n    print(value)', 'personal_info3(1, address=\\'서울시\\',name=\"홍길동\")', 'def personal_info3(**kwargs, num):\\n    print(kwargs)\\n    key = list(kwargs.keys())\\n    value = list(kwargs.values())\\n    print(num)\\n    print(key)\\n    print(value)', 'def custom_print(*args,**kwargs):\\n    print(args,kwargs)', 'custom_print(1,2,3,4, sep=\"//\", end=\"!!\")', 'def custom_print(*args,**kwargs):\\n#    print(args,kwargs)\\n    print(*args,**kwargs)', 'custom_print(1,2,3,4, sep=\"//\", end=\"!!\")', 'custom_print(1,2,3,4, sep=\"//\", end=\"!!\")', 'custom_print(1,2,3,4, sep=\"//\", end=\"!!\")', 'def custom_print(*args,**kwargs):\\n       print(args,kwargs)\\n#    *args = 1,2,3\\n#    *kwargs = sep=\"//\", end=\"!!\"\\n    print(*args,**kwargs)', 'def custom_print(*args,**kwargs):\\n       print(args,kwargs)\\n#    *args = 1,2,3\\n#    *kwargs = sep=\"//\", end=\"!!\"\\n#   print(*args,**kwargs)', 'custom_print(1,2,3,4, sep=\"//\", end=\"!!\")', 'def custom_print(*args,**kwargs):\\n  #     print(args,kwargs)\\n#    *args = 1,2,3\\n#    *kwargs = sep=\"//\", end=\"!!\"\\n  print(*args,**kwargs)', 'def custom_print(**args,*kwargs):\\n#    print(args,kwargs)\\n#    *args = 1,2,3\\n#    *kwargs = sep=\"//\", end=\"!!\"\\n    print(**args,*kwargs)', 'def personal_info6(idx, address=\"비공개\", *args,**kwargs):\\n    print(f\"idx: {idx}\")\\n    print(f\"address: {address}\")\\n    print(f\"*args: {args}\")\\n    print(f\"kwargs: {kwargs}\")', 'personal_info6(1, address=\"서울\", 30,40,50, 이름=\"홍길동\", 성별=\"남자\")', 'personal_info6(1, address=\"서울\", 30,40,50, 이름=\"홍길동\", 성별=\"남자\")', 'def personal_info6(idx, address=\"비공개\", *args,**kwargs):\\n    print(f\"idx: {idx}\")\\n    print(f\"address: {address}\")\\n    print(f\"*args: {args}\")\\n    print(f\"kwargs: {kwargs}\")', 'personal_info6(1, \"서울\", 30,40,50, 이름=\"홍길동\", 성별=\"남자\")', 'personal_info6(1, \" \", 30,40,50, 이름=\"홍길동\", 성별=\"남자\")', 'personal_info6(1, \"서울\", 30,40,50, 이름=\"홍길동\", 성별=\"남자\")', 'help(print)', 'print(print__doc__)', 'help(open)', 'help(personal_info6)', 'def add(a,b):\\n    \"\"\"\\n    이 함수는 a와 b를 더한 뒤 결과를 반환하는 함수입니다. \\n    \"\"\"\\n    return a+b', 'help(add)', 'print(prin.t__doc__)', 'print(print.__doc__)', 'help(add)', 'print(globals)', 'print(globals())'], 'Out': {3: [10, 20, 30, 40], 5: [1, 2, 3, 4], 6: [10, 20, 30, 40], 7: [10, 20, 30, 40], 19: 13, 21: [1, 3, 5, 7, 9], 28: ([12, 11, 10, 9, 8, 7, 6, 5, 4], None), 32: ([4, 5, 6, 7, 8, 9, 10, 11, 12], [12, 11, 10, 9, 8, 7, 6, 5, 4]), 55: 600, 58: 1200, 60: 1200, 62: 1200, 63: 1200, 77: '점수는 1-100까지 입력해주세요', 78: 'B학점', 102: 499500, 103: 500500, 108: [2, 4, 6, 8, 10], 111: [2, 4, 6, 8, 10], 114: [2, 4, 6, 8, 10], 115: [[1, 2, 3, 4, 5, 1, 2, 3, 4, 5]], 116: [[1, 2, 3, 4, 5, 1, 2, 3, 4, 5]], 117: [2, 3, 4, 5, 2], 118: [2, 3, 4, 5, 3], 124: [2, 4, 6, 8, 10], 125: [[1, 2, 3, 4, 5, 1, 2, 3, 4, 5]], 126: [2, 3, 4, 5, 3]}, 'get_ipython': <bound method InteractiveShell.get_ipython of <ipykernel.zmqshell.ZMQInteractiveShell object at 0x00000166BB7840A0>>, 'exit': <IPython.core.autocall.ZMQExitAutocall object at 0x00000166BB784C70>, 'quit': <IPython.core.autocall.ZMQExitAutocall object at 0x00000166BB784C70>, 'open': <function open at 0x00000166BA08A820>, '_': [2, 3, 4, 5, 3], '__': [[1, 2, 3, 4, 5, 1, 2, 3, 4, 5]], '___': [2, 4, 6, 8, 10], '_i': 'print(globals)', '_ii': 'help(add)', '_iii': 'print(print.__doc__)', '_i1': '# 리스트의 자료에 10을 곱해서 다시 리스트로 출력하세요.4\\n# result = [10,20,30,40]\\nㅣ = [1,2,3,4 ]', 'ᅵ': [1, 2, 3, 4], '_i2': '# 리스트의 자료에 10을 곱해서 다시 리스트로 출력하세요.4\\n# result = [10,20,30,40]\\nㅣ = [1,2,3,4 ]\\nresult =[]\\nfor i in l :\\n    result.append(i*10)\\nresult', 'result': 55, '_i3': '# 리스트의 자료에 10을 곱해서 다시 리스트로 출력하세요.4\\n# result = [10,20,30,40]\\nl = [1,2,3,4 ]\\nresult =[]\\nfor i in l :\\n    result.append(i*10)\\nresult', 'l': [1, 2, 3, 4], 'i': 4, '_3': [10, 20, 30, 40], '_i4': 'def mul10(num):\\n    result = []\\n    for i in l :\\n        result.append(i*10)\\n    return result', 'mul10': <function mul10 at 0x00000166BCC3D550>, '_i5': 'l ', '_5': [1, 2, 3, 4], '_i6': 'result = mul10(l)\\nresult', '_6': [10, 20, 30, 40], '_i7': 'l2 = list(range(0,51))\\nresult2 = mul10(l2)\\nresult2', 'l2': [1, 2, 3, 4, 5], 'result2': [10, 20, 30, 40], '_7': [10, 20, 30, 40], '_i8': 'def Hello():\\n    print(\"Hello python 함수만들기\")', 'Hello': <function Hello at 0x00000166BCC3D790>, '_i9': 'hello', '_i10': 'hello()', '_i11': 'def hello():\\n    print(\"Hello python 함수만들기\")', 'hello': <function hello at 0x00000166BCC8C670>, '_i12': 'hello()', '_i13': 'def hello2():\\n    print(\"hello2 파이썬 함수 만들기\")', 'hello2': <function hello2 at 0x00000166BCC8C940>, '_i14': 'hello2()', '_i15': '# 원의 넓이를 구하는 함수 - 반지름 * 반지름 * 3.14\\ndef circle(c):\\n    print(f\"dnjsdml sjfqdlsms: {c*c*3.14}입니다.\")', 'circle': <function circle at 0x00000166BCCC35E0>, '_i16': '# 원의 넓이를 구하는 함수 - 반지름 * 반지름 * 3.14\\ndef circle(c):\\n    print(f\"반지름의 길이가 {c}인 원의 넓이는: {c*c*3.14}입니다.\")', '_i17': 'circle(10)', '_i18': 'def add(a,b):\\n    return a + b ', 'add': <function add at 0x00000166B70F4EE0>, '_i19': 'add(10,3)', '_19': 13, '_i20': 'def num_maker(a,b,c):\\n    result = list(range(a,b,c))\\n    return result', 'num_maker': <function num_maker at 0x00000166BCC3DA60>, '_i21': 'num_maker(1,11,2)', '_21': [1, 3, 5, 7, 9], '_i22': 'def add_sub(a,b):\\n    sub = a- b\\n    return add, sub', 'add_sub': <function add_sub at 0x00000166BCCC3B80>, '_i23': 'def add_sub(a,b):\\n    sub = a- b\\n    return add, sub', '_i24': 'add_result, sub_result = add_sub(3, 5)\\nprint(result, type(result))\\nprint(result[0], result[1])', 'add_result': <function add at 0x00000166BCC3D310>, 'sub_result': -2, '_i25': 'def num_maker2(start,end,step):\\n    result = list(range(start+3,end+3,step))\\n    print(result, result.reverse())', 'num_maker2': <function num_maker2 at 0x00000166BCCC3550>, '_i26': 'num_maker2(1,10,1)', '_i27': 'def num_maker2(start,end,step):\\n    result = list(range(start+3,end+3,step))\\n    return result, result.reverse()', '_i28': 'num_maker2(1,10,1)', '_28': ([12, 11, 10, 9, 8, 7, 6, 5, 4], None), '_i29': 'def num_maker2(start,end,step):\\n    result = list(range(start+3,end+3,step))\\n    return result, result[::1-]', '_i30': 'def num_maker2(start,end,step):\\n    result = list(range(start+3,end+3,step))\\n    return result, result[::-1]', '_i31': 'def num_maker2(start,end,step):\\n    result = list(range(start+3,end+3,step))\\n    reversed_list = result[::-1]\\n    return result, reversed_list', '_i32': 'num_maker2(1,10,1)', '_32': ([4, 5, 6, 7, 8, 9, 10, 11, 12], [12, 11, 10, 9, 8, 7, 6, 5, 4]), '_i33': 'def add_sub(a,b):\\n    sub = a- b\\n    return add, sub', '_i34': 'add_result, sub_result = add_sub(3, 5)\\nprint(result, type(result))\\nprint(result[0], result[1])', '_i35': 'even(list(range(1,101)))', '_i36': \"def even(num):\\n    num = 0\\n    num2 =[]\\n    while num > 50:\\n        if num@2 === 0 :\\n            num += 1\\n            num2.append('+',num)\\n    print(num2)\", '_i37': \"def even(num):\\n    num = 0\\n    num2 =[]\\n    while num > 50:\\n        if num@2 == 0 :\\n            num += 1\\n            num2.append('+',num)\\n    print(num2)\", 'even': <function even at 0x00000166BCCC3F70>, '_i38': 'even(list(range(1,101)))', '_i39': \"def even(num):\\n    num = 0\\n    num2 =[]\\n    while num > 50:\\n        if num@2 == 0 :\\n            num += 1\\n            num2.append('+',num)\\n        print(num2)\", '_i40': 'even(list(range(1,101)))', '_i41': 'even(list(range(1,101)))', '_i42': \"def even(num):\\n    num = 0\\n    num2 =[]\\n    while num > 50:\\n        if num@2 == 0 :\\n            num += 1\\n            num2.append('+',num)\\n            print(num2)\", '_i43': 'even(list(range(1,101)))', '_i44': \"def even(num):\\n    num = 0\\n    num2 =[]\\n    while num > 50:\\n        if num%2 == 0 :\\n            num += 1\\n            num2.append('+',num)\\n            print(num2)\", '_i45': 'even(list(range(1,101)))', '_i46': 'def even(num):\\n    hap =0\\n    for i in num:\\n        if i < 50:\\n            if i % 2 ==0:\\n                hap += i\\n        else :\\n            break \\n        print(hap)', '_i47': 'even(list(range(1,101)))', '_i48': 'def even(num):\\n    num = 0\\n    num2 = 0\\n    while num > 50:\\n        if num % 2 == 0 :\\n            num += 1\\n        else:\\n            break\\n            print(num2)', '_i49': 'even(list(range(1,101)))', '_i50': 'def even(num):\\n    hap =0\\n    for i in num:\\n        if i < 50:\\n            if i % 2 ==0:\\n                hap += i\\n        else :\\n            break \\n        print(hap)', '_i51': 'even(list(range(1,101)))', '_i52': 'def even(num):\\n    num = 0\\n    num2 = 0\\n    while num > 50:\\n        if num % 2 == 0 :\\n            num += 1\\n        else:\\n            break\\n        print(num2)', '_i53': 'even(list(range(1,101)))', '_i54': 'def even2(num):\\n    hap =0\\n    for i in num:\\n        if i < 50:\\n            if i % 2 ==0:\\n                hap += i\\n        else :\\n            return hap', 'even2': <function even2 at 0x00000166BCCF1940>, '_i55': 'even2(list(range(1,101)))', '_55': 600, '_i56': 'def even2(num):\\n    hap =0\\n    for i in num:\\n        if i < 50:\\n            if i % 2 ==0:\\n                hap += i\\n                print(f\"{i}+hap, end=\" \")\\n                hap += i\\n                print(f\"{hap}\",end=\" \")\\n        else :\\n            return hap', '_i57': 'def even2(num):\\n    hap =0\\n    for i in num:\\n        if i < 50:\\n            if i % 2 ==0:\\n                hap += i\\n                print(f\"{i}+hap\", end=\" \")\\n                hap += i\\n                print(f\"{hap}\",end=\" \")\\n        else :\\n            return hap', '_i58': 'even2(list(range(1,101)))', '_58': 1200, '_i59': 'def even2(num):\\n    hap =0\\n    for i in num:\\n        if i < 50:\\n            if i % 2 ==0:\\n                hap += i\\n                print(f\"{i}+{hap}\", end=\" \")\\n                hap += i\\n                print(f\"{hap}\",end=\" \")\\n        else :\\n            return hap', '_i60': 'even2(list(range(1,101)))', '_60': 1200, '_i61': 'def even2(num):\\n    hap =0\\n    for i in num:\\n        if i < 50:\\n            if i % 2 ==0:\\n                hap += i\\n                print(f\"{i}+{hap}=\", end=\"\")\\n                hap += i\\n                print(f\"{hap}\",end=\" \")\\n        else :\\n            return hap', '_i62': 'even2(list(range(1,101)))', '_62': 1200, '_i63': 'even2(list(range(1,101)))', '_63': 1200, '_i64': 'student_grade = int(input(\"점수를 입력하세요\"))\\nif 0 <= student_greade <= 100 :\\n    if 100 >= student_greade >= 91:\\n        print(\"A학점\")\\n    elif 90 >= student_greade >= 81:\\n        print(\"B학점\")\\n    elif 80 >= student_greade >= 71:\\n        print(\"C학점\")\\n    elif 70 >= student_greade >= 61:\\n        print(\"D학점\")\\n    elif 60 >= student_greade\\n        print(\"F학점\")\\nelse :\\n    \"점수는 1-100까지 입력해주세요\"', '_i65': 'student_grade = int(input(\"점수를 입력하세요\"))\\nif 0 <= student_greade <= 100 :\\n    if 100 >= student_greade >= 91:\\n        print(\"A학점\")\\n    elif 90 >= student_greade >= 81:\\n        print(\"B학점\")\\n    elif 80 >= student_greade >= 71:\\n        print(\"C학점\")\\n    elif 70 >= student_greade >= 61:\\n        print(\"D학점\")\\n    elif student_greade <= 60\\n        print(\"F학점\")\\nelse :\\n    \"점수는 1-100까지 입력해주세요\"', '_i66': 'student_grade = int(input(\"점수를 입력하세요\"))\\nif 0 <= student_greade <= 100 :\\n    if 100 >= student_greade >= 91:\\n        print(\"A학점\")\\n    elif 90 >= student_greade >= 81:\\n        print(\"B학점\")\\n    elif 80 >= student_greade >= 71:\\n        print(\"C학점\")\\n    elif 70 >= student_greade >= 61:\\n        print(\"D학점\")\\n    elif student_greade =< 60\\n        print(\"F학점\")\\nelse :\\n    \"점수는 1-100까지 입력해주세요\"', '_i67': 'student_grade = int(input(\"점수를 입력하세요\"))\\nif 0 <= student_greade <= 100 :\\n    if 100 >= student_greade >= 91:\\n        print(\"A학점\")\\n    elif 90 >= student_greade >= 81:\\n        print(\"B학점\")\\n    elif 80 >= student_greade >= 71:\\n        print(\"C학점\")\\n    elif 70 >= student_greade >= 61:\\n        print(\"D학점\")\\n    elif student_greade =< 60 :\\n        print(\"F학점\")\\nelse :\\n    \"점수는 1-100까지 입력해주세요\"', '_i68': 'student_grade = int(input(\"점수를 입력하세요\"))\\nif 0 <= student_greade <= 100 :\\n    if 100 >= student_greade >= 91:\\n        print(\"A학점\")\\n    elif 90 >= student_greade >= 81:\\n        print(\"B학점\")\\n    elif 80 >= student_greade >= 71:\\n        print(\"C학점\")\\n    elif 70 >= student_greade >= 61:\\n        print(\"D학점\")\\n    elif student_greade <= 60 :\\n        print(\"F학점\")\\nelse :\\n    \"점수는 1-100까지 입력해주세요\"', 'student_grade': 30, '_i69': 'student_greade = int(input(\"점수를 입력하세요\"))\\nif 0 <= student_greade <= 100 :\\n    if 100 >= student_greade >= 91:\\n        print(\"A학점\")\\n    elif 90 >= student_greade >= 81:\\n        print(\"B학점\")\\n    elif 80 >= student_greade >= 71:\\n        print(\"C학점\")\\n    elif 70 >= student_greade >= 61:\\n        print(\"D학점\")\\n    elif student_greade <= 60 :\\n        print(\"F학점\")\\nelse :\\n    \"점수는 1-100까지 입력해주세요\"', 'student_greade': <function student_greade at 0x00000166BCCF1CA0>, '_i70': 'student_grade = int(input(\"점수를 입력하세요\"))\\nif 0 <= student_grade <= 100 :\\n    if 100 >= student_grade >= 91:\\n        print(\"A학점\")\\n    elif 90 >= student_grade >= 81:\\n        print(\"B학점\")\\n    elif 80 >= student_grade >= 71:\\n        print(\"C학점\")\\n    elif 70 >= student_grade >= 61:\\n        print(\"D학점\")\\n    elif student_grade <= 60 :\\n        print(\"F학점\")\\nelse :\\n    \"점수는 1-100까지 입력해주세요\"', '_i71': 'student_greade(int(input(\"점수를 입력해주세요\")))', '_i72': 'def student_greade(score):\\n    if 0 <= score <= 100 :\\n        if 100 >= score >= 91:\\n            print(\"A학점\")\\n        elif 90 >= score >= 81:\\n            print(\"B학점\")\\n        elif 80 >= score >= 71:\\n            print(\"C학점\")\\n        elif 70 >= score >= 61:\\n            print(\"D학점\")\\n        else :\\n            print(\"F학점\")\\n    else :\\n        \"점수는 1-100까지 입력해주세요\"\\n        return', '_i73': 'student_greade(int(input(\"점수를 입력해주세요\")))', '_i74': 'def student_greade(score):\\n    if 0 <= score <= 100 : \\n       if 100 >= score >= 91:\\n            returreturn \"\\n    elif 90 >= score >= 81:\\n            return \"B학점\"\\n        elif 80 >= score >= 71:\\n            return \"C학점\"\\n        elif 70 >= score >= 61:\\n            return \"D학점\"\\n        else :\\n            return \"F학점\"\\n    else :\\n        return \"점수는 1-100까지 입력해주세요\"', '_i76': 'def student_greade(score):\\n    if 0 <= score <= 100 : \\n        if 100 >= score >= 91:\\n            return \"A학점\"\\n        elif 90 >= score >= 81:\\n            return \"B학점\"\\n        elif 80 >= score >= 71:\\n            return \"C학점\"\\n        elif 70 >= score >= 61:\\n            return \"D학점\"\\n        else :\\n            return \"F학점\"\\n    else :\\n        return \"점수는 1-100까지 입력해주세요\"', '_i77': 'student_greade(int(input(\"점수를 입력해주세요\")))', '_77': '점수는 1-100까지 입력해주세요', '_i78': 'mark = int(input(\"점수를 입력해주세요\"))\\nresult = student_greade(mark)\\nresult', 'mark': 90, '_78': 'B학점', '_i79': 'def print_nums(a,b,c):\\n    print(a,b,c)', 'print_nums': <function print_nums at 0x00000166BCCF11F0>, '_i80': 'print_nums(1,5)', '_i81': 'l1 = [1,2,3]\\nprint_nums(l1)', 'l1': [1, 2, 3], '_i82': '리스트 .튜플 언페깅으로 여러개의 자료 넣기', '_i83': 'print_nums(*l1)', '_i84': 'def print_num(*nums):\\n    for i in hums:\\n        print(i, end=\" \")', 'print_num': <function print_num at 0x00000166BCC4CA60>, '_i85': 'print(print_num)(1)', '_i86': 'print(print_num)(1,2,3,4,5,6,7,8,9,19)', '_i87': 'print_num(1,2,3,4,5,6,7,8,9,19)', '_i88': 'def print_num(*nums):\\n    print(num,type(nums))\\n    for i in hums:\\n        print(i, end=\" \")', '_i89': 'print_num(1,2,3,4,5,6,7,8,9,19)', '_i90': 'print_num(1,2,3,4,5,6,7,8,9,10)', '_i91': 'def print_num(*nums):\\n    print(nums,type(nums))\\n    for i in nums:\\n        print(i, end=\" \")', '_i92': 'print_num(1,2,3,4,5,6,7,8,9,10)', '_i93': 'print(1, 2, 3, 4, 5)', '_i94': 'def my_sum(*num):\\n    hap = 0\\n    for i in num:\\n        hap += num\\n        return hap', 'my_sum': <function my_sum at 0x00000166BCCF1670>, '_i95': 'result = my_sum (1,2,3,,4,5,6,,7,8,9, 10)\\nprint(result)\\n# 55', '_i96': 'result = my_sum (1,2,3,4,5,6,,7,8,9, 10)\\nprint(result)\\n# 55', '_i97': 'result = my_sum (1,2,3,4,5,6,7,8,9, 10)\\nprint(result)\\n# 55', '_i98': 'def my_sum(*num):\\n    hap = 0\\n    for i in num:\\n        hap += i\\n        return hap', '_i99': 'result = my_sum (1,2,3,4,5,6,7,8,9, 10)\\nprint(result)\\n# 55', '_i100': 'def my_sum(*num):\\n    hap = 0\\n    for i in num:\\n        hap += i\\n    return hap', '_i101': 'result = my_sum (1,2,3,4,5,6,7,8,9, 10)\\nprint(result)\\n# 55', '_i102': 'my_sum(*list(range(1,1000)))', '_102': 499500, '_i103': 'my_sum(*list(range(1,1001)))', '_103': 500500, '_i104': '# 정수와 리스트를 받아 리스트의 요소에 입력받은 정수를 곱하는 함수', '_i105': 'def muls(a, *args):\\n    result = []\\n    for num in args:\\n        result.append(a*num)\\n    return result', 'muls': <function muls at 0x00000166BCD891F0>, '_i106': 'l2 = [1,2,,3,4,5] ', '_i107': 'l2 = [1,2,3,4,5] ', '_i108': 'muls(2,*l2)', '_108': [2, 4, 6, 8, 10], '_i109': 'def muls(a, *args):\\n    result = []\\n    for num in args:\\n        result.append(a*num)\\n    return result', '_i110': 'l2 = [1,2,3,4,5] ', '_i111': 'muls(2,*l2)', '_111': [2, 4, 6, 8, 10], '_i112': 'def muls(a, *args):\\n    print(a, args)\\n    result = []\\n    for num in args:\\n        result.append(a*num)\\n    return result', '_i113': 'l2 = [1,2,3,4,5] ', '_i114': 'muls(2,*l2)', '_114': [2, 4, 6, 8, 10], '_i115': 'muls(2,l2)', '_115': [[1, 2, 3, 4, 5, 1, 2, 3, 4, 5]], '_i116': 'muls(l2, 2)', '_116': [[1, 2, 3, 4, 5, 1, 2, 3, 4, 5]], '_i117': 'muls(*l2, 2)', '_117': [2, 3, 4, 5, 2], '_i118': 'muls(*l2, 3)', '_118': [2, 3, 4, 5, 3], '_i119': 'def muls(*args, a):\\n    print(a, args)\\n    result = []\\n    for num in args:\\n        result.append(a*num)\\n    return result', '_i120': 'muls(*l2, 3)', '_i121': 'muls(*l2, 3)', '_i122': 'def muls(a, *args):\\n    print(a, args)\\n    result = []\\n    for num in args:\\n        result.append(a*num)\\n    return result', '_i123': 'l2 = [1,2,3,4,5] ', '_i124': 'muls(2,*l2)', '_124': [2, 4, 6, 8, 10], '_i125': 'muls(2,l2)', '_125': [[1, 2, 3, 4, 5, 1, 2, 3, 4, 5]], '_i126': 'muls(*l2, 3)', '_126': [2, 3, 4, 5, 3], '_i127': 'print(1,2,3, sep=\" vs \", end=\"!!\")', '_i128': 'def presonal_info(name, age, address):\\n    print(\"이름: \", name)\\n    print(\"나이: \", age)\\n    print(\"주소: \", address)', 'presonal_info': <function presonal_info at 0x00000166BCD893A0>, '_i129': 'persnal_info(30,\"서울시\", \"홍길동\")', '_i130': 'def presonal_info(name, age, address):\\n    print(\"이름: \", name)\\n    print(\"나이: \", age)\\n    print(\"주소: \", address)', '_i131': 'persnal_info(30,\"서울시\", \"홍길동\")', '_i132': 'persㅐnal_info(30,\"서울시\", \"홍길동\")', '_i133': 'personal_info(30,\"서울시\", \"홍길동\")', '_i134': 'def personal_info(name, age, address):\\n    print(\"이름: \", name)\\n    print(\"나이: \", age)\\n    print(\"주소: \", address)', 'personal_info': <function personal_info at 0x00000166BCDDDEE0>, '_i135': 'personal_info(30,\"서울시\", \"홍길동\")', '_i136': 'personal_info(age=30,address=\"서울시\", name=\"홍길동\")', '_i137': 'personal_info(age=30, name=\"홍길동\")', '_i138': 'def personal_info(name, age, address=\"안알려 줌\"):\\n    print(\"이름: \", name)\\n    print(\"나이: \", age)\\n    print(\"주소: \", address)', '_i139': 'personal_info(age=30,address=\"서울시\", name=\"홍길동\")', '_i140': 'personal_info(age=30, name=\"홍길동\")', '_i141': 'personal_info(**{\\'address\\': \\'서울시 강남구\\', \"name\":\"홍길동\",\"age\":30}))', '_i142': 'personal_info(**{\\'address\\': \\'서울시 강남구\\', \"name\":\"홍길동\",\"age\":30})', '_i143': 'def personal_info2(**kwargs):\\n    print(kwargs)', 'personal_info2': <function personal_info2 at 0x00000166BCD899D0>, '_i144': 'personal_info2(address=서울시,name=\"홍길동\")', '_i145': 'personal_info2(address=\\'서울시\\',name=\"홍길동\")', '_i146': 'def personal_info2(**kwargs):\\n    print(kwargs)\\n    key = list(kwagrgs.keys())\\n    value = list(kwagrgs.values())\\n    print(key)\\n    print(value)', '_i147': 'personal_info2(address=\\'서울시\\',name=\"홍길동\")', '_i148': 'def personal_info2(**kwargs):\\n    print(kwargs)\\n    key = list(kwargs.keys())\\n    value = list(kwagrgs.values())\\n    print(key)\\n    print(value)', '_i149': 'personal_info2(address=\\'서울시\\',name=\"홍길동\")', '_i150': 'def personal_info2(**kwargs):\\n    print(kwargs)\\n    key = list(kwargs.keys())\\n    value = list(kwargs.values())\\n    print(key)\\n    print(value)', '_i151': 'personal_info2(address=\\'서울시\\',name=\"홍길동\")', '_i152': 'def personal_info3(num, **kwargs):\\n    print(kwargs)\\n    key = list(kwargs.keys())\\n    value = list(kwargs.values())\\n    print(num)\\n    print(key)\\n    print(value)', 'personal_info3': <function personal_info3 at 0x00000166BD0A9DC0>, '_i153': 'personal_info3(1, address=\\'서울시\\',name=\"홍길동\")', '_i154': 'def personal_info3(**kwargs, num):\\n    print(kwargs)\\n    key = list(kwargs.keys())\\n    value = list(kwargs.values())\\n    print(num)\\n    print(key)\\n    print(value)', '_i155': 'def custom_print(*args,**kwargs):\\n    print(args,kwargs)', 'custom_print': <function custom_print at 0x00000166BD0A9CA0>, '_i156': 'custom_print(1,2,3,4, sep=\"//\", end=\"!!\")', '_i157': 'def custom_print(*args,**kwargs):\\n#    print(args,kwargs)\\n    print(*args,**kwargs)', '_i158': 'custom_print(1,2,3,4, sep=\"//\", end=\"!!\")', '_i159': 'custom_print(1,2,3,4, sep=\"//\", end=\"!!\")', '_i160': 'custom_print(1,2,3,4, sep=\"//\", end=\"!!\")', '_i161': 'def custom_print(*args,**kwargs):\\n       print(args,kwargs)\\n#    *args = 1,2,3\\n#    *kwargs = sep=\"//\", end=\"!!\"\\n    print(*args,**kwargs)', '_i163': 'def custom_print(*args,**kwargs):\\n       print(args,kwargs)\\n#    *args = 1,2,3\\n#    *kwargs = sep=\"//\", end=\"!!\"\\n#   print(*args,**kwargs)', '_i164': 'custom_print(1,2,3,4, sep=\"//\", end=\"!!\")', '_i165': 'def custom_print(*args,**kwargs):\\n  #     print(args,kwargs)\\n#    *args = 1,2,3\\n#    *kwargs = sep=\"//\", end=\"!!\"\\n  print(*args,**kwargs)', '_i166': 'def custom_print(**args,*kwargs):\\n#    print(args,kwargs)\\n#    *args = 1,2,3\\n#    *kwargs = sep=\"//\", end=\"!!\"\\n    print(**args,*kwargs)', '_i167': 'def personal_info6(idx, address=\"비공개\", *args,**kwargs):\\n    print(f\"idx: {idx}\")\\n    print(f\"address: {address}\")\\n    print(f\"*args: {args}\")\\n    print(f\"kwargs: {kwargs}\")', 'personal_info6': <function personal_info6 at 0x00000166BD5DF0D0>, '_i168': 'personal_info6(1, address=\"서울\", 30,40,50, 이름=\"홍길동\", 성별=\"남자\")', '_i169': 'personal_info6(1, address=\"서울\", 30,40,50, 이름=\"홍길동\", 성별=\"남자\")', '_i170': 'def personal_info6(idx, address=\"비공개\", *args,**kwargs):\\n    print(f\"idx: {idx}\")\\n    print(f\"address: {address}\")\\n    print(f\"*args: {args}\")\\n    print(f\"kwargs: {kwargs}\")', '_i171': 'personal_info6(1, \"서울\", 30,40,50, 이름=\"홍길동\", 성별=\"남자\")', '_i172': 'personal_info6(1, \" \", 30,40,50, 이름=\"홍길동\", 성별=\"남자\")', '_i173': 'personal_info6(1, \"서울\", 30,40,50, 이름=\"홍길동\", 성별=\"남자\")', '_i174': 'help(print)', '_i175': 'print(print__doc__)', '_i176': 'help(open)', '_i177': 'help(personal_info6)', '_i178': 'def add(a,b):\\n    \"\"\"\\n    이 함수는 a와 b를 더한 뒤 결과를 반환하는 함수입니다. \\n    \"\"\"\\n    return a+b', '_i179': 'help(add)', '_i180': 'print(prin.t__doc__)', '_i181': 'print(print.__doc__)', '_i182': 'help(add)', '_i183': 'print(globals)', '_i184': 'print(globals())'}\n"
     ]
    }
   ],
   "source": [
    "print(globals())"
   ]
  },
  {
   "cell_type": "markdown",
   "id": "2e5a5621",
   "metadata": {},
   "source": [
    "* 메모리 낭비를 막기 위함"
   ]
  },
  {
   "cell_type": "code",
   "execution_count": 185,
   "id": "d86f6e7e",
   "metadata": {},
   "outputs": [],
   "source": [
    "# 자료 한개를 입력받아 10을 더해서 리턴하는 함수\n",
    "def plus_ten(x):\n",
    "    return x +10"
   ]
  },
  {
   "cell_type": "code",
   "execution_count": 186,
   "id": "2e579d9e",
   "metadata": {},
   "outputs": [
    {
     "data": {
      "text/plain": [
       "15"
      ]
     },
     "execution_count": 186,
     "metadata": {},
     "output_type": "execute_result"
    }
   ],
   "source": [
    "plus_ten(5)"
   ]
  },
  {
   "cell_type": "code",
   "execution_count": 188,
   "id": "c07d947c",
   "metadata": {},
   "outputs": [
    {
     "data": {
      "text/plain": [
       "15"
      ]
     },
     "execution_count": 188,
     "metadata": {},
     "output_type": "execute_result"
    }
   ],
   "source": [
    "# def lambda(x):\n",
    "#      retern x + 10\n",
    "(lambda x: x +10)(5)"
   ]
  },
  {
   "cell_type": "code",
   "execution_count": 189,
   "id": "9022e391",
   "metadata": {},
   "outputs": [
    {
     "data": {
      "text/plain": [
       "15"
      ]
     },
     "execution_count": 189,
     "metadata": {},
     "output_type": "execute_result"
    }
   ],
   "source": [
    "plus_five = lambda x:x + 10\n",
    "plus_five(5)"
   ]
  },
  {
   "cell_type": "code",
   "execution_count": 190,
   "id": "d5a2bedc",
   "metadata": {},
   "outputs": [
    {
     "data": {
      "text/plain": [
       "15"
      ]
     },
     "execution_count": 190,
     "metadata": {},
     "output_type": "execute_result"
    }
   ],
   "source": [
    "plus_five(5)"
   ]
  },
  {
   "cell_type": "code",
   "execution_count": 193,
   "id": "d96e5ae6",
   "metadata": {
    "scrolled": true
   },
   "outputs": [
    {
     "data": {
      "text/plain": [
       "'홀수'"
      ]
     },
     "execution_count": 193,
     "metadata": {},
     "output_type": "execute_result"
    }
   ],
   "source": [
    "# 숫자를 넣어서 홀수 짝수 구분하는 람다 함수 \n",
    "(lambda x: \"짝수\" if x %2 == 0 else \"홀수\")(3)"
   ]
  },
  {
   "cell_type": "markdown",
   "id": "2b961e52",
   "metadata": {},
   "source": [
    "* 1에서 10까지 수 중에서 3의 배수만 문자열로 바꾸기"
   ]
  },
  {
   "cell_type": "code",
   "execution_count": 195,
   "id": "7d87cdb3",
   "metadata": {},
   "outputs": [],
   "source": [
    "def tostr(x):\n",
    "    result=[]\n",
    "    for i in x:\n",
    "        if i % 3 ==0:\n",
    "            result.append(str(i))\n",
    "        else:\n",
    "            result.append(i)\n",
    "    return result"
   ]
  },
  {
   "cell_type": "code",
   "execution_count": 196,
   "id": "2e7073b3",
   "metadata": {},
   "outputs": [
    {
     "name": "stdout",
     "output_type": "stream",
     "text": [
      "[1, 2, '3', 4, 5, '6', 7, 8, '9', 10]\n"
     ]
    }
   ],
   "source": [
    "result_str = tostr(list(range(1, 11)))\n",
    "print(result_str)"
   ]
  },
  {
   "cell_type": "code",
   "execution_count": 197,
   "id": "8a9eb8e1",
   "metadata": {},
   "outputs": [
    {
     "name": "stdout",
     "output_type": "stream",
     "text": [
      "Help on class map in module builtins:\n",
      "\n",
      "class map(object)\n",
      " |  map(func, *iterables) --> map object\n",
      " |  \n",
      " |  Make an iterator that computes the function using arguments from\n",
      " |  each of the iterables.  Stops when the shortest iterable is exhausted.\n",
      " |  \n",
      " |  Methods defined here:\n",
      " |  \n",
      " |  __getattribute__(self, name, /)\n",
      " |      Return getattr(self, name).\n",
      " |  \n",
      " |  __iter__(self, /)\n",
      " |      Implement iter(self).\n",
      " |  \n",
      " |  __next__(self, /)\n",
      " |      Implement next(self).\n",
      " |  \n",
      " |  __reduce__(...)\n",
      " |      Return state information for pickling.\n",
      " |  \n",
      " |  ----------------------------------------------------------------------\n",
      " |  Static methods defined here:\n",
      " |  \n",
      " |  __new__(*args, **kwargs) from builtins.type\n",
      " |      Create and return a new object.  See help(type) for accurate signature.\n",
      "\n"
     ]
    }
   ],
   "source": [
    "help(map)"
   ]
  },
  {
   "cell_type": "code",
   "execution_count": 203,
   "id": "67c258a2",
   "metadata": {},
   "outputs": [
    {
     "data": {
      "text/plain": [
       "'3'"
      ]
     },
     "execution_count": 203,
     "metadata": {},
     "output_type": "execute_result"
    }
   ],
   "source": [
    "(lambda x: str(x) if x%3 ==0 else x)(3)"
   ]
  },
  {
   "cell_type": "code",
   "execution_count": 206,
   "id": "d0c53aaf",
   "metadata": {},
   "outputs": [
    {
     "data": {
      "text/plain": [
       "[1, 2, '3', 4, 5, '6', 7, 8, '9', 10]"
      ]
     },
     "execution_count": 206,
     "metadata": {},
     "output_type": "execute_result"
    }
   ],
   "source": [
    "a = list(map((lambda x: str(x) if x%3 ==0 else x), list(range(1,11))))\n",
    "a"
   ]
  },
  {
   "cell_type": "code",
   "execution_count": null,
   "id": "21474981",
   "metadata": {},
   "outputs": [],
   "source": [
    ".apply(map((lambda x: str(x) if x%3 ==0 else x)"
   ]
  },
  {
   "cell_type": "markdown",
   "id": "8f394ea1",
   "metadata": {},
   "source": [
    "엑셀 자료를 하나씩 꺼내서 넣으라는 이야기"
   ]
  },
  {
   "cell_type": "code",
   "execution_count": 207,
   "id": "17dad443",
   "metadata": {},
   "outputs": [],
   "source": [
    "a = [1,2,3,4,5]\n",
    "b = [2,4,6,8,10]\n",
    "c = [3,6,9,12,15]"
   ]
  },
  {
   "cell_type": "code",
   "execution_count": 208,
   "id": "42920a01",
   "metadata": {},
   "outputs": [
    {
     "data": {
      "text/plain": [
       "[6, 48, 162, 384, 750]"
      ]
     },
     "execution_count": 208,
     "metadata": {},
     "output_type": "execute_result"
    }
   ],
   "source": [
    "result = []\n",
    "for x,y,z in zip(a,b,c):\n",
    "    result.append(x*y*z)\n",
    "result"
   ]
  },
  {
   "cell_type": "code",
   "execution_count": 210,
   "id": "e8f4962e",
   "metadata": {},
   "outputs": [
    {
     "data": {
      "text/plain": [
       "[6, 48, 162, 384, 750]"
      ]
     },
     "execution_count": 210,
     "metadata": {},
     "output_type": "execute_result"
    }
   ],
   "source": [
    "list(map(lambda x,y,z : x*y*z, a,b,c))"
   ]
  },
  {
   "cell_type": "code",
   "execution_count": null,
   "id": "39c504e3",
   "metadata": {},
   "outputs": [],
   "source": []
  },
  {
   "cell_type": "code",
   "execution_count": null,
   "id": "1fe41573",
   "metadata": {},
   "outputs": [],
   "source": []
  },
  {
   "cell_type": "code",
   "execution_count": null,
   "id": "fcf94016",
   "metadata": {},
   "outputs": [],
   "source": []
  },
  {
   "cell_type": "code",
   "execution_count": null,
   "id": "480c885b",
   "metadata": {},
   "outputs": [],
   "source": []
  },
  {
   "cell_type": "code",
   "execution_count": null,
   "id": "62e4e202",
   "metadata": {},
   "outputs": [],
   "source": []
  },
  {
   "cell_type": "code",
   "execution_count": null,
   "id": "2cc65862",
   "metadata": {},
   "outputs": [],
   "source": []
  },
  {
   "cell_type": "code",
   "execution_count": null,
   "id": "48824411",
   "metadata": {},
   "outputs": [],
   "source": []
  },
  {
   "cell_type": "code",
   "execution_count": null,
   "id": "683cbf39",
   "metadata": {},
   "outputs": [],
   "source": []
  },
  {
   "cell_type": "code",
   "execution_count": null,
   "id": "b7ebae5b",
   "metadata": {},
   "outputs": [],
   "source": []
  },
  {
   "cell_type": "code",
   "execution_count": null,
   "id": "825c2afc",
   "metadata": {},
   "outputs": [],
   "source": []
  },
  {
   "cell_type": "code",
   "execution_count": null,
   "id": "532496c2",
   "metadata": {},
   "outputs": [],
   "source": []
  },
  {
   "cell_type": "code",
   "execution_count": null,
   "id": "256fd737",
   "metadata": {},
   "outputs": [],
   "source": []
  },
  {
   "cell_type": "code",
   "execution_count": null,
   "id": "05837dfa",
   "metadata": {},
   "outputs": [],
   "source": []
  },
  {
   "cell_type": "code",
   "execution_count": null,
   "id": "3b99c52c",
   "metadata": {},
   "outputs": [],
   "source": []
  },
  {
   "cell_type": "code",
   "execution_count": null,
   "id": "c9922677",
   "metadata": {},
   "outputs": [],
   "source": []
  },
  {
   "cell_type": "code",
   "execution_count": null,
   "id": "d22eb4bf",
   "metadata": {},
   "outputs": [],
   "source": []
  },
  {
   "cell_type": "code",
   "execution_count": null,
   "id": "5d126ca1",
   "metadata": {},
   "outputs": [],
   "source": []
  },
  {
   "cell_type": "code",
   "execution_count": null,
   "id": "1a9fc40c",
   "metadata": {},
   "outputs": [],
   "source": []
  },
  {
   "cell_type": "code",
   "execution_count": null,
   "id": "8a1b9aea",
   "metadata": {},
   "outputs": [],
   "source": []
  }
 ],
 "metadata": {
  "kernelspec": {
   "display_name": "Python 3 (ipykernel)",
   "language": "python",
   "name": "python3"
  },
  "language_info": {
   "codemirror_mode": {
    "name": "ipython",
    "version": 3
   },
   "file_extension": ".py",
   "mimetype": "text/x-python",
   "name": "python",
   "nbconvert_exporter": "python",
   "pygments_lexer": "ipython3",
   "version": "3.9.21"
  }
 },
 "nbformat": 4,
 "nbformat_minor": 5
}
