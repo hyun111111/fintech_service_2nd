{
 "cells": [
  {
   "cell_type": "markdown",
   "id": "2f36cfaf",
   "metadata": {},
   "source": [
    "1.**빈 리스트 `numbers`를 생성하고 출력하세요.**  \n",
    "   ```python\n",
    "   []\n",
    "   ```"
   ]
  },
  {
   "cell_type": "code",
   "execution_count": 71,
   "id": "cb38001d",
   "metadata": {},
   "outputs": [
    {
     "name": "stdout",
     "output_type": "stream",
     "text": [
      "[]\n"
     ]
    }
   ],
   "source": [
    "number = []\n",
    "print(number)"
   ]
  },
  {
   "cell_type": "markdown",
   "id": "c1ee7c56",
   "metadata": {},
   "source": [
    "2.**`'numbers'`에 1,2,3,4,5 를 추가하고 출력하세요.**\n",
    "```python\n",
    "[1,2,3,4,5]\n",
    "```"
   ]
  },
  {
   "cell_type": "code",
   "execution_count": 72,
   "id": "9a7e491c",
   "metadata": {},
   "outputs": [
    {
     "name": "stdout",
     "output_type": "stream",
     "text": [
      "[1, 2, 3, 4, 5]\n"
     ]
    }
   ],
   "source": [
    "number.extend([1,2,3,4,5])\n",
    "print(number)"
   ]
  },
  {
   "cell_type": "markdown",
   "id": "b356443b",
   "metadata": {},
   "source": [
    "3.**리스트 `numbers`에 숫자 `6`을 추가하고 출력하세요.**  \n",
    "   ```python\n",
    "   [1, 2, 3, 4, 5, 6]\n",
    "   ```"
   ]
  },
  {
   "cell_type": "code",
   "execution_count": 73,
   "id": "df3b9870",
   "metadata": {},
   "outputs": [
    {
     "name": "stdout",
     "output_type": "stream",
     "text": [
      "[1, 2, 3, 4, 5, 6]\n"
     ]
    }
   ],
   "source": [
    "number.append(6)\n",
    "print(number)"
   ]
  },
  {
   "cell_type": "markdown",
   "id": "29600ada",
   "metadata": {},
   "source": [
    "4.**`'numbers'` 에 자료 1,2,3,4,5 를 추가하세요. append가 아닌 다른 함수로 추가**\n",
    "```python\n",
    "[1, 2, 3, 4, 5, 6, 1, 2, 3, 4, 5]\n",
    "```"
   ]
  },
  {
   "cell_type": "code",
   "execution_count": 74,
   "id": "5ce3df07",
   "metadata": {
    "scrolled": false
   },
   "outputs": [
    {
     "name": "stdout",
     "output_type": "stream",
     "text": [
      "[1, 2, 3, 4, 5, 6, 1, 2, 3, 4, 5]\n"
     ]
    }
   ],
   "source": [
    "number.extend([1,2,3,4,5])\n",
    "print(number)"
   ]
  },
  {
   "cell_type": "markdown",
   "id": "4eb7175a",
   "metadata": {},
   "source": [
    "]5.**`'numbers'` 에 자료 1,2,3,4,5를 연산자를 이용해 추가하세요.**\n",
    "```python\n",
    "[1, 2, 3, 4, 5, 6, 1, 2, 3, 4, 5, 1, 2, 3, 4, 5]\n",
    "```"
   ]
  },
  {
   "cell_type": "code",
   "execution_count": 75,
   "id": "4b316849",
   "metadata": {},
   "outputs": [
    {
     "name": "stdout",
     "output_type": "stream",
     "text": [
      "[1, 2, 3, 4, 5, 6, 1, 2, 3, 4, 5, 1, 2, 3, 4, 5]\n"
     ]
    }
   ],
   "source": [
    "number = number+[1,2,3,4,5]\n",
    "print(number)"
   ]
  },
  {
   "cell_type": "markdown",
   "id": "9b9c7567",
   "metadata": {},
   "source": [
    "6.**`'numbers'` 의 자료를 2배로 늘리세요.**\n",
    "```python\n",
    "[1, 2, 3, 4, 5, 6, 1, 2, 3, 4, 5, 1, 2, 3, 4, 5, 1, 2, 3, 4, 5, 6, 1, 2, 3, 4, 5, 1, 2, 3, 4, 5]\n",
    "```"
   ]
  },
  {
   "cell_type": "code",
   "execution_count": 76,
   "id": "a9a9bd05",
   "metadata": {},
   "outputs": [],
   "source": [
    "number = number*2\n"
   ]
  },
  {
   "cell_type": "code",
   "execution_count": 77,
   "id": "71bc21eb",
   "metadata": {},
   "outputs": [
    {
     "name": "stdout",
     "output_type": "stream",
     "text": [
      "[1, 2, 3, 4, 5, 6, 1, 2, 3, 4, 5, 1, 2, 3, 4, 5, 1, 2, 3, 4, 5, 6, 1, 2, 3, 4, 5, 1, 2, 3, 4, 5]\n"
     ]
    }
   ],
   "source": [
    "print(number)"
   ]
  },
  {
   "cell_type": "markdown",
   "id": "cb546b6f",
   "metadata": {},
   "source": [
    "7. **리스트 `numbers`에서 두 번째 요소를 `99`로 변경하고 출력하세요.**  \n",
    "```python\n",
    "[1, 99, 3, 4, 5, 6, 1, 2, 3, 4, 5, 1, 2, 3, 4, 5, 1, 2, 3, 4, 5, 6, 1, 2, 3, 4, 5, 1, 2, 3, 4, 5]\n",
    "```"
   ]
  },
  {
   "cell_type": "code",
   "execution_count": 78,
   "id": "c4b0af23",
   "metadata": {},
   "outputs": [],
   "source": [
    "del number[1]"
   ]
  },
  {
   "cell_type": "code",
   "execution_count": 79,
   "id": "8d89af09",
   "metadata": {},
   "outputs": [
    {
     "name": "stdout",
     "output_type": "stream",
     "text": [
      "[1, 3, 4, 5, 6, 1, 2, 3, 4, 5, 1, 2, 3, 4, 5, 1, 2, 3, 4, 5, 6, 1, 2, 3, 4, 5, 1, 2, 3, 4, 5]\n"
     ]
    }
   ],
   "source": [
    "print(number)"
   ]
  },
  {
   "cell_type": "code",
   "execution_count": 80,
   "id": "ad00c48f",
   "metadata": {},
   "outputs": [],
   "source": [
    "number.insert(1,99)"
   ]
  },
  {
   "cell_type": "code",
   "execution_count": 81,
   "id": "b871adcf",
   "metadata": {},
   "outputs": [
    {
     "name": "stdout",
     "output_type": "stream",
     "text": [
      "[1, 99, 3, 4, 5, 6, 1, 2, 3, 4, 5, 1, 2, 3, 4, 5, 1, 2, 3, 4, 5, 6, 1, 2, 3, 4, 5, 1, 2, 3, 4, 5]\n"
     ]
    }
   ],
   "source": [
    "print(number)"
   ]
  },
  {
   "cell_type": "markdown",
   "id": "dc81bba6",
   "metadata": {},
   "source": [
    "8. **리스트 `numbers`에서 마지막 요소를 제거하고 출력하세요.**  \n",
    "```python\n",
    "[1, 99, 3, 4, 5, 6, 1, 2, 3, 4, 5, 1, 2, 3, 4, 5, 1, 2, 3, 4, 5, 6, 1, 2, 3, 4, 5, 1, 2, 3, 4]\n",
    "```"
   ]
  },
  {
   "cell_type": "code",
   "execution_count": 82,
   "id": "bcac9e58",
   "metadata": {},
   "outputs": [
    {
     "data": {
      "text/plain": [
       "5"
      ]
     },
     "execution_count": 82,
     "metadata": {},
     "output_type": "execute_result"
    }
   ],
   "source": [
    "number.pop()"
   ]
  },
  {
   "cell_type": "code",
   "execution_count": 83,
   "id": "13882d59",
   "metadata": {},
   "outputs": [
    {
     "name": "stdout",
     "output_type": "stream",
     "text": [
      "[1, 99, 3, 4, 5, 6, 1, 2, 3, 4, 5, 1, 2, 3, 4, 5, 1, 2, 3, 4, 5, 6, 1, 2, 3, 4, 5, 1, 2, 3, 4]\n"
     ]
    }
   ],
   "source": [
    "print(number)"
   ]
  },
  {
   "cell_type": "markdown",
   "id": "06bba1b6",
   "metadata": {},
   "source": [
    "9. **리스트 `numbers`에서 `99`를 삭제하고 출력하세요.**\n",
    "```python\n",
    "[1, 3, 4, 5, 6, 1, 2, 3, 4, 5, 1, 2, 3, 4, 5, 1, 2, 3, 4, 5, 6, 1, 2, 3, 4, 5, 1, 2, 3, 4]\n",
    "```"
   ]
  },
  {
   "cell_type": "code",
   "execution_count": 85,
   "id": "47613219",
   "metadata": {},
   "outputs": [],
   "source": [
    "number.remove(99)"
   ]
  },
  {
   "cell_type": "code",
   "execution_count": 86,
   "id": "dd0ec49d",
   "metadata": {},
   "outputs": [
    {
     "name": "stdout",
     "output_type": "stream",
     "text": [
      "[1, 3, 4, 5, 6, 1, 2, 3, 4, 5, 1, 2, 3, 4, 5, 1, 2, 3, 4, 5, 6, 1, 2, 3, 4, 5, 1, 2, 3, 4]\n"
     ]
    }
   ],
   "source": [
    "print(number)"
   ]
  },
  {
   "cell_type": "markdown",
   "id": "2aefd51e",
   "metadata": {},
   "source": [
    "10.**리스트 `numbers`에서 4번째 `4`의 인덱스를 출력하고 삭제하세요.**\n",
    "```python\n",
    "18\n",
    "4\n",
    "[1, 3, 4, 5, 6, 1, 2, 3, 4, 5, 1, 2, 3, 4, 5, 1, 2, 3, 5, 6, 1, 2, 3, 4, 5, 1, 2, 3, 4]\n",
    "```\n"
   ]
  },
  {
   "cell_type": "code",
   "execution_count": 87,
   "id": "8d14bbe6",
   "metadata": {},
   "outputs": [
    {
     "data": {
      "text/plain": [
       "4"
      ]
     },
     "execution_count": 87,
     "metadata": {},
     "output_type": "execute_result"
    }
   ],
   "source": [
    "number[18]"
   ]
  },
  {
   "cell_type": "code",
   "execution_count": 88,
   "id": "f0c2205d",
   "metadata": {},
   "outputs": [
    {
     "name": "stdout",
     "output_type": "stream",
     "text": [
      "[1, 3, 4, 5, 6, 1, 2, 3, 4, 5, 1, 2, 3, 4, 5, 1, 2, 3, 5, 6, 1, 2, 3, 4, 5, 1, 2, 3, 4]\n"
     ]
    }
   ],
   "source": [
    "del number[18]\n",
    "print(number)"
   ]
  },
  {
   "cell_type": "markdown",
   "id": "f5483151",
   "metadata": {},
   "source": [
    "11.**리스트 `numbers`에서 `5`의 개수를 출력하세요.**\n",
    "```python\n",
    "5\n",
    "```\n"
   ]
  },
  {
   "cell_type": "code",
   "execution_count": 89,
   "id": "47c15361",
   "metadata": {
    "scrolled": true
   },
   "outputs": [
    {
     "data": {
      "text/plain": [
       "5"
      ]
     },
     "execution_count": 89,
     "metadata": {},
     "output_type": "execute_result"
    }
   ],
   "source": [
    "number.count(5)"
   ]
  },
  {
   "cell_type": "markdown",
   "id": "8a6e6b24",
   "metadata": {},
   "source": [
    "12. **complex_list 변수에 리스트 `[1, 2, 3, [4, 5, 6], (7, 8, \"튜플\")]`을 만들고 ``\"튜플\"`을 출력하세요.**  \n",
    "```python\n",
    "[1, 2, 3, [4, 5, 6], (7, 8, '튜플')]\n",
    "튜플\n",
    "```"
   ]
  },
  {
   "cell_type": "code",
   "execution_count": 111,
   "id": "57a53cf1",
   "metadata": {},
   "outputs": [],
   "source": [
    "complex_list = [1, 2, 3, [4, 5, 6], (7, 8, \"튜플\")]"
   ]
  },
  {
   "cell_type": "code",
   "execution_count": 112,
   "id": "812bfc39",
   "metadata": {},
   "outputs": [
    {
     "name": "stdout",
     "output_type": "stream",
     "text": [
      "[1, 2, 3, [4, 5, 6], (7, 8, '튜플')]\n"
     ]
    }
   ],
   "source": [
    "print(complex_list)"
   ]
  },
  {
   "cell_type": "code",
   "execution_count": 113,
   "id": "9945b3aa",
   "metadata": {},
   "outputs": [
    {
     "name": "stdout",
     "output_type": "stream",
     "text": [
      "튜플\n"
     ]
    }
   ],
   "source": [
    "print(complex_list[4][2])"
   ]
  },
  {
   "cell_type": "markdown",
   "id": "ac469393",
   "metadata": {},
   "source": [
    "13. **`complex_list`의 모든 요소를 역순으로 출력하세요.**  \n",
    "```python\n",
    "[(7, 8, '튜플'), [4, 5, 6], 3, 2, 1]\n",
    "```"
   ]
  },
  {
   "cell_type": "code",
   "execution_count": 114,
   "id": "04e7954d",
   "metadata": {},
   "outputs": [
    {
     "data": {
      "text/plain": [
       "[(7, 8, '튜플'), [4, 5, 6], 3, 2, 1]"
      ]
     },
     "execution_count": 114,
     "metadata": {},
     "output_type": "execute_result"
    }
   ],
   "source": [
    "complex_list[::-1]"
   ]
  },
  {
   "cell_type": "markdown",
   "id": "f97447ed",
   "metadata": {},
   "source": [
    "14. **`complex_list`내의 [4,5,6] 리스트를 역순 정렬하고 출력하세요.**  \n",
    "```python\n",
    "[1, 2, 3, [6, 5, 4], (7, 8, '튜플')]\n",
    "```"
   ]
  },
  {
   "cell_type": "code",
   "execution_count": 115,
   "id": "ed20321d",
   "metadata": {},
   "outputs": [
    {
     "name": "stdout",
     "output_type": "stream",
     "text": [
      "[1, 2, 3, [6, 5, 4], (7, 8, '튜플')]\n"
     ]
    }
   ],
   "source": [
    "# print(complex_list[3])\n",
    "complex_list[3].sort(reverse=True)\n",
    "print(complex_list)"
   ]
  },
  {
   "cell_type": "markdown",
   "id": "674f8d21",
   "metadata": {},
   "source": [
    "15. **`complex_list`에서 '튜플'을 삭제하세요**\n",
    "```python\n",
    "[1, 2, 3, [6, 5, 4], [7, 8]]\n",
    "```"
   ]
  },
  {
   "cell_type": "code",
   "execution_count": 116,
   "id": "9fd0c06e",
   "metadata": {},
   "outputs": [],
   "source": [
    "complex_list[4] = list(complex_list[4])"
   ]
  },
  {
   "cell_type": "code",
   "execution_count": 117,
   "id": "47a257f8",
   "metadata": {},
   "outputs": [
    {
     "name": "stdout",
     "output_type": "stream",
     "text": [
      "[1, 2, 3, [6, 5, 4], [7, 8]]\n"
     ]
    }
   ],
   "source": [
    "complex_list[4].remove('튜플')\n",
    "print(complex_list)"
   ]
  },
  {
   "cell_type": "markdown",
   "id": "ea115721",
   "metadata": {},
   "source": [
    "16.**변수 t에 튜플 `(10, 20, 30, 40, 50)`을 만들고 최대값과 최소값을 결과 형식에 맞게 출력하세요.**  \n",
    "```python\n",
    "(10, 20, 30, 40, 50)\n",
    "최대값: 50 최솟값: 10\n",
    "```"
   ]
  },
  {
   "cell_type": "code",
   "execution_count": 119,
   "id": "70e0c3ee",
   "metadata": {},
   "outputs": [
    {
     "name": "stdout",
     "output_type": "stream",
     "text": [
      "(10, 20, 30, 40, 50)\n",
      "최대값:  50 최솟값:  10\n"
     ]
    }
   ],
   "source": [
    "t = (10, 20, 30, 40, 50)\n",
    "print(t)\n",
    "print('최대값: ',max(t),'최솟값: ',min(t))"
   ]
  },
  {
   "cell_type": "markdown",
   "id": "7ce95e67",
   "metadata": {},
   "source": [
    "17.**튜플 `t`에서 모든 요소의 합을 출력하세요.**  \n",
    "```python\n",
    "150\n",
    "```"
   ]
  },
  {
   "cell_type": "code",
   "execution_count": 125,
   "id": "3443ba2a",
   "metadata": {},
   "outputs": [
    {
     "name": "stdout",
     "output_type": "stream",
     "text": [
      "150\n"
     ]
    }
   ],
   "source": [
    "print(sum(t))"
   ]
  },
  {
   "cell_type": "markdown",
   "id": "ab804deb",
   "metadata": {},
   "source": [
    "18.**튜플 `t`에서 두 번째 요소(20)을 `\"Python\"`으로 변경하고 출력하세요.**  \n",
    "```python\n",
    "(10, 'Python', 30, 40, 50)\n",
    "```"
   ]
  },
  {
   "cell_type": "code",
   "execution_count": 130,
   "id": "a8c2150f",
   "metadata": {},
   "outputs": [
    {
     "name": "stdout",
     "output_type": "stream",
     "text": [
      "[10, 20, 30, 40, 50]\n"
     ]
    }
   ],
   "source": [
    "t = list(t)\n",
    "print(t)"
   ]
  },
  {
   "cell_type": "code",
   "execution_count": 131,
   "id": "c54f4b85",
   "metadata": {},
   "outputs": [
    {
     "ename": "TypeError",
     "evalue": "insert expected 2 arguments, got 1",
     "output_type": "error",
     "traceback": [
      "\u001b[1;31m---------------------------------------------------------------------------\u001b[0m",
      "\u001b[1;31mTypeError\u001b[0m                                 Traceback (most recent call last)",
      "Cell \u001b[1;32mIn[131], line 1\u001b[0m\n\u001b[1;32m----> 1\u001b[0m \u001b[43mt\u001b[49m\u001b[38;5;241;43m.\u001b[39;49m\u001b[43minsert\u001b[49m\u001b[43m(\u001b[49m\u001b[38;5;124;43m\"\u001b[39;49m\u001b[38;5;124;43mPython\u001b[39;49m\u001b[38;5;124;43m\"\u001b[39;49m\u001b[43m)\u001b[49m\n\u001b[0;32m      2\u001b[0m \u001b[38;5;28mprint\u001b[39m(t)\n",
      "\u001b[1;31mTypeError\u001b[0m: insert expected 2 arguments, got 1"
     ]
    }
   ],
   "source": [
    "t.insert(\"Python\")\n",
    "print(t)"
   ]
  },
  {
   "cell_type": "markdown",
   "id": "2e117188",
   "metadata": {},
   "source": [
    "19.**튜플 t에 1,2,3,4,5를 list로 변경 없이 추가하고 출력하세요**\n",
    "```python\n",
    "(10, 'Python', 30, 40, 50, 1, 2, 3, 4, 5)\n",
    "```"
   ]
  },
  {
   "cell_type": "code",
   "execution_count": null,
   "id": "291c7ce9",
   "metadata": {},
   "outputs": [],
   "source": [
    "t+(1,2,3,4,5)"
   ]
  },
  {
   "cell_type": "markdown",
   "id": "187dd6d0",
   "metadata": {},
   "source": [
    "20. **`'튜플 t'`의 요소를 2배로 늘리세요.**\n",
    "```python\n",
    "(10, 'Python', 30, 40, 50, 1, 2, 3, 4, 5, 10, 'Python', 30, 40, 50, 1, 2, 3, 4, 5)\n",
    "```"
   ]
  },
  {
   "cell_type": "code",
   "execution_count": null,
   "id": "69e34b7b",
   "metadata": {},
   "outputs": [],
   "source": [
    "t*2"
   ]
  }
 ],
 "metadata": {
  "kernelspec": {
   "display_name": "Python 3 (ipykernel)",
   "language": "python",
   "name": "python3"
  },
  "language_info": {
   "codemirror_mode": {
    "name": "ipython",
    "version": 3
   },
   "file_extension": ".py",
   "mimetype": "text/x-python",
   "name": "python",
   "nbconvert_exporter": "python",
   "pygments_lexer": "ipython3",
   "version": "3.9.21"
  }
 },
 "nbformat": 4,
 "nbformat_minor": 5
}
