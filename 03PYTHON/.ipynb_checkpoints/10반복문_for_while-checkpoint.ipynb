{
 "cells": [
  {
   "cell_type": "markdown",
   "id": "a4496d9f",
   "metadata": {},
   "source": [
    "# 반복문 for, while\n",
    "* 반복문은 동일한 작업을 여러번 반복해야할 경우 사용\n",
    "* for, while 두 종류의 반복문이 있음\n",
    "* for는 **반복횟수가 정해져있는 경우** 사용-> 시퀀스 자료형\n",
    "* while은 반복 횟수가 정해져 있지 않을(무한반복) 때 사용 -> 무한반복을 시키되 특정조건을 만나면 멈추는"
   ]
  },
  {
   "cell_type": "markdown",
   "id": "6c3f1b73",
   "metadata": {},
   "source": [
    "## for 반복문: 반복할 횟수가 정해져 있는 경우\n",
    "for 변수1, 변수2 in 반복할 객체/자료(문자열, 리스트 ,튜플, 딕셔너리): <br>\n",
    "____(공백 4개)반복할 코드"
   ]
  },
  {
   "cell_type": "code",
   "execution_count": 1,
   "id": "4f8eb03d",
   "metadata": {},
   "outputs": [],
   "source": [
    "#숫자 생성 함수 .range(시작,끝, step)"
   ]
  },
  {
   "cell_type": "code",
   "execution_count": 2,
   "id": "ab6f8e1f",
   "metadata": {},
   "outputs": [
    {
     "name": "stdout",
     "output_type": "stream",
     "text": [
      "1 2 3 4 5 6 7 8 9 10 "
     ]
    }
   ],
   "source": [
    "# for 문을 이용해서 숫자 1-10을 출력\n",
    "for num in range(1,11):\n",
    "    print(num, end=\" \")"
   ]
  },
  {
   "cell_type": "markdown",
   "id": "14690474",
   "metadata": {},
   "source": [
    "* 순서가 있는 자료형(문자열, 리스트, 튜플) + 순서는 없지만 dict도 반복문에서 사용 가능"
   ]
  },
  {
   "cell_type": "code",
   "execution_count": 3,
   "id": "324dea62",
   "metadata": {},
   "outputs": [
    {
     "name": "stdout",
     "output_type": "stream",
     "text": [
      "파    이    썬    은         문    자    열    을         반    복    문    에         넣    어         출    력    가    능    "
     ]
    }
   ],
   "source": [
    "# 문자열 \n",
    "for char in \"파이썬은 문자열을 반복문에 넣어 출력가능\":\n",
    "    print(char, end=\"    \")"
   ]
  },
  {
   "cell_type": "code",
   "execution_count": 4,
   "id": "f97e43f8",
   "metadata": {},
   "outputs": [
    {
     "name": "stdout",
     "output_type": "stream",
     "text": [
      "1\n",
      "2\n",
      "3\n",
      "4\n",
      "사\n",
      "오\n",
      "[6, 7, 8]\n",
      "(8, 9, 10)\n",
      "{'key': 'value'}\n"
     ]
    }
   ],
   "source": [
    "# 리스트\n",
    "for l_item in [1,2,3,4,\"사\",\"오\", [6,7,8],(8,9,10), {\"key\":\"value\"}]:\n",
    "    print(l_item)"
   ]
  },
  {
   "cell_type": "code",
   "execution_count": 5,
   "id": "74523e45",
   "metadata": {},
   "outputs": [
    {
     "name": "stdout",
     "output_type": "stream",
     "text": [
      "1\n",
      "2\n",
      "3\n",
      "4\n",
      "사\n",
      "오\n",
      "[6, 7, 8]\n",
      "(8, 9, 10)\n",
      "{'key': 'value'}\n"
     ]
    }
   ],
   "source": [
    "# 튜플\n",
    "for t_item in (1,2,3,4,\"사\",\"오\", [6,7,8],(8,9,10),{\"key\":\"value\"}):\n",
    "    print(t_item)"
   ]
  },
  {
   "cell_type": "code",
   "execution_count": 6,
   "id": "904cbd61",
   "metadata": {},
   "outputs": [],
   "source": [
    "d = dict(이름=\"홍길동\", 나이=40, 주소=\"서울\", 전화번호=\"010-1111-1111\")"
   ]
  },
  {
   "cell_type": "code",
   "execution_count": 7,
   "id": "50d422f8",
   "metadata": {},
   "outputs": [
    {
     "data": {
      "text/plain": [
       "{'이름': '홍길동', '나이': 40, '주소': '서울', '전화번호': '010-1111-1111'}"
      ]
     },
     "execution_count": 7,
     "metadata": {},
     "output_type": "execute_result"
    }
   ],
   "source": [
    "d"
   ]
  },
  {
   "cell_type": "code",
   "execution_count": 8,
   "id": "c2733cf2",
   "metadata": {},
   "outputs": [
    {
     "name": "stdout",
     "output_type": "stream",
     "text": [
      "홍길동\n",
      "40\n",
      "서울\n",
      "010-1111-1111\n"
     ]
    }
   ],
   "source": [
    "for item in d:\n",
    "    print(d.get(item, \"key 없음\"))"
   ]
  },
  {
   "cell_type": "code",
   "execution_count": 9,
   "id": "bac6ce3a",
   "metadata": {},
   "outputs": [
    {
     "name": "stdout",
     "output_type": "stream",
     "text": [
      "홍길동\n",
      "40\n",
      "서울\n",
      "010-1111-1111\n"
     ]
    }
   ],
   "source": [
    "for key in d:\n",
    "    print(d[key])"
   ]
  },
  {
   "cell_type": "code",
   "execution_count": 10,
   "id": "4ac03b9a",
   "metadata": {},
   "outputs": [
    {
     "name": "stdout",
     "output_type": "stream",
     "text": [
      "이름\n",
      "나이\n",
      "주소\n",
      "전화번호\n"
     ]
    }
   ],
   "source": [
    "for item in d.keys():\n",
    "    print(item)"
   ]
  },
  {
   "cell_type": "code",
   "execution_count": 11,
   "id": "c8c60c4b",
   "metadata": {},
   "outputs": [
    {
     "name": "stdout",
     "output_type": "stream",
     "text": [
      "홍길동\n",
      "40\n",
      "서울\n",
      "010-1111-1111\n"
     ]
    }
   ],
   "source": [
    "for item in d.values():\n",
    "    print(item)"
   ]
  },
  {
   "cell_type": "code",
   "execution_count": 12,
   "id": "ed16cc3d",
   "metadata": {
    "scrolled": true
   },
   "outputs": [
    {
     "name": "stdout",
     "output_type": "stream",
     "text": [
      "이름 홍길동\n",
      "나이 40\n",
      "주소 서울\n",
      "전화번호 010-1111-1111\n"
     ]
    }
   ],
   "source": [
    "for key, value in d.items(): # 이런 함수들이 있는 이유 : 반복문을 잘 돌리기 위해서. 자동화\n",
    "    print(key,value)"
   ]
  },
  {
   "cell_type": "markdown",
   "id": "0f02ef89",
   "metadata": {},
   "source": [
    "* for 반복문을 이용해서 1부터 10까지 정수를 더한 합을 출력하세요\n",
    "    * 1부터 10까지 숫자를 만들어서 반복문에 넣어야함\n",
    "    * 1-10 더함\n",
    "    * 누적덧셈을 한 결과를 출력"
   ]
  },
  {
   "cell_type": "code",
   "execution_count": 13,
   "id": "59cc3965",
   "metadata": {},
   "outputs": [
    {
     "name": "stdout",
     "output_type": "stream",
     "text": [
      "1\n",
      "2\n",
      "3\n",
      "4\n",
      "5\n",
      "6\n",
      "7\n",
      "8\n",
      "9\n",
      "10\n"
     ]
    }
   ],
   "source": [
    "for num in range(1,11):\n",
    "    print(num)"
   ]
  },
  {
   "cell_type": "code",
   "execution_count": 14,
   "id": "1ddc495f",
   "metadata": {},
   "outputs": [
    {
     "name": "stdout",
     "output_type": "stream",
     "text": [
      "1\n",
      "3\n",
      "6\n",
      "10\n",
      "15\n",
      "21\n",
      "28\n",
      "36\n",
      "45\n",
      "55\n"
     ]
    }
   ],
   "source": [
    "hap = 0\n",
    "for num in range(1,11):\n",
    "    hap = hap + num\n",
    "    print(hap)"
   ]
  },
  {
   "cell_type": "code",
   "execution_count": 15,
   "id": "c9ef9122",
   "metadata": {},
   "outputs": [
    {
     "name": "stdout",
     "output_type": "stream",
     "text": [
      "55\n"
     ]
    }
   ],
   "source": [
    "hap = 0\n",
    "for num in range(1,11):\n",
    "    hap = hap + num\n",
    "print(hap) # print문 위치 주의"
   ]
  },
  {
   "cell_type": "code",
   "execution_count": 16,
   "id": "a94b05ef",
   "metadata": {
    "scrolled": false
   },
   "outputs": [
    {
     "name": "stdout",
     "output_type": "stream",
     "text": [
      "hap: 0 + num: 1: 1\n",
      "hap: 1 + num: 2: 3\n",
      "hap: 3 + num: 3: 6\n",
      "hap: 6 + num: 4: 10\n",
      "hap: 10 + num: 5: 15\n",
      "hap: 15 + num: 6: 21\n",
      "hap: 21 + num: 7: 28\n",
      "hap: 28 + num: 8: 36\n",
      "hap: 36 + num: 9: 45\n",
      "hap: 45 + num: 10: 55\n"
     ]
    }
   ],
   "source": [
    "hap = 0\n",
    "for num in range(1,11):\n",
    "    print(f\"hap: {hap} + num: {num}\",end=\": \")\n",
    "    hap += num # hap = hap +num\n",
    "    print(f\"{hap}\")"
   ]
  },
  {
   "cell_type": "code",
   "execution_count": 17,
   "id": "3a0bae56",
   "metadata": {},
   "outputs": [
    {
     "name": "stdout",
     "output_type": "stream",
     "text": [
      "hap: 0 + num: 1: 1\n",
      "hap: 0 + num: 2: 2\n",
      "hap: 0 + num: 3: 3\n",
      "hap: 0 + num: 4: 4\n",
      "hap: 0 + num: 5: 5\n",
      "hap: 0 + num: 6: 6\n",
      "hap: 0 + num: 7: 7\n",
      "hap: 0 + num: 8: 8\n",
      "hap: 0 + num: 9: 9\n",
      "hap: 0 + num: 10: 10\n"
     ]
    }
   ],
   "source": [
    "for num in range(1,11):\n",
    "    hap = 0 # 중간에 하면 합을 초기화\n",
    "    print(f\"hap: {hap} + num: {num}\",end=\": \")\n",
    "    hap += num # hap = hap +num\n",
    "    print(f\"{hap}\")"
   ]
  },
  {
   "cell_type": "markdown",
   "id": "19e76ead",
   "metadata": {},
   "source": [
    "* 1부터 50까지 수 중에서 짝수인 수의 합을 구하시오.\n",
    "* 1-50 수를 만들기(range(1-51))\n",
    "* 홀수, 짝수 구분 if, %2 == 0\n",
    "* 짝수일 때 누적합, 결과 저장할 변수 hap\n",
    "* 최종 결과 출력"
   ]
  },
  {
   "cell_type": "code",
   "execution_count": 18,
   "id": "83d32aeb",
   "metadata": {},
   "outputs": [
    {
     "name": "stdout",
     "output_type": "stream",
     "text": [
      "1\n",
      "2\n",
      "3\n",
      "4\n",
      "5\n",
      "6\n",
      "7\n",
      "8\n",
      "9\n",
      "10\n",
      "11\n",
      "12\n",
      "13\n",
      "14\n",
      "15\n",
      "16\n",
      "17\n",
      "18\n",
      "19\n",
      "20\n",
      "21\n",
      "22\n",
      "23\n",
      "24\n",
      "25\n",
      "26\n",
      "27\n",
      "28\n",
      "29\n",
      "30\n",
      "31\n",
      "32\n",
      "33\n",
      "34\n",
      "35\n",
      "36\n",
      "37\n",
      "38\n",
      "39\n",
      "40\n",
      "41\n",
      "42\n",
      "43\n",
      "44\n",
      "45\n",
      "46\n",
      "47\n",
      "48\n",
      "49\n",
      "50\n"
     ]
    }
   ],
   "source": [
    "for num in range(1,51):\n",
    "    print(num)"
   ]
  },
  {
   "cell_type": "code",
   "execution_count": 19,
   "id": "7d7be6a9",
   "metadata": {},
   "outputs": [
    {
     "name": "stdout",
     "output_type": "stream",
     "text": [
      "hap:0, num:2\n",
      "hap:2, num:4\n",
      "hap:6, num:6\n",
      "hap:12, num:8\n",
      "hap:20, num:10\n",
      "hap:30, num:12\n",
      "hap:42, num:14\n",
      "hap:56, num:16\n",
      "hap:72, num:18\n",
      "hap:90, num:20\n",
      "hap:110, num:22\n",
      "hap:132, num:24\n",
      "hap:156, num:26\n",
      "hap:182, num:28\n",
      "hap:210, num:30\n",
      "hap:240, num:32\n",
      "hap:272, num:34\n",
      "hap:306, num:36\n",
      "hap:342, num:38\n",
      "hap:380, num:40\n",
      "hap:420, num:42\n",
      "hap:462, num:44\n",
      "hap:506, num:46\n",
      "hap:552, num:48\n",
      "hap:600, num:50\n",
      "650\n"
     ]
    }
   ],
   "source": [
    "hap = 0\n",
    "for num in range(1,51):\n",
    "    if num%2 == 0:\n",
    "        print(f\"hap:{hap}, num:{num}\")\n",
    "        hap += num\n",
    "print(hap)"
   ]
  },
  {
   "cell_type": "markdown",
   "id": "3f660ea6",
   "metadata": {},
   "source": [
    "* 1-100수를 만들고 그 중에서 30-70까지만 더해서 출력하세요\n",
    "* 2가지 방법을 이용하여, if, 슬라이싱"
   ]
  },
  {
   "cell_type": "code",
   "execution_count": 20,
   "id": "7ded4b95",
   "metadata": {},
   "outputs": [
    {
     "name": "stdout",
     "output_type": "stream",
     "text": [
      "1 2 3 4 5 6 7 8 9 10 11 12 13 14 15 16 17 18 19 20 21 22 23 24 25 26 27 28 29 30 31 32 33 34 35 36 37 38 39 40 41 42 43 44 45 46 47 48 49 50 51 52 53 54 55 56 57 58 59 60 61 62 63 64 65 66 67 68 69 70 71 72 73 74 75 76 77 78 79 80 81 82 83 84 85 86 87 88 89 90 91 92 93 94 95 96 97 98 99 100 "
     ]
    }
   ],
   "source": [
    "for num2 in range(1,101):\n",
    "    print(num2, end=\" \")"
   ]
  },
  {
   "cell_type": "code",
   "execution_count": 21,
   "id": "da0bee12",
   "metadata": {},
   "outputs": [
    {
     "name": "stdout",
     "output_type": "stream",
     "text": [
      "합:30,num:30\n",
      "합:61,num:31\n",
      "합:93,num:32\n",
      "합:126,num:33\n",
      "합:160,num:34\n",
      "합:195,num:35\n",
      "합:231,num:36\n",
      "합:268,num:37\n",
      "합:306,num:38\n",
      "합:345,num:39\n",
      "합:385,num:40\n",
      "합:426,num:41\n",
      "합:468,num:42\n",
      "합:511,num:43\n",
      "합:555,num:44\n",
      "합:600,num:45\n",
      "합:646,num:46\n",
      "합:693,num:47\n",
      "합:741,num:48\n",
      "합:790,num:49\n",
      "합:840,num:50\n",
      "합:891,num:51\n",
      "합:943,num:52\n",
      "합:996,num:53\n",
      "합:1050,num:54\n",
      "합:1105,num:55\n",
      "합:1161,num:56\n",
      "합:1218,num:57\n",
      "합:1276,num:58\n",
      "합:1335,num:59\n",
      "합:1395,num:60\n",
      "합:1456,num:61\n",
      "합:1518,num:62\n",
      "합:1581,num:63\n",
      "합:1645,num:64\n",
      "합:1710,num:65\n",
      "합:1776,num:66\n",
      "합:1843,num:67\n",
      "합:1911,num:68\n",
      "합:1980,num:69\n",
      "합:2050,num:70\n",
      "합:2121,num:71\n",
      "합:2193,num:72\n",
      "합:2266,num:73\n",
      "합:2340,num:74\n",
      "합:2415,num:75\n",
      "합:2491,num:76\n",
      "합:2568,num:77\n",
      "합:2646,num:78\n",
      "합:2725,num:79\n",
      "합:2805,num:80\n",
      "합:2886,num:81\n",
      "합:2968,num:82\n",
      "합:3051,num:83\n",
      "합:3135,num:84\n",
      "합:3220,num:85\n",
      "합:3306,num:86\n",
      "합:3393,num:87\n",
      "합:3481,num:88\n",
      "합:3570,num:89\n",
      "합:3660,num:90\n",
      "합:3751,num:91\n",
      "합:3843,num:92\n",
      "합:3936,num:93\n",
      "합:4030,num:94\n",
      "합:4125,num:95\n",
      "합:4221,num:96\n",
      "합:4318,num:97\n",
      "합:4416,num:98\n",
      "합:4515,num:99\n",
      "합:4615,num:100\n",
      "4615\n"
     ]
    }
   ],
   "source": [
    "hap = 0\n",
    "for num2 in range(1,101):\n",
    "    if 30 <= num2 <= 100:\n",
    "        hap += num2\n",
    "        print(f'합:{hap},num:{num2}')\n",
    "print(hap)"
   ]
  },
  {
   "cell_type": "code",
   "execution_count": 22,
   "id": "a8e19146",
   "metadata": {},
   "outputs": [
    {
     "name": "stdout",
     "output_type": "stream",
     "text": [
      "4615\n"
     ]
    }
   ],
   "source": [
    "hap = 0\n",
    "for num2 in range(1,101):\n",
    "    if 30 <= num2 <= 100:\n",
    "        hap += num2\n",
    "print(hap)"
   ]
  },
  {
   "cell_type": "code",
   "execution_count": 23,
   "id": "5ec6cb2a",
   "metadata": {},
   "outputs": [
    {
     "name": "stdout",
     "output_type": "stream",
     "text": [
      "[1, 2, 3, 4, 5, 6, 7, 8, 9, 10, 11, 12, 13, 14, 15, 16, 17, 18, 19, 20, 21, 22, 23, 24, 25, 26, 27, 28, 29, 30, 31, 32, 33, 34, 35, 36, 37, 38, 39, 40, 41, 42, 43, 44, 45, 46, 47, 48, 49, 50, 51, 52, 53, 54, 55, 56, 57, 58, 59, 60, 61, 62, 63, 64, 65, 66, 67, 68, 69, 70, 71, 72, 73, 74, 75, 76, 77, 78, 79, 80, 81, 82, 83, 84, 85, 86, 87, 88, 89, 90, 91, 92, 93, 94, 95, 96, 97, 98, 99, 100]\n"
     ]
    }
   ],
   "source": [
    "num3 = list(range(1,101))\n",
    "print(num3)"
   ]
  },
  {
   "cell_type": "code",
   "execution_count": 24,
   "id": "381825aa",
   "metadata": {},
   "outputs": [
    {
     "data": {
      "text/plain": [
       "4615"
      ]
     },
     "execution_count": 24,
     "metadata": {},
     "output_type": "execute_result"
    }
   ],
   "source": [
    "sum(num3[29:101])"
   ]
  },
  {
   "cell_type": "code",
   "execution_count": 25,
   "id": "6bc2c35b",
   "metadata": {},
   "outputs": [
    {
     "name": "stdout",
     "output_type": "stream",
     "text": [
      "hap:30, num:30\n",
      "hap:61, num:31\n",
      "hap:93, num:32\n",
      "hap:126, num:33\n",
      "hap:160, num:34\n",
      "hap:195, num:35\n",
      "hap:231, num:36\n",
      "hap:268, num:37\n",
      "hap:306, num:38\n",
      "hap:345, num:39\n",
      "hap:385, num:40\n",
      "hap:426, num:41\n",
      "hap:468, num:42\n",
      "hap:511, num:43\n",
      "hap:555, num:44\n",
      "hap:600, num:45\n",
      "hap:646, num:46\n",
      "hap:693, num:47\n",
      "hap:741, num:48\n",
      "hap:790, num:49\n",
      "hap:840, num:50\n",
      "hap:891, num:51\n",
      "hap:943, num:52\n",
      "hap:996, num:53\n",
      "hap:1050, num:54\n",
      "hap:1105, num:55\n",
      "hap:1161, num:56\n",
      "hap:1218, num:57\n",
      "hap:1276, num:58\n",
      "hap:1335, num:59\n",
      "hap:1395, num:60\n",
      "hap:1456, num:61\n",
      "hap:1518, num:62\n",
      "hap:1581, num:63\n",
      "hap:1645, num:64\n",
      "hap:1710, num:65\n",
      "hap:1776, num:66\n",
      "hap:1843, num:67\n",
      "hap:1911, num:68\n",
      "hap:1980, num:69\n",
      "hap:2050, num:70\n",
      "2050\n"
     ]
    }
   ],
   "source": [
    "hap = 0\n",
    "for num4 in range(1,101)[29:70]:\n",
    "    hap += num4\n",
    "    print(f'hap:{hap}, num:{num4}')\n",
    "print(hap)"
   ]
  },
  {
   "cell_type": "markdown",
   "id": "243d0ac0",
   "metadata": {},
   "source": [
    "* 100-1까지 더하는 반복문을 만드세요\n",
    "* range에서 역순으로 숫자 생성\n",
    "* range에서 숫자생성 후 뒤집는 방법"
   ]
  },
  {
   "cell_type": "code",
   "execution_count": 26,
   "id": "8a810a12",
   "metadata": {
    "scrolled": true
   },
   "outputs": [
    {
     "name": "stdout",
     "output_type": "stream",
     "text": [
      "100 99 98 97 96 95 94 93 92 91 90 89 88 87 86 85 84 83 82 81 80 79 78 77 76 75 74 73 72 71 70 69 68 67 66 65 64 63 62 61 60 59 58 57 56 55 54 53 52 51 50 49 48 47 46 45 44 43 42 41 40 39 38 37 36 35 34 33 32 31 30 29 28 27 26 25 24 23 22 21 20 19 18 17 16 15 14 13 12 11 10 9 8 7 6 5 4 3 2 1 5050\n"
     ]
    }
   ],
   "source": [
    "hap = 0\n",
    "for num5 in range(100,0,-1):\n",
    "    print (num5, end=\" \")\n",
    "    hap += num5\n",
    "print(hap)"
   ]
  },
  {
   "cell_type": "code",
   "execution_count": 27,
   "id": "21a722fa",
   "metadata": {},
   "outputs": [
    {
     "ename": "TypeError",
     "evalue": "'NoneType' object is not iterable",
     "output_type": "error",
     "traceback": [
      "\u001b[1;31m---------------------------------------------------------------------------\u001b[0m",
      "\u001b[1;31mTypeError\u001b[0m                                 Traceback (most recent call last)",
      "Cell \u001b[1;32mIn[27], line 3\u001b[0m\n\u001b[0;32m      1\u001b[0m \u001b[38;5;66;03m# 슬라이싱을 이용해서 순서뒤집기\u001b[39;00m\n\u001b[0;32m      2\u001b[0m hap \u001b[38;5;241m=\u001b[39m \u001b[38;5;241m0\u001b[39m\n\u001b[1;32m----> 3\u001b[0m \u001b[38;5;28;01mfor\u001b[39;00m num5 \u001b[38;5;129;01min\u001b[39;00m \u001b[38;5;28mlist\u001b[39m(\u001b[38;5;28mrange\u001b[39m(\u001b[38;5;241m1\u001b[39m,\u001b[38;5;241m101\u001b[39m))\u001b[38;5;241m.\u001b[39msort(reverse\u001b[38;5;241m=\u001b[39m\u001b[38;5;28;01mTrue\u001b[39;00m):\n\u001b[0;32m      4\u001b[0m     \u001b[38;5;28mprint\u001b[39m(num5)\n\u001b[0;32m      5\u001b[0m \u001b[38;5;66;03m#     hap += num5\u001b[39;00m\n\u001b[0;32m      6\u001b[0m \u001b[38;5;66;03m# print(hap)\u001b[39;00m\n",
      "\u001b[1;31mTypeError\u001b[0m: 'NoneType' object is not iterable"
     ]
    }
   ],
   "source": [
    "# 슬라이싱을 이용해서 순서뒤집기\n",
    "hap = 0\n",
    "for num5 in list(range(1,101)).sort(reverse=True):\n",
    "    print(num5)\n",
    "#     hap += num5\n",
    "# print(hap)"
   ]
  },
  {
   "cell_type": "code",
   "execution_count": 28,
   "id": "2f0e3a48",
   "metadata": {},
   "outputs": [
    {
     "name": "stdout",
     "output_type": "stream",
     "text": [
      "100 99 98 97 96 95 94 93 92 91 90 89 88 87 86 85 84 83 82 81 80 79 78 77 76 75 74 73 72 71 70 69 68 67 66 65 64 63 62 61 60 59 58 57 56 55 54 53 52 51 50 49 48 47 46 45 44 43 42 41 40 39 38 37 36 35 34 33 32 31 30 29 28 27 26 25 24 23 22 21 20 19 18 17 16 15 14 13 12 11 10 9 8 7 6 5 4 3 2 1 5050\n"
     ]
    }
   ],
   "source": [
    "hap = 0\n",
    "for num5 in range(1,101)[::-1]:\n",
    "    print (num5, end=\" \")\n",
    "    hap += num5\n",
    "print(hap)"
   ]
  },
  {
   "cell_type": "code",
   "execution_count": 29,
   "id": "e18d55ec",
   "metadata": {},
   "outputs": [
    {
     "name": "stdout",
     "output_type": "stream",
     "text": [
      "5050\n"
     ]
    }
   ],
   "source": [
    "hap = 0\n",
    "for num5 in reversed(range(1,101)):\n",
    "    hap += num5\n",
    "print(hap)"
   ]
  },
  {
   "cell_type": "markdown",
   "id": "aa26f9ec",
   "metadata": {},
   "source": [
    "# enumaerte() : 반복문에서 자료의 인덱스를 만들어주는 함수\n",
    "* 인덱스 튜플 자료형으로 추출해줌"
   ]
  },
  {
   "cell_type": "code",
   "execution_count": 30,
   "id": "00184dfd",
   "metadata": {},
   "outputs": [],
   "source": [
    "s = \"enumerate 함수는 반복문에서 index를 만들어 출력해주는 함수입니다.\""
   ]
  },
  {
   "cell_type": "code",
   "execution_count": 31,
   "id": "17340092",
   "metadata": {},
   "outputs": [
    {
     "name": "stdout",
     "output_type": "stream",
     "text": [
      "e n u m e r a t e   함 수 는   반 복 문 에 서   i n d e x 를   만 들 어   출 력 해 주 는   함 수 입 니 다 . "
     ]
    }
   ],
   "source": [
    "for i in s:\n",
    "    print(i, end=\" \")"
   ]
  },
  {
   "cell_type": "code",
   "execution_count": 32,
   "id": "a74c16d0",
   "metadata": {},
   "outputs": [
    {
     "name": "stdout",
     "output_type": "stream",
     "text": [
      "(0, 'e')\n",
      "(1, 'n')\n",
      "(2, 'u')\n",
      "(3, 'm')\n",
      "(4, 'e')\n",
      "(5, 'r')\n",
      "(6, 'a')\n",
      "(7, 't')\n",
      "(8, 'e')\n",
      "(9, ' ')\n",
      "(10, '함')\n",
      "(11, '수')\n",
      "(12, '는')\n",
      "(13, ' ')\n",
      "(14, '반')\n",
      "(15, '복')\n",
      "(16, '문')\n",
      "(17, '에')\n",
      "(18, '서')\n",
      "(19, ' ')\n",
      "(20, 'i')\n",
      "(21, 'n')\n",
      "(22, 'd')\n",
      "(23, 'e')\n",
      "(24, 'x')\n",
      "(25, '를')\n",
      "(26, ' ')\n",
      "(27, '만')\n",
      "(28, '들')\n",
      "(29, '어')\n",
      "(30, ' ')\n",
      "(31, '출')\n",
      "(32, '력')\n",
      "(33, '해')\n",
      "(34, '주')\n",
      "(35, '는')\n",
      "(36, ' ')\n",
      "(37, '함')\n",
      "(38, '수')\n",
      "(39, '입')\n",
      "(40, '니')\n",
      "(41, '다')\n",
      "(42, '.')\n"
     ]
    }
   ],
   "source": [
    "for i in enumerate(s):\n",
    "    print(i)"
   ]
  },
  {
   "cell_type": "code",
   "execution_count": 33,
   "id": "f10c92de",
   "metadata": {},
   "outputs": [],
   "source": [
    "import time"
   ]
  },
  {
   "cell_type": "code",
   "execution_count": 34,
   "id": "7a30f64c",
   "metadata": {},
   "outputs": [
    {
     "name": "stdout",
     "output_type": "stream",
     "text": [
      "현재반복횟수: 24/43\r"
     ]
    },
    {
     "ename": "KeyboardInterrupt",
     "evalue": "",
     "output_type": "error",
     "traceback": [
      "\u001b[1;31m---------------------------------------------------------------------------\u001b[0m",
      "\u001b[1;31mKeyboardInterrupt\u001b[0m                         Traceback (most recent call last)",
      "Cell \u001b[1;32mIn[34], line 3\u001b[0m\n\u001b[0;32m      1\u001b[0m \u001b[38;5;28;01mfor\u001b[39;00m idx, i \u001b[38;5;129;01min\u001b[39;00m \u001b[38;5;28menumerate\u001b[39m(s):\n\u001b[0;32m      2\u001b[0m     \u001b[38;5;28mprint\u001b[39m(\u001b[38;5;124mf\u001b[39m\u001b[38;5;124m\"\u001b[39m\u001b[38;5;124m현재반복횟수: \u001b[39m\u001b[38;5;132;01m{\u001b[39;00midx\u001b[38;5;241m+\u001b[39m\u001b[38;5;241m1\u001b[39m\u001b[38;5;132;01m}\u001b[39;00m\u001b[38;5;124m/\u001b[39m\u001b[38;5;132;01m{\u001b[39;00m\u001b[38;5;28mlen\u001b[39m(s)\u001b[38;5;132;01m}\u001b[39;00m\u001b[38;5;124m\"\u001b[39m, end\u001b[38;5;241m=\u001b[39m\u001b[38;5;124m\"\u001b[39m\u001b[38;5;130;01m\\r\u001b[39;00m\u001b[38;5;124m\"\u001b[39m)\n\u001b[1;32m----> 3\u001b[0m     \u001b[43mtime\u001b[49m\u001b[38;5;241;43m.\u001b[39;49m\u001b[43msleep\u001b[49m\u001b[43m(\u001b[49m\u001b[38;5;241;43m1\u001b[39;49m\u001b[43m)\u001b[49m\n\u001b[0;32m      4\u001b[0m \u001b[38;5;66;03m#     print(idx,i)\u001b[39;00m\n",
      "\u001b[1;31mKeyboardInterrupt\u001b[0m: "
     ]
    }
   ],
   "source": [
    "for idx, i in enumerate(s):\n",
    "    print(f\"현재반복횟수: {idx+1}/{len(s)}\", end=\"\\r\")\n",
    "    time.sleep(1)\n",
    "#     print(idx,i)"
   ]
  },
  {
   "cell_type": "markdown",
   "id": "a00ae516",
   "metadata": {},
   "source": [
    "## continue, break\n",
    "* continue: 코드 실행을 건너뛰고 반복 계속 진행\n",
    "* breakL: 특정 조건이 되었을때 반복문 정지"
   ]
  },
  {
   "cell_type": "code",
   "execution_count": 35,
   "id": "2b47e4d9",
   "metadata": {},
   "outputs": [
    {
     "name": "stdout",
     "output_type": "stream",
     "text": [
      "1 n\n",
      "3 m\n",
      "5 r\n",
      "7 t\n",
      "9  \n",
      "11 수\n",
      "13  \n",
      "15 복\n"
     ]
    },
    {
     "ename": "KeyboardInterrupt",
     "evalue": "",
     "output_type": "error",
     "traceback": [
      "\u001b[1;31m---------------------------------------------------------------------------\u001b[0m",
      "\u001b[1;31mKeyboardInterrupt\u001b[0m                         Traceback (most recent call last)",
      "Cell \u001b[1;32mIn[35], line 9\u001b[0m\n\u001b[0;32m      7\u001b[0m         \u001b[38;5;28;01mif\u001b[39;00m idx \u001b[38;5;241m>\u001b[39m\u001b[38;5;241m=\u001b[39m \u001b[38;5;241m19\u001b[39m:\n\u001b[0;32m      8\u001b[0m             \u001b[38;5;28;01mbreak\u001b[39;00m \u001b[38;5;66;03m# 멈추도록 실행\u001b[39;00m\n\u001b[1;32m----> 9\u001b[0m     \u001b[43mtime\u001b[49m\u001b[38;5;241;43m.\u001b[39;49m\u001b[43msleep\u001b[49m\u001b[43m(\u001b[49m\u001b[38;5;241;43m1\u001b[39;49m\u001b[43m)\u001b[49m\n\u001b[0;32m     10\u001b[0m \u001b[38;5;66;03m#     print(idx,i)\u001b[39;00m\n",
      "\u001b[1;31mKeyboardInterrupt\u001b[0m: "
     ]
    }
   ],
   "source": [
    "for idx, i in enumerate(s):\n",
    "#    print(f\"현재반복횟수: {idx+1}/{len(s)}\", end=\"\\r\")\n",
    "    if idx %2 == 0:\n",
    "        continue # 아래쪽 코드 실행 없이 다시 반복\n",
    "    else:\n",
    "        print(idx,i)\n",
    "        if idx >= 19:\n",
    "            break # 멈추도록 실행\n",
    "    time.sleep(1)\n",
    "#     print(idx,i)"
   ]
  },
  {
   "cell_type": "markdown",
   "id": "7b412a2a",
   "metadata": {},
   "source": [
    "# while : 반복한 횟수가 정해지지 않은 경우\n",
    "* 무한반복 가능\n",
    "* 무한반복이 되지 않도록 조건식을 잘 짜주는것이 중요\n",
    "\n",
    "변수 선언 및 초기화\n",
    "while 조건식: <br>\n",
    "____반복할 코드 <br>\n",
    "____변수 증가/감소 코드 <br>\n",
    "____반복문이 종료될 조건 + break <br>"
   ]
  },
  {
   "cell_type": "markdown",
   "id": "b185c1cd",
   "metadata": {},
   "source": [
    "while 문으로 1-10까지 출력"
   ]
  },
  {
   "cell_type": "code",
   "execution_count": null,
   "id": "ab4e5cbb",
   "metadata": {},
   "outputs": [],
   "source": [
    "i = 1\n",
    "while i <= 10:\n",
    "    print(i,end=\" \")\n",
    "    i += 1"
   ]
  },
  {
   "cell_type": "markdown",
   "id": "2b58b5a5",
   "metadata": {},
   "source": [
    "* 20에서 1까지 더한 숫자를 출력"
   ]
  },
  {
   "cell_type": "code",
   "execution_count": null,
   "id": "d3fe6218",
   "metadata": {},
   "outputs": [],
   "source": [
    "i = 20\n",
    "hap =0\n",
    "while i >= 1:\n",
    "    print(i,end=\" \")\n",
    "    hap += i\n",
    "    i -= 1\n",
    "print(hap)"
   ]
  },
  {
   "cell_type": "markdown",
   "id": "89575835",
   "metadata": {},
   "source": [
    "* 1-50 까지의 수 중에서 3의배수이거나, 짝수인 수를 찾아서 더한 값을 출력하세요."
   ]
  },
  {
   "cell_type": "code",
   "execution_count": null,
   "id": "a3719fc6",
   "metadata": {},
   "outputs": [],
   "source": [
    "i2 = 1\n",
    "hap = 0\n",
    "while i2 < 50:\n",
    "        i2 += 1\n",
    "        print(f\"i2: {i2}, hap:{hap}\")"
   ]
  },
  {
   "cell_type": "code",
   "execution_count": null,
   "id": "127f6a08",
   "metadata": {},
   "outputs": [],
   "source": [
    "i2 = 1\n",
    "hap = 0\n",
    "while i2 <= 50:\n",
    "    if i2%3 == 0 or i2%2 == 0:\n",
    "        print(f\"i2: {i2}, hap:{hap}\")\n",
    "        hap += i2\n",
    "    i2 += 1\n",
    "print(hap)"
   ]
  },
  {
   "cell_type": "markdown",
   "id": "f65331af",
   "metadata": {},
   "source": [
    "## While의 무한반복\n",
    "* while 뒤의 조건이 True인 경우 무한반복\n",
    "* while문 내에서 if 조건문으로 break를 걸어주어야 멈춤"
   ]
  },
  {
   "cell_type": "code",
   "execution_count": null,
   "id": "d8fd5cbe",
   "metadata": {},
   "outputs": [],
   "source": [
    "while True:\n",
    "    print('무한반복',end=\" \")"
   ]
  },
  {
   "cell_type": "markdown",
   "id": "aa33253b",
   "metadata": {},
   "source": [
    "* 무한반복 후 while문 내에서 조건을 주어 멈추기 "
   ]
  },
  {
   "cell_type": "code",
   "execution_count": null,
   "id": "3a5f5348",
   "metadata": {},
   "outputs": [],
   "source": [
    "i = 1\n",
    "while True:\n",
    "    print(i,'무한반복', end=\" \")\n",
    "    if i >= 100:\n",
    "        break\n",
    "    i += 1"
   ]
  },
  {
   "cell_type": "markdown",
   "id": "5db8e7f0",
   "metadata": {},
   "source": [
    "* 무한반복이 되는 조건 : True\n",
    "* True가 되는 경우: 1, 정수, 실수, 문자열, list, tuple, dict, True, \" \"\n",
    "* False가 되는 경우: 0, 0.0, \"\",'',[],(),{}, False"
   ]
  },
  {
   "cell_type": "code",
   "execution_count": null,
   "id": "cdb0db7e",
   "metadata": {
    "scrolled": true
   },
   "outputs": [],
   "source": [
    "i = 1\n",
    "while \" \":\n",
    "    print(i,'무한반복', end=\" \")\n",
    "    if i >= 100:\n",
    "        break\n",
    "    i += 1"
   ]
  },
  {
   "cell_type": "code",
   "execution_count": null,
   "id": "ff1eb8b1",
   "metadata": {},
   "outputs": [],
   "source": [
    "i = 1\n",
    "while \"\":\n",
    "    print(i,'무한반복', end=\" \")\n",
    "    if i >= 100:\n",
    "        break\n",
    "    i += 1"
   ]
  },
  {
   "cell_type": "code",
   "execution_count": null,
   "id": "902e2442",
   "metadata": {},
   "outputs": [],
   "source": [
    "i = 1\n",
    "while ():\n",
    "    print(i,'무한반복', end=\" \")\n",
    "    if i >= 100:\n",
    "        break\n",
    "    i += 1"
   ]
  },
  {
   "cell_type": "markdown",
   "id": "b76153e0",
   "metadata": {},
   "source": [
    "# 중첩 반복문\n",
    "* 반복문을 2개 이상 겹쳐서 사용 하는것\n",
    "* 바늘 시계의 원리와 같음\n",
    "* 안쪽 반복문이 끝난 후 바깥쪽 반복문이 실행\n",
    "* 초침 -> 분침 -> 시침"
   ]
  },
  {
   "cell_type": "markdown",
   "id": "c607ae26",
   "metadata": {},
   "source": [
    "* 구구단 만들기 2중 중첩 for문\n",
    "* 2단 -9단\n",
    "* 1-9\n",
    "* 2*1 =2"
   ]
  },
  {
   "cell_type": "code",
   "execution_count": null,
   "id": "faf358b5",
   "metadata": {},
   "outputs": [],
   "source": [
    "\n",
    "for num1 in range(2,10):\n",
    "#     print(num1)\n",
    "    for num2 in range(1,10):\n",
    "        print(f\"{num1} X {num2} = \", num1*num2)"
   ]
  },
  {
   "cell_type": "markdown",
   "id": "16eb5704",
   "metadata": {},
   "source": [
    "* 반복문 3개로 시계 만들기\n",
    "* 초 : 00 -59\n",
    "* 분 : 00 -59\n",
    "* 시 : 00 -23\n",
    "* import time, time.sleep(0.2)"
   ]
  },
  {
   "cell_type": "code",
   "execution_count": 36,
   "id": "5b03a9eb",
   "metadata": {},
   "outputs": [],
   "source": [
    "import time"
   ]
  },
  {
   "cell_type": "code",
   "execution_count": 37,
   "id": "5c9906a8",
   "metadata": {},
   "outputs": [
    {
     "name": "stdout",
     "output_type": "stream",
     "text": [
      "00:31:37\r"
     ]
    },
    {
     "ename": "KeyboardInterrupt",
     "evalue": "",
     "output_type": "error",
     "traceback": [
      "\u001b[1;31m---------------------------------------------------------------------------\u001b[0m",
      "\u001b[1;31mKeyboardInterrupt\u001b[0m                         Traceback (most recent call last)",
      "Cell \u001b[1;32mIn[37], line 7\u001b[0m\n\u001b[0;32m      5\u001b[0m \u001b[38;5;28;01mfor\u001b[39;00m cho \u001b[38;5;129;01min\u001b[39;00m \u001b[38;5;28mrange\u001b[39m(\u001b[38;5;241m0\u001b[39m,\u001b[38;5;241m60\u001b[39m):\n\u001b[0;32m      6\u001b[0m     \u001b[38;5;28mprint\u001b[39m(\u001b[38;5;124mf\u001b[39m\u001b[38;5;124m\"\u001b[39m\u001b[38;5;132;01m{\u001b[39;00msi\u001b[38;5;132;01m:\u001b[39;00m\u001b[38;5;124m02d\u001b[39m\u001b[38;5;132;01m}\u001b[39;00m\u001b[38;5;124m:\u001b[39m\u001b[38;5;132;01m{\u001b[39;00mbun\u001b[38;5;132;01m:\u001b[39;00m\u001b[38;5;124m02\u001b[39m\u001b[38;5;132;01m}\u001b[39;00m\u001b[38;5;124m:\u001b[39m\u001b[38;5;132;01m{\u001b[39;00mcho\u001b[38;5;132;01m:\u001b[39;00m\u001b[38;5;124m02d\u001b[39m\u001b[38;5;132;01m}\u001b[39;00m\u001b[38;5;124m\"\u001b[39m, end\u001b[38;5;241m=\u001b[39m\u001b[38;5;124m\"\u001b[39m\u001b[38;5;130;01m\\r\u001b[39;00m\u001b[38;5;124m\"\u001b[39m)\n\u001b[1;32m----> 7\u001b[0m     \u001b[43mtime\u001b[49m\u001b[38;5;241;43m.\u001b[39;49m\u001b[43msleep\u001b[49m\u001b[43m(\u001b[49m\u001b[38;5;241;43m0.2\u001b[39;49m\u001b[43m)\u001b[49m\n",
      "\u001b[1;31mKeyboardInterrupt\u001b[0m: "
     ]
    }
   ],
   "source": [
    "for si in range(0,24):\n",
    "#     print(si, end=\" \")\n",
    "    for bun in range(0,60):\n",
    "#         print(cho, bun, end=\" \")\n",
    "        for cho in range(0,60):\n",
    "            print(f\"{si:02d}:{bun:02}:{cho:02d}\", end=\"\\r\")\n",
    "            time.sleep(0.2)"
   ]
  },
  {
   "cell_type": "markdown",
   "id": "9b418014",
   "metadata": {},
   "source": [
    "## 중첩반복문을 이용해서 다중 리스트 출력하기"
   ]
  },
  {
   "cell_type": "code",
   "execution_count": 53,
   "id": "598ba795",
   "metadata": {},
   "outputs": [],
   "source": [
    "l1 = []"
   ]
  },
  {
   "cell_type": "code",
   "execution_count": 54,
   "id": "8e215a16",
   "metadata": {},
   "outputs": [
    {
     "data": {
      "text/plain": [
       "[1, 2, 3, 4, 5]"
      ]
     },
     "execution_count": 54,
     "metadata": {},
     "output_type": "execute_result"
    }
   ],
   "source": [
    "list(range(1,6))"
   ]
  },
  {
   "cell_type": "code",
   "execution_count": 63,
   "id": "d755d402",
   "metadata": {},
   "outputs": [],
   "source": [
    "l1.append(list(range(1,6)))"
   ]
  },
  {
   "cell_type": "code",
   "execution_count": 64,
   "id": "017a7c79",
   "metadata": {},
   "outputs": [
    {
     "data": {
      "text/plain": [
       "[[1, 2, 3, 4, 5],\n",
       " [1, 2, 3, 4, 5],\n",
       " [1, 2, 3, 4, 5],\n",
       " [1, 2, 3, 4, 5],\n",
       " [1, 2, 3, 4, 5]]"
      ]
     },
     "execution_count": 64,
     "metadata": {},
     "output_type": "execute_result"
    }
   ],
   "source": [
    "l1 "
   ]
  },
  {
   "cell_type": "code",
   "execution_count": 66,
   "id": "505b3ba2",
   "metadata": {},
   "outputs": [
    {
     "name": "stdout",
     "output_type": "stream",
     "text": [
      "1\n",
      "2\n",
      "3\n",
      "4\n",
      "5\n"
     ]
    }
   ],
   "source": [
    "print(l1[0][0])\n",
    "print(l1[0][1])\n",
    "print(l1[0][2])\n",
    "print(l1[0][3])\n",
    "print(l1[0][4])"
   ]
  },
  {
   "cell_type": "code",
   "execution_count": 73,
   "id": "21cc3c64",
   "metadata": {},
   "outputs": [
    {
     "name": "stdout",
     "output_type": "stream",
     "text": [
      "1 2 3 4 5 1 2 3 4 5 1 2 3 4 5 1 2 3 4 5 1 2 3 4 5 "
     ]
    }
   ],
   "source": [
    "for item1 in l1:\n",
    "#     print(item1)\n",
    "    for item2 in item1:\n",
    "        print(item2, end=\" \") # 인덱스가 몇개가 되었든 모두 해체할 수 있다."
   ]
  },
  {
   "cell_type": "markdown",
   "id": "67e143c3",
   "metadata": {},
   "source": [
    "L1 리스트에 있는 모든 요소를 L2리스트에 모두 넣으세요"
   ]
  },
  {
   "cell_type": "code",
   "execution_count": 76,
   "id": "0dbface7",
   "metadata": {},
   "outputs": [
    {
     "name": "stdout",
     "output_type": "stream",
     "text": [
      "[1, 2, 3, 4, 5, 1, 2, 3, 4, 5, 1, 2, 3, 4, 5, 1, 2, 3, 4, 5, 1, 2, 3, 4, 5]\n"
     ]
    }
   ],
   "source": [
    "L2 = []\n",
    "for item1 in l1:\n",
    "#     print(item1)\n",
    "    for item2 in item1:\n",
    "        L2.append(item2)\n",
    "print(L2)"
   ]
  },
  {
   "cell_type": "code",
   "execution_count": 74,
   "id": "a27c7cf2",
   "metadata": {},
   "outputs": [
    {
     "name": "stdout",
     "output_type": "stream",
     "text": [
      "5 <class 'int'>\n"
     ]
    }
   ],
   "source": [
    "print(item2, type(item2))"
   ]
  },
  {
   "cell_type": "markdown",
   "id": "a3386f23",
   "metadata": {},
   "source": [
    "* 리스트에 동물 이름이 저장되어 있다. 여기서 동물 이름의 첫글자만 출력하세요.\n",
    "* animal = ['dog','cat','parrot']"
   ]
  },
  {
   "cell_type": "markdown",
   "id": "57a95efa",
   "metadata": {},
   "source": [
    "반복문 만들기\n",
    "요소 자르기\n",
    "앞글자 한개씩 출력"
   ]
  },
  {
   "cell_type": "code",
   "execution_count": 77,
   "id": "50560cbd",
   "metadata": {},
   "outputs": [],
   "source": [
    "animal = ['dog','cat','parrot']"
   ]
  },
  {
   "cell_type": "code",
   "execution_count": 78,
   "id": "61ed429c",
   "metadata": {},
   "outputs": [
    {
     "name": "stdout",
     "output_type": "stream",
     "text": [
      "['dog', 'cat', 'parrot']\n"
     ]
    }
   ],
   "source": [
    "print(animal)"
   ]
  },
  {
   "cell_type": "code",
   "execution_count": 80,
   "id": "f6d46771",
   "metadata": {},
   "outputs": [
    {
     "ename": "AttributeError",
     "evalue": "'list' object has no attribute 'split'",
     "output_type": "error",
     "traceback": [
      "\u001b[1;31m---------------------------------------------------------------------------\u001b[0m",
      "\u001b[1;31mAttributeError\u001b[0m                            Traceback (most recent call last)",
      "Cell \u001b[1;32mIn[80], line 1\u001b[0m\n\u001b[1;32m----> 1\u001b[0m \u001b[43manimal\u001b[49m\u001b[38;5;241;43m.\u001b[39;49m\u001b[43msplit\u001b[49m(\u001b[38;5;124m\"\u001b[39m\u001b[38;5;124m\"\u001b[39m)\n",
      "\u001b[1;31mAttributeError\u001b[0m: 'list' object has no attribute 'split'"
     ]
    }
   ],
   "source": [
    "animal.split(\"\")"
   ]
  },
  {
   "cell_type": "code",
   "execution_count": 82,
   "id": "bc8cdc4b",
   "metadata": {},
   "outputs": [
    {
     "name": "stdout",
     "output_type": "stream",
     "text": [
      "d\n",
      "c\n",
      "p\n"
     ]
    }
   ],
   "source": [
    "for spel in animal:\n",
    "    print(spel[0])"
   ]
  },
  {
   "cell_type": "code",
   "execution_count": null,
   "id": "b616b639",
   "metadata": {},
   "outputs": [],
   "source": []
  },
  {
   "cell_type": "markdown",
   "id": "4a4765dc",
   "metadata": {},
   "source": [
    "리스트에서 세글자 이상의 문자를 화면에 출력하라\n",
    "* L2 = [\"l\",\"study\",\"paython\",\"language\"\"!\"]\n",
    "* study\n",
    "* python\n",
    "* language"
   ]
  },
  {
   "cell_type": "code",
   "execution_count": 83,
   "id": "297bfa1d",
   "metadata": {},
   "outputs": [],
   "source": [
    "L2 = [\"l\",\"study\",\"paython\",\"language\"\"!\"]"
   ]
  },
  {
   "cell_type": "code",
   "execution_count": 84,
   "id": "413aae46",
   "metadata": {},
   "outputs": [
    {
     "data": {
      "text/plain": [
       "['l', 'study', 'paython', 'language!']"
      ]
     },
     "execution_count": 84,
     "metadata": {},
     "output_type": "execute_result"
    }
   ],
   "source": [
    "L2"
   ]
  },
  {
   "cell_type": "code",
   "execution_count": 86,
   "id": "2630a482",
   "metadata": {},
   "outputs": [
    {
     "name": "stdout",
     "output_type": "stream",
     "text": [
      "study\n",
      "paython\n",
      "language!\n"
     ]
    }
   ],
   "source": [
    "for spel2 in L2:\n",
    "    if len(spel2) >= 3:\n",
    "        print(spel2)"
   ]
  },
  {
   "cell_type": "code",
   "execution_count": 87,
   "id": "f609ef3e",
   "metadata": {},
   "outputs": [],
   "source": [
    "# 리스트 만들기\n",
    "# 요소를 하나씩 거내기\n",
    "# 3이상인 글자 길이를 재기\n",
    "# 출력하기"
   ]
  },
  {
   "cell_type": "markdown",
   "id": "18a36343",
   "metadata": {},
   "source": [
    "리스트에 저장된 데이터를 아래와 같이 출력하세요.<br>\n",
    "101호<br>\n",
    "102호<br>\n",
    "201호<br>\n",
    "202호<br>\n",
    "202호<br>\n",
    "301호<br>\n",
    "302호<br>"
   ]
  },
  {
   "cell_type": "code",
   "execution_count": 88,
   "id": "3663d871",
   "metadata": {},
   "outputs": [],
   "source": [
    "apart = [[101,102], [201,202], [301,302]]"
   ]
  },
  {
   "cell_type": "code",
   "execution_count": 89,
   "id": "9c03e9bf",
   "metadata": {},
   "outputs": [
    {
     "data": {
      "text/plain": [
       "[[101, 102], [201, 202], [301, 302]]"
      ]
     },
     "execution_count": 89,
     "metadata": {},
     "output_type": "execute_result"
    }
   ],
   "source": [
    "apart"
   ]
  },
  {
   "cell_type": "code",
   "execution_count": 95,
   "id": "b3f26414",
   "metadata": {},
   "outputs": [
    {
     "name": "stdout",
     "output_type": "stream",
     "text": [
      "101 호\n",
      "102 호\n",
      "201 호\n",
      "202 호\n",
      "301 호\n",
      "302 호\n"
     ]
    }
   ],
   "source": [
    "for floor in apart:\n",
    "#     print(ho1)\n",
    "    for room in floor:\n",
    "        print(f'{room} 호')"
   ]
  },
  {
   "cell_type": "markdown",
   "id": "63724b00",
   "metadata": {},
   "source": [
    "301호<br>\n",
    "302호<br>\n",
    "201호<br>\n",
    "202호<br>\n",
    "101호<br>\n",
    "102호<br>"
   ]
  },
  {
   "cell_type": "code",
   "execution_count": 98,
   "id": "8c57c6f6",
   "metadata": {},
   "outputs": [
    {
     "name": "stdout",
     "output_type": "stream",
     "text": [
      "301 호\n",
      "302 호\n",
      "201 호\n",
      "202 호\n",
      "101 호\n",
      "102 호\n"
     ]
    }
   ],
   "source": [
    "for floor in apart[::-1]:\n",
    "#     print(ho1)\n",
    "    for room in floor:\n",
    "        print(f'{room} 호')"
   ]
  },
  {
   "cell_type": "code",
   "execution_count": null,
   "id": "66e6aab2",
   "metadata": {},
   "outputs": [],
   "source": [
    "# 층 있는 바깥 리스트의 순서를 역순 정렬\n"
   ]
  },
  {
   "cell_type": "code",
   "execution_count": 100,
   "id": "49469ed6",
   "metadata": {},
   "outputs": [
    {
     "name": "stdout",
     "output_type": "stream",
     "text": [
      "301 호\n",
      "302 호\n",
      "201 호\n",
      "202 호\n",
      "101 호\n",
      "102 호\n"
     ]
    }
   ],
   "source": [
    "for floor in reversed(apart):\n",
    "    for room in floor:\n",
    "        print(room, \"호\")"
   ]
  },
  {
   "cell_type": "code",
   "execution_count": null,
   "id": "ec9e8149",
   "metadata": {},
   "outputs": [],
   "source": []
  },
  {
   "cell_type": "code",
   "execution_count": null,
   "id": "2cc71d5e",
   "metadata": {},
   "outputs": [],
   "source": []
  },
  {
   "cell_type": "code",
   "execution_count": null,
   "id": "5300e25a",
   "metadata": {},
   "outputs": [],
   "source": []
  },
  {
   "cell_type": "code",
   "execution_count": null,
   "id": "bfc3d0e0",
   "metadata": {},
   "outputs": [],
   "source": []
  },
  {
   "cell_type": "code",
   "execution_count": null,
   "id": "58e095e1",
   "metadata": {},
   "outputs": [],
   "source": []
  },
  {
   "cell_type": "code",
   "execution_count": null,
   "id": "a7611b6e",
   "metadata": {},
   "outputs": [],
   "source": []
  },
  {
   "cell_type": "code",
   "execution_count": null,
   "id": "5af76c63",
   "metadata": {},
   "outputs": [],
   "source": []
  },
  {
   "cell_type": "code",
   "execution_count": null,
   "id": "eb0dd1d8",
   "metadata": {},
   "outputs": [],
   "source": []
  }
 ],
 "metadata": {
  "kernelspec": {
   "display_name": "Python 3 (ipykernel)",
   "language": "python",
   "name": "python3"
  },
  "language_info": {
   "codemirror_mode": {
    "name": "ipython",
    "version": 3
   },
   "file_extension": ".py",
   "mimetype": "text/x-python",
   "name": "python",
   "nbconvert_exporter": "python",
   "pygments_lexer": "ipython3",
   "version": "3.9.21"
  }
 },
 "nbformat": 4,
 "nbformat_minor": 5
}
