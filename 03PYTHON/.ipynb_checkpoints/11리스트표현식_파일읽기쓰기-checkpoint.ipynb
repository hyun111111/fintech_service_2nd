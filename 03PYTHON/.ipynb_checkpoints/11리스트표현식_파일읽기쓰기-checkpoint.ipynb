{
 "cells": [
  {
   "cell_type": "markdown",
   "id": "295146ed",
   "metadata": {},
   "source": [
    "# 리스트 표현식\n",
    "* 리스트 안에 for 반복문과 if else 조건문을 한번에 적어서 리스트를 만드는 방법\n",
    "* 여러 줄의 코드를 1줄로 줄일 수 있다.\n",
    "* 속도가 느린 파이썬의 단점을 보완하기 위함\n",
    "* for문과 if else 문을 사용해서 처리할때보다 속도가 빠르다.\n",
    "* [실행할 명령 for 변수 in list, tuple]"
   ]
  },
  {
   "cell_type": "code",
   "execution_count": 2,
   "id": "e4f61760",
   "metadata": {},
   "outputs": [
    {
     "name": "stdout",
     "output_type": "stream",
     "text": [
      "1는 홀수입니다\n",
      "2는 짝수입니다\n",
      "3는 홀수입니다\n",
      "4는 짝수입니다\n",
      "5는 홀수입니다\n",
      "6는 짝수입니다\n",
      "7는 홀수입니다\n",
      "8는 짝수입니다\n",
      "9는 홀수입니다\n",
      "10는 짝수입니다\n"
     ]
    }
   ],
   "source": [
    "for i in range(1,11):\n",
    "    if i%2 == 0 :\n",
    "        print(f\"{i}는 짝수입니다\")\n",
    "    else:\n",
    "        print(f\"{i}는 홀수입니다\")"
   ]
  },
  {
   "cell_type": "code",
   "execution_count": 3,
   "id": "fb184466",
   "metadata": {},
   "outputs": [
    {
     "name": "stdout",
     "output_type": "stream",
     "text": [
      "1는 홀수입니다\n",
      "2는 짝수입니다\n",
      "3는 홀수입니다\n",
      "4는 짝수입니다\n",
      "5는 홀수입니다\n",
      "6는 짝수입니다\n",
      "7는 홀수입니다\n",
      "8는 짝수입니다\n",
      "9는 홀수입니다\n",
      "10는 짝수입니다\n"
     ]
    }
   ],
   "source": [
    "for i in range(1,11):\n",
    "        print(f\"{i}는 짝수입니다\") if i%2 == 0 else print(f\"{i}는 홀수입니다\")"
   ]
  },
  {
   "cell_type": "markdown",
   "id": "afefcf92",
   "metadata": {},
   "source": [
    "### 1부터 10까지 들어있는 리스트 만들기 "
   ]
  },
  {
   "cell_type": "code",
   "execution_count": 4,
   "id": "f2837879",
   "metadata": {},
   "outputs": [
    {
     "data": {
      "text/plain": [
       "[1, 2, 3, 4, 5, 6, 7, 8, 9, 10]"
      ]
     },
     "execution_count": 4,
     "metadata": {},
     "output_type": "execute_result"
    }
   ],
   "source": [
    "l1 =[]\n",
    "for i in range(1,11):\n",
    "    l1.append(i)\n",
    "l1"
   ]
  },
  {
   "cell_type": "code",
   "execution_count": 6,
   "id": "ef338c7f",
   "metadata": {},
   "outputs": [
    {
     "data": {
      "text/plain": [
       "[1, 2, 3, 4, 5, 6, 7, 8, 9, 10]"
      ]
     },
     "execution_count": 6,
     "metadata": {},
     "output_type": "execute_result"
    }
   ],
   "source": [
    "[i for i in range(1, 11)]"
   ]
  },
  {
   "cell_type": "markdown",
   "id": "4f84b156",
   "metadata": {},
   "source": [
    "## 리스트 표현식과 일반 반복문의 속도 차이"
   ]
  },
  {
   "cell_type": "code",
   "execution_count": 7,
   "id": "90ebaa12",
   "metadata": {},
   "outputs": [],
   "source": [
    "import time"
   ]
  },
  {
   "cell_type": "code",
   "execution_count": null,
   "id": "68b570f7",
   "metadata": {},
   "outputs": [],
   "source": []
  },
  {
   "cell_type": "code",
   "execution_count": null,
   "id": "8172bc6b",
   "metadata": {},
   "outputs": [],
   "source": []
  },
  {
   "cell_type": "code",
   "execution_count": null,
   "id": "59bb6821",
   "metadata": {},
   "outputs": [],
   "source": []
  },
  {
   "cell_type": "code",
   "execution_count": null,
   "id": "abbd2d38",
   "metadata": {},
   "outputs": [],
   "source": []
  },
  {
   "cell_type": "code",
   "execution_count": null,
   "id": "05e0b35c",
   "metadata": {},
   "outputs": [],
   "source": []
  },
  {
   "cell_type": "code",
   "execution_count": null,
   "id": "a5f1e50c",
   "metadata": {},
   "outputs": [],
   "source": []
  },
  {
   "cell_type": "code",
   "execution_count": null,
   "id": "86dbff62",
   "metadata": {},
   "outputs": [],
   "source": []
  },
  {
   "cell_type": "code",
   "execution_count": null,
   "id": "cf0275a7",
   "metadata": {},
   "outputs": [],
   "source": []
  },
  {
   "cell_type": "code",
   "execution_count": null,
   "id": "939a092b",
   "metadata": {},
   "outputs": [],
   "source": []
  }
 ],
 "metadata": {
  "kernelspec": {
   "display_name": "Python 3 (ipykernel)",
   "language": "python",
   "name": "python3"
  },
  "language_info": {
   "codemirror_mode": {
    "name": "ipython",
    "version": 3
   },
   "file_extension": ".py",
   "mimetype": "text/x-python",
   "name": "python",
   "nbconvert_exporter": "python",
   "pygments_lexer": "ipython3",
   "version": "3.9.21"
  }
 },
 "nbformat": 4,
 "nbformat_minor": 5
}
