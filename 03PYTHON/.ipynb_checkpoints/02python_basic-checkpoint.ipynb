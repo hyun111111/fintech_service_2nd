{
 "cells": [
  {
   "cell_type": "markdown",
   "id": "0d37ab44",
   "metadata": {},
   "source": [
    "# 파이썬 기초문법\n",
    "* 파이썬의 주석은 문장 앞의 #을 붙여서 만든다\n",
    "* 파이썬은 들여쓰기를 사용해서 코드를 구분해 작성한다.\n",
    "* 들여쓰기는 4칸이 기본, google colab은 2칸\n",
    "* 변수를 만들때 스네이크 표기법을 사용한다. ex) user_name\n",
    "* 클래스를 만들 때는 카멜 표기법을 사용한다.ex) UserName"
   ]
  },
  {
   "cell_type": "markdown",
   "id": "2179a6be",
   "metadata": {},
   "source": [
    "# print 문\n",
    "* print 함수 안에 있는 내용을 출력해주는 함수\n",
    "* print (출력할 내용)\n",
    "* print(1) 출력할 내용이 숫자인경우, 변수인 경우 따옴표 x\n",
    "* print(\"Hello world\") 출력할 내용이 문자, 문자열인 경우 반드시 따옴표 필요. 단 \"\",''모두 사용 가능"
   ]
  },
  {
   "cell_type": "code",
   "execution_count": 1,
   "id": "76ff3f5c",
   "metadata": {},
   "outputs": [
    {
     "name": "stdout",
     "output_type": "stream",
     "text": [
      "1\n"
     ]
    }
   ],
   "source": [
    "print(1)"
   ]
  },
  {
   "cell_type": "code",
   "execution_count": 2,
   "id": "b6e4cc8b",
   "metadata": {},
   "outputs": [
    {
     "name": "stdout",
     "output_type": "stream",
     "text": [
      "3.14\n"
     ]
    }
   ],
   "source": [
    "print(3.14)"
   ]
  },
  {
   "cell_type": "code",
   "execution_count": 3,
   "id": "79902c2f",
   "metadata": {},
   "outputs": [
    {
     "name": "stdout",
     "output_type": "stream",
     "text": [
      "파\n"
     ]
    }
   ],
   "source": [
    "print(\"파\")"
   ]
  },
  {
   "cell_type": "code",
   "execution_count": 4,
   "id": "e8eef1ec",
   "metadata": {},
   "outputs": [
    {
     "name": "stdout",
     "output_type": "stream",
     "text": [
      "파이썬\n"
     ]
    }
   ],
   "source": [
    "print('파이썬')"
   ]
  },
  {
   "cell_type": "code",
   "execution_count": 5,
   "id": "1cbe123b",
   "metadata": {},
   "outputs": [
    {
     "name": "stdout",
     "output_type": "stream",
     "text": [
      "이것은 '파이썬'이다.\n"
     ]
    }
   ],
   "source": [
    "# 따옴표까지 같이 출력하고 싶을때 \n",
    "print(\"이것은 '파이썬'이다.\")"
   ]
  },
  {
   "cell_type": "code",
   "execution_count": 6,
   "id": "7034b789",
   "metadata": {},
   "outputs": [
    {
     "name": "stdout",
     "output_type": "stream",
     "text": [
      "이것은 \"파이썬\"이다.\n"
     ]
    }
   ],
   "source": [
    "print('이것은 \"파이썬\"이다.')"
   ]
  },
  {
   "cell_type": "markdown",
   "id": "e27d0e3f",
   "metadata": {},
   "source": [
    "# print문의 옵션\n",
    "* sep: 구문자 - print문 안에 여러개의 자료를 구분해주는 문자\n",
    "* 기본값은 \"\"공백"
   ]
  },
  {
   "cell_type": "code",
   "execution_count": 7,
   "id": "0249da9e",
   "metadata": {},
   "outputs": [
    {
     "name": "stdout",
     "output_type": "stream",
     "text": [
      "이것은 파이썬 입니다.\n"
     ]
    }
   ],
   "source": [
    "print(\"이것은\", '파이썬', '입니다.')"
   ]
  },
  {
   "cell_type": "code",
   "execution_count": 8,
   "id": "f4acdacc",
   "metadata": {},
   "outputs": [
    {
     "name": "stdout",
     "output_type": "stream",
     "text": [
      "이것은_파이썬_입니다.\n"
     ]
    }
   ],
   "source": [
    "print(\"이것은\", '파이썬', '입니다.', sep=\"_\")"
   ]
  },
  {
   "cell_type": "code",
   "execution_count": 9,
   "id": "6ef8ffd8",
   "metadata": {},
   "outputs": [
    {
     "name": "stdout",
     "output_type": "stream",
     "text": [
      "헐크 vs 아이언맨 vs 스파이더맨\n"
     ]
    }
   ],
   "source": [
    "print(\"헐크\", '아이언맨', '스파이더맨', sep=\" vs \")"
   ]
  },
  {
   "cell_type": "markdown",
   "id": "a1709442",
   "metadata": {},
   "source": [
    "* end 옵션 -print가 끝나고 실행될 옵션\n",
    "* 기본값 = \\n - 이스케이프 문자 new line 새줄"
   ]
  },
  {
   "cell_type": "code",
   "execution_count": 10,
   "id": "c08f5d1e",
   "metadata": {},
   "outputs": [
    {
     "name": "stdout",
     "output_type": "stream",
     "text": [
      "헐크 vs 아이언맨 vs 스파이더맨\n",
      "헐크 vs 아이언맨 vs 스파이더맨\n"
     ]
    }
   ],
   "source": [
    "print(\"헐크\", '아이언맨', '스파이더맨', sep=\" vs \")\n",
    "print(\"헐크\", '아이언맨', '스파이더맨', sep=\" vs \")"
   ]
  },
  {
   "cell_type": "code",
   "execution_count": 13,
   "id": "42fe6db7",
   "metadata": {},
   "outputs": [
    {
     "name": "stdout",
     "output_type": "stream",
     "text": [
      "헐크 vs 아이언맨 vs 스파이더맨 헐크 vs 아이언맨 vs 스파이더맨\n"
     ]
    }
   ],
   "source": [
    "# end 값을 공백으로 준 경우\n",
    "print(\"헐크\", '아이언맨', '스파이더맨', sep=\" vs \", end=\" \")\n",
    "print(\"헐크\", '아이언맨', '스파이더맨', sep=\" vs \")"
   ]
  },
  {
   "cell_type": "code",
   "execution_count": 20,
   "id": "1dd162ed",
   "metadata": {},
   "outputs": [
    {
     "name": "stdout",
     "output_type": "stream",
     "text": [
      "헐크 vs 아이언맨 vs 스파이더맨\t헐크 vs 아이언맨 vs 스파이더맨\n"
     ]
    }
   ],
   "source": [
    "# end값을 공백 \"\\t\"(tab)으로 준 경우\n",
    "print(\"헐크\", '아이언맨', '스파이더맨', sep=\" vs \", end=\"\\t\")\n",
    "print(\"헐크\", '아이언맨', '스파이더맨', sep=\" vs \")"
   ]
  },
  {
   "cell_type": "code",
   "execution_count": 18,
   "id": "3feaf6c2",
   "metadata": {},
   "outputs": [
    {
     "name": "stdout",
     "output_type": "stream",
     "text": [
      "헐크-1-2-3\n",
      "\n",
      "\n",
      "헐크 vs 아이언맨 vs 스파이더맨\n"
     ]
    }
   ],
   "source": [
    "# end값을 공백 \"\\n\"(new line)으로 준 경우\n",
    "print(\"헐크\", 1,2,3, sep=\"-\", end=\"\\n\\n\\n\")\n",
    "print(\"헐크\", '아이언맨', '스파이더맨', sep=\" vs \")"
   ]
  },
  {
   "cell_type": "code",
   "execution_count": 19,
   "id": "3dc8a81d",
   "metadata": {},
   "outputs": [
    {
     "ename": "SyntaxError",
     "evalue": "invalid syntax (1021721224.py, line 2)",
     "output_type": "error",
     "traceback": [
      "\u001b[1;36m  Cell \u001b[1;32mIn[19], line 2\u001b[1;36m\u001b[0m\n\u001b[1;33m    * 함수의 옵션은 괄호 안에 커서를 두고 shift + tab으로 볼 수 있다.\u001b[0m\n\u001b[1;37m          ^\u001b[0m\n\u001b[1;31mSyntaxError\u001b[0m\u001b[1;31m:\u001b[0m invalid syntax\n"
     ]
    }
   ],
   "source": [
    "# 함수의 옵션 보기\n",
    "* 함수의 옵션은 괄호 안에 커서를 두고 shift + tab으로 볼 수 있다.\n",
    "!file:///C:/Users/Admin/Pictures/4.PNG"
   ]
  },
  {
   "cell_type": "code",
   "execution_count": 21,
   "id": "93a32e5c",
   "metadata": {},
   "outputs": [
    {
     "ename": "NameError",
     "evalue": "name 'primt' is not defined",
     "output_type": "error",
     "traceback": [
      "\u001b[1;31m---------------------------------------------------------------------------\u001b[0m",
      "\u001b[1;31mNameError\u001b[0m                                 Traceback (most recent call last)",
      "Cell \u001b[1;32mIn[21], line 2\u001b[0m\n\u001b[0;32m      1\u001b[0m \u001b[38;5;66;03m# shift + tab\u001b[39;00m\n\u001b[1;32m----> 2\u001b[0m \u001b[43mprimt\u001b[49m()\n",
      "\u001b[1;31mNameError\u001b[0m: name 'primt' is not defined"
     ]
    }
   ],
   "source": [
    "# shift + tab\n",
    "primt()"
   ]
  },
  {
   "cell_type": "markdown",
   "id": "6db913cc",
   "metadata": {},
   "source": [
    "# 변수 \n",
    "* 자료를 담는 택배상자\n",
    "* 택배 상자는 1개만 넣을 수 있다.\n",
    "* 변수는 영문과 숫자를 조합해서 만들 수 있다.\n",
    "* 변수명의 시작은 반드시 영문자로 시작 or _로 시작\n",
    "* 변수명이 숫자로 시작하거나 -등의 특수문자로 시작하면 오류가 납니다.\n",
    "* 예약어(이미 파이썬에서 사용하고 있는 함수명, 문법용 단어 ex) for, list , if, id )는 변수명으로 사용할 수 없다. \n",
    "  * 주의!! 예약어를 써도 파이썬에는 변수가 만들어진다. \n",
    "  * 그러므로 예약어를 잘 기억해 두자"
   ]
  },
  {
   "cell_type": "markdown",
   "id": "ad28c7c3",
   "metadata": {},
   "source": [
    "여기서 \\를 쓰는데 파이썬에서는 역슬래시로 나옴  \\n를 씀"
   ]
  },
  {
   "cell_type": "markdown",
   "id": "7b087282",
   "metadata": {},
   "source": [
    "* 변수명은 스네이크 표기법으로 만든다 \n",
    "* 변수명 = 자료\n",
    "* =는 같다라는 표시가 아니라 등호 오른쪽의 자료를 왼쪽 변수에 할당 (넣는다)한다. "
   ]
  },
  {
   "cell_type": "markdown",
   "id": "14d0c393",
   "metadata": {},
   "source": [
    "# 변수에는 자료 1개만 들어간다"
   ]
  },
  {
   "cell_type": "code",
   "execution_count": 22,
   "id": "3a8e2418",
   "metadata": {},
   "outputs": [
    {
     "name": "stdout",
     "output_type": "stream",
     "text": [
      "1\n"
     ]
    }
   ],
   "source": [
    "a=1\n",
    "print(a)"
   ]
  },
  {
   "cell_type": "code",
   "execution_count": 28,
   "id": "318fc1f9",
   "metadata": {},
   "outputs": [
    {
     "name": "stdout",
     "output_type": "stream",
     "text": [
      "3\n"
     ]
    }
   ],
   "source": [
    "a=3\n",
    "print(a)"
   ]
  },
  {
   "cell_type": "code",
   "execution_count": 26,
   "id": "670fa4c5",
   "metadata": {},
   "outputs": [
    {
     "name": "stdout",
     "output_type": "stream",
     "text": [
      "문자열은 길이에 상관없이 들어가요\n"
     ]
    }
   ],
   "source": [
    "c = \"문자열은 길이에 상관없이 들어가요\"\n",
    "print(c)"
   ]
  },
  {
   "cell_type": "code",
   "execution_count": 29,
   "id": "a77c5ac3",
   "metadata": {},
   "outputs": [
    {
     "name": "stdout",
     "output_type": "stream",
     "text": [
      "핀테크님\n"
     ]
    }
   ],
   "source": [
    "# 변수명은 스네이크 표기법으로 만든다.\n",
    "user_name = \"핀테크님\"\n",
    "print(user_name)"
   ]
  },
  {
   "cell_type": "code",
   "execution_count": 30,
   "id": "ebc269f8",
   "metadata": {},
   "outputs": [
    {
     "data": {
      "text/plain": [
       "'핀테크님'"
      ]
     },
     "execution_count": 30,
     "metadata": {},
     "output_type": "execute_result"
    }
   ],
   "source": [
    "user_name"
   ]
  },
  {
   "cell_type": "code",
   "execution_count": 31,
   "id": "27e69ec8",
   "metadata": {},
   "outputs": [
    {
     "data": {
      "text/plain": [
       "3"
      ]
     },
     "execution_count": 31,
     "metadata": {},
     "output_type": "execute_result"
    }
   ],
   "source": [
    "a"
   ]
  },
  {
   "cell_type": "code",
   "execution_count": 32,
   "id": "ffcc25fb",
   "metadata": {},
   "outputs": [],
   "source": [
    "b='3'"
   ]
  },
  {
   "cell_type": "code",
   "execution_count": 33,
   "id": "ee6090e6",
   "metadata": {},
   "outputs": [
    {
     "name": "stdout",
     "output_type": "stream",
     "text": [
      "3 3\n"
     ]
    }
   ],
   "source": [
    "print(a,b)\n",
    "# 둘이 구분이 안간다"
   ]
  },
  {
   "cell_type": "code",
   "execution_count": 34,
   "id": "1aebd2f5",
   "metadata": {},
   "outputs": [
    {
     "data": {
      "text/plain": [
       "3"
      ]
     },
     "execution_count": 34,
     "metadata": {},
     "output_type": "execute_result"
    }
   ],
   "source": [
    "a"
   ]
  },
  {
   "cell_type": "code",
   "execution_count": 35,
   "id": "90bb8b96",
   "metadata": {},
   "outputs": [
    {
     "data": {
      "text/plain": [
       "'3'"
      ]
     },
     "execution_count": 35,
     "metadata": {},
     "output_type": "execute_result"
    }
   ],
   "source": [
    "b"
   ]
  },
  {
   "cell_type": "markdown",
   "id": "dc111b49",
   "metadata": {},
   "source": [
    "# 프린트문 없이 치면 따옴표로 변수 구분이 가능하다. "
   ]
  },
  {
   "cell_type": "code",
   "execution_count": 36,
   "id": "7e34448b",
   "metadata": {},
   "outputs": [
    {
     "ename": "SyntaxError",
     "evalue": "invalid syntax (111831466.py, line 1)",
     "output_type": "error",
     "traceback": [
      "\u001b[1;36m  Cell \u001b[1;32mIn[36], line 1\u001b[1;36m\u001b[0m\n\u001b[1;33m    3b = 24\u001b[0m\n\u001b[1;37m     ^\u001b[0m\n\u001b[1;31mSyntaxError\u001b[0m\u001b[1;31m:\u001b[0m invalid syntax\n"
     ]
    }
   ],
   "source": [
    "3b = 24"
   ]
  },
  {
   "cell_type": "code",
   "execution_count": 37,
   "id": "5c0424ad",
   "metadata": {},
   "outputs": [
    {
     "ename": "SyntaxError",
     "evalue": "invalid syntax (3759901388.py, line 1)",
     "output_type": "error",
     "traceback": [
      "\u001b[1;36m  Cell \u001b[1;32mIn[37], line 1\u001b[1;36m\u001b[0m\n\u001b[1;33m    b$ = 24\u001b[0m\n\u001b[1;37m     ^\u001b[0m\n\u001b[1;31mSyntaxError\u001b[0m\u001b[1;31m:\u001b[0m invalid syntax\n"
     ]
    }
   ],
   "source": [
    "b$ = 24"
   ]
  },
  {
   "cell_type": "code",
   "execution_count": 38,
   "id": "fa3a7511",
   "metadata": {},
   "outputs": [],
   "source": [
    "b_=24"
   ]
  },
  {
   "cell_type": "code",
   "execution_count": 39,
   "id": "29d068fb",
   "metadata": {},
   "outputs": [
    {
     "data": {
      "text/plain": [
       "24"
      ]
     },
     "execution_count": 39,
     "metadata": {},
     "output_type": "execute_result"
    }
   ],
   "source": [
    "b_"
   ]
  },
  {
   "cell_type": "markdown",
   "id": "b8941887",
   "metadata": {},
   "source": [
    "# 변수 여러개를 한번에 만들기"
   ]
  },
  {
   "cell_type": "code",
   "execution_count": 40,
   "id": "4fe4fba3",
   "metadata": {},
   "outputs": [],
   "source": [
    "a = 1\n",
    "b = 3"
   ]
  },
  {
   "cell_type": "code",
   "execution_count": 41,
   "id": "a21ebeb8",
   "metadata": {},
   "outputs": [],
   "source": [
    "a, b, c = 1, 3, \"오\""
   ]
  },
  {
   "cell_type": "code",
   "execution_count": 42,
   "id": "78edbaa1",
   "metadata": {},
   "outputs": [
    {
     "name": "stdout",
     "output_type": "stream",
     "text": [
      "1 3 오\n"
     ]
    }
   ],
   "source": [
    "print(a,b,c)"
   ]
  },
  {
   "cell_type": "markdown",
   "id": "fcd60df8",
   "metadata": {},
   "source": [
    "# 변수 삭제하기 del 변수명"
   ]
  },
  {
   "cell_type": "code",
   "execution_count": 43,
   "id": "afa7947e",
   "metadata": {},
   "outputs": [
    {
     "data": {
      "text/plain": [
       "24"
      ]
     },
     "execution_count": 43,
     "metadata": {},
     "output_type": "execute_result"
    }
   ],
   "source": [
    "b_"
   ]
  },
  {
   "cell_type": "code",
   "execution_count": 44,
   "id": "a8be8621",
   "metadata": {},
   "outputs": [],
   "source": [
    "del b_"
   ]
  },
  {
   "cell_type": "code",
   "execution_count": 45,
   "id": "d509b91c",
   "metadata": {},
   "outputs": [
    {
     "ename": "NameError",
     "evalue": "name 'b_' is not defined",
     "output_type": "error",
     "traceback": [
      "\u001b[1;31m---------------------------------------------------------------------------\u001b[0m",
      "\u001b[1;31mNameError\u001b[0m                                 Traceback (most recent call last)",
      "Cell \u001b[1;32mIn[45], line 1\u001b[0m\n\u001b[1;32m----> 1\u001b[0m \u001b[43mb_\u001b[49m\n",
      "\u001b[1;31mNameError\u001b[0m: name 'b_' is not defined"
     ]
    }
   ],
   "source": [
    "b_"
   ]
  },
  {
   "cell_type": "code",
   "execution_count": null,
   "id": "a4b2e158",
   "metadata": {},
   "outputs": [],
   "source": []
  }
 ],
 "metadata": {
  "kernelspec": {
   "display_name": "Python 3 (ipykernel)",
   "language": "python",
   "name": "python3"
  },
  "language_info": {
   "codemirror_mode": {
    "name": "ipython",
    "version": 3
   },
   "file_extension": ".py",
   "mimetype": "text/x-python",
   "name": "python",
   "nbconvert_exporter": "python",
   "pygments_lexer": "ipython3",
   "version": "3.9.21"
  }
 },
 "nbformat": 4,
 "nbformat_minor": 5
}
