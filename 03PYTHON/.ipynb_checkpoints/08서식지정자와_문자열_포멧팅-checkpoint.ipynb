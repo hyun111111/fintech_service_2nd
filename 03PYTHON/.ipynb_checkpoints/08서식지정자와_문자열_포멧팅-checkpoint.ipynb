{
 "cells": [
  {
   "cell_type": "markdown",
   "id": "cfca6164",
   "metadata": {},
   "source": [
    "# 서식지정, format 메서드4\n",
    "* 문자열로만 입력해야하는 상황에서 같은 위치에 문자를 여러번 바꿔야할 떄 사용4\n",
    "* 문자의 자릿수 맞춤, 위치 정렬에도 사용"
   ]
  },
  {
   "cell_type": "markdown",
   "id": "2f012651",
   "metadata": {},
   "source": [
    "## 1. 서식지정자 %d, %s, %f, %길이s"
   ]
  },
  {
   "cell_type": "markdown",
   "id": "2f195bb2",
   "metadata": {},
   "source": [
    "### 1) 문자를 입력할때 %s (str의 약자), string)"
   ]
  },
  {
   "cell_type": "code",
   "execution_count": 7,
   "id": "6233e35c",
   "metadata": {},
   "outputs": [
    {
     "name": "stdout",
     "output_type": "stream",
     "text": [
      "이 수업의 이름은 국어 입니다.\n"
     ]
    }
   ],
   "source": [
    "print(\"이 수업의 이름은 %s 입니다.\" % \"국어\")"
   ]
  },
  {
   "cell_type": "code",
   "execution_count": 8,
   "id": "c09aa1b8",
   "metadata": {},
   "outputs": [
    {
     "name": "stdout",
     "output_type": "stream",
     "text": [
      "이 수업의 이름은 3 입니다.\n"
     ]
    }
   ],
   "source": [
    "print(\"이 수업의 이름은 %s 입니다.\" % 3) # s 자리에 무엇이든 문자처리됨. 다른 함수는 그것만 써야함"
   ]
  },
  {
   "cell_type": "code",
   "execution_count": 3,
   "id": "86153f1f",
   "metadata": {},
   "outputs": [
    {
     "name": "stdout",
     "output_type": "stream",
     "text": [
      "이 수업의 이름은 국어 입니다.\n",
      "이 수업의 이름은 수학 입니다.\n",
      "이 수업의 이름은 사회 입니다.\n",
      "이 수업의 이름은 영어 입니다.\n"
     ]
    }
   ],
   "source": [
    "for i in [\"국어\",\"수학\",\"사회\",\"영어\"]:\n",
    "    print(\"이 수업의 이름은 %s 입니다.\" % i)"
   ]
  },
  {
   "cell_type": "markdown",
   "id": "5c4205c0",
   "metadata": {},
   "source": [
    "### 정수를 입력할 때 %d "
   ]
  },
  {
   "cell_type": "code",
   "execution_count": 10,
   "id": "c6e72dae",
   "metadata": {},
   "outputs": [
    {
     "name": "stdout",
     "output_type": "stream",
     "text": [
      "올해는 2025년 입니다.\n"
     ]
    }
   ],
   "source": [
    "print(\"올해는 %d년 입니다.\" % 2025 )"
   ]
  },
  {
   "cell_type": "code",
   "execution_count": 12,
   "id": "0c59abd8",
   "metadata": {},
   "outputs": [
    {
     "name": "stdout",
     "output_type": "stream",
     "text": [
      "올해는 2025년 입니다.\n"
     ]
    }
   ],
   "source": [
    "print(\"올해는 %d년 입니다.\" % 2025.55 ) #실수를 넣으면 실수변환됨"
   ]
  },
  {
   "cell_type": "markdown",
   "id": "5c13cb10",
   "metadata": {},
   "source": [
    "### 실수를 입력할 때 %f 기본소수점 6자리로 표시 "
   ]
  },
  {
   "cell_type": "code",
   "execution_count": 13,
   "id": "8df386de",
   "metadata": {},
   "outputs": [
    {
     "name": "stdout",
     "output_type": "stream",
     "text": [
      "사람의 정상체온은 약 36.500000도 입니다.\n"
     ]
    }
   ],
   "source": [
    "print(\"사람의 정상체온은 약 %f도 입니다.\" % 36.5)"
   ]
  },
  {
   "cell_type": "markdown",
   "id": "034870f6",
   "metadata": {},
   "source": [
    "* 소수점 표기를 조절할 때 %.소숫점 자릿수f ex)%2f"
   ]
  },
  {
   "cell_type": "code",
   "execution_count": 15,
   "id": "b41594d4",
   "metadata": {},
   "outputs": [
    {
     "name": "stdout",
     "output_type": "stream",
     "text": [
      "사람의 정상체온은 약 36.5도 입니다.\n"
     ]
    }
   ],
   "source": [
    "print(\"사람의 정상체온은 약 %.1f도 입니다.\" % 36.5)"
   ]
  },
  {
   "cell_type": "markdown",
   "id": "922f9ec0",
   "metadata": {},
   "source": [
    "### 4) 서식지정잘로 문자열 길이, 정렬 %길이s"
   ]
  },
  {
   "cell_type": "code",
   "execution_count": 19,
   "id": "81924bfa",
   "metadata": {},
   "outputs": [
    {
     "name": "stdout",
     "output_type": "stream",
     "text": [
      "      10자리\n"
     ]
    }
   ],
   "source": [
    "print(\"%10s\" % \"10자리\")"
   ]
  },
  {
   "cell_type": "code",
   "execution_count": 23,
   "id": "2756bb3a",
   "metadata": {},
   "outputs": [
    {
     "name": "stdout",
     "output_type": "stream",
     "text": [
      "01\n"
     ]
    }
   ],
   "source": [
    "print(\"%1s\" % \"01\")"
   ]
  },
  {
   "cell_type": "code",
   "execution_count": 24,
   "id": "b4106b10",
   "metadata": {},
   "outputs": [
    {
     "name": "stdout",
     "output_type": "stream",
     "text": [
      "150000\n",
      "15000\n"
     ]
    }
   ],
   "source": [
    "print(150000)\n",
    "print(15000)"
   ]
  },
  {
   "cell_type": "code",
   "execution_count": 25,
   "id": "5843e74b",
   "metadata": {
    "scrolled": true
   },
   "outputs": [
    {
     "name": "stdout",
     "output_type": "stream",
     "text": [
      "가격은     150000 입니다\n",
      "가격은      15000 입니다\n"
     ]
    }
   ],
   "source": [
    "print(\"가격은 %10d 입니다\" % 150000)\n",
    "print(\"가격은 %10d 입니다\" % 15000)"
   ]
  },
  {
   "cell_type": "markdown",
   "id": "eab9bc29",
   "metadata": {},
   "source": [
    "### 5) 여러 항목 동시에 넣기"
   ]
  },
  {
   "cell_type": "code",
   "execution_count": 29,
   "id": "7be2f346",
   "metadata": {},
   "outputs": [
    {
     "name": "stdout",
     "output_type": "stream",
     "text": [
      "오늘은 2025년  3월 17일 입니다.\n"
     ]
    }
   ],
   "source": [
    "print(\"오늘은 %4d년 %2d월 %2d일 입니다.\" % (2025, 3, 17)) #튜플로 묶어야 처리가 된다. "
   ]
  },
  {
   "cell_type": "code",
   "execution_count": 30,
   "id": "405f09bb",
   "metadata": {},
   "outputs": [
    {
     "name": "stdout",
     "output_type": "stream",
     "text": [
      "2025 3 17\n"
     ]
    }
   ],
   "source": [
    "a, b, c = (2025, 3, 17)\n",
    "print(a,b,c)"
   ]
  },
  {
   "cell_type": "code",
   "execution_count": 31,
   "id": "ba2515ce",
   "metadata": {},
   "outputs": [],
   "source": [
    "company = ['삼성전자', 'LG전자', '현대차', '대한항공', '하나투어']\n",
    "stock = [71800, 121000, 195000, 31900, 86600]"
   ]
  },
  {
   "cell_type": "code",
   "execution_count": 32,
   "id": "4b85792a",
   "metadata": {},
   "outputs": [
    {
     "name": "stdout",
     "output_type": "stream",
     "text": [
      "삼성전자의 주가는 71800입니다.\n",
      "LG전자의 주가는 121000입니다.\n",
      "현대차의 주가는 195000입니다.\n",
      "대한항공의 주가는 31900입니다.\n",
      "하나투어의 주가는 86600입니다.\n"
     ]
    }
   ],
   "source": [
    "for com, st in zip(company, stock): \n",
    "    print(\"%s의 주가는 %d입니다.\" % (com, st))"
   ]
  },
  {
   "cell_type": "markdown",
   "id": "6f215331",
   "metadata": {},
   "source": [
    "# 2. format 메서드 사용하기, f-string 문자열 포메팅"
   ]
  },
  {
   "cell_type": "markdown",
   "id": "87b34f5b",
   "metadata": {},
   "source": [
    "### 1) format 메서드 사용하기\n",
    "* \"문자열 {인덱스} \"문자끝열\" .format(값)"
   ]
  },
  {
   "cell_type": "code",
   "execution_count": 33,
   "id": "f69c1a83",
   "metadata": {
    "scrolled": true
   },
   "outputs": [
    {
     "name": "stdout",
     "output_type": "stream",
     "text": [
      "삼성전자의 주가는 71800입니다.\n"
     ]
    }
   ],
   "source": [
    "print(\"{}의 주가는 {}입니다.\".format('삼성전자', 71800))"
   ]
  },
  {
   "cell_type": "code",
   "execution_count": 34,
   "id": "46d48384",
   "metadata": {
    "scrolled": true
   },
   "outputs": [
    {
     "name": "stdout",
     "output_type": "stream",
     "text": [
      "삼성전자의 주가는 71800입니다.\n"
     ]
    }
   ],
   "source": [
    "print(\"{0}의 주가는 {1}입니다.\".format('삼성전자', 71800))"
   ]
  },
  {
   "cell_type": "code",
   "execution_count": 35,
   "id": "5f6d3b8d",
   "metadata": {},
   "outputs": [
    {
     "name": "stdout",
     "output_type": "stream",
     "text": [
      "71800의 주가는 삼성전자입니다.\n"
     ]
    }
   ],
   "source": [
    "print(\"{1}의 주가는 {0}입니다.\".format('삼성전자', 71800))"
   ]
  },
  {
   "cell_type": "code",
   "execution_count": 41,
   "id": "fd7fd092",
   "metadata": {
    "scrolled": false
   },
   "outputs": [
    {
     "ename": "SyntaxError",
     "evalue": "unexpected EOF while parsing (1226160576.py, line 1)",
     "output_type": "error",
     "traceback": [
      "\u001b[1;36m  Cell \u001b[1;32mIn[41], line 1\u001b[1;36m\u001b[0m\n\u001b[1;33m    print(\"{}의 주가는 {}원입니다. \\n{}의 상한가는 {}\\n{}의 하한가는 {}입니다.\".format(\"삼성전자\", 71500, 50200, 93000)\u001b[0m\n\u001b[1;37m                                                                                              ^\u001b[0m\n\u001b[1;31mSyntaxError\u001b[0m\u001b[1;31m:\u001b[0m unexpected EOF while parsing\n"
     ]
    }
   ],
   "source": [
    "print(\"{}의 주가는 {}원입니다. \\n{}의 상한가는 {}\\n{}의 하한가는 {}입니다.\".format(\"삼성전자\", 71500, 50200, 93000)"
   ]
  },
  {
   "cell_type": "code",
   "execution_count": 40,
   "id": "84674ea7",
   "metadata": {},
   "outputs": [
    {
     "name": "stdout",
     "output_type": "stream",
     "text": [
      "삼성전자의 주가는 71500원입니다. \n",
      "삼성전자의 상한가는 93000\n",
      "삼성전자의 하한가는 50200입니다.\n"
     ]
    }
   ],
   "source": [
    "print(\"{0}의 주가는 {1}원입니다. \\n{0}의 상한가는 {3}\\n{0}의 하한가는 {2}입니다.\".format(\"삼성전자\", 71500, 50200, 93000))"
   ]
  },
  {
   "cell_type": "markdown",
   "id": "30711c76",
   "metadata": {},
   "source": [
    "### f-string으로 값넣기 (python3.6 부터???사용가능)"
   ]
  },
  {
   "cell_type": "code",
   "execution_count": 42,
   "id": "8a69bdba",
   "metadata": {},
   "outputs": [
    {
     "data": {
      "text/plain": [
       "['삼성전자', 'LG전자', '현대차', '대한항공', '하나투어']"
      ]
     },
     "execution_count": 42,
     "metadata": {},
     "output_type": "execute_result"
    }
   ],
   "source": [
    "company"
   ]
  },
  {
   "cell_type": "code",
   "execution_count": null,
   "id": "b7839e31",
   "metadata": {},
   "outputs": [],
   "source": []
  },
  {
   "cell_type": "code",
   "execution_count": null,
   "id": "b505975d",
   "metadata": {},
   "outputs": [],
   "source": []
  }
 ],
 "metadata": {
  "kernelspec": {
   "display_name": "Python 3 (ipykernel)",
   "language": "python",
   "name": "python3"
  },
  "language_info": {
   "codemirror_mode": {
    "name": "ipython",
    "version": 3
   },
   "file_extension": ".py",
   "mimetype": "text/x-python",
   "name": "python",
   "nbconvert_exporter": "python",
   "pygments_lexer": "ipython3",
   "version": "3.9.21"
  }
 },
 "nbformat": 4,
 "nbformat_minor": 5
}
