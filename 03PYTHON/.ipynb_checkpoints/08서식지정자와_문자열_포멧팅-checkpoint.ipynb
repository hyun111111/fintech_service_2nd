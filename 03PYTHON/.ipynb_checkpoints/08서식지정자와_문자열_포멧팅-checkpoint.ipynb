{
 "cells": [
  {
   "cell_type": "markdown",
   "id": "cfca6164",
   "metadata": {},
   "source": [
    "# 서식지정, format 메서드4\n",
    "* 문자열로만 입력해야하는 상황에서 같은 위치에 문자를 여러번 바꿔야할 떄 사용4\n",
    "* 문자의 자릿수 맞춤, 위치 정렬에도 사용"
   ]
  },
  {
   "cell_type": "markdown",
   "id": "2f012651",
   "metadata": {},
   "source": [
    "## 1. 서식지정자 %d, %s, %f, %길이s"
   ]
  },
  {
   "cell_type": "markdown",
   "id": "2f195bb2",
   "metadata": {},
   "source": [
    "### 1) 문자를 입력할때 %s (str의 약자), string)"
   ]
  },
  {
   "cell_type": "code",
   "execution_count": 21,
   "id": "6233e35c",
   "metadata": {},
   "outputs": [
    {
     "name": "stdout",
     "output_type": "stream",
     "text": [
      "이 수업의 이름은 국어 입니다.\n"
     ]
    }
   ],
   "source": [
    "print(\"이 수업의 이름은 %s 입니다.\" % \"국어\")"
   ]
  },
  {
   "cell_type": "code",
   "execution_count": 22,
   "id": "c09aa1b8",
   "metadata": {},
   "outputs": [
    {
     "name": "stdout",
     "output_type": "stream",
     "text": [
      "이 수업의 이름은 3 입니다.\n"
     ]
    }
   ],
   "source": [
    "print(\"이 수업의 이름은 %s 입니다.\" % 3) # s 자리에 무엇이든 문자처리됨. 다른 함수는 그것만 써야함"
   ]
  },
  {
   "cell_type": "code",
   "execution_count": 23,
   "id": "86153f1f",
   "metadata": {},
   "outputs": [
    {
     "name": "stdout",
     "output_type": "stream",
     "text": [
      "이 수업의 이름은 국어 입니다.\n",
      "이 수업의 이름은 수학 입니다.\n",
      "이 수업의 이름은 사회 입니다.\n",
      "이 수업의 이름은 영어 입니다.\n"
     ]
    }
   ],
   "source": [
    "for i in [\"국어\",\"수학\",\"사회\",\"영어\"]:\n",
    "    print(\"이 수업의 이름은 %s 입니다.\" % i)"
   ]
  },
  {
   "cell_type": "markdown",
   "id": "5c4205c0",
   "metadata": {},
   "source": [
    "### 정수를 입력할 때 %d "
   ]
  },
  {
   "cell_type": "code",
   "execution_count": 24,
   "id": "c6e72dae",
   "metadata": {},
   "outputs": [
    {
     "name": "stdout",
     "output_type": "stream",
     "text": [
      "올해는 2025년 입니다.\n"
     ]
    }
   ],
   "source": [
    "print(\"올해는 %d년 입니다.\" % 2025 )"
   ]
  },
  {
   "cell_type": "code",
   "execution_count": 25,
   "id": "0c59abd8",
   "metadata": {},
   "outputs": [
    {
     "name": "stdout",
     "output_type": "stream",
     "text": [
      "올해는 2025년 입니다.\n"
     ]
    }
   ],
   "source": [
    "print(\"올해는 %d년 입니다.\" % 2025.55 ) #실수를 넣으면 실수변환됨"
   ]
  },
  {
   "cell_type": "markdown",
   "id": "5c13cb10",
   "metadata": {},
   "source": [
    "### 실수를 입력할 때 %f 기본소수점 6자리로 표시 "
   ]
  },
  {
   "cell_type": "code",
   "execution_count": 26,
   "id": "8df386de",
   "metadata": {},
   "outputs": [
    {
     "name": "stdout",
     "output_type": "stream",
     "text": [
      "사람의 정상체온은 약 36.500000도 입니다.\n"
     ]
    }
   ],
   "source": [
    "print(\"사람의 정상체온은 약 %f도 입니다.\" % 36.5)"
   ]
  },
  {
   "cell_type": "markdown",
   "id": "034870f6",
   "metadata": {},
   "source": [
    "* 소수점 표기를 조절할 때 %.소숫점 자릿수f ex)%2f"
   ]
  },
  {
   "cell_type": "code",
   "execution_count": 27,
   "id": "d39f942c",
   "metadata": {},
   "outputs": [
    {
     "name": "stdout",
     "output_type": "stream",
     "text": [
      "사람의 정상체온은 약 36.5도 입니다.\n"
     ]
    }
   ],
   "source": [
    "print(\"사람의 정상체온은 약 %.1f도 입니다.\" % 36.5)"
   ]
  },
  {
   "cell_type": "markdown",
   "id": "922f9ec0",
   "metadata": {},
   "source": [
    "### 4) 서식지정잘로 문자열 길이, 정렬 %길이s"
   ]
  },
  {
   "cell_type": "code",
   "execution_count": 28,
   "id": "81924bfa",
   "metadata": {},
   "outputs": [
    {
     "name": "stdout",
     "output_type": "stream",
     "text": [
      "      10자리\n"
     ]
    }
   ],
   "source": [
    "print(\"%10s\" % \"10자리\")"
   ]
  },
  {
   "cell_type": "code",
   "execution_count": 29,
   "id": "2756bb3a",
   "metadata": {},
   "outputs": [
    {
     "name": "stdout",
     "output_type": "stream",
     "text": [
      "01\n"
     ]
    }
   ],
   "source": [
    "print(\"%1s\" % \"01\")"
   ]
  },
  {
   "cell_type": "code",
   "execution_count": 2,
   "id": "653a70b3",
   "metadata": {},
   "outputs": [
    {
     "data": {
      "text/plain": [
       "' 01'"
      ]
     },
     "execution_count": 2,
     "metadata": {},
     "output_type": "execute_result"
    }
   ],
   "source": [
    "'%3s' % \"01\""
   ]
  },
  {
   "cell_type": "code",
   "execution_count": 30,
   "id": "b4106b10",
   "metadata": {},
   "outputs": [
    {
     "name": "stdout",
     "output_type": "stream",
     "text": [
      "150000\n",
      "15000\n"
     ]
    }
   ],
   "source": [
    "print(150000)\n",
    "print(15000)"
   ]
  },
  {
   "cell_type": "code",
   "execution_count": 31,
   "id": "5843e74b",
   "metadata": {
    "scrolled": true
   },
   "outputs": [
    {
     "name": "stdout",
     "output_type": "stream",
     "text": [
      "가격은     150000 입니다\n",
      "가격은      15000 입니다\n"
     ]
    }
   ],
   "source": [
    "print(\"가격은 %10d 입니다\" % 150000)\n",
    "print(\"가격은 %10d 입니다\" % 15000)"
   ]
  },
  {
   "cell_type": "markdown",
   "id": "eab9bc29",
   "metadata": {},
   "source": [
    "### 5) 여러 항목 동시에 넣기"
   ]
  },
  {
   "cell_type": "code",
   "execution_count": 3,
   "id": "7be2f346",
   "metadata": {},
   "outputs": [
    {
     "name": "stdout",
     "output_type": "stream",
     "text": [
      "오늘은 2025년  3월 17일 입니다.\n"
     ]
    }
   ],
   "source": [
    "print(\"오늘은 %4s년 %2d월 %2d일 입니다.\" % ('2025', 3, 17)) #튜플로 묶어야 처리가 된다. "
   ]
  },
  {
   "cell_type": "code",
   "execution_count": 33,
   "id": "405f09bb",
   "metadata": {},
   "outputs": [
    {
     "name": "stdout",
     "output_type": "stream",
     "text": [
      "2025 3 17\n"
     ]
    }
   ],
   "source": [
    "a, b, c = (2025, 3, 17)\n",
    "print(a,b,c)"
   ]
  },
  {
   "cell_type": "code",
   "execution_count": 16,
   "id": "ba2515ce",
   "metadata": {},
   "outputs": [],
   "source": [
    "company = ['삼성전자', 'LG전자', '현대차', '대한항공', '하나투어']\n",
    "stock = [71800, 121000, 195000, 31900, 86600]"
   ]
  },
  {
   "cell_type": "code",
   "execution_count": 17,
   "id": "4b85792a",
   "metadata": {},
   "outputs": [
    {
     "name": "stdout",
     "output_type": "stream",
     "text": [
      "삼성전자의 주가는 71800입니다.\n",
      "LG전자의 주가는 121000입니다.\n",
      "현대차의 주가는 195000입니다.\n",
      "대한항공의 주가는 31900입니다.\n",
      "하나투어의 주가는 86600입니다.\n"
     ]
    }
   ],
   "source": [
    "for com, st in zip(company, stock): \n",
    "    print(\"%s의 주가는 %d입니다.\" % (com, st))"
   ]
  },
  {
   "cell_type": "markdown",
   "id": "6f215331",
   "metadata": {},
   "source": [
    "# 2. format 메서드 사용하기, f-string 문자열 포메팅"
   ]
  },
  {
   "cell_type": "markdown",
   "id": "87b34f5b",
   "metadata": {},
   "source": [
    "### 1) format 메서드 사용하기 : 위치 지정, 같은 단어를 여러번 반복해야할 떄\n",
    "* \"문자열 {인덱스} \"문자끝열\" .format(값)"
   ]
  },
  {
   "cell_type": "code",
   "execution_count": 18,
   "id": "f69c1a83",
   "metadata": {
    "scrolled": true
   },
   "outputs": [
    {
     "name": "stdout",
     "output_type": "stream",
     "text": [
      "삼성전자의 주가는 71800입니다.\n"
     ]
    }
   ],
   "source": [
    "print(\"{}의 주가는 {}입니다.\".format('삼성전자', 71800))"
   ]
  },
  {
   "cell_type": "code",
   "execution_count": 19,
   "id": "51dfd3b6",
   "metadata": {
    "scrolled": true
   },
   "outputs": [
    {
     "name": "stdout",
     "output_type": "stream",
     "text": [
      "삼성전자의 주가는 71800입니다.\n"
     ]
    }
   ],
   "source": [
    "print(\"{0}의 주가는 {1}입니다.\".format('삼성전자', 71800))"
   ]
  },
  {
   "cell_type": "code",
   "execution_count": 20,
   "id": "5f6d3b8d",
   "metadata": {},
   "outputs": [
    {
     "name": "stdout",
     "output_type": "stream",
     "text": [
      "71800의 주가는 삼성전자입니다.\n"
     ]
    }
   ],
   "source": [
    "print(\"{1}의 주가는 {0}입니다.\".format('삼성전자', 71800))"
   ]
  },
  {
   "cell_type": "code",
   "execution_count": 21,
   "id": "fd7fd092",
   "metadata": {
    "scrolled": false
   },
   "outputs": [
    {
     "ename": "IndexError",
     "evalue": "Replacement index 4 out of range for positional args tuple",
     "output_type": "error",
     "traceback": [
      "\u001b[1;31m---------------------------------------------------------------------------\u001b[0m",
      "\u001b[1;31mIndexError\u001b[0m                                Traceback (most recent call last)",
      "Cell \u001b[1;32mIn[21], line 1\u001b[0m\n\u001b[1;32m----> 1\u001b[0m \u001b[38;5;28mprint\u001b[39m(\u001b[38;5;124;43m\"\u001b[39;49m\u001b[38;5;132;43;01m{}\u001b[39;49;00m\u001b[38;5;124;43m의 주가는 \u001b[39;49m\u001b[38;5;132;43;01m{}\u001b[39;49;00m\u001b[38;5;124;43m원입니다. \u001b[39;49m\u001b[38;5;130;43;01m\\n\u001b[39;49;00m\u001b[38;5;132;43;01m{}\u001b[39;49;00m\u001b[38;5;124;43m의 상한가는 \u001b[39;49m\u001b[38;5;132;43;01m{}\u001b[39;49;00m\u001b[38;5;130;43;01m\\n\u001b[39;49;00m\u001b[38;5;132;43;01m{}\u001b[39;49;00m\u001b[38;5;124;43m의 하한가는 \u001b[39;49m\u001b[38;5;132;43;01m{}\u001b[39;49;00m\u001b[38;5;124;43m입니다.\u001b[39;49m\u001b[38;5;124;43m\"\u001b[39;49m\u001b[38;5;241;43m.\u001b[39;49m\u001b[43mformat\u001b[49m\u001b[43m(\u001b[49m\u001b[38;5;124;43m\"\u001b[39;49m\u001b[38;5;124;43m삼성전자\u001b[39;49m\u001b[38;5;124;43m\"\u001b[39;49m\u001b[43m,\u001b[49m\u001b[43m \u001b[49m\u001b[38;5;241;43m71500\u001b[39;49m\u001b[43m,\u001b[49m\u001b[43m \u001b[49m\u001b[38;5;241;43m50200\u001b[39;49m\u001b[43m,\u001b[49m\u001b[43m \u001b[49m\u001b[38;5;241;43m93000\u001b[39;49m\u001b[43m)\u001b[49m)\n",
      "\u001b[1;31mIndexError\u001b[0m: Replacement index 4 out of range for positional args tuple"
     ]
    }
   ],
   "source": [
    "print(\"{}의 주가는 {}원입니다. \\n{}의 상한가는 {}\\n{}의 하한가는 {}입니다.\".format(\"삼성전자\", 71500, 50200, 93000))"
   ]
  },
  {
   "cell_type": "code",
   "execution_count": 22,
   "id": "84674ea7",
   "metadata": {},
   "outputs": [
    {
     "name": "stdout",
     "output_type": "stream",
     "text": [
      "삼성전자의 주가는 71500원입니다. \n",
      "삼성전자의 상한가는 93000\n",
      "삼성전자의 하한가는 50200입니다.\n"
     ]
    }
   ],
   "source": [
    "print(\"{0}의 주가는 {1}원입니다. \\n{0}의 상한가는 {3}\\n{0}의 하한가는 {2}입니다.\".format(\"삼성전자\", 71500, 50200, 93000))"
   ]
  },
  {
   "cell_type": "markdown",
   "id": "30711c76",
   "metadata": {},
   "source": [
    "### f-string으로 값넣기 (python3.6 부터???사용가능)"
   ]
  },
  {
   "cell_type": "code",
   "execution_count": 23,
   "id": "8a69bdba",
   "metadata": {},
   "outputs": [
    {
     "data": {
      "text/plain": [
       "['삼성전자', 'LG전자', '현대차', '대한항공', '하나투어']"
      ]
     },
     "execution_count": 23,
     "metadata": {},
     "output_type": "execute_result"
    }
   ],
   "source": [
    "company"
   ]
  },
  {
   "cell_type": "code",
   "execution_count": 24,
   "id": "b7839e31",
   "metadata": {},
   "outputs": [
    {
     "data": {
      "text/plain": [
       "[71800, 121000, 195000, 31900, 86600]"
      ]
     },
     "execution_count": 24,
     "metadata": {},
     "output_type": "execute_result"
    }
   ],
   "source": [
    "stock"
   ]
  },
  {
   "cell_type": "code",
   "execution_count": 25,
   "id": "b505975d",
   "metadata": {},
   "outputs": [
    {
     "name": "stdout",
     "output_type": "stream",
     "text": [
      "삼성전자의 주가는 71800 입니다.\n"
     ]
    }
   ],
   "source": [
    "print(f\"{company[0]}의 주가는 {stock[0]} 입니다.\")"
   ]
  },
  {
   "cell_type": "code",
   "execution_count": 26,
   "id": "3e87b018",
   "metadata": {},
   "outputs": [
    {
     "name": "stdout",
     "output_type": "stream",
     "text": [
      "삼성전자의 주가는 71800 입니다.\n"
     ]
    }
   ],
   "source": [
    "sam = \"삼성전자\"\n",
    "sto = 71800\n",
    "print(f\"{sam}의 주가는 {sto} 입니다.\")"
   ]
  },
  {
   "cell_type": "code",
   "execution_count": 27,
   "id": "97fc5a00",
   "metadata": {
    "scrolled": true
   },
   "outputs": [
    {
     "name": "stdout",
     "output_type": "stream",
     "text": [
      "삼성전자의 주가는 71800원 입니다. \n",
      "LG전자의 주가는 121000원 입니다. \n",
      "현대차의 주가는 195000원 입니다. \n",
      "대한항공의 주가는 31900원 입니다. \n",
      "하나투어의 주가는 86600원 입니다. \n"
     ]
    }
   ],
   "source": [
    "for com, sto in zip(company, stock):\n",
    "    print(f\"{com}의 주가는 {sto}원 입니다. \")"
   ]
  },
  {
   "cell_type": "code",
   "execution_count": 34,
   "id": "9d22d40a",
   "metadata": {
    "scrolled": true
   },
   "outputs": [
    {
     "ename": "SyntaxError",
     "evalue": "f-string: invalid syntax (1606234353.py, line 2)",
     "output_type": "error",
     "traceback": [
      "\u001b[1;36m  Cell \u001b[1;32mIn[34], line 2\u001b[1;36m\u001b[0m\n\u001b[1;33m    print(f\"{%s}의 주가는 {%d}원 입니다.\" % (com, sto))\u001b[0m\n\u001b[1;37m    ^\u001b[0m\n\u001b[1;31mSyntaxError\u001b[0m\u001b[1;31m:\u001b[0m f-string: invalid syntax\n"
     ]
    }
   ],
   "source": [
    "for com, sto in zip(company, stock):\n",
    "    print(f\"{%s}의 주가는 {%d}원 입니다.\" % (com, sto))"
   ]
  },
  {
   "cell_type": "markdown",
   "id": "71473f91",
   "metadata": {},
   "source": [
    "# 3. format 메서드와 f-string으로 문자열 정렬하기, 자릿수 지정해 출력하기"
   ]
  },
  {
   "cell_type": "markdown",
   "id": "85d9c886",
   "metadata": {},
   "source": [
    "* \"{인덱스:<길이}\".format(값)\n",
    "* f\"{\"값\":\"길이\"}\n",
    "\n",
    "<10공간을 10칸 확보하고 글자를 왼쪽 정렬"
   ]
  },
  {
   "cell_type": "code",
   "execution_count": 11,
   "id": "64766eed",
   "metadata": {},
   "outputs": [
    {
     "data": {
      "text/plain": [
       "'삼성전자      '"
      ]
     },
     "execution_count": 11,
     "metadata": {},
     "output_type": "execute_result"
    }
   ],
   "source": [
    "\"{0:<10}\".format(\"삼성전자\") # <,>는 정렬을 뜻함"
   ]
  },
  {
   "cell_type": "code",
   "execution_count": 10,
   "id": "2b6abaf1",
   "metadata": {},
   "outputs": [
    {
     "data": {
      "text/plain": [
       "'      삼성전자'"
      ]
     },
     "execution_count": 10,
     "metadata": {},
     "output_type": "execute_result"
    }
   ],
   "source": [
    "\"{0:>10}\".format(\"삼성전자\")"
   ]
  },
  {
   "cell_type": "code",
   "execution_count": 35,
   "id": "0409801d",
   "metadata": {},
   "outputs": [
    {
     "data": {
      "text/plain": [
       "'      삼성전자'"
      ]
     },
     "execution_count": 35,
     "metadata": {},
     "output_type": "execute_result"
    }
   ],
   "source": [
    "\"%10s\" % \"삼성전자\""
   ]
  },
  {
   "cell_type": "code",
   "execution_count": 36,
   "id": "f0e7cb4b",
   "metadata": {},
   "outputs": [
    {
     "data": {
      "text/plain": [
       "'삼성전자      '"
      ]
     },
     "execution_count": 36,
     "metadata": {},
     "output_type": "execute_result"
    }
   ],
   "source": [
    "f\"{'삼성전자':<10}\" # 안에 있는 문자열은 '바깥'과 다르게 써야함"
   ]
  },
  {
   "cell_type": "code",
   "execution_count": 37,
   "id": "e8f04087",
   "metadata": {},
   "outputs": [
    {
     "data": {
      "text/plain": [
       "'      삼성전자'"
      ]
     },
     "execution_count": 37,
     "metadata": {},
     "output_type": "execute_result"
    }
   ],
   "source": [
    "f\"{'삼성전자':>10}\""
   ]
  },
  {
   "cell_type": "markdown",
   "id": "b205bd58",
   "metadata": {},
   "source": [
    "* 숫자 표기시 숫자 자리수 맞추고 기본 값 지정하기\n",
    "* \"{인덱스:채울숫자 길이 서식지정자}\".format(값), 단, 서식지정자에서 %는 뺴고 적는다. \n",
    "* f\"{값: 채울 숫자 길이 서식지정(채워줄 숫자+글자개수+형식(s,d,f}\" %는 뺌"
   ]
  },
  {
   "cell_type": "code",
   "execution_count": 38,
   "id": "4f789ec9",
   "metadata": {},
   "outputs": [
    {
     "name": "stdout",
     "output_type": "stream",
     "text": [
      "1월\n"
     ]
    }
   ],
   "source": [
    "print(\"{0}월\".format(1))"
   ]
  },
  {
   "cell_type": "code",
   "execution_count": 43,
   "id": "7931c4f6",
   "metadata": {},
   "outputs": [
    {
     "name": "stdout",
     "output_type": "stream",
     "text": [
      "01월\n"
     ]
    }
   ],
   "source": [
    "print(\"{0:02d}월\".format(1))"
   ]
  },
  {
   "cell_type": "code",
   "execution_count": 40,
   "id": "a0d2b688",
   "metadata": {
    "scrolled": true
   },
   "outputs": [
    {
     "name": "stdout",
     "output_type": "stream",
     "text": [
      "001일\n"
     ]
    }
   ],
   "source": [
    "print(\"{0:03d}일\".format(1))"
   ]
  },
  {
   "cell_type": "code",
   "execution_count": 41,
   "id": "2775ab42",
   "metadata": {},
   "outputs": [
    {
     "name": "stdout",
     "output_type": "stream",
     "text": [
      "01월\n"
     ]
    }
   ],
   "source": [
    "print(f\"{1:02d}월\")"
   ]
  },
  {
   "cell_type": "markdown",
   "id": "4698127b",
   "metadata": {},
   "source": [
    "* 실수의 정수자리수와 소수점 자릿수 지정하기\n",
    "* ( \"{인덱스:기본값 자리수 서식지정자}\".format(값)\n",
    "* f\"{값:기본값 자리수 서식지정자}\"\n",
    "* 실수에서 자리수는 정수((정수지만 정수, 소수점 둘다 포함) +.+소숫점\n"
   ]
  },
  {
   "cell_type": "code",
   "execution_count": 59,
   "id": "22973d9c",
   "metadata": {},
   "outputs": [
    {
     "name": "stdout",
     "output_type": "stream",
     "text": [
      "2.246\n"
     ]
    }
   ],
   "source": [
    "print(\"{0:03.3f}\".format(2.245678))"
   ]
  },
  {
   "cell_type": "code",
   "execution_count": 46,
   "id": "16897ba4",
   "metadata": {},
   "outputs": [
    {
     "name": "stdout",
     "output_type": "stream",
     "text": [
      "02.246\n"
     ]
    }
   ],
   "source": [
    "print(\"{0:06.3f}\".format(2.245678))"
   ]
  },
  {
   "cell_type": "code",
   "execution_count": 47,
   "id": "87f5ceac",
   "metadata": {},
   "outputs": [
    {
     "name": "stdout",
     "output_type": "stream",
     "text": [
      "2.246\n"
     ]
    }
   ],
   "source": [
    "print(\"{0:01.3f}\".format(2.245678))"
   ]
  },
  {
   "cell_type": "code",
   "execution_count": 48,
   "id": "4dc6afac",
   "metadata": {},
   "outputs": [
    {
     "name": "stdout",
     "output_type": "stream",
     "text": [
      "000002.246\n"
     ]
    }
   ],
   "source": [
    "print(\"{0:010.3f}\".format(2.245678))"
   ]
  },
  {
   "cell_type": "code",
   "execution_count": 49,
   "id": "2e9cbabd",
   "metadata": {},
   "outputs": [
    {
     "name": "stdout",
     "output_type": "stream",
     "text": [
      "02.2456780\n"
     ]
    }
   ],
   "source": [
    "print(\"{0:010.7f}\".format(2.245678))"
   ]
  },
  {
   "cell_type": "markdown",
   "id": "3cdeef5f",
   "metadata": {},
   "source": [
    "00시 01분부터 11시 59분까지 출력하세요. 1자리는 01형식으로 출력하세요."
   ]
  },
  {
   "cell_type": "code",
   "execution_count": 51,
   "id": "5c0f4722",
   "metadata": {},
   "outputs": [
    {
     "name": "stdout",
     "output_type": "stream",
     "text": [
      "11시 59분\r"
     ]
    }
   ],
   "source": [
    "import time\n",
    "for si in range(0,12):\n",
    "    for bun in range(0,60):\n",
    "        print(f\"{si:02d}시 {bun:02d}분\", end=\"\\r\")\n",
    "        time.sleep(0.002)"
   ]
  },
  {
   "cell_type": "markdown",
   "id": "052ece8e",
   "metadata": {},
   "source": [
    "* 공백을 원하는 문자로 채우고 자리수 맞추는\n",
    "* {인덱스: 원하는 숫자/문자 ><자리수}.format(값)\n",
    "* f\"{값:원하는 숫자/문자 >< 자리수}\"\""
   ]
  },
  {
   "cell_type": "code",
   "execution_count": 64,
   "id": "20afefb4",
   "metadata": {},
   "outputs": [
    {
     "data": {
      "text/plain": [
       "'**달러'"
      ]
     },
     "execution_count": 64,
     "metadata": {},
     "output_type": "execute_result"
    }
   ],
   "source": [
    "\"{0:*>4}\".format(\"달러\")"
   ]
  },
  {
   "cell_type": "code",
   "execution_count": 48,
   "id": "cda29a90",
   "metadata": {},
   "outputs": [
    {
     "data": {
      "text/plain": [
       "'달러$$$$$$$$'"
      ]
     },
     "execution_count": 48,
     "metadata": {},
     "output_type": "execute_result"
    }
   ],
   "source": [
    "f\"{'달러':$<10}\""
   ]
  },
  {
   "cell_type": "code",
   "execution_count": 49,
   "id": "5a1ab2a3",
   "metadata": {
    "scrolled": false
   },
   "outputs": [
    {
     "data": {
      "text/plain": [
       "'$$$$$$$$달러'"
      ]
     },
     "execution_count": 49,
     "metadata": {},
     "output_type": "execute_result"
    }
   ],
   "source": [
    "f\"{'달러':$>10}\""
   ]
  },
  {
   "cell_type": "code",
   "execution_count": 53,
   "id": "699ca527",
   "metadata": {},
   "outputs": [],
   "source": [
    "url=\"https://finance.naver.com/sise/sise_trans_style.naver?sosok=\""
   ]
  },
  {
   "cell_type": "code",
   "execution_count": 58,
   "id": "7b530fa2",
   "metadata": {},
   "outputs": [
    {
     "data": {
      "text/plain": [
       "'https://finance.naver.com/sise/sise_trans_style.naver?sosok=03'"
      ]
     },
     "execution_count": 58,
     "metadata": {},
     "output_type": "execute_result"
    }
   ],
   "source": [
    "url+'03'"
   ]
  },
  {
   "cell_type": "code",
   "execution_count": 57,
   "id": "b7d82c6b",
   "metadata": {},
   "outputs": [
    {
     "name": "stdout",
     "output_type": "stream",
     "text": [
      "https://finance.naver.com/sise/sise_trans_style.naver?sosok=01\n",
      "https://finance.naver.com/sise/sise_trans_style.naver?sosok=02\n",
      "https://finance.naver.com/sise/sise_trans_style.naver?sosok=03\n",
      "https://finance.naver.com/sise/sise_trans_style.naver?sosok=04\n",
      "https://finance.naver.com/sise/sise_trans_style.naver?sosok=05\n",
      "https://finance.naver.com/sise/sise_trans_style.naver?sosok=06\n",
      "https://finance.naver.com/sise/sise_trans_style.naver?sosok=07\n",
      "https://finance.naver.com/sise/sise_trans_style.naver?sosok=08\n",
      "https://finance.naver.com/sise/sise_trans_style.naver?sosok=09\n",
      "https://finance.naver.com/sise/sise_trans_style.naver?sosok=10\n"
     ]
    }
   ],
   "source": [
    "for i in range(1,11):\n",
    "    print(f\"{url}{i:02d}\")"
   ]
  },
  {
   "cell_type": "code",
   "execution_count": null,
   "id": "e836ce32",
   "metadata": {},
   "outputs": [],
   "source": []
  },
  {
   "cell_type": "code",
   "execution_count": null,
   "id": "5b1f75b7",
   "metadata": {},
   "outputs": [],
   "source": []
  },
  {
   "cell_type": "code",
   "execution_count": null,
   "id": "93f15713",
   "metadata": {},
   "outputs": [],
   "source": []
  },
  {
   "cell_type": "code",
   "execution_count": null,
   "id": "377b2ae1",
   "metadata": {},
   "outputs": [],
   "source": []
  },
  {
   "cell_type": "code",
   "execution_count": null,
   "id": "b3e66be4",
   "metadata": {},
   "outputs": [],
   "source": []
  },
  {
   "cell_type": "code",
   "execution_count": null,
   "id": "eb722fc3",
   "metadata": {},
   "outputs": [],
   "source": []
  },
  {
   "cell_type": "code",
   "execution_count": null,
   "id": "a010d87d",
   "metadata": {},
   "outputs": [],
   "source": []
  },
  {
   "cell_type": "code",
   "execution_count": null,
   "id": "68e9711d",
   "metadata": {},
   "outputs": [],
   "source": []
  },
  {
   "cell_type": "code",
   "execution_count": null,
   "id": "0f5c27db",
   "metadata": {},
   "outputs": [],
   "source": []
  },
  {
   "cell_type": "code",
   "execution_count": null,
   "id": "fb18cc8d",
   "metadata": {},
   "outputs": [],
   "source": []
  },
  {
   "cell_type": "code",
   "execution_count": null,
   "id": "33126963",
   "metadata": {},
   "outputs": [],
   "source": []
  }
 ],
 "metadata": {
  "kernelspec": {
   "display_name": "Python 3 (ipykernel)",
   "language": "python",
   "name": "python3"
  },
  "language_info": {
   "codemirror_mode": {
    "name": "ipython",
    "version": 3
   },
   "file_extension": ".py",
   "mimetype": "text/x-python",
   "name": "python",
   "nbconvert_exporter": "python",
   "pygments_lexer": "ipython3",
   "version": "3.9.21"
  }
 },
 "nbformat": 4,
 "nbformat_minor": 5
}
