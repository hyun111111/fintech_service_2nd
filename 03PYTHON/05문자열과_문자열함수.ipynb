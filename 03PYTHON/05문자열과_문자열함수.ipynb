{
 "cells": [
  {
   "cell_type": "markdown",
   "id": "dd7b624b",
   "metadata": {},
   "source": [
    "## 1. 문자열 사용하기의 기본\n",
    "* \"\",'' 따옴표 안에 문자를 넣어서 문자열을 만든다."
   ]
  },
  {
   "cell_type": "code",
   "execution_count": 1,
   "id": "efaa510c",
   "metadata": {},
   "outputs": [
    {
     "data": {
      "text/plain": [
       "'hello world'"
      ]
     },
     "execution_count": 1,
     "metadata": {},
     "output_type": "execute_result"
    }
   ],
   "source": [
    "a = \"hello world\"\n",
    "a"
   ]
  },
  {
   "cell_type": "markdown",
   "id": "cec275ec",
   "metadata": {},
   "source": [
    "* 여러 줄로 된 문자열은 \"\"\" \"\"\"나 ''' '''로 만든다.\n",
    "* 자동으로 \\n 과 \"\"이 적용되어 입력한 그대로 출력된다. "
   ]
  },
  {
   "cell_type": "code",
   "execution_count": 2,
   "id": "849997f2",
   "metadata": {},
   "outputs": [],
   "source": [
    "a2=\"\"\"\n",
    "안녕하세요.\n",
    "python 수업입니다\n",
    "잘부탁드립니다. \"\"\""
   ]
  },
  {
   "cell_type": "code",
   "execution_count": 3,
   "id": "833112b8",
   "metadata": {},
   "outputs": [
    {
     "name": "stdout",
     "output_type": "stream",
     "text": [
      "\n",
      "안녕하세요.\n",
      "python 수업입니다\n",
      "잘부탁드립니다. \n"
     ]
    }
   ],
   "source": [
    "print(a2)"
   ]
  },
  {
   "cell_type": "markdown",
   "id": "d50aa406",
   "metadata": {},
   "source": [
    "* 이스케이프 문자\n",
    "* \\n 줄바꿈\n",
    "* \\t tab\n",
    "* \\r carrige return\n",
    "* 문자열 안에서 특수문자를 출력하고 싶을때 + 특수문자 형태로 출력"
   ]
  },
  {
   "cell_type": "code",
   "execution_count": 5,
   "id": "167c85f5",
   "metadata": {},
   "outputs": [
    {
     "name": "stdout",
     "output_type": "stream",
     "text": [
      "파이썬에서 줄바꿈은 \\n으로 합니다. \n",
      "\n",
      "\n",
      " 3줄 줄바꿈\n"
     ]
    }
   ],
   "source": [
    "h1 = \"파이썬에서 줄바꿈은 \\\\n으로 합니다. \\n\\n\\n 3줄 줄바꿈\"\n",
    "print(h1)"
   ]
  },
  {
   "cell_type": "code",
   "execution_count": 7,
   "id": "6d8fba73",
   "metadata": {},
   "outputs": [
    {
     "name": "stdout",
     "output_type": "stream",
     "text": [
      "탭으로 공간을 띄우는 것은 \\t \t로 합니다\n"
     ]
    }
   ],
   "source": [
    "h2 = \"탭으로 공간을 띄우는 것은 \\\\t \\t로 합니다\"\n",
    "print(h2)"
   ]
  },
  {
   "cell_type": "code",
   "execution_count": 9,
   "id": "48d0319e",
   "metadata": {},
   "outputs": [
    {
     "name": "stdout",
     "output_type": "stream",
     "text": [
      "캐리지 리턴은 \\r입니다. \n",
      " 커서가 같은 줄 가장 앞으로 이동하기 때문에 \r",
      " 지워졌습니다 \n"
     ]
    }
   ],
   "source": [
    "h3 = \"캐리지 리턴은 \\\\r입니다. \\n 커서가 같은 줄 가장 앞으로 이동하기 때문에 \\r 지워졌습니다 \"\n",
    "print(h3)"
   ]
  },
  {
   "cell_type": "markdown",
   "id": "46fd8962",
   "metadata": {},
   "source": [
    "# 인덱스와 문자열\n",
    "* 문자 : 글자 1개\n",
    "* 문자열: 글자가 여러개 => 순서가 있다 => 앞에서부터 0번 1번 순으로 번호가 매겨짐\n",
    "* 순서가 있는 자료는 번호를 불러서 그 번호에 해당하는 자료를 꺼낼 수 있다. "
   ]
  },
  {
   "cell_type": "code",
   "execution_count": 19,
   "id": "686a9bdd",
   "metadata": {},
   "outputs": [
    {
     "name": "stdout",
     "output_type": "stream",
     "text": [
      "문자열은 왼쪽부터 번호를 매길 수 있으며 시작은 0번부터 입니다.\n"
     ]
    }
   ],
   "source": [
    "h4 = \"문자열은 왼쪽부터 번호를 매길 수 있으며 시작은 0번부터 입니다.\"\n",
    "print(h4)"
   ]
  },
  {
   "cell_type": "code",
   "execution_count": 20,
   "id": "3d1f0ae1",
   "metadata": {},
   "outputs": [
    {
     "data": {
      "text/plain": [
       "'문'"
      ]
     },
     "execution_count": 20,
     "metadata": {},
     "output_type": "execute_result"
    }
   ],
   "source": [
    "# h4 문자열에서 첫번쨰 글자를 추출하세요.\n",
    "h4[0]"
   ]
  },
  {
   "cell_type": "code",
   "execution_count": 21,
   "id": "8537cb8e",
   "metadata": {},
   "outputs": [
    {
     "data": {
      "text/plain": [
       "'문자열은 '"
      ]
     },
     "execution_count": 21,
     "metadata": {},
     "output_type": "execute_result"
    }
   ],
   "source": [
    "# h4 문자열에서 앞에서 5글자를 추출하세요.\n",
    "h4[0:5]"
   ]
  },
  {
   "cell_type": "code",
   "execution_count": 22,
   "id": "c8997301",
   "metadata": {},
   "outputs": [
    {
     "data": {
      "text/plain": [
       "'번호를 매길 수 있으며'"
      ]
     },
     "execution_count": 22,
     "metadata": {},
     "output_type": "execute_result"
    }
   ],
   "source": [
    "# 인덱스 10번부터 21번까지 추출하세요\n",
    "h4[10:22]"
   ]
  },
  {
   "cell_type": "code",
   "execution_count": 23,
   "id": "700b06d4",
   "metadata": {},
   "outputs": [
    {
     "data": {
      "text/plain": [
       "36"
      ]
     },
     "execution_count": 23,
     "metadata": {},
     "output_type": "execute_result"
    }
   ],
   "source": [
    "# 문자열의 길이를 잴 때 len()\n",
    "len(h4)"
   ]
  },
  {
   "cell_type": "markdown",
   "id": "e07bd4be",
   "metadata": {},
   "source": [
    "* 순서가 있는 자료형의 인덱스는 앞에서부터 0,1,2,3... \n",
    "* 뒤에서부터 -1,-2,-3"
   ]
  },
  {
   "cell_type": "markdown",
   "id": "ebd69caf",
   "metadata": {},
   "source": [
    "* 문자열의 끝에서 10개를 가져오고 싶을때 "
   ]
  },
  {
   "cell_type": "code",
   "execution_count": 24,
   "id": "17895498",
   "metadata": {},
   "outputs": [
    {
     "data": {
      "text/plain": [
       "'은 0번부터 입니다'"
      ]
     },
     "execution_count": 24,
     "metadata": {},
     "output_type": "execute_result"
    }
   ],
   "source": [
    "h4[-11:-1]"
   ]
  },
  {
   "cell_type": "markdown",
   "id": "bf2bb6fc",
   "metadata": {},
   "source": [
    "* 슬라이싱 시 시작과 끝은 생략 가능"
   ]
  },
  {
   "cell_type": "code",
   "execution_count": 25,
   "id": "f878415c",
   "metadata": {},
   "outputs": [
    {
     "data": {
      "text/plain": [
       "'문자열은 왼쪽부터 번'"
      ]
     },
     "execution_count": 25,
     "metadata": {},
     "output_type": "execute_result"
    }
   ],
   "source": [
    "# h4에서 0번부터 10번까지 가져올 때 \n",
    "h4[:11]"
   ]
  },
  {
   "cell_type": "code",
   "execution_count": 26,
   "id": "ad3a55da",
   "metadata": {},
   "outputs": [
    {
     "data": {
      "text/plain": [
       "'은 0번부터 입니다.'"
      ]
     },
     "execution_count": 26,
     "metadata": {},
     "output_type": "execute_result"
    }
   ],
   "source": [
    "# 뒤에서 0번부터 10번까지 가져올 때 \n",
    "h4[-11:]"
   ]
  },
  {
   "cell_type": "code",
   "execution_count": 28,
   "id": "f479ebef",
   "metadata": {},
   "outputs": [
    {
     "data": {
      "text/plain": [
       "'문자열은 왼쪽부터 번호를 매길 수 있으며 시작은 0번부터 입니다.'"
      ]
     },
     "execution_count": 28,
     "metadata": {},
     "output_type": "execute_result"
    }
   ],
   "source": [
    "h4[:]\n",
    "# 시작인덱스와 끝 인덱스를 다 생략한 경우"
   ]
  },
  {
   "cell_type": "markdown",
   "id": "f710d7e6",
   "metadata": {},
   "source": [
    "# 슬라이싱 [시작인덱스:끝인덱스+1:step]"
   ]
  },
  {
   "cell_type": "code",
   "execution_count": 32,
   "id": "c2cc727e",
   "metadata": {},
   "outputs": [
    {
     "data": {
      "text/plain": [
       "'문열 쪽터번를매  으 작 번터입다'"
      ]
     },
     "execution_count": 32,
     "metadata": {},
     "output_type": "execute_result"
    }
   ],
   "source": [
    "h4[0::2]\n",
    "# 두칸씩 띄워 가져오기"
   ]
  },
  {
   "cell_type": "code",
   "execution_count": 33,
   "id": "634f2917",
   "metadata": {},
   "outputs": [
    {
     "data": {
      "text/plain": [
       "'문열 쪽터번를매  으 작 번터입다'"
      ]
     },
     "execution_count": 33,
     "metadata": {},
     "output_type": "execute_result"
    }
   ],
   "source": [
    "h4[::2]"
   ]
  },
  {
   "cell_type": "code",
   "execution_count": 35,
   "id": "d91082ac",
   "metadata": {},
   "outputs": [
    {
     "data": {
      "text/plain": [
       "'.다니입 터부번0 은작시 며으있 수 길매 를호번 터부쪽왼 은열자문'"
      ]
     },
     "execution_count": 35,
     "metadata": {},
     "output_type": "execute_result"
    }
   ],
   "source": [
    "h4[::-1] # 문자열을 거꾸로 정렬"
   ]
  },
  {
   "cell_type": "markdown",
   "id": "8102e98d",
   "metadata": {},
   "source": [
    "## 문자열 함수\n",
    "* .replace() : 값을 찾아서 바꾸는 함수\n",
    "* .split() : 공백을 기준으로 자료를 나눠서 리스트로 변형\n",
    "* .join() : 기준자를 통해서 리스트를 하나의 문자열로 변형, .앞에 \"\"를 써주고 그 안에 있는것을 기준으로 합칠수 있음\n",
    "* .strip() : 문자열 외부의 공백을 제거, 공백+특수문자 제거"
   ]
  },
  {
   "cell_type": "markdown",
   "id": "c6cde048",
   "metadata": {},
   "source": [
    "## 문자열 바꾸기 replace(찾을 값, 바꿀 값, 바꿀 갯수 지정기본 -1)\n",
    "* replace 함수는 사용 후 결과를 재할당 해야함.\n",
    "* 그냥 쓰면 원본자료 손상 없음"
   ]
  },
  {
   "cell_type": "code",
   "execution_count": 43,
   "id": "3e99c5d6",
   "metadata": {},
   "outputs": [
    {
     "data": {
      "text/plain": [
       "'Hello Python'"
      ]
     },
     "execution_count": 43,
     "metadata": {},
     "output_type": "execute_result"
    }
   ],
   "source": [
    "h5 = \"Hello Python\"\n",
    "h5"
   ]
  },
  {
   "cell_type": "code",
   "execution_count": 44,
   "id": "67ee1fc3",
   "metadata": {},
   "outputs": [
    {
     "data": {
      "text/plain": [
       "'Hello World'"
      ]
     },
     "execution_count": 44,
     "metadata": {},
     "output_type": "execute_result"
    }
   ],
   "source": [
    "h5.replace(\"Python\", 'World')"
   ]
  },
  {
   "cell_type": "code",
   "execution_count": 46,
   "id": "2aa37a88",
   "metadata": {},
   "outputs": [
    {
     "data": {
      "text/plain": [
       "'Hello Python'"
      ]
     },
     "execution_count": 46,
     "metadata": {},
     "output_type": "execute_result"
    }
   ],
   "source": [
    "h5"
   ]
  },
  {
   "cell_type": "code",
   "execution_count": 47,
   "id": "e128b7fb",
   "metadata": {},
   "outputs": [],
   "source": [
    "h5 = h5.replace(\"Python\", 'World')"
   ]
  },
  {
   "cell_type": "code",
   "execution_count": 48,
   "id": "0a6f9a18",
   "metadata": {},
   "outputs": [
    {
     "data": {
      "text/plain": [
       "'Hello World'"
      ]
     },
     "execution_count": 48,
     "metadata": {},
     "output_type": "execute_result"
    }
   ],
   "source": [
    "h5"
   ]
  },
  {
   "cell_type": "markdown",
   "id": "39b601af",
   "metadata": {},
   "source": [
    "* splite()\n",
    "* 공백을 기준으로 자료를 나눠서 list로 만들어줌\n",
    "* 구분자를 따로 지정해서 사용도 가능"
   ]
  },
  {
   "cell_type": "code",
   "execution_count": 57,
   "id": "af510508",
   "metadata": {},
   "outputs": [
    {
     "data": {
      "text/plain": [
       "'문자열은, 왼쪽부터, 번호를, 매길, 수 있으며, 시작은, 0번부터, 입니다.'"
      ]
     },
     "execution_count": 57,
     "metadata": {},
     "output_type": "execute_result"
    }
   ],
   "source": [
    "h6 = \"문자열은, 왼쪽부터, 번호를, 매길, 수 있으며, 시작은, 0번부터, 입니다.\"\n",
    "h6"
   ]
  },
  {
   "cell_type": "code",
   "execution_count": 58,
   "id": "d052e433",
   "metadata": {},
   "outputs": [
    {
     "name": "stdout",
     "output_type": "stream",
     "text": [
      "['문자열은,', '왼쪽부터,', '번호를,', '매길,', '수', '있으며,', '시작은,', '0번부터,', '입니다.']\n"
     ]
    }
   ],
   "source": [
    "splited_h6 = h6.split()\n",
    "print(splited_h6)"
   ]
  },
  {
   "cell_type": "code",
   "execution_count": 51,
   "id": "dbeb7dd5",
   "metadata": {},
   "outputs": [
    {
     "data": {
      "text/plain": [
       "'왼쪽부터,'"
      ]
     },
     "execution_count": 51,
     "metadata": {},
     "output_type": "execute_result"
    }
   ],
   "source": [
    "splited_h6[1]"
   ]
  },
  {
   "cell_type": "code",
   "execution_count": 52,
   "id": "7753c00f",
   "metadata": {},
   "outputs": [
    {
     "data": {
      "text/plain": [
       "['문자열은', '왼쪽부터', '번호를', '매길', '수 있으며', '시작은', '0번부터', '입니다.']"
      ]
     },
     "execution_count": 52,
     "metadata": {},
     "output_type": "execute_result"
    }
   ],
   "source": [
    "h6.split(\", \")"
   ]
  },
  {
   "cell_type": "code",
   "execution_count": 53,
   "id": "e6ff2c12",
   "metadata": {},
   "outputs": [
    {
     "data": {
      "text/plain": [
       "'문자열은, 왼쪽부터, 번호를, 매길, 수 있으며, 시작은, 0번부터, 입니다.'"
      ]
     },
     "execution_count": 53,
     "metadata": {},
     "output_type": "execute_result"
    }
   ],
   "source": [
    "h6"
   ]
  },
  {
   "cell_type": "code",
   "execution_count": 59,
   "id": "12bb52b3",
   "metadata": {},
   "outputs": [
    {
     "name": "stdout",
     "output_type": "stream",
     "text": [
      "['문자열은', '왼쪽부터', '번호를', '매길', '수 있으며', '시작은', '0번부터', '입니다.'] <class 'list'>\n"
     ]
    }
   ],
   "source": [
    "h6 = h6.split(\", \")\n",
    "print(h6, type(h6))"
   ]
  },
  {
   "cell_type": "markdown",
   "id": "d563f100",
   "metadata": {},
   "source": [
    "# join(): 리스트, 튜플을 하나의 문자열로 합쳐주는 함수\n",
    "* 합칠 기준.join(list/puple)"
   ]
  },
  {
   "cell_type": "code",
   "execution_count": 60,
   "id": "d7eeb481",
   "metadata": {},
   "outputs": [
    {
     "data": {
      "text/plain": [
       "['문자열은', '왼쪽부터', '번호를', '매길', '수 있으며', '시작은', '0번부터', '입니다.']"
      ]
     },
     "execution_count": 60,
     "metadata": {},
     "output_type": "execute_result"
    }
   ],
   "source": [
    "h6"
   ]
  },
  {
   "cell_type": "code",
   "execution_count": 61,
   "id": "91c5da6c",
   "metadata": {},
   "outputs": [
    {
     "data": {
      "text/plain": [
       "'문자열은 왼쪽부터 번호를 매길 수 있으며 시작은 0번부터 입니다.'"
      ]
     },
     "execution_count": 61,
     "metadata": {},
     "output_type": "execute_result"
    }
   ],
   "source": [
    "\" \".join(h6)"
   ]
  },
  {
   "cell_type": "code",
   "execution_count": 62,
   "id": "ad7c5d05",
   "metadata": {},
   "outputs": [
    {
     "data": {
      "text/plain": [
       "['문자열은', '왼쪽부터', '번호를', '매길', '수 있으며', '시작은', '0번부터', '입니다.']"
      ]
     },
     "execution_count": 62,
     "metadata": {},
     "output_type": "execute_result"
    }
   ],
   "source": [
    "h6"
   ]
  },
  {
   "cell_type": "code",
   "execution_count": 63,
   "id": "3f1945f6",
   "metadata": {},
   "outputs": [
    {
     "data": {
      "text/plain": [
       "'문자열은, 왼쪽부터, 번호를, 매길, 수 있으며, 시작은, 0번부터, 입니다.'"
      ]
     },
     "execution_count": 63,
     "metadata": {},
     "output_type": "execute_result"
    }
   ],
   "source": [
    "\", \".join(h6)"
   ]
  },
  {
   "cell_type": "code",
   "execution_count": 64,
   "id": "d07f3c5e",
   "metadata": {},
   "outputs": [
    {
     "data": {
      "text/plain": [
       "'문자열은 : 왼쪽부터 : 번호를 : 매길 : 수 있으며 : 시작은 : 0번부터 : 입니다.'"
      ]
     },
     "execution_count": 64,
     "metadata": {},
     "output_type": "execute_result"
    }
   ],
   "source": [
    "\" : \".join(h6)"
   ]
  },
  {
   "cell_type": "code",
   "execution_count": 65,
   "id": "b4ad4de9",
   "metadata": {},
   "outputs": [
    {
     "data": {
      "text/plain": [
       "'문자열은 $%&U 왼쪽부터 $%&U 번호를 $%&U 매길 $%&U 수 있으며 $%&U 시작은 $%&U 0번부터 $%&U 입니다.'"
      ]
     },
     "execution_count": 65,
     "metadata": {},
     "output_type": "execute_result"
    }
   ],
   "source": [
    "\" $%&U \".join(h6)"
   ]
  },
  {
   "cell_type": "code",
   "execution_count": 66,
   "id": "2f609a82",
   "metadata": {},
   "outputs": [
    {
     "name": "stdout",
     "output_type": "stream",
     "text": [
      "문자열은 왼쪽부터 번호를 매길 수 있으며 시작은 0번부터 입니다. <class 'str'>\n"
     ]
    }
   ],
   "source": [
    "h6 = \" \".join(h6)\n",
    "print(h6, type(h6))"
   ]
  },
  {
   "cell_type": "code",
   "execution_count": 67,
   "id": "e6023ef5",
   "metadata": {},
   "outputs": [
    {
     "data": {
      "text/plain": [
       "'문자열은 왼쪽부터 번호를 매길 수 있으며 시작은 0번부터 입니다.'"
      ]
     },
     "execution_count": 67,
     "metadata": {},
     "output_type": "execute_result"
    }
   ],
   "source": [
    "h6"
   ]
  },
  {
   "cell_type": "markdown",
   "id": "dd529b94",
   "metadata": {},
   "source": [
    "## 소문자 대문자 변환함수\n",
    "* upper(),lower()"
   ]
  },
  {
   "cell_type": "code",
   "execution_count": 68,
   "id": "dd2d74b5",
   "metadata": {},
   "outputs": [
    {
     "data": {
      "text/plain": [
       "'iron-man spider-man hulk'"
      ]
     },
     "execution_count": 68,
     "metadata": {},
     "output_type": "execute_result"
    }
   ],
   "source": [
    "h7 = \"iron-man spider-man hulk\"\n",
    "h7"
   ]
  },
  {
   "cell_type": "code",
   "execution_count": 69,
   "id": "f42ded38",
   "metadata": {},
   "outputs": [
    {
     "data": {
      "text/plain": [
       "'IRON-MAN SPIDER-MAN HULK'"
      ]
     },
     "execution_count": 69,
     "metadata": {},
     "output_type": "execute_result"
    }
   ],
   "source": [
    "h7.upper()"
   ]
  },
  {
   "cell_type": "code",
   "execution_count": 70,
   "id": "7df4af1c",
   "metadata": {},
   "outputs": [
    {
     "data": {
      "text/plain": [
       "'iron-man spider-man hulk'"
      ]
     },
     "execution_count": 70,
     "metadata": {},
     "output_type": "execute_result"
    }
   ],
   "source": [
    "h7"
   ]
  },
  {
   "cell_type": "code",
   "execution_count": 71,
   "id": "9d79575a",
   "metadata": {},
   "outputs": [],
   "source": [
    "h7 = h7.upper()"
   ]
  },
  {
   "cell_type": "code",
   "execution_count": 72,
   "id": "df9d0e4c",
   "metadata": {},
   "outputs": [
    {
     "data": {
      "text/plain": [
       "'IRON-MAN SPIDER-MAN HULK'"
      ]
     },
     "execution_count": 72,
     "metadata": {},
     "output_type": "execute_result"
    }
   ],
   "source": [
    "h7"
   ]
  },
  {
   "cell_type": "code",
   "execution_count": 73,
   "id": "aaf8eccf",
   "metadata": {},
   "outputs": [
    {
     "data": {
      "text/plain": [
       "'iron-man spider-man hulk'"
      ]
     },
     "execution_count": 73,
     "metadata": {},
     "output_type": "execute_result"
    }
   ],
   "source": [
    "h7.lower()"
   ]
  },
  {
   "cell_type": "code",
   "execution_count": 74,
   "id": "e9448483",
   "metadata": {},
   "outputs": [],
   "source": [
    "h7 = h7.lower()"
   ]
  },
  {
   "cell_type": "code",
   "execution_count": 75,
   "id": "31c1bea7",
   "metadata": {},
   "outputs": [
    {
     "data": {
      "text/plain": [
       "'iron-man spider-man hulk'"
      ]
     },
     "execution_count": 75,
     "metadata": {},
     "output_type": "execute_result"
    }
   ],
   "source": [
    "h7"
   ]
  },
  {
   "cell_type": "markdown",
   "id": "580920fe",
   "metadata": {},
   "source": [
    "## 왼쪽, 오른쪽, 양쪽 공백/특정 문자 제거하기\n",
    "* lstrip() : 왼쪽 공백 삭제\n",
    "* rstrip() : 오른쪽 공백 삭제\n",
    "* strip(): "
   ]
  },
  {
   "cell_type": "code",
   "execution_count": 76,
   "id": "43aef8fa",
   "metadata": {},
   "outputs": [],
   "source": [
    "h8 = \"       공백이 있는 문자열        \""
   ]
  },
  {
   "cell_type": "code",
   "execution_count": 77,
   "id": "03b499f7",
   "metadata": {},
   "outputs": [
    {
     "data": {
      "text/plain": [
       "'       공백이 있는 문자열        '"
      ]
     },
     "execution_count": 77,
     "metadata": {},
     "output_type": "execute_result"
    }
   ],
   "source": [
    "h8"
   ]
  },
  {
   "cell_type": "code",
   "execution_count": 82,
   "id": "1fba8261",
   "metadata": {},
   "outputs": [
    {
     "data": {
      "text/plain": [
       "'공백이 있는 문자열        '"
      ]
     },
     "execution_count": 82,
     "metadata": {},
     "output_type": "execute_result"
    }
   ],
   "source": [
    "h8.lstrip()"
   ]
  },
  {
   "cell_type": "code",
   "execution_count": 83,
   "id": "0739297b",
   "metadata": {},
   "outputs": [
    {
     "data": {
      "text/plain": [
       "'       공백이 있는 문자열'"
      ]
     },
     "execution_count": 83,
     "metadata": {},
     "output_type": "execute_result"
    }
   ],
   "source": [
    "h8.rstrip()"
   ]
  },
  {
   "cell_type": "code",
   "execution_count": 84,
   "id": "283c6635",
   "metadata": {},
   "outputs": [
    {
     "data": {
      "text/plain": [
       "'공백이 있는 문자열'"
      ]
     },
     "execution_count": 84,
     "metadata": {},
     "output_type": "execute_result"
    }
   ],
   "source": [
    "h8.strip()"
   ]
  },
  {
   "cell_type": "code",
   "execution_count": 85,
   "id": "cb011401",
   "metadata": {},
   "outputs": [
    {
     "data": {
      "text/plain": [
       "'공백이있는문자열'"
      ]
     },
     "execution_count": 85,
     "metadata": {},
     "output_type": "execute_result"
    }
   ],
   "source": [
    "h8.lstrip().replace(\" \",\"\")"
   ]
  },
  {
   "cell_type": "code",
   "execution_count": 86,
   "id": "ffcf1caf",
   "metadata": {},
   "outputs": [
    {
     "data": {
      "text/plain": [
       "'       공백이 있는 문자열        '"
      ]
     },
     "execution_count": 86,
     "metadata": {},
     "output_type": "execute_result"
    }
   ],
   "source": [
    "h8"
   ]
  },
  {
   "cell_type": "code",
   "execution_count": 87,
   "id": "a0ecbdff",
   "metadata": {},
   "outputs": [
    {
     "data": {
      "text/plain": [
       "'공백이있는문자열'"
      ]
     },
     "execution_count": 87,
     "metadata": {},
     "output_type": "execute_result"
    }
   ],
   "source": [
    "h8.replace(\" \",\"\")"
   ]
  },
  {
   "cell_type": "code",
   "execution_count": 89,
   "id": "a4e10dd3",
   "metadata": {},
   "outputs": [
    {
     "data": {
      "text/plain": [
       "'..., 공백과 특수문자가 같이 있는 문자열 !! ^^ ㅋㅋㅋㅋㅋ'"
      ]
     },
     "execution_count": 89,
     "metadata": {},
     "output_type": "execute_result"
    }
   ],
   "source": [
    "h9 = \"..., 공백과 특수문자가 같이 있는 문자열 !! ^^ ㅋㅋㅋㅋㅋ\"\n",
    "h9"
   ]
  },
  {
   "cell_type": "code",
   "execution_count": 90,
   "id": "ef311a3c",
   "metadata": {},
   "outputs": [
    {
     "data": {
      "text/plain": [
       "'..., 공백과 특수문자가 같이 있는 문자열 !! ^^ ㅋㅋㅋㅋㅋ'"
      ]
     },
     "execution_count": 90,
     "metadata": {},
     "output_type": "execute_result"
    }
   ],
   "source": [
    "h9.lstrip()"
   ]
  },
  {
   "cell_type": "code",
   "execution_count": 91,
   "id": "0befebbe",
   "metadata": {},
   "outputs": [
    {
     "data": {
      "text/plain": [
       "'공백과 특수문자가 같이 있는 문자열 !! ^^ ㅋㅋㅋㅋㅋ'"
      ]
     },
     "execution_count": 91,
     "metadata": {},
     "output_type": "execute_result"
    }
   ],
   "source": [
    "h9.lstrip(\"., \")"
   ]
  },
  {
   "cell_type": "code",
   "execution_count": 93,
   "id": "4bd51f7e",
   "metadata": {},
   "outputs": [
    {
     "data": {
      "text/plain": [
       "'..., 공백과 특수문자가 같이 있는 문자열'"
      ]
     },
     "execution_count": 93,
     "metadata": {},
     "output_type": "execute_result"
    }
   ],
   "source": [
    "h9.rstrip(\"!^ㅋ \")"
   ]
  },
  {
   "cell_type": "code",
   "execution_count": 94,
   "id": "bb32f807",
   "metadata": {},
   "outputs": [
    {
     "data": {
      "text/plain": [
       "'공백과 특수문자가 같이 있는 문자열'"
      ]
     },
     "execution_count": 94,
     "metadata": {},
     "output_type": "execute_result"
    }
   ],
   "source": [
    "h9.strip(\".,!^ㅋ \")"
   ]
  },
  {
   "cell_type": "markdown",
   "id": "774e8f4a",
   "metadata": {},
   "source": [
    "# method chaining (메서드 체이닝)\n",
    "* 여러개의 함수를 연결해서 사용하는 것"
   ]
  },
  {
   "cell_type": "code",
   "execution_count": 100,
   "id": "ec2f19bf",
   "metadata": {},
   "outputs": [
    {
     "name": "stdout",
     "output_type": "stream",
     "text": [
      "..., 공백과 특수문자가\n",
      " 같이 있는\t 문자열 !! ^^ ㅋㅋㅋㅋㅋ\n"
     ]
    }
   ],
   "source": [
    "h10 = \"..., 공백과 특수문자가\\n 같이 있는\\t 문자열 !! ^^ ㅋㅋㅋㅋㅋ\"\n",
    "print(h10)"
   ]
  },
  {
   "cell_type": "code",
   "execution_count": 102,
   "id": "ca99b5c5",
   "metadata": {},
   "outputs": [
    {
     "data": {
      "text/plain": [
       "'공백과 특수문자가 같이 있는 문자열'"
      ]
     },
     "execution_count": 102,
     "metadata": {},
     "output_type": "execute_result"
    }
   ],
   "source": [
    "h10.strip(\".,!^ㅋ \").replace(\"\\n\",\"\").replace(\"\\t\",\"\")"
   ]
  },
  {
   "cell_type": "markdown",
   "id": "ede9b08c",
   "metadata": {},
   "source": [
    "# 문자열 처리 연습문제\n",
    "* 리뷰 글 부분만 추출\n",
    "* 1개의 문장으로 만들기\n",
    "* 문자열 함수를 이용해서 불필요한 공백 지우기"
   ]
  },
  {
   "cell_type": "code",
   "execution_count": 23,
   "id": "36a98e8a",
   "metadata": {},
   "outputs": [
    {
     "data": {
      "text/plain": [
       "'344,622642,더 호텔 수 (THE HOTEL SOO),family,1박 가족 여행,2018년 5월 21일,8.0,\"위치 : 이순신 광장과는 반대편이라 차량으로 이동해야 합니다. 루프탑에서의\\n바다 경치는 좋습니다.\\n시설 : 깔끔하고 좋습니다. 패밀리룸을 사용 했는데 저녁6시쯤 갔더니 마지막 방이라며 2층을 배정 받았습니다. 창문을 여니 약간 쓰레기 냄새가 났고 바다가 보이지 않습니다.        \\n루프탑 : 바베큐 세트가 저렴 했던거 같고 경치가 좋습니다. 수영장도 있었는데 계절이 아닌지.... \\n    하지만 여름이면 좋을것 같습니다. 주차장은 장소가 넓지 않았던거 같고, 저녁에 나갔다 왔더니 야외 공터에 차를 대라고 하였습니다.    \\n주말 저녁이라 그런지 가격을 제법 비싸게 준거 같은데... 2층이라 마음에 들지 않았습니다. 옆에 조선소 같은게 있어 쫌 보기에 좋지 않았습니다......................................'"
      ]
     },
     "execution_count": 23,
     "metadata": {},
     "output_type": "execute_result"
    }
   ],
   "source": [
    "test1 = '''344,622642,더 호텔 수 (THE HOTEL SOO),family,1박 가족 여행,2018년 5월 21일,8.0,\"위치 : 이순신 광장과는 반대편이라 차량으로 이동해야 합니다. 루프탑에서의\n",
    "바다 경치는 좋습니다.\n",
    "시설 : 깔끔하고 좋습니다. 패밀리룸을 사용 했는데 저녁6시쯤 갔더니 마지막 방이라며 2층을 배정 받았습니다. 창문을 여니 약간 쓰레기 냄새가 났고 바다가 보이지 않습니다.        \n",
    "루프탑 : 바베큐 세트가 저렴 했던거 같고 경치가 좋습니다. 수영장도 있었는데 계절이 아닌지.... \n",
    "    하지만 여름이면 좋을것 같습니다. 주차장은 장소가 넓지 않았던거 같고, 저녁에 나갔다 왔더니 야외 공터에 차를 대라고 하였습니다.    \n",
    "주말 저녁이라 그런지 가격을 제법 비싸게 준거 같은데... 2층이라 마음에 들지 않았습니다. 옆에 조선소 같은게 있어 쫌 보기에 좋지 않았습니다......................................'''\n",
    "test1"
   ]
  },
  {
   "cell_type": "code",
   "execution_count": 45,
   "id": "4049fcf1",
   "metadata": {},
   "outputs": [
    {
     "data": {
      "text/plain": [
       "'18062,427535,파크 하얏트 부산 (Park Hyatt Busan),family,2박 가족 여행,2019년 12월 29일,10.0,결혼 1주년 기념으로 아이랑 신랑이랑 다녀왔어요~ 룸컨디션 너무 좋았고 뷰가 최고였습니다! 2박 머물렀는데 청소도 깔끔하게 해주시고 애기가 이불에 살짝 토했는데도 바로 갈아주시고 좋았습니다~ 대신 창가쪽 커튼 한쪽이 떨어져있어서 조금 거슬렸구요... 창가에 침실이 있다보니 암막커튼을 치지 않으면 조금 쌀쌀한 느낌은 있었어요! 아 그리고 아기때문에 침대에 가드를 부탁드렸는데 가드가 너무 별로였습니다... 가드 구실을 못하고 넘 허술하게 매트리스 아래 그냥 끼워진거라 아기가 밤새 두번이나 가드사이에 빠졌습니다... 이점 좀 아쉬워요 ! 그 외에는 다이닝룸 리빙룸, 바까지 모두 이용했는데 서비스 좋았습니다~~!'"
      ]
     },
     "execution_count": 45,
     "metadata": {},
     "output_type": "execute_result"
    }
   ],
   "source": [
    "test2= \"18062,427535,파크 하얏트 부산 (Park Hyatt Busan),family,2박 가족 여행,2019년 12월 29일,10.0,결혼 1주년 기념으로 아이랑 신랑이랑 다녀왔어요~ 룸컨디션 너무 좋았고 뷰가 최고였습니다! 2박 머물렀는데 청소도 깔끔하게 해주시고 애기가 이불에 살짝 토했는데도 바로 갈아주시고 좋았습니다~ 대신 창가쪽 커튼 한쪽이 떨어져있어서 조금 거슬렸구요... 창가에 침실이 있다보니 암막커튼을 치지 않으면 조금 쌀쌀한 느낌은 있었어요! 아 그리고 아기때문에 침대에 가드를 부탁드렸는데 가드가 너무 별로였습니다... 가드 구실을 못하고 넘 허술하게 매트리스 아래 그냥 끼워진거라 아기가 밤새 두번이나 가드사이에 빠졌습니다... 이점 좀 아쉬워요 ! 그 외에는 다이닝룸 리빙룸, 바까지 모두 이용했는데 서비스 좋았습니다~~!\"\n",
    "test2"
   ]
  },
  {
   "cell_type": "code",
   "execution_count": 280,
   "id": "2cab58b7",
   "metadata": {},
   "outputs": [
    {
     "data": {
      "text/plain": [
       "'112731,239840,서귀포 칼 호텔 (Seogwipo KAL Hotel),family,3박 가족 여행,2020년 11월 19일,8.0,넓디넓은 정원과 산책로 덕분에 코로나 시대 언택트 여행에 좋았구요. 조용하고 한적하게 잘 쉬었어요.\\n아무래도 서귀포가 제주시쪽보단 사람도 적어서 오히려 편하면서, 주변에 식당이나 까페, 편의점 갈때도 걸어서도 다녀올 입지라 좋습니다.\\n실내 수영장은 생각만큼? 작은 규모라 오히려 사람 없이 잘 놀았어요ㅎㅎ \\n라운지바가 넓고 층고도 높아서 커피나 맥주 먹으며 쉬기에 좋고요.\\n매일 주시는 1.5리터 생수ㅎㅎ별거 아닐수 있지만 매우 감사했구요.\\n다만 층수가 낮은 방이어서 그런가 모기가 있었어요^^;; 그외에는 다 깨끗했구요. \\n매트리스가 오래됐는지 묘하게 불편해서 허리가 아프긴 하더라고요;; 다행히? 세미온돌이라 바닥에서 자는게 오히려 나았고요\\n조식은...최근 후기가 다 별로라길래 하루만 가봤는데 역시;;ㅎ 뭐 저렴하기도 하지만.. 저는 나가서 먹었습니다.'"
      ]
     },
     "execution_count": 280,
     "metadata": {},
     "output_type": "execute_result"
    }
   ],
   "source": [
    "test3 = \"\"\"112731,239840,서귀포 칼 호텔 (Seogwipo KAL Hotel),family,3박 가족 여행,2020년 11월 19일,8.0,넓디넓은 정원과 산책로 덕분에 코로나 시대 언택트 여행에 좋았구요. 조용하고 한적하게 잘 쉬었어요.\n",
    "아무래도 서귀포가 제주시쪽보단 사람도 적어서 오히려 편하면서, 주변에 식당이나 까페, 편의점 갈때도 걸어서도 다녀올 입지라 좋습니다.\n",
    "실내 수영장은 생각만큼? 작은 규모라 오히려 사람 없이 잘 놀았어요ㅎㅎ \n",
    "라운지바가 넓고 층고도 높아서 커피나 맥주 먹으며 쉬기에 좋고요.\n",
    "매일 주시는 1.5리터 생수ㅎㅎ별거 아닐수 있지만 매우 감사했구요.\n",
    "다만 층수가 낮은 방이어서 그런가 모기가 있었어요^^;; 그외에는 다 깨끗했구요. \n",
    "매트리스가 오래됐는지 묘하게 불편해서 허리가 아프긴 하더라고요;; 다행히? 세미온돌이라 바닥에서 자는게 오히려 나았고요\n",
    "조식은...최근 후기가 다 별로라길래 하루만 가봤는데 역시;;ㅎ 뭐 저렴하기도 하지만.. 저는 나가서 먹었습니다.\"\"\"\n",
    "test3"
   ]
  },
  {
   "cell_type": "code",
   "execution_count": 24,
   "id": "0f84b918",
   "metadata": {
    "scrolled": false
   },
   "outputs": [
    {
     "name": "stdout",
     "output_type": "stream",
     "text": [
      "['344', '622642', '더 호텔 수 (THE HOTEL SOO)', 'family', '1박 가족 여행', '2018년 5월 21일', '8.0', '\"위치 : 이순신 광장과는 반대편이라 차량으로 이동해야 합니다. 루프탑에서의\\n바다 경치는 좋습니다.\\n시설 : 깔끔하고 좋습니다. 패밀리룸을 사용 했는데 저녁6시쯤 갔더니 마지막 방이라며 2층을 배정 받았습니다. 창문을 여니 약간 쓰레기 냄새가 났고 바다가 보이지 않습니다.        \\n루프탑 : 바베큐 세트가 저렴 했던거 같고 경치가 좋습니다. 수영장도 있었는데 계절이 아닌지.... \\n    하지만 여름이면 좋을것 같습니다. 주차장은 장소가 넓지 않았던거 같고', ' 저녁에 나갔다 왔더니 야외 공터에 차를 대라고 하였습니다.    \\n주말 저녁이라 그런지 가격을 제법 비싸게 준거 같은데... 2층이라 마음에 들지 않았습니다. 옆에 조선소 같은게 있어 쫌 보기에 좋지 않았습니다......................................']\n"
     ]
    }
   ],
   "source": [
    "test1 = test1.split(\",\")\n",
    "print(test1)"
   ]
  },
  {
   "cell_type": "code",
   "execution_count": 7,
   "id": "f9405c40",
   "metadata": {},
   "outputs": [
    {
     "data": {
      "text/plain": [
       "484"
      ]
     },
     "execution_count": 7,
     "metadata": {},
     "output_type": "execute_result"
    }
   ],
   "source": [
    "len(test1)"
   ]
  },
  {
   "cell_type": "code",
   "execution_count": 25,
   "id": "342b0e54",
   "metadata": {
    "scrolled": true
   },
   "outputs": [
    {
     "data": {
      "text/plain": [
       "['\"위치 : 이순신 광장과는 반대편이라 차량으로 이동해야 합니다. 루프탑에서의\\n바다 경치는 좋습니다.\\n시설 : 깔끔하고 좋습니다. 패밀리룸을 사용 했는데 저녁6시쯤 갔더니 마지막 방이라며 2층을 배정 받았습니다. 창문을 여니 약간 쓰레기 냄새가 났고 바다가 보이지 않습니다.        \\n루프탑 : 바베큐 세트가 저렴 했던거 같고 경치가 좋습니다. 수영장도 있었는데 계절이 아닌지.... \\n    하지만 여름이면 좋을것 같습니다. 주차장은 장소가 넓지 않았던거 같고',\n",
       " ' 저녁에 나갔다 왔더니 야외 공터에 차를 대라고 하였습니다.    \\n주말 저녁이라 그런지 가격을 제법 비싸게 준거 같은데... 2층이라 마음에 들지 않았습니다. 옆에 조선소 같은게 있어 쫌 보기에 좋지 않았습니다......................................']"
      ]
     },
     "execution_count": 25,
     "metadata": {},
     "output_type": "execute_result"
    }
   ],
   "source": [
    "test1 = test1[7:]\n",
    "test1"
   ]
  },
  {
   "cell_type": "code",
   "execution_count": 26,
   "id": "9cd528a6",
   "metadata": {},
   "outputs": [
    {
     "data": {
      "text/plain": [
       "'[\\'\"위치 : 이순신 광장과는 반대편이라 차량으로 이동해야 합니다. 루프탑에서의\\\\n바다 경치는 좋습니다.\\\\n시설 : 깔끔하고 좋습니다. 패밀리룸을 사용 했는데 저녁6시쯤 갔더니 마지막 방이라며 2층을 배정 받았습니다. 창문을 여니 약간 쓰레기 냄새가 났고 바다가 보이지 않습니다.        \\\\n루프탑 : 바베큐 세트가 저렴 했던거 같고 경치가 좋습니다. 수영장도 있었는데 계절이 아닌지.... \\\\n    하지만 여름이면 좋을것 같습니다. 주차장은 장소가 넓지 않았던거 같고\\', \\' 저녁에 나갔다 왔더니 야외 공터에 차를 대라고 하였습니다.    \\\\n주말 저녁이라 그런지 가격을 제법 비싸게 준거 같은데... 2층이라 마음에 들지 않았습니다. 옆에 조선소 같은게 있어 쫌 보기에 좋지 않았습니다......................................\\']'"
      ]
     },
     "execution_count": 26,
     "metadata": {},
     "output_type": "execute_result"
    }
   ],
   "source": [
    "test1 = str(test1)\n",
    "test1"
   ]
  },
  {
   "cell_type": "code",
   "execution_count": 40,
   "id": "06a56008",
   "metadata": {
    "scrolled": true
   },
   "outputs": [
    {
     "name": "stdout",
     "output_type": "stream",
     "text": [
      "['\"위치이순신광장과는반대편이라차량으로이동해야합니다루프탑에서의\\n바다경치는좋습니다\\n시설깔끔하고좋습니다패밀리룸을사용했는데저녁6시쯤갔더니마지막방이라며2층을배정받았습니다창문을여니약간쓰레기냄새가났고바다가보이지않습니다\\n루프탑바베큐세트가저렴했던거같고경치가좋습니다수영장도있었는데계절이아닌지\\n하지만여름이면좋을것같습니다주차장은장소가넓지않았던거같고','저녁에나갔다왔더니야외공터에차를대라고하였습니다\\n주말저녁이라그런지가격을제법비싸게준거같은데2층이라마음에들지않았습니다옆에조선소같은게있어쫌보기에좋지않았습니다']\n"
     ]
    }
   ],
   "source": [
    "test1 = test1.strip(\".'\\'\").replace(\":\",\"\").replace(\"\\n\",\"\").replace(\".\",\"\").replace(\"  \",\" \")\n",
    "print(test1)"
   ]
  },
  {
   "cell_type": "code",
   "execution_count": 38,
   "id": "40e8cce8",
   "metadata": {},
   "outputs": [
    {
     "ename": "SyntaxError",
     "evalue": "invalid syntax (892256470.py, line 1)",
     "output_type": "error",
     "traceback": [
      "\u001b[1;36m  Cell \u001b[1;32mIn[38], line 1\u001b[1;36m\u001b[0m\n\u001b[1;33m    .strip(\"\\.\").replace(\"\\n\",\"\").replace(\"\\t\",\"\").replace(\"...\",\"\").replace(\"    \",\"\")\u001b[0m\n\u001b[1;37m    ^\u001b[0m\n\u001b[1;31mSyntaxError\u001b[0m\u001b[1;31m:\u001b[0m invalid syntax\n"
     ]
    }
   ],
   "source": [
    "test1.strip(\"\\.\").replace(\"\\n\",\"\").replace(\"\\t\",\"\").replace(\"...\",\"\").replace(\"    \",\"\")"
   ]
  },
  {
   "cell_type": "markdown",
   "id": "891bb982",
   "metadata": {},
   "source": [
    "# translate + str.maketarns + string.punctuation\n",
    "* translate(str.maketrans(찾을문자, 대체문자, 그 외 없앨 문자))"
   ]
  },
  {
   "cell_type": "code",
   "execution_count": null,
   "id": "6c9d1f8b",
   "metadata": {},
   "outputs": [],
   "source": []
  },
  {
   "cell_type": "code",
   "execution_count": 216,
   "id": "b4ab17ac",
   "metadata": {},
   "outputs": [
    {
     "data": {
      "text/plain": [
       "'1주년 기념으로 아이랑 신랑이랑 다녀왔어요~ 룸컨디션 너무 좋았고 뷰가 최고였습니다 2박 머물렀는데 청소도 깔끔하게 해주시고 애기가 이불에 살짝 토했는데도 바로 갈아주시고 좋았습니다~ 대신 창가쪽 커튼 한쪽이 떨어져있어서 조금 거슬렸구요 창가에 침실이 있다보니 암막커튼을 치지 않으면 조금 쌀쌀한 느낌은 있었어요 아 그리고 아기때문에 침대에 가드를 부탁드렸는데 가드가 너무 별로였습니다 가드 구실을 못하고 넘 허술하게 매트리스 아래 그냥 끼워진거라 아기가 밤새 두번이나 가드사이에 빠졌습니다 이점 좀 아쉬워요그 외에는 다이닝룸 리빙룸, 바까지 모두 이용했는데 서비스 좋았습니다'"
      ]
     },
     "execution_count": 216,
     "metadata": {},
     "output_type": "execute_result"
    }
   ],
   "source": [
    "test2[79:].strip(\" ~!\").replace(\" ! \",\"\").replace(\"...\",\"\").replace(\"!\",\"\")"
   ]
  },
  {
   "cell_type": "code",
   "execution_count": 217,
   "id": "b6e4d55a",
   "metadata": {},
   "outputs": [
    {
     "data": {
      "text/plain": [
       "'넓디넓은 정원과 산책로 덕분에 코로나 시대 언택트 여행에 좋았구요. 조용하고 한적하게 잘 쉬었어요.아무래도 서귀포가 제주시쪽보단 사람도 적어서 오히려 편하면서, 주변에 식당이나 까페, 편의점 갈때도 걸어서도 다녀올 입지라 좋습니다.실내 수영장은 생각만큼? 작은 규모라 오히려 사람 없이 잘 놀았어요ㅎㅎ 라운지바가 넓고 층고도 높아서 커피나 맥주 먹으며 쉬기에 좋고요.매일 주시는 1.5리터 생수ㅎㅎ별거 아닐수 있지만 매우 감사했구요.다만 층수가 낮은 방이어서 그런가 모기가 있었어요 그외에는 다 깨끗했구요. 매트리스가 오래됐는지 묘하게 불편해서 허리가 아프긴 하더라고요 다행히? 세미온돌이라 바닥에서 자는게 오히려 나았고요조식은...최근 후기가 다 별로라길래 하루만 가봤는데 역시ㅎ 뭐 저렴하기도 하지만.. 저는 나가서 먹었습니다'"
      ]
     },
     "execution_count": 217,
     "metadata": {},
     "output_type": "execute_result"
    }
   ],
   "source": [
    "test3[78:].strip(\" ?ㅎㅋ^;..\").replace(\";;\",\"\").replace(\"^^\",\"\").replace(\"!\",\"\").replace(\"\\n\",\"\")"
   ]
  },
  {
   "cell_type": "markdown",
   "id": "7765b502",
   "metadata": {},
   "source": [
    "# translate + str.maketarns + string.punctuation\n",
    "* translate(str.maketrans(찾을문자, 대체문자, 그 외 없앨 문자))\n",
    "* 리플에이스는 한개밖에 없애기 힘든데 한꺼번에 없앨 수 있음"
   ]
  },
  {
   "cell_type": "code",
   "execution_count": 49,
   "id": "2ec9db73",
   "metadata": {},
   "outputs": [],
   "source": [
    "import string "
   ]
  },
  {
   "cell_type": "code",
   "execution_count": 50,
   "id": "89dcaee0",
   "metadata": {},
   "outputs": [
    {
     "data": {
      "text/plain": [
       "'!\"#$%&\\'()*+,-./:;<=>?@[\\\\]^_`{|}~'"
      ]
     },
     "execution_count": 50,
     "metadata": {},
     "output_type": "execute_result"
    }
   ],
   "source": [
    "string.punctuation"
   ]
  },
  {
   "cell_type": "code",
   "execution_count": 47,
   "id": "95c4b98e",
   "metadata": {},
   "outputs": [
    {
     "data": {
      "text/plain": [
       "'결혼 1주년 기념으로 아이랑 신랑이랑 다녀왔어요~ 룸컨디션 너무 좋았고 뷰가 최고였습니다! 2박 머물렀는데 청소도 깔끔하게 해주시고 애기가 이불에 살짝 토했는데도 바로 갈아주시고 좋았습니다~ 대신 창가쪽 커튼 한쪽이 떨어져있어서 조금 거슬렸구요... 창가에 침실이 있다보니 암막커튼을 치지 않으면 조금 쌀쌀한 느낌은 있었어요! 아 그리고 아기때문에 침대에 가드를 부탁드렸는데 가드가 너무 별로였습니다... 가드 구실을 못하고 넘 허술하게 매트리스 아래 그냥 끼워진거라 아기가 밤새 두번이나 가드사이에 빠졌습니다... 이점 좀 아쉬워요 ! 그 외에는 다이닝룸 리빙룸  바까지 모두 이용했는데 서비스 좋았습니다~~!'"
      ]
     },
     "execution_count": 47,
     "metadata": {},
     "output_type": "execute_result"
    }
   ],
   "source": [
    "test2 = \" \".join(test2.split(\",\")[7:])\n",
    "test2"
   ]
  },
  {
   "cell_type": "code",
   "execution_count": 51,
   "id": "5ea80005",
   "metadata": {},
   "outputs": [
    {
     "data": {
      "text/plain": [
       "'결혼 1주년 기념으로 아이랑 신랑이랑 다녀왔어요 룸컨디션 너무 좋았고 뷰가 최고였습니다 2박 머물렀는데 청소도 깔끔하게 해주시고 애기가 이불에 살짝 토했는데도 바로 갈아주시고 좋았습니다 대신 창가쪽 커튼 한쪽이 떨어져있어서 조금 거슬렸구요 창가에 침실이 있다보니 암막커튼을 치지 않으면 조금 쌀쌀한 느낌은 있었어요 아 그리고 아기때문에 침대에 가드를 부탁드렸는데 가드가 너무 별로였습니다 가드 구실을 못하고 넘 허술하게 매트리스 아래 그냥 끼워진거라 아기가 밤새 두번이나 가드사이에 빠졌습니다 이점 좀 아쉬워요 그 외에는 다이닝룸 리빙룸 바까지 모두 이용했는데 서비스 좋았습니다'"
      ]
     },
     "execution_count": 51,
     "metadata": {},
     "output_type": "execute_result"
    }
   ],
   "source": [
    "test2.translate(str.maketrans(\"\",\"\",string.punctuation)).replace(\"  \",\" \")"
   ]
  },
  {
   "cell_type": "markdown",
   "id": "a72f9341",
   "metadata": {},
   "source": [
    "# 정규표현식"
   ]
  },
  {
   "cell_type": "code",
   "execution_count": 28,
   "id": "dec63509",
   "metadata": {},
   "outputs": [],
   "source": [
    "import re"
   ]
  },
  {
   "cell_type": "code",
   "execution_count": 29,
   "id": "f4152e80",
   "metadata": {},
   "outputs": [],
   "source": [
    "test = \"안녕하세요! This is a test. 1234$%^&*&()\""
   ]
  },
  {
   "cell_type": "code",
   "execution_count": 30,
   "id": "f25c6d3e",
   "metadata": {},
   "outputs": [
    {
     "data": {
      "text/plain": [
       "'안녕하세요! This is a test. 1234$%^&*&()'"
      ]
     },
     "execution_count": 30,
     "metadata": {},
     "output_type": "execute_result"
    }
   ],
   "source": [
    "test"
   ]
  },
  {
   "cell_type": "code",
   "execution_count": 31,
   "id": "0c120a15",
   "metadata": {},
   "outputs": [
    {
     "data": {
      "text/plain": [
       "'안녕하세요 This is a test 1234    '"
      ]
     },
     "execution_count": 31,
     "metadata": {},
     "output_type": "execute_result"
    }
   ],
   "source": [
    "re.sub(r'[^가-힣a-zA-Z0-9]', ' ', test).replace(\"  \", \" \")\n",
    "# 대체해라 한글의 시작부터 끝, 영문 소문자 대문자 전체, 0-9 전체 를 ' '으로 가져와라 test 에서 가져오기"
   ]
  },
  {
   "cell_type": "code",
   "execution_count": 46,
   "id": "b86387d4",
   "metadata": {},
   "outputs": [
    {
     "ename": "NameError",
     "evalue": "name 'test3' is not defined",
     "output_type": "error",
     "traceback": [
      "\u001b[1;31m---------------------------------------------------------------------------\u001b[0m",
      "\u001b[1;31mNameError\u001b[0m                                 Traceback (most recent call last)",
      "Cell \u001b[1;32mIn[46], line 1\u001b[0m\n\u001b[1;32m----> 1\u001b[0m test3 \u001b[38;5;241m=\u001b[39m \u001b[38;5;124m\"\u001b[39m\u001b[38;5;124m \u001b[39m\u001b[38;5;124m\"\u001b[39m\u001b[38;5;241m.\u001b[39mjoin(\u001b[43mtest3\u001b[49m\u001b[38;5;241m.\u001b[39msplit(\u001b[38;5;124m\"\u001b[39m\u001b[38;5;124m,\u001b[39m\u001b[38;5;124m\"\u001b[39m)[\u001b[38;5;241m7\u001b[39m:])\n\u001b[0;32m      2\u001b[0m test3\n",
      "\u001b[1;31mNameError\u001b[0m: name 'test3' is not defined"
     ]
    }
   ],
   "source": [
    "test3 = \" \".join(test3.split(\",\")[7:])\n",
    "test3"
   ]
  },
  {
   "cell_type": "code",
   "execution_count": 285,
   "id": "a249d1b2",
   "metadata": {},
   "outputs": [
    {
     "data": {
      "text/plain": [
       "'넓디넓은 정원과 산책로 덕분에 코로나 시대 언택트 여행에 좋았구요 조용하고 한적하게 잘 쉬었어요 아무래도 서귀포가 제주시쪽보단 사람도 적어서 오히려 편하면서 주변에 식당이나 까페 편의점 갈때도 걸어서도 다녀올 입지라 좋습니다 실내 수영장은 생각만큼 작은 규모라 오히려 사람 없이 잘 놀았어요  라운지바가 넓고 층고도 높아서 커피나 맥주 먹으며 쉬기에 좋고요 매일 주시는 1 5리터 생수 별거 아닐수 있지만 매우 감사했구요 다만 층수가 낮은 방이어서 그런가 모기가 있었어요   그외에는 다 깨끗했구요  매트리스가 오래됐는지 묘하게 불편해서 허리가 아프긴 하더라고요  다행히 세미온돌이라 바닥에서 자는게 오히려 나았고요 조식은  최근 후기가 다 별로라길래 하루만 가봤는데 역시  뭐 저렴하기도 하지만  저는 나가서 먹었습니다 '"
      ]
     },
     "execution_count": 285,
     "metadata": {},
     "output_type": "execute_result"
    }
   ],
   "source": [
    "re.sub(r'[^가-힣a-zA-Z0-9]', ' ', test3).replace(\"  \", \" \",40)"
   ]
  },
  {
   "cell_type": "code",
   "execution_count": null,
   "id": "73a0a7bb",
   "metadata": {},
   "outputs": [],
   "source": []
  },
  {
   "cell_type": "code",
   "execution_count": null,
   "id": "fb2366a6",
   "metadata": {},
   "outputs": [],
   "source": []
  },
  {
   "cell_type": "code",
   "execution_count": null,
   "id": "44808f9f",
   "metadata": {},
   "outputs": [],
   "source": []
  },
  {
   "cell_type": "code",
   "execution_count": null,
   "id": "9c1aba9b",
   "metadata": {},
   "outputs": [],
   "source": []
  },
  {
   "cell_type": "code",
   "execution_count": null,
   "id": "96289f50",
   "metadata": {},
   "outputs": [],
   "source": []
  },
  {
   "cell_type": "code",
   "execution_count": null,
   "id": "24afa767",
   "metadata": {},
   "outputs": [],
   "source": []
  },
  {
   "cell_type": "code",
   "execution_count": null,
   "id": "edba2670",
   "metadata": {},
   "outputs": [],
   "source": []
  },
  {
   "cell_type": "code",
   "execution_count": null,
   "id": "6a8ba1eb",
   "metadata": {},
   "outputs": [],
   "source": []
  },
  {
   "cell_type": "code",
   "execution_count": null,
   "id": "900987b9",
   "metadata": {},
   "outputs": [],
   "source": []
  },
  {
   "cell_type": "code",
   "execution_count": null,
   "id": "bb07754c",
   "metadata": {},
   "outputs": [],
   "source": []
  }
 ],
 "metadata": {
  "kernelspec": {
   "display_name": "Python 3 (ipykernel)",
   "language": "python",
   "name": "python3"
  },
  "language_info": {
   "codemirror_mode": {
    "name": "ipython",
    "version": 3
   },
   "file_extension": ".py",
   "mimetype": "text/x-python",
   "name": "python",
   "nbconvert_exporter": "python",
   "pygments_lexer": "ipython3",
   "version": "3.9.21"
  }
 },
 "nbformat": 4,
 "nbformat_minor": 5
}
