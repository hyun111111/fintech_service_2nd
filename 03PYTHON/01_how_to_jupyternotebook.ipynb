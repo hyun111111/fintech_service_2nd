{
 "cells": [
  {
   "cell_type": "code",
   "execution_count": 9,
   "id": "d9f7e5eb",
   "metadata": {},
   "outputs": [
    {
     "ename": "SyntaxError",
     "evalue": "invalid syntax (4084735935.py, line 1)",
     "output_type": "error",
     "traceback": [
      "\u001b[1;36m  Cell \u001b[1;32mIn[9], line 1\u001b[1;36m\u001b[0m\n\u001b[1;33m    <h1>제목3 h1</h1>\u001b[0m\n\u001b[1;37m    ^\u001b[0m\n\u001b[1;31mSyntaxError\u001b[0m\u001b[1;31m:\u001b[0m invalid syntax\n"
     ]
    }
   ],
   "source": [
    "<h1>제목3 h1</h1>\n",
    "*목록\n",
    "*목록 2\n",
    "   *세부목록 <br>\n",
    "내용적기\n",
    "**굵게 만들기\n",
    "\n",
    "###링크 걸기\n",
    "[네이버링크](https://www.naver.com)\n",
    "\n",
    "###이미지 넣기"
   ]
  },
  {
   "cell_type": "markdown",
   "id": "69454426",
   "metadata": {},
   "source": [
    "수식넣기\n",
    "$$ A \\over B $$\n",
    "$$ (A \\cap B) $$"
   ]
  },
  {
   "cell_type": "code",
   "execution_count": null,
   "id": "35d2e5a3",
   "metadata": {},
   "outputs": [],
   "source": []
  },
  {
   "cell_type": "code",
   "execution_count": null,
   "id": "d20f005e",
   "metadata": {},
   "outputs": [],
   "source": []
  },
  {
   "cell_type": "code",
   "execution_count": null,
   "id": "670bbceb",
   "metadata": {},
   "outputs": [],
   "source": []
  },
  {
   "cell_type": "code",
   "execution_count": null,
   "id": "fd84fb25",
   "metadata": {},
   "outputs": [],
   "source": []
  }
 ],
 "metadata": {
  "kernelspec": {
   "display_name": "Python 3 (ipykernel)",
   "language": "python",
   "name": "python3"
  },
  "language_info": {
   "codemirror_mode": {
    "name": "ipython",
    "version": 3
   },
   "file_extension": ".py",
   "mimetype": "text/x-python",
   "name": "python",
   "nbconvert_exporter": "python",
   "pygments_lexer": "ipython3",
   "version": "3.9.21"
  }
 },
 "nbformat": 4,
 "nbformat_minor": 5
}
