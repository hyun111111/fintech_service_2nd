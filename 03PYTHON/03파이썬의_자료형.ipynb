{
 "cells": [
  {
   "cell_type": "markdown",
   "id": "155bbd9d",
   "metadata": {},
   "source": [
    "# 파이썬의 자료형(data type)\n",
    "## 파이썬의 자료형은 동적으로 변화\n",
    "* int: 정수(소수점이 없는 숫자)\n",
    "* float: 실수(소숫점이 있는 숫자)\n",
    "* str: 문자/문자열\n",
    "* list: 여러개의 자료가 순서대로 저장된 자료형. 모든 자료형을 넣어 만들수 있음\n",
    "* tuple: list와 비슷하나 한 번 만들면 수정이 안되는 자료형, 모든 자료형을 넣을 수 있음\n",
    "* dictionary(dict):value 쌍으로 이루어진 자료형, 모든 자료형을 넣을 수 있음"
   ]
  },
  {
   "cell_type": "markdown",
   "id": "bed2683a",
   "metadata": {},
   "source": [
    "# 데이터 타입을 출력하는 함수 type(변수)"
   ]
  },
  {
   "cell_type": "markdown",
   "id": "7f2ead13",
   "metadata": {},
   "source": [
    "# 정수형 변수(int)"
   ]
  },
  {
   "cell_type": "code",
   "execution_count": 1,
   "id": "aea63af5",
   "metadata": {},
   "outputs": [
    {
     "name": "stdout",
     "output_type": "stream",
     "text": [
      "10\n"
     ]
    }
   ],
   "source": [
    "a = 10\n",
    "print(a)"
   ]
  },
  {
   "cell_type": "code",
   "execution_count": 2,
   "id": "5c1eb133",
   "metadata": {},
   "outputs": [
    {
     "name": "stdout",
     "output_type": "stream",
     "text": [
      "10\n"
     ]
    }
   ],
   "source": [
    "aa = \"10\"\n",
    "print(aa)"
   ]
  },
  {
   "cell_type": "code",
   "execution_count": 6,
   "id": "6b5bb0dd",
   "metadata": {},
   "outputs": [
    {
     "name": "stdout",
     "output_type": "stream",
     "text": [
      "10 <class 'int'>\n"
     ]
    }
   ],
   "source": [
    "print(a, type(a))"
   ]
  },
  {
   "cell_type": "code",
   "execution_count": 7,
   "id": "ceaef5d6",
   "metadata": {},
   "outputs": [
    {
     "name": "stdout",
     "output_type": "stream",
     "text": [
      "10 <class 'str'>\n"
     ]
    }
   ],
   "source": [
    "print(aa, type(aa))"
   ]
  },
  {
   "cell_type": "code",
   "execution_count": 8,
   "id": "17578216",
   "metadata": {},
   "outputs": [
    {
     "name": "stdout",
     "output_type": "stream",
     "text": [
      "3.14 <class 'float'>\n"
     ]
    }
   ],
   "source": [
    "a = 3.14\n",
    "print(a, type(a))"
   ]
  },
  {
   "cell_type": "markdown",
   "id": "f08fe5aa",
   "metadata": {},
   "source": [
    "### 다른 언어는 int a = 3.01처럼 아얘 정의를 해준다\n",
    "## 하지만 파이썬은 계속 바뀌고 마음대로 써줄 수 있음. 자료형을 고민할 필요가 없는게 장점이자 단점, 프로그램을 길게 쓰면 전제가 달라질수 있음\n",
    "# 타입을 써주는 것이 매우 중요"
   ]
  },
  {
   "cell_type": "markdown",
   "id": "677bf6ad",
   "metadata": {},
   "source": [
    "# 실수형 변수 float"
   ]
  },
  {
   "cell_type": "code",
   "execution_count": 12,
   "id": "5801f791",
   "metadata": {},
   "outputs": [
    {
     "name": "stdout",
     "output_type": "stream",
     "text": [
      "4\n",
      "-2\n",
      "3\n",
      "0.3333333333333333\n"
     ]
    }
   ],
   "source": [
    "a =1\n",
    "b = 3\n",
    "f = 1.23\n",
    "print(a+b)\n",
    "print(a-b)\n",
    "print(a*b)\n",
    "print(a/b)"
   ]
  },
  {
   "cell_type": "markdown",
   "id": "ec125fc2",
   "metadata": {},
   "source": [
    "# 정수형 변수 +,-*,/ 실수형 변수\n",
    "* 전부다 실수로 나온다 "
   ]
  },
  {
   "cell_type": "code",
   "execution_count": 13,
   "id": "555cf13e",
   "metadata": {},
   "outputs": [
    {
     "name": "stdout",
     "output_type": "stream",
     "text": [
      "2.23\n",
      "-0.22999999999999998\n",
      "1.23\n",
      "0.8130081300813008\n"
     ]
    }
   ],
   "source": [
    "print(a + f)\n",
    "print(a - f)\n",
    "print(a * f)\n",
    "print(a / f)"
   ]
  },
  {
   "cell_type": "code",
   "execution_count": 15,
   "id": "83a1ef82",
   "metadata": {},
   "outputs": [
    {
     "name": "stdout",
     "output_type": "stream",
     "text": [
      "a_plus_f: 2.23 <class 'float'>\n",
      "a_minus_f: -0.22999999999999998 <class 'float'>\n",
      "a_mul_f: 1.23 <class 'float'>\n",
      "a_div_f: 0.8130081300813008 <class 'float'>\n"
     ]
    }
   ],
   "source": [
    "a_plus_f = a+f\n",
    "a_minus_f = a-f\n",
    "a_mul_f = a*f\n",
    "a_div_f = a/f\n",
    "print(\"a_plus_f:\", a_plus_f, type(a_plus_f) )\n",
    "print(\"a_minus_f:\", a_minus_f, type(a_minus_f) )\n",
    "print(\"a_mul_f:\", a_mul_f, type(a_mul_f))\n",
    "print(\"a_div_f:\", a_div_f, type(a_div_f))\n",
    "\n",
    "\n",
    "\n",
    "\n"
   ]
  },
  {
   "cell_type": "markdown",
   "id": "1fe56a24",
   "metadata": {},
   "source": [
    "# 문자형 str"
   ]
  },
  {
   "cell_type": "code",
   "execution_count": 16,
   "id": "7d2ee697",
   "metadata": {},
   "outputs": [],
   "source": [
    "c = '문'\n",
    "d = '자'\n",
    "e = '열'"
   ]
  },
  {
   "cell_type": "code",
   "execution_count": 18,
   "id": "48ac5a0e",
   "metadata": {},
   "outputs": [
    {
     "name": "stdout",
     "output_type": "stream",
     "text": [
      "문 <class 'str'>\n",
      "자 <class 'str'>\n",
      "열 <class 'str'>\n"
     ]
    }
   ],
   "source": [
    "print(c, type(c))\n",
    "print(d, type(d))\n",
    "print(e, type(e))"
   ]
  },
  {
   "cell_type": "code",
   "execution_count": 27,
   "id": "2e5f2051",
   "metadata": {},
   "outputs": [],
   "source": [
    "long_char = \"문자열은 아무리 길이가 길어도 한 줄로 되어 있어야 한다. 줄바꿈이 안된다.\""
   ]
  },
  {
   "cell_type": "code",
   "execution_count": 28,
   "id": "b4f4408f",
   "metadata": {
    "scrolled": true
   },
   "outputs": [
    {
     "name": "stdout",
     "output_type": "stream",
     "text": [
      "문자열은 아무리 길이가 길어도 한 줄로 되어 있어야 한다. 줄바꿈이 안된다.\n"
     ]
    }
   ],
   "source": [
    "print(long_char)"
   ]
  },
  {
   "cell_type": "code",
   "execution_count": 5,
   "id": "e2bc3dac",
   "metadata": {},
   "outputs": [],
   "source": [
    "long_char2 = \"문자열은 아무리 길이가 길어도 한 줄로 되어 있어야 한다. 줄바꿈이 안된다./줄바꿈을 하고 싶으면 \\\"\\\"\\\" \\\"\\\"\\\"안에 넣으면 된다\"\"\""
   ]
  },
  {
   "cell_type": "code",
   "execution_count": 7,
   "id": "760caf40",
   "metadata": {},
   "outputs": [
    {
     "name": "stdout",
     "output_type": "stream",
     "text": [
      "문자열은 아무리 길이가 길어도 한 줄로 되어 있어야 한다. 줄바꿈이 안된다./줄바꿈을 하고 싶으면 \"\"\" \"\"\"안에 넣으면 된다\n"
     ]
    }
   ],
   "source": [
    "print(long_char2)"
   ]
  },
  {
   "cell_type": "code",
   "execution_count": 3,
   "id": "905ea703",
   "metadata": {},
   "outputs": [],
   "source": [
    "long_char3 = \"문자열은 아무리 길이가 길어도 한 줄로 되어 있어야 한다. \\\n",
    "줄바꿈이 안된다. \\\n",
    "줄바꿈을 하고 싶으면 \\\n",
    "\\\"\\\"\\\" \\\"\\\"\\\"안에 넣으면 된다\""
   ]
  },
  {
   "cell_type": "code",
   "execution_count": 4,
   "id": "31775776",
   "metadata": {},
   "outputs": [
    {
     "name": "stdout",
     "output_type": "stream",
     "text": [
      "문자열은 아무리 길이가 길어도 한 줄로 되어 있어야 한다. 줄바꿈이 안된다. 줄바꿈을 하고 싶으면 \"\"\" \"\"\"안에 넣으면 된다\n"
     ]
    }
   ],
   "source": [
    "print(long_char3)"
   ]
  },
  {
   "cell_type": "code",
   "execution_count": 42,
   "id": "ca58a695",
   "metadata": {},
   "outputs": [],
   "source": [
    "long_char4 = \"\"\" 따옴표 세개로 문자열을 감싸면\n",
    "줄바꿈을 해도 모두 그대로 출력이 된다\n",
    "쌍따옴표 세개나 홀따옴표 세개로 감싸면 된다 \"\"\""
   ]
  },
  {
   "cell_type": "code",
   "execution_count": 47,
   "id": "6a1cbd09",
   "metadata": {},
   "outputs": [
    {
     "name": "stdout",
     "output_type": "stream",
     "text": [
      " 따옴표 세개로 문자열을 감싸면\n",
      "줄바꿈을 해도 모두 그대로 출력이 된다\n",
      "쌍따옴표 세개나 홀따옴표 세개로 감싸면 된다 \n"
     ]
    }
   ],
   "source": [
    "print(long_char4)"
   ]
  },
  {
   "cell_type": "code",
   "execution_count": 48,
   "id": "f755701a",
   "metadata": {},
   "outputs": [],
   "source": [
    "long_char5 = '''따옴표 세개로 문자열을 감싸면\n",
    "  줄바꿈을 해도 모두 그대로 출력이 된다\n",
    "   쌍따옴표 세개나 홀따옴표 세개로 감싸면 된다'''"
   ]
  },
  {
   "cell_type": "code",
   "execution_count": 46,
   "id": "663c9ab1",
   "metadata": {},
   "outputs": [
    {
     "name": "stdout",
     "output_type": "stream",
     "text": [
      "따옴표 세개로 문자열을 감싸면\n",
      "줄바꿈을 해도 모두 그대로 출력이 된다\n",
      "쌍따옴표 세개나 홀따옴표 세개로 감싸면 된다\n"
     ]
    }
   ],
   "source": [
    "print(long_char5)"
   ]
  },
  {
   "cell_type": "code",
   "execution_count": 49,
   "id": "d366cf53",
   "metadata": {},
   "outputs": [
    {
     "data": {
      "text/plain": [
       "'따옴표 세개로 문자열을 감싸면\\n  줄바꿈을 해도 모두 그대로 출력이 된다\\n   쌍따옴표 세개나 홀따옴표 세개로 감싸면 된다'"
      ]
     },
     "execution_count": 49,
     "metadata": {},
     "output_type": "execute_result"
    }
   ],
   "source": [
    "long_char5"
   ]
  },
  {
   "cell_type": "markdown",
   "id": "2a176ee7",
   "metadata": {},
   "source": [
    "# 문자 덧셈 +, 문자 반복 *"
   ]
  },
  {
   "cell_type": "code",
   "execution_count": 51,
   "id": "61f4708a",
   "metadata": {},
   "outputs": [
    {
     "data": {
      "text/plain": [
       "'문'"
      ]
     },
     "execution_count": 51,
     "metadata": {},
     "output_type": "execute_result"
    }
   ],
   "source": [
    "c"
   ]
  },
  {
   "cell_type": "code",
   "execution_count": 52,
   "id": "563d1c35",
   "metadata": {},
   "outputs": [
    {
     "data": {
      "text/plain": [
       "'자'"
      ]
     },
     "execution_count": 52,
     "metadata": {},
     "output_type": "execute_result"
    }
   ],
   "source": [
    "d"
   ]
  },
  {
   "cell_type": "markdown",
   "id": "143ae37c",
   "metadata": {},
   "source": [
    "문자 변수1 +문자변수2 = 문자가 합쳐짐"
   ]
  },
  {
   "cell_type": "code",
   "execution_count": 53,
   "id": "dd40efbd",
   "metadata": {},
   "outputs": [
    {
     "data": {
      "text/plain": [
       "'문자'"
      ]
     },
     "execution_count": 53,
     "metadata": {},
     "output_type": "execute_result"
    }
   ],
   "source": [
    "c+d"
   ]
  },
  {
   "cell_type": "code",
   "execution_count": 54,
   "id": "5706652f",
   "metadata": {},
   "outputs": [
    {
     "ename": "TypeError",
     "evalue": "unsupported operand type(s) for -: 'str' and 'str'",
     "output_type": "error",
     "traceback": [
      "\u001b[1;31m---------------------------------------------------------------------------\u001b[0m",
      "\u001b[1;31mTypeError\u001b[0m                                 Traceback (most recent call last)",
      "Cell \u001b[1;32mIn[54], line 1\u001b[0m\n\u001b[1;32m----> 1\u001b[0m \u001b[43me\u001b[49m\u001b[43m \u001b[49m\u001b[38;5;241;43m-\u001b[39;49m\u001b[43m \u001b[49m\u001b[43mc\u001b[49m\n",
      "\u001b[1;31mTypeError\u001b[0m: unsupported operand type(s) for -: 'str' and 'str'"
     ]
    }
   ],
   "source": [
    "e - c"
   ]
  },
  {
   "cell_type": "markdown",
   "id": "a4a00410",
   "metadata": {},
   "source": [
    "빼기는 안됨"
   ]
  },
  {
   "cell_type": "markdown",
   "id": "89c29690",
   "metadata": {},
   "source": [
    "문자나 문자열을 반복하고 싶을 때 문자변수 * 숫자"
   ]
  },
  {
   "cell_type": "code",
   "execution_count": 55,
   "id": "a769377f",
   "metadata": {},
   "outputs": [
    {
     "data": {
      "text/plain": [
       "'열'"
      ]
     },
     "execution_count": 55,
     "metadata": {},
     "output_type": "execute_result"
    }
   ],
   "source": [
    "e"
   ]
  },
  {
   "cell_type": "code",
   "execution_count": 56,
   "id": "e672fe44",
   "metadata": {},
   "outputs": [
    {
     "data": {
      "text/plain": [
       "'열열열'"
      ]
     },
     "execution_count": 56,
     "metadata": {},
     "output_type": "execute_result"
    }
   ],
   "source": [
    "e*3"
   ]
  },
  {
   "cell_type": "code",
   "execution_count": 58,
   "id": "b72d81cb",
   "metadata": {},
   "outputs": [
    {
     "name": "stdout",
     "output_type": "stream",
     "text": [
      "====================\n",
      "열\n",
      "====================\n"
     ]
    }
   ],
   "source": [
    "print(\"=\"*20)\n",
    "print(e)\n",
    "print(\"=\"*20)"
   ]
  },
  {
   "cell_type": "markdown",
   "id": "1559073c",
   "metadata": {},
   "source": [
    "# 문자열은 순서가 있다. \n",
    "# 가장 앞글자가 0번 0번부터 순서대로 숫자가 증가\n",
    "* 인덱싱 변수명 \n",
    "* 슬라이싱: 변수명 [시작번호:끝번호+1] (인덱스는 뒤의 숫자 앞에꺼까지 가져오니 +1로 해야한다 \n",
    "문자열, 튜플 리스트 다 가져올수 있음\n",
    "* 나중에 더 자세히"
   ]
  },
  {
   "cell_type": "code",
   "execution_count": 60,
   "id": "4059b939",
   "metadata": {},
   "outputs": [
    {
     "data": {
      "text/plain": [
       "42"
      ]
     },
     "execution_count": 60,
     "metadata": {},
     "output_type": "execute_result"
    }
   ],
   "source": [
    "len(long_char)"
   ]
  },
  {
   "cell_type": "markdown",
   "id": "919453bf",
   "metadata": {},
   "source": [
    "인덱싱 슬라이싱"
   ]
  },
  {
   "cell_type": "code",
   "execution_count": 61,
   "id": "26e75542",
   "metadata": {},
   "outputs": [
    {
     "data": {
      "text/plain": [
       "'문'"
      ]
     },
     "execution_count": 61,
     "metadata": {},
     "output_type": "execute_result"
    }
   ],
   "source": [
    "long_char[0]"
   ]
  },
  {
   "cell_type": "code",
   "execution_count": 62,
   "id": "40f09f1f",
   "metadata": {},
   "outputs": [
    {
     "data": {
      "text/plain": [
       "'이'"
      ]
     },
     "execution_count": 62,
     "metadata": {},
     "output_type": "execute_result"
    }
   ],
   "source": [
    "long_char[10]"
   ]
  },
  {
   "cell_type": "code",
   "execution_count": 65,
   "id": "3653a113",
   "metadata": {},
   "outputs": [
    {
     "data": {
      "text/plain": [
       "'.'"
      ]
     },
     "execution_count": 65,
     "metadata": {},
     "output_type": "execute_result"
    }
   ],
   "source": [
    "long_char[41]"
   ]
  },
  {
   "cell_type": "code",
   "execution_count": 67,
   "id": "d22f0a0d",
   "metadata": {},
   "outputs": [
    {
     "data": {
      "text/plain": [
       "'문자열은 아무리 길이'"
      ]
     },
     "execution_count": 67,
     "metadata": {},
     "output_type": "execute_result"
    }
   ],
   "source": [
    "long_char[0:11]"
   ]
  },
  {
   "cell_type": "markdown",
   "id": "e4d7e544",
   "metadata": {},
   "source": [
    "# 리스트 list\n",
    "* 리스트는 [정수, 실수, 문자, 리스트, 튜플, 디셔너리] 모두 넣을 수 있는 자료형\n",
    "* 리스트는 여러 자료가 같이 나열된 형태이므로 순서가 있다. \n",
    "* 인덱싱, 슬라이싱 가능\n",
    "* 자료의 추가, 삭제 가능"
   ]
  },
  {
   "cell_type": "code",
   "execution_count": 68,
   "id": "918a0698",
   "metadata": {},
   "outputs": [],
   "source": [
    "L=[1,2.0, \"삼\", [1,2,3], (4,5,6), {\"key\" : \"value\"}]"
   ]
  },
  {
   "cell_type": "code",
   "execution_count": 69,
   "id": "610fe869",
   "metadata": {},
   "outputs": [
    {
     "name": "stdout",
     "output_type": "stream",
     "text": [
      "[1, 2.0, '삼', [1, 2, 3], (4, 5, 6), {'key': 'value'}]\n"
     ]
    }
   ],
   "source": [
    "print(L)"
   ]
  },
  {
   "cell_type": "code",
   "execution_count": 70,
   "id": "0adec8df",
   "metadata": {},
   "outputs": [
    {
     "data": {
      "text/plain": [
       "list"
      ]
     },
     "execution_count": 70,
     "metadata": {},
     "output_type": "execute_result"
    }
   ],
   "source": [
    "type(L)"
   ]
  },
  {
   "cell_type": "markdown",
   "id": "50ae83c3",
   "metadata": {},
   "source": [
    "list는 순서가 있는 자료형"
   ]
  },
  {
   "cell_type": "code",
   "execution_count": 71,
   "id": "9ee64594",
   "metadata": {},
   "outputs": [
    {
     "data": {
      "text/plain": [
       "2.0"
      ]
     },
     "execution_count": 71,
     "metadata": {},
     "output_type": "execute_result"
    }
   ],
   "source": [
    "L[1]"
   ]
  },
  {
   "cell_type": "code",
   "execution_count": 72,
   "id": "fe28bad4",
   "metadata": {},
   "outputs": [
    {
     "data": {
      "text/plain": [
       "'삼'"
      ]
     },
     "execution_count": 72,
     "metadata": {},
     "output_type": "execute_result"
    }
   ],
   "source": [
    "L[2]"
   ]
  },
  {
   "cell_type": "code",
   "execution_count": 73,
   "id": "7a451171",
   "metadata": {},
   "outputs": [
    {
     "data": {
      "text/plain": [
       "1"
      ]
     },
     "execution_count": 73,
     "metadata": {},
     "output_type": "execute_result"
    }
   ],
   "source": [
    "L[0]"
   ]
  },
  {
   "cell_type": "code",
   "execution_count": 78,
   "id": "edb10884",
   "metadata": {},
   "outputs": [
    {
     "data": {
      "text/plain": [
       "((4, 5, 6), {'key': 'value'})"
      ]
     },
     "execution_count": 78,
     "metadata": {},
     "output_type": "execute_result"
    }
   ],
   "source": [
    "L[4], L[5]"
   ]
  },
  {
   "cell_type": "code",
   "execution_count": 77,
   "id": "9e51877d",
   "metadata": {},
   "outputs": [
    {
     "data": {
      "text/plain": [
       "[1, 2.0, '삼', [1, 2, 3]]"
      ]
     },
     "execution_count": 77,
     "metadata": {},
     "output_type": "execute_result"
    }
   ],
   "source": [
    "L[0:4]"
   ]
  },
  {
   "cell_type": "code",
   "execution_count": 81,
   "id": "2abbe648",
   "metadata": {},
   "outputs": [
    {
     "data": {
      "text/plain": [
       "3"
      ]
     },
     "execution_count": 81,
     "metadata": {},
     "output_type": "execute_result"
    }
   ],
   "source": [
    "L[3][2]"
   ]
  },
  {
   "cell_type": "code",
   "execution_count": 9,
   "id": "94dc8255",
   "metadata": {},
   "outputs": [],
   "source": [
    "L2 = [1,2,3, [4,5, [6,7,8, [9,10]]]]\n",
    "# 중첩리스트\n",
    "# 안쪽 포장 제외하고 1,2,3,포장 이렇게 계산됨"
   ]
  },
  {
   "cell_type": "code",
   "execution_count": 10,
   "id": "07655b4e",
   "metadata": {},
   "outputs": [
    {
     "data": {
      "text/plain": [
       "4"
      ]
     },
     "execution_count": 10,
     "metadata": {},
     "output_type": "execute_result"
    }
   ],
   "source": [
    "len(L2)"
   ]
  },
  {
   "cell_type": "code",
   "execution_count": 11,
   "id": "c8443dae",
   "metadata": {},
   "outputs": [
    {
     "data": {
      "text/plain": [
       "[4, 5, [6, 7, 8, [9, 10]]]"
      ]
     },
     "execution_count": 11,
     "metadata": {},
     "output_type": "execute_result"
    }
   ],
   "source": [
    "L2[3]"
   ]
  },
  {
   "cell_type": "code",
   "execution_count": 12,
   "id": "7616af55",
   "metadata": {},
   "outputs": [
    {
     "data": {
      "text/plain": [
       "3"
      ]
     },
     "execution_count": 12,
     "metadata": {},
     "output_type": "execute_result"
    }
   ],
   "source": [
    "len(L2[3])"
   ]
  },
  {
   "cell_type": "code",
   "execution_count": 13,
   "id": "457fa343",
   "metadata": {},
   "outputs": [
    {
     "data": {
      "text/plain": [
       "[6, 7, 8, [9, 10]]"
      ]
     },
     "execution_count": 13,
     "metadata": {},
     "output_type": "execute_result"
    }
   ],
   "source": [
    "L2[3][2]"
   ]
  },
  {
   "cell_type": "code",
   "execution_count": 14,
   "id": "fdf0a746",
   "metadata": {},
   "outputs": [
    {
     "data": {
      "text/plain": [
       "[9, 10]"
      ]
     },
     "execution_count": 14,
     "metadata": {},
     "output_type": "execute_result"
    }
   ],
   "source": [
    "L2[3][2][3]"
   ]
  },
  {
   "cell_type": "code",
   "execution_count": 17,
   "id": "630e815a",
   "metadata": {},
   "outputs": [
    {
     "data": {
      "text/plain": [
       "9"
      ]
     },
     "execution_count": 17,
     "metadata": {},
     "output_type": "execute_result"
    }
   ],
   "source": [
    "L2[3][2][3][0]"
   ]
  },
  {
   "cell_type": "code",
   "execution_count": 98,
   "id": "9c282961",
   "metadata": {},
   "outputs": [
    {
     "data": {
      "text/plain": [
       "[1, 2, 3, [4, 5, [6, 7, 8, [9, 10]]], 'append', 'append']"
      ]
     },
     "execution_count": 98,
     "metadata": {},
     "output_type": "execute_result"
    }
   ],
   "source": [
    "L2.append('append')\n",
    "L2"
   ]
  },
  {
   "cell_type": "code",
   "execution_count": 99,
   "id": "82e5062f",
   "metadata": {},
   "outputs": [],
   "source": [
    "del L2[5]"
   ]
  },
  {
   "cell_type": "code",
   "execution_count": 100,
   "id": "7ed2f5a3",
   "metadata": {},
   "outputs": [
    {
     "data": {
      "text/plain": [
       "[1, 2, 3, [4, 5, [6, 7, 8, [9, 10]]], 'append']"
      ]
     },
     "execution_count": 100,
     "metadata": {},
     "output_type": "execute_result"
    }
   ],
   "source": [
    "L2"
   ]
  },
  {
   "cell_type": "markdown",
   "id": "161b0b34",
   "metadata": {},
   "source": [
    "# Tuple 튜플\n",
    "* 여러가지 자료를 ()안에 넣어서 만드는 자료형\n",
    "* 모든 data type을 자료로 받을 수 있다.\n",
    "* 한 번 생성하면 수정이 되지 않는다.\n",
    "* 튜플이 리스트보다 코드 실행시 더 빠르다."
   ]
  },
  {
   "cell_type": "code",
   "execution_count": 21,
   "id": "75fa5d6b",
   "metadata": {},
   "outputs": [
    {
     "name": "stdout",
     "output_type": "stream",
     "text": [
      "1 <class 'int'>\n"
     ]
    }
   ],
   "source": [
    "t0 = (1)\n",
    "print(t0, type(t0))\n",
    "# 튜플형 자료가 아니라 int 형자료가 만들어지므로 반드시 , 를 만들어준다"
   ]
  },
  {
   "cell_type": "code",
   "execution_count": 19,
   "id": "410a7561",
   "metadata": {},
   "outputs": [],
   "source": [
    "t = (1,)"
   ]
  },
  {
   "cell_type": "code",
   "execution_count": 20,
   "id": "616eca99",
   "metadata": {},
   "outputs": [
    {
     "name": "stdout",
     "output_type": "stream",
     "text": [
      "(1,) <class 'tuple'>\n"
     ]
    }
   ],
   "source": [
    "print(t,type(t))"
   ]
  },
  {
   "cell_type": "code",
   "execution_count": 105,
   "id": "efd3eaec",
   "metadata": {},
   "outputs": [],
   "source": [
    "t2 = (10, 334.5, \"튜플\", [1,2,3], (4,5,6), {\"key\":\"value\"})"
   ]
  },
  {
   "cell_type": "code",
   "execution_count": 106,
   "id": "d7758841",
   "metadata": {},
   "outputs": [
    {
     "name": "stdout",
     "output_type": "stream",
     "text": [
      "(10, 334.5, '튜플', [1, 2, 3], (4, 5, 6), {'key': 'value'})\n"
     ]
    }
   ],
   "source": [
    "print(t2)"
   ]
  },
  {
   "cell_type": "code",
   "execution_count": 107,
   "id": "1b77a871",
   "metadata": {},
   "outputs": [
    {
     "data": {
      "text/plain": [
       "5"
      ]
     },
     "execution_count": 107,
     "metadata": {},
     "output_type": "execute_result"
    }
   ],
   "source": [
    "t2[4][1]"
   ]
  },
  {
   "cell_type": "code",
   "execution_count": 108,
   "id": "affe7b34",
   "metadata": {},
   "outputs": [
    {
     "data": {
      "text/plain": [
       "1"
      ]
     },
     "execution_count": 108,
     "metadata": {},
     "output_type": "execute_result"
    }
   ],
   "source": [
    "t2[3][0]"
   ]
  },
  {
   "cell_type": "code",
   "execution_count": 109,
   "id": "120f17fd",
   "metadata": {},
   "outputs": [
    {
     "data": {
      "text/plain": [
       "(10, 334.5, '튜플', [1, 2, 3])"
      ]
     },
     "execution_count": 109,
     "metadata": {},
     "output_type": "execute_result"
    }
   ],
   "source": [
    "t2[0:4]"
   ]
  },
  {
   "cell_type": "code",
   "execution_count": 111,
   "id": "28a8390e",
   "metadata": {},
   "outputs": [],
   "source": [
    "t3 = (1,2,3, (4,5,6, [7,8,9,(10,11,12)]))"
   ]
  },
  {
   "cell_type": "code",
   "execution_count": 114,
   "id": "39e018aa",
   "metadata": {},
   "outputs": [
    {
     "data": {
      "text/plain": [
       "11"
      ]
     },
     "execution_count": 114,
     "metadata": {},
     "output_type": "execute_result"
    }
   ],
   "source": [
    "t3[3][3][3][1]"
   ]
  },
  {
   "cell_type": "code",
   "execution_count": 116,
   "id": "ac12af78",
   "metadata": {},
   "outputs": [
    {
     "name": "stdout",
     "output_type": "stream",
     "text": [
      "t3: <class 'tuple'>\n",
      "t3[3]: <class 'tuple'>\n",
      "t3[3][3] <class 'list'>\n",
      "t3[3][3][3] <class 'tuple'>\n",
      "t3[3][3][3][1] <class 'int'>\n"
     ]
    }
   ],
   "source": [
    "print(\"t3:\",type(t3))\n",
    "print(\"t3[3]:\", type(t3[3]))\n",
    "print(\"t3[3][3]\", type(t3[3][3]))\n",
    "print(\"t3[3][3][3]\", type(t3[3][3][3]))\n",
    "print(\"t3[3][3][3][1]\", type(t3[3][3][3][1]))"
   ]
  },
  {
   "cell_type": "code",
   "execution_count": 118,
   "id": "c27ebda8",
   "metadata": {},
   "outputs": [
    {
     "ename": "AttributeError",
     "evalue": "'tuple' object has no attribute 'append'",
     "output_type": "error",
     "traceback": [
      "\u001b[1;31m---------------------------------------------------------------------------\u001b[0m",
      "\u001b[1;31mAttributeError\u001b[0m                            Traceback (most recent call last)",
      "Cell \u001b[1;32mIn[118], line 1\u001b[0m\n\u001b[1;32m----> 1\u001b[0m \u001b[43mt3\u001b[49m\u001b[38;5;241;43m.\u001b[39;49m\u001b[43mappend\u001b[49m(\u001b[38;5;124m\"\u001b[39m\u001b[38;5;124m튜플2\u001b[39m\u001b[38;5;124m\"\u001b[39m)\n\u001b[0;32m      2\u001b[0m \u001b[38;5;66;03m# 수정할 수 없다\u001b[39;00m\n",
      "\u001b[1;31mAttributeError\u001b[0m: 'tuple' object has no attribute 'append'"
     ]
    }
   ],
   "source": [
    "t3.append(\"튜플2\")\n",
    "# 수정할 수 없다"
   ]
  },
  {
   "cell_type": "markdown",
   "id": "bee02493",
   "metadata": {},
   "source": [
    "# 딕셔너리형(dict) JSON{\"key\":\"value\"}\n",
    "* key와 value로 이루어진 데이터형\n",
    "* json 이라고 불리며 웹상에서 데이터를 주고받을 때 주로 사용\n",
    "* 딕셔너리의 value에는 모든 자료형이 올 수 있음\n",
    "* 덱셔너리는 순서가 없는 자료형\n",
    "* key를 호출하면 value가 출력됨"
   ]
  },
  {
   "cell_type": "code",
   "execution_count": 119,
   "id": "4995f84e",
   "metadata": {},
   "outputs": [],
   "source": [
    "dic1 = {'이름':'홍길동', '나이':33, '키':175.4, '가족':[\"둘리\", \"또치\", \"도우너\"]}"
   ]
  },
  {
   "cell_type": "code",
   "execution_count": 120,
   "id": "20bccae8",
   "metadata": {},
   "outputs": [
    {
     "name": "stdout",
     "output_type": "stream",
     "text": [
      "{'이름': '홍길동', '나이': 33, '키': 175.4, '가족': ['둘리', '또치', '도우너']}\n"
     ]
    }
   ],
   "source": [
    "print(dic1)"
   ]
  },
  {
   "cell_type": "code",
   "execution_count": 121,
   "id": "23a05585",
   "metadata": {},
   "outputs": [
    {
     "data": {
      "text/plain": [
       "'홍길동'"
      ]
     },
     "execution_count": 121,
     "metadata": {},
     "output_type": "execute_result"
    }
   ],
   "source": [
    "dic1['이름']"
   ]
  },
  {
   "cell_type": "code",
   "execution_count": 122,
   "id": "8e86f975",
   "metadata": {},
   "outputs": [
    {
     "data": {
      "text/plain": [
       "33"
      ]
     },
     "execution_count": 122,
     "metadata": {},
     "output_type": "execute_result"
    }
   ],
   "source": [
    "dic1[\"나이\"]"
   ]
  },
  {
   "cell_type": "code",
   "execution_count": 123,
   "id": "a058f111",
   "metadata": {},
   "outputs": [
    {
     "data": {
      "text/plain": [
       "4"
      ]
     },
     "execution_count": 123,
     "metadata": {},
     "output_type": "execute_result"
    }
   ],
   "source": [
    "len(dic1)"
   ]
  },
  {
   "cell_type": "markdown",
   "id": "d1c55d7e",
   "metadata": {},
   "source": [
    "딕셔너리의 길이는 key의 갯수"
   ]
  },
  {
   "cell_type": "code",
   "execution_count": 124,
   "id": "ee9d6265",
   "metadata": {},
   "outputs": [],
   "source": [
    "dic2 = {'이름':'홍길동', '나이':33, '키':175.4, '가족':[\"둘리\", \"또치\", \"도우너\",{'신장':[130,120,150]}]}"
   ]
  },
  {
   "cell_type": "markdown",
   "id": "ff26b47f",
   "metadata": {},
   "source": [
    "딕셔너리는 무조건 이름"
   ]
  },
  {
   "cell_type": "code",
   "execution_count": 127,
   "id": "6c9fc723",
   "metadata": {},
   "outputs": [
    {
     "data": {
      "text/plain": [
       "{'신장': [130, 120, 150]}"
      ]
     },
     "execution_count": 127,
     "metadata": {},
     "output_type": "execute_result"
    }
   ],
   "source": [
    "dic2['가족'][3]"
   ]
  },
  {
   "cell_type": "code",
   "execution_count": 128,
   "id": "9aea4ae1",
   "metadata": {},
   "outputs": [
    {
     "data": {
      "text/plain": [
       "120"
      ]
     },
     "execution_count": 128,
     "metadata": {},
     "output_type": "execute_result"
    }
   ],
   "source": [
    "dic2['가족'][3]['신장'][1]"
   ]
  },
  {
   "cell_type": "markdown",
   "id": "f48a5964",
   "metadata": {},
   "source": [
    "이름과 번호를 부르는 것이 중요"
   ]
  },
  {
   "cell_type": "markdown",
   "id": "294113c0",
   "metadata": {},
   "source": [
    "딕셔너리에 자료 추가"
   ]
  },
  {
   "cell_type": "code",
   "execution_count": 130,
   "id": "c1364b0d",
   "metadata": {},
   "outputs": [],
   "source": [
    "dic2['새 자료'] = (1,2,3)"
   ]
  },
  {
   "cell_type": "code",
   "execution_count": 131,
   "id": "a6886e72",
   "metadata": {},
   "outputs": [
    {
     "data": {
      "text/plain": [
       "{'이름': '홍길동',\n",
       " '나이': 33,\n",
       " '키': 175.4,\n",
       " '가족': ['둘리', '또치', '도우너', {'신장': [130, 120, 150]}],\n",
       " '새 자료': (1, 2, 3)}"
      ]
     },
     "execution_count": 131,
     "metadata": {},
     "output_type": "execute_result"
    }
   ],
   "source": [
    "dic2"
   ]
  },
  {
   "cell_type": "code",
   "execution_count": 132,
   "id": "a517f838",
   "metadata": {},
   "outputs": [],
   "source": [
    "del dic2['가족']"
   ]
  },
  {
   "cell_type": "code",
   "execution_count": 133,
   "id": "b9c45e59",
   "metadata": {},
   "outputs": [
    {
     "data": {
      "text/plain": [
       "{'이름': '홍길동', '나이': 33, '키': 175.4, '새 자료': (1, 2, 3)}"
      ]
     },
     "execution_count": 133,
     "metadata": {},
     "output_type": "execute_result"
    }
   ],
   "source": [
    "dic2"
   ]
  },
  {
   "cell_type": "code",
   "execution_count": 26,
   "id": "e1cd4b84",
   "metadata": {},
   "outputs": [],
   "source": [
    "dic3 = {'이름':['홍길동', '둘리', \"또치\"],\n",
    "       '나이' : (33, 12, 14),\n",
    "       '성별' : ('남', '남', '남'),\n",
    "       '주소' : ['서울', '남극', '아프리카']}"
   ]
  },
  {
   "cell_type": "code",
   "execution_count": 27,
   "id": "70692b71",
   "metadata": {},
   "outputs": [
    {
     "data": {
      "text/plain": [
       "{'이름': ['홍길동', '둘리', '또치'],\n",
       " '나이': (33, 12, 14),\n",
       " '성별': ('남', '남', '남'),\n",
       " '주소': ['서울', '남극', '아프리카']}"
      ]
     },
     "execution_count": 27,
     "metadata": {},
     "output_type": "execute_result"
    }
   ],
   "source": [
    "dic3"
   ]
  },
  {
   "cell_type": "code",
   "execution_count": 28,
   "id": "df3ab50a",
   "metadata": {},
   "outputs": [],
   "source": [
    "import pandas as pd"
   ]
  },
  {
   "cell_type": "code",
   "execution_count": 30,
   "id": "5eedb1f1",
   "metadata": {},
   "outputs": [],
   "source": [
    "df = pd.DataFrame(dic3)\n",
    "df['새자료']=[1,2,3]"
   ]
  },
  {
   "cell_type": "code",
   "execution_count": 31,
   "id": "495890c4",
   "metadata": {},
   "outputs": [
    {
     "data": {
      "text/html": [
       "<div>\n",
       "<style scoped>\n",
       "    .dataframe tbody tr th:only-of-type {\n",
       "        vertical-align: middle;\n",
       "    }\n",
       "\n",
       "    .dataframe tbody tr th {\n",
       "        vertical-align: top;\n",
       "    }\n",
       "\n",
       "    .dataframe thead th {\n",
       "        text-align: right;\n",
       "    }\n",
       "</style>\n",
       "<table border=\"1\" class=\"dataframe\">\n",
       "  <thead>\n",
       "    <tr style=\"text-align: right;\">\n",
       "      <th></th>\n",
       "      <th>이름</th>\n",
       "      <th>나이</th>\n",
       "      <th>성별</th>\n",
       "      <th>주소</th>\n",
       "      <th>새자료</th>\n",
       "    </tr>\n",
       "  </thead>\n",
       "  <tbody>\n",
       "    <tr>\n",
       "      <th>0</th>\n",
       "      <td>홍길동</td>\n",
       "      <td>33</td>\n",
       "      <td>남</td>\n",
       "      <td>서울</td>\n",
       "      <td>1</td>\n",
       "    </tr>\n",
       "    <tr>\n",
       "      <th>1</th>\n",
       "      <td>둘리</td>\n",
       "      <td>12</td>\n",
       "      <td>남</td>\n",
       "      <td>남극</td>\n",
       "      <td>2</td>\n",
       "    </tr>\n",
       "    <tr>\n",
       "      <th>2</th>\n",
       "      <td>또치</td>\n",
       "      <td>14</td>\n",
       "      <td>남</td>\n",
       "      <td>아프리카</td>\n",
       "      <td>3</td>\n",
       "    </tr>\n",
       "  </tbody>\n",
       "</table>\n",
       "</div>"
      ],
      "text/plain": [
       "    이름  나이 성별    주소  새자료\n",
       "0  홍길동  33  남    서울    1\n",
       "1   둘리  12  남    남극    2\n",
       "2   또치  14  남  아프리카    3"
      ]
     },
     "execution_count": 31,
     "metadata": {},
     "output_type": "execute_result"
    }
   ],
   "source": [
    "df"
   ]
  },
  {
   "cell_type": "markdown",
   "id": "1993df72",
   "metadata": {},
   "source": [
    "# 형변환 함수\n",
    "* 형변환: data type 다른 data type으로 전환 "
   ]
  },
  {
   "cell_type": "code",
   "execution_count": 16,
   "id": "f8fa470e",
   "metadata": {},
   "outputs": [],
   "source": [
    "a=3\n",
    "b='3'\n",
    "c='eat'"
   ]
  },
  {
   "cell_type": "code",
   "execution_count": 17,
   "id": "5edf7423",
   "metadata": {},
   "outputs": [
    {
     "name": "stdout",
     "output_type": "stream",
     "text": [
      "3 3\n"
     ]
    }
   ],
   "source": [
    "print(a,b)"
   ]
  },
  {
   "cell_type": "code",
   "execution_count": 18,
   "id": "b8ee3b83",
   "metadata": {},
   "outputs": [
    {
     "ename": "TypeError",
     "evalue": "unsupported operand type(s) for +: 'int' and 'str'",
     "output_type": "error",
     "traceback": [
      "\u001b[1;31m---------------------------------------------------------------------------\u001b[0m",
      "\u001b[1;31mTypeError\u001b[0m                                 Traceback (most recent call last)",
      "Cell \u001b[1;32mIn[18], line 1\u001b[0m\n\u001b[1;32m----> 1\u001b[0m \u001b[43ma\u001b[49m\u001b[38;5;241;43m+\u001b[39;49m\u001b[43mb\u001b[49m\n",
      "\u001b[1;31mTypeError\u001b[0m: unsupported operand type(s) for +: 'int' and 'str'"
     ]
    }
   ],
   "source": [
    "a+b"
   ]
  },
  {
   "cell_type": "markdown",
   "id": "b0347bd5",
   "metadata": {},
   "source": [
    "정수로 형변환 int()"
   ]
  },
  {
   "cell_type": "code",
   "execution_count": 19,
   "id": "2168f9f7",
   "metadata": {},
   "outputs": [
    {
     "data": {
      "text/plain": [
       "6"
      ]
     },
     "execution_count": 19,
     "metadata": {},
     "output_type": "execute_result"
    }
   ],
   "source": [
    "a + int(b)"
   ]
  },
  {
   "cell_type": "code",
   "execution_count": 20,
   "id": "287bd59f",
   "metadata": {},
   "outputs": [
    {
     "ename": "ValueError",
     "evalue": "invalid literal for int() with base 10: 'eat'",
     "output_type": "error",
     "traceback": [
      "\u001b[1;31m---------------------------------------------------------------------------\u001b[0m",
      "\u001b[1;31mValueError\u001b[0m                                Traceback (most recent call last)",
      "Cell \u001b[1;32mIn[20], line 1\u001b[0m\n\u001b[1;32m----> 1\u001b[0m a \u001b[38;5;241m+\u001b[39m \u001b[38;5;28;43mint\u001b[39;49m\u001b[43m(\u001b[49m\u001b[43mc\u001b[49m\u001b[43m)\u001b[49m\n",
      "\u001b[1;31mValueError\u001b[0m: invalid literal for int() with base 10: 'eat'"
     ]
    }
   ],
   "source": [
    "a + int(c)"
   ]
  },
  {
   "cell_type": "markdown",
   "id": "c653918c",
   "metadata": {},
   "source": [
    "* 실수로 변환 float()"
   ]
  },
  {
   "cell_type": "code",
   "execution_count": 21,
   "id": "a53da7fb",
   "metadata": {},
   "outputs": [
    {
     "data": {
      "text/plain": [
       "6.0"
      ]
     },
     "execution_count": 21,
     "metadata": {},
     "output_type": "execute_result"
    }
   ],
   "source": [
    "a + float(b)"
   ]
  },
  {
   "cell_type": "markdown",
   "id": "e1cdeb17",
   "metadata": {},
   "source": [
    "* 문자열로 변환 str()"
   ]
  },
  {
   "cell_type": "code",
   "execution_count": 22,
   "id": "ebe3049b",
   "metadata": {},
   "outputs": [
    {
     "data": {
      "text/plain": [
       "'33'"
      ]
     },
     "execution_count": 22,
     "metadata": {},
     "output_type": "execute_result"
    }
   ],
   "source": [
    "str(a)+b"
   ]
  },
  {
   "cell_type": "markdown",
   "id": "ad6adbfc",
   "metadata": {},
   "source": [
    "*리스트 형변환"
   ]
  },
  {
   "cell_type": "code",
   "execution_count": 23,
   "id": "b51405f4",
   "metadata": {},
   "outputs": [
    {
     "name": "stdout",
     "output_type": "stream",
     "text": [
      "(1, 2, 3, 4) <class 'tuple'>\n"
     ]
    }
   ],
   "source": [
    "t = (1,2,3,4)\n",
    "print(t,type(t))"
   ]
  },
  {
   "cell_type": "code",
   "execution_count": 24,
   "id": "f73c65d4",
   "metadata": {},
   "outputs": [
    {
     "name": "stdout",
     "output_type": "stream",
     "text": [
      "[1, 2, 3, 4] <class 'list'>\n"
     ]
    }
   ],
   "source": [
    "t2 = list(t)\n",
    "print(t2,type(t))"
   ]
  },
  {
   "cell_type": "code",
   "execution_count": null,
   "id": "36c5a217",
   "metadata": {},
   "outputs": [],
   "source": []
  },
  {
   "cell_type": "markdown",
   "id": "ca113845",
   "metadata": {},
   "source": [
    "* 튜플로 형변환"
   ]
  },
  {
   "cell_type": "code",
   "execution_count": null,
   "id": "4f50cc3b",
   "metadata": {},
   "outputs": [],
   "source": [
    "t3 = (1,2,3,4)"
   ]
  },
  {
   "cell_type": "code",
   "execution_count": null,
   "id": "352e5074",
   "metadata": {},
   "outputs": [],
   "source": [
    "t3 = list(t3)\n",
    "print(t3, type(t3))"
   ]
  },
  {
   "cell_type": "markdown",
   "id": "0ead2113",
   "metadata": {},
   "source": [
    "# input() : 키보드 입력을 받는 함수\n",
    "* input(\"화면에 표시될 메세지\")\n",
    "* 입력받는 값은 \"\"으로구분해서 여러개를 받을 수 있음\n",
    "* str 타입의 문자열로 받음"
   ]
  },
  {
   "cell_type": "code",
   "execution_count": 1,
   "id": "b0a69840",
   "metadata": {},
   "outputs": [
    {
     "name": "stdout",
     "output_type": "stream",
     "text": [
      "이름을 입력해 주세요20\n"
     ]
    },
    {
     "ename": "NameError",
     "evalue": "name 'input_name2' is not defined",
     "output_type": "error",
     "traceback": [
      "\u001b[1;31m---------------------------------------------------------------------------\u001b[0m",
      "\u001b[1;31mNameError\u001b[0m                                 Traceback (most recent call last)",
      "Cell \u001b[1;32mIn[1], line 2\u001b[0m\n\u001b[0;32m      1\u001b[0m input_name \u001b[38;5;241m=\u001b[39m \u001b[38;5;28minput\u001b[39m(\u001b[38;5;124m\"\u001b[39m\u001b[38;5;124m이름을 입력해 주세요\u001b[39m\u001b[38;5;124m\"\u001b[39m)\n\u001b[1;32m----> 2\u001b[0m \u001b[38;5;28mprint\u001b[39m(\u001b[43minput_name2\u001b[49m)\n",
      "\u001b[1;31mNameError\u001b[0m: name 'input_name2' is not defined"
     ]
    }
   ],
   "source": [
    "input_name = input(\"이름을 입력해 주세요\")\n",
    "print(input_name2)"
   ]
  },
  {
   "cell_type": "code",
   "execution_count": 2,
   "id": "f3d02037",
   "metadata": {},
   "outputs": [
    {
     "name": "stdout",
     "output_type": "stream",
     "text": [
      "숫자를 3개 입력해 주세요10,20,30\n",
      "10,20,30 <class 'str'>\n"
     ]
    }
   ],
   "source": [
    "data = input('숫자를 3개 입력해 주세요')\n",
    "print(data, type(data))"
   ]
  },
  {
   "cell_type": "code",
   "execution_count": 3,
   "id": "a192cd99",
   "metadata": {},
   "outputs": [
    {
     "data": {
      "text/plain": [
       "'10,20,30'"
      ]
     },
     "execution_count": 3,
     "metadata": {},
     "output_type": "execute_result"
    }
   ],
   "source": [
    "data"
   ]
  },
  {
   "cell_type": "markdown",
   "id": "60cab695",
   "metadata": {},
   "source": [
    "* input().split() 으로 여러 데이터를 list 형태로 받기"
   ]
  },
  {
   "cell_type": "code",
   "execution_count": 7,
   "id": "53fb3022",
   "metadata": {},
   "outputs": [
    {
     "name": "stdout",
     "output_type": "stream",
     "text": [
      "숫자를 3개 입력해 주세요10 20 30\n",
      "['10', '20', '30'] <class 'list'>\n"
     ]
    }
   ],
   "source": [
    "data = input('숫자를 3개 입력해 주세요').split()\n",
    "print(data, type(data))"
   ]
  },
  {
   "cell_type": "code",
   "execution_count": null,
   "id": "7a4bad75",
   "metadata": {},
   "outputs": [],
   "source": []
  },
  {
   "cell_type": "code",
   "execution_count": 9,
   "id": "0b94a6ab",
   "metadata": {},
   "outputs": [
    {
     "data": {
      "text/plain": [
       "30"
      ]
     },
     "execution_count": 9,
     "metadata": {},
     "output_type": "execute_result"
    }
   ],
   "source": [
    "int(data[0])+int(data[1])"
   ]
  },
  {
   "cell_type": "code",
   "execution_count": 12,
   "id": "2e0cb324",
   "metadata": {},
   "outputs": [
    {
     "name": "stdout",
     "output_type": "stream",
     "text": [
      "숫자를 4개 입력해 주세요10 20 30 40\n",
      "10 20 30 40 <class 'str'> <class 'str'> <class 'str'> <class 'str'>\n"
     ]
    }
   ],
   "source": [
    "a, b, c, d = input('숫자를 4개 입력해 주세요').split()\n",
    "print(a,b,c,d, type(a),type(b),type(c),type(d))\n",
    "# 다중 갯수 받기"
   ]
  },
  {
   "cell_type": "code",
   "execution_count": null,
   "id": "41511bcf",
   "metadata": {},
   "outputs": [],
   "source": []
  },
  {
   "cell_type": "code",
   "execution_count": null,
   "id": "04e7afea",
   "metadata": {},
   "outputs": [],
   "source": []
  },
  {
   "cell_type": "code",
   "execution_count": null,
   "id": "74b10eea",
   "metadata": {},
   "outputs": [],
   "source": []
  },
  {
   "cell_type": "code",
   "execution_count": null,
   "id": "2ea6ac38",
   "metadata": {},
   "outputs": [],
   "source": []
  }
 ],
 "metadata": {
  "kernelspec": {
   "display_name": "Python 3 (ipykernel)",
   "language": "python",
   "name": "python3"
  },
  "language_info": {
   "codemirror_mode": {
    "name": "ipython",
    "version": 3
   },
   "file_extension": ".py",
   "mimetype": "text/x-python",
   "name": "python",
   "nbconvert_exporter": "python",
   "pygments_lexer": "ipython3",
   "version": "3.9.21"
  }
 },
 "nbformat": 4,
 "nbformat_minor": 5
}
