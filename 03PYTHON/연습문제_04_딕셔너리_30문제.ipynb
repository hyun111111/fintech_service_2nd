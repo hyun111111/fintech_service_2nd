{
 "cells": [
  {
   "cell_type": "markdown",
   "id": "390e0d05",
   "metadata": {},
   "source": [
    "# 딕셔너리 사용 연습문제 30개"
   ]
  },
  {
   "cell_type": "markdown",
   "id": "e8558338",
   "metadata": {},
   "source": [
    "1. **빈 딕셔너리 `empty_dict`를 생성하고 출력하세요.**  "
   ]
  },
  {
   "cell_type": "code",
   "execution_count": 3,
   "id": "9e735469",
   "metadata": {},
   "outputs": [
    {
     "name": "stdout",
     "output_type": "stream",
     "text": [
      "{}\n"
     ]
    }
   ],
   "source": [
    "empty_dic = {}\n",
    "print(empty_dic)"
   ]
  },
  {
   "cell_type": "code",
   "execution_count": 2,
   "id": "b1fe811f",
   "metadata": {},
   "outputs": [
    {
     "name": "stdout",
     "output_type": "stream",
     "text": [
      "{}\n"
     ]
    }
   ],
   "source": [
    "empty_dic = dict()\n",
    "print(empty_dic)"
   ]
  },
  {
   "cell_type": "markdown",
   "id": "65850ac2",
   "metadata": {},
   "source": [
    "2. **다음과 같은 딕셔너리를 생성하고 출력하세요.**  \n",
    "   ```python\n",
    "   person = {\"name\": \"Alice\", \"age\": 25, \"city\": \"Seoul\"}\n",
    " \n",
    "   ```"
   ]
  },
  {
   "cell_type": "code",
   "execution_count": 72,
   "id": "618318d3",
   "metadata": {},
   "outputs": [
    {
     "name": "stdout",
     "output_type": "stream",
     "text": [
      "person = {'name': 'Alice', 'age': 25, 'city': 'Seoul'}\n"
     ]
    }
   ],
   "source": [
    "person = {\"name\": \"Alice\", \"age\": 25, \"city\": \"Seoul\"}\n",
    "print('person =',person)"
   ]
  },
  {
   "cell_type": "code",
   "execution_count": 5,
   "id": "c1b017b7",
   "metadata": {},
   "outputs": [
    {
     "data": {
      "text/plain": [
       "{'name': 'Alice', 'age': '25', 'city': 'Seoul'}"
      ]
     },
     "execution_count": 5,
     "metadata": {},
     "output_type": "execute_result"
    }
   ],
   "source": [
    "person = dict(name=\"Alice\", age=\"25\",city=\"Seoul\")\n",
    "person"
   ]
  },
  {
   "cell_type": "code",
   "execution_count": 6,
   "id": "e3685b00",
   "metadata": {},
   "outputs": [
    {
     "data": {
      "text/plain": [
       "{'name': 'Alice', 'age': 25, 'city': 'Seoul'}"
      ]
     },
     "execution_count": 6,
     "metadata": {},
     "output_type": "execute_result"
    }
   ],
   "source": [
    "person = dict([(\"name\",\"Alice\"),(\"age\",25),(\"city\",\"Seoul\")])\n",
    "person"
   ]
  },
  {
   "cell_type": "code",
   "execution_count": 14,
   "id": "2cadcbd1",
   "metadata": {},
   "outputs": [
    {
     "data": {
      "text/plain": [
       "{'name': 'Alice', 'age': 25, 'city': 'Seoul'}"
      ]
     },
     "execution_count": 14,
     "metadata": {},
     "output_type": "execute_result"
    }
   ],
   "source": [
    "person = dict(zip([\"name\",\"age\",\"city\"],[\"Alice\",25,\"Seoul\"]))\n",
    "person"
   ]
  },
  {
   "cell_type": "markdown",
   "id": "c3427c56",
   "metadata": {},
   "source": [
    "3. **딕셔너리 `person`에서 `\"name\"` 키의 값을 출력하세요.**  \n",
    "```python\n",
    "Alice\n",
    "```"
   ]
  },
  {
   "cell_type": "code",
   "execution_count": 15,
   "id": "7d2b0f10",
   "metadata": {},
   "outputs": [
    {
     "name": "stdout",
     "output_type": "stream",
     "text": [
      "Alice\n"
     ]
    }
   ],
   "source": [
    "print(person['name'])"
   ]
  },
  {
   "cell_type": "markdown",
   "id": "cda292d7",
   "metadata": {},
   "source": [
    "4. **딕셔너리 `person`에서 `\"age\"` 키의 값을 출력하세요.**  \n",
    "   ```python\n",
    "   25\n",
    "   ```"
   ]
  },
  {
   "cell_type": "code",
   "execution_count": 16,
   "id": "1fa8e06c",
   "metadata": {},
   "outputs": [
    {
     "data": {
      "text/plain": [
       "25"
      ]
     },
     "execution_count": 16,
     "metadata": {},
     "output_type": "execute_result"
    }
   ],
   "source": [
    "person.get('age','key 없음')"
   ]
  },
  {
   "cell_type": "code",
   "execution_count": 17,
   "id": "41f3ae13",
   "metadata": {},
   "outputs": [
    {
     "data": {
      "text/plain": [
       "'key 없음'"
      ]
     },
     "execution_count": 17,
     "metadata": {},
     "output_type": "execute_result"
    }
   ],
   "source": [
    "person.get('ag','key 없음')"
   ]
  },
  {
   "cell_type": "code",
   "execution_count": null,
   "id": "1e515cad",
   "metadata": {},
   "outputs": [],
   "source": []
  },
  {
   "cell_type": "markdown",
   "id": "9c9bf58c",
   "metadata": {},
   "source": [
    "5. **딕셔너리 `person`에 `\"job\": \"Engineer\"`를 추가하고 출력하세요.**  \n",
    "   ```python\n",
    "   {\"name\": \"Alice\", \"age\": 25, \"city\": \"Seoul\", \"job\": \"Engineer\"}\n",
    "   ```"
   ]
  },
  {
   "cell_type": "code",
   "execution_count": 18,
   "id": "51083ccd",
   "metadata": {},
   "outputs": [
    {
     "name": "stdout",
     "output_type": "stream",
     "text": [
      "{'name': 'Alice', 'age': 25, 'city': 'Seoul', 'job': 'Engineer'}\n"
     ]
    }
   ],
   "source": [
    "person['job']= \"Engineer\"\n",
    "print(person)"
   ]
  },
  {
   "cell_type": "code",
   "execution_count": 19,
   "id": "52e61629",
   "metadata": {},
   "outputs": [
    {
     "data": {
      "text/plain": [
       "'Engineer'"
      ]
     },
     "execution_count": 19,
     "metadata": {},
     "output_type": "execute_result"
    }
   ],
   "source": [
    "person.setdefault(\"job\",\"Engineer\")"
   ]
  },
  {
   "cell_type": "code",
   "execution_count": 20,
   "id": "8afb70e3",
   "metadata": {},
   "outputs": [
    {
     "data": {
      "text/plain": [
       "{'name': 'Alice', 'age': 25, 'city': 'Seoul', 'job': 'Engineer'}"
      ]
     },
     "execution_count": 20,
     "metadata": {},
     "output_type": "execute_result"
    }
   ],
   "source": [
    "person"
   ]
  },
  {
   "cell_type": "code",
   "execution_count": null,
   "id": "601c2e7d",
   "metadata": {},
   "outputs": [],
   "source": []
  },
  {
   "cell_type": "markdown",
   "id": "f1e12ed4",
   "metadata": {},
   "source": [
    "6. **딕셔너리 `person`에서 `\"city\"`의 값을 `\"Busan\"`으로 변경하고 출력하세요.**  \n",
    "   ```python\n",
    "{\"name\": \"Alice\", \"age\": 25, \"city\": \"Busan\", \"job\": \"Engineer\"}\n",
    "   \n",
    "   ```"
   ]
  },
  {
   "cell_type": "code",
   "execution_count": 76,
   "id": "d9c42b60",
   "metadata": {
    "scrolled": true
   },
   "outputs": [
    {
     "name": "stdout",
     "output_type": "stream",
     "text": [
      "{'name': 'Alice', 'age': 25, 'city': 'Busan', 'job': 'Engineer'}\n"
     ]
    }
   ],
   "source": [
    "person['city']= \"Busan\"\n",
    "print(person)"
   ]
  },
  {
   "cell_type": "code",
   "execution_count": 21,
   "id": "8339e07b",
   "metadata": {},
   "outputs": [
    {
     "name": "stdout",
     "output_type": "stream",
     "text": [
      "{'name': 'Alice', 'age': 25, 'city': 'Seoul', 'job': 'Engineer'}\n"
     ]
    }
   ],
   "source": [
    "person['city']= \"Seoul\"\n",
    "print(person)"
   ]
  },
  {
   "cell_type": "code",
   "execution_count": 23,
   "id": "88c06d8b",
   "metadata": {},
   "outputs": [
    {
     "name": "stdout",
     "output_type": "stream",
     "text": [
      "{'name': 'Alice', 'age': 25, 'city': 'Busan', 'job': 'Engineer'}\n"
     ]
    }
   ],
   "source": [
    "person.update(city=\"Busan\")\n",
    "print(person)"
   ]
  },
  {
   "cell_type": "markdown",
   "id": "2799c34c",
   "metadata": {},
   "source": [
    "7. **딕셔너리 `person`에서 `\"age\"` 키를 삭제하고 출력하세요.**  \n",
    "   ```python\n",
    "   {\"name\": \"Alice\", \"city\": \"Busan\", \"job\": \"Engineer\"}\n",
    "   ```"
   ]
  },
  {
   "cell_type": "code",
   "execution_count": 77,
   "id": "6c1e7848",
   "metadata": {},
   "outputs": [
    {
     "name": "stdout",
     "output_type": "stream",
     "text": [
      "{'name': 'Alice', 'city': 'Busan', 'job': 'Engineer'}\n"
     ]
    }
   ],
   "source": [
    "del person['age']\n",
    "print(person)"
   ]
  },
  {
   "cell_type": "code",
   "execution_count": 24,
   "id": "8044ab10",
   "metadata": {},
   "outputs": [
    {
     "data": {
      "text/plain": [
       "{'name': 'Alice', 'city': 'Busan', 'job': 'Engineer'}"
      ]
     },
     "execution_count": 24,
     "metadata": {},
     "output_type": "execute_result"
    }
   ],
   "source": [
    "person.pop('age')\n",
    "person"
   ]
  },
  {
   "cell_type": "code",
   "execution_count": null,
   "id": "2cadcfb7",
   "metadata": {},
   "outputs": [],
   "source": []
  },
  {
   "cell_type": "code",
   "execution_count": null,
   "id": "a62f3676",
   "metadata": {},
   "outputs": [],
   "source": []
  },
  {
   "cell_type": "markdown",
   "id": "c482e2f1",
   "metadata": {},
   "source": [
    "8. **딕셔너리 `person`의 모든 키를 출력하세요.**  \n",
    "   ```python\n",
    "   dict_keys(['name', 'city', 'job'])\n",
    "   ```"
   ]
  },
  {
   "cell_type": "code",
   "execution_count": 78,
   "id": "a2658fd6",
   "metadata": {},
   "outputs": [
    {
     "data": {
      "text/plain": [
       "dict_keys(['name', 'city', 'job'])"
      ]
     },
     "execution_count": 78,
     "metadata": {},
     "output_type": "execute_result"
    }
   ],
   "source": [
    "person.keys()"
   ]
  },
  {
   "cell_type": "code",
   "execution_count": 25,
   "id": "0f3897c3",
   "metadata": {},
   "outputs": [
    {
     "name": "stdout",
     "output_type": "stream",
     "text": [
      "name\n",
      "city\n",
      "job\n"
     ]
    }
   ],
   "source": [
    "for i in person:\n",
    "    print(i)"
   ]
  },
  {
   "cell_type": "markdown",
   "id": "45921484",
   "metadata": {},
   "source": [
    "9. **딕셔너리 `person`의 모든 값(value)을 출력하세요.**  \n",
    "   ```python\n",
    "   dict_values(['Alice', 'Busan', 'Engineer'])\n",
    "   ```"
   ]
  },
  {
   "cell_type": "code",
   "execution_count": 79,
   "id": "babc77b2",
   "metadata": {
    "scrolled": true
   },
   "outputs": [
    {
     "data": {
      "text/plain": [
       "dict_values(['Alice', 'Busan', 'Engineer'])"
      ]
     },
     "execution_count": 79,
     "metadata": {},
     "output_type": "execute_result"
    }
   ],
   "source": [
    "person.values()"
   ]
  },
  {
   "cell_type": "code",
   "execution_count": 26,
   "id": "a8ad7397",
   "metadata": {},
   "outputs": [
    {
     "name": "stdout",
     "output_type": "stream",
     "text": [
      "Alice\n",
      "Busan\n",
      "Engineer\n"
     ]
    }
   ],
   "source": [
    "for i in person:\n",
    "    print(person[i])"
   ]
  },
  {
   "cell_type": "markdown",
   "id": "59c335b6",
   "metadata": {},
   "source": [
    "10. **딕셔너리 `person`의 모든 키-값 쌍을 출력하세요.**  \n",
    "    ```python\n",
    "    dict_items([('name', 'Alice'), ('city', 'Busan'), ('job', 'Engineer')])\n",
    "    ```"
   ]
  },
  {
   "cell_type": "code",
   "execution_count": 80,
   "id": "b2a99000",
   "metadata": {
    "scrolled": true
   },
   "outputs": [
    {
     "data": {
      "text/plain": [
       "dict_items([('name', 'Alice'), ('city', 'Busan'), ('job', 'Engineer')])"
      ]
     },
     "execution_count": 80,
     "metadata": {},
     "output_type": "execute_result"
    }
   ],
   "source": [
    "person.items()"
   ]
  },
  {
   "cell_type": "code",
   "execution_count": 34,
   "id": "92c36361",
   "metadata": {},
   "outputs": [
    {
     "data": {
      "text/plain": [
       "[('name', 'Alice'), ('city', 'Busan'), ('job', 'Engineer')]"
      ]
     },
     "execution_count": 34,
     "metadata": {},
     "output_type": "execute_result"
    }
   ],
   "source": [
    "dict_items = []\n",
    "for i in person:\n",
    "    dict_items.append((i,person[i]))\n",
    "dict_items"
   ]
  },
  {
   "cell_type": "markdown",
   "id": "b2f41530",
   "metadata": {},
   "source": [
    "11. **`\"email\"` 키가 딕셔너리 `person`에 존재하는지 확인하세요.**  \n",
    "    ```python\n",
    " False\n",
    "    ```"
   ]
  },
  {
   "cell_type": "code",
   "execution_count": 81,
   "id": "2a6d2b52",
   "metadata": {},
   "outputs": [
    {
     "data": {
      "text/plain": [
       "False"
      ]
     },
     "execution_count": 81,
     "metadata": {},
     "output_type": "execute_result"
    }
   ],
   "source": [
    "\"email\" in person"
   ]
  },
  {
   "cell_type": "markdown",
   "id": "a8c0ffb4",
   "metadata": {},
   "source": [
    "12.**`person`에서 `\"job\"`을 제거하고 출력하세요.**  \n",
    "    \n",
    "```python\n",
    "\"Engineer\",\n",
    "{'name': 'Alice', 'city': 'Busan'}\n",
    "```"
   ]
  },
  {
   "cell_type": "code",
   "execution_count": 82,
   "id": "588aa9f4",
   "metadata": {
    "scrolled": true
   },
   "outputs": [
    {
     "data": {
      "text/plain": [
       "'Engineer'"
      ]
     },
     "execution_count": 82,
     "metadata": {},
     "output_type": "execute_result"
    }
   ],
   "source": [
    "person.pop('job')"
   ]
  },
  {
   "cell_type": "code",
   "execution_count": 83,
   "id": "04863779",
   "metadata": {},
   "outputs": [
    {
     "name": "stdout",
     "output_type": "stream",
     "text": [
      "{'name': 'Alice', 'city': 'Busan'}\n"
     ]
    }
   ],
   "source": [
    "print(person)"
   ]
  },
  {
   "cell_type": "markdown",
   "id": "3748db0a",
   "metadata": {},
   "source": [
    "13. **`person` 딕셔너리의 모든 키-값 쌍을 초기화하고 출력하세요.**  \n",
    "    ```python\n",
    "    {}\n",
    "    ```"
   ]
  },
  {
   "cell_type": "code",
   "execution_count": 84,
   "id": "2f7cba40",
   "metadata": {},
   "outputs": [
    {
     "name": "stdout",
     "output_type": "stream",
     "text": [
      "{}\n"
     ]
    }
   ],
   "source": [
    "del person['name']\n",
    "del person['city']\n",
    "print(person)"
   ]
  },
  {
   "cell_type": "code",
   "execution_count": 35,
   "id": "cfb10022",
   "metadata": {},
   "outputs": [
    {
     "data": {
      "text/plain": [
       "{}"
      ]
     },
     "execution_count": 35,
     "metadata": {},
     "output_type": "execute_result"
    }
   ],
   "source": [
    "person.clear()\n",
    "person"
   ]
  },
  {
   "cell_type": "markdown",
   "id": "dffe8c44",
   "metadata": {},
   "source": [
    "14. **중첩 딕셔너리를 student 변수에 생성하고 출력하세요.**  \n",
    "```python\n",
    "{\"name\": \"Bob\",\n",
    " \"grades\": {\"math\": 85, \"science\": 90, \"history\": 80}\n",
    "}\n",
    "```"
   ]
  },
  {
   "cell_type": "code",
   "execution_count": 50,
   "id": "d200f060",
   "metadata": {},
   "outputs": [
    {
     "name": "stdout",
     "output_type": "stream",
     "text": [
      "{'name': 'Bob', 'grades': {'math': 85, 'science': 90, 'history': 80}}\n"
     ]
    }
   ],
   "source": [
    "student = {\"name\": \"Bob\",\n",
    " \"grades\": {\"math\": 85, \"science\": 90, \"history\": 80}\n",
    "}\n",
    "print(student)"
   ]
  },
  {
   "cell_type": "markdown",
   "id": "94914f3e",
   "metadata": {},
   "source": [
    "15.**student에서 \"science\" 점수를 출력하세요.**  \n",
    "```python\n",
    "90\n",
    "```"
   ]
  },
  {
   "cell_type": "code",
   "execution_count": 51,
   "id": "a4c75a28",
   "metadata": {},
   "outputs": [
    {
     "data": {
      "text/plain": [
       "90"
      ]
     },
     "execution_count": 51,
     "metadata": {},
     "output_type": "execute_result"
    }
   ],
   "source": [
    "student['grades']['science']"
   ]
  },
  {
   "cell_type": "markdown",
   "id": "408d082f",
   "metadata": {},
   "source": [
    "16. **`student`의 `\"grades\"`에 `\"english\": 95`를 추가하고 출력하세요.**  \n",
    "    ```python\n",
    "    {'math': 85, 'science': 90, 'history': 80, 'english': 95}\n",
    "    ```"
   ]
  },
  {
   "cell_type": "code",
   "execution_count": 52,
   "id": "8ff44a80",
   "metadata": {},
   "outputs": [
    {
     "name": "stdout",
     "output_type": "stream",
     "text": [
      "{'math': 85, 'science': 90, 'history': 80, 'english': 95}\n"
     ]
    }
   ],
   "source": [
    "student['grades']['english']= 95\n",
    "print(student['grades'])"
   ]
  },
  {
   "cell_type": "markdown",
   "id": "8ff0acb5",
   "metadata": {},
   "source": [
    "17. **`student`의 `\"math\"` 점수를 88로 변경하고 출력하세요.**  \n",
    "    ```python\n",
    "    {'math': 88, 'science': 90, 'history': 80, 'english': 95}\n",
    "    ```"
   ]
  },
  {
   "cell_type": "code",
   "execution_count": 53,
   "id": "e8900e70",
   "metadata": {},
   "outputs": [
    {
     "name": "stdout",
     "output_type": "stream",
     "text": [
      "{'math': 88, 'science': 90, 'history': 80, 'english': 95}\n"
     ]
    }
   ],
   "source": [
    "student['grades']['math']= 88\n",
    "print(student['grades'])"
   ]
  },
  {
   "cell_type": "markdown",
   "id": "2cc3c926",
   "metadata": {},
   "source": [
    "18. **`student`에서 `\"history\"` 점수를 삭제하고 출력하세요.**  \n",
    "    ```python\n",
    "    {'math': 88, 'science': 90, 'english': 95}\n",
    "    ```"
   ]
  },
  {
   "cell_type": "code",
   "execution_count": 54,
   "id": "8043137e",
   "metadata": {},
   "outputs": [
    {
     "name": "stdout",
     "output_type": "stream",
     "text": [
      "{'math': 88, 'science': 90, 'english': 95}\n"
     ]
    }
   ],
   "source": [
    "del student['grades']['history']\n",
    "print(student['grades'])"
   ]
  },
  {
   "cell_type": "markdown",
   "id": "6a6fa813",
   "metadata": {},
   "source": [
    "19. **딕셔너리 `student`에서 setdefault를 이용하여 `\"total\"`이란 키를 만들고 math, science, english의 합계를 입력하세요. 단, 합계를 구할 때 값을 수동입력 하지 말고 딕셔너리에서 추출해서 더하도록 하세요.**  \n",
    "    ```python\n",
    "    {'name': 'Bob',\n",
    "    'grades': {'math': 88, 'science': 90, 'english': 95},\n",
    "    'total': 270}\n",
    "    ```"
   ]
  },
  {
   "cell_type": "code",
   "execution_count": 57,
   "id": "79511b7e",
   "metadata": {},
   "outputs": [
    {
     "data": {
      "text/plain": [
       "273"
      ]
     },
     "execution_count": 57,
     "metadata": {},
     "output_type": "execute_result"
    }
   ],
   "source": [
    "student.setdefault('total',sum(student['grades'].values()))"
   ]
  },
  {
   "cell_type": "code",
   "execution_count": 58,
   "id": "136d96d7",
   "metadata": {},
   "outputs": [
    {
     "name": "stdout",
     "output_type": "stream",
     "text": [
      "{'name': 'Bob', 'grades': {'math': 88, 'science': 90, 'english': 95}, 'total': 273}\n"
     ]
    }
   ],
   "source": [
    "print(student)"
   ]
  },
  {
   "cell_type": "markdown",
   "id": "88a32762",
   "metadata": {},
   "source": [
    "20. **딕셔너리 `student`에서 update를 이용하여 'english' 는 100, 'history'는 80를 입력하세요.**  \n",
    "```python\n",
    " {'name': 'Bob',\n",
    " 'grades': {'math': 85, 'science': 90, 'english': 100, 'history': 80},\n",
    " 'total': 270}\n",
    "```"
   ]
  },
  {
   "cell_type": "code",
   "execution_count": 59,
   "id": "ba971f25",
   "metadata": {},
   "outputs": [
    {
     "name": "stdout",
     "output_type": "stream",
     "text": [
      "{'name': 'Bob', 'grades': {'math': 88, 'science': 90, 'english': 100, 'history': 80}, 'total': 273}\n"
     ]
    }
   ],
   "source": [
    "student['grades'].update(english=100, history=80)\n",
    "print(student)"
   ]
  },
  {
   "cell_type": "code",
   "execution_count": 49,
   "id": "76dea7d3",
   "metadata": {},
   "outputs": [
    {
     "name": "stdout",
     "output_type": "stream",
     "text": [
      "{'name': 'Bob', 'grades': {'math': 88, 'science': 90, 'english': 100, 'history': 80}, 'total': 273, 'english': 99, 'history': 81}\n"
     ]
    }
   ],
   "source": [
    "student.update(english=99, history=81)\n",
    "print(student)"
   ]
  },
  {
   "cell_type": "code",
   "execution_count": 60,
   "id": "ce027df5",
   "metadata": {},
   "outputs": [
    {
     "data": {
      "text/plain": [
       "[2, 2, 2, 2]"
      ]
     },
     "execution_count": 60,
     "metadata": {},
     "output_type": "execute_result"
    }
   ],
   "source": [
    "y = [2,2,2,2]\n",
    "y"
   ]
  },
  {
   "cell_type": "code",
   "execution_count": 62,
   "id": "e43e2a5c",
   "metadata": {},
   "outputs": [
    {
     "data": {
      "text/plain": [
       "{2: 3}"
      ]
     },
     "execution_count": 62,
     "metadata": {},
     "output_type": "execute_result"
    }
   ],
   "source": [
    "y = {2:3,2:3}\n",
    "y"
   ]
  },
  {
   "cell_type": "markdown",
   "id": "505c5f30",
   "metadata": {},
   "source": [
    "21.**courses라는 변수에 dict() 함수를 사용하여 다음과 같은 딕셔너리를 생성하세요.**\n",
    "```python\n",
    "{'programming': {'python': 50, 'java': 30, 'Cpp': 20},\n",
    " 'design': {'Photoshop': 25, 'Illustrator': 15}}\n",
    "```"
   ]
  },
  {
   "cell_type": "code",
   "execution_count": 202,
   "id": "f3d31c06",
   "metadata": {},
   "outputs": [],
   "source": [
    "scoures = {'programming': {'python': 50, 'java': 30, 'Cpp': 20},\n",
    " 'design': {'Photoshop': 25, 'Illustrator': 15}}"
   ]
  },
  {
   "cell_type": "code",
   "execution_count": 63,
   "id": "04a3ee23",
   "metadata": {},
   "outputs": [],
   "source": [
    "courses = dict(programming = dict(python=50,java=30, Cpp=20),design = dict(Photoshop=25,Illustrator=15))"
   ]
  },
  {
   "cell_type": "code",
   "execution_count": 65,
   "id": "98900679",
   "metadata": {},
   "outputs": [
    {
     "name": "stdout",
     "output_type": "stream",
     "text": [
      "{'programming': {'python': 50, 'java': 30, 'Cpp': 20}, 'design': {'Photoshop': 25, 'Illustrator': 15}}\n"
     ]
    }
   ],
   "source": [
    "print(courses)"
   ]
  },
  {
   "cell_type": "markdown",
   "id": "2973ce4b",
   "metadata": {},
   "source": [
    "22. **\"python\"의 수강생 수를 출력하세요.**  \n",
    "```python\n",
    "50\n",
    "```"
   ]
  },
  {
   "cell_type": "code",
   "execution_count": 66,
   "id": "f4a9a788",
   "metadata": {},
   "outputs": [
    {
     "name": "stdout",
     "output_type": "stream",
     "text": [
      "50\n"
     ]
    }
   ],
   "source": [
    "print(courses['programming']['python'])"
   ]
  },
  {
   "cell_type": "markdown",
   "id": "c574c0b7",
   "metadata": {},
   "source": [
    "23. **딕셔너리 `courses`에서 `\"Cpp\"` 수강생 수를 25로 변경하고 출력하세요.**  \n",
    "    ```python\n",
    "    {'python': 50, 'java': 30, 'Cpp': 25}\n",
    "    ```\n"
   ]
  },
  {
   "cell_type": "code",
   "execution_count": 205,
   "id": "be0d727b",
   "metadata": {},
   "outputs": [
    {
     "name": "stdout",
     "output_type": "stream",
     "text": [
      "{'python': 50, 'java': 30, 'Cpp': 25}\n"
     ]
    }
   ],
   "source": [
    "scoures['programming'].update(Cpp=25)\n",
    "print(scoures['programming'])"
   ]
  },
  {
   "cell_type": "code",
   "execution_count": 70,
   "id": "e1b5c2bf",
   "metadata": {},
   "outputs": [
    {
     "name": "stdout",
     "output_type": "stream",
     "text": [
      "{'python': 50, 'java': 30, 'Cpp': 25}\n"
     ]
    }
   ],
   "source": [
    "courses['programming']['Cpp']= 25\n",
    "\n",
    "print(courses['programming'])"
   ]
  },
  {
   "cell_type": "markdown",
   "id": "fa06d68c",
   "metadata": {},
   "source": [
    "24. **딕셔너리 `courses`에서 `\"Photoshop\"` 수강생 수를 삭제하고 출력하세요.**  \n",
    "    ```python\n",
    "{'programming': {'python': 50, 'java': 30, 'Cpp': 25},\n",
    " 'design': {'Illustrator': 15}}\n",
    "    ```"
   ]
  },
  {
   "cell_type": "code",
   "execution_count": 206,
   "id": "db2701a4",
   "metadata": {},
   "outputs": [
    {
     "data": {
      "text/plain": [
       "25"
      ]
     },
     "execution_count": 206,
     "metadata": {},
     "output_type": "execute_result"
    }
   ],
   "source": [
    "courses['design']['Photoshop']"
   ]
  },
  {
   "cell_type": "code",
   "execution_count": 71,
   "id": "0f83ad9f",
   "metadata": {},
   "outputs": [
    {
     "name": "stdout",
     "output_type": "stream",
     "text": [
      "{'programming': {'python': 50, 'java': 30, 'Cpp': 25}, 'design': {'Illustrator': 15}}\n"
     ]
    }
   ],
   "source": [
    "del courses['design']['Photoshop']\n",
    "print(courses)"
   ]
  },
  {
   "cell_type": "markdown",
   "id": "e3569b30",
   "metadata": {},
   "source": [
    "25. **딕셔너리 `courses`에서 `\"JavaScript\": 40`을 `\"programming\"` 항목에 추가하고 출력하세요.**  \n",
    "    ```python\n",
    "    {'python': 50, 'java': 30, 'Cpp': 25, 'JavaScript': 40}\n",
    "    ```"
   ]
  },
  {
   "cell_type": "code",
   "execution_count": 208,
   "id": "c93fafca",
   "metadata": {
    "scrolled": false
   },
   "outputs": [
    {
     "name": "stdout",
     "output_type": "stream",
     "text": [
      "{'programming': {'python': 50, 'java': 30, 'Cpp': 25, 'JavaScript': 40}, 'design': {'Illustrator': 15}}\n"
     ]
    }
   ],
   "source": [
    "courses['programming']['JavaScript']=40\n",
    "print(courses)"
   ]
  },
  {
   "cell_type": "code",
   "execution_count": 73,
   "id": "45172daf",
   "metadata": {
    "scrolled": false
   },
   "outputs": [
    {
     "name": "stdout",
     "output_type": "stream",
     "text": [
      "{'programming': {'python': 50, 'java': 30, 'Cpp': 25, 'JavaScript': 40}, 'design': {'Illustrator': 15}}\n"
     ]
    }
   ],
   "source": [
    "courses['programming'].update(JavaScript=40)\n",
    "print(courses)"
   ]
  },
  {
   "cell_type": "code",
   "execution_count": 74,
   "id": "59497ad6",
   "metadata": {},
   "outputs": [
    {
     "data": {
      "text/plain": [
       "{'programming': {'python': 50, 'java': 30, 'Cpp': 25, 'JavaScript': 40},\n",
       " 'design': {'Illustrator': 15}}"
      ]
     },
     "execution_count": 74,
     "metadata": {},
     "output_type": "execute_result"
    }
   ],
   "source": [
    "courses"
   ]
  },
  {
   "cell_type": "code",
   "execution_count": 211,
   "id": "921ac5a0",
   "metadata": {},
   "outputs": [
    {
     "name": "stdout",
     "output_type": "stream",
     "text": [
      "{'programming': {'python': 50, 'java': 30, 'Cpp': 25, 'JavaScript': 40}, 'design': {'Illustrator': 15}}\n"
     ]
    }
   ],
   "source": [
    "courses['programming'].setdefault('JavaScript',40)\n",
    "print(courses)"
   ]
  },
  {
   "cell_type": "markdown",
   "id": "4ecadc8c",
   "metadata": {},
   "source": [
    "26. **딕셔너리 `courses`의 모든 과목명을 출력하세요.**  \n",
    "    ```python\n",
    "    dict_keys(['programming', 'design'])\n",
    "    ```"
   ]
  },
  {
   "cell_type": "code",
   "execution_count": 84,
   "id": "b8311f71",
   "metadata": {
    "scrolled": true
   },
   "outputs": [
    {
     "name": "stdout",
     "output_type": "stream",
     "text": [
      "programming\n",
      "design\n",
      "['python', 'java', 'Cpp', 'JavaScript', 'Illustrator']\n"
     ]
    }
   ],
   "source": [
    "subject_name = []\n",
    "for key in courses:\n",
    "    print(key)\n",
    "    for subject in courses[key].keys():\n",
    "        subject_name.append(subject)\n",
    "print(subject_name)"
   ]
  },
  {
   "cell_type": "code",
   "execution_count": 79,
   "id": "4b717798",
   "metadata": {},
   "outputs": [
    {
     "ename": "TypeError",
     "evalue": "'builtin_function_or_method' object is not iterable",
     "output_type": "error",
     "traceback": [
      "\u001b[1;31m---------------------------------------------------------------------------\u001b[0m",
      "\u001b[1;31mTypeError\u001b[0m                                 Traceback (most recent call last)",
      "Cell \u001b[1;32mIn[79], line 1\u001b[0m\n\u001b[1;32m----> 1\u001b[0m \u001b[38;5;28;43mlist\u001b[39;49m\u001b[43m(\u001b[49m\u001b[43mcourses\u001b[49m\u001b[43m[\u001b[49m\u001b[38;5;124;43m'\u001b[39;49m\u001b[38;5;124;43mprogramming\u001b[39;49m\u001b[38;5;124;43m'\u001b[39;49m\u001b[43m]\u001b[49m\u001b[38;5;241;43m.\u001b[39;49m\u001b[43mkeys\u001b[49m\u001b[43m)\u001b[49m \u001b[38;5;241m+\u001b[39m \u001b[38;5;28mlist\u001b[39m(courses[\u001b[38;5;124m'\u001b[39m\u001b[38;5;124mdesign\u001b[39m\u001b[38;5;124m'\u001b[39m]\u001b[38;5;241m.\u001b[39mkeys)\n",
      "\u001b[1;31mTypeError\u001b[0m: 'builtin_function_or_method' object is not iterable"
     ]
    }
   ],
   "source": [
    " list(courses['programming'].keys) + list(courses['design'].keys)"
   ]
  },
  {
   "cell_type": "markdown",
   "id": "d8e20b0c",
   "metadata": {},
   "source": [
    "27. **딕셔너리 `courses`에서 `\"design\"` 과목의 모든 정보를 출력하세요.**  \n",
    "    ```python\n",
    "    {'Illustrator': 15}\n",
    "    ```"
   ]
  },
  {
   "cell_type": "code",
   "execution_count": 197,
   "id": "7e5be589",
   "metadata": {},
   "outputs": [
    {
     "data": {
      "text/plain": [
       "{'Illustrator': 15}"
      ]
     },
     "execution_count": 197,
     "metadata": {},
     "output_type": "execute_result"
    }
   ],
   "source": [
    "scoures[\"design\"]"
   ]
  },
  {
   "cell_type": "markdown",
   "id": "7330bae3",
   "metadata": {},
   "source": [
    "28. **딕셔너리 `courses`에서 `\"design\"` 항목을 삭제하고 전체 딕셔너리를 출력하세요.**  \n",
    "    ```python\n",
    "    {'programming': {'python': 50, 'java': 30, 'Cpp': 25, 'JavaScript': 40}}\n",
    "    ```"
   ]
  },
  {
   "cell_type": "code",
   "execution_count": 92,
   "id": "7fa0771f",
   "metadata": {},
   "outputs": [
    {
     "name": "stdout",
     "output_type": "stream",
     "text": [
      "{'programming': {'python': 50, 'java': 30, 'Cpp': 25, 'JavaScript': 40}}\n"
     ]
    }
   ],
   "source": [
    "print(courses)"
   ]
  },
  {
   "cell_type": "code",
   "execution_count": 91,
   "id": "850d00f8",
   "metadata": {},
   "outputs": [
    {
     "ename": "KeyError",
     "evalue": "'design'",
     "output_type": "error",
     "traceback": [
      "\u001b[1;31m---------------------------------------------------------------------------\u001b[0m",
      "\u001b[1;31mKeyError\u001b[0m                                  Traceback (most recent call last)",
      "Cell \u001b[1;32mIn[91], line 1\u001b[0m\n\u001b[1;32m----> 1\u001b[0m \u001b[38;5;28;01mdel\u001b[39;00m courses[\u001b[38;5;124m'\u001b[39m\u001b[38;5;124mdesign\u001b[39m\u001b[38;5;124m'\u001b[39m]\n\u001b[0;32m      2\u001b[0m \u001b[38;5;28mprint\u001b[39m(courses)\n",
      "\u001b[1;31mKeyError\u001b[0m: 'design'"
     ]
    }
   ],
   "source": [
    "del courses['design']\n",
    "print(courses)"
   ]
  },
  {
   "cell_type": "markdown",
   "id": "c5c05027",
   "metadata": {},
   "source": [
    "29. **딕셔너리 `courses`에서 `\"programming\"` 항목이 존재하는지 확인하세요.**  \n",
    "    ```python\n",
    "    True\n",
    "    ```"
   ]
  },
  {
   "cell_type": "code",
   "execution_count": 218,
   "id": "48168ce4",
   "metadata": {},
   "outputs": [
    {
     "data": {
      "text/plain": [
       "True"
      ]
     },
     "execution_count": 218,
     "metadata": {},
     "output_type": "execute_result"
    }
   ],
   "source": [
    "'programming' in scoures"
   ]
  },
  {
   "cell_type": "code",
   "execution_count": 85,
   "id": "6b566f20",
   "metadata": {},
   "outputs": [
    {
     "data": {
      "text/plain": [
       "True"
      ]
     },
     "execution_count": 85,
     "metadata": {},
     "output_type": "execute_result"
    }
   ],
   "source": [
    "\"Cpp\" in courses['programming']"
   ]
  },
  {
   "cell_type": "code",
   "execution_count": 86,
   "id": "6891b66a",
   "metadata": {},
   "outputs": [
    {
     "name": "stdout",
     "output_type": "stream",
     "text": [
      "True\n"
     ]
    }
   ],
   "source": [
    "for key in courses:\n",
    "    if \"Cpp\" in key:\n",
    "        print(True)\n",
    "    elif \"Cpp\" in courses[key]:\n",
    "        print(True)"
   ]
  },
  {
   "cell_type": "markdown",
   "id": "ef0816ad",
   "metadata": {},
   "source": [
    "30. **딕셔너리 `courses`에서 `\"design\"` 항목을 출력하고 `\"design\"` 이 없다면 design key 없음 이라고 출력하도록 하세요.** \n",
    "```python\n",
    "design key 없음\n",
    "```"
   ]
  },
  {
   "cell_type": "code",
   "execution_count": 93,
   "id": "54fc1b76",
   "metadata": {},
   "outputs": [
    {
     "data": {
      "text/plain": [
       "'design key 없음'"
      ]
     },
     "execution_count": 93,
     "metadata": {},
     "output_type": "execute_result"
    }
   ],
   "source": [
    "courses.get(\"design\",\"design key 없음\")"
   ]
  },
  {
   "cell_type": "code",
   "execution_count": null,
   "id": "8cf9e39c",
   "metadata": {},
   "outputs": [],
   "source": []
  },
  {
   "cell_type": "code",
   "execution_count": 227,
   "id": "d23cbfa3",
   "metadata": {},
   "outputs": [],
   "source": [
    "if 'design' in scoures == False:\n",
    "    print('design key 없음')"
   ]
  },
  {
   "cell_type": "code",
   "execution_count": null,
   "id": "38b0907e",
   "metadata": {},
   "outputs": [],
   "source": []
  },
  {
   "cell_type": "code",
   "execution_count": 226,
   "id": "ad7c0a9e",
   "metadata": {},
   "outputs": [
    {
     "data": {
      "text/plain": [
       "False"
      ]
     },
     "execution_count": 226,
     "metadata": {},
     "output_type": "execute_result"
    }
   ],
   "source": [
    "'design' in scoures"
   ]
  },
  {
   "cell_type": "code",
   "execution_count": null,
   "id": "944735b6",
   "metadata": {},
   "outputs": [],
   "source": []
  }
 ],
 "metadata": {
  "kernelspec": {
   "display_name": "Python 3 (ipykernel)",
   "language": "python",
   "name": "python3"
  },
  "language_info": {
   "codemirror_mode": {
    "name": "ipython",
    "version": 3
   },
   "file_extension": ".py",
   "mimetype": "text/x-python",
   "name": "python",
   "nbconvert_exporter": "python",
   "pygments_lexer": "ipython3",
   "version": "3.9.21"
  }
 },
 "nbformat": 4,
 "nbformat_minor": 5
}
