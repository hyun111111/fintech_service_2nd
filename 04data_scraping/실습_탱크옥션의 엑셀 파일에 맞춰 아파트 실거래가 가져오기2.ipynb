{
 "cells": [
  {
   "cell_type": "code",
   "execution_count": 6,
   "id": "35e54667",
   "metadata": {},
   "outputs": [],
   "source": [
    "import os\n",
    "import requests\n",
    "from bs4 import BeautifulSoup as bs"
   ]
  },
  {
   "cell_type": "code",
   "execution_count": 32,
   "id": "8dcde045",
   "metadata": {},
   "outputs": [],
   "source": [
    "from selenium import webdriver\n",
    "from selenium.webdriver.chrome.service import Service\n",
    "from selenium.webdriver.chrome.options import Options\n",
    "from webdriver_manager.chrome import ChromeDriverManager\n",
    "from selenium.webdriver.common.by import By\n",
    "from selenium.webdriver.common.keys import Keys\n",
    "from selenium.webdriver.support.ui import WebDriverWait\n",
    "from selenium.webdriver.support.ui import Select\n",
    "from selenium.webdriver.support import expected_conditions as EC\n",
    "from datetime import datetime, timedelta, date\n",
    "import time \n",
    "import pandas as pd\n",
    "from io import StringIO"
   ]
  },
  {
   "cell_type": "code",
   "execution_count": 12,
   "id": "484f04a4",
   "metadata": {
    "scrolled": true
   },
   "outputs": [
    {
     "ename": "SyntaxError",
     "evalue": "invalid syntax (2714571026.py, line 2)",
     "output_type": "error",
     "traceback": [
      "  \u001b[36mCell\u001b[39m\u001b[36m \u001b[39m\u001b[32mIn[12]\u001b[39m\u001b[32m, line 2\u001b[39m\n\u001b[31m    \u001b[39m\u001b[31mpayload =\u001b[39m\n              ^\n\u001b[31mSyntaxError\u001b[39m\u001b[31m:\u001b[39m invalid syntax\n"
     ]
    }
   ],
   "source": [
    "url = \"https://www.tankauction.com/\"\n",
    "payload = \n",
    "header= {'client_id':'yjj7479', 'password':'xodzmdhrtus0911!'}\n",
    "r = requests.post(url,data = payload)\n",
    "print(r.url, r.status_code)\n",
    "print(r.text)"
   ]
  },
  {
   "cell_type": "code",
   "execution_count": 13,
   "id": "6e0f4782",
   "metadata": {},
   "outputs": [
    {
     "ename": "NoSuchDriverException",
     "evalue": "Message: Unable to obtain driver for chrome; For documentation on this error, please visit: https://www.selenium.dev/documentation/webdriver/troubleshooting/errors/driver_location\n",
     "output_type": "error",
     "traceback": [
      "\u001b[31m---------------------------------------------------------------------------\u001b[39m",
      "\u001b[31mWebDriverException\u001b[39m                        Traceback (most recent call last)",
      "\u001b[36mFile \u001b[39m\u001b[32m~/miniforge3/envs/fintech/lib/python3.12/site-packages/selenium/webdriver/common/driver_finder.py:67\u001b[39m, in \u001b[36mDriverFinder._binary_paths\u001b[39m\u001b[34m(self)\u001b[39m\n\u001b[32m     66\u001b[39m \u001b[38;5;28;01melse\u001b[39;00m:\n\u001b[32m---> \u001b[39m\u001b[32m67\u001b[39m     output = \u001b[43mSeleniumManager\u001b[49m\u001b[43m(\u001b[49m\u001b[43m)\u001b[49m\u001b[43m.\u001b[49m\u001b[43mbinary_paths\u001b[49m\u001b[43m(\u001b[49m\u001b[38;5;28;43mself\u001b[39;49m\u001b[43m.\u001b[49m\u001b[43m_to_args\u001b[49m\u001b[43m(\u001b[49m\u001b[43m)\u001b[49m\u001b[43m)\u001b[49m\n\u001b[32m     68\u001b[39m     \u001b[38;5;28;01mif\u001b[39;00m Path(output[\u001b[33m\"\u001b[39m\u001b[33mdriver_path\u001b[39m\u001b[33m\"\u001b[39m]).is_file():\n",
      "\u001b[36mFile \u001b[39m\u001b[32m~/miniforge3/envs/fintech/lib/python3.12/site-packages/selenium/webdriver/common/selenium_manager.py:47\u001b[39m, in \u001b[36mSeleniumManager.binary_paths\u001b[39m\u001b[34m(self, args)\u001b[39m\n\u001b[32m     40\u001b[39m \u001b[38;5;250m\u001b[39m\u001b[33;03m\"\"\"Determines the locations of the requested assets.\u001b[39;00m\n\u001b[32m     41\u001b[39m \n\u001b[32m     42\u001b[39m \u001b[33;03m:Args:\u001b[39;00m\n\u001b[32m     43\u001b[39m \u001b[33;03m - args: the commands to send to the selenium manager binary.\u001b[39;00m\n\u001b[32m     44\u001b[39m \u001b[33;03m:Returns: dictionary of assets and their path\u001b[39;00m\n\u001b[32m     45\u001b[39m \u001b[33;03m\"\"\"\u001b[39;00m\n\u001b[32m---> \u001b[39m\u001b[32m47\u001b[39m args = [\u001b[38;5;28mstr\u001b[39m(\u001b[38;5;28;43mself\u001b[39;49m\u001b[43m.\u001b[49m\u001b[43m_get_binary\u001b[49m\u001b[43m(\u001b[49m\u001b[43m)\u001b[49m)] + args\n\u001b[32m     48\u001b[39m \u001b[38;5;28;01mif\u001b[39;00m logger.getEffectiveLevel() == logging.DEBUG:\n",
      "\u001b[36mFile \u001b[39m\u001b[32m~/miniforge3/envs/fintech/lib/python3.12/site-packages/selenium/webdriver/common/selenium_manager.py:99\u001b[39m, in \u001b[36mSeleniumManager._get_binary\u001b[39m\u001b[34m()\u001b[39m\n\u001b[32m     98\u001b[39m \u001b[38;5;28;01mif\u001b[39;00m path \u001b[38;5;129;01mis\u001b[39;00m \u001b[38;5;28;01mNone\u001b[39;00m \u001b[38;5;129;01mor\u001b[39;00m \u001b[38;5;129;01mnot\u001b[39;00m path.is_file():\n\u001b[32m---> \u001b[39m\u001b[32m99\u001b[39m     \u001b[38;5;28;01mraise\u001b[39;00m WebDriverException(\u001b[33mf\u001b[39m\u001b[33m\"\u001b[39m\u001b[33mUnable to obtain working Selenium Manager binary; \u001b[39m\u001b[38;5;132;01m{\u001b[39;00mpath\u001b[38;5;132;01m}\u001b[39;00m\u001b[33m\"\u001b[39m)\n\u001b[32m    101\u001b[39m logger.debug(\u001b[33m\"\u001b[39m\u001b[33mSelenium Manager binary found at: \u001b[39m\u001b[38;5;132;01m%s\u001b[39;00m\u001b[33m\"\u001b[39m, path)\n",
      "\u001b[31mWebDriverException\u001b[39m: Message: Unable to obtain working Selenium Manager binary; /Users/jihyun/miniforge3/envs/fintech/lib/python3.12/site-packages/selenium/webdriver/common/macos/selenium-manager\n",
      "\nThe above exception was the direct cause of the following exception:\n",
      "\u001b[31mNoSuchDriverException\u001b[39m                     Traceback (most recent call last)",
      "\u001b[36mCell\u001b[39m\u001b[36m \u001b[39m\u001b[32mIn[13]\u001b[39m\u001b[32m, line 14\u001b[39m\n\u001b[32m      5\u001b[39m options.add_argument(\u001b[33m\"\u001b[39m\u001b[33mlang=ko_KR\u001b[39m\u001b[33m\"\u001b[39m)\n\u001b[32m      8\u001b[39m driver = webdriver.Chrome(\n\u001b[32m      9\u001b[39m         service=Service(ChromeDriverManager().install()),\n\u001b[32m     10\u001b[39m         options=options\n\u001b[32m     11\u001b[39m         )\n\u001b[32m---> \u001b[39m\u001b[32m14\u001b[39m driver = \u001b[43mwebdriver\u001b[49m\u001b[43m.\u001b[49m\u001b[43mChrome\u001b[49m\u001b[43m(\u001b[49m\u001b[43m)\u001b[49m\n\u001b[32m     16\u001b[39m driver.get(\u001b[33m'\u001b[39m\u001b[33mhttps://www.tankauction.com/\u001b[39m\u001b[33m'\u001b[39m)\n\u001b[32m     18\u001b[39m wait = WebDriverWait(driver, \u001b[32m10\u001b[39m)\n",
      "\u001b[36mFile \u001b[39m\u001b[32m~/miniforge3/envs/fintech/lib/python3.12/site-packages/selenium/webdriver/chrome/webdriver.py:45\u001b[39m, in \u001b[36mWebDriver.__init__\u001b[39m\u001b[34m(self, options, service, keep_alive)\u001b[39m\n\u001b[32m     42\u001b[39m service = service \u001b[38;5;28;01mif\u001b[39;00m service \u001b[38;5;28;01melse\u001b[39;00m Service()\n\u001b[32m     43\u001b[39m options = options \u001b[38;5;28;01mif\u001b[39;00m options \u001b[38;5;28;01melse\u001b[39;00m Options()\n\u001b[32m---> \u001b[39m\u001b[32m45\u001b[39m \u001b[38;5;28;43msuper\u001b[39;49m\u001b[43m(\u001b[49m\u001b[43m)\u001b[49m\u001b[43m.\u001b[49m\u001b[34;43m__init__\u001b[39;49m\u001b[43m(\u001b[49m\n\u001b[32m     46\u001b[39m \u001b[43m    \u001b[49m\u001b[43mbrowser_name\u001b[49m\u001b[43m=\u001b[49m\u001b[43mDesiredCapabilities\u001b[49m\u001b[43m.\u001b[49m\u001b[43mCHROME\u001b[49m\u001b[43m[\u001b[49m\u001b[33;43m\"\u001b[39;49m\u001b[33;43mbrowserName\u001b[39;49m\u001b[33;43m\"\u001b[39;49m\u001b[43m]\u001b[49m\u001b[43m,\u001b[49m\n\u001b[32m     47\u001b[39m \u001b[43m    \u001b[49m\u001b[43mvendor_prefix\u001b[49m\u001b[43m=\u001b[49m\u001b[33;43m\"\u001b[39;49m\u001b[33;43mgoog\u001b[39;49m\u001b[33;43m\"\u001b[39;49m\u001b[43m,\u001b[49m\n\u001b[32m     48\u001b[39m \u001b[43m    \u001b[49m\u001b[43moptions\u001b[49m\u001b[43m=\u001b[49m\u001b[43moptions\u001b[49m\u001b[43m,\u001b[49m\n\u001b[32m     49\u001b[39m \u001b[43m    \u001b[49m\u001b[43mservice\u001b[49m\u001b[43m=\u001b[49m\u001b[43mservice\u001b[49m\u001b[43m,\u001b[49m\n\u001b[32m     50\u001b[39m \u001b[43m    \u001b[49m\u001b[43mkeep_alive\u001b[49m\u001b[43m=\u001b[49m\u001b[43mkeep_alive\u001b[49m\u001b[43m,\u001b[49m\n\u001b[32m     51\u001b[39m \u001b[43m\u001b[49m\u001b[43m)\u001b[49m\n",
      "\u001b[36mFile \u001b[39m\u001b[32m~/miniforge3/envs/fintech/lib/python3.12/site-packages/selenium/webdriver/chromium/webdriver.py:50\u001b[39m, in \u001b[36mChromiumDriver.__init__\u001b[39m\u001b[34m(self, browser_name, vendor_prefix, options, service, keep_alive)\u001b[39m\n\u001b[32m     47\u001b[39m \u001b[38;5;28mself\u001b[39m.service = service\n\u001b[32m     49\u001b[39m finder = DriverFinder(\u001b[38;5;28mself\u001b[39m.service, options)\n\u001b[32m---> \u001b[39m\u001b[32m50\u001b[39m \u001b[38;5;28;01mif\u001b[39;00m \u001b[43mfinder\u001b[49m\u001b[43m.\u001b[49m\u001b[43mget_browser_path\u001b[49m\u001b[43m(\u001b[49m\u001b[43m)\u001b[49m:\n\u001b[32m     51\u001b[39m     options.binary_location = finder.get_browser_path()\n\u001b[32m     52\u001b[39m     options.browser_version = \u001b[38;5;28;01mNone\u001b[39;00m\n",
      "\u001b[36mFile \u001b[39m\u001b[32m~/miniforge3/envs/fintech/lib/python3.12/site-packages/selenium/webdriver/common/driver_finder.py:47\u001b[39m, in \u001b[36mDriverFinder.get_browser_path\u001b[39m\u001b[34m(self)\u001b[39m\n\u001b[32m     46\u001b[39m \u001b[38;5;28;01mdef\u001b[39;00m\u001b[38;5;250m \u001b[39m\u001b[34mget_browser_path\u001b[39m(\u001b[38;5;28mself\u001b[39m) -> \u001b[38;5;28mstr\u001b[39m:\n\u001b[32m---> \u001b[39m\u001b[32m47\u001b[39m     \u001b[38;5;28;01mreturn\u001b[39;00m \u001b[38;5;28;43mself\u001b[39;49m\u001b[43m.\u001b[49m\u001b[43m_binary_paths\u001b[49m\u001b[43m(\u001b[49m\u001b[43m)\u001b[49m[\u001b[33m\"\u001b[39m\u001b[33mbrowser_path\u001b[39m\u001b[33m\"\u001b[39m]\n",
      "\u001b[36mFile \u001b[39m\u001b[32m~/miniforge3/envs/fintech/lib/python3.12/site-packages/selenium/webdriver/common/driver_finder.py:78\u001b[39m, in \u001b[36mDriverFinder._binary_paths\u001b[39m\u001b[34m(self)\u001b[39m\n\u001b[32m     76\u001b[39m \u001b[38;5;28;01mexcept\u001b[39;00m \u001b[38;5;167;01mException\u001b[39;00m \u001b[38;5;28;01mas\u001b[39;00m err:\n\u001b[32m     77\u001b[39m     msg = \u001b[33mf\u001b[39m\u001b[33m\"\u001b[39m\u001b[33mUnable to obtain driver for \u001b[39m\u001b[38;5;132;01m{\u001b[39;00mbrowser\u001b[38;5;132;01m}\u001b[39;00m\u001b[33m\"\u001b[39m\n\u001b[32m---> \u001b[39m\u001b[32m78\u001b[39m     \u001b[38;5;28;01mraise\u001b[39;00m NoSuchDriverException(msg) \u001b[38;5;28;01mfrom\u001b[39;00m\u001b[38;5;250m \u001b[39m\u001b[34;01merr\u001b[39;00m\n\u001b[32m     79\u001b[39m \u001b[38;5;28;01mreturn\u001b[39;00m \u001b[38;5;28mself\u001b[39m._paths\n",
      "\u001b[31mNoSuchDriverException\u001b[39m: Message: Unable to obtain driver for chrome; For documentation on this error, please visit: https://www.selenium.dev/documentation/webdriver/troubleshooting/errors/driver_location\n"
     ]
    }
   ],
   "source": [
    "options = Options()\n",
    "options.add_experimental_option(\"detach\", True)\n",
    "options.add_argument(\"start-maximized\")\n",
    "options.add_argument(\"Chrome/135.0.0.0\")\n",
    "options.add_argument(\"lang=ko_KR\")\n",
    "\n",
    "\n",
    "driver = webdriver.Chrome(\n",
    "        service=Service(ChromeDriverManager().install()),\n",
    "        options=options\n",
    "        )\n",
    "\n",
    "\n",
    "driver = webdriver.Chrome()\n",
    "\n",
    "driver.get('https://www.tankauction.com/')\n",
    "\n",
    "wait = WebDriverWait(driver, 10)\n",
    "\n",
    "# 로그인 버튼 선택\n",
    "button = wait.until(EC.element_to_be_clickable(\n",
    "        (By.CSS_SELECTOR, '.hand')\n",
    "    ))\n",
    "button.click()\n",
    "\n",
    "driver.find_element(By.CSS_SELECTOR, '.hand').send_keys('yjj7479')\n",
    "\n",
    "\n",
    "\n",
    "# 로그인 폼 채우기\n",
    "driver.find_element(By.ID, 'client_id').send_keys('yjj7479')\n",
    "driver.find_element(By.ID, 'password').send_keys('xodzmdhrtus0911!')\n",
    "driver.find_element(By.ID, \"button btn_white bigrounded\").click()\n",
    "\n",
    "time.sleep(5)  # 로그인 처리 대기\n",
    "\n",
    "# 보호된 페이지 접근\n",
    "driver.get('https://www.tankauction.com/inc/BgItems.php?title=%EC%95%84%ED%8C%8C%ED%8A%B8&t=a1&tid=2276168&dong=+52+&tg=A&tp=1&a=1&b=1&c=1&pnu=1132010500&addr=%EC%84%9C%EC%9A%B8%ED%8A%B9%EB%B3%84%EC%8B%9C+%EB%8F%84%EB%B4%89%EA%B5%AC+%EC%8C%8D%EB%AC%B8%EB%8F%99&bg=59-3&bldgNm=%ED%95%9C%EC%96%915&bldgSqm=65.37&bldgNmCnt=1&bldgDj=%ED%95%9C%EC%96%915&roadAddr=%ED%95%B4%EB%93%B1%EB%A1%9C25%EA%B8%B8+36&gb=1&tile_mode=&area=&search_mode=&class=&fromYear=2006&toYear=2025&fromMonth=1&toMonth=4&dealType=1&houseType=&landuse=&zoning=&oflanduse=&buildinguse=&area_gp=&pageNo=1&dataSize=20&pageSize=10&BBL=1&SBL=1&DBL=1')\n",
    "html = driver.page_source\n",
    "\n",
    "print(html)\n",
    "\n",
    "driver.quit()"
   ]
  },
  {
   "cell_type": "code",
   "execution_count": 53,
   "id": "34d008d7",
   "metadata": {},
   "outputs": [
    {
     "name": "stdin",
     "output_type": "stream",
     "text": [
      "지역을 입력해주세요 서울\n",
      "주거용과 아파트 중 하나를 입력해주세요 아파트\n"
     ]
    }
   ],
   "source": [
    "keyword1 = input(\"지역을 입력해주세요\")\n",
    "keyword2 = input(\"주거용과 아파트 중 하나를 입력해주세요\")\n",
    "\n",
    "options = Options()\n",
    "options.add_experimental_option(\"detach\", True)\n",
    "options.add_argument(\"start-maximized\")\n",
    "options.add_argument(\"Chrome/135.0.0.0\")\n",
    "options.add_argument(\"lang=ko_KR\")\n",
    "\n",
    "\n",
    "driver = webdriver.Chrome(\n",
    "        service=Service(ChromeDriverManager().install()),\n",
    "        options=options\n",
    "        )\n",
    "\n",
    "driver.get('https://www.tankauction.com/')\n",
    "\n",
    "wait = WebDriverWait(driver, 10)\n",
    "# 로그인 버튼 선택\n",
    "button = wait.until(EC.element_to_be_clickable(\n",
    "        (By.CSS_SELECTOR, '.hand')\n",
    "    ))\n",
    "button.click()\n",
    "\n",
    "# 로그인 폼 채우기\n",
    "id_input = wait.until(EC.element_to_be_clickable(\n",
    "        (By.ID, 'client_id')\n",
    "    ))\n",
    "id_input.send_keys('yjj7479')\n",
    "\n",
    "driver.find_element(By.ID, 'passwd').send_keys('xodzmdhrtus0911!')\n",
    "time.sleep(2)\n",
    "driver.find_element(By.CSS_SELECTOR, \".button.btn_white.bigrounded\").click()\n",
    "\n",
    "time.sleep(3)  # 로그인 처리 대기\n",
    "# 경매 검색 \n",
    "btn_search = wait.until(EC.element_to_be_clickable(\n",
    "        (By.CSS_SELECTOR, \".menuicon_10\")\n",
    "    ))\n",
    "btn_search.click()\n",
    "\n",
    "# 지역 선택\n",
    "siCd_dropdown = Select(wait.until(EC.element_to_be_clickable((By.ID, \"siCd\"))))\n",
    "siCd_dropdown.select_by_visible_text(keyword1)\n",
    "\n",
    "# 물건종류 선택\n",
    "time.sleep(1)\n",
    "ctgr_dropdown = Select(wait.until(EC.element_to_be_clickable((By.ID, \"ctgr\"))))\n",
    "ctgr_dropdown.select_by_visible_text(keyword2)\n",
    "\n",
    "time.sleep(1)\n",
    "# 최대가격 선택\n",
    "minbAmtEnd_dropdown = Select(wait.until(EC.element_to_be_clickable((By.ID, \"minbAmtEnd\"))))\n",
    "minbAmtEnd_dropdown.select_by_visible_text('4억')\n",
    "\n",
    "today = date.today()\n",
    "after_month = today + timedelta(days=30)\n",
    "start_str = today.strftime(\"%Y-%m-%d\")\n",
    "end_str = after_month.strftime(\"%Y-%m-%d\")\n",
    "# 시작일자 선택\n",
    "today = datetime.today()\n",
    "gnDt_datepicker = wait.until(EC.element_to_be_clickable((By.ID, \"bgnDt\")))\n",
    "gnDt_datepicker.clear()\n",
    "gnDt_datepicker.send_keys(start_str)\n",
    "\n",
    "# 끝일자 선택\n",
    "endDt_datepicker = wait.until(EC.element_to_be_clickable((By.ID, \"endDt\")))\n",
    "endDt_datepicker.clear()\n",
    "endDt_datepicker.send_keys(end_str)\n",
    "\n",
    "# 건물면적 최대선택\n",
    "bldgSqmEnd_input = wait.until(EC.element_to_be_clickable((By.ID, \"bldgSqmEnd\")))\n",
    "bldgSqmEnd_input.clear()\n",
    "bldgSqmEnd_input.send_keys(85)\n",
    "\n",
    "# 검색버튼\n",
    "time.sleep(3)\n",
    "btnSrch = wait.until(EC.element_to_be_clickable((By.ID, \"btnSrch\")))\n",
    "btnSrch.click()\n",
    "\n",
    "# 리스트 갯수 늘리기\n",
    "dataSize_s_dropdown = Select(wait.until(EC.element_to_be_clickable((By.ID, \"dataSize_s\"))))\n",
    "dataSize_s_dropdown.select_by_visible_text('100')"
   ]
  },
  {
   "cell_type": "code",
   "execution_count": 20,
   "id": "169a1e66",
   "metadata": {},
   "outputs": [],
   "source": [
    "\n",
    "\n",
    "# 로그인 폼 채우기\n",
    "driver.find_element(By.ID, 'client_id').send_keys('yjj7479')\n",
    "time.sleep(2)\n",
    "driver.find_element(By.ID, 'passwd').send_keys('xodzmdhrtus0911!')\n",
    "time.sleep(2)\n",
    "driver.find_element(By.CSS_SELECTOR, \".button.btn_white.bigrounded\").click()\n",
    "\n",
    "time.sleep(5)  # 로그인 처리 대기\n"
   ]
  },
  {
   "cell_type": "code",
   "execution_count": 34,
   "id": "c2212734",
   "metadata": {},
   "outputs": [
    {
     "name": "stdout",
     "output_type": "stream",
     "text": [
      "지역을 입력해주세요서울\n"
     ]
    },
    {
     "ename": "TimeoutException",
     "evalue": "Message: \nStacktrace:\n\tGetHandleVerifier [0x00C88073+60707]\n\tGetHandleVerifier [0x00C880B4+60772]\n\t(No symbol) [0x00AB0683]\n\t(No symbol) [0x00AF8660]\n\t(No symbol) [0x00AF89FB]\n\t(No symbol) [0x00B41022]\n\t(No symbol) [0x00B1D094]\n\t(No symbol) [0x00B3E824]\n\t(No symbol) [0x00B1CE46]\n\t(No symbol) [0x00AEC5D3]\n\t(No symbol) [0x00AED424]\n\tGetHandleVerifier [0x00ECBB53+2435075]\n\tGetHandleVerifier [0x00EC70F3+2416035]\n\tGetHandleVerifier [0x00EE349C+2531660]\n\tGetHandleVerifier [0x00C9F145+155125]\n\tGetHandleVerifier [0x00CA5AED+182173]\n\tGetHandleVerifier [0x00C8F948+91640]\n\tGetHandleVerifier [0x00C8FAF0+92064]\n\tGetHandleVerifier [0x00C7A5B0+4704]\n\tBaseThreadInitThunk [0x76FD5D49+25]\n\tRtlInitializeExceptionChain [0x77BFCF0B+107]\n\tRtlGetAppContainerNamedObjectPath [0x77BFCE91+561]\n",
     "output_type": "error",
     "traceback": [
      "\u001b[1;31m---------------------------------------------------------------------------\u001b[0m",
      "\u001b[1;31mTimeoutException\u001b[0m                          Traceback (most recent call last)",
      "Cell \u001b[1;32mIn[34], line 8\u001b[0m\n\u001b[0;32m      4\u001b[0m btn_search \u001b[38;5;241m=\u001b[39m wait\u001b[38;5;241m.\u001b[39muntil(EC\u001b[38;5;241m.\u001b[39melement_to_be_clickable(\n\u001b[0;32m      5\u001b[0m         (By\u001b[38;5;241m.\u001b[39mCSS_SELECTOR, \u001b[38;5;124m\"\u001b[39m\u001b[38;5;124m.menuicon_10\u001b[39m\u001b[38;5;124m\"\u001b[39m)\n\u001b[0;32m      6\u001b[0m     ))\n\u001b[0;32m      7\u001b[0m \u001b[38;5;66;03m# 지역 선택\u001b[39;00m\n\u001b[1;32m----> 8\u001b[0m siCd_dropdown \u001b[38;5;241m=\u001b[39m Select(\u001b[43mwait\u001b[49m\u001b[38;5;241;43m.\u001b[39;49m\u001b[43muntil\u001b[49m\u001b[43m(\u001b[49m\u001b[43mEC\u001b[49m\u001b[38;5;241;43m.\u001b[39;49m\u001b[43melement_to_be_clickable\u001b[49m\u001b[43m(\u001b[49m\u001b[43m(\u001b[49m\u001b[43mBy\u001b[49m\u001b[38;5;241;43m.\u001b[39;49m\u001b[43mID\u001b[49m\u001b[43m,\u001b[49m\u001b[43m \u001b[49m\u001b[38;5;124;43m\"\u001b[39;49m\u001b[38;5;124;43msiCd\u001b[39;49m\u001b[38;5;124;43m\"\u001b[39;49m\u001b[43m)\u001b[49m\u001b[43m)\u001b[49m\u001b[43m)\u001b[49m)\n\u001b[0;32m      9\u001b[0m siCd_dropdown\u001b[38;5;241m.\u001b[39mselect_by_visible_text(keyword1)\n",
      "File \u001b[1;32m~\\miniforge3\\envs\\fintech\\lib\\site-packages\\selenium\\webdriver\\support\\wait.py:146\u001b[0m, in \u001b[0;36mWebDriverWait.until\u001b[1;34m(self, method, message)\u001b[0m\n\u001b[0;32m    144\u001b[0m         \u001b[38;5;28;01mbreak\u001b[39;00m\n\u001b[0;32m    145\u001b[0m     time\u001b[38;5;241m.\u001b[39msleep(\u001b[38;5;28mself\u001b[39m\u001b[38;5;241m.\u001b[39m_poll)\n\u001b[1;32m--> 146\u001b[0m \u001b[38;5;28;01mraise\u001b[39;00m TimeoutException(message, screen, stacktrace)\n",
      "\u001b[1;31mTimeoutException\u001b[0m: Message: \nStacktrace:\n\tGetHandleVerifier [0x00C88073+60707]\n\tGetHandleVerifier [0x00C880B4+60772]\n\t(No symbol) [0x00AB0683]\n\t(No symbol) [0x00AF8660]\n\t(No symbol) [0x00AF89FB]\n\t(No symbol) [0x00B41022]\n\t(No symbol) [0x00B1D094]\n\t(No symbol) [0x00B3E824]\n\t(No symbol) [0x00B1CE46]\n\t(No symbol) [0x00AEC5D3]\n\t(No symbol) [0x00AED424]\n\tGetHandleVerifier [0x00ECBB53+2435075]\n\tGetHandleVerifier [0x00EC70F3+2416035]\n\tGetHandleVerifier [0x00EE349C+2531660]\n\tGetHandleVerifier [0x00C9F145+155125]\n\tGetHandleVerifier [0x00CA5AED+182173]\n\tGetHandleVerifier [0x00C8F948+91640]\n\tGetHandleVerifier [0x00C8FAF0+92064]\n\tGetHandleVerifier [0x00C7A5B0+4704]\n\tBaseThreadInitThunk [0x76FD5D49+25]\n\tRtlInitializeExceptionChain [0x77BFCF0B+107]\n\tRtlGetAppContainerNamedObjectPath [0x77BFCE91+561]\n"
     ]
    }
   ],
   "source": [
    "keyword1 = input(\"지역을 입력해주세요\")\n",
    "keyword2 = input(\"주거용과 아파트 중 하나를 입력해주세요\")\n",
    "\n",
    "# 경매 검색 \n",
    "btn_search = wait.until(EC.element_to_be_clickable(\n",
    "        (By.CSS_SELECTOR, \".menuicon_10\")\n",
    "    ))\n",
    "btn_search.click()\n",
    "# 지역 선택\n",
    "siCd_dropdown = Select(wait.until(EC.element_to_be_clickable((By.ID, \"siCd\"))))\n",
    "siCd_dropdown.select_by_visible_text(keyword1)\n",
    "\n",
    "# 물건종류 선택\n",
    "time.sleep(1)\n",
    "ctgr_dropdown = Select(wait.until(EC.element_to_be_clickable((By.ID, \"ctgr\"))))\n",
    "ctgr_dropdown.select_by_visible_text(keyword2)\n",
    "\n",
    "time.sleep(1)\n",
    "# 최대가격 선택\n",
    "minbAmtEnd_dropdown = Select(wait.until(EC.element_to_be_clickable((By.ID, \"minbAmtEnd\"))))\n",
    "minbAmtEnd_dropdown.select_by_visible_text('4억')"
   ]
  },
  {
   "cell_type": "code",
   "execution_count": 15,
   "id": "7b43d640",
   "metadata": {},
   "outputs": [
    {
     "name": "stdin",
     "output_type": "stream",
     "text": [
      "주거용과 아파트 중 하나를 입력해주세요 아파트\n"
     ]
    }
   ],
   "source": [
    "keyword2 = input(\"주거용과 아파트 중 하나를 입력해주세요\")\n",
    "\n",
    "# 물건종류 선택\n",
    "siCd_dropdown = Select(wait.until(EC.element_to_be_clickable((By.ID, \"ctgr\"))))\n",
    "siCd_dropdown.select_by_visible_text(keyword2)\n"
   ]
  },
  {
   "cell_type": "code",
   "execution_count": 18,
   "id": "6b5a9e5c",
   "metadata": {},
   "outputs": [],
   "source": [
    "# 최대가격 선택\n",
    "siCd_dropdown = Select(wait.until(EC.element_to_be_clickable((By.ID, \"minbAmtEnd\"))))\n",
    "siCd_dropdown.select_by_visible_text('4억')"
   ]
  },
  {
   "cell_type": "code",
   "execution_count": 52,
   "id": "bb4e5b7b",
   "metadata": {},
   "outputs": [],
   "source": [
    "today = date.today()\n",
    "after_month = today + timedelta(days=30)\n",
    "start_str = today.strftime(\"%Y-%m-%d\")\n",
    "end_str = after_month.strftime(\"%Y-%m-%d\")\n",
    "# 시작일자 선택\n",
    "today = datetime.today()\n",
    "gnDt_datepicker = wait.until(EC.element_to_be_clickable((By.ID, \"bgnDt\")))\n",
    "gnDt_datepicker.clear()\n",
    "gnDt_datepicker.send_keys(start_str)\n",
    "\n",
    "# 끝일자 선택\n",
    "endDt_datepicker = wait.until(EC.element_to_be_clickable((By.ID, \"endDt\")))\n",
    "endDt_datepicker.clear()\n",
    "endDt_datepicker.send_keys(end_str)\n",
    "\n",
    "# 건물면적 최대선택\n",
    "bldgSqmEnd_input = wait.until(EC.element_to_be_clickable((By.ID, \"bldgSqmEnd\")))\n",
    "bldgSqmEnd_input.clear()\n",
    "bldgSqmEnd_input.send_keys(85)\n",
    "\n",
    "# 검색버튼\n",
    "time.sleep(3)\n",
    "btnSrch = wait.until(EC.element_to_be_clickable((By.ID, \"btnSrch\")))\n",
    "btnSrch.click()\n",
    "\n",
    "# 리스트 갯수 늘리기\n",
    "dataSize_s_dropdown = Select(wait.until(EC.element_to_be_clickable((By.ID, \"dataSize_s\"))))\n",
    "dataSize_s_dropdown.select_by_visible_text('100')"
   ]
  },
  {
   "cell_type": "code",
   "execution_count": null,
   "id": "1e3971b0",
   "metadata": {},
   "outputs": [],
   "source": [
    "# 끝일자 선택\n",
    "endDt_dropdown = Select(wait.until(EC.element_to_be_clickable((By.ID, \"endDt\"))))\n",
    "endDt_dropdown.select_by_visible_text(end_str)"
   ]
  },
  {
   "cell_type": "code",
   "execution_count": null,
   "id": "89c1da68",
   "metadata": {},
   "outputs": [],
   "source": [
    "# 최대가격 선택\n",
    "siCd_dropdown = Select(wait.until(EC.element_to_be_clickable((By.ID, \"minbAmtEnd\"))))\n",
    "siCd_dropdown.click()\n",
    "siCd_dropdown.select_by_visible_text('4억')"
   ]
  },
  {
   "cell_type": "code",
   "execution_count": 49,
   "id": "b432328c",
   "metadata": {},
   "outputs": [],
   "source": [
    "# 검색버튼\n",
    "time.sleep(2)\n",
    "btnSrch = wait.until(EC.element_to_be_clickable((By.ID, \"btnSrch\")))\n",
    "btnSrch.click()"
   ]
  },
  {
   "cell_type": "code",
   "execution_count": 35,
   "id": "20e9b744",
   "metadata": {},
   "outputs": [],
   "source": [
    "start_str = today.strftime(\"%Y-%m-%d\")\n",
    "end_str = after_month.strftime(\"%Y-%m-%d\")"
   ]
  },
  {
   "cell_type": "code",
   "execution_count": 110,
   "id": "c3e5d12f",
   "metadata": {},
   "outputs": [
    {
     "ename": "TypeError",
     "evalue": "'WebElement' object is not iterable",
     "output_type": "error",
     "traceback": [
      "\u001b[31m---------------------------------------------------------------------------\u001b[39m",
      "\u001b[31mTypeError\u001b[39m                                 Traceback (most recent call last)",
      "\u001b[36mCell\u001b[39m\u001b[36m \u001b[39m\u001b[32mIn[110]\u001b[39m\u001b[32m, line 1\u001b[39m\n\u001b[32m----> \u001b[39m\u001b[32m1\u001b[39m \u001b[38;5;28;43;01mfor\u001b[39;49;00m\u001b[43m \u001b[49m\u001b[43mitem_list\u001b[49m\u001b[43m \u001b[49m\u001b[38;5;129;43;01min\u001b[39;49;00m\u001b[43m \u001b[49m\u001b[43mdriver\u001b[49m\u001b[43m.\u001b[49m\u001b[43mfind_element\u001b[49m\u001b[43m(\u001b[49m\u001b[43mBy\u001b[49m\u001b[43m.\u001b[49m\u001b[43mID\u001b[49m\u001b[43m,\u001b[49m\u001b[43m \u001b[49m\u001b[33;43m\"\u001b[39;49m\u001b[33;43mlsTbody\u001b[39;49m\u001b[33;43m\"\u001b[39;49m\u001b[43m)\u001b[49m\u001b[43m:\u001b[49m\n\u001b[32m      2\u001b[39m \u001b[43m    \u001b[49m\u001b[38;5;66;43;03m# 사건번호\u001b[39;49;00m\n\u001b[32m      3\u001b[39m \u001b[43m    \u001b[49m\u001b[43mnum\u001b[49m\u001b[43m \u001b[49m\u001b[43m=\u001b[49m\u001b[43m \u001b[49m\u001b[43mdriver\u001b[49m\u001b[43m.\u001b[49m\u001b[43mfind_element\u001b[49m\u001b[43m(\u001b[49m\u001b[43mBy\u001b[49m\u001b[43m.\u001b[49m\u001b[43mCSS_SELECTOR\u001b[49m\u001b[43m,\u001b[49m\u001b[43m \u001b[49m\u001b[33;43m\"\u001b[39;49m\u001b[33;43m.clear.f15.bold\u001b[39;49m\u001b[33;43m\"\u001b[39;49m\u001b[43m)\u001b[49m\u001b[43m.\u001b[49m\u001b[43mtext\u001b[49m\n\u001b[32m      4\u001b[39m \u001b[43m    \u001b[49m\u001b[38;5;66;43;03m# 주소\u001b[39;49;00m\n",
      "\u001b[31mTypeError\u001b[39m: 'WebElement' object is not iterable"
     ]
    }
   ],
   "source": [
    "for item_list in driver.find_element(By.ID, \"lsTbody\"):\n",
    "    # 사건번호\n",
    "    num = driver.find_element(By.CSS_SELECTOR, \".clear.f15.bold\").text\n",
    "    # 주소\n",
    "    adress = driver.find_element(By.ID, \"adrs_2239070\").get_attribute(\"innerText\")\n",
    "    # 감정가\n",
    "    start_price = int(driver.find_element(By.ID, \"apslAmt_2239070\").text.replace(\",\",\"\"))\n",
    "    #최저가\n",
    "    end_price = int(driver.find_element(By.ID, \"minbAmt_2239070\").text.replace(\",\",\"\"))\n",
    "    # 입찰일\n",
    "    the_date = driver.find_element(By.ID, \"bidDt_2239070\").text\n",
    "    # 조회수\n",
    "    pop = driver.find_element(By.XPATH, '//tr[@id=\"Tr_1\"]//div[@title=\"[관] : 관심수\"]/preceding-sibling::div[1]').text\n",
    "print(num,adress,start_price,end_price,the_date,pop)"
   ]
  },
  {
   "cell_type": "code",
   "execution_count": 93,
   "id": "502f6152-d19e-450d-8305-8bd134fc7046",
   "metadata": {},
   "outputs": [
    {
     "data": {
      "text/plain": [
       "<selenium.webdriver.remote.webelement.WebElement (session=\"f869a017cdd1736317b20ef5dc9d16d5\", element=\"f.179E548A77A9726961E7E9DEE397E496.d.0CE41185293203A1912161A84F7B3536.e.2132\")>"
      ]
     },
     "execution_count": 93,
     "metadata": {},
     "output_type": "execute_result"
    }
   ],
   "source": [
    "driver.find_element(By.CSS_SELECTOR, \".hand\")\n",
    "\n",
    "# 리스트버튼\n",
    "time.sleep(2)\n",
    "btnSrch = wait.until(EC.element_to_be_clickable((By.CSS_SELECTOR, \".hand\")))\n",
    "btnSrch.click()"
   ]
  },
  {
   "cell_type": "code",
   "execution_count": 99,
   "id": "e18ef28d-e4bb-4c1c-b85d-10db87577579",
   "metadata": {},
   "outputs": [
    {
     "ename": "NoSuchElementException",
     "evalue": "Message: no such element: Unable to locate element: {\"method\":\"css selector\",\"selector\":\"adrs_2239070\"}\n  (Session info: chrome=125.0.6422.61); For documentation on this error, please visit: https://www.selenium.dev/documentation/webdriver/troubleshooting/errors#no-such-element-exception\nStacktrace:\n0   chromedriver                        0x0000000104f2a6b8 chromedriver + 6149816\n1   chromedriver                        0x0000000104f21cda chromedriver + 6114522\n2   chromedriver                        0x00000001049aed5c chromedriver + 400732\n3   chromedriver                        0x00000001049fbaa5 chromedriver + 715429\n4   chromedriver                        0x00000001049fbbf1 chromedriver + 715761\n5   chromedriver                        0x0000000104a40dd4 chromedriver + 998868\n6   chromedriver                        0x0000000104a1ecdd chromedriver + 859357\n7   chromedriver                        0x0000000104a3e0db chromedriver + 987355\n8   chromedriver                        0x0000000104a1ea53 chromedriver + 858707\n9   chromedriver                        0x00000001049ee6d5 chromedriver + 661205\n10  chromedriver                        0x00000001049eef6e chromedriver + 663406\n11  chromedriver                        0x0000000104eebcf0 chromedriver + 5893360\n12  chromedriver                        0x0000000104ef14bc chromedriver + 5915836\n13  chromedriver                        0x0000000104ecd8b4 chromedriver + 5769396\n14  chromedriver                        0x0000000104ef1f89 chromedriver + 5918601\n15  chromedriver                        0x0000000104ebeec4 chromedriver + 5709508\n16  chromedriver                        0x0000000104f12008 chromedriver + 6049800\n17  chromedriver                        0x0000000104f121c7 chromedriver + 6050247\n18  chromedriver                        0x0000000104f2188e chromedriver + 6113422\n19  libsystem_pthread.dylib             0x00007ff8150381d3 _pthread_start + 125\n20  libsystem_pthread.dylib             0x00007ff815033bd3 thread_start + 15\n",
     "output_type": "error",
     "traceback": [
      "\u001b[31m---------------------------------------------------------------------------\u001b[39m",
      "\u001b[31mNoSuchElementException\u001b[39m                    Traceback (most recent call last)",
      "\u001b[36mCell\u001b[39m\u001b[36m \u001b[39m\u001b[32mIn[99]\u001b[39m\u001b[32m, line 1\u001b[39m\n\u001b[32m----> \u001b[39m\u001b[32m1\u001b[39m \u001b[43mdriver\u001b[49m\u001b[43m.\u001b[49m\u001b[43mfind_element\u001b[49m\u001b[43m(\u001b[49m\u001b[43mBy\u001b[49m\u001b[43m.\u001b[49m\u001b[43mCSS_SELECTOR\u001b[49m\u001b[43m,\u001b[49m\u001b[43m \u001b[49m\u001b[33;43m\"\u001b[39;49m\u001b[33;43madrs_2239070\u001b[39;49m\u001b[33;43m\"\u001b[39;49m\u001b[43m)\u001b[49m.get_attribute(\u001b[33m\"\u001b[39m\u001b[33minnerText\u001b[39m\u001b[33m\"\u001b[39m)\n",
      "\u001b[36mFile \u001b[39m\u001b[32m~/miniforge3/envs/fintech/lib/python3.12/site-packages/selenium/webdriver/remote/webdriver.py:898\u001b[39m, in \u001b[36mWebDriver.find_element\u001b[39m\u001b[34m(self, by, value)\u001b[39m\n\u001b[32m    895\u001b[39m         \u001b[38;5;28;01mraise\u001b[39;00m NoSuchElementException(\u001b[33mf\u001b[39m\u001b[33m\"\u001b[39m\u001b[33mCannot locate relative element with: \u001b[39m\u001b[38;5;132;01m{\u001b[39;00mby.root\u001b[38;5;132;01m}\u001b[39;00m\u001b[33m\"\u001b[39m)\n\u001b[32m    896\u001b[39m     \u001b[38;5;28;01mreturn\u001b[39;00m elements[\u001b[32m0\u001b[39m]\n\u001b[32m--> \u001b[39m\u001b[32m898\u001b[39m \u001b[38;5;28;01mreturn\u001b[39;00m \u001b[38;5;28;43mself\u001b[39;49m\u001b[43m.\u001b[49m\u001b[43mexecute\u001b[49m\u001b[43m(\u001b[49m\u001b[43mCommand\u001b[49m\u001b[43m.\u001b[49m\u001b[43mFIND_ELEMENT\u001b[49m\u001b[43m,\u001b[49m\u001b[43m \u001b[49m\u001b[43m{\u001b[49m\u001b[33;43m\"\u001b[39;49m\u001b[33;43musing\u001b[39;49m\u001b[33;43m\"\u001b[39;49m\u001b[43m:\u001b[49m\u001b[43m \u001b[49m\u001b[43mby\u001b[49m\u001b[43m,\u001b[49m\u001b[43m \u001b[49m\u001b[33;43m\"\u001b[39;49m\u001b[33;43mvalue\u001b[39;49m\u001b[33;43m\"\u001b[39;49m\u001b[43m:\u001b[49m\u001b[43m \u001b[49m\u001b[43mvalue\u001b[49m\u001b[43m}\u001b[49m\u001b[43m)\u001b[49m[\u001b[33m\"\u001b[39m\u001b[33mvalue\u001b[39m\u001b[33m\"\u001b[39m]\n",
      "\u001b[36mFile \u001b[39m\u001b[32m~/miniforge3/envs/fintech/lib/python3.12/site-packages/selenium/webdriver/remote/webdriver.py:429\u001b[39m, in \u001b[36mWebDriver.execute\u001b[39m\u001b[34m(self, driver_command, params)\u001b[39m\n\u001b[32m    427\u001b[39m response = \u001b[38;5;28mself\u001b[39m.command_executor.execute(driver_command, params)\n\u001b[32m    428\u001b[39m \u001b[38;5;28;01mif\u001b[39;00m response:\n\u001b[32m--> \u001b[39m\u001b[32m429\u001b[39m     \u001b[38;5;28;43mself\u001b[39;49m\u001b[43m.\u001b[49m\u001b[43merror_handler\u001b[49m\u001b[43m.\u001b[49m\u001b[43mcheck_response\u001b[49m\u001b[43m(\u001b[49m\u001b[43mresponse\u001b[49m\u001b[43m)\u001b[49m\n\u001b[32m    430\u001b[39m     response[\u001b[33m\"\u001b[39m\u001b[33mvalue\u001b[39m\u001b[33m\"\u001b[39m] = \u001b[38;5;28mself\u001b[39m._unwrap_value(response.get(\u001b[33m\"\u001b[39m\u001b[33mvalue\u001b[39m\u001b[33m\"\u001b[39m, \u001b[38;5;28;01mNone\u001b[39;00m))\n\u001b[32m    431\u001b[39m     \u001b[38;5;28;01mreturn\u001b[39;00m response\n",
      "\u001b[36mFile \u001b[39m\u001b[32m~/miniforge3/envs/fintech/lib/python3.12/site-packages/selenium/webdriver/remote/errorhandler.py:232\u001b[39m, in \u001b[36mErrorHandler.check_response\u001b[39m\u001b[34m(self, response)\u001b[39m\n\u001b[32m    230\u001b[39m         alert_text = value[\u001b[33m\"\u001b[39m\u001b[33malert\u001b[39m\u001b[33m\"\u001b[39m].get(\u001b[33m\"\u001b[39m\u001b[33mtext\u001b[39m\u001b[33m\"\u001b[39m)\n\u001b[32m    231\u001b[39m     \u001b[38;5;28;01mraise\u001b[39;00m exception_class(message, screen, stacktrace, alert_text)  \u001b[38;5;66;03m# type: ignore[call-arg]  # mypy is not smart enough here\u001b[39;00m\n\u001b[32m--> \u001b[39m\u001b[32m232\u001b[39m \u001b[38;5;28;01mraise\u001b[39;00m exception_class(message, screen, stacktrace)\n",
      "\u001b[31mNoSuchElementException\u001b[39m: Message: no such element: Unable to locate element: {\"method\":\"css selector\",\"selector\":\"adrs_2239070\"}\n  (Session info: chrome=125.0.6422.61); For documentation on this error, please visit: https://www.selenium.dev/documentation/webdriver/troubleshooting/errors#no-such-element-exception\nStacktrace:\n0   chromedriver                        0x0000000104f2a6b8 chromedriver + 6149816\n1   chromedriver                        0x0000000104f21cda chromedriver + 6114522\n2   chromedriver                        0x00000001049aed5c chromedriver + 400732\n3   chromedriver                        0x00000001049fbaa5 chromedriver + 715429\n4   chromedriver                        0x00000001049fbbf1 chromedriver + 715761\n5   chromedriver                        0x0000000104a40dd4 chromedriver + 998868\n6   chromedriver                        0x0000000104a1ecdd chromedriver + 859357\n7   chromedriver                        0x0000000104a3e0db chromedriver + 987355\n8   chromedriver                        0x0000000104a1ea53 chromedriver + 858707\n9   chromedriver                        0x00000001049ee6d5 chromedriver + 661205\n10  chromedriver                        0x00000001049eef6e chromedriver + 663406\n11  chromedriver                        0x0000000104eebcf0 chromedriver + 5893360\n12  chromedriver                        0x0000000104ef14bc chromedriver + 5915836\n13  chromedriver                        0x0000000104ecd8b4 chromedriver + 5769396\n14  chromedriver                        0x0000000104ef1f89 chromedriver + 5918601\n15  chromedriver                        0x0000000104ebeec4 chromedriver + 5709508\n16  chromedriver                        0x0000000104f12008 chromedriver + 6049800\n17  chromedriver                        0x0000000104f121c7 chromedriver + 6050247\n18  chromedriver                        0x0000000104f2188e chromedriver + 6113422\n19  libsystem_pthread.dylib             0x00007ff8150381d3 _pthread_start + 125\n20  libsystem_pthread.dylib             0x00007ff815033bd3 thread_start + 15\n"
     ]
    }
   ],
   "source": [
    "driver.find_element(By.CSS_SELECTOR, \"adrs_2239070\").get_attribute(\"innerText\")"
   ]
  },
  {
   "cell_type": "code",
   "execution_count": 106,
   "id": "af43f524-08cf-4322-b5ff-012114e0641f",
   "metadata": {},
   "outputs": [
    {
     "data": {
      "text/plain": [
       "''"
      ]
     },
     "execution_count": 106,
     "metadata": {},
     "output_type": "execute_result"
    }
   ],
   "source": [
    "driver.find_elements(By.CSS_SELECTOR, \".hand\")[1].get_attribute(\"innerText\")"
   ]
  },
  {
   "cell_type": "code",
   "execution_count": 111,
   "id": "b9a7ad3e-80f6-4c82-bee9-764926c3f9a0",
   "metadata": {},
   "outputs": [
    {
     "data": {
      "text/plain": [
       "<selenium.webdriver.remote.webelement.WebElement (session=\"f869a017cdd1736317b20ef5dc9d16d5\", element=\"f.179E548A77A9726961E7E9DEE397E496.d.0CE41185293203A1912161A84F7B3536.e.2360\")>"
      ]
     },
     "execution_count": 111,
     "metadata": {},
     "output_type": "execute_result"
    }
   ],
   "source": [
    "driver.find_element(By.ID, \"lsTbody\")"
   ]
  },
  {
   "cell_type": "code",
   "execution_count": 89,
   "id": "8c785d99-8ba8-4426-8d44-1c58cc79bdc2",
   "metadata": {},
   "outputs": [
    {
     "data": {
      "text/plain": [
       "'입찰일'"
      ]
     },
     "execution_count": 89,
     "metadata": {},
     "output_type": "execute_result"
    }
   ],
   "source": [
    "driver.find_element(By.CSS_SELECTOR, \".right\").get_attribute(\"innerText\")"
   ]
  },
  {
   "cell_type": "code",
   "execution_count": 83,
   "id": "7325b71e-3061-4d25-8c3f-cad131a25a64",
   "metadata": {},
   "outputs": [
    {
     "data": {
      "text/plain": [
       "372000000"
      ]
     },
     "execution_count": 83,
     "metadata": {},
     "output_type": "execute_result"
    }
   ],
   "source": [
    "int(driver.find_element(By.ID, \"apslAmt_2239070\").text.replace(\",\",\"\"))"
   ]
  },
  {
   "cell_type": "code",
   "execution_count": 91,
   "id": "3b3a2f2b-cc9e-499b-9e42-c202bc7da678",
   "metadata": {},
   "outputs": [
    {
     "data": {
      "text/plain": [
       "'1177'"
      ]
     },
     "execution_count": 91,
     "metadata": {},
     "output_type": "execute_result"
    }
   ],
   "source": [
    "driver.find_element(By.XPATH, '//tr[@id=\"Tr_1\"]//div[@title=\"[관] : 관심수\"]/preceding-sibling::div[1]').text"
   ]
  },
  {
   "cell_type": "code",
   "execution_count": null,
   "id": "f0d0b90a-d7c6-44d6-af18-42624cc50aaa",
   "metadata": {},
   "outputs": [],
   "source": []
  },
  {
   "cell_type": "code",
   "execution_count": null,
   "id": "7c402449-e4cd-4dd9-81b5-72dd3275f148",
   "metadata": {},
   "outputs": [],
   "source": []
  },
  {
   "cell_type": "code",
   "execution_count": null,
   "id": "871426a9-d05e-4b3e-aeb1-56a120705f67",
   "metadata": {},
   "outputs": [],
   "source": []
  },
  {
   "cell_type": "code",
   "execution_count": null,
   "id": "805e204e-1bfa-4f91-b8c6-fc7c550d4f86",
   "metadata": {},
   "outputs": [],
   "source": []
  },
  {
   "cell_type": "code",
   "execution_count": null,
   "id": "0c0262f7-bb4b-47b1-bfb6-d719c35b3a8d",
   "metadata": {},
   "outputs": [],
   "source": []
  },
  {
   "cell_type": "code",
   "execution_count": null,
   "id": "5757b138-a448-4dce-b01b-6a0a2a26a070",
   "metadata": {},
   "outputs": [],
   "source": []
  },
  {
   "cell_type": "code",
   "execution_count": null,
   "id": "6db1d3ee-58cc-4507-9bcd-77b309714437",
   "metadata": {},
   "outputs": [],
   "source": []
  },
  {
   "cell_type": "code",
   "execution_count": null,
   "id": "eeea0c5d-7e9b-41a2-ab49-db1faae09390",
   "metadata": {},
   "outputs": [],
   "source": []
  },
  {
   "cell_type": "code",
   "execution_count": null,
   "id": "a4ee7133",
   "metadata": {},
   "outputs": [],
   "source": []
  },
  {
   "cell_type": "code",
   "execution_count": null,
   "id": "cf518571",
   "metadata": {},
   "outputs": [],
   "source": []
  },
  {
   "cell_type": "code",
   "execution_count": null,
   "id": "2fc4afe4",
   "metadata": {},
   "outputs": [],
   "source": []
  },
  {
   "cell_type": "markdown",
   "id": "df3583fd",
   "metadata": {},
   "source": [
    "# 나중에 셀렉트 실행해볼것"
   ]
  },
  {
   "cell_type": "code",
   "execution_count": null,
   "id": "8738aa39",
   "metadata": {},
   "outputs": [],
   "source": [
    "## Ex 5-5. QComboBox.\n",
    "\n",
    "import sys\n",
    "from PyQt5.QtWidgets import QApplication, QWidget, QLabel, QComboBox\n",
    "\n",
    "\n",
    "class MyApp(QWidget):\n",
    "\n",
    "    def __init__(self):\n",
    "        super().__init__()\n",
    "        self.initUI()\n",
    "\n",
    "    def initUI(self):\n",
    "        self.lbl = QLabel('Option1', self)\n",
    "        self.lbl.move(50, 150)\n",
    "\n",
    "        cb = QComboBox(self)\n",
    "        cb.addItem('Option1')\n",
    "        cb.addItem('Option2')\n",
    "        cb.addItem('Option3')\n",
    "        cb.addItem('Option4')\n",
    "        cb.move(50, 50)\n",
    "\n",
    "        cb.activated[str].connect(self.onActivated)\n",
    "\n",
    "        self.setWindowTitle('QComboBox')\n",
    "        self.setGeometry(300, 300, 300, 200)\n",
    "        self.show()\n",
    "\n",
    "    def onActivated(self, text):\n",
    "        self.lbl.setText(text)\n",
    "        self.lbl.adjustSize()\n",
    "\n",
    "\n",
    "if __name__ == '__main__':\n",
    "    app = QApplication(sys.argv)\n",
    "    ex = MyApp()\n",
    "    sys.exit(app.exec_())"
   ]
  }
 ],
 "metadata": {
  "kernelspec": {
   "display_name": "Python 3 (ipykernel)",
   "language": "python",
   "name": "python3"
  },
  "language_info": {
   "codemirror_mode": {
    "name": "ipython",
    "version": 3
   },
   "file_extension": ".py",
   "mimetype": "text/x-python",
   "name": "python",
   "nbconvert_exporter": "python",
   "pygments_lexer": "ipython3",
   "version": "3.12.8"
  }
 },
 "nbformat": 4,
 "nbformat_minor": 5
}
