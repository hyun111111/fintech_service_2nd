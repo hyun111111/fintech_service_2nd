{
 "cells": [
  {
   "cell_type": "code",
   "execution_count": null,
   "id": "35e54667",
   "metadata": {},
   "outputs": [],
   "source": [
    "import os\n",
    "import requests\n",
    "from bs4 import BeautifulSoup as bs"
   ]
  },
  {
   "cell_type": "code",
   "execution_count": 110,
   "id": "8dcde045",
   "metadata": {},
   "outputs": [],
   "source": [
    "from selenium import webdriver\n",
    "from selenium.webdriver.chrome.service import Service\n",
    "from selenium.webdriver.chrome.options import Options\n",
    "from webdriver_manager.chrome import ChromeDriverManager\n",
    "from selenium.webdriver.common.by import By\n",
    "from selenium.webdriver.common.keys import Keys\n",
    "from selenium.webdriver.support.ui import WebDriverWait\n",
    "from selenium.webdriver.support.ui import Select\n",
    "from selenium.webdriver.support import expected_conditions as EC\n",
    "from datetime import datetime, timedelta, date\n",
    "from selenium.webdriver.common.action_chains import ActionChains\n",
    "from selenium.common.exceptions import StaleElementReferenceException\n",
    "import time \n",
    "import pandas as pd\n",
    "from io import StringIO"
   ]
  },
  {
   "cell_type": "code",
   "execution_count": 3,
   "id": "484f04a4",
   "metadata": {
    "scrolled": true
   },
   "outputs": [
    {
     "ename": "SyntaxError",
     "evalue": "invalid syntax (2714571026.py, line 2)",
     "output_type": "error",
     "traceback": [
      "  \u001b[36mCell\u001b[39m\u001b[36m \u001b[39m\u001b[32mIn[3]\u001b[39m\u001b[32m, line 2\u001b[39m\n\u001b[31m    \u001b[39m\u001b[31mpayload =\u001b[39m\n              ^\n\u001b[31mSyntaxError\u001b[39m\u001b[31m:\u001b[39m invalid syntax\n"
     ]
    }
   ],
   "source": [
    "url = \"https://www.tankauction.com/\"\n",
    "payload = \n",
    "header= {'client_id':'yjj7479', 'password':'xodzmdhrtus0911!'}\n",
    "r = requests.post(url,data = payload)\n",
    "print(r.url, r.status_code)\n",
    "print(r.text)"
   ]
  },
  {
   "cell_type": "code",
   "execution_count": 13,
   "id": "6e0f4782",
   "metadata": {
    "scrolled": true
   },
   "outputs": [
    {
     "ename": "NoSuchDriverException",
     "evalue": "Message: Unable to obtain driver for chrome; For documentation on this error, please visit: https://www.selenium.dev/documentation/webdriver/troubleshooting/errors/driver_location\n",
     "output_type": "error",
     "traceback": [
      "\u001b[31m---------------------------------------------------------------------------\u001b[39m",
      "\u001b[31mWebDriverException\u001b[39m                        Traceback (most recent call last)",
      "\u001b[36mFile \u001b[39m\u001b[32m~/miniforge3/envs/fintech/lib/python3.12/site-packages/selenium/webdriver/common/driver_finder.py:67\u001b[39m, in \u001b[36mDriverFinder._binary_paths\u001b[39m\u001b[34m(self)\u001b[39m\n\u001b[32m     66\u001b[39m \u001b[38;5;28;01melse\u001b[39;00m:\n\u001b[32m---> \u001b[39m\u001b[32m67\u001b[39m     output = \u001b[43mSeleniumManager\u001b[49m\u001b[43m(\u001b[49m\u001b[43m)\u001b[49m\u001b[43m.\u001b[49m\u001b[43mbinary_paths\u001b[49m\u001b[43m(\u001b[49m\u001b[38;5;28;43mself\u001b[39;49m\u001b[43m.\u001b[49m\u001b[43m_to_args\u001b[49m\u001b[43m(\u001b[49m\u001b[43m)\u001b[49m\u001b[43m)\u001b[49m\n\u001b[32m     68\u001b[39m     \u001b[38;5;28;01mif\u001b[39;00m Path(output[\u001b[33m\"\u001b[39m\u001b[33mdriver_path\u001b[39m\u001b[33m\"\u001b[39m]).is_file():\n",
      "\u001b[36mFile \u001b[39m\u001b[32m~/miniforge3/envs/fintech/lib/python3.12/site-packages/selenium/webdriver/common/selenium_manager.py:47\u001b[39m, in \u001b[36mSeleniumManager.binary_paths\u001b[39m\u001b[34m(self, args)\u001b[39m\n\u001b[32m     40\u001b[39m \u001b[38;5;250m\u001b[39m\u001b[33;03m\"\"\"Determines the locations of the requested assets.\u001b[39;00m\n\u001b[32m     41\u001b[39m \n\u001b[32m     42\u001b[39m \u001b[33;03m:Args:\u001b[39;00m\n\u001b[32m     43\u001b[39m \u001b[33;03m - args: the commands to send to the selenium manager binary.\u001b[39;00m\n\u001b[32m     44\u001b[39m \u001b[33;03m:Returns: dictionary of assets and their path\u001b[39;00m\n\u001b[32m     45\u001b[39m \u001b[33;03m\"\"\"\u001b[39;00m\n\u001b[32m---> \u001b[39m\u001b[32m47\u001b[39m args = [\u001b[38;5;28mstr\u001b[39m(\u001b[38;5;28;43mself\u001b[39;49m\u001b[43m.\u001b[49m\u001b[43m_get_binary\u001b[49m\u001b[43m(\u001b[49m\u001b[43m)\u001b[49m)] + args\n\u001b[32m     48\u001b[39m \u001b[38;5;28;01mif\u001b[39;00m logger.getEffectiveLevel() == logging.DEBUG:\n",
      "\u001b[36mFile \u001b[39m\u001b[32m~/miniforge3/envs/fintech/lib/python3.12/site-packages/selenium/webdriver/common/selenium_manager.py:99\u001b[39m, in \u001b[36mSeleniumManager._get_binary\u001b[39m\u001b[34m()\u001b[39m\n\u001b[32m     98\u001b[39m \u001b[38;5;28;01mif\u001b[39;00m path \u001b[38;5;129;01mis\u001b[39;00m \u001b[38;5;28;01mNone\u001b[39;00m \u001b[38;5;129;01mor\u001b[39;00m \u001b[38;5;129;01mnot\u001b[39;00m path.is_file():\n\u001b[32m---> \u001b[39m\u001b[32m99\u001b[39m     \u001b[38;5;28;01mraise\u001b[39;00m WebDriverException(\u001b[33mf\u001b[39m\u001b[33m\"\u001b[39m\u001b[33mUnable to obtain working Selenium Manager binary; \u001b[39m\u001b[38;5;132;01m{\u001b[39;00mpath\u001b[38;5;132;01m}\u001b[39;00m\u001b[33m\"\u001b[39m)\n\u001b[32m    101\u001b[39m logger.debug(\u001b[33m\"\u001b[39m\u001b[33mSelenium Manager binary found at: \u001b[39m\u001b[38;5;132;01m%s\u001b[39;00m\u001b[33m\"\u001b[39m, path)\n",
      "\u001b[31mWebDriverException\u001b[39m: Message: Unable to obtain working Selenium Manager binary; /Users/jihyun/miniforge3/envs/fintech/lib/python3.12/site-packages/selenium/webdriver/common/macos/selenium-manager\n",
      "\nThe above exception was the direct cause of the following exception:\n",
      "\u001b[31mNoSuchDriverException\u001b[39m                     Traceback (most recent call last)",
      "\u001b[36mCell\u001b[39m\u001b[36m \u001b[39m\u001b[32mIn[13]\u001b[39m\u001b[32m, line 14\u001b[39m\n\u001b[32m      5\u001b[39m options.add_argument(\u001b[33m\"\u001b[39m\u001b[33mlang=ko_KR\u001b[39m\u001b[33m\"\u001b[39m)\n\u001b[32m      8\u001b[39m driver = webdriver.Chrome(\n\u001b[32m      9\u001b[39m         service=Service(ChromeDriverManager().install()),\n\u001b[32m     10\u001b[39m         options=options\n\u001b[32m     11\u001b[39m         )\n\u001b[32m---> \u001b[39m\u001b[32m14\u001b[39m driver = \u001b[43mwebdriver\u001b[49m\u001b[43m.\u001b[49m\u001b[43mChrome\u001b[49m\u001b[43m(\u001b[49m\u001b[43m)\u001b[49m\n\u001b[32m     16\u001b[39m driver.get(\u001b[33m'\u001b[39m\u001b[33mhttps://www.tankauction.com/\u001b[39m\u001b[33m'\u001b[39m)\n\u001b[32m     18\u001b[39m wait = WebDriverWait(driver, \u001b[32m10\u001b[39m)\n",
      "\u001b[36mFile \u001b[39m\u001b[32m~/miniforge3/envs/fintech/lib/python3.12/site-packages/selenium/webdriver/chrome/webdriver.py:45\u001b[39m, in \u001b[36mWebDriver.__init__\u001b[39m\u001b[34m(self, options, service, keep_alive)\u001b[39m\n\u001b[32m     42\u001b[39m service = service \u001b[38;5;28;01mif\u001b[39;00m service \u001b[38;5;28;01melse\u001b[39;00m Service()\n\u001b[32m     43\u001b[39m options = options \u001b[38;5;28;01mif\u001b[39;00m options \u001b[38;5;28;01melse\u001b[39;00m Options()\n\u001b[32m---> \u001b[39m\u001b[32m45\u001b[39m \u001b[38;5;28;43msuper\u001b[39;49m\u001b[43m(\u001b[49m\u001b[43m)\u001b[49m\u001b[43m.\u001b[49m\u001b[34;43m__init__\u001b[39;49m\u001b[43m(\u001b[49m\n\u001b[32m     46\u001b[39m \u001b[43m    \u001b[49m\u001b[43mbrowser_name\u001b[49m\u001b[43m=\u001b[49m\u001b[43mDesiredCapabilities\u001b[49m\u001b[43m.\u001b[49m\u001b[43mCHROME\u001b[49m\u001b[43m[\u001b[49m\u001b[33;43m\"\u001b[39;49m\u001b[33;43mbrowserName\u001b[39;49m\u001b[33;43m\"\u001b[39;49m\u001b[43m]\u001b[49m\u001b[43m,\u001b[49m\n\u001b[32m     47\u001b[39m \u001b[43m    \u001b[49m\u001b[43mvendor_prefix\u001b[49m\u001b[43m=\u001b[49m\u001b[33;43m\"\u001b[39;49m\u001b[33;43mgoog\u001b[39;49m\u001b[33;43m\"\u001b[39;49m\u001b[43m,\u001b[49m\n\u001b[32m     48\u001b[39m \u001b[43m    \u001b[49m\u001b[43moptions\u001b[49m\u001b[43m=\u001b[49m\u001b[43moptions\u001b[49m\u001b[43m,\u001b[49m\n\u001b[32m     49\u001b[39m \u001b[43m    \u001b[49m\u001b[43mservice\u001b[49m\u001b[43m=\u001b[49m\u001b[43mservice\u001b[49m\u001b[43m,\u001b[49m\n\u001b[32m     50\u001b[39m \u001b[43m    \u001b[49m\u001b[43mkeep_alive\u001b[49m\u001b[43m=\u001b[49m\u001b[43mkeep_alive\u001b[49m\u001b[43m,\u001b[49m\n\u001b[32m     51\u001b[39m \u001b[43m\u001b[49m\u001b[43m)\u001b[49m\n",
      "\u001b[36mFile \u001b[39m\u001b[32m~/miniforge3/envs/fintech/lib/python3.12/site-packages/selenium/webdriver/chromium/webdriver.py:50\u001b[39m, in \u001b[36mChromiumDriver.__init__\u001b[39m\u001b[34m(self, browser_name, vendor_prefix, options, service, keep_alive)\u001b[39m\n\u001b[32m     47\u001b[39m \u001b[38;5;28mself\u001b[39m.service = service\n\u001b[32m     49\u001b[39m finder = DriverFinder(\u001b[38;5;28mself\u001b[39m.service, options)\n\u001b[32m---> \u001b[39m\u001b[32m50\u001b[39m \u001b[38;5;28;01mif\u001b[39;00m \u001b[43mfinder\u001b[49m\u001b[43m.\u001b[49m\u001b[43mget_browser_path\u001b[49m\u001b[43m(\u001b[49m\u001b[43m)\u001b[49m:\n\u001b[32m     51\u001b[39m     options.binary_location = finder.get_browser_path()\n\u001b[32m     52\u001b[39m     options.browser_version = \u001b[38;5;28;01mNone\u001b[39;00m\n",
      "\u001b[36mFile \u001b[39m\u001b[32m~/miniforge3/envs/fintech/lib/python3.12/site-packages/selenium/webdriver/common/driver_finder.py:47\u001b[39m, in \u001b[36mDriverFinder.get_browser_path\u001b[39m\u001b[34m(self)\u001b[39m\n\u001b[32m     46\u001b[39m \u001b[38;5;28;01mdef\u001b[39;00m\u001b[38;5;250m \u001b[39m\u001b[34mget_browser_path\u001b[39m(\u001b[38;5;28mself\u001b[39m) -> \u001b[38;5;28mstr\u001b[39m:\n\u001b[32m---> \u001b[39m\u001b[32m47\u001b[39m     \u001b[38;5;28;01mreturn\u001b[39;00m \u001b[38;5;28;43mself\u001b[39;49m\u001b[43m.\u001b[49m\u001b[43m_binary_paths\u001b[49m\u001b[43m(\u001b[49m\u001b[43m)\u001b[49m[\u001b[33m\"\u001b[39m\u001b[33mbrowser_path\u001b[39m\u001b[33m\"\u001b[39m]\n",
      "\u001b[36mFile \u001b[39m\u001b[32m~/miniforge3/envs/fintech/lib/python3.12/site-packages/selenium/webdriver/common/driver_finder.py:78\u001b[39m, in \u001b[36mDriverFinder._binary_paths\u001b[39m\u001b[34m(self)\u001b[39m\n\u001b[32m     76\u001b[39m \u001b[38;5;28;01mexcept\u001b[39;00m \u001b[38;5;167;01mException\u001b[39;00m \u001b[38;5;28;01mas\u001b[39;00m err:\n\u001b[32m     77\u001b[39m     msg = \u001b[33mf\u001b[39m\u001b[33m\"\u001b[39m\u001b[33mUnable to obtain driver for \u001b[39m\u001b[38;5;132;01m{\u001b[39;00mbrowser\u001b[38;5;132;01m}\u001b[39;00m\u001b[33m\"\u001b[39m\n\u001b[32m---> \u001b[39m\u001b[32m78\u001b[39m     \u001b[38;5;28;01mraise\u001b[39;00m NoSuchDriverException(msg) \u001b[38;5;28;01mfrom\u001b[39;00m\u001b[38;5;250m \u001b[39m\u001b[34;01merr\u001b[39;00m\n\u001b[32m     79\u001b[39m \u001b[38;5;28;01mreturn\u001b[39;00m \u001b[38;5;28mself\u001b[39m._paths\n",
      "\u001b[31mNoSuchDriverException\u001b[39m: Message: Unable to obtain driver for chrome; For documentation on this error, please visit: https://www.selenium.dev/documentation/webdriver/troubleshooting/errors/driver_location\n"
     ]
    }
   ],
   "source": [
    "options = Options()\n",
    "options.add_experimental_option(\"detach\", True)\n",
    "options.add_argument(\"start-maximized\")\n",
    "options.add_argument(\"Chrome/135.0.0.0\")\n",
    "options.add_argument(\"lang=ko_KR\")\n",
    "\n",
    "\n",
    "driver = webdriver.Chrome(\n",
    "        service=Service(ChromeDriverManager().install()),\n",
    "        options=options\n",
    "        )\n",
    "\n",
    "\n",
    "driver = webdriver.Chrome()\n",
    "\n",
    "driver.get('https://www.tankauction.com/')\n",
    "\n",
    "wait = WebDriverWait(driver, 10)\n",
    "\n",
    "# 로그인 버튼 선택\n",
    "button = wait.until(EC.element_to_be_clickable(\n",
    "        (By.CSS_SELECTOR, '.hand')\n",
    "    ))\n",
    "button.click()\n",
    "\n",
    "driver.find_element(By.CSS_SELECTOR, '.hand').send_keys('yjj7479')\n",
    "\n",
    "\n",
    "\n",
    "# 로그인 폼 채우기\n",
    "driver.find_element(By.ID, 'client_id').send_keys('yjj7479')\n",
    "driver.find_element(By.ID, 'password').send_keys('xodzmdhrtus0911!')\n",
    "driver.find_element(By.ID, \"button btn_white bigrounded\").click()\n",
    "\n",
    "time.sleep(5)  # 로그인 처리 대기\n",
    "\n",
    "# 보호된 페이지 접근\n",
    "driver.get('https://www.tankauction.com/inc/BgItems.php?title=%EC%95%84%ED%8C%8C%ED%8A%B8&t=a1&tid=2276168&dong=+52+&tg=A&tp=1&a=1&b=1&c=1&pnu=1132010500&addr=%EC%84%9C%EC%9A%B8%ED%8A%B9%EB%B3%84%EC%8B%9C+%EB%8F%84%EB%B4%89%EA%B5%AC+%EC%8C%8D%EB%AC%B8%EB%8F%99&bg=59-3&bldgNm=%ED%95%9C%EC%96%915&bldgSqm=65.37&bldgNmCnt=1&bldgDj=%ED%95%9C%EC%96%915&roadAddr=%ED%95%B4%EB%93%B1%EB%A1%9C25%EA%B8%B8+36&gb=1&tile_mode=&area=&search_mode=&class=&fromYear=2006&toYear=2025&fromMonth=1&toMonth=4&dealType=1&houseType=&landuse=&zoning=&oflanduse=&buildinguse=&area_gp=&pageNo=1&dataSize=20&pageSize=10&BBL=1&SBL=1&DBL=1')\n",
    "html = driver.page_source\n",
    "\n",
    "print(html)\n",
    "\n",
    "driver.quit()"
   ]
  },
  {
   "cell_type": "code",
   "execution_count": 91,
   "id": "84c85f74-30d4-4c14-abb3-2d695b83a59a",
   "metadata": {
    "scrolled": true
   },
   "outputs": [
    {
     "name": "stdin",
     "output_type": "stream",
     "text": [
      "지역을 입력해주세요 서울\n",
      "주거용과 아파트 중 하나를 입력해주세요 아파트\n"
     ]
    }
   ],
   "source": [
    "keyword1 = input(\"지역을 입력해주세요\")\n",
    "keyword2 = input(\"주거용과 아파트 중 하나를 입력해주세요\")"
   ]
  },
  {
   "cell_type": "code",
   "execution_count": 111,
   "id": "34d008d7",
   "metadata": {
    "scrolled": true
   },
   "outputs": [
    {
     "name": "stdout",
     "output_type": "stream",
     "text": [
      "🔍 리스트 로딩 완료\n",
      "⚠️ StaleElement 발생, row 재시도 중...\n",
      "2024-52691 서울 강동구 길동 387-5, 7층709호 (길동,길동청광플러스원큐브1차) 외 1필지 120000000 120000000 25.04.28 \n",
      "2024-54246 서울 송파구 가락동 78-1, 15층1507호 (가락동,한화오벨리스크) 189000000 189000000 25.04.28 \n",
      "2023-4493(2) 서울 동대문구 이문동 327-7, 14층1412호 (이문동,세진빌딩) 외 6필지 329000000 263200000 25.04.29 \n",
      "2023-125267 서울 영등포구 영등포동1가 145, 제9층 제913호 134000000 43909000 25.04.29 \n",
      "2024-3282 서울 도봉구 창동 811, 101동 2층205호 (도봉동,대동아파트) 485000000 388000000 25.04.29 \n",
      "2024-106495 서울 도봉구 도봉동 641, 114동 11층1105호 (도봉동,서원아파트) 외 1필지 399000000 319200000 25.04.29 \n",
      "2024-109326 서울 동대문구 전농동 6, 16동 1층117호 (전농동,전농우성아파트) 외 1필지 536000000 343040000 25.04.29 \n",
      "2024-111985 서울 도봉구 방학동 272, 16동 12층1210호 (방학동,신동아아파트) 374000000 299200000 25.04.29 \n",
      "2024-112223 서울 노원구 상계동 639, 103동 12층1213호 (상계동,보람아파트) 외 1필지 411000000 328800000 25.04.29 \n",
      "2024-114462 서울 강서구 방화동 832, 제303동 제4층 제408호 (방화동, 방화아파트) 189000000 151200000 25.04.29 \n",
      "2024-142900 서울 강서구 화곡동 938-23, 제8층 제802호 (화곡동, 에스엠케이아파트) 294000000 294000000 25.04.30 \n",
      "2023-107195 서울 관악구 신림동 1421-1, 10층1004호 (신림동,신림큐브) 140000000 15032000 25.05.01 \n",
      "2023-126956 서울 강서구 공항동 1378, 제101동 제4층 제404호 (공항동, 발쿠치네하우스) 159000000 26676000 25.05.01 \n",
      "2024-139249 서울 강서구 화곡동 918-14, 제9층 제902호 (화곡동, 도양라비앙아파트) 397000000 203264000 25.05.01 \n",
      "2022-57052 서울 용산구 이태원동 253-7, 6층702호 (이태원동,어반메시 남산) 1911000000 53790000 25.05.07 \n",
      "2024-56992 서울 은평구 응암동 227-22, 1층101호 317000000 202880000 25.05.07 \n",
      "2024-57919 서울 서대문구 홍제동 156-200, 나동 3층310호 500000000 400000000 25.05.07 \n",
      "2024-58202 서울 서대문구 창천동 510-2, 6층612호 (창천동,쓰리알유시티아파트) 외 3필지 230000000 184000000 25.05.07 \n",
      "2024-60502 서울 서대문구 홍은동 454, 105동 2층202호 (홍은동,극동아파트) 535000000 342400000 25.05.07 \n",
      "2024-116271 서울 중구 오장동 206-34, 14층1401호 (오장동,이지마루오장) 외 2필지 550000000 281600000 25.05.08 \n",
      "2022-113222 서울 강북구 수유동 405-5, 2층210호 외 1필지 382000000 382000000 25.05.13 \n",
      "2023-2985 서울 노원구 월계동 556, 208동 4층406호 (월계동,월계2단지주공아파트) 외 1필지 400000000 256000000 25.05.13 \n",
      "2023-119401 서울 도봉구 방학동 271-1, 21동 8층808호 (방학동,신동아아파트) 328000000 167936000 25.05.13 \n",
      "2024-4322 서울 도봉구 도봉동 63, 104동 13층1306호 (도봉동,힐스테이트도봉역웰가) 594000000 380160000 25.05.13 \n",
      "2024-113226 서울 동대문구 장안동 372-12, 10층 1001호 (장안동,아르떼하임) 284000000 181760000 25.05.13 \n",
      "2024-114755 서울 노원구 상계동 624, 1613동 1층 101호 (상계동,상계주공아파트) 460000000 368000000 25.05.13 \n",
      "2024-117099 서울 도봉구 도봉동 641, 107동 14층1403호 (도봉동,서원아파트) 외 1필지 375000000 300000000 25.05.13 \n",
      "2024-117365 서울 노원구 중계동 369, 201동 10층1009호 (중계동,중계2단지주공아파트) 386000000 308800000 25.05.13 \n",
      "2024-118191 서울 동대문구 이문동 327-7, 9층909호 (이문동,세진빌딩) 외 6필지 207000000 207000000 25.05.13 \n",
      "2024-118269 서울 도봉구 창동 373, 409동 6층607호 (창동,주공아파트) 외 1필지 85000000 68000000 25.05.13 \n",
      "2024-118369 서울 관악구 신림동 1703-1, 6동 3층304호 (신림동,건영아파트) 외 1필지 334000000 334000000 25.05.13 \n",
      "2024-120355 서울 관악구 신림동 1421-1, 6층613호 (신림동,신림큐브) 130000000 130000000 25.05.13 \n",
      "2024-103899 서울 강서구 화곡동 922-17, 제3층 제303호 (화곡동, 우공아파트) 외 1필지 231000000 48444000 25.05.14 \n",
      "2024-108283 서울 구로구 고척동 97-3, 제이동 제2층 제201호 299000000 239200000 25.05.15 \n",
      "2024-110224 서울 강서구 화곡동 894-12, 제8층 제804호 273000000 111821000 25.05.15 \n",
      "2024-112145 서울 강서구 화곡동 924-1, 제7층 제705호 (화곡동, 리치아파트101동) 231000000 94618000 25.05.15 \n",
      "2024-119887 서울 강서구 화곡동 914-1, 제4층 제409호 (화곡동, 일성스카이빌) 외 4필지 470000000 376000000 25.05.15 \n",
      "2023-60109 서울 은평구 갈현동 548, 4층426호 (갈현동,(유)갈현상가) 120000000 61440000 25.05.20 \n",
      "2024-54668 서울 은평구 갈현동 548, 4층410호 (갈현동,(유)갈현상가) 외 2개호 123000000 50380800 25.05.20 \n",
      "2024-58929 서울 은평구 갈현동 548, 5층503호 (갈현동,(유)갈현상가) 125000000 80000000 25.05.20 \n",
      "2024-107016 서울 강북구 수유동 269-25, 8층801호 (수유동,청솔아파트) 160000000 128000000 25.05.20 \n",
      "2024-110982 서울 강북구 수유동 52-27, 제5층 제501호 (수유동,현대맨션아파트) 322000000 257600000 25.05.20 \n",
      "2024-112049 서울 중랑구 묵동 13, 제404동 제2층 제202호 (묵동,신내아파트) 360000000 288000000 25.05.20 \n",
      "2024-101992 서울 강서구 화곡동 938-23, 제9층 제903호 (화곡동, 에스엠케이아파트) 273000000 174720000 25.05.21 \n",
      "2024-107648(1) 서울 양천구 신월동 456-1, 제2층 제203호 (신월동, 양천홈타운1차) 외 1필지 299000000 153088000 25.05.22 \n",
      "2024-107648(5) 서울 양천구 신월동 456-1, 제7층 제701호 (신월동, 양천홈타운1차) 외 1필지 333000000 266400000 25.05.22 \n",
      "2024-110378 서울 영등포구 영등포동1가 145, 제12층 제1213호 127000000 81280000 25.05.22 \n",
      "2024-116950 서울 관악구 신림동 534-1, 6층603호 (신림동,아데나534) 127000000 65024000 25.05.22 \n",
      "2024-119461 서울 관악구 신림동 1708, 101동 501호 (신림동,한림아파트) 365000000 292000000 25.05.22 \n"
     ]
    }
   ],
   "source": [
    "\n",
    "options = Options()\n",
    "options.add_experimental_option(\"detach\", True)\n",
    "options.add_argument(\"start-maximized\")\n",
    "options.add_argument(\"Chrome/135.0.0.0\")\n",
    "options.add_argument(\"lang=ko_KR\")\n",
    "\n",
    "\n",
    "driver = webdriver.Chrome(\n",
    "        service=Service(ChromeDriverManager().install()),\n",
    "        options=options\n",
    "        )\n",
    "\n",
    "driver.get('https://www.tankauction.com/')\n",
    "\n",
    "wait = WebDriverWait(driver, 10)\n",
    "# 로그인\n",
    "wait.until(EC.element_to_be_clickable((By.CSS_SELECTOR, '.hand'))).click()\n",
    "wait.until(EC.element_to_be_clickable((By.ID, 'client_id'))).send_keys('yjj7479')\n",
    "driver.find_element(By.ID, 'passwd').send_keys('xodzmdhrtus0911!')\n",
    "time.sleep(2)\n",
    "driver.find_element(By.CSS_SELECTOR, \".button.btn_white.bigrounded\").click()\n",
    "time.sleep(3)\n",
    "\n",
    "# 경매 검색\n",
    "wait.until(EC.element_to_be_clickable((By.CSS_SELECTOR, \".menuicon_10\"))).click()\n",
    "\n",
    "Select(wait.until(EC.element_to_be_clickable((By.ID, \"siCd\")))).select_by_visible_text(keyword1)\n",
    "time.sleep(1)\n",
    "Select(wait.until(EC.element_to_be_clickable((By.ID, \"ctgr\")))).select_by_visible_text(keyword2)\n",
    "time.sleep(1)\n",
    "Select(wait.until(EC.element_to_be_clickable((By.ID, \"minbAmtEnd\")))).select_by_visible_text('4억')\n",
    "\n",
    "# 날짜 선택\n",
    "today = date.today()\n",
    "after_month = today + timedelta(days=30)\n",
    "start_str = today.strftime(\"%Y-%m-%d\")\n",
    "end_str = after_month.strftime(\"%Y-%m-%d\")\n",
    "\n",
    "wait.until(EC.element_to_be_clickable((By.ID, \"bgnDt\"))).send_keys(start_str)\n",
    "wait.until(EC.element_to_be_clickable((By.ID, \"endDt\"))).send_keys(end_str)\n",
    "\n",
    "# 면적 설정\n",
    "bldgSqmEnd_input = wait.until(EC.element_to_be_clickable((By.ID, \"bldgSqmEnd\")))\n",
    "bldgSqmEnd_input.clear()\n",
    "bldgSqmEnd_input.send_keys(85)\n",
    "\n",
    "# 검색 버튼 클릭\n",
    "wait.until(EC.element_to_be_clickable((By.ID, \"btnSrch\"))).click()\n",
    "\n",
    "# 리스트 갯수 조정\n",
    "Select(wait.until(EC.element_to_be_clickable((By.ID, \"dataSize_s\")))).select_by_visible_text('100')\n",
    "\n",
    "# 리스트 항목 로딩\n",
    "WebDriverWait(driver, 10).until(EC.presence_of_all_elements_located((By.CSS_SELECTOR, '#lsTbody > tr.hand')))\n",
    "# 렌더링이 완전히 끝났는지 확인 (JavaScript DOM 상태 체크)\n",
    "WebDriverWait(driver, 10).until(\n",
    "    lambda d: d.execute_script(\"return document.readyState\") == \"complete\"\n",
    ")\n",
    "\n",
    "\n",
    "print(\"🔍 리스트 로딩 완료\")\n",
    "\n",
    "# row_id 수집\n",
    "row_ids = []\n",
    "for retry in range(3):\n",
    "    try:\n",
    "        rows = driver.find_elements(By.CSS_SELECTOR, '#lsTbody > tr.hand')\n",
    "        for row in rows:\n",
    "            row_ids.append(row.get_attribute(\"id\"))\n",
    "        break\n",
    "    except StaleElementReferenceException:\n",
    "        print(\"⚠️ StaleElement 발생, row 재시도 중...\")\n",
    "        time.sleep(1)\n",
    "\n",
    "# 각 row에서 데이터 추출\n",
    "result1 = []\n",
    "for row_id in row_ids:\n",
    "    try:\n",
    "        item = driver.find_element(By.ID, row_id)\n",
    "        tid = item.find_element(By.CSS_SELECTOR, 'input[id^=\"Tid_\"]').get_attribute(\"value\")\n",
    "        num = item.find_element(By.CSS_SELECTOR, \".clear.f15.bold\").text\n",
    "        address = item.find_element(By.CSS_SELECTOR, f'div#adrs_{tid}').get_attribute(\"innerText\")\n",
    "        start_price = int(item.find_element(By.ID, f\"apslAmt_{tid}\").text.replace(\",\", \"\"))\n",
    "        end_price = int(item.find_element(By.ID, f\"minbAmt_{tid}\").text.replace(\",\", \"\"))\n",
    "        the_date = item.find_element(By.ID, f\"bidDt_{tid}\").text\n",
    "\n",
    "        view_td = item.find_elements(By.CSS_SELECTOR, 'td')[-1]\n",
    "        view_divs = view_td.find_elements(By.TAG_NAME, 'div')\n",
    "        pop = view_divs[1].text.split(\"\\n\")[0] if len(view_divs) > 1 else None\n",
    "\n",
    "        result1.append([num, address, start_price, end_price, the_date, pop])\n",
    "        print(num, address, start_price, end_price, the_date, pop)\n",
    "\n",
    "        # 팝업 열기 및 닫기\n",
    "        main_window = driver.current_window_handle\n",
    "        clickable = item.find_elements(By.CSS_SELECTOR, 'td[onclick^=\"cntsViewPN\"]')[1]\n",
    "        driver.execute_script(\"arguments[0].scrollIntoView(true);\", clickable)\n",
    "        time.sleep(1)\n",
    "        driver.execute_script(\"arguments[0].click();\", clickable)\n",
    "        \n",
    "        WebDriverWait(driver, 10).until(lambda d: len(d.window_handles) > 1)\n",
    "        new_window = [w for w in driver.window_handles if w != main_window][0]\n",
    "        driver.switch_to.window(new_window)\n",
    "        # 팝업 데이터 추출 위치\n",
    "        driver.close()\n",
    "        driver.switch_to.window(main_window)\n",
    "\n",
    "    except Exception as e:\n",
    "        print(f\"❗ 오류 발생 (ID: {row_id}):\", str(e).splitlines()[0])\n",
    "\n",
    "    "
   ]
  },
  {
   "cell_type": "code",
   "execution_count": 108,
   "id": "7756ba08-4dc8-4ec9-8249-86ce0ec46d20",
   "metadata": {},
   "outputs": [
    {
     "name": "stdout",
     "output_type": "stream",
     "text": [
      "2024-52691 서울 강동구 길동 387-5, 7층709호 (길동,길동청광플러스원큐브1차) 외 1필지 120000000 120000000 25.04.28 \n",
      "2024-54246 서울 송파구 가락동 78-1, 15층1507호 (가락동,한화오벨리스크) 189000000 189000000 25.04.28 \n",
      "2023-4493(2) 서울 동대문구 이문동 327-7, 14층1412호 (이문동,세진빌딩) 외 6필지 329000000 263200000 25.04.29 \n",
      "2023-125267 서울 영등포구 영등포동1가 145, 제9층 제913호 134000000 43909000 25.04.29 \n",
      "2024-3282 서울 도봉구 창동 811, 101동 2층205호 (도봉동,대동아파트) 485000000 388000000 25.04.29 \n",
      "2024-106495 서울 도봉구 도봉동 641, 114동 11층1105호 (도봉동,서원아파트) 외 1필지 399000000 319200000 25.04.29 \n",
      "2024-109326 서울 동대문구 전농동 6, 16동 1층117호 (전농동,전농우성아파트) 외 1필지 536000000 343040000 25.04.29 \n",
      "2024-111985 서울 도봉구 방학동 272, 16동 12층1210호 (방학동,신동아아파트) 374000000 299200000 25.04.29 \n",
      "2024-112223 서울 노원구 상계동 639, 103동 12층1213호 (상계동,보람아파트) 외 1필지 411000000 328800000 25.04.29 \n",
      "2024-114462 서울 강서구 방화동 832, 제303동 제4층 제408호 (방화동, 방화아파트) 189000000 151200000 25.04.29 \n",
      "2024-142900 서울 강서구 화곡동 938-23, 제8층 제802호 (화곡동, 에스엠케이아파트) 294000000 294000000 25.04.30 \n",
      "2023-107195 서울 관악구 신림동 1421-1, 10층1004호 (신림동,신림큐브) 140000000 15032000 25.05.01 \n",
      "2023-126956 서울 강서구 공항동 1378, 제101동 제4층 제404호 (공항동, 발쿠치네하우스) 159000000 26676000 25.05.01 \n",
      "2024-139249 서울 강서구 화곡동 918-14, 제9층 제902호 (화곡동, 도양라비앙아파트) 397000000 203264000 25.05.01 \n",
      "2022-57052 서울 용산구 이태원동 253-7, 6층702호 (이태원동,어반메시 남산) 1911000000 53790000 25.05.07 \n",
      "2024-56992 서울 은평구 응암동 227-22, 1층101호 317000000 202880000 25.05.07 \n",
      "2024-57919 서울 서대문구 홍제동 156-200, 나동 3층310호 500000000 400000000 25.05.07 \n",
      "2024-58202 서울 서대문구 창천동 510-2, 6층612호 (창천동,쓰리알유시티아파트) 외 3필지 230000000 184000000 25.05.07 \n",
      "2024-60502 서울 서대문구 홍은동 454, 105동 2층202호 (홍은동,극동아파트) 535000000 342400000 25.05.07 \n",
      "2024-116271 서울 중구 오장동 206-34, 14층1401호 (오장동,이지마루오장) 외 2필지 550000000 281600000 25.05.08 \n"
     ]
    }
   ],
   "source": [
    "result1 = []\n",
    "for row_id in row_ids:\n",
    "    try:\n",
    "        item = driver.find_element(By.ID, row_id)\n",
    "        tid = item.find_element(By.CSS_SELECTOR, 'input[id^=\"Tid_\"]').get_attribute(\"value\")\n",
    "        num = item.find_element(By.CSS_SELECTOR, \".clear.f15.bold\").text\n",
    "        address = item.find_element(By.CSS_SELECTOR, f'div#adrs_{tid}').get_attribute(\"innerText\")\n",
    "        start_price = int(item.find_element(By.ID, f\"apslAmt_{tid}\").text.replace(\",\", \"\"))\n",
    "        end_price = int(item.find_element(By.ID, f\"minbAmt_{tid}\").text.replace(\",\", \"\"))\n",
    "        the_date = item.find_element(By.ID, f\"bidDt_{tid}\").text\n",
    "\n",
    "        view_td = item.find_elements(By.CSS_SELECTOR, 'td')[-1]\n",
    "        view_divs = view_td.find_elements(By.TAG_NAME, 'div')\n",
    "        pop = view_divs[1].text.split(\"\\n\")[0] if len(view_divs) > 1 else None\n",
    "\n",
    "        result1.append([num, address, start_price, end_price, the_date, pop])\n",
    "        print(num, address, start_price, end_price, the_date, pop)\n",
    "\n",
    "        # 팝업 열기 및 닫기\n",
    "        main_window = driver.current_window_handle\n",
    "        clickable = item.find_elements(By.CSS_SELECTOR, 'td[onclick^=\"cntsViewPN\"]')[1]\n",
    "        driver.execute_script(\"arguments[0].scrollIntoView(true);\", clickable)\n",
    "        time.sleep(1)\n",
    "        driver.execute_script(\"arguments[0].click();\", clickable)\n",
    "        \n",
    "        WebDriverWait(driver, 10).until(lambda d: len(d.window_handles) > 1)\n",
    "        new_window = [w for w in driver.window_handles if w != main_window][0]\n",
    "        driver.switch_to.window(new_window)\n",
    "        # 팝업 데이터 추출 위치\n",
    "        driver.close()\n",
    "        driver.switch_to.window(main_window)\n",
    "\n",
    "    except Exception as e:\n",
    "        print(f\"❗ 오류 발생 (ID: {row_id}):\", str(e).splitlines()[0])\n",
    "\n",
    "    "
   ]
  },
  {
   "cell_type": "code",
   "execution_count": 20,
   "id": "169a1e66",
   "metadata": {},
   "outputs": [],
   "source": [
    "\n",
    "\n",
    "# 로그인 폼 채우기\n",
    "driver.find_element(By.ID, 'client_id').send_keys('yjj7479')\n",
    "time.sleep(2)\n",
    "driver.find_element(By.ID, 'passwd').send_keys('xodzmdhrtus0911!')\n",
    "time.sleep(2)\n",
    "driver.find_element(By.CSS_SELECTOR, \".button.btn_white.bigrounded\").click()\n",
    "\n",
    "time.sleep(5)  # 로그인 처리 대기\n"
   ]
  },
  {
   "cell_type": "code",
   "execution_count": 112,
   "id": "d90b4055-e6f2-428e-b4fb-77f6e1383b6f",
   "metadata": {},
   "outputs": [
    {
     "ename": "InvalidArgumentException",
     "evalue": "Message: invalid argument: 'handle' must be a string\n  (Session info: chrome=125.0.6422.61)\nStacktrace:\n0   chromedriver                        0x000000010fc096b8 chromedriver + 6149816\n1   chromedriver                        0x000000010fc00cda chromedriver + 6114522\n2   chromedriver                        0x000000010f68dd5c chromedriver + 400732\n3   chromedriver                        0x000000010f70e80a chromedriver + 927754\n4   chromedriver                        0x000000010f6fdc78 chromedriver + 859256\n5   chromedriver                        0x000000010f6cd6d5 chromedriver + 661205\n6   chromedriver                        0x000000010f6cdf6e chromedriver + 663406\n7   chromedriver                        0x000000010fbcacf0 chromedriver + 5893360\n8   chromedriver                        0x000000010fbd04bc chromedriver + 5915836\n9   chromedriver                        0x000000010fbac8b4 chromedriver + 5769396\n10  chromedriver                        0x000000010fbd0f89 chromedriver + 5918601\n11  chromedriver                        0x000000010fb9dec4 chromedriver + 5709508\n12  chromedriver                        0x000000010fbf1008 chromedriver + 6049800\n13  chromedriver                        0x000000010fbf11c7 chromedriver + 6050247\n14  chromedriver                        0x000000010fc0088e chromedriver + 6113422\n15  libsystem_pthread.dylib             0x00007ff8150381d3 _pthread_start + 125\n16  libsystem_pthread.dylib             0x00007ff815033bd3 thread_start + 15\n",
     "output_type": "error",
     "traceback": [
      "\u001b[31m---------------------------------------------------------------------------\u001b[39m",
      "\u001b[31mInvalidArgumentException\u001b[39m                  Traceback (most recent call last)",
      "\u001b[36mCell\u001b[39m\u001b[36m \u001b[39m\u001b[32mIn[112]\u001b[39m\u001b[32m, line 10\u001b[39m\n\u001b[32m      8\u001b[39m WebDriverWait(driver, \u001b[32m10\u001b[39m).until(\u001b[38;5;28;01mlambda\u001b[39;00m d: \u001b[38;5;28mlen\u001b[39m(d.window_handles) > \u001b[32m1\u001b[39m)\n\u001b[32m      9\u001b[39m new_window = [driver.window_handles][\u001b[32m0\u001b[39m]\n\u001b[32m---> \u001b[39m\u001b[32m10\u001b[39m \u001b[43mdriver\u001b[49m\u001b[43m.\u001b[49m\u001b[43mswitch_to\u001b[49m\u001b[43m.\u001b[49m\u001b[43mwindow\u001b[49m\u001b[43m(\u001b[49m\u001b[43mnew_window\u001b[49m\u001b[43m)\u001b[49m\n\u001b[32m     11\u001b[39m \u001b[38;5;66;03m# 팝업 데이터 추출 위치\u001b[39;00m\n\u001b[32m     12\u001b[39m driver.close()\n",
      "\u001b[36mFile \u001b[39m\u001b[32m~/miniforge3/envs/fintech/lib/python3.12/site-packages/selenium/webdriver/remote/switch_to.py:133\u001b[39m, in \u001b[36mSwitchTo.window\u001b[39m\u001b[34m(self, window_name)\u001b[39m\n\u001b[32m    122\u001b[39m \u001b[38;5;28;01mdef\u001b[39;00m\u001b[38;5;250m \u001b[39m\u001b[34mwindow\u001b[39m(\u001b[38;5;28mself\u001b[39m, window_name: \u001b[38;5;28mstr\u001b[39m) -> \u001b[38;5;28;01mNone\u001b[39;00m:\n\u001b[32m    123\u001b[39m \u001b[38;5;250m    \u001b[39m\u001b[33;03m\"\"\"Switches focus to the specified window.\u001b[39;00m\n\u001b[32m    124\u001b[39m \n\u001b[32m    125\u001b[39m \u001b[33;03m    :Args:\u001b[39;00m\n\u001b[32m   (...)\u001b[39m\u001b[32m    131\u001b[39m \u001b[33;03m            driver.switch_to.window('main')\u001b[39;00m\n\u001b[32m    132\u001b[39m \u001b[33;03m    \"\"\"\u001b[39;00m\n\u001b[32m--> \u001b[39m\u001b[32m133\u001b[39m     \u001b[38;5;28;43mself\u001b[39;49m\u001b[43m.\u001b[49m\u001b[43m_w3c_window\u001b[49m\u001b[43m(\u001b[49m\u001b[43mwindow_name\u001b[49m\u001b[43m)\u001b[49m\n",
      "\u001b[36mFile \u001b[39m\u001b[32m~/miniforge3/envs/fintech/lib/python3.12/site-packages/selenium/webdriver/remote/switch_to.py:141\u001b[39m, in \u001b[36mSwitchTo._w3c_window\u001b[39m\u001b[34m(self, window_name)\u001b[39m\n\u001b[32m    137\u001b[39m     \u001b[38;5;28mself\u001b[39m._driver.execute(Command.SWITCH_TO_WINDOW, {\u001b[33m\"\u001b[39m\u001b[33mhandle\u001b[39m\u001b[33m\"\u001b[39m: h})\n\u001b[32m    139\u001b[39m \u001b[38;5;28;01mtry\u001b[39;00m:\n\u001b[32m    140\u001b[39m     \u001b[38;5;66;03m# Try using it as a handle first.\u001b[39;00m\n\u001b[32m--> \u001b[39m\u001b[32m141\u001b[39m     \u001b[43msend_handle\u001b[49m\u001b[43m(\u001b[49m\u001b[43mwindow_name\u001b[49m\u001b[43m)\u001b[49m\n\u001b[32m    142\u001b[39m \u001b[38;5;28;01mexcept\u001b[39;00m NoSuchWindowException:\n\u001b[32m    143\u001b[39m     \u001b[38;5;66;03m# Check every window to try to find the given window name.\u001b[39;00m\n\u001b[32m    144\u001b[39m     original_handle = \u001b[38;5;28mself\u001b[39m._driver.current_window_handle\n",
      "\u001b[36mFile \u001b[39m\u001b[32m~/miniforge3/envs/fintech/lib/python3.12/site-packages/selenium/webdriver/remote/switch_to.py:137\u001b[39m, in \u001b[36mSwitchTo._w3c_window.<locals>.send_handle\u001b[39m\u001b[34m(h)\u001b[39m\n\u001b[32m    136\u001b[39m \u001b[38;5;28;01mdef\u001b[39;00m\u001b[38;5;250m \u001b[39m\u001b[34msend_handle\u001b[39m(h):\n\u001b[32m--> \u001b[39m\u001b[32m137\u001b[39m     \u001b[38;5;28;43mself\u001b[39;49m\u001b[43m.\u001b[49m\u001b[43m_driver\u001b[49m\u001b[43m.\u001b[49m\u001b[43mexecute\u001b[49m\u001b[43m(\u001b[49m\u001b[43mCommand\u001b[49m\u001b[43m.\u001b[49m\u001b[43mSWITCH_TO_WINDOW\u001b[49m\u001b[43m,\u001b[49m\u001b[43m \u001b[49m\u001b[43m{\u001b[49m\u001b[33;43m\"\u001b[39;49m\u001b[33;43mhandle\u001b[39;49m\u001b[33;43m\"\u001b[39;49m\u001b[43m:\u001b[49m\u001b[43m \u001b[49m\u001b[43mh\u001b[49m\u001b[43m}\u001b[49m\u001b[43m)\u001b[49m\n",
      "\u001b[36mFile \u001b[39m\u001b[32m~/miniforge3/envs/fintech/lib/python3.12/site-packages/selenium/webdriver/remote/webdriver.py:429\u001b[39m, in \u001b[36mWebDriver.execute\u001b[39m\u001b[34m(self, driver_command, params)\u001b[39m\n\u001b[32m    427\u001b[39m response = \u001b[38;5;28mself\u001b[39m.command_executor.execute(driver_command, params)\n\u001b[32m    428\u001b[39m \u001b[38;5;28;01mif\u001b[39;00m response:\n\u001b[32m--> \u001b[39m\u001b[32m429\u001b[39m     \u001b[38;5;28;43mself\u001b[39;49m\u001b[43m.\u001b[49m\u001b[43merror_handler\u001b[49m\u001b[43m.\u001b[49m\u001b[43mcheck_response\u001b[49m\u001b[43m(\u001b[49m\u001b[43mresponse\u001b[49m\u001b[43m)\u001b[49m\n\u001b[32m    430\u001b[39m     response[\u001b[33m\"\u001b[39m\u001b[33mvalue\u001b[39m\u001b[33m\"\u001b[39m] = \u001b[38;5;28mself\u001b[39m._unwrap_value(response.get(\u001b[33m\"\u001b[39m\u001b[33mvalue\u001b[39m\u001b[33m\"\u001b[39m, \u001b[38;5;28;01mNone\u001b[39;00m))\n\u001b[32m    431\u001b[39m     \u001b[38;5;28;01mreturn\u001b[39;00m response\n",
      "\u001b[36mFile \u001b[39m\u001b[32m~/miniforge3/envs/fintech/lib/python3.12/site-packages/selenium/webdriver/remote/errorhandler.py:232\u001b[39m, in \u001b[36mErrorHandler.check_response\u001b[39m\u001b[34m(self, response)\u001b[39m\n\u001b[32m    230\u001b[39m         alert_text = value[\u001b[33m\"\u001b[39m\u001b[33malert\u001b[39m\u001b[33m\"\u001b[39m].get(\u001b[33m\"\u001b[39m\u001b[33mtext\u001b[39m\u001b[33m\"\u001b[39m)\n\u001b[32m    231\u001b[39m     \u001b[38;5;28;01mraise\u001b[39;00m exception_class(message, screen, stacktrace, alert_text)  \u001b[38;5;66;03m# type: ignore[call-arg]  # mypy is not smart enough here\u001b[39;00m\n\u001b[32m--> \u001b[39m\u001b[32m232\u001b[39m \u001b[38;5;28;01mraise\u001b[39;00m exception_class(message, screen, stacktrace)\n",
      "\u001b[31mInvalidArgumentException\u001b[39m: Message: invalid argument: 'handle' must be a string\n  (Session info: chrome=125.0.6422.61)\nStacktrace:\n0   chromedriver                        0x000000010fc096b8 chromedriver + 6149816\n1   chromedriver                        0x000000010fc00cda chromedriver + 6114522\n2   chromedriver                        0x000000010f68dd5c chromedriver + 400732\n3   chromedriver                        0x000000010f70e80a chromedriver + 927754\n4   chromedriver                        0x000000010f6fdc78 chromedriver + 859256\n5   chromedriver                        0x000000010f6cd6d5 chromedriver + 661205\n6   chromedriver                        0x000000010f6cdf6e chromedriver + 663406\n7   chromedriver                        0x000000010fbcacf0 chromedriver + 5893360\n8   chromedriver                        0x000000010fbd04bc chromedriver + 5915836\n9   chromedriver                        0x000000010fbac8b4 chromedriver + 5769396\n10  chromedriver                        0x000000010fbd0f89 chromedriver + 5918601\n11  chromedriver                        0x000000010fb9dec4 chromedriver + 5709508\n12  chromedriver                        0x000000010fbf1008 chromedriver + 6049800\n13  chromedriver                        0x000000010fbf11c7 chromedriver + 6050247\n14  chromedriver                        0x000000010fc0088e chromedriver + 6113422\n15  libsystem_pthread.dylib             0x00007ff8150381d3 _pthread_start + 125\n16  libsystem_pthread.dylib             0x00007ff815033bd3 thread_start + 15\n"
     ]
    }
   ],
   "source": [
    "# 팝업 열기 및 닫기\n",
    "main_window = driver.current_window_handle\n",
    "clickable = item.find_elements(By.CSS_SELECTOR, 'td[onclick^=\"cntsViewPN\"]')[1]\n",
    "driver.execute_script(\"arguments[0].scrollIntoView(true);\", clickable)\n",
    "time.sleep(1)\n",
    "driver.execute_script(\"arguments[0].click();\", clickable)\n",
    "\n",
    "WebDriverWait(driver, 10).until(lambda d: len(d.window_handles) > 1)\n",
    "new_window = [driver.window_handles][0]\n",
    "driver.switch_to.window(new_window)\n",
    "# 팝업 데이터 추출 위치\n",
    "driver.close()\n",
    "driver.switch_to.window(main_window)\n"
   ]
  },
  {
   "cell_type": "code",
   "execution_count": 34,
   "id": "c2212734",
   "metadata": {
    "scrolled": true
   },
   "outputs": [
    {
     "name": "stdout",
     "output_type": "stream",
     "text": [
      "지역을 입력해주세요서울\n"
     ]
    },
    {
     "ename": "TimeoutException",
     "evalue": "Message: \nStacktrace:\n\tGetHandleVerifier [0x00C88073+60707]\n\tGetHandleVerifier [0x00C880B4+60772]\n\t(No symbol) [0x00AB0683]\n\t(No symbol) [0x00AF8660]\n\t(No symbol) [0x00AF89FB]\n\t(No symbol) [0x00B41022]\n\t(No symbol) [0x00B1D094]\n\t(No symbol) [0x00B3E824]\n\t(No symbol) [0x00B1CE46]\n\t(No symbol) [0x00AEC5D3]\n\t(No symbol) [0x00AED424]\n\tGetHandleVerifier [0x00ECBB53+2435075]\n\tGetHandleVerifier [0x00EC70F3+2416035]\n\tGetHandleVerifier [0x00EE349C+2531660]\n\tGetHandleVerifier [0x00C9F145+155125]\n\tGetHandleVerifier [0x00CA5AED+182173]\n\tGetHandleVerifier [0x00C8F948+91640]\n\tGetHandleVerifier [0x00C8FAF0+92064]\n\tGetHandleVerifier [0x00C7A5B0+4704]\n\tBaseThreadInitThunk [0x76FD5D49+25]\n\tRtlInitializeExceptionChain [0x77BFCF0B+107]\n\tRtlGetAppContainerNamedObjectPath [0x77BFCE91+561]\n",
     "output_type": "error",
     "traceback": [
      "\u001b[1;31m---------------------------------------------------------------------------\u001b[0m",
      "\u001b[1;31mTimeoutException\u001b[0m                          Traceback (most recent call last)",
      "Cell \u001b[1;32mIn[34], line 8\u001b[0m\n\u001b[0;32m      4\u001b[0m btn_search \u001b[38;5;241m=\u001b[39m wait\u001b[38;5;241m.\u001b[39muntil(EC\u001b[38;5;241m.\u001b[39melement_to_be_clickable(\n\u001b[0;32m      5\u001b[0m         (By\u001b[38;5;241m.\u001b[39mCSS_SELECTOR, \u001b[38;5;124m\"\u001b[39m\u001b[38;5;124m.menuicon_10\u001b[39m\u001b[38;5;124m\"\u001b[39m)\n\u001b[0;32m      6\u001b[0m     ))\n\u001b[0;32m      7\u001b[0m \u001b[38;5;66;03m# 지역 선택\u001b[39;00m\n\u001b[1;32m----> 8\u001b[0m siCd_dropdown \u001b[38;5;241m=\u001b[39m Select(\u001b[43mwait\u001b[49m\u001b[38;5;241;43m.\u001b[39;49m\u001b[43muntil\u001b[49m\u001b[43m(\u001b[49m\u001b[43mEC\u001b[49m\u001b[38;5;241;43m.\u001b[39;49m\u001b[43melement_to_be_clickable\u001b[49m\u001b[43m(\u001b[49m\u001b[43m(\u001b[49m\u001b[43mBy\u001b[49m\u001b[38;5;241;43m.\u001b[39;49m\u001b[43mID\u001b[49m\u001b[43m,\u001b[49m\u001b[43m \u001b[49m\u001b[38;5;124;43m\"\u001b[39;49m\u001b[38;5;124;43msiCd\u001b[39;49m\u001b[38;5;124;43m\"\u001b[39;49m\u001b[43m)\u001b[49m\u001b[43m)\u001b[49m\u001b[43m)\u001b[49m)\n\u001b[0;32m      9\u001b[0m siCd_dropdown\u001b[38;5;241m.\u001b[39mselect_by_visible_text(keyword1)\n",
      "File \u001b[1;32m~\\miniforge3\\envs\\fintech\\lib\\site-packages\\selenium\\webdriver\\support\\wait.py:146\u001b[0m, in \u001b[0;36mWebDriverWait.until\u001b[1;34m(self, method, message)\u001b[0m\n\u001b[0;32m    144\u001b[0m         \u001b[38;5;28;01mbreak\u001b[39;00m\n\u001b[0;32m    145\u001b[0m     time\u001b[38;5;241m.\u001b[39msleep(\u001b[38;5;28mself\u001b[39m\u001b[38;5;241m.\u001b[39m_poll)\n\u001b[1;32m--> 146\u001b[0m \u001b[38;5;28;01mraise\u001b[39;00m TimeoutException(message, screen, stacktrace)\n",
      "\u001b[1;31mTimeoutException\u001b[0m: Message: \nStacktrace:\n\tGetHandleVerifier [0x00C88073+60707]\n\tGetHandleVerifier [0x00C880B4+60772]\n\t(No symbol) [0x00AB0683]\n\t(No symbol) [0x00AF8660]\n\t(No symbol) [0x00AF89FB]\n\t(No symbol) [0x00B41022]\n\t(No symbol) [0x00B1D094]\n\t(No symbol) [0x00B3E824]\n\t(No symbol) [0x00B1CE46]\n\t(No symbol) [0x00AEC5D3]\n\t(No symbol) [0x00AED424]\n\tGetHandleVerifier [0x00ECBB53+2435075]\n\tGetHandleVerifier [0x00EC70F3+2416035]\n\tGetHandleVerifier [0x00EE349C+2531660]\n\tGetHandleVerifier [0x00C9F145+155125]\n\tGetHandleVerifier [0x00CA5AED+182173]\n\tGetHandleVerifier [0x00C8F948+91640]\n\tGetHandleVerifier [0x00C8FAF0+92064]\n\tGetHandleVerifier [0x00C7A5B0+4704]\n\tBaseThreadInitThunk [0x76FD5D49+25]\n\tRtlInitializeExceptionChain [0x77BFCF0B+107]\n\tRtlGetAppContainerNamedObjectPath [0x77BFCE91+561]\n"
     ]
    }
   ],
   "source": [
    "keyword1 = input(\"지역을 입력해주세요\")\n",
    "keyword2 = input(\"주거용과 아파트 중 하나를 입력해주세요\")\n",
    "\n",
    "# 경매 검색 \n",
    "btn_search = wait.until(EC.element_to_be_clickable(\n",
    "        (By.CSS_SELECTOR, \".menuicon_10\")\n",
    "    ))\n",
    "btn_search.click()\n",
    "# 지역 선택\n",
    "siCd_dropdown = Select(wait.until(EC.element_to_be_clickable((By.ID, \"siCd\"))))\n",
    "siCd_dropdown.select_by_visible_text(keyword1)\n",
    "\n",
    "# 물건종류 선택\n",
    "time.sleep(1)\n",
    "ctgr_dropdown = Select(wait.until(EC.element_to_be_clickable((By.ID, \"ctgr\"))))\n",
    "ctgr_dropdown.select_by_visible_text(keyword2)\n",
    "\n",
    "time.sleep(1)\n",
    "# 최대가격 선택\n",
    "minbAmtEnd_dropdown = Select(wait.until(EC.element_to_be_clickable((By.ID, \"minbAmtEnd\"))))\n",
    "minbAmtEnd_dropdown.select_by_visible_text('4억')"
   ]
  },
  {
   "cell_type": "code",
   "execution_count": 101,
   "id": "9b7df2bf-22f8-4017-849a-5e0da9cfd5c1",
   "metadata": {},
   "outputs": [
    {
     "data": {
      "text/plain": [
       "'아파트\\n2024-52691\\n서울 강동구 길동 387-5, 7층709호 (길동,길동청광플러스원큐브1차) 외 1필지\\n(서울 강동구 천중로42길 70)\\n건물 16.685㎡(5.047평), 대지권 4.914㎡(1.486평)\\n토지·건물 일괄매각  임차권등기,대항력 있는 임차인,공시가 1억이하'"
      ]
     },
     "execution_count": 101,
     "metadata": {},
     "output_type": "execute_result"
    }
   ],
   "source": [
    "driver.find_elements(By.CSS_SELECTOR, 'td[onclick^=\"cntsViewPN\"]')[1].text"
   ]
  },
  {
   "cell_type": "code",
   "execution_count": 15,
   "id": "7b43d640",
   "metadata": {},
   "outputs": [
    {
     "name": "stdin",
     "output_type": "stream",
     "text": [
      "주거용과 아파트 중 하나를 입력해주세요 아파트\n"
     ]
    }
   ],
   "source": [
    "keyword2 = input(\"주거용과 아파트 중 하나를 입력해주세요\")\n",
    "\n",
    "# 물건종류 선택\n",
    "siCd_dropdown = Select(wait.until(EC.element_to_be_clickable((By.ID, \"ctgr\"))))\n",
    "siCd_dropdown.select_by_visible_text(keyword2)\n"
   ]
  },
  {
   "cell_type": "code",
   "execution_count": 18,
   "id": "6b5a9e5c",
   "metadata": {},
   "outputs": [],
   "source": [
    "# 최대가격 선택\n",
    "siCd_dropdown = Select(wait.until(EC.element_to_be_clickable((By.ID, \"minbAmtEnd\"))))\n",
    "siCd_dropdown.select_by_visible_text('4억')"
   ]
  },
  {
   "cell_type": "code",
   "execution_count": 52,
   "id": "bb4e5b7b",
   "metadata": {},
   "outputs": [],
   "source": [
    "today = date.today()\n",
    "after_month = today + timedelta(days=30)\n",
    "start_str = today.strftime(\"%Y-%m-%d\")\n",
    "end_str = after_month.strftime(\"%Y-%m-%d\")\n",
    "# 시작일자 선택\n",
    "today = datetime.today()\n",
    "gnDt_datepicker = wait.until(EC.element_to_be_clickable((By.ID, \"bgnDt\")))\n",
    "gnDt_datepicker.clear()\n",
    "gnDt_datepicker.send_keys(start_str)\n",
    "\n",
    "# 끝일자 선택\n",
    "endDt_datepicker = wait.until(EC.element_to_be_clickable((By.ID, \"endDt\")))\n",
    "endDt_datepicker.clear()\n",
    "endDt_datepicker.send_keys(end_str)\n",
    "\n",
    "# 건물면적 최대선택\n",
    "bldgSqmEnd_input = wait.until(EC.element_to_be_clickable((By.ID, \"bldgSqmEnd\")))\n",
    "bldgSqmEnd_input.clear()\n",
    "bldgSqmEnd_input.send_keys(85)\n",
    "\n",
    "# 검색버튼\n",
    "time.sleep(3)\n",
    "btnSrch = wait.until(EC.element_to_be_clickable((By.ID, \"btnSrch\")))\n",
    "btnSrch.click()\n",
    "\n",
    "# 리스트 갯수 늘리기\n",
    "dataSize_s_dropdown = Select(wait.until(EC.element_to_be_clickable((By.ID, \"dataSize_s\"))))\n",
    "dataSize_s_dropdown.select_by_visible_text('100')"
   ]
  },
  {
   "cell_type": "code",
   "execution_count": null,
   "id": "1e3971b0",
   "metadata": {},
   "outputs": [],
   "source": [
    "# 끝일자 선택\n",
    "endDt_dropdown = Select(wait.until(EC.element_to_be_clickable((By.ID, \"endDt\"))))\n",
    "endDt_dropdown.select_by_visible_text(end_str)"
   ]
  },
  {
   "cell_type": "code",
   "execution_count": null,
   "id": "89c1da68",
   "metadata": {},
   "outputs": [],
   "source": [
    "# 최대가격 선택\n",
    "siCd_dropdown = Select(wait.until(EC.element_to_be_clickable((By.ID, \"minbAmtEnd\"))))\n",
    "siCd_dropdown.click()\n",
    "siCd_dropdown.select_by_visible_text('4억')"
   ]
  },
  {
   "cell_type": "code",
   "execution_count": 49,
   "id": "b432328c",
   "metadata": {},
   "outputs": [],
   "source": [
    "# 검색버튼\n",
    "time.sleep(2)\n",
    "btnSrch = wait.until(EC.element_to_be_clickable((By.ID, \"btnSrch\")))\n",
    "btnSrch.click()"
   ]
  },
  {
   "cell_type": "code",
   "execution_count": 35,
   "id": "20e9b744",
   "metadata": {},
   "outputs": [],
   "source": [
    "start_str = today.strftime(\"%Y-%m-%d\")\n",
    "end_str = after_month.strftime(\"%Y-%m-%d\")"
   ]
  },
  {
   "cell_type": "code",
   "execution_count": 51,
   "id": "c3e5d12f",
   "metadata": {},
   "outputs": [
    {
     "ename": "NoSuchElementException",
     "evalue": "Message: no such element: Unable to locate element: {\"method\":\"css selector\",\"selector\":\"[id=\"apslAmt_2239070\"]\"}\n  (Session info: chrome=125.0.6422.61); For documentation on this error, please visit: https://www.selenium.dev/documentation/webdriver/troubleshooting/errors#no-such-element-exception\nStacktrace:\n0   chromedriver                        0x0000000100c126b8 chromedriver + 6149816\n1   chromedriver                        0x0000000100c09cda chromedriver + 6114522\n2   chromedriver                        0x0000000100696d5c chromedriver + 400732\n3   chromedriver                        0x00000001006e3aa5 chromedriver + 715429\n4   chromedriver                        0x00000001006e3bf1 chromedriver + 715761\n5   chromedriver                        0x00000001006d8106 chromedriver + 667910\n6   chromedriver                        0x0000000100706cdd chromedriver + 859357\n7   chromedriver                        0x00000001006d7fe8 chromedriver + 667624\n8   chromedriver                        0x0000000100706e6e chromedriver + 859758\n9   chromedriver                        0x00000001007260db chromedriver + 987355\n10  chromedriver                        0x0000000100706a53 chromedriver + 858707\n11  chromedriver                        0x00000001006d66d5 chromedriver + 661205\n12  chromedriver                        0x00000001006d6f6e chromedriver + 663406\n13  chromedriver                        0x0000000100bd3cf0 chromedriver + 5893360\n14  chromedriver                        0x0000000100bd94bc chromedriver + 5915836\n15  chromedriver                        0x0000000100bb58b4 chromedriver + 5769396\n16  chromedriver                        0x0000000100bd9f89 chromedriver + 5918601\n17  chromedriver                        0x0000000100ba6ec4 chromedriver + 5709508\n18  chromedriver                        0x0000000100bfa008 chromedriver + 6049800\n19  chromedriver                        0x0000000100bfa1c7 chromedriver + 6050247\n20  chromedriver                        0x0000000100c0988e chromedriver + 6113422\n21  libsystem_pthread.dylib             0x00007ff8150381d3 _pthread_start + 125\n22  libsystem_pthread.dylib             0x00007ff815033bd3 thread_start + 15\n",
     "output_type": "error",
     "traceback": [
      "\u001b[31m---------------------------------------------------------------------------\u001b[39m",
      "\u001b[31mNoSuchElementException\u001b[39m                    Traceback (most recent call last)",
      "\u001b[36mCell\u001b[39m\u001b[36m \u001b[39m\u001b[32mIn[51]\u001b[39m\u001b[32m, line 9\u001b[39m\n\u001b[32m      7\u001b[39m address = addr_div.get_attribute(\u001b[33m\"\u001b[39m\u001b[33minnerText\u001b[39m\u001b[33m\"\u001b[39m)\n\u001b[32m      8\u001b[39m \u001b[38;5;66;03m# 감정가\u001b[39;00m\n\u001b[32m----> \u001b[39m\u001b[32m9\u001b[39m start_price = \u001b[38;5;28mint\u001b[39m(\u001b[43mitem_list\u001b[49m\u001b[43m.\u001b[49m\u001b[43mfind_element\u001b[49m\u001b[43m(\u001b[49m\u001b[43mBy\u001b[49m\u001b[43m.\u001b[49m\u001b[43mID\u001b[49m\u001b[43m,\u001b[49m\u001b[43m \u001b[49m\u001b[33;43m\"\u001b[39;49m\u001b[33;43mapslAmt_2239070\u001b[39;49m\u001b[33;43m\"\u001b[39;49m\u001b[43m)\u001b[49m.text.replace(\u001b[33m\"\u001b[39m\u001b[33m,\u001b[39m\u001b[33m\"\u001b[39m,\u001b[33m\"\u001b[39m\u001b[33m\"\u001b[39m))\n\u001b[32m     10\u001b[39m \u001b[38;5;66;03m#최저가\u001b[39;00m\n\u001b[32m     11\u001b[39m end_price = \u001b[38;5;28mint\u001b[39m(item_list.find_element(By.ID, \u001b[33m\"\u001b[39m\u001b[33mminbAmt_2239070\u001b[39m\u001b[33m\"\u001b[39m).text.replace(\u001b[33m\"\u001b[39m\u001b[33m,\u001b[39m\u001b[33m\"\u001b[39m,\u001b[33m\"\u001b[39m\u001b[33m\"\u001b[39m))\n",
      "\u001b[36mFile \u001b[39m\u001b[32m~/miniforge3/envs/fintech/lib/python3.12/site-packages/selenium/webdriver/remote/webelement.py:601\u001b[39m, in \u001b[36mWebElement.find_element\u001b[39m\u001b[34m(self, by, value)\u001b[39m\n\u001b[32m    575\u001b[39m \u001b[38;5;250m\u001b[39m\u001b[33;03m\"\"\"Find an element given a By strategy and locator.\u001b[39;00m\n\u001b[32m    576\u001b[39m \n\u001b[32m    577\u001b[39m \u001b[33;03mParameters:\u001b[39;00m\n\u001b[32m   (...)\u001b[39m\u001b[32m    598\u001b[39m \u001b[33;03m    The first matching `WebElement` found on the page.\u001b[39;00m\n\u001b[32m    599\u001b[39m \u001b[33;03m\"\"\"\u001b[39;00m\n\u001b[32m    600\u001b[39m by, value = \u001b[38;5;28mself\u001b[39m._parent.locator_converter.convert(by, value)\n\u001b[32m--> \u001b[39m\u001b[32m601\u001b[39m \u001b[38;5;28;01mreturn\u001b[39;00m \u001b[38;5;28;43mself\u001b[39;49m\u001b[43m.\u001b[49m\u001b[43m_execute\u001b[49m\u001b[43m(\u001b[49m\u001b[43mCommand\u001b[49m\u001b[43m.\u001b[49m\u001b[43mFIND_CHILD_ELEMENT\u001b[49m\u001b[43m,\u001b[49m\u001b[43m \u001b[49m\u001b[43m{\u001b[49m\u001b[33;43m\"\u001b[39;49m\u001b[33;43musing\u001b[39;49m\u001b[33;43m\"\u001b[39;49m\u001b[43m:\u001b[49m\u001b[43m \u001b[49m\u001b[43mby\u001b[49m\u001b[43m,\u001b[49m\u001b[43m \u001b[49m\u001b[33;43m\"\u001b[39;49m\u001b[33;43mvalue\u001b[39;49m\u001b[33;43m\"\u001b[39;49m\u001b[43m:\u001b[49m\u001b[43m \u001b[49m\u001b[43mvalue\u001b[49m\u001b[43m}\u001b[49m\u001b[43m)\u001b[49m[\u001b[33m\"\u001b[39m\u001b[33mvalue\u001b[39m\u001b[33m\"\u001b[39m]\n",
      "\u001b[36mFile \u001b[39m\u001b[32m~/miniforge3/envs/fintech/lib/python3.12/site-packages/selenium/webdriver/remote/webelement.py:572\u001b[39m, in \u001b[36mWebElement._execute\u001b[39m\u001b[34m(self, command, params)\u001b[39m\n\u001b[32m    570\u001b[39m     params = {}\n\u001b[32m    571\u001b[39m params[\u001b[33m\"\u001b[39m\u001b[33mid\u001b[39m\u001b[33m\"\u001b[39m] = \u001b[38;5;28mself\u001b[39m._id\n\u001b[32m--> \u001b[39m\u001b[32m572\u001b[39m \u001b[38;5;28;01mreturn\u001b[39;00m \u001b[38;5;28;43mself\u001b[39;49m\u001b[43m.\u001b[49m\u001b[43m_parent\u001b[49m\u001b[43m.\u001b[49m\u001b[43mexecute\u001b[49m\u001b[43m(\u001b[49m\u001b[43mcommand\u001b[49m\u001b[43m,\u001b[49m\u001b[43m \u001b[49m\u001b[43mparams\u001b[49m\u001b[43m)\u001b[49m\n",
      "\u001b[36mFile \u001b[39m\u001b[32m~/miniforge3/envs/fintech/lib/python3.12/site-packages/selenium/webdriver/remote/webdriver.py:429\u001b[39m, in \u001b[36mWebDriver.execute\u001b[39m\u001b[34m(self, driver_command, params)\u001b[39m\n\u001b[32m    427\u001b[39m response = \u001b[38;5;28mself\u001b[39m.command_executor.execute(driver_command, params)\n\u001b[32m    428\u001b[39m \u001b[38;5;28;01mif\u001b[39;00m response:\n\u001b[32m--> \u001b[39m\u001b[32m429\u001b[39m     \u001b[38;5;28;43mself\u001b[39;49m\u001b[43m.\u001b[49m\u001b[43merror_handler\u001b[49m\u001b[43m.\u001b[49m\u001b[43mcheck_response\u001b[49m\u001b[43m(\u001b[49m\u001b[43mresponse\u001b[49m\u001b[43m)\u001b[49m\n\u001b[32m    430\u001b[39m     response[\u001b[33m\"\u001b[39m\u001b[33mvalue\u001b[39m\u001b[33m\"\u001b[39m] = \u001b[38;5;28mself\u001b[39m._unwrap_value(response.get(\u001b[33m\"\u001b[39m\u001b[33mvalue\u001b[39m\u001b[33m\"\u001b[39m, \u001b[38;5;28;01mNone\u001b[39;00m))\n\u001b[32m    431\u001b[39m     \u001b[38;5;28;01mreturn\u001b[39;00m response\n",
      "\u001b[36mFile \u001b[39m\u001b[32m~/miniforge3/envs/fintech/lib/python3.12/site-packages/selenium/webdriver/remote/errorhandler.py:232\u001b[39m, in \u001b[36mErrorHandler.check_response\u001b[39m\u001b[34m(self, response)\u001b[39m\n\u001b[32m    230\u001b[39m         alert_text = value[\u001b[33m\"\u001b[39m\u001b[33malert\u001b[39m\u001b[33m\"\u001b[39m].get(\u001b[33m\"\u001b[39m\u001b[33mtext\u001b[39m\u001b[33m\"\u001b[39m)\n\u001b[32m    231\u001b[39m     \u001b[38;5;28;01mraise\u001b[39;00m exception_class(message, screen, stacktrace, alert_text)  \u001b[38;5;66;03m# type: ignore[call-arg]  # mypy is not smart enough here\u001b[39;00m\n\u001b[32m--> \u001b[39m\u001b[32m232\u001b[39m \u001b[38;5;28;01mraise\u001b[39;00m exception_class(message, screen, stacktrace)\n",
      "\u001b[31mNoSuchElementException\u001b[39m: Message: no such element: Unable to locate element: {\"method\":\"css selector\",\"selector\":\"[id=\"apslAmt_2239070\"]\"}\n  (Session info: chrome=125.0.6422.61); For documentation on this error, please visit: https://www.selenium.dev/documentation/webdriver/troubleshooting/errors#no-such-element-exception\nStacktrace:\n0   chromedriver                        0x0000000100c126b8 chromedriver + 6149816\n1   chromedriver                        0x0000000100c09cda chromedriver + 6114522\n2   chromedriver                        0x0000000100696d5c chromedriver + 400732\n3   chromedriver                        0x00000001006e3aa5 chromedriver + 715429\n4   chromedriver                        0x00000001006e3bf1 chromedriver + 715761\n5   chromedriver                        0x00000001006d8106 chromedriver + 667910\n6   chromedriver                        0x0000000100706cdd chromedriver + 859357\n7   chromedriver                        0x00000001006d7fe8 chromedriver + 667624\n8   chromedriver                        0x0000000100706e6e chromedriver + 859758\n9   chromedriver                        0x00000001007260db chromedriver + 987355\n10  chromedriver                        0x0000000100706a53 chromedriver + 858707\n11  chromedriver                        0x00000001006d66d5 chromedriver + 661205\n12  chromedriver                        0x00000001006d6f6e chromedriver + 663406\n13  chromedriver                        0x0000000100bd3cf0 chromedriver + 5893360\n14  chromedriver                        0x0000000100bd94bc chromedriver + 5915836\n15  chromedriver                        0x0000000100bb58b4 chromedriver + 5769396\n16  chromedriver                        0x0000000100bd9f89 chromedriver + 5918601\n17  chromedriver                        0x0000000100ba6ec4 chromedriver + 5709508\n18  chromedriver                        0x0000000100bfa008 chromedriver + 6049800\n19  chromedriver                        0x0000000100bfa1c7 chromedriver + 6050247\n20  chromedriver                        0x0000000100c0988e chromedriver + 6113422\n21  libsystem_pthread.dylib             0x00007ff8150381d3 _pthread_start + 125\n22  libsystem_pthread.dylib             0x00007ff815033bd3 thread_start + 15\n"
     ]
    }
   ],
   "source": [
    "result1 = []\n",
    "for item_list in driver.find_elements(By.CSS_SELECTOR, '#lsTbody > tr.hand'):\n",
    "    # 사건번호\n",
    "    num = item_list.find_element(By.CSS_SELECTOR, \".clear.f15.bold\").text\n",
    "    # 주소\n",
    "    addr_div = item_list.find_element(By.CSS_SELECTOR, 'div[id^=\"adrs_\"]')\n",
    "    address = addr_div.get_attribute(\"innerText\")\n",
    "    # 감정가\n",
    "    start_price = int(item_list.find_element(By.ID, \"apslAmt_2239070\").text.replace(\",\",\"\"))\n",
    "    #최저가\n",
    "    end_price = int(item_list.find_element(By.ID, \"minbAmt_2239070\").text.replace(\",\",\"\"))\n",
    "    # 입찰일\n",
    "    the_date = item_list.find_element(By.ID, \"bidDt_2239070\").text\n",
    "    # 조회수\n",
    "    pop = item_list.find_element(By.XPATH, '//tr[@id=\"Tr_1\"]//div[@title=\"[관] : 관심수\"]/preceding-sibling::div[1]').text\n",
    "    print(num,address,start_price,end_price,the_date,pop)\n"
   ]
  },
  {
   "cell_type": "code",
   "execution_count": 83,
   "id": "502f6152-d19e-450d-8305-8bd134fc7046",
   "metadata": {},
   "outputs": [],
   "source": [
    "\n",
    "main_window = driver.current_window_handle\n",
    "\n",
    "# 리스트버튼\n",
    "time.sleep(2)\n",
    "clickable = driver.find_element(By.CSS_SELECTOR, 'td[onclick^=\"cntsViewPN\"]')\n",
    "clickable.click()\n",
    "\n",
    "# 새로운 창으로 전환\n",
    "WebDriverWait(driver, 10).until(lambda d: len(d.window_handles) > 1)\n",
    "new_window = [window for window in driver.window_handles if window != main_window][0]\n",
    "driver.switch_to.window(new_window)\n",
    "\n",
    "# 데이터 추출\n",
    "\n",
    "\n",
    "# 팝업창 닫기\n",
    "driver.close()\n",
    "\n",
    "# 다시 원래 창으로 돌아가기\n",
    "driver.switch_to.window(main_window)\n"
   ]
  },
  {
   "cell_type": "code",
   "execution_count": 87,
   "id": "2ed02d79-6a4f-4798-8aba-69f238c8ddfe",
   "metadata": {},
   "outputs": [],
   "source": [
    "options = Options()\n",
    "options.add_experimental_option(\"detach\", True)\n",
    "options.add_argument(\"start-maximized\")\n",
    "options.add_argument(\"Chrome/135.0.0.0\")\n",
    "options.add_argument(\"lang=ko_KR\")\n",
    "\n",
    "\n",
    "driver = webdriver.Chrome(\n",
    "        service=Service(ChromeDriverManager().install()),\n",
    "        options=options\n",
    "        )\n",
    "\n",
    "driver.get('https://www.tankauction.com/ca/caView.php?tid=2273798&chkNo=1&TotNo=49')\n",
    "\n",
    "wait = WebDriverWait(driver, 10)"
   ]
  },
  {
   "cell_type": "code",
   "execution_count": null,
   "id": "114dab15-d5c8-4558-a26c-06fa3d2d386c",
   "metadata": {},
   "outputs": [],
   "source": [
    "driver.find_element(By.CSS_SELECTOR, '#hitInfo')"
   ]
  },
  {
   "cell_type": "code",
   "execution_count": null,
   "id": "c3926ce9-6f89-4399-86cc-8b82ba59b335",
   "metadata": {},
   "outputs": [],
   "source": []
  },
  {
   "cell_type": "code",
   "execution_count": null,
   "id": "833dce02-95bd-49ed-91fe-caf3d01cb253",
   "metadata": {},
   "outputs": [],
   "source": []
  },
  {
   "cell_type": "code",
   "execution_count": null,
   "id": "3434ce48-caf0-4768-8ea2-aea31de53444",
   "metadata": {},
   "outputs": [],
   "source": []
  },
  {
   "cell_type": "code",
   "execution_count": 86,
   "id": "8ca6c058-e8b0-4cf9-bc2d-bbe018865c5e",
   "metadata": {},
   "outputs": [
    {
     "ename": "NoSuchElementException",
     "evalue": "Message: no such element: Unable to locate element: {\"method\":\"css selector\",\"selector\":\"#hitInfo\"}\n  (Session info: chrome=125.0.6422.61); For documentation on this error, please visit: https://www.selenium.dev/documentation/webdriver/troubleshooting/errors#no-such-element-exception\nStacktrace:\n0   chromedriver                        0x000000010f6726b8 chromedriver + 6149816\n1   chromedriver                        0x000000010f669cda chromedriver + 6114522\n2   chromedriver                        0x000000010f0f6d5c chromedriver + 400732\n3   chromedriver                        0x000000010f143aa5 chromedriver + 715429\n4   chromedriver                        0x000000010f143bf1 chromedriver + 715761\n5   chromedriver                        0x000000010f188dd4 chromedriver + 998868\n6   chromedriver                        0x000000010f166cdd chromedriver + 859357\n7   chromedriver                        0x000000010f1860db chromedriver + 987355\n8   chromedriver                        0x000000010f166a53 chromedriver + 858707\n9   chromedriver                        0x000000010f1366d5 chromedriver + 661205\n10  chromedriver                        0x000000010f136f6e chromedriver + 663406\n11  chromedriver                        0x000000010f633cf0 chromedriver + 5893360\n12  chromedriver                        0x000000010f6394bc chromedriver + 5915836\n13  chromedriver                        0x000000010f6158b4 chromedriver + 5769396\n14  chromedriver                        0x000000010f639f89 chromedriver + 5918601\n15  chromedriver                        0x000000010f606ec4 chromedriver + 5709508\n16  chromedriver                        0x000000010f65a008 chromedriver + 6049800\n17  chromedriver                        0x000000010f65a1c7 chromedriver + 6050247\n18  chromedriver                        0x000000010f66988e chromedriver + 6113422\n19  libsystem_pthread.dylib             0x00007ff8150381d3 _pthread_start + 125\n20  libsystem_pthread.dylib             0x00007ff815033bd3 thread_start + 15\n",
     "output_type": "error",
     "traceback": [
      "\u001b[31m---------------------------------------------------------------------------\u001b[39m",
      "\u001b[31mNoSuchElementException\u001b[39m                    Traceback (most recent call last)",
      "\u001b[36mCell\u001b[39m\u001b[36m \u001b[39m\u001b[32mIn[86]\u001b[39m\u001b[32m, line 1\u001b[39m\n\u001b[32m----> \u001b[39m\u001b[32m1\u001b[39m \u001b[43mdriver\u001b[49m\u001b[43m.\u001b[49m\u001b[43mfind_element\u001b[49m\u001b[43m(\u001b[49m\u001b[43mBy\u001b[49m\u001b[43m.\u001b[49m\u001b[43mCSS_SELECTOR\u001b[49m\u001b[43m,\u001b[49m\u001b[43m \u001b[49m\u001b[33;43m'\u001b[39;49m\u001b[33;43m#hitInfo\u001b[39;49m\u001b[33;43m'\u001b[39;49m\u001b[43m)\u001b[49m\n",
      "\u001b[36mFile \u001b[39m\u001b[32m~/miniforge3/envs/fintech/lib/python3.12/site-packages/selenium/webdriver/remote/webdriver.py:898\u001b[39m, in \u001b[36mWebDriver.find_element\u001b[39m\u001b[34m(self, by, value)\u001b[39m\n\u001b[32m    895\u001b[39m         \u001b[38;5;28;01mraise\u001b[39;00m NoSuchElementException(\u001b[33mf\u001b[39m\u001b[33m\"\u001b[39m\u001b[33mCannot locate relative element with: \u001b[39m\u001b[38;5;132;01m{\u001b[39;00mby.root\u001b[38;5;132;01m}\u001b[39;00m\u001b[33m\"\u001b[39m)\n\u001b[32m    896\u001b[39m     \u001b[38;5;28;01mreturn\u001b[39;00m elements[\u001b[32m0\u001b[39m]\n\u001b[32m--> \u001b[39m\u001b[32m898\u001b[39m \u001b[38;5;28;01mreturn\u001b[39;00m \u001b[38;5;28;43mself\u001b[39;49m\u001b[43m.\u001b[49m\u001b[43mexecute\u001b[49m\u001b[43m(\u001b[49m\u001b[43mCommand\u001b[49m\u001b[43m.\u001b[49m\u001b[43mFIND_ELEMENT\u001b[49m\u001b[43m,\u001b[49m\u001b[43m \u001b[49m\u001b[43m{\u001b[49m\u001b[33;43m\"\u001b[39;49m\u001b[33;43musing\u001b[39;49m\u001b[33;43m\"\u001b[39;49m\u001b[43m:\u001b[49m\u001b[43m \u001b[49m\u001b[43mby\u001b[49m\u001b[43m,\u001b[49m\u001b[43m \u001b[49m\u001b[33;43m\"\u001b[39;49m\u001b[33;43mvalue\u001b[39;49m\u001b[33;43m\"\u001b[39;49m\u001b[43m:\u001b[49m\u001b[43m \u001b[49m\u001b[43mvalue\u001b[49m\u001b[43m}\u001b[49m\u001b[43m)\u001b[49m[\u001b[33m\"\u001b[39m\u001b[33mvalue\u001b[39m\u001b[33m\"\u001b[39m]\n",
      "\u001b[36mFile \u001b[39m\u001b[32m~/miniforge3/envs/fintech/lib/python3.12/site-packages/selenium/webdriver/remote/webdriver.py:429\u001b[39m, in \u001b[36mWebDriver.execute\u001b[39m\u001b[34m(self, driver_command, params)\u001b[39m\n\u001b[32m    427\u001b[39m response = \u001b[38;5;28mself\u001b[39m.command_executor.execute(driver_command, params)\n\u001b[32m    428\u001b[39m \u001b[38;5;28;01mif\u001b[39;00m response:\n\u001b[32m--> \u001b[39m\u001b[32m429\u001b[39m     \u001b[38;5;28;43mself\u001b[39;49m\u001b[43m.\u001b[49m\u001b[43merror_handler\u001b[49m\u001b[43m.\u001b[49m\u001b[43mcheck_response\u001b[49m\u001b[43m(\u001b[49m\u001b[43mresponse\u001b[49m\u001b[43m)\u001b[49m\n\u001b[32m    430\u001b[39m     response[\u001b[33m\"\u001b[39m\u001b[33mvalue\u001b[39m\u001b[33m\"\u001b[39m] = \u001b[38;5;28mself\u001b[39m._unwrap_value(response.get(\u001b[33m\"\u001b[39m\u001b[33mvalue\u001b[39m\u001b[33m\"\u001b[39m, \u001b[38;5;28;01mNone\u001b[39;00m))\n\u001b[32m    431\u001b[39m     \u001b[38;5;28;01mreturn\u001b[39;00m response\n",
      "\u001b[36mFile \u001b[39m\u001b[32m~/miniforge3/envs/fintech/lib/python3.12/site-packages/selenium/webdriver/remote/errorhandler.py:232\u001b[39m, in \u001b[36mErrorHandler.check_response\u001b[39m\u001b[34m(self, response)\u001b[39m\n\u001b[32m    230\u001b[39m         alert_text = value[\u001b[33m\"\u001b[39m\u001b[33malert\u001b[39m\u001b[33m\"\u001b[39m].get(\u001b[33m\"\u001b[39m\u001b[33mtext\u001b[39m\u001b[33m\"\u001b[39m)\n\u001b[32m    231\u001b[39m     \u001b[38;5;28;01mraise\u001b[39;00m exception_class(message, screen, stacktrace, alert_text)  \u001b[38;5;66;03m# type: ignore[call-arg]  # mypy is not smart enough here\u001b[39;00m\n\u001b[32m--> \u001b[39m\u001b[32m232\u001b[39m \u001b[38;5;28;01mraise\u001b[39;00m exception_class(message, screen, stacktrace)\n",
      "\u001b[31mNoSuchElementException\u001b[39m: Message: no such element: Unable to locate element: {\"method\":\"css selector\",\"selector\":\"#hitInfo\"}\n  (Session info: chrome=125.0.6422.61); For documentation on this error, please visit: https://www.selenium.dev/documentation/webdriver/troubleshooting/errors#no-such-element-exception\nStacktrace:\n0   chromedriver                        0x000000010f6726b8 chromedriver + 6149816\n1   chromedriver                        0x000000010f669cda chromedriver + 6114522\n2   chromedriver                        0x000000010f0f6d5c chromedriver + 400732\n3   chromedriver                        0x000000010f143aa5 chromedriver + 715429\n4   chromedriver                        0x000000010f143bf1 chromedriver + 715761\n5   chromedriver                        0x000000010f188dd4 chromedriver + 998868\n6   chromedriver                        0x000000010f166cdd chromedriver + 859357\n7   chromedriver                        0x000000010f1860db chromedriver + 987355\n8   chromedriver                        0x000000010f166a53 chromedriver + 858707\n9   chromedriver                        0x000000010f1366d5 chromedriver + 661205\n10  chromedriver                        0x000000010f136f6e chromedriver + 663406\n11  chromedriver                        0x000000010f633cf0 chromedriver + 5893360\n12  chromedriver                        0x000000010f6394bc chromedriver + 5915836\n13  chromedriver                        0x000000010f6158b4 chromedriver + 5769396\n14  chromedriver                        0x000000010f639f89 chromedriver + 5918601\n15  chromedriver                        0x000000010f606ec4 chromedriver + 5709508\n16  chromedriver                        0x000000010f65a008 chromedriver + 6049800\n17  chromedriver                        0x000000010f65a1c7 chromedriver + 6050247\n18  chromedriver                        0x000000010f66988e chromedriver + 6113422\n19  libsystem_pthread.dylib             0x00007ff8150381d3 _pthread_start + 125\n20  libsystem_pthread.dylib             0x00007ff815033bd3 thread_start + 15\n"
     ]
    }
   ],
   "source": [
    "driver.find_element(By.CSS_SELECTOR, '#hitInfo')"
   ]
  },
  {
   "cell_type": "code",
   "execution_count": null,
   "id": "4b04d9cb-6a3d-4919-a3e4-e67a29bf4a75",
   "metadata": {},
   "outputs": [],
   "source": []
  },
  {
   "cell_type": "code",
   "execution_count": null,
   "id": "786b42ba-0d5c-415d-8a25-b8e3fcd7f043",
   "metadata": {},
   "outputs": [],
   "source": []
  },
  {
   "cell_type": "code",
   "execution_count": null,
   "id": "a99167d2-0837-4e3a-9af5-1cfc4c4906bc",
   "metadata": {},
   "outputs": [],
   "source": [
    "driver.switch_to.window(driver.window_handles[-1])  "
   ]
  },
  {
   "cell_type": "code",
   "execution_count": 79,
   "id": "e18ef28d-e4bb-4c1c-b85d-10db87577579",
   "metadata": {},
   "outputs": [
    {
     "name": "stdout",
     "output_type": "stream",
     "text": [
      "2024-52691 서울 강동구 길동 387-5, 7층709호 (길동,길동청광플러스원큐브1차) 외 1필지 120000000 120000000 25.04.28 \n",
      "2024-54246 서울 송파구 가락동 78-1, 15층1507호 (가락동,한화오벨리스크) 189000000 189000000 25.04.28 \n",
      "2023-4493(2) 서울 동대문구 이문동 327-7, 14층1412호 (이문동,세진빌딩) 외 6필지 329000000 263200000 25.04.29 \n",
      "2023-125267 서울 영등포구 영등포동1가 145, 제9층 제913호 134000000 43909000 25.04.29 \n",
      "2024-3282 서울 도봉구 창동 811, 101동 2층205호 (도봉동,대동아파트) 485000000 388000000 25.04.29 \n",
      "2024-106495 서울 도봉구 도봉동 641, 114동 11층1105호 (도봉동,서원아파트) 외 1필지 399000000 319200000 25.04.29 \n",
      "2024-109326 서울 동대문구 전농동 6, 16동 1층117호 (전농동,전농우성아파트) 외 1필지 536000000 343040000 25.04.29 \n",
      "2024-111985 서울 도봉구 방학동 272, 16동 12층1210호 (방학동,신동아아파트) 374000000 299200000 25.04.29 \n",
      "2024-112223 서울 노원구 상계동 639, 103동 12층1213호 (상계동,보람아파트) 외 1필지 411000000 328800000 25.04.29 \n",
      "2024-114462 서울 강서구 방화동 832, 제303동 제4층 제408호 (방화동, 방화아파트) 189000000 151200000 25.04.29 \n",
      "2024-142900 서울 강서구 화곡동 938-23, 제8층 제802호 (화곡동, 에스엠케이아파트) 294000000 294000000 25.04.30 \n",
      "2023-107195 서울 관악구 신림동 1421-1, 10층1004호 (신림동,신림큐브) 140000000 15032000 25.05.01 \n",
      "2023-126956 서울 강서구 공항동 1378, 제101동 제4층 제404호 (공항동, 발쿠치네하우스) 159000000 26676000 25.05.01 \n",
      "2024-139249 서울 강서구 화곡동 918-14, 제9층 제902호 (화곡동, 도양라비앙아파트) 397000000 203264000 25.05.01 \n",
      "2022-57052 서울 용산구 이태원동 253-7, 6층702호 (이태원동,어반메시 남산) 1911000000 53790000 25.05.07 \n",
      "2024-56992 서울 은평구 응암동 227-22, 1층101호 317000000 202880000 25.05.07 \n",
      "2024-57919 서울 서대문구 홍제동 156-200, 나동 3층310호 500000000 400000000 25.05.07 \n",
      "2024-58202 서울 서대문구 창천동 510-2, 6층612호 (창천동,쓰리알유시티아파트) 외 3필지 230000000 184000000 25.05.07 \n",
      "2024-60502 서울 서대문구 홍은동 454, 105동 2층202호 (홍은동,극동아파트) 535000000 342400000 25.05.07 \n",
      "2024-116271 서울 중구 오장동 206-34, 14층1401호 (오장동,이지마루오장) 외 2필지 550000000 281600000 25.05.08 \n",
      "2022-113222 서울 강북구 수유동 405-5, 2층210호 외 1필지 382000000 382000000 25.05.13 \n",
      "2023-2985 서울 노원구 월계동 556, 208동 4층406호 (월계동,월계2단지주공아파트) 외 1필지 400000000 256000000 25.05.13 \n",
      "2023-119401 서울 도봉구 방학동 271-1, 21동 8층808호 (방학동,신동아아파트) 328000000 167936000 25.05.13 \n",
      "2024-4322 서울 도봉구 도봉동 63, 104동 13층1306호 (도봉동,힐스테이트도봉역웰가) 594000000 380160000 25.05.13 \n",
      "2024-113226 서울 동대문구 장안동 372-12, 10층 1001호 (장안동,아르떼하임) 284000000 181760000 25.05.13 \n",
      "2024-114755 서울 노원구 상계동 624, 1613동 1층 101호 (상계동,상계주공아파트) 460000000 368000000 25.05.13 \n",
      "2024-117099 서울 도봉구 도봉동 641, 107동 14층1403호 (도봉동,서원아파트) 외 1필지 375000000 300000000 25.05.13 \n",
      "2024-117365 서울 노원구 중계동 369, 201동 10층1009호 (중계동,중계2단지주공아파트) 386000000 308800000 25.05.13 \n",
      "2024-118191 서울 동대문구 이문동 327-7, 9층909호 (이문동,세진빌딩) 외 6필지 207000000 207000000 25.05.13 \n",
      "2024-118269 서울 도봉구 창동 373, 409동 6층607호 (창동,주공아파트) 외 1필지 85000000 68000000 25.05.13 \n",
      "2024-118369 서울 관악구 신림동 1703-1, 6동 3층304호 (신림동,건영아파트) 외 1필지 334000000 334000000 25.05.13 \n",
      "2024-120355 서울 관악구 신림동 1421-1, 6층613호 (신림동,신림큐브) 130000000 130000000 25.05.13 \n",
      "2024-103899 서울 강서구 화곡동 922-17, 제3층 제303호 (화곡동, 우공아파트) 외 1필지 231000000 48444000 25.05.14 \n",
      "2024-108283 서울 구로구 고척동 97-3, 제이동 제2층 제201호 299000000 239200000 25.05.15 \n",
      "2024-110224 서울 강서구 화곡동 894-12, 제8층 제804호 273000000 111821000 25.05.15 \n",
      "2024-112145 서울 강서구 화곡동 924-1, 제7층 제705호 (화곡동, 리치아파트101동) 231000000 94618000 25.05.15 \n",
      "2024-119887 서울 강서구 화곡동 914-1, 제4층 제409호 (화곡동, 일성스카이빌) 외 4필지 470000000 376000000 25.05.15 \n",
      "2023-60109 서울 은평구 갈현동 548, 4층426호 (갈현동,(유)갈현상가) 120000000 61440000 25.05.20 \n",
      "2024-54668 서울 은평구 갈현동 548, 4층410호 (갈현동,(유)갈현상가) 외 2개호 123000000 50380800 25.05.20 \n",
      "2024-58929 서울 은평구 갈현동 548, 5층503호 (갈현동,(유)갈현상가) 125000000 80000000 25.05.20 \n",
      "2024-107016 서울 강북구 수유동 269-25, 8층801호 (수유동,청솔아파트) 160000000 128000000 25.05.20 \n",
      "2024-110982 서울 강북구 수유동 52-27, 제5층 제501호 (수유동,현대맨션아파트) 322000000 257600000 25.05.20 \n",
      "2024-112049 서울 중랑구 묵동 13, 제404동 제2층 제202호 (묵동,신내아파트) 360000000 288000000 25.05.20 \n",
      "2024-101992 서울 강서구 화곡동 938-23, 제9층 제903호 (화곡동, 에스엠케이아파트) 273000000 174720000 25.05.21 \n",
      "2024-107648(1) 서울 양천구 신월동 456-1, 제2층 제203호 (신월동, 양천홈타운1차) 외 1필지 299000000 153088000 25.05.22 \n",
      "2024-107648(5) 서울 양천구 신월동 456-1, 제7층 제701호 (신월동, 양천홈타운1차) 외 1필지 333000000 266400000 25.05.22 \n",
      "2024-110378 서울 영등포구 영등포동1가 145, 제12층 제1213호 127000000 81280000 25.05.22 \n",
      "2024-116950 서울 관악구 신림동 534-1, 6층603호 (신림동,아데나534) 127000000 65024000 25.05.22 \n",
      "2024-119461 서울 관악구 신림동 1708, 101동 501호 (신림동,한림아파트) 365000000 292000000 25.05.22 \n"
     ]
    }
   ],
   "source": [
    "result1 = []\n",
    "for item_list in driver.find_elements(By.CSS_SELECTOR, '#lsTbody > tr.hand'):\n",
    "    try:\n",
    "        # 고유 물건 ID 추출 (예: 2239070)\n",
    "        tid = item_list.find_element(By.CSS_SELECTOR, 'input[id^=\"Tid_\"]').get_attribute(\"value\")\n",
    "        \n",
    "        # 사건번호\n",
    "        num = item_list.find_element(By.CSS_SELECTOR, \".clear.f15.bold\").text\n",
    "\n",
    "        # 주소\n",
    "        addr_div = item_list.find_element(By.CSS_SELECTOR, f'div#adrs_{tid}')\n",
    "        address = addr_div.get_attribute(\"innerText\")\n",
    "\n",
    "        # 감정가\n",
    "        start_price = int(item_list.find_element(By.ID, f\"apslAmt_{tid}\").text.replace(\",\", \"\"))\n",
    "\n",
    "        # 최저가\n",
    "        end_price = int(item_list.find_element(By.ID, f\"minbAmt_{tid}\").text.replace(\",\", \"\"))\n",
    "\n",
    "        # 입찰일\n",
    "        the_date = item_list.find_element(By.ID, f\"bidDt_{tid}\").text\n",
    "\n",
    "        # 결과 저장\n",
    "        result1.append([num, address, start_price, end_price, the_date, pop])\n",
    "\n",
    "\n",
    "        \n",
    "\n",
    "        # 출력\n",
    "        print(num, address, start_price, end_price, the_date)\n",
    "\n",
    "    except Exception as e:\n",
    "        print(\"❗ 오류 발생:\", e)"
   ]
  },
  {
   "cell_type": "code",
   "execution_count": 106,
   "id": "af43f524-08cf-4322-b5ff-012114e0641f",
   "metadata": {},
   "outputs": [
    {
     "data": {
      "text/plain": [
       "''"
      ]
     },
     "execution_count": 106,
     "metadata": {},
     "output_type": "execute_result"
    }
   ],
   "source": [
    "driver.find_elements(By.CSS_SELECTOR, \".hand\")[1].get_attribute(\"innerText\")"
   ]
  },
  {
   "cell_type": "code",
   "execution_count": 44,
   "id": "b9a7ad3e-80f6-4c82-bee9-764926c3f9a0",
   "metadata": {},
   "outputs": [
    {
     "ename": "NoSuchElementException",
     "evalue": "Message: no such element: Unable to locate element: {\"method\":\"css selector\",\"selector\":\"[id=\"adrs_2239070\"]\"}\n  (Session info: chrome=125.0.6422.61); For documentation on this error, please visit: https://www.selenium.dev/documentation/webdriver/troubleshooting/errors#no-such-element-exception\nStacktrace:\n0   chromedriver                        0x000000010b8526b8 chromedriver + 6149816\n1   chromedriver                        0x000000010b849cda chromedriver + 6114522\n2   chromedriver                        0x000000010b2d6d5c chromedriver + 400732\n3   chromedriver                        0x000000010b323aa5 chromedriver + 715429\n4   chromedriver                        0x000000010b323bf1 chromedriver + 715761\n5   chromedriver                        0x000000010b318106 chromedriver + 667910\n6   chromedriver                        0x000000010b346cdd chromedriver + 859357\n7   chromedriver                        0x000000010b317fe8 chromedriver + 667624\n8   chromedriver                        0x000000010b346e6e chromedriver + 859758\n9   chromedriver                        0x000000010b3660db chromedriver + 987355\n10  chromedriver                        0x000000010b346a53 chromedriver + 858707\n11  chromedriver                        0x000000010b3166d5 chromedriver + 661205\n12  chromedriver                        0x000000010b316f6e chromedriver + 663406\n13  chromedriver                        0x000000010b813cf0 chromedriver + 5893360\n14  chromedriver                        0x000000010b8194bc chromedriver + 5915836\n15  chromedriver                        0x000000010b7f58b4 chromedriver + 5769396\n16  chromedriver                        0x000000010b819f89 chromedriver + 5918601\n17  chromedriver                        0x000000010b7e6ec4 chromedriver + 5709508\n18  chromedriver                        0x000000010b83a008 chromedriver + 6049800\n19  chromedriver                        0x000000010b83a1c7 chromedriver + 6050247\n20  chromedriver                        0x000000010b84988e chromedriver + 6113422\n21  libsystem_pthread.dylib             0x00007ff8150381d3 _pthread_start + 125\n22  libsystem_pthread.dylib             0x00007ff815033bd3 thread_start + 15\n",
     "output_type": "error",
     "traceback": [
      "\u001b[31m---------------------------------------------------------------------------\u001b[39m",
      "\u001b[31mNoSuchElementException\u001b[39m                    Traceback (most recent call last)",
      "\u001b[36mCell\u001b[39m\u001b[36m \u001b[39m\u001b[32mIn[44]\u001b[39m\u001b[32m, line 1\u001b[39m\n\u001b[32m----> \u001b[39m\u001b[32m1\u001b[39m \u001b[43mdriver\u001b[49m\u001b[43m.\u001b[49m\u001b[43mfind_elements\u001b[49m\u001b[43m(\u001b[49m\u001b[43mBy\u001b[49m\u001b[43m.\u001b[49m\u001b[43mCSS_SELECTOR\u001b[49m\u001b[43m,\u001b[49m\u001b[43m \u001b[49m\u001b[33;43m'\u001b[39;49m\u001b[33;43m#lsTbody > tr.hand\u001b[39;49m\u001b[33;43m'\u001b[39;49m\u001b[43m)\u001b[49m\u001b[43m[\u001b[49m\u001b[32;43m60\u001b[39;49m\u001b[43m]\u001b[49m\u001b[43m.\u001b[49m\u001b[43mfind_element\u001b[49m\u001b[43m(\u001b[49m\u001b[43mBy\u001b[49m\u001b[43m.\u001b[49m\u001b[43mID\u001b[49m\u001b[43m,\u001b[49m\u001b[43m \u001b[49m\u001b[33;43m\"\u001b[39;49m\u001b[33;43madrs_2239070\u001b[39;49m\u001b[33;43m\"\u001b[39;49m\u001b[43m)\u001b[49m.get_attribute(\u001b[33m\"\u001b[39m\u001b[33minnerText\u001b[39m\u001b[33m\"\u001b[39m)\n",
      "\u001b[36mFile \u001b[39m\u001b[32m~/miniforge3/envs/fintech/lib/python3.12/site-packages/selenium/webdriver/remote/webelement.py:601\u001b[39m, in \u001b[36mWebElement.find_element\u001b[39m\u001b[34m(self, by, value)\u001b[39m\n\u001b[32m    575\u001b[39m \u001b[38;5;250m\u001b[39m\u001b[33;03m\"\"\"Find an element given a By strategy and locator.\u001b[39;00m\n\u001b[32m    576\u001b[39m \n\u001b[32m    577\u001b[39m \u001b[33;03mParameters:\u001b[39;00m\n\u001b[32m   (...)\u001b[39m\u001b[32m    598\u001b[39m \u001b[33;03m    The first matching `WebElement` found on the page.\u001b[39;00m\n\u001b[32m    599\u001b[39m \u001b[33;03m\"\"\"\u001b[39;00m\n\u001b[32m    600\u001b[39m by, value = \u001b[38;5;28mself\u001b[39m._parent.locator_converter.convert(by, value)\n\u001b[32m--> \u001b[39m\u001b[32m601\u001b[39m \u001b[38;5;28;01mreturn\u001b[39;00m \u001b[38;5;28;43mself\u001b[39;49m\u001b[43m.\u001b[49m\u001b[43m_execute\u001b[49m\u001b[43m(\u001b[49m\u001b[43mCommand\u001b[49m\u001b[43m.\u001b[49m\u001b[43mFIND_CHILD_ELEMENT\u001b[49m\u001b[43m,\u001b[49m\u001b[43m \u001b[49m\u001b[43m{\u001b[49m\u001b[33;43m\"\u001b[39;49m\u001b[33;43musing\u001b[39;49m\u001b[33;43m\"\u001b[39;49m\u001b[43m:\u001b[49m\u001b[43m \u001b[49m\u001b[43mby\u001b[49m\u001b[43m,\u001b[49m\u001b[43m \u001b[49m\u001b[33;43m\"\u001b[39;49m\u001b[33;43mvalue\u001b[39;49m\u001b[33;43m\"\u001b[39;49m\u001b[43m:\u001b[49m\u001b[43m \u001b[49m\u001b[43mvalue\u001b[49m\u001b[43m}\u001b[49m\u001b[43m)\u001b[49m[\u001b[33m\"\u001b[39m\u001b[33mvalue\u001b[39m\u001b[33m\"\u001b[39m]\n",
      "\u001b[36mFile \u001b[39m\u001b[32m~/miniforge3/envs/fintech/lib/python3.12/site-packages/selenium/webdriver/remote/webelement.py:572\u001b[39m, in \u001b[36mWebElement._execute\u001b[39m\u001b[34m(self, command, params)\u001b[39m\n\u001b[32m    570\u001b[39m     params = {}\n\u001b[32m    571\u001b[39m params[\u001b[33m\"\u001b[39m\u001b[33mid\u001b[39m\u001b[33m\"\u001b[39m] = \u001b[38;5;28mself\u001b[39m._id\n\u001b[32m--> \u001b[39m\u001b[32m572\u001b[39m \u001b[38;5;28;01mreturn\u001b[39;00m \u001b[38;5;28;43mself\u001b[39;49m\u001b[43m.\u001b[49m\u001b[43m_parent\u001b[49m\u001b[43m.\u001b[49m\u001b[43mexecute\u001b[49m\u001b[43m(\u001b[49m\u001b[43mcommand\u001b[49m\u001b[43m,\u001b[49m\u001b[43m \u001b[49m\u001b[43mparams\u001b[49m\u001b[43m)\u001b[49m\n",
      "\u001b[36mFile \u001b[39m\u001b[32m~/miniforge3/envs/fintech/lib/python3.12/site-packages/selenium/webdriver/remote/webdriver.py:429\u001b[39m, in \u001b[36mWebDriver.execute\u001b[39m\u001b[34m(self, driver_command, params)\u001b[39m\n\u001b[32m    427\u001b[39m response = \u001b[38;5;28mself\u001b[39m.command_executor.execute(driver_command, params)\n\u001b[32m    428\u001b[39m \u001b[38;5;28;01mif\u001b[39;00m response:\n\u001b[32m--> \u001b[39m\u001b[32m429\u001b[39m     \u001b[38;5;28;43mself\u001b[39;49m\u001b[43m.\u001b[49m\u001b[43merror_handler\u001b[49m\u001b[43m.\u001b[49m\u001b[43mcheck_response\u001b[49m\u001b[43m(\u001b[49m\u001b[43mresponse\u001b[49m\u001b[43m)\u001b[49m\n\u001b[32m    430\u001b[39m     response[\u001b[33m\"\u001b[39m\u001b[33mvalue\u001b[39m\u001b[33m\"\u001b[39m] = \u001b[38;5;28mself\u001b[39m._unwrap_value(response.get(\u001b[33m\"\u001b[39m\u001b[33mvalue\u001b[39m\u001b[33m\"\u001b[39m, \u001b[38;5;28;01mNone\u001b[39;00m))\n\u001b[32m    431\u001b[39m     \u001b[38;5;28;01mreturn\u001b[39;00m response\n",
      "\u001b[36mFile \u001b[39m\u001b[32m~/miniforge3/envs/fintech/lib/python3.12/site-packages/selenium/webdriver/remote/errorhandler.py:232\u001b[39m, in \u001b[36mErrorHandler.check_response\u001b[39m\u001b[34m(self, response)\u001b[39m\n\u001b[32m    230\u001b[39m         alert_text = value[\u001b[33m\"\u001b[39m\u001b[33malert\u001b[39m\u001b[33m\"\u001b[39m].get(\u001b[33m\"\u001b[39m\u001b[33mtext\u001b[39m\u001b[33m\"\u001b[39m)\n\u001b[32m    231\u001b[39m     \u001b[38;5;28;01mraise\u001b[39;00m exception_class(message, screen, stacktrace, alert_text)  \u001b[38;5;66;03m# type: ignore[call-arg]  # mypy is not smart enough here\u001b[39;00m\n\u001b[32m--> \u001b[39m\u001b[32m232\u001b[39m \u001b[38;5;28;01mraise\u001b[39;00m exception_class(message, screen, stacktrace)\n",
      "\u001b[31mNoSuchElementException\u001b[39m: Message: no such element: Unable to locate element: {\"method\":\"css selector\",\"selector\":\"[id=\"adrs_2239070\"]\"}\n  (Session info: chrome=125.0.6422.61); For documentation on this error, please visit: https://www.selenium.dev/documentation/webdriver/troubleshooting/errors#no-such-element-exception\nStacktrace:\n0   chromedriver                        0x000000010b8526b8 chromedriver + 6149816\n1   chromedriver                        0x000000010b849cda chromedriver + 6114522\n2   chromedriver                        0x000000010b2d6d5c chromedriver + 400732\n3   chromedriver                        0x000000010b323aa5 chromedriver + 715429\n4   chromedriver                        0x000000010b323bf1 chromedriver + 715761\n5   chromedriver                        0x000000010b318106 chromedriver + 667910\n6   chromedriver                        0x000000010b346cdd chromedriver + 859357\n7   chromedriver                        0x000000010b317fe8 chromedriver + 667624\n8   chromedriver                        0x000000010b346e6e chromedriver + 859758\n9   chromedriver                        0x000000010b3660db chromedriver + 987355\n10  chromedriver                        0x000000010b346a53 chromedriver + 858707\n11  chromedriver                        0x000000010b3166d5 chromedriver + 661205\n12  chromedriver                        0x000000010b316f6e chromedriver + 663406\n13  chromedriver                        0x000000010b813cf0 chromedriver + 5893360\n14  chromedriver                        0x000000010b8194bc chromedriver + 5915836\n15  chromedriver                        0x000000010b7f58b4 chromedriver + 5769396\n16  chromedriver                        0x000000010b819f89 chromedriver + 5918601\n17  chromedriver                        0x000000010b7e6ec4 chromedriver + 5709508\n18  chromedriver                        0x000000010b83a008 chromedriver + 6049800\n19  chromedriver                        0x000000010b83a1c7 chromedriver + 6050247\n20  chromedriver                        0x000000010b84988e chromedriver + 6113422\n21  libsystem_pthread.dylib             0x00007ff8150381d3 _pthread_start + 125\n22  libsystem_pthread.dylib             0x00007ff815033bd3 thread_start + 15\n"
     ]
    }
   ],
   "source": [
    "driver.find_elements(By.CSS_SELECTOR, '#lsTbody > tr.hand')[60].find_element(By.ID, \"adrs_2239070\").get_attribute(\"innerText\")"
   ]
  },
  {
   "cell_type": "code",
   "execution_count": 42,
   "id": "8c785d99-8ba8-4426-8d44-1c58cc79bdc2",
   "metadata": {},
   "outputs": [
    {
     "ename": "NoSuchElementException",
     "evalue": "Message: no such element: Unable to locate element: {\"method\":\"css selector\",\"selector\":\".clear.f15.bold\"}\n  (Session info: chrome=125.0.6422.61); For documentation on this error, please visit: https://www.selenium.dev/documentation/webdriver/troubleshooting/errors#no-such-element-exception\nStacktrace:\n0   chromedriver                        0x000000010b8526b8 chromedriver + 6149816\n1   chromedriver                        0x000000010b849cda chromedriver + 6114522\n2   chromedriver                        0x000000010b2d6d5c chromedriver + 400732\n3   chromedriver                        0x000000010b323aa5 chromedriver + 715429\n4   chromedriver                        0x000000010b323bf1 chromedriver + 715761\n5   chromedriver                        0x000000010b318106 chromedriver + 667910\n6   chromedriver                        0x000000010b346cdd chromedriver + 859357\n7   chromedriver                        0x000000010b317fe8 chromedriver + 667624\n8   chromedriver                        0x000000010b346e6e chromedriver + 859758\n9   chromedriver                        0x000000010b3660db chromedriver + 987355\n10  chromedriver                        0x000000010b346a53 chromedriver + 858707\n11  chromedriver                        0x000000010b3166d5 chromedriver + 661205\n12  chromedriver                        0x000000010b316f6e chromedriver + 663406\n13  chromedriver                        0x000000010b813cf0 chromedriver + 5893360\n14  chromedriver                        0x000000010b8194bc chromedriver + 5915836\n15  chromedriver                        0x000000010b7f58b4 chromedriver + 5769396\n16  chromedriver                        0x000000010b819f89 chromedriver + 5918601\n17  chromedriver                        0x000000010b7e6ec4 chromedriver + 5709508\n18  chromedriver                        0x000000010b83a008 chromedriver + 6049800\n19  chromedriver                        0x000000010b83a1c7 chromedriver + 6050247\n20  chromedriver                        0x000000010b84988e chromedriver + 6113422\n21  libsystem_pthread.dylib             0x00007ff8150381d3 _pthread_start + 125\n22  libsystem_pthread.dylib             0x00007ff815033bd3 thread_start + 15\n",
     "output_type": "error",
     "traceback": [
      "\u001b[31m---------------------------------------------------------------------------\u001b[39m",
      "\u001b[31mNoSuchElementException\u001b[39m                    Traceback (most recent call last)",
      "\u001b[36mCell\u001b[39m\u001b[36m \u001b[39m\u001b[32mIn[42]\u001b[39m\u001b[32m, line 1\u001b[39m\n\u001b[32m----> \u001b[39m\u001b[32m1\u001b[39m \u001b[43mdriver\u001b[49m\u001b[43m.\u001b[49m\u001b[43mfind_element\u001b[49m\u001b[43m(\u001b[49m\u001b[43mBy\u001b[49m\u001b[43m.\u001b[49m\u001b[43mCSS_SELECTOR\u001b[49m\u001b[43m,\u001b[49m\u001b[43m \u001b[49m\u001b[33;43m\"\u001b[39;49m\u001b[33;43m.right\u001b[39;49m\u001b[33;43m\"\u001b[39;49m\u001b[43m)\u001b[49m\u001b[43m.\u001b[49m\u001b[43mfind_element\u001b[49m\u001b[43m(\u001b[49m\u001b[43mBy\u001b[49m\u001b[43m.\u001b[49m\u001b[43mCSS_SELECTOR\u001b[49m\u001b[43m,\u001b[49m\u001b[43m \u001b[49m\u001b[33;43m\"\u001b[39;49m\u001b[33;43m.clear.f15.bold\u001b[39;49m\u001b[33;43m\"\u001b[39;49m\u001b[43m)\u001b[49m.text\n",
      "\u001b[36mFile \u001b[39m\u001b[32m~/miniforge3/envs/fintech/lib/python3.12/site-packages/selenium/webdriver/remote/webelement.py:601\u001b[39m, in \u001b[36mWebElement.find_element\u001b[39m\u001b[34m(self, by, value)\u001b[39m\n\u001b[32m    575\u001b[39m \u001b[38;5;250m\u001b[39m\u001b[33;03m\"\"\"Find an element given a By strategy and locator.\u001b[39;00m\n\u001b[32m    576\u001b[39m \n\u001b[32m    577\u001b[39m \u001b[33;03mParameters:\u001b[39;00m\n\u001b[32m   (...)\u001b[39m\u001b[32m    598\u001b[39m \u001b[33;03m    The first matching `WebElement` found on the page.\u001b[39;00m\n\u001b[32m    599\u001b[39m \u001b[33;03m\"\"\"\u001b[39;00m\n\u001b[32m    600\u001b[39m by, value = \u001b[38;5;28mself\u001b[39m._parent.locator_converter.convert(by, value)\n\u001b[32m--> \u001b[39m\u001b[32m601\u001b[39m \u001b[38;5;28;01mreturn\u001b[39;00m \u001b[38;5;28;43mself\u001b[39;49m\u001b[43m.\u001b[49m\u001b[43m_execute\u001b[49m\u001b[43m(\u001b[49m\u001b[43mCommand\u001b[49m\u001b[43m.\u001b[49m\u001b[43mFIND_CHILD_ELEMENT\u001b[49m\u001b[43m,\u001b[49m\u001b[43m \u001b[49m\u001b[43m{\u001b[49m\u001b[33;43m\"\u001b[39;49m\u001b[33;43musing\u001b[39;49m\u001b[33;43m\"\u001b[39;49m\u001b[43m:\u001b[49m\u001b[43m \u001b[49m\u001b[43mby\u001b[49m\u001b[43m,\u001b[49m\u001b[43m \u001b[49m\u001b[33;43m\"\u001b[39;49m\u001b[33;43mvalue\u001b[39;49m\u001b[33;43m\"\u001b[39;49m\u001b[43m:\u001b[49m\u001b[43m \u001b[49m\u001b[43mvalue\u001b[49m\u001b[43m}\u001b[49m\u001b[43m)\u001b[49m[\u001b[33m\"\u001b[39m\u001b[33mvalue\u001b[39m\u001b[33m\"\u001b[39m]\n",
      "\u001b[36mFile \u001b[39m\u001b[32m~/miniforge3/envs/fintech/lib/python3.12/site-packages/selenium/webdriver/remote/webelement.py:572\u001b[39m, in \u001b[36mWebElement._execute\u001b[39m\u001b[34m(self, command, params)\u001b[39m\n\u001b[32m    570\u001b[39m     params = {}\n\u001b[32m    571\u001b[39m params[\u001b[33m\"\u001b[39m\u001b[33mid\u001b[39m\u001b[33m\"\u001b[39m] = \u001b[38;5;28mself\u001b[39m._id\n\u001b[32m--> \u001b[39m\u001b[32m572\u001b[39m \u001b[38;5;28;01mreturn\u001b[39;00m \u001b[38;5;28;43mself\u001b[39;49m\u001b[43m.\u001b[49m\u001b[43m_parent\u001b[49m\u001b[43m.\u001b[49m\u001b[43mexecute\u001b[49m\u001b[43m(\u001b[49m\u001b[43mcommand\u001b[49m\u001b[43m,\u001b[49m\u001b[43m \u001b[49m\u001b[43mparams\u001b[49m\u001b[43m)\u001b[49m\n",
      "\u001b[36mFile \u001b[39m\u001b[32m~/miniforge3/envs/fintech/lib/python3.12/site-packages/selenium/webdriver/remote/webdriver.py:429\u001b[39m, in \u001b[36mWebDriver.execute\u001b[39m\u001b[34m(self, driver_command, params)\u001b[39m\n\u001b[32m    427\u001b[39m response = \u001b[38;5;28mself\u001b[39m.command_executor.execute(driver_command, params)\n\u001b[32m    428\u001b[39m \u001b[38;5;28;01mif\u001b[39;00m response:\n\u001b[32m--> \u001b[39m\u001b[32m429\u001b[39m     \u001b[38;5;28;43mself\u001b[39;49m\u001b[43m.\u001b[49m\u001b[43merror_handler\u001b[49m\u001b[43m.\u001b[49m\u001b[43mcheck_response\u001b[49m\u001b[43m(\u001b[49m\u001b[43mresponse\u001b[49m\u001b[43m)\u001b[49m\n\u001b[32m    430\u001b[39m     response[\u001b[33m\"\u001b[39m\u001b[33mvalue\u001b[39m\u001b[33m\"\u001b[39m] = \u001b[38;5;28mself\u001b[39m._unwrap_value(response.get(\u001b[33m\"\u001b[39m\u001b[33mvalue\u001b[39m\u001b[33m\"\u001b[39m, \u001b[38;5;28;01mNone\u001b[39;00m))\n\u001b[32m    431\u001b[39m     \u001b[38;5;28;01mreturn\u001b[39;00m response\n",
      "\u001b[36mFile \u001b[39m\u001b[32m~/miniforge3/envs/fintech/lib/python3.12/site-packages/selenium/webdriver/remote/errorhandler.py:232\u001b[39m, in \u001b[36mErrorHandler.check_response\u001b[39m\u001b[34m(self, response)\u001b[39m\n\u001b[32m    230\u001b[39m         alert_text = value[\u001b[33m\"\u001b[39m\u001b[33malert\u001b[39m\u001b[33m\"\u001b[39m].get(\u001b[33m\"\u001b[39m\u001b[33mtext\u001b[39m\u001b[33m\"\u001b[39m)\n\u001b[32m    231\u001b[39m     \u001b[38;5;28;01mraise\u001b[39;00m exception_class(message, screen, stacktrace, alert_text)  \u001b[38;5;66;03m# type: ignore[call-arg]  # mypy is not smart enough here\u001b[39;00m\n\u001b[32m--> \u001b[39m\u001b[32m232\u001b[39m \u001b[38;5;28;01mraise\u001b[39;00m exception_class(message, screen, stacktrace)\n",
      "\u001b[31mNoSuchElementException\u001b[39m: Message: no such element: Unable to locate element: {\"method\":\"css selector\",\"selector\":\".clear.f15.bold\"}\n  (Session info: chrome=125.0.6422.61); For documentation on this error, please visit: https://www.selenium.dev/documentation/webdriver/troubleshooting/errors#no-such-element-exception\nStacktrace:\n0   chromedriver                        0x000000010b8526b8 chromedriver + 6149816\n1   chromedriver                        0x000000010b849cda chromedriver + 6114522\n2   chromedriver                        0x000000010b2d6d5c chromedriver + 400732\n3   chromedriver                        0x000000010b323aa5 chromedriver + 715429\n4   chromedriver                        0x000000010b323bf1 chromedriver + 715761\n5   chromedriver                        0x000000010b318106 chromedriver + 667910\n6   chromedriver                        0x000000010b346cdd chromedriver + 859357\n7   chromedriver                        0x000000010b317fe8 chromedriver + 667624\n8   chromedriver                        0x000000010b346e6e chromedriver + 859758\n9   chromedriver                        0x000000010b3660db chromedriver + 987355\n10  chromedriver                        0x000000010b346a53 chromedriver + 858707\n11  chromedriver                        0x000000010b3166d5 chromedriver + 661205\n12  chromedriver                        0x000000010b316f6e chromedriver + 663406\n13  chromedriver                        0x000000010b813cf0 chromedriver + 5893360\n14  chromedriver                        0x000000010b8194bc chromedriver + 5915836\n15  chromedriver                        0x000000010b7f58b4 chromedriver + 5769396\n16  chromedriver                        0x000000010b819f89 chromedriver + 5918601\n17  chromedriver                        0x000000010b7e6ec4 chromedriver + 5709508\n18  chromedriver                        0x000000010b83a008 chromedriver + 6049800\n19  chromedriver                        0x000000010b83a1c7 chromedriver + 6050247\n20  chromedriver                        0x000000010b84988e chromedriver + 6113422\n21  libsystem_pthread.dylib             0x00007ff8150381d3 _pthread_start + 125\n22  libsystem_pthread.dylib             0x00007ff815033bd3 thread_start + 15\n"
     ]
    }
   ],
   "source": [
    "driver.find_element(By.CSS_SELECTOR, \".right\")"
   ]
  },
  {
   "cell_type": "code",
   "execution_count": 83,
   "id": "7325b71e-3061-4d25-8c3f-cad131a25a64",
   "metadata": {},
   "outputs": [
    {
     "data": {
      "text/plain": [
       "372000000"
      ]
     },
     "execution_count": 83,
     "metadata": {},
     "output_type": "execute_result"
    }
   ],
   "source": [
    "int(driver.find_element(By.ID, \"apslAmt_2239070\").text.replace(\",\",\"\"))"
   ]
  },
  {
   "cell_type": "code",
   "execution_count": 56,
   "id": "3b3a2f2b-cc9e-499b-9e42-c202bc7da678",
   "metadata": {},
   "outputs": [
    {
     "ename": "WebDriverException",
     "evalue": "Message: disconnected: not connected to DevTools\n  (failed to check if window was closed: disconnected: not connected to DevTools)\n  (Session info: chrome=125.0.6422.61)\nStacktrace:\n0   chromedriver                        0x0000000100c126b8 chromedriver + 6149816\n1   chromedriver                        0x0000000100c09cda chromedriver + 6114522\n2   chromedriver                        0x0000000100696d5c chromedriver + 400732\n3   chromedriver                        0x000000010067c646 chromedriver + 292422\n4   chromedriver                        0x000000010067c533 chromedriver + 292147\n5   chromedriver                        0x0000000100699172 chromedriver + 409970\n6   chromedriver                        0x0000000100725abb chromedriver + 985787\n7   chromedriver                        0x0000000100706a53 chromedriver + 858707\n8   chromedriver                        0x00000001006d66d5 chromedriver + 661205\n9   chromedriver                        0x00000001006d6f6e chromedriver + 663406\n10  chromedriver                        0x0000000100bd3cf0 chromedriver + 5893360\n11  chromedriver                        0x0000000100bd94bc chromedriver + 5915836\n12  chromedriver                        0x0000000100bb58b4 chromedriver + 5769396\n13  chromedriver                        0x0000000100bd9f89 chromedriver + 5918601\n14  chromedriver                        0x0000000100ba6ec4 chromedriver + 5709508\n15  chromedriver                        0x0000000100bfa008 chromedriver + 6049800\n16  chromedriver                        0x0000000100bfa1c7 chromedriver + 6050247\n17  chromedriver                        0x0000000100c0988e chromedriver + 6113422\n18  libsystem_pthread.dylib             0x00007ff8150381d3 _pthread_start + 125\n19  libsystem_pthread.dylib             0x00007ff815033bd3 thread_start + 15\n",
     "output_type": "error",
     "traceback": [
      "\u001b[31m---------------------------------------------------------------------------\u001b[39m",
      "\u001b[31mWebDriverException\u001b[39m                        Traceback (most recent call last)",
      "\u001b[36mCell\u001b[39m\u001b[36m \u001b[39m\u001b[32mIn[56]\u001b[39m\u001b[32m, line 1\u001b[39m\n\u001b[32m----> \u001b[39m\u001b[32m1\u001b[39m \u001b[43mdriver\u001b[49m\u001b[43m.\u001b[49m\u001b[43mfind_element\u001b[49m\u001b[43m(\u001b[49m\u001b[43mBy\u001b[49m\u001b[43m.\u001b[49m\u001b[43mXPATH\u001b[49m\u001b[43m,\u001b[49m\u001b[43m \u001b[49m\u001b[33;43m'\u001b[39;49m\u001b[33;43m//tr[@id=\u001b[39;49m\u001b[33;43m\"\u001b[39;49m\u001b[33;43mTr_1\u001b[39;49m\u001b[33;43m\"\u001b[39;49m\u001b[33;43m]//div[@title=\u001b[39;49m\u001b[33;43m\"\u001b[39;49m\u001b[33;43m[관] : 관심수\u001b[39;49m\u001b[33;43m\"\u001b[39;49m\u001b[33;43m]/preceding-sibling::div[1]\u001b[39;49m\u001b[33;43m'\u001b[39;49m\u001b[43m)\u001b[49m.text\n",
      "\u001b[36mFile \u001b[39m\u001b[32m~/miniforge3/envs/fintech/lib/python3.12/site-packages/selenium/webdriver/remote/webdriver.py:898\u001b[39m, in \u001b[36mWebDriver.find_element\u001b[39m\u001b[34m(self, by, value)\u001b[39m\n\u001b[32m    895\u001b[39m         \u001b[38;5;28;01mraise\u001b[39;00m NoSuchElementException(\u001b[33mf\u001b[39m\u001b[33m\"\u001b[39m\u001b[33mCannot locate relative element with: \u001b[39m\u001b[38;5;132;01m{\u001b[39;00mby.root\u001b[38;5;132;01m}\u001b[39;00m\u001b[33m\"\u001b[39m)\n\u001b[32m    896\u001b[39m     \u001b[38;5;28;01mreturn\u001b[39;00m elements[\u001b[32m0\u001b[39m]\n\u001b[32m--> \u001b[39m\u001b[32m898\u001b[39m \u001b[38;5;28;01mreturn\u001b[39;00m \u001b[38;5;28;43mself\u001b[39;49m\u001b[43m.\u001b[49m\u001b[43mexecute\u001b[49m\u001b[43m(\u001b[49m\u001b[43mCommand\u001b[49m\u001b[43m.\u001b[49m\u001b[43mFIND_ELEMENT\u001b[49m\u001b[43m,\u001b[49m\u001b[43m \u001b[49m\u001b[43m{\u001b[49m\u001b[33;43m\"\u001b[39;49m\u001b[33;43musing\u001b[39;49m\u001b[33;43m\"\u001b[39;49m\u001b[43m:\u001b[49m\u001b[43m \u001b[49m\u001b[43mby\u001b[49m\u001b[43m,\u001b[49m\u001b[43m \u001b[49m\u001b[33;43m\"\u001b[39;49m\u001b[33;43mvalue\u001b[39;49m\u001b[33;43m\"\u001b[39;49m\u001b[43m:\u001b[49m\u001b[43m \u001b[49m\u001b[43mvalue\u001b[49m\u001b[43m}\u001b[49m\u001b[43m)\u001b[49m[\u001b[33m\"\u001b[39m\u001b[33mvalue\u001b[39m\u001b[33m\"\u001b[39m]\n",
      "\u001b[36mFile \u001b[39m\u001b[32m~/miniforge3/envs/fintech/lib/python3.12/site-packages/selenium/webdriver/remote/webdriver.py:429\u001b[39m, in \u001b[36mWebDriver.execute\u001b[39m\u001b[34m(self, driver_command, params)\u001b[39m\n\u001b[32m    427\u001b[39m response = \u001b[38;5;28mself\u001b[39m.command_executor.execute(driver_command, params)\n\u001b[32m    428\u001b[39m \u001b[38;5;28;01mif\u001b[39;00m response:\n\u001b[32m--> \u001b[39m\u001b[32m429\u001b[39m     \u001b[38;5;28;43mself\u001b[39;49m\u001b[43m.\u001b[49m\u001b[43merror_handler\u001b[49m\u001b[43m.\u001b[49m\u001b[43mcheck_response\u001b[49m\u001b[43m(\u001b[49m\u001b[43mresponse\u001b[49m\u001b[43m)\u001b[49m\n\u001b[32m    430\u001b[39m     response[\u001b[33m\"\u001b[39m\u001b[33mvalue\u001b[39m\u001b[33m\"\u001b[39m] = \u001b[38;5;28mself\u001b[39m._unwrap_value(response.get(\u001b[33m\"\u001b[39m\u001b[33mvalue\u001b[39m\u001b[33m\"\u001b[39m, \u001b[38;5;28;01mNone\u001b[39;00m))\n\u001b[32m    431\u001b[39m     \u001b[38;5;28;01mreturn\u001b[39;00m response\n",
      "\u001b[36mFile \u001b[39m\u001b[32m~/miniforge3/envs/fintech/lib/python3.12/site-packages/selenium/webdriver/remote/errorhandler.py:232\u001b[39m, in \u001b[36mErrorHandler.check_response\u001b[39m\u001b[34m(self, response)\u001b[39m\n\u001b[32m    230\u001b[39m         alert_text = value[\u001b[33m\"\u001b[39m\u001b[33malert\u001b[39m\u001b[33m\"\u001b[39m].get(\u001b[33m\"\u001b[39m\u001b[33mtext\u001b[39m\u001b[33m\"\u001b[39m)\n\u001b[32m    231\u001b[39m     \u001b[38;5;28;01mraise\u001b[39;00m exception_class(message, screen, stacktrace, alert_text)  \u001b[38;5;66;03m# type: ignore[call-arg]  # mypy is not smart enough here\u001b[39;00m\n\u001b[32m--> \u001b[39m\u001b[32m232\u001b[39m \u001b[38;5;28;01mraise\u001b[39;00m exception_class(message, screen, stacktrace)\n",
      "\u001b[31mWebDriverException\u001b[39m: Message: disconnected: not connected to DevTools\n  (failed to check if window was closed: disconnected: not connected to DevTools)\n  (Session info: chrome=125.0.6422.61)\nStacktrace:\n0   chromedriver                        0x0000000100c126b8 chromedriver + 6149816\n1   chromedriver                        0x0000000100c09cda chromedriver + 6114522\n2   chromedriver                        0x0000000100696d5c chromedriver + 400732\n3   chromedriver                        0x000000010067c646 chromedriver + 292422\n4   chromedriver                        0x000000010067c533 chromedriver + 292147\n5   chromedriver                        0x0000000100699172 chromedriver + 409970\n6   chromedriver                        0x0000000100725abb chromedriver + 985787\n7   chromedriver                        0x0000000100706a53 chromedriver + 858707\n8   chromedriver                        0x00000001006d66d5 chromedriver + 661205\n9   chromedriver                        0x00000001006d6f6e chromedriver + 663406\n10  chromedriver                        0x0000000100bd3cf0 chromedriver + 5893360\n11  chromedriver                        0x0000000100bd94bc chromedriver + 5915836\n12  chromedriver                        0x0000000100bb58b4 chromedriver + 5769396\n13  chromedriver                        0x0000000100bd9f89 chromedriver + 5918601\n14  chromedriver                        0x0000000100ba6ec4 chromedriver + 5709508\n15  chromedriver                        0x0000000100bfa008 chromedriver + 6049800\n16  chromedriver                        0x0000000100bfa1c7 chromedriver + 6050247\n17  chromedriver                        0x0000000100c0988e chromedriver + 6113422\n18  libsystem_pthread.dylib             0x00007ff8150381d3 _pthread_start + 125\n19  libsystem_pthread.dylib             0x00007ff815033bd3 thread_start + 15\n"
     ]
    }
   ],
   "source": [
    "driver.find_element(By.XPATH, '//tr[@id=\"Tr_1\"]//div[@title=\"[관] : 관심수\"]/preceding-sibling::div[1]').text"
   ]
  },
  {
   "cell_type": "code",
   "execution_count": 62,
   "id": "f0d0b90a-d7c6-44d6-af18-42624cc50aaa",
   "metadata": {},
   "outputs": [
    {
     "data": {
      "text/plain": [
       "'2024-52691'"
      ]
     },
     "execution_count": 62,
     "metadata": {},
     "output_type": "execute_result"
    }
   ],
   "source": [
    "driver.find_element(By.ID,\"saNo_2273798\").text"
   ]
  },
  {
   "cell_type": "code",
   "execution_count": null,
   "id": "7c402449-e4cd-4dd9-81b5-72dd3275f148",
   "metadata": {},
   "outputs": [],
   "source": [
    "\n",
    "item_list in driver.find_elements(By.CSS_SELECTOR, '#lsTbody > tr.hand'):\n",
    "# 사건번호\n",
    "num = item_list.find_element(By.CSS_SELECTOR, \".clear.f15.bold\").text\n",
    "# 주소\n",
    "addr_div = item_list.find_element(By.CSS_SELECTOR, 'div[id^=\"adrs_\"]')\n",
    "address = addr_div.get_attribute(\"innerText\")\n",
    "# 감정가\n",
    "start_price = int(item_list.find_element(By.ID, \"apslAmt_2239070\").text.replace(\",\",\"\"))\n",
    "#최저가\n",
    "end_price = int(item_list.find_element(By.ID, \"minbAmt_2239070\").text.replace(\",\",\"\"))\n",
    "# 입찰일\n",
    "the_date = item_list.find_element(By.ID, \"bidDt_2239070\").text\n",
    "# 조회수\n",
    "pop = item_list.find_element(By.XPATH, '//tr[@id=\"Tr_1\"]//div[@title=\"[관] : 관심수\"]/preceding-sibling::div[1]').text\n",
    "print(num,adress,start_price,end_price,the_date,pop)"
   ]
  },
  {
   "cell_type": "code",
   "execution_count": 63,
   "id": "871426a9-d05e-4b3e-aeb1-56a120705f67",
   "metadata": {},
   "outputs": [
    {
     "data": {
      "text/plain": [
       "'2024-52691'"
      ]
     },
     "execution_count": 63,
     "metadata": {},
     "output_type": "execute_result"
    }
   ],
   "source": [
    "driver.find_element(By.CSS_SELECTOR, \".clear.f15.bold\").text"
   ]
  },
  {
   "cell_type": "code",
   "execution_count": 74,
   "id": "805e204e-1bfa-4f91-b8c6-fc7c550d4f86",
   "metadata": {},
   "outputs": [
    {
     "data": {
      "text/plain": [
       "'120,000,000'"
      ]
     },
     "execution_count": 74,
     "metadata": {},
     "output_type": "execute_result"
    }
   ],
   "source": [
    "driver.find_element(By.ID, \"apslAmt_2273798\").text"
   ]
  },
  {
   "cell_type": "code",
   "execution_count": null,
   "id": "0c0262f7-bb4b-47b1-bfb6-d719c35b3a8d",
   "metadata": {},
   "outputs": [],
   "source": []
  },
  {
   "cell_type": "code",
   "execution_count": null,
   "id": "5757b138-a448-4dce-b01b-6a0a2a26a070",
   "metadata": {},
   "outputs": [],
   "source": []
  },
  {
   "cell_type": "code",
   "execution_count": null,
   "id": "6db1d3ee-58cc-4507-9bcd-77b309714437",
   "metadata": {},
   "outputs": [],
   "source": []
  },
  {
   "cell_type": "code",
   "execution_count": null,
   "id": "eeea0c5d-7e9b-41a2-ab49-db1faae09390",
   "metadata": {},
   "outputs": [],
   "source": []
  },
  {
   "cell_type": "code",
   "execution_count": null,
   "id": "a4ee7133",
   "metadata": {},
   "outputs": [],
   "source": []
  },
  {
   "cell_type": "code",
   "execution_count": null,
   "id": "cf518571",
   "metadata": {},
   "outputs": [],
   "source": []
  },
  {
   "cell_type": "code",
   "execution_count": null,
   "id": "2fc4afe4",
   "metadata": {},
   "outputs": [],
   "source": []
  },
  {
   "cell_type": "markdown",
   "id": "df3583fd",
   "metadata": {},
   "source": [
    "# 나중에 셀렉트 실행해볼것"
   ]
  },
  {
   "cell_type": "code",
   "execution_count": null,
   "id": "8738aa39",
   "metadata": {},
   "outputs": [],
   "source": [
    "## Ex 5-5. QComboBox.\n",
    "\n",
    "import sys\n",
    "from PyQt5.QtWidgets import QApplication, QWidget, QLabel, QComboBox\n",
    "\n",
    "\n",
    "class MyApp(QWidget):\n",
    "\n",
    "    def __init__(self):\n",
    "        super().__init__()\n",
    "        self.initUI()\n",
    "\n",
    "    def initUI(self):\n",
    "        self.lbl = QLabel('Option1', self)\n",
    "        self.lbl.move(50, 150)\n",
    "\n",
    "        cb = QComboBox(self)\n",
    "        cb.addItem('Option1')\n",
    "        cb.addItem('Option2')\n",
    "        cb.addItem('Option3')\n",
    "        cb.addItem('Option4')\n",
    "        cb.move(50, 50)\n",
    "\n",
    "        cb.activated[str].connect(self.onActivated)\n",
    "\n",
    "        self.setWindowTitle('QComboBox')\n",
    "        self.setGeometry(300, 300, 300, 200)\n",
    "        self.show()\n",
    "\n",
    "    def onActivated(self, text):\n",
    "        self.lbl.setText(text)\n",
    "        self.lbl.adjustSize()\n",
    "\n",
    "\n",
    "if __name__ == '__main__':\n",
    "    app = QApplication(sys.argv)\n",
    "    ex = MyApp()\n",
    "    sys.exit(app.exec_())"
   ]
  }
 ],
 "metadata": {
  "kernelspec": {
   "display_name": "Python 3 (ipykernel)",
   "language": "python",
   "name": "python3"
  },
  "language_info": {
   "codemirror_mode": {
    "name": "ipython",
    "version": 3
   },
   "file_extension": ".py",
   "mimetype": "text/x-python",
   "name": "python",
   "nbconvert_exporter": "python",
   "pygments_lexer": "ipython3",
   "version": "3.12.8"
  }
 },
 "nbformat": 4,
 "nbformat_minor": 5
}
