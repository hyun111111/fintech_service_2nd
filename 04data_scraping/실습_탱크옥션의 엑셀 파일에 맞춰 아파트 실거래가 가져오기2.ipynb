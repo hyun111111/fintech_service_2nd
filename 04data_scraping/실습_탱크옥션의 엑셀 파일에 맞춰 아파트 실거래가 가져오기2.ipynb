{
 "cells": [
  {
   "cell_type": "code",
   "execution_count": 2,
   "id": "35e54667",
   "metadata": {},
   "outputs": [],
   "source": [
    "import os\n",
    "import time\n",
    "import requests\n",
    "import pandas as pd\n",
    "from sqlalchemy import create_engine, text\n",
    "import pymysql\n",
    "from bs4 import BeautifulSoup as bs\n",
    "pymysql.install_as_MySQLdb()"
   ]
  },
  {
   "cell_type": "code",
   "execution_count": 5,
   "id": "484f04a4",
   "metadata": {
    "scrolled": true
   },
   "outputs": [
    {
     "name": "stdout",
     "output_type": "stream",
     "text": [
      "https://www.tankauction.com/inc/BgItems.php 200\n",
      "\r\n",
      "<html lang=\"ko\">\r\n",
      "<head>\r\n",
      "\t<meta charset=\"utf-8\" />\r\n",
      "\t<meta name=\"Generator\" content=\"origin\">\r\n",
      "\t<meta http-equiv=\"Content-Script-Type\" content=\"text/javascript\">\r\n",
      "\t<meta http-equiv=\"Content-Style-Type\" content=\"text/css\">\r\n",
      "\t<meta http-equiv=\"X-UA-Compatible\" content=\"IE=edge\">\r\n",
      "\t<meta name=\"viewport\" content=\"width=1000px, maximum-scale=1.0\">\r\n",
      "\t\t<title>탱크옥션</title>\r\n",
      "\t<meta name=\"Description\" content=\"법원경매,부동산경매\">\r\n",
      "\t\t<link rel=\"stylesheet\" type=\"text/css\" href=\"/css/font.css?ver=20241029\">\r\n",
      "\t<link rel=\"stylesheet\" type=\"text/css\" href=\"/css/tank.css?ver=20241029\">\r\n",
      "\t<link rel=\"stylesheet\" type=\"text/css\" href=\"/css/style.css?ver=20241029\">\r\n",
      "\t<link rel=\"stylesheet\" type=\"text/css\" href=\"/css/button.css?ver=20241029\">\r\n",
      "\t\t\t<link rel=\"stylesheet\" type=\"text/css\" href=\"/css/viewMob.css?ver=20241029\">\r\n",
      "\t\t\r\n",
      "\t<link rel=\"stylesheet\" type=\"text/css\" href=\"/css/input.css?ver=20241029\">\r\n",
      "\t<link rel=\"stylesheet\" type=\"text/css\" href=\"/css/tab.css?ver=20241029\">\r\n",
      "\t<link rel=\"stylesheet\" type=\"text/css\" href=\"/css/tooltip.css?ver=20241029\">\r\n",
      "\t<link rel=\"stylesheet\" type=\"text/css\" href=\"/js/jquery-ui.min.css\">\r\n",
      "\t<link rel=\"stylesheet\" type=\"text/css\" href=\"/js/swiper-5.2.0/css/swiper.css\">\r\n",
      "\t<link href='/img/icon/icon192x192.png' rel='icon' type='image/png' />\r\n",
      "\t<link href='/img/icon/icon192x192.png' rel='shortcut icon' type='image/png' />\r\n",
      "\t<link href='/img/icon/icon128x128.png' rel='apple-touch-icon'  type='image/png'/>\r\n",
      "\r\n",
      "\t<script type=\"text/javascript\" src=\"/js/jquery-3.6.0.min.js\"></script>\r\n",
      "\t<script type=\"text/javascript\" src=\"/js/jquery.history.js\"></script>\r\n",
      "\t<script type=\"text/javascript\" src=\"/js/jquery-ui.min.js\"></script>\r\n",
      "\t<script src=\"/js/swiper-5.2.0/js/swiper.js\"></script>\r\n",
      "\t<!-- 테스트후 삭제-->\r\n",
      "\t<!--<script type=\"text/javascript\" src=\"/js/crypto-js.min.js\"></script>-->\r\n",
      "\t<!-- 테스트후 삭제-->\r\n",
      "\t<script type=\"text/javascript\" src=\"/js/jquery.ui.datepicker-ko.js\"></script>\r\n",
      "\t<script type=\"text/javascript\" src=\"/js/jquery.number.min.js\"></script>\r\n",
      "\t<script type=\"text/javascript\" src=\"/js/Json.js?ver=20241029\"></script>\r\n",
      "\t<script type=\"text/javascript\" src=\"/js/Func.js?ver=20241029\"></script>\r\n",
      "\t<script type=\"text/javascript\" src=\"/js/login.js?ver=20241029\"></script>\r\n",
      "\t<script src=\"https://developers.kakao.com/sdk/js/kakao.js\"></script>\r\n",
      "\t<!--// 프린트 -->\r\n",
      "<!--\t<script type=\"text/javascript\" src=\"/js/printThis.js\"></script>-->\r\n",
      " <script src=\"https://cdnjs.cloudflare.com/ajax/libs/printThis/1.15.0/printThis.js\"></script>\r\n",
      "\t<script type=\"text/javascript\">\r\n",
      "\t\tfunction supports_local_storage(){return (typeof window.localStorage != 'undefined');}\r\n",
      "\t\tvar lsg_chk=supports_local_storage();\r\n",
      "\r\n",
      "//\t\tvar TK=eval(\"(\"+\"{'k2':'0','mob':''}\"+\")\");\r\n",
      "//\t\tvar TK_FILE=eval(\"(\"+\"{'CA':'/FILE/CA/','PA':'/FILEPA/PA/','INC':'/FILEINC/'}\"+\")\");\r\n",
      "//\t\tvar TK_INT_GY=eval(\"(\"+\"{}\"+\")\");\r\n",
      "//\t\tvar TK_INT_GO=eval(\"(\"+\"{}\"+\")\");\r\n",
      "//\t\tvar TK_INT_DEL=eval(\"(\"+\"{'did':''}\"+\")\");\r\n",
      "\t\t\r\n",
      "\t\tvar TK={'k2':'0','mob':''};\r\n",
      "\t\tvar TK_FILE={'CA':'/FILE/CA/','PA':'/FILEPA/PA/','INC':'/FILEINC/'};\t\r\n",
      "\t\tvar TK_INT_GY={};\r\n",
      "\t\tvar TK_INT_GO={};\r\n",
      "\t\tvar TK_INT_DEL={'did':''};\r\n",
      "\t\t\r\n",
      "\t</script>\r\n",
      "\t</head>\r\n",
      "<style>\r\n",
      "\thtml>/**/body{overflow-y:auto !important}\r\n",
      "</style>\r\n",
      "\t<body style=\"padding:0;overflow-x:hidden\">\r\n",
      "<div id=\"pop_wrap\">\r\n",
      "\r\n",
      "\r\n",
      "\t\t\t\t<script type='text/javascript'>\r\n",
      "\t\t\t\t\talert('로그인 후 이용하세요.');\r\n",
      "\t\t\t\t\tif(window.opener) window.close();\r\n",
      "\t\t\t\t\telse location.href='/';\r\n",
      "\t\t\t\t</script>\n"
     ]
    }
   ],
   "source": [
    "url = \"https://www.tankauction.com/inc/BgItems.php\"\n",
    "payload = dict(title=\"%EC%95%84%ED%8C%8C%ED%8A%B8&t=a1\", tid=2276168, dong=\"+52+\", tg=\"A\", tp=1, a=1, b=1, c=1, pnu=1132010500, addr=\"%EC%84%9C%EC%9A%B8%ED%8A%B9%EB%B3%84%EC%8B%9C+%EB%8F%84%EB%B4%89%EA%B5%AC+%EC%8C%8D%EB%AC%B8%EB%8F%99\", bg=59-3, bldgNm=\"%ED%95%9C%EC%96%915\", bldgSqm=65.37, bldgNmCnt=1, bldgDj=\"%ED%95%9C%EC%96%915\", roadAddr=\"%ED%95%B4%EB%93%B1%EB%A1%9C25%EA%B8%B8+36\", gb=1,fromYear=2023, toYear=2025, fromMonth=1, toMonth=4, dealType=1, pageNo=1, dataSize=20, pageSize=10, BBL=1, SBL=1, DBL=1)\n",
    "header= {'client_id':'yjj7479', 'password':'xodzmdhrtus0911!'}\n",
    "r = requests.post(url,data = payload)\n",
    "print(r.url, r.status_code)\n",
    "print(r.text)"
   ]
  },
  {
   "cell_type": "code",
   "execution_count": 14,
   "id": "6e0f4782",
   "metadata": {},
   "outputs": [
    {
     "ename": "ModuleNotFoundError",
     "evalue": "No module named 'selenium'",
     "output_type": "error",
     "traceback": [
      "\u001b[1;31m---------------------------------------------------------------------------\u001b[0m",
      "\u001b[1;31mModuleNotFoundError\u001b[0m                       Traceback (most recent call last)",
      "Cell \u001b[1;32mIn[14], line 1\u001b[0m\n\u001b[1;32m----> 1\u001b[0m \u001b[38;5;28;01mfrom\u001b[39;00m\u001b[38;5;250m \u001b[39m\u001b[38;5;21;01mselenium\u001b[39;00m\u001b[38;5;250m \u001b[39m\u001b[38;5;28;01mimport\u001b[39;00m webdriver\n\u001b[0;32m      2\u001b[0m \u001b[38;5;28;01mfrom\u001b[39;00m\u001b[38;5;250m \u001b[39m\u001b[38;5;21;01mselenium\u001b[39;00m\u001b[38;5;21;01m.\u001b[39;00m\u001b[38;5;21;01mwebdriver\u001b[39;00m\u001b[38;5;21;01m.\u001b[39;00m\u001b[38;5;21;01mcommon\u001b[39;00m\u001b[38;5;21;01m.\u001b[39;00m\u001b[38;5;21;01mby\u001b[39;00m\u001b[38;5;250m \u001b[39m\u001b[38;5;28;01mimport\u001b[39;00m By\n\u001b[0;32m      3\u001b[0m \u001b[38;5;28;01mimport\u001b[39;00m\u001b[38;5;250m \u001b[39m\u001b[38;5;21;01mtime\u001b[39;00m\n",
      "\u001b[1;31mModuleNotFoundError\u001b[0m: No module named 'selenium'"
     ]
    }
   ],
   "source": [
    "from selenium import webdriver\n",
    "from selenium.webdriver.common.by import By\n",
    "import time\n",
    "\n",
    "driver = webdriver.Chrome()\n",
    "\n",
    "driver.get('https://www.tankauction.com/')\n",
    "\n",
    "# 로그인 폼 채우기\n",
    "driver.find_element(By.ID, 'client_id').send_keys('yjj7479')\n",
    "driver.find_element(By.ID, 'password').send_keys('xodzmdhrtus0911!')\n",
    "driver.find_element(By.ID, \"button btn_white bigrounded\").click()\n",
    "\n",
    "time.sleep(5)  # 로그인 처리 대기\n",
    "\n",
    "# 보호된 페이지 접근\n",
    "driver.get('https://www.tankauction.com/inc/BgItems.php?title=%EC%95%84%ED%8C%8C%ED%8A%B8&t=a1&tid=2276168&dong=+52+&tg=A&tp=1&a=1&b=1&c=1&pnu=1132010500&addr=%EC%84%9C%EC%9A%B8%ED%8A%B9%EB%B3%84%EC%8B%9C+%EB%8F%84%EB%B4%89%EA%B5%AC+%EC%8C%8D%EB%AC%B8%EB%8F%99&bg=59-3&bldgNm=%ED%95%9C%EC%96%915&bldgSqm=65.37&bldgNmCnt=1&bldgDj=%ED%95%9C%EC%96%915&roadAddr=%ED%95%B4%EB%93%B1%EB%A1%9C25%EA%B8%B8+36&gb=1&tile_mode=&area=&search_mode=&class=&fromYear=2006&toYear=2025&fromMonth=1&toMonth=4&dealType=1&houseType=&landuse=&zoning=&oflanduse=&buildinguse=&area_gp=&pageNo=1&dataSize=20&pageSize=10&BBL=1&SBL=1&DBL=1')\n",
    "html = driver.page_source\n",
    "\n",
    "print(html)\n",
    "\n",
    "driver.quit()"
   ]
  },
  {
   "cell_type": "code",
   "execution_count": null,
   "id": "34d008d7",
   "metadata": {},
   "outputs": [],
   "source": [
    "<a href=\"javascript:void(0);\" class=\"button btn_white bigrounded\" onclick=\"login();\">로그인</a>"
   ]
  },
  {
   "cell_type": "code",
   "execution_count": null,
   "id": "169a1e66",
   "metadata": {},
   "outputs": [],
   "source": []
  },
  {
   "cell_type": "code",
   "execution_count": null,
   "id": "c2212734",
   "metadata": {},
   "outputs": [],
   "source": []
  }
 ],
 "metadata": {
  "kernelspec": {
   "display_name": "Python 3 (ipykernel)",
   "language": "python",
   "name": "python3"
  },
  "language_info": {
   "codemirror_mode": {
    "name": "ipython",
    "version": 3
   },
   "file_extension": ".py",
   "mimetype": "text/x-python",
   "name": "python",
   "nbconvert_exporter": "python",
   "pygments_lexer": "ipython3",
   "version": "3.9.21"
  }
 },
 "nbformat": 4,
 "nbformat_minor": 5
}
