{
 "cells": [
  {
   "cell_type": "code",
   "execution_count": 1,
   "id": "35e54667",
   "metadata": {},
   "outputs": [],
   "source": [
    "import os\n",
    "import requests\n",
    "from bs4 import BeautifulSoup as bs"
   ]
  },
  {
   "cell_type": "code",
   "execution_count": 28,
   "id": "8dcde045",
   "metadata": {},
   "outputs": [],
   "source": [
    "from selenium import webdriver\n",
    "from selenium.webdriver.chrome.service import Service\n",
    "from selenium.webdriver.chrome.options import Options\n",
    "from webdriver_manager.chrome import ChromeDriverManager\n",
    "from selenium.webdriver.common.by import By\n",
    "from selenium.webdriver.common.keys import Keys\n",
    "from selenium.webdriver.support.ui import WebDriverWait\n",
    "from selenium.webdriver.support.ui import Select\n",
    "from selenium.webdriver.support import expected_conditions as EC\n",
    "from datetime import datetime, timedelta\n",
    "import time \n",
    "import pandas as pd\n",
    "from io import StringIO"
   ]
  },
  {
   "cell_type": "code",
   "execution_count": 5,
   "id": "484f04a4",
   "metadata": {
    "scrolled": true
   },
   "outputs": [
    {
     "name": "stdout",
     "output_type": "stream",
     "text": [
      "https://www.tankauction.com/inc/BgItems.php 200\n",
      "\r\n",
      "<html lang=\"ko\">\r\n",
      "<head>\r\n",
      "\t<meta charset=\"utf-8\" />\r\n",
      "\t<meta name=\"Generator\" content=\"origin\">\r\n",
      "\t<meta http-equiv=\"Content-Script-Type\" content=\"text/javascript\">\r\n",
      "\t<meta http-equiv=\"Content-Style-Type\" content=\"text/css\">\r\n",
      "\t<meta http-equiv=\"X-UA-Compatible\" content=\"IE=edge\">\r\n",
      "\t<meta name=\"viewport\" content=\"width=1000px, maximum-scale=1.0\">\r\n",
      "\t\t<title>탱크옥션</title>\r\n",
      "\t<meta name=\"Description\" content=\"법원경매,부동산경매\">\r\n",
      "\t\t<link rel=\"stylesheet\" type=\"text/css\" href=\"/css/font.css?ver=20241029\">\r\n",
      "\t<link rel=\"stylesheet\" type=\"text/css\" href=\"/css/tank.css?ver=20241029\">\r\n",
      "\t<link rel=\"stylesheet\" type=\"text/css\" href=\"/css/style.css?ver=20241029\">\r\n",
      "\t<link rel=\"stylesheet\" type=\"text/css\" href=\"/css/button.css?ver=20241029\">\r\n",
      "\t\t\t<link rel=\"stylesheet\" type=\"text/css\" href=\"/css/viewMob.css?ver=20241029\">\r\n",
      "\t\t\r\n",
      "\t<link rel=\"stylesheet\" type=\"text/css\" href=\"/css/input.css?ver=20241029\">\r\n",
      "\t<link rel=\"stylesheet\" type=\"text/css\" href=\"/css/tab.css?ver=20241029\">\r\n",
      "\t<link rel=\"stylesheet\" type=\"text/css\" href=\"/css/tooltip.css?ver=20241029\">\r\n",
      "\t<link rel=\"stylesheet\" type=\"text/css\" href=\"/js/jquery-ui.min.css\">\r\n",
      "\t<link rel=\"stylesheet\" type=\"text/css\" href=\"/js/swiper-5.2.0/css/swiper.css\">\r\n",
      "\t<link href='/img/icon/icon192x192.png' rel='icon' type='image/png' />\r\n",
      "\t<link href='/img/icon/icon192x192.png' rel='shortcut icon' type='image/png' />\r\n",
      "\t<link href='/img/icon/icon128x128.png' rel='apple-touch-icon'  type='image/png'/>\r\n",
      "\r\n",
      "\t<script type=\"text/javascript\" src=\"/js/jquery-3.6.0.min.js\"></script>\r\n",
      "\t<script type=\"text/javascript\" src=\"/js/jquery.history.js\"></script>\r\n",
      "\t<script type=\"text/javascript\" src=\"/js/jquery-ui.min.js\"></script>\r\n",
      "\t<script src=\"/js/swiper-5.2.0/js/swiper.js\"></script>\r\n",
      "\t<!-- 테스트후 삭제-->\r\n",
      "\t<!--<script type=\"text/javascript\" src=\"/js/crypto-js.min.js\"></script>-->\r\n",
      "\t<!-- 테스트후 삭제-->\r\n",
      "\t<script type=\"text/javascript\" src=\"/js/jquery.ui.datepicker-ko.js\"></script>\r\n",
      "\t<script type=\"text/javascript\" src=\"/js/jquery.number.min.js\"></script>\r\n",
      "\t<script type=\"text/javascript\" src=\"/js/Json.js?ver=20241029\"></script>\r\n",
      "\t<script type=\"text/javascript\" src=\"/js/Func.js?ver=20241029\"></script>\r\n",
      "\t<script type=\"text/javascript\" src=\"/js/login.js?ver=20241029\"></script>\r\n",
      "\t<script src=\"https://developers.kakao.com/sdk/js/kakao.js\"></script>\r\n",
      "\t<!--// 프린트 -->\r\n",
      "<!--\t<script type=\"text/javascript\" src=\"/js/printThis.js\"></script>-->\r\n",
      " <script src=\"https://cdnjs.cloudflare.com/ajax/libs/printThis/1.15.0/printThis.js\"></script>\r\n",
      "\t<script type=\"text/javascript\">\r\n",
      "\t\tfunction supports_local_storage(){return (typeof window.localStorage != 'undefined');}\r\n",
      "\t\tvar lsg_chk=supports_local_storage();\r\n",
      "\r\n",
      "//\t\tvar TK=eval(\"(\"+\"{'k2':'0','mob':''}\"+\")\");\r\n",
      "//\t\tvar TK_FILE=eval(\"(\"+\"{'CA':'/FILE/CA/','PA':'/FILEPA/PA/','INC':'/FILEINC/'}\"+\")\");\r\n",
      "//\t\tvar TK_INT_GY=eval(\"(\"+\"{}\"+\")\");\r\n",
      "//\t\tvar TK_INT_GO=eval(\"(\"+\"{}\"+\")\");\r\n",
      "//\t\tvar TK_INT_DEL=eval(\"(\"+\"{'did':''}\"+\")\");\r\n",
      "\t\t\r\n",
      "\t\tvar TK={'k2':'0','mob':''};\r\n",
      "\t\tvar TK_FILE={'CA':'/FILE/CA/','PA':'/FILEPA/PA/','INC':'/FILEINC/'};\t\r\n",
      "\t\tvar TK_INT_GY={};\r\n",
      "\t\tvar TK_INT_GO={};\r\n",
      "\t\tvar TK_INT_DEL={'did':''};\r\n",
      "\t\t\r\n",
      "\t</script>\r\n",
      "\t</head>\r\n",
      "<style>\r\n",
      "\thtml>/**/body{overflow-y:auto !important}\r\n",
      "</style>\r\n",
      "\t<body style=\"padding:0;overflow-x:hidden\">\r\n",
      "<div id=\"pop_wrap\">\r\n",
      "\r\n",
      "\r\n",
      "\t\t\t\t<script type='text/javascript'>\r\n",
      "\t\t\t\t\talert('로그인 후 이용하세요.');\r\n",
      "\t\t\t\t\tif(window.opener) window.close();\r\n",
      "\t\t\t\t\telse location.href='/';\r\n",
      "\t\t\t\t</script>\n"
     ]
    }
   ],
   "source": [
    "url = \"https://www.tankauction.com/\"\n",
    "payload = \n",
    "header= {'client_id':'yjj7479', 'password':'xodzmdhrtus0911!'}\n",
    "r = requests.post(url,data = payload)\n",
    "print(r.url, r.status_code)\n",
    "print(r.text)"
   ]
  },
  {
   "cell_type": "code",
   "execution_count": 30,
   "id": "6e0f4782",
   "metadata": {},
   "outputs": [
    {
     "ename": "ElementClickInterceptedException",
     "evalue": "Message: element click intercepted: Element is not clickable at point (1070, 50)\n  (Session info: chrome=135.0.7049.85)\nStacktrace:\n\tGetHandleVerifier [0x00007FF74AAE5355+78597]\n\tGetHandleVerifier [0x00007FF74AAE53B0+78688]\n\t(No symbol) [0x00007FF74A8991AA]\n\t(No symbol) [0x00007FF74A8F7089]\n\t(No symbol) [0x00007FF74A8F4A42]\n\t(No symbol) [0x00007FF74A8F1AE1]\n\t(No symbol) [0x00007FF74A8F0A42]\n\t(No symbol) [0x00007FF74A8E2204]\n\t(No symbol) [0x00007FF74A9170EA]\n\t(No symbol) [0x00007FF74A8E1AB6]\n\t(No symbol) [0x00007FF74A917300]\n\t(No symbol) [0x00007FF74A93F2BB]\n\t(No symbol) [0x00007FF74A916EC3]\n\t(No symbol) [0x00007FF74A8E03F8]\n\t(No symbol) [0x00007FF74A8E1163]\n\tGetHandleVerifier [0x00007FF74AD8EF0D+2870973]\n\tGetHandleVerifier [0x00007FF74AD896B8+2848360]\n\tGetHandleVerifier [0x00007FF74ADA6993+2967875]\n\tGetHandleVerifier [0x00007FF74AB0019A+188746]\n\tGetHandleVerifier [0x00007FF74AB0847F+222255]\n\tGetHandleVerifier [0x00007FF74AAED2D4+111236]\n\tGetHandleVerifier [0x00007FF74AAED482+111666]\n\tGetHandleVerifier [0x00007FF74AAD35A9+5465]\n\tBaseThreadInitThunk [0x00007FFD3D3AE8D7+23]\n\tRtlUserThreadStart [0x00007FFD3D8B14FC+44]\n",
     "output_type": "error",
     "traceback": [
      "\u001b[1;31m---------------------------------------------------------------------------\u001b[0m",
      "\u001b[1;31mElementClickInterceptedException\u001b[0m          Traceback (most recent call last)",
      "Cell \u001b[1;32mIn[30], line 24\u001b[0m\n\u001b[0;32m     20\u001b[0m \u001b[38;5;66;03m# 로그인 버튼 선택\u001b[39;00m\n\u001b[0;32m     21\u001b[0m button \u001b[38;5;241m=\u001b[39m wait\u001b[38;5;241m.\u001b[39muntil(EC\u001b[38;5;241m.\u001b[39melement_to_be_clickable(\n\u001b[0;32m     22\u001b[0m         (By\u001b[38;5;241m.\u001b[39mCSS_SELECTOR, \u001b[38;5;124m'\u001b[39m\u001b[38;5;124m.hand\u001b[39m\u001b[38;5;124m'\u001b[39m)\n\u001b[0;32m     23\u001b[0m     ))\n\u001b[1;32m---> 24\u001b[0m \u001b[43mbutton\u001b[49m\u001b[38;5;241;43m.\u001b[39;49m\u001b[43mclick\u001b[49m\u001b[43m(\u001b[49m\u001b[43m)\u001b[49m\n\u001b[0;32m     26\u001b[0m driver\u001b[38;5;241m.\u001b[39mfind_element(By\u001b[38;5;241m.\u001b[39mCSS_SELECTOR, \u001b[38;5;124m'\u001b[39m\u001b[38;5;124m.hand\u001b[39m\u001b[38;5;124m'\u001b[39m)\u001b[38;5;241m.\u001b[39msend_keys(\u001b[38;5;124m'\u001b[39m\u001b[38;5;124myjj7479\u001b[39m\u001b[38;5;124m'\u001b[39m)\n\u001b[0;32m     30\u001b[0m \u001b[38;5;66;03m# 로그인 폼 채우기\u001b[39;00m\n",
      "File \u001b[1;32m~\\miniforge3\\envs\\fintech\\lib\\site-packages\\selenium\\webdriver\\remote\\webelement.py:119\u001b[0m, in \u001b[0;36mWebElement.click\u001b[1;34m(self)\u001b[0m\n\u001b[0;32m    111\u001b[0m \u001b[38;5;28;01mdef\u001b[39;00m\u001b[38;5;250m \u001b[39m\u001b[38;5;21mclick\u001b[39m(\u001b[38;5;28mself\u001b[39m) \u001b[38;5;241m-\u001b[39m\u001b[38;5;241m>\u001b[39m \u001b[38;5;28;01mNone\u001b[39;00m:\n\u001b[0;32m    112\u001b[0m \u001b[38;5;250m    \u001b[39m\u001b[38;5;124;03m\"\"\"Clicks the element.\u001b[39;00m\n\u001b[0;32m    113\u001b[0m \n\u001b[0;32m    114\u001b[0m \u001b[38;5;124;03m    Example:\u001b[39;00m\n\u001b[1;32m   (...)\u001b[0m\n\u001b[0;32m    117\u001b[0m \u001b[38;5;124;03m    >>> element.click()\u001b[39;00m\n\u001b[0;32m    118\u001b[0m \u001b[38;5;124;03m    \"\"\"\u001b[39;00m\n\u001b[1;32m--> 119\u001b[0m     \u001b[38;5;28;43mself\u001b[39;49m\u001b[38;5;241;43m.\u001b[39;49m\u001b[43m_execute\u001b[49m\u001b[43m(\u001b[49m\u001b[43mCommand\u001b[49m\u001b[38;5;241;43m.\u001b[39;49m\u001b[43mCLICK_ELEMENT\u001b[49m\u001b[43m)\u001b[49m\n",
      "File \u001b[1;32m~\\miniforge3\\envs\\fintech\\lib\\site-packages\\selenium\\webdriver\\remote\\webelement.py:572\u001b[0m, in \u001b[0;36mWebElement._execute\u001b[1;34m(self, command, params)\u001b[0m\n\u001b[0;32m    570\u001b[0m     params \u001b[38;5;241m=\u001b[39m {}\n\u001b[0;32m    571\u001b[0m params[\u001b[38;5;124m\"\u001b[39m\u001b[38;5;124mid\u001b[39m\u001b[38;5;124m\"\u001b[39m] \u001b[38;5;241m=\u001b[39m \u001b[38;5;28mself\u001b[39m\u001b[38;5;241m.\u001b[39m_id\n\u001b[1;32m--> 572\u001b[0m \u001b[38;5;28;01mreturn\u001b[39;00m \u001b[38;5;28;43mself\u001b[39;49m\u001b[38;5;241;43m.\u001b[39;49m\u001b[43m_parent\u001b[49m\u001b[38;5;241;43m.\u001b[39;49m\u001b[43mexecute\u001b[49m\u001b[43m(\u001b[49m\u001b[43mcommand\u001b[49m\u001b[43m,\u001b[49m\u001b[43m \u001b[49m\u001b[43mparams\u001b[49m\u001b[43m)\u001b[49m\n",
      "File \u001b[1;32m~\\miniforge3\\envs\\fintech\\lib\\site-packages\\selenium\\webdriver\\remote\\webdriver.py:429\u001b[0m, in \u001b[0;36mWebDriver.execute\u001b[1;34m(self, driver_command, params)\u001b[0m\n\u001b[0;32m    427\u001b[0m response \u001b[38;5;241m=\u001b[39m \u001b[38;5;28mself\u001b[39m\u001b[38;5;241m.\u001b[39mcommand_executor\u001b[38;5;241m.\u001b[39mexecute(driver_command, params)\n\u001b[0;32m    428\u001b[0m \u001b[38;5;28;01mif\u001b[39;00m response:\n\u001b[1;32m--> 429\u001b[0m     \u001b[38;5;28;43mself\u001b[39;49m\u001b[38;5;241;43m.\u001b[39;49m\u001b[43merror_handler\u001b[49m\u001b[38;5;241;43m.\u001b[39;49m\u001b[43mcheck_response\u001b[49m\u001b[43m(\u001b[49m\u001b[43mresponse\u001b[49m\u001b[43m)\u001b[49m\n\u001b[0;32m    430\u001b[0m     response[\u001b[38;5;124m\"\u001b[39m\u001b[38;5;124mvalue\u001b[39m\u001b[38;5;124m\"\u001b[39m] \u001b[38;5;241m=\u001b[39m \u001b[38;5;28mself\u001b[39m\u001b[38;5;241m.\u001b[39m_unwrap_value(response\u001b[38;5;241m.\u001b[39mget(\u001b[38;5;124m\"\u001b[39m\u001b[38;5;124mvalue\u001b[39m\u001b[38;5;124m\"\u001b[39m, \u001b[38;5;28;01mNone\u001b[39;00m))\n\u001b[0;32m    431\u001b[0m     \u001b[38;5;28;01mreturn\u001b[39;00m response\n",
      "File \u001b[1;32m~\\miniforge3\\envs\\fintech\\lib\\site-packages\\selenium\\webdriver\\remote\\errorhandler.py:232\u001b[0m, in \u001b[0;36mErrorHandler.check_response\u001b[1;34m(self, response)\u001b[0m\n\u001b[0;32m    230\u001b[0m         alert_text \u001b[38;5;241m=\u001b[39m value[\u001b[38;5;124m\"\u001b[39m\u001b[38;5;124malert\u001b[39m\u001b[38;5;124m\"\u001b[39m]\u001b[38;5;241m.\u001b[39mget(\u001b[38;5;124m\"\u001b[39m\u001b[38;5;124mtext\u001b[39m\u001b[38;5;124m\"\u001b[39m)\n\u001b[0;32m    231\u001b[0m     \u001b[38;5;28;01mraise\u001b[39;00m exception_class(message, screen, stacktrace, alert_text)  \u001b[38;5;66;03m# type: ignore[call-arg]  # mypy is not smart enough here\u001b[39;00m\n\u001b[1;32m--> 232\u001b[0m \u001b[38;5;28;01mraise\u001b[39;00m exception_class(message, screen, stacktrace)\n",
      "\u001b[1;31mElementClickInterceptedException\u001b[0m: Message: element click intercepted: Element is not clickable at point (1070, 50)\n  (Session info: chrome=135.0.7049.85)\nStacktrace:\n\tGetHandleVerifier [0x00007FF74AAE5355+78597]\n\tGetHandleVerifier [0x00007FF74AAE53B0+78688]\n\t(No symbol) [0x00007FF74A8991AA]\n\t(No symbol) [0x00007FF74A8F7089]\n\t(No symbol) [0x00007FF74A8F4A42]\n\t(No symbol) [0x00007FF74A8F1AE1]\n\t(No symbol) [0x00007FF74A8F0A42]\n\t(No symbol) [0x00007FF74A8E2204]\n\t(No symbol) [0x00007FF74A9170EA]\n\t(No symbol) [0x00007FF74A8E1AB6]\n\t(No symbol) [0x00007FF74A917300]\n\t(No symbol) [0x00007FF74A93F2BB]\n\t(No symbol) [0x00007FF74A916EC3]\n\t(No symbol) [0x00007FF74A8E03F8]\n\t(No symbol) [0x00007FF74A8E1163]\n\tGetHandleVerifier [0x00007FF74AD8EF0D+2870973]\n\tGetHandleVerifier [0x00007FF74AD896B8+2848360]\n\tGetHandleVerifier [0x00007FF74ADA6993+2967875]\n\tGetHandleVerifier [0x00007FF74AB0019A+188746]\n\tGetHandleVerifier [0x00007FF74AB0847F+222255]\n\tGetHandleVerifier [0x00007FF74AAED2D4+111236]\n\tGetHandleVerifier [0x00007FF74AAED482+111666]\n\tGetHandleVerifier [0x00007FF74AAD35A9+5465]\n\tBaseThreadInitThunk [0x00007FFD3D3AE8D7+23]\n\tRtlUserThreadStart [0x00007FFD3D8B14FC+44]\n"
     ]
    }
   ],
   "source": [
    "options = Options()\n",
    "options.add_experimental_option(\"detach\", True)\n",
    "options.add_argument(\"start-maximized\")\n",
    "options.add_argument(\"Chrome/135.0.0.0\")\n",
    "options.add_argument(\"lang=ko_KR\")\n",
    "\n",
    "\n",
    "driver = webdriver.Chrome(\n",
    "        service=Service(ChromeDriverManager().install()),\n",
    "        options=options\n",
    "        )\n",
    "\n",
    "\n",
    "driver = webdriver.Chrome()\n",
    "\n",
    "driver.get('https://www.tankauction.com/')\n",
    "\n",
    "wait = WebDriverWait(driver, 10)\n",
    "\n",
    "# 로그인 버튼 선택\n",
    "button = wait.until(EC.element_to_be_clickable(\n",
    "        (By.CSS_SELECTOR, '.hand')\n",
    "    ))\n",
    "button.click()\n",
    "\n",
    "driver.find_element(By.CSS_SELECTOR, '.hand').send_keys('yjj7479')\n",
    "\n",
    "\n",
    "\n",
    "# 로그인 폼 채우기\n",
    "driver.find_element(By.ID, 'client_id').send_keys('yjj7479')\n",
    "driver.find_element(By.ID, 'password').send_keys('xodzmdhrtus0911!')\n",
    "driver.find_element(By.ID, \"button btn_white bigrounded\").click()\n",
    "\n",
    "time.sleep(5)  # 로그인 처리 대기\n",
    "\n",
    "# 보호된 페이지 접근\n",
    "driver.get('https://www.tankauction.com/inc/BgItems.php?title=%EC%95%84%ED%8C%8C%ED%8A%B8&t=a1&tid=2276168&dong=+52+&tg=A&tp=1&a=1&b=1&c=1&pnu=1132010500&addr=%EC%84%9C%EC%9A%B8%ED%8A%B9%EB%B3%84%EC%8B%9C+%EB%8F%84%EB%B4%89%EA%B5%AC+%EC%8C%8D%EB%AC%B8%EB%8F%99&bg=59-3&bldgNm=%ED%95%9C%EC%96%915&bldgSqm=65.37&bldgNmCnt=1&bldgDj=%ED%95%9C%EC%96%915&roadAddr=%ED%95%B4%EB%93%B1%EB%A1%9C25%EA%B8%B8+36&gb=1&tile_mode=&area=&search_mode=&class=&fromYear=2006&toYear=2025&fromMonth=1&toMonth=4&dealType=1&houseType=&landuse=&zoning=&oflanduse=&buildinguse=&area_gp=&pageNo=1&dataSize=20&pageSize=10&BBL=1&SBL=1&DBL=1')\n",
    "html = driver.page_source\n",
    "\n",
    "print(html)\n",
    "\n",
    "driver.quit()"
   ]
  },
  {
   "cell_type": "code",
   "execution_count": 35,
   "id": "34d008d7",
   "metadata": {},
   "outputs": [
    {
     "name": "stdout",
     "output_type": "stream",
     "text": [
      "지역을 입력해주세요서울\n"
     ]
    }
   ],
   "source": [
    "keyword1 = input(\"지역을 입력해주세요\")\n",
    "keyword2 = input(\"주거용과 아파트 중 하나를 입력해주세요\")\n",
    "\n",
    "options = Options()\n",
    "options.add_experimental_option(\"detach\", True)\n",
    "options.add_argument(\"start-maximized\")\n",
    "options.add_argument(\"Chrome/135.0.0.0\")\n",
    "options.add_argument(\"lang=ko_KR\")\n",
    "\n",
    "\n",
    "driver = webdriver.Chrome(\n",
    "        service=Service(ChromeDriverManager().install()),\n",
    "        options=options\n",
    "        )\n",
    "\n",
    "driver.get('https://www.tankauction.com/')\n",
    "\n",
    "wait = WebDriverWait(driver, 10)\n",
    "# 로그인 버튼 선택\n",
    "button = wait.until(EC.element_to_be_clickable(\n",
    "        (By.CSS_SELECTOR, '.hand')\n",
    "    ))\n",
    "button.click()\n",
    "\n",
    "# 로그인 폼 채우기\n",
    "id_input = wait.until(EC.element_to_be_clickable(\n",
    "        (By.ID, 'client_id')\n",
    "    ))\n",
    "id_input.send_keys('yjj7479')\n",
    "\n",
    "driver.find_element(By.ID, 'passwd').send_keys('xodzmdhrtus0911!')\n",
    "time.sleep(2)\n",
    "driver.find_element(By.CSS_SELECTOR, \".button.btn_white.bigrounded\").click()\n",
    "\n",
    "time.sleep(3)  # 로그인 처리 대기\n",
    "# 경매 검색 \n",
    "btn_search = wait.until(EC.element_to_be_clickable(\n",
    "        (By.CSS_SELECTOR, \".menuicon_10\")\n",
    "    ))\n",
    "btn_search.click()\n",
    "\n",
    "# 지역 선택\n",
    "siCd_dropdown = Select(wait.until(EC.element_to_be_clickable((By.ID, \"siCd\"))))\n",
    "siCd_dropdown.select_by_visible_text(keyword1)"
   ]
  },
  {
   "cell_type": "code",
   "execution_count": 20,
   "id": "169a1e66",
   "metadata": {},
   "outputs": [],
   "source": [
    "\n",
    "\n",
    "# 로그인 폼 채우기\n",
    "driver.find_element(By.ID, 'client_id').send_keys('yjj7479')\n",
    "time.sleep(2)\n",
    "driver.find_element(By.ID, 'passwd').send_keys('xodzmdhrtus0911!')\n",
    "time.sleep(2)\n",
    "driver.find_element(By.CSS_SELECTOR, \".button.btn_white.bigrounded\").click()\n",
    "\n",
    "time.sleep(5)  # 로그인 처리 대기\n"
   ]
  },
  {
   "cell_type": "code",
   "execution_count": 34,
   "id": "c2212734",
   "metadata": {},
   "outputs": [
    {
     "name": "stdout",
     "output_type": "stream",
     "text": [
      "지역을 입력해주세요서울\n"
     ]
    },
    {
     "ename": "TimeoutException",
     "evalue": "Message: \nStacktrace:\n\tGetHandleVerifier [0x00C88073+60707]\n\tGetHandleVerifier [0x00C880B4+60772]\n\t(No symbol) [0x00AB0683]\n\t(No symbol) [0x00AF8660]\n\t(No symbol) [0x00AF89FB]\n\t(No symbol) [0x00B41022]\n\t(No symbol) [0x00B1D094]\n\t(No symbol) [0x00B3E824]\n\t(No symbol) [0x00B1CE46]\n\t(No symbol) [0x00AEC5D3]\n\t(No symbol) [0x00AED424]\n\tGetHandleVerifier [0x00ECBB53+2435075]\n\tGetHandleVerifier [0x00EC70F3+2416035]\n\tGetHandleVerifier [0x00EE349C+2531660]\n\tGetHandleVerifier [0x00C9F145+155125]\n\tGetHandleVerifier [0x00CA5AED+182173]\n\tGetHandleVerifier [0x00C8F948+91640]\n\tGetHandleVerifier [0x00C8FAF0+92064]\n\tGetHandleVerifier [0x00C7A5B0+4704]\n\tBaseThreadInitThunk [0x76FD5D49+25]\n\tRtlInitializeExceptionChain [0x77BFCF0B+107]\n\tRtlGetAppContainerNamedObjectPath [0x77BFCE91+561]\n",
     "output_type": "error",
     "traceback": [
      "\u001b[1;31m---------------------------------------------------------------------------\u001b[0m",
      "\u001b[1;31mTimeoutException\u001b[0m                          Traceback (most recent call last)",
      "Cell \u001b[1;32mIn[34], line 8\u001b[0m\n\u001b[0;32m      4\u001b[0m btn_search \u001b[38;5;241m=\u001b[39m wait\u001b[38;5;241m.\u001b[39muntil(EC\u001b[38;5;241m.\u001b[39melement_to_be_clickable(\n\u001b[0;32m      5\u001b[0m         (By\u001b[38;5;241m.\u001b[39mCSS_SELECTOR, \u001b[38;5;124m\"\u001b[39m\u001b[38;5;124m.menuicon_10\u001b[39m\u001b[38;5;124m\"\u001b[39m)\n\u001b[0;32m      6\u001b[0m     ))\n\u001b[0;32m      7\u001b[0m \u001b[38;5;66;03m# 지역 선택\u001b[39;00m\n\u001b[1;32m----> 8\u001b[0m siCd_dropdown \u001b[38;5;241m=\u001b[39m Select(\u001b[43mwait\u001b[49m\u001b[38;5;241;43m.\u001b[39;49m\u001b[43muntil\u001b[49m\u001b[43m(\u001b[49m\u001b[43mEC\u001b[49m\u001b[38;5;241;43m.\u001b[39;49m\u001b[43melement_to_be_clickable\u001b[49m\u001b[43m(\u001b[49m\u001b[43m(\u001b[49m\u001b[43mBy\u001b[49m\u001b[38;5;241;43m.\u001b[39;49m\u001b[43mID\u001b[49m\u001b[43m,\u001b[49m\u001b[43m \u001b[49m\u001b[38;5;124;43m\"\u001b[39;49m\u001b[38;5;124;43msiCd\u001b[39;49m\u001b[38;5;124;43m\"\u001b[39;49m\u001b[43m)\u001b[49m\u001b[43m)\u001b[49m\u001b[43m)\u001b[49m)\n\u001b[0;32m      9\u001b[0m siCd_dropdown\u001b[38;5;241m.\u001b[39mselect_by_visible_text(keyword1)\n",
      "File \u001b[1;32m~\\miniforge3\\envs\\fintech\\lib\\site-packages\\selenium\\webdriver\\support\\wait.py:146\u001b[0m, in \u001b[0;36mWebDriverWait.until\u001b[1;34m(self, method, message)\u001b[0m\n\u001b[0;32m    144\u001b[0m         \u001b[38;5;28;01mbreak\u001b[39;00m\n\u001b[0;32m    145\u001b[0m     time\u001b[38;5;241m.\u001b[39msleep(\u001b[38;5;28mself\u001b[39m\u001b[38;5;241m.\u001b[39m_poll)\n\u001b[1;32m--> 146\u001b[0m \u001b[38;5;28;01mraise\u001b[39;00m TimeoutException(message, screen, stacktrace)\n",
      "\u001b[1;31mTimeoutException\u001b[0m: Message: \nStacktrace:\n\tGetHandleVerifier [0x00C88073+60707]\n\tGetHandleVerifier [0x00C880B4+60772]\n\t(No symbol) [0x00AB0683]\n\t(No symbol) [0x00AF8660]\n\t(No symbol) [0x00AF89FB]\n\t(No symbol) [0x00B41022]\n\t(No symbol) [0x00B1D094]\n\t(No symbol) [0x00B3E824]\n\t(No symbol) [0x00B1CE46]\n\t(No symbol) [0x00AEC5D3]\n\t(No symbol) [0x00AED424]\n\tGetHandleVerifier [0x00ECBB53+2435075]\n\tGetHandleVerifier [0x00EC70F3+2416035]\n\tGetHandleVerifier [0x00EE349C+2531660]\n\tGetHandleVerifier [0x00C9F145+155125]\n\tGetHandleVerifier [0x00CA5AED+182173]\n\tGetHandleVerifier [0x00C8F948+91640]\n\tGetHandleVerifier [0x00C8FAF0+92064]\n\tGetHandleVerifier [0x00C7A5B0+4704]\n\tBaseThreadInitThunk [0x76FD5D49+25]\n\tRtlInitializeExceptionChain [0x77BFCF0B+107]\n\tRtlGetAppContainerNamedObjectPath [0x77BFCE91+561]\n"
     ]
    }
   ],
   "source": [
    "keyword1 = input(\"지역을 입력해주세요\")\n",
    "keyword2 = input(\"주거용과 아파트 중 하나를 입력해주세요\")\n",
    "\n",
    "# 경매 검색 \n",
    "btn_search = wait.until(EC.element_to_be_clickable(\n",
    "        (By.CSS_SELECTOR, \".menuicon_10\")\n",
    "    ))\n",
    "btn_search.click()\n",
    "# 지역 선택\n",
    "siCd_dropdown = Select(wait.until(EC.element_to_be_clickable((By.ID, \"siCd\"))))\n",
    "siCd_dropdown.select_by_visible_text(keyword1)\n",
    "\n",
    "# 물건종류 선택\n",
    "siCd_dropdown = Select(wait.until(EC.element_to_be_clickable((By.ID, \"ctgr\"))))\n",
    "siCd_dropdown.select_by_visible_text(keyword2)\n",
    "\n",
    "# 물건종류 선택\n",
    "siCd_dropdown = Select(wait.until(EC.element_to_be_clickable((By.ID, \"minbAmtEnd\"))))\n",
    "siCd_dropdown.select_by_visible_text(keyword2)"
   ]
  },
  {
   "cell_type": "code",
   "execution_count": null,
   "id": "7b43d640",
   "metadata": {},
   "outputs": [],
   "source": []
  },
  {
   "cell_type": "code",
   "execution_count": 26,
   "id": "6b5a9e5c",
   "metadata": {},
   "outputs": [
    {
     "ename": "ModuleNotFoundError",
     "evalue": "No module named 'PyQt5'",
     "output_type": "error",
     "traceback": [
      "\u001b[1;31m---------------------------------------------------------------------------\u001b[0m",
      "\u001b[1;31mModuleNotFoundError\u001b[0m                       Traceback (most recent call last)",
      "Cell \u001b[1;32mIn[26], line 4\u001b[0m\n\u001b[0;32m      1\u001b[0m \u001b[38;5;66;03m## Ex 5-5. QComboBox.\u001b[39;00m\n\u001b[0;32m      3\u001b[0m \u001b[38;5;28;01mimport\u001b[39;00m\u001b[38;5;250m \u001b[39m\u001b[38;5;21;01msys\u001b[39;00m\n\u001b[1;32m----> 4\u001b[0m \u001b[38;5;28;01mfrom\u001b[39;00m\u001b[38;5;250m \u001b[39m\u001b[38;5;21;01mPyQt5\u001b[39;00m\u001b[38;5;21;01m.\u001b[39;00m\u001b[38;5;21;01mQtWidgets\u001b[39;00m\u001b[38;5;250m \u001b[39m\u001b[38;5;28;01mimport\u001b[39;00m QApplication, QWidget, QLabel, QComboBox\n\u001b[0;32m      7\u001b[0m \u001b[38;5;28;01mclass\u001b[39;00m\u001b[38;5;250m \u001b[39m\u001b[38;5;21;01mMyApp\u001b[39;00m(QWidget):\n\u001b[0;32m      9\u001b[0m     \u001b[38;5;28;01mdef\u001b[39;00m\u001b[38;5;250m \u001b[39m\u001b[38;5;21m__init__\u001b[39m(\u001b[38;5;28mself\u001b[39m):\n",
      "\u001b[1;31mModuleNotFoundError\u001b[0m: No module named 'PyQt5'"
     ]
    }
   ],
   "source": []
  },
  {
   "cell_type": "code",
   "execution_count": null,
   "id": "bb4e5b7b",
   "metadata": {},
   "outputs": [],
   "source": []
  },
  {
   "cell_type": "code",
   "execution_count": null,
   "id": "1e3971b0",
   "metadata": {},
   "outputs": [],
   "source": []
  },
  {
   "cell_type": "code",
   "execution_count": null,
   "id": "89c1da68",
   "metadata": {},
   "outputs": [],
   "source": []
  },
  {
   "cell_type": "code",
   "execution_count": null,
   "id": "b432328c",
   "metadata": {},
   "outputs": [],
   "source": []
  },
  {
   "cell_type": "code",
   "execution_count": null,
   "id": "20e9b744",
   "metadata": {},
   "outputs": [],
   "source": []
  },
  {
   "cell_type": "code",
   "execution_count": null,
   "id": "c3e5d12f",
   "metadata": {},
   "outputs": [],
   "source": []
  },
  {
   "cell_type": "code",
   "execution_count": null,
   "id": "a4ee7133",
   "metadata": {},
   "outputs": [],
   "source": []
  },
  {
   "cell_type": "code",
   "execution_count": null,
   "id": "cf518571",
   "metadata": {},
   "outputs": [],
   "source": []
  },
  {
   "cell_type": "code",
   "execution_count": null,
   "id": "2fc4afe4",
   "metadata": {},
   "outputs": [],
   "source": []
  },
  {
   "cell_type": "markdown",
   "id": "df3583fd",
   "metadata": {},
   "source": [
    "# 나중에 셀렉트 실행해볼것"
   ]
  },
  {
   "cell_type": "code",
   "execution_count": null,
   "id": "8738aa39",
   "metadata": {},
   "outputs": [],
   "source": [
    "## Ex 5-5. QComboBox.\n",
    "\n",
    "import sys\n",
    "from PyQt5.QtWidgets import QApplication, QWidget, QLabel, QComboBox\n",
    "\n",
    "\n",
    "class MyApp(QWidget):\n",
    "\n",
    "    def __init__(self):\n",
    "        super().__init__()\n",
    "        self.initUI()\n",
    "\n",
    "    def initUI(self):\n",
    "        self.lbl = QLabel('Option1', self)\n",
    "        self.lbl.move(50, 150)\n",
    "\n",
    "        cb = QComboBox(self)\n",
    "        cb.addItem('Option1')\n",
    "        cb.addItem('Option2')\n",
    "        cb.addItem('Option3')\n",
    "        cb.addItem('Option4')\n",
    "        cb.move(50, 50)\n",
    "\n",
    "        cb.activated[str].connect(self.onActivated)\n",
    "\n",
    "        self.setWindowTitle('QComboBox')\n",
    "        self.setGeometry(300, 300, 300, 200)\n",
    "        self.show()\n",
    "\n",
    "    def onActivated(self, text):\n",
    "        self.lbl.setText(text)\n",
    "        self.lbl.adjustSize()\n",
    "\n",
    "\n",
    "if __name__ == '__main__':\n",
    "    app = QApplication(sys.argv)\n",
    "    ex = MyApp()\n",
    "    sys.exit(app.exec_())"
   ]
  }
 ],
 "metadata": {
  "kernelspec": {
   "display_name": "Python 3 (ipykernel)",
   "language": "python",
   "name": "python3"
  },
  "language_info": {
   "codemirror_mode": {
    "name": "ipython",
    "version": 3
   },
   "file_extension": ".py",
   "mimetype": "text/x-python",
   "name": "python",
   "nbconvert_exporter": "python",
   "pygments_lexer": "ipython3",
   "version": "3.9.21"
  }
 },
 "nbformat": 4,
 "nbformat_minor": 5
}
