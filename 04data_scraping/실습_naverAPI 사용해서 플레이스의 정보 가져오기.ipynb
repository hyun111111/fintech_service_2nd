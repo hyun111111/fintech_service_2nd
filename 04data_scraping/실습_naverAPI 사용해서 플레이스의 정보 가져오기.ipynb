{
 "cells": [
  {
   "cell_type": "code",
   "execution_count": 22,
   "id": "a4b83825",
   "metadata": {},
   "outputs": [],
   "source": [
    "import requests\n",
    "import os\n",
    "import pandas as pd\n",
    "import time"
   ]
  },
  {
   "cell_type": "code",
   "execution_count": 11,
   "id": "c4644211",
   "metadata": {},
   "outputs": [
    {
     "name": "stdout",
     "output_type": "stream",
     "text": [
      "키워드를 입력해 주세요숲뷰 펜션\n"
     ]
    }
   ],
   "source": [
    "keyword = input(\"키워드를 입력해 주세요\")"
   ]
  },
  {
   "cell_type": "code",
   "execution_count": 24,
   "id": "123b3513",
   "metadata": {},
   "outputs": [
    {
     "name": "stdout",
     "output_type": "stream",
     "text": [
      "https://openapi.naver.com/v1/search/local.json?query=%EC%88%B2%EB%B7%B0+%ED%8E%9C%EC%85%98&display=10&start=1&sort=random 200\n"
     ]
    }
   ],
   "source": [
    "sort = \"random\" # random, comment 중 선택 \n",
    "# random: 정확도순으로 내림차순 정렬(기본값)\n",
    "#- comment: 업체 및 기관에 대한 카페, 블로그의 리뷰 개수순으로 내림차순 정렬\n",
    "url = \"https://openapi.naver.com/v1/search/local.json\"\n",
    "payload = dict(query=keyword, display=10, start=1, sort= sort )\n",
    "headers = {\"X-Naver-Client-Id\": \"ky2xDsaZyifHgJ6pdBwU\",\"X-Naver-Client-Secret\":\"3nNHDxyhXR\"}\n",
    "r = requests.get(url,params=payload, headers=headers)\n",
    "data = r.json()\n",
    "print(r.url, r.status_code)\n",
    "data\n",
    "place = {}\n",
    "for p_item in data['items']:\n",
    "    for key, value in p_item.items():\n",
    "        place.setdefault(key, []).append(value)\n",
    "place = pd.DataFrame(place)\n",
    "place.to_csv(f\"{keyword}_검색_펜션리스트.csv\", encoding=\"utf-8-sig\",index=False)\n",
    "place"
   ]
  },
  {
   "cell_type": "code",
   "execution_count": 21,
   "id": "ec37d48a",
   "metadata": {},
   "outputs": [
    {
     "data": {
      "text/plain": [
       "{'title': ['아름다운 <b>펜션</b>', '수피아<b>펜션</b>', '화진꽃잠<b>펜션</b>', '히든어드레스 카페'],\n",
       " 'link': ['', '', 'https://booking.naver.com/', ''],\n",
       " 'category': ['숙박>펜션', '숙박>펜션', '숙박>펜션', '음식점>카페,디저트'],\n",
       " 'description': ['', '', '', ''],\n",
       " 'telephone': ['', '', '', ''],\n",
       " 'address': ['전라남도 고흥군 도화면 봉산리 9-7',\n",
       "  '경상남도 남해군 삼동면 물건리 465-2 2층',\n",
       "  '경상북도 포항시 북구 송라면 화진리 451 화진꽃잠펜션',\n",
       "  '경기도 양평군 서종면 수능리 25-3 히든어드레스 앨리스펜션'],\n",
       " 'roadAddress': ['전라남도 고흥군 도화면 천마로 3152',\n",
       "  '경상남도 남해군 삼동면 동부대로1030번길 73',\n",
       "  '경상북도 포항시 북구 송라면 해안로 2978 화진꽃잠펜션',\n",
       "  '경기도 양평군 서종면 서능로 92 히든어드레스 앨리스펜션'],\n",
       " 'mapx': ['1273850972', '1280495803', '1293753228', '1273977328'],\n",
       " 'mapy': ['345053079', '347960161', '362435505', '375836981']}"
      ]
     },
     "execution_count": 21,
     "metadata": {},
     "output_type": "execute_result"
    }
   ],
   "source": [
    "place = {}\n",
    "for p_item in data['items']:\n",
    "    for key, value in p_item.items():\n",
    "        place.setdefault(key, []).append(value)\n",
    "place"
   ]
  },
  {
   "cell_type": "code",
   "execution_count": 19,
   "id": "4fff9570",
   "metadata": {},
   "outputs": [
    {
     "data": {
      "text/plain": [
       "{'title': '아름다운 <b>펜션</b>',\n",
       " 'link': '',\n",
       " 'category': '숙박>펜션',\n",
       " 'description': '',\n",
       " 'telephone': '',\n",
       " 'address': '전라남도 고흥군 도화면 봉산리 9-7',\n",
       " 'roadAddress': '전라남도 고흥군 도화면 천마로 3152',\n",
       " 'mapx': '1273850972',\n",
       " 'mapy': '345053079'}"
      ]
     },
     "execution_count": 19,
     "metadata": {},
     "output_type": "execute_result"
    }
   ],
   "source": [
    "data['items'][0]"
   ]
  },
  {
   "cell_type": "code",
   "execution_count": null,
   "id": "f6e18a6a",
   "metadata": {},
   "outputs": [],
   "source": []
  },
  {
   "cell_type": "code",
   "execution_count": null,
   "id": "903d9430",
   "metadata": {},
   "outputs": [],
   "source": []
  },
  {
   "cell_type": "code",
   "execution_count": null,
   "id": "53cfc863",
   "metadata": {},
   "outputs": [],
   "source": []
  },
  {
   "cell_type": "code",
   "execution_count": null,
   "id": "19de06c5",
   "metadata": {},
   "outputs": [],
   "source": []
  },
  {
   "cell_type": "code",
   "execution_count": null,
   "id": "77593e37",
   "metadata": {},
   "outputs": [],
   "source": []
  },
  {
   "cell_type": "code",
   "execution_count": null,
   "id": "ad1b58f0",
   "metadata": {},
   "outputs": [],
   "source": []
  },
  {
   "cell_type": "code",
   "execution_count": null,
   "id": "09aeefdd",
   "metadata": {},
   "outputs": [],
   "source": []
  },
  {
   "cell_type": "code",
   "execution_count": null,
   "id": "5762c760",
   "metadata": {},
   "outputs": [],
   "source": []
  },
  {
   "cell_type": "code",
   "execution_count": null,
   "id": "0133cf52",
   "metadata": {},
   "outputs": [],
   "source": []
  }
 ],
 "metadata": {
  "kernelspec": {
   "display_name": "Python 3 (ipykernel)",
   "language": "python",
   "name": "python3"
  },
  "language_info": {
   "codemirror_mode": {
    "name": "ipython",
    "version": 3
   },
   "file_extension": ".py",
   "mimetype": "text/x-python",
   "name": "python",
   "nbconvert_exporter": "python",
   "pygments_lexer": "ipython3",
   "version": "3.9.21"
  }
 },
 "nbformat": 4,
 "nbformat_minor": 5
}
