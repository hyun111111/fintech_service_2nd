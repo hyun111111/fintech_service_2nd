{
 "cells": [
  {
   "cell_type": "markdown",
   "id": "70dbdacc",
   "metadata": {},
   "source": [
    "# 웹에서 자료를 수집하는 방법\n",
    "\n",
    "* 1. API 사용하기\n",
    "    * naver, google, kakao등 오픈소스로 수집\n",
    "    * 공공데이터 포털\n",
    "    * 서울시 공공데이터 - 지역 테이터 포털 \n",
    "<hr>\n",
    "* 2. web 페이지를 직접 스크래핑해서 자료수집\n",
    "    * 정적페이지 수집: javascr 없이 수집 가능한 사이트\n",
    "    * 동적페이지 수집: javascript에 의해서 콘텐츠 제어.\n",
    "    * 스크롤링 하면서 자료가 추가됨. 웹브라우저 제어를 할수 있는 라이브러리 통해 수집"
   ]
  },
  {
   "cell_type": "code",
   "execution_count": 4,
   "id": "68b2ef93",
   "metadata": {},
   "outputs": [
    {
     "name": "stdout",
     "output_type": "stream",
     "text": [
      "{\n",
      "\t\"lastBuildDate\":\"Mon, 31 Mar 2025 13:25:07 +0900\",\n",
      "\t\"total\":456036,\n",
      "\t\"start\":1,\n",
      "\t\"display\":10,\n",
      "\t\"items\":[\n",
      "\t\t{\n",
      "\t\t\t\"title\":\"<b>핀테크<\\/b> 투자 후기\",\n",
      "\t\t\t\"link\":\"https:\\/\\/blog.naver.com\\/kan1687\\/223812724931\",\n",
      "\t\t\t\"description\":\"<b>핀테크<\\/b> 투자, 아직도 망설이고 계신가요?  여러분 혹시 이런 고민 해보신 적 있나요? &quot;<b>핀테크<\\/b> 분야가 떴다는데, 지금 시작해도 괜찮을까? 좀 더 상황을 지켜봐야 하나?&quot; 사실 이런 생각은 투자를 고민하는 우리... \",\n",
      "\t\t\t\"bloggername\":\"우정잉♥\",\n",
      "\t\t\t\"bloggerlink\":\"blog.naver.com\\/kan1687\",\n",
      "\t\t\t\"postdate\":\"20250329\"\n",
      "\t\t},\n",
      "\t\t{\n",
      "\t\t\t\"title\":\"[<b>핀테크<\\/b>] 2024년 <b>핀테크<\\/b> 업계 결산: 놀라운 3가지 변화\",\n",
      "\t\t\t\"link\":\"https:\\/\\/blog.naver.com\\/xoom777\\/223708685044\",\n",
      "\t\t\t\"description\":\"동안 <b>핀테크<\\/b> 업계에는 예상치 못한 변화의 바람이 불었습니다. 한동안 주춤했던 트렌드가... 올 한 해 <b>핀테크<\\/b> 업계를 뜨겁게 달군 3가지 트렌드에 대해 자세히 살펴보겠습니다. 암호화폐의 귀환, 기관... \",\n",
      "\t\t\t\"bloggername\":\"Ich fange an\",\n",
      "\t\t\t\"bloggerlink\":\"blog.naver.com\\/xoom777\",\n",
      "\t\t\t\"postdate\":\"20241229\"\n",
      "\t\t},\n",
      "\t\t{\n",
      "\t\t\t\"title\":\"[인사이트 캠퍼스] 2025 동계 <b>핀테크<\\/b> 캠프 (with 전주대학교... \",\n",
      "\t\t\t\"link\":\"https:\\/\\/blog.naver.com\\/fininsight\\/223734638126\",\n",
      "\t\t\t\"description\":\"전주대학교 친구들이 직접 여의도까지 방문하여 <b>핀테크<\\/b>(FinTech)의 세계를 탐구할 기회를 가질 수... <b>핀테크<\\/b>의 개념부터 해당 기술을 적용하는 사업 분야 그리고 앞으로의 트렌드까지 현업자의 시선에서 면밀하게... \",\n",
      "\t\t\t\"bloggername\":\"핀인사이트 (Fininsight)\",\n",
      "\t\t\t\"bloggerlink\":\"blog.naver.com\\/fininsight\",\n",
      "\t\t\t\"postdate\":\"20250122\"\n",
      "\t\t},\n",
      "\t\t{\n",
      "\t\t\t\"title\":\"[AI <b>핀테크<\\/b>] AI와 빅데이터로 금융 시장을 재편하는 <b>핀테크<\\/b>... \",\n",
      "\t\t\t\"link\":\"https:\\/\\/blog.naver.com\\/jangpung_\\/223765345858\",\n",
      "\t\t\t\"description\":\"이제 대출도 AI가 하는 시대 출처 : 파가야 테크놀러지스 홈페이지 금융과 기술이 만나는 <b>핀테크<\\/b>... 제공하는 <b>핀테크<\\/b> 기업으로, 현재 미국, 이스라엘, 케이맨 제도 등여러나라에서 사업을 진행하고 있다.... \",\n",
      "\t\t\t\"bloggername\":\"낭만을 꿈꾸는 일상\",\n",
      "\t\t\t\"bloggerlink\":\"blog.naver.com\\/jangpung_\",\n",
      "\t\t\t\"postdate\":\"20250218\"\n",
      "\t\t},\n",
      "\t\t{\n",
      "\t\t\t\"title\":\"IPAY <b>핀테크<\\/b>관련주 ETF -미국 CBDC 코인 서비스 실험 확대\",\n",
      "\t\t\t\"link\":\"https:\\/\\/blog.naver.com\\/jaso_\\/223736810791\",\n",
      "\t\t\t\"description\":\"IPAY <b>핀테크<\\/b>관련주 ETF -미국 CBDC 코인 서비스 실험 확대 IPAY ETF는 모바일 결제 산업에 투자하는 ETF로 <b>핀테크<\\/b>관련주라고 보시면 되는데요. 이번 포스팅에선 IPAY <b>핀테크<\\/b>관련주 ETF, 투자수익률, 미국 CBDC... \",\n",
      "\t\t\t\"bloggername\":\"미국주식 퍼주마\",\n",
      "\t\t\t\"bloggerlink\":\"blog.naver.com\\/jaso_\",\n",
      "\t\t\t\"postdate\":\"20250130\"\n",
      "\t\t},\n",
      "\t\t{\n",
      "\t\t\t\"title\":\"맨틀 MNT 코인 디파이 <b>핀테크<\\/b> 서비스 소개\",\n",
      "\t\t\t\"link\":\"https:\\/\\/blog.naver.com\\/tmglove\\/223781181469\",\n",
      "\t\t\t\"description\":\"웹2와 웹3을 아우르며 기관과 개인 그리고 리테일을 위한 다양한 <b>핀테크<\\/b> 서비스 출시를 준비하고 있다고 하는데요. 그래서 오늘은 MNT 코인의 디파이 <b>핀테크<\\/b> 서비스에 대해 알아보겠습니다. <b>핀테크<\\/b>로... \",\n",
      "\t\t\t\"bloggername\":\"Hello-\",\n",
      "\t\t\t\"bloggerlink\":\"blog.naver.com\\/tmglove\",\n",
      "\t\t\t\"postdate\":\"20250302\"\n",
      "\t\t},\n",
      "\t\t{\n",
      "\t\t\t\"title\":\"[<b>핀테크<\\/b> 리더] # 2024 금융위원회 선정 10대 기업 _ 1편\",\n",
      "\t\t\t\"link\":\"https:\\/\\/blog.naver.com\\/koreafintech\\/223675560515\",\n",
      "\t\t\t\"description\":\"[<b>핀테크<\\/b> 리더] ⭐ # 2024 금융위원회 선정 10대 기업 _ 1편 금융위원회는 &lt;코리아 <b>핀테크<\\/b> 위크 2024&gt;에서 작년에 이어 'K-Fintech 30' 프로젝트에 선정된 유망 <b>핀테크<\\/b> 기업 10개사를 발굴하여 소개하였습니다. 'K... \",\n",
      "\t\t\t\"bloggername\":\"한국핀테크지원센터\",\n",
      "\t\t\t\"bloggerlink\":\"blog.naver.com\\/koreafintech\",\n",
      "\t\t\t\"postdate\":\"20241128\"\n",
      "\t\t},\n",
      "\t\t{\n",
      "\t\t\t\"title\":\"맨틀 네트워크 코인 MNT <b>핀테크<\\/b> 서비스 등장\",\n",
      "\t\t\t\"link\":\"https:\\/\\/blog.naver.com\\/ghfjvb465\\/223781841217\",\n",
      "\t\t\t\"description\":\"맨틀네트워크 코인 <b>핀테크<\\/b>와 크립토 경계 허물기 소개, 시세, 전망 코하! 경제적 자유 얻기... 이번 포스팅에서는 맨틀네트워크 코인 MNT의 <b>핀테크<\\/b> 분야 진출 서비스 소개에 대한 내용을 함께 알아보는... \",\n",
      "\t\t\t\"bloggername\":\"노마드신지테의 경제적자유얻기 챌린지\",\n",
      "\t\t\t\"bloggerlink\":\"blog.naver.com\\/ghfjvb465\",\n",
      "\t\t\t\"postdate\":\"20250303\"\n",
      "\t\t},\n",
      "\t\t{\n",
      "\t\t\t\"title\":\"신규 상장 더즌 <b>핀테크<\\/b> B2B 기업용 금융통신망 쉿 쉿 조용 조용\",\n",
      "\t\t\t\"link\":\"https:\\/\\/blog.naver.com\\/2yongki\\/223805949459\",\n",
      "\t\t\t\"description\":\"기업 개요 20017년 설립 기업용 금융 통신망 서비스를 제공하는 <b>핀테크<\\/b> 업체 금융 인프라를 기반으로... ② 경쟁 심화: * <b>핀테크<\\/b> 시장은 경쟁이 치열하며, 새로운 경쟁자의 등장 가능성도 있습니다. * 새로운... \",\n",
      "\t\t\t\"bloggername\":\"행복한남 경제야놀자\",\n",
      "\t\t\t\"bloggerlink\":\"blog.naver.com\\/2yongki\",\n",
      "\t\t\t\"postdate\":\"20250323\"\n",
      "\t\t},\n",
      "\t\t{\n",
      "\t\t\t\"title\":\"테크놀로지스(PGY): AI 기반 대출 혁신의 주목받는 <b>핀테크<\\/b> 기업\",\n",
      "\t\t\t\"link\":\"https:\\/\\/blog.naver.com\\/an5217\\/223810108719\",\n",
      "\t\t\t\"description\":\"최근 <b>핀테크<\\/b> 업계에서 주목받는 기업 **파가야 테크놀로지스(NASDAQ:PGY)**가 투자자와 애널리스트들... 제공하는 <b>핀테크<\\/b> 기업입니다. 머신러닝 알고리즘을 통해 개인 대출, 자동차 대출, POS(Point-of-Sale)... \",\n",
      "\t\t\t\"bloggername\":\"오늘 하루도 절도있고 검소하게\",\n",
      "\t\t\t\"bloggerlink\":\"blog.naver.com\\/an5217\",\n",
      "\t\t\t\"postdate\":\"20250326\"\n",
      "\t\t}\n",
      "\t]\n",
      "}\n"
     ]
    }
   ],
   "source": [
    "# 네이버 검색 API 예제 - 블로그 검색\n",
    "import os\n",
    "import sys\n",
    "import urllib.request # 파이썬 코드로 서버로 요청을 전송\n",
    "client_id = \"ky2xDsaZyifHgJ6pdBwU\"\n",
    "client_secret = \"3nNHDxyhXR\"\n",
    "encText = urllib.parse.quote(\"핀테크\")\n",
    "url = \"https://openapi.naver.com/v1/search/blog?query=\" + encText # JSON 결과\n",
    "# url = \"https://openapi.naver.com/v1/search/blog.xml?query=\" + encText # XML 결과\n",
    "request = urllib.request.Request(url) #리퀘스트 기본 옵션 header로 전송\n",
    "request.add_header(\"X-Naver-Client-Id\",client_id)\n",
    "request.add_header(\"X-Naver-Client-Secret\",client_secret)\n",
    "response = urllib.request.urlopen(request)\n",
    "rescode = response.getcode()\n",
    "if(rescode==200):\n",
    "    response_body = response.read()\n",
    "    print(response_body.decode('utf-8'))\n",
    "else:\n",
    "    print(\"Error Code:\" + rescode)"
   ]
  },
  {
   "cell_type": "code",
   "execution_count": 2,
   "id": "cef7265b",
   "metadata": {},
   "outputs": [
    {
     "data": {
      "text/plain": [
       "'%ED%95%80%ED%85%8C%ED%81%AC'"
      ]
     },
     "execution_count": 2,
     "metadata": {},
     "output_type": "execute_result"
    }
   ],
   "source": [
    "encText"
   ]
  },
  {
   "cell_type": "code",
   "execution_count": null,
   "id": "fcd807ee",
   "metadata": {},
   "outputs": [],
   "source": []
  },
  {
   "cell_type": "code",
   "execution_count": null,
   "id": "5d851d45",
   "metadata": {},
   "outputs": [],
   "source": []
  },
  {
   "cell_type": "code",
   "execution_count": 3,
   "id": "cac5b5fb",
   "metadata": {
    "scrolled": true
   },
   "outputs": [
    {
     "data": {
      "text/plain": [
       "'https://openapi.naver.com/v1/search/blog?query=%ED%95%80%ED%85%8C%ED%81%AC'"
      ]
     },
     "execution_count": 3,
     "metadata": {},
     "output_type": "execute_result"
    }
   ],
   "source": [
    "\"https://openapi.naver.com/v1/search/blog?query=\" + encText"
   ]
  },
  {
   "cell_type": "code",
   "execution_count": 5,
   "id": "81f98260",
   "metadata": {},
   "outputs": [
    {
     "data": {
      "text/plain": [
       "b'{\\n\\t\"lastBuildDate\":\"Mon, 31 Mar 2025 13:25:07 +0900\",\\n\\t\"total\":456036,\\n\\t\"start\":1,\\n\\t\"display\":10,\\n\\t\"items\":[\\n\\t\\t{\\n\\t\\t\\t\"title\":\"<b>\\xed\\x95\\x80\\xed\\x85\\x8c\\xed\\x81\\xac<\\\\/b> \\xed\\x88\\xac\\xec\\x9e\\x90 \\xed\\x9b\\x84\\xea\\xb8\\xb0\",\\n\\t\\t\\t\"link\":\"https:\\\\/\\\\/blog.naver.com\\\\/kan1687\\\\/223812724931\",\\n\\t\\t\\t\"description\":\"<b>\\xed\\x95\\x80\\xed\\x85\\x8c\\xed\\x81\\xac<\\\\/b> \\xed\\x88\\xac\\xec\\x9e\\x90, \\xec\\x95\\x84\\xec\\xa7\\x81\\xeb\\x8f\\x84 \\xeb\\xa7\\x9d\\xec\\x84\\xa4\\xec\\x9d\\xb4\\xea\\xb3\\xa0 \\xea\\xb3\\x84\\xec\\x8b\\xa0\\xea\\xb0\\x80\\xec\\x9a\\x94?  \\xec\\x97\\xac\\xeb\\x9f\\xac\\xeb\\xb6\\x84 \\xed\\x98\\xb9\\xec\\x8b\\x9c \\xec\\x9d\\xb4\\xeb\\x9f\\xb0 \\xea\\xb3\\xa0\\xeb\\xaf\\xbc \\xed\\x95\\xb4\\xeb\\xb3\\xb4\\xec\\x8b\\xa0 \\xec\\xa0\\x81 \\xec\\x9e\\x88\\xeb\\x82\\x98\\xec\\x9a\\x94? &quot;<b>\\xed\\x95\\x80\\xed\\x85\\x8c\\xed\\x81\\xac<\\\\/b> \\xeb\\xb6\\x84\\xec\\x95\\xbc\\xea\\xb0\\x80 \\xeb\\x96\\xb4\\xeb\\x8b\\xa4\\xeb\\x8a\\x94\\xeb\\x8d\\xb0, \\xec\\xa7\\x80\\xea\\xb8\\x88 \\xec\\x8b\\x9c\\xec\\x9e\\x91\\xed\\x95\\xb4\\xeb\\x8f\\x84 \\xea\\xb4\\x9c\\xec\\xb0\\xae\\xec\\x9d\\x84\\xea\\xb9\\x8c? \\xec\\xa2\\x80 \\xeb\\x8d\\x94 \\xec\\x83\\x81\\xed\\x99\\xa9\\xec\\x9d\\x84 \\xec\\xa7\\x80\\xec\\xbc\\x9c\\xeb\\xb4\\x90\\xec\\x95\\xbc \\xed\\x95\\x98\\xeb\\x82\\x98?&quot; \\xec\\x82\\xac\\xec\\x8b\\xa4 \\xec\\x9d\\xb4\\xeb\\x9f\\xb0 \\xec\\x83\\x9d\\xea\\xb0\\x81\\xec\\x9d\\x80 \\xed\\x88\\xac\\xec\\x9e\\x90\\xeb\\xa5\\xbc \\xea\\xb3\\xa0\\xeb\\xaf\\xbc\\xed\\x95\\x98\\xeb\\x8a\\x94 \\xec\\x9a\\xb0\\xeb\\xa6\\xac... \",\\n\\t\\t\\t\"bloggername\":\"\\xec\\x9a\\xb0\\xec\\xa0\\x95\\xec\\x9e\\x89\\xe2\\x99\\xa5\",\\n\\t\\t\\t\"bloggerlink\":\"blog.naver.com\\\\/kan1687\",\\n\\t\\t\\t\"postdate\":\"20250329\"\\n\\t\\t},\\n\\t\\t{\\n\\t\\t\\t\"title\":\"[<b>\\xed\\x95\\x80\\xed\\x85\\x8c\\xed\\x81\\xac<\\\\/b>] 2024\\xeb\\x85\\x84 <b>\\xed\\x95\\x80\\xed\\x85\\x8c\\xed\\x81\\xac<\\\\/b> \\xec\\x97\\x85\\xea\\xb3\\x84 \\xea\\xb2\\xb0\\xec\\x82\\xb0: \\xeb\\x86\\x80\\xeb\\x9d\\xbc\\xec\\x9a\\xb4 3\\xea\\xb0\\x80\\xec\\xa7\\x80 \\xeb\\xb3\\x80\\xed\\x99\\x94\",\\n\\t\\t\\t\"link\":\"https:\\\\/\\\\/blog.naver.com\\\\/xoom777\\\\/223708685044\",\\n\\t\\t\\t\"description\":\"\\xeb\\x8f\\x99\\xec\\x95\\x88 <b>\\xed\\x95\\x80\\xed\\x85\\x8c\\xed\\x81\\xac<\\\\/b> \\xec\\x97\\x85\\xea\\xb3\\x84\\xec\\x97\\x90\\xeb\\x8a\\x94 \\xec\\x98\\x88\\xec\\x83\\x81\\xec\\xb9\\x98 \\xeb\\xaa\\xbb\\xed\\x95\\x9c \\xeb\\xb3\\x80\\xed\\x99\\x94\\xec\\x9d\\x98 \\xeb\\xb0\\x94\\xeb\\x9e\\x8c\\xec\\x9d\\xb4 \\xeb\\xb6\\x88\\xec\\x97\\x88\\xec\\x8a\\xb5\\xeb\\x8b\\x88\\xeb\\x8b\\xa4. \\xed\\x95\\x9c\\xeb\\x8f\\x99\\xec\\x95\\x88 \\xec\\xa3\\xbc\\xec\\xb6\\xa4\\xed\\x96\\x88\\xeb\\x8d\\x98 \\xed\\x8a\\xb8\\xeb\\xa0\\x8c\\xeb\\x93\\x9c\\xea\\xb0\\x80... \\xec\\x98\\xac \\xed\\x95\\x9c \\xed\\x95\\xb4 <b>\\xed\\x95\\x80\\xed\\x85\\x8c\\xed\\x81\\xac<\\\\/b> \\xec\\x97\\x85\\xea\\xb3\\x84\\xeb\\xa5\\xbc \\xeb\\x9c\\xa8\\xea\\xb2\\x81\\xea\\xb2\\x8c \\xeb\\x8b\\xac\\xea\\xb5\\xb0 3\\xea\\xb0\\x80\\xec\\xa7\\x80 \\xed\\x8a\\xb8\\xeb\\xa0\\x8c\\xeb\\x93\\x9c\\xec\\x97\\x90 \\xeb\\x8c\\x80\\xed\\x95\\xb4 \\xec\\x9e\\x90\\xec\\x84\\xb8\\xed\\x9e\\x88 \\xec\\x82\\xb4\\xed\\x8e\\xb4\\xeb\\xb3\\xb4\\xea\\xb2\\xa0\\xec\\x8a\\xb5\\xeb\\x8b\\x88\\xeb\\x8b\\xa4. \\xec\\x95\\x94\\xed\\x98\\xb8\\xed\\x99\\x94\\xed\\x8f\\x90\\xec\\x9d\\x98 \\xea\\xb7\\x80\\xed\\x99\\x98, \\xea\\xb8\\xb0\\xea\\xb4\\x80... \",\\n\\t\\t\\t\"bloggername\":\"Ich fange an\",\\n\\t\\t\\t\"bloggerlink\":\"blog.naver.com\\\\/xoom777\",\\n\\t\\t\\t\"postdate\":\"20241229\"\\n\\t\\t},\\n\\t\\t{\\n\\t\\t\\t\"title\":\"[\\xec\\x9d\\xb8\\xec\\x82\\xac\\xec\\x9d\\xb4\\xed\\x8a\\xb8 \\xec\\xba\\xa0\\xed\\x8d\\xbc\\xec\\x8a\\xa4] 2025 \\xeb\\x8f\\x99\\xea\\xb3\\x84 <b>\\xed\\x95\\x80\\xed\\x85\\x8c\\xed\\x81\\xac<\\\\/b> \\xec\\xba\\xa0\\xed\\x94\\x84 (with \\xec\\xa0\\x84\\xec\\xa3\\xbc\\xeb\\x8c\\x80\\xed\\x95\\x99\\xea\\xb5\\x90... \",\\n\\t\\t\\t\"link\":\"https:\\\\/\\\\/blog.naver.com\\\\/fininsight\\\\/223734638126\",\\n\\t\\t\\t\"description\":\"\\xec\\xa0\\x84\\xec\\xa3\\xbc\\xeb\\x8c\\x80\\xed\\x95\\x99\\xea\\xb5\\x90 \\xec\\xb9\\x9c\\xea\\xb5\\xac\\xeb\\x93\\xa4\\xec\\x9d\\xb4 \\xec\\xa7\\x81\\xec\\xa0\\x91 \\xec\\x97\\xac\\xec\\x9d\\x98\\xeb\\x8f\\x84\\xea\\xb9\\x8c\\xec\\xa7\\x80 \\xeb\\xb0\\xa9\\xeb\\xac\\xb8\\xed\\x95\\x98\\xec\\x97\\xac <b>\\xed\\x95\\x80\\xed\\x85\\x8c\\xed\\x81\\xac<\\\\/b>(FinTech)\\xec\\x9d\\x98 \\xec\\x84\\xb8\\xea\\xb3\\x84\\xeb\\xa5\\xbc \\xed\\x83\\x90\\xea\\xb5\\xac\\xed\\x95\\xa0 \\xea\\xb8\\xb0\\xed\\x9a\\x8c\\xeb\\xa5\\xbc \\xea\\xb0\\x80\\xec\\xa7\\x88 \\xec\\x88\\x98... <b>\\xed\\x95\\x80\\xed\\x85\\x8c\\xed\\x81\\xac<\\\\/b>\\xec\\x9d\\x98 \\xea\\xb0\\x9c\\xeb\\x85\\x90\\xeb\\xb6\\x80\\xed\\x84\\xb0 \\xed\\x95\\xb4\\xeb\\x8b\\xb9 \\xea\\xb8\\xb0\\xec\\x88\\xa0\\xec\\x9d\\x84 \\xec\\xa0\\x81\\xec\\x9a\\xa9\\xed\\x95\\x98\\xeb\\x8a\\x94 \\xec\\x82\\xac\\xec\\x97\\x85 \\xeb\\xb6\\x84\\xec\\x95\\xbc \\xea\\xb7\\xb8\\xeb\\xa6\\xac\\xea\\xb3\\xa0 \\xec\\x95\\x9e\\xec\\x9c\\xbc\\xeb\\xa1\\x9c\\xec\\x9d\\x98 \\xed\\x8a\\xb8\\xeb\\xa0\\x8c\\xeb\\x93\\x9c\\xea\\xb9\\x8c\\xec\\xa7\\x80 \\xed\\x98\\x84\\xec\\x97\\x85\\xec\\x9e\\x90\\xec\\x9d\\x98 \\xec\\x8b\\x9c\\xec\\x84\\xa0\\xec\\x97\\x90\\xec\\x84\\x9c \\xeb\\xa9\\xb4\\xeb\\xb0\\x80\\xed\\x95\\x98\\xea\\xb2\\x8c... \",\\n\\t\\t\\t\"bloggername\":\"\\xed\\x95\\x80\\xec\\x9d\\xb8\\xec\\x82\\xac\\xec\\x9d\\xb4\\xed\\x8a\\xb8 (Fininsight)\",\\n\\t\\t\\t\"bloggerlink\":\"blog.naver.com\\\\/fininsight\",\\n\\t\\t\\t\"postdate\":\"20250122\"\\n\\t\\t},\\n\\t\\t{\\n\\t\\t\\t\"title\":\"[AI <b>\\xed\\x95\\x80\\xed\\x85\\x8c\\xed\\x81\\xac<\\\\/b>] AI\\xec\\x99\\x80 \\xeb\\xb9\\x85\\xeb\\x8d\\xb0\\xec\\x9d\\xb4\\xed\\x84\\xb0\\xeb\\xa1\\x9c \\xea\\xb8\\x88\\xec\\x9c\\xb5 \\xec\\x8b\\x9c\\xec\\x9e\\xa5\\xec\\x9d\\x84 \\xec\\x9e\\xac\\xed\\x8e\\xb8\\xed\\x95\\x98\\xeb\\x8a\\x94 <b>\\xed\\x95\\x80\\xed\\x85\\x8c\\xed\\x81\\xac<\\\\/b>... \",\\n\\t\\t\\t\"link\":\"https:\\\\/\\\\/blog.naver.com\\\\/jangpung_\\\\/223765345858\",\\n\\t\\t\\t\"description\":\"\\xec\\x9d\\xb4\\xec\\xa0\\x9c \\xeb\\x8c\\x80\\xec\\xb6\\x9c\\xeb\\x8f\\x84 AI\\xea\\xb0\\x80 \\xed\\x95\\x98\\xeb\\x8a\\x94 \\xec\\x8b\\x9c\\xeb\\x8c\\x80 \\xec\\xb6\\x9c\\xec\\xb2\\x98 : \\xed\\x8c\\x8c\\xea\\xb0\\x80\\xec\\x95\\xbc \\xed\\x85\\x8c\\xed\\x81\\xac\\xeb\\x86\\x80\\xeb\\x9f\\xac\\xec\\xa7\\x80\\xec\\x8a\\xa4 \\xed\\x99\\x88\\xed\\x8e\\x98\\xec\\x9d\\xb4\\xec\\xa7\\x80 \\xea\\xb8\\x88\\xec\\x9c\\xb5\\xea\\xb3\\xbc \\xea\\xb8\\xb0\\xec\\x88\\xa0\\xec\\x9d\\xb4 \\xeb\\xa7\\x8c\\xeb\\x82\\x98\\xeb\\x8a\\x94 <b>\\xed\\x95\\x80\\xed\\x85\\x8c\\xed\\x81\\xac<\\\\/b>... \\xec\\xa0\\x9c\\xea\\xb3\\xb5\\xed\\x95\\x98\\xeb\\x8a\\x94 <b>\\xed\\x95\\x80\\xed\\x85\\x8c\\xed\\x81\\xac<\\\\/b> \\xea\\xb8\\xb0\\xec\\x97\\x85\\xec\\x9c\\xbc\\xeb\\xa1\\x9c, \\xed\\x98\\x84\\xec\\x9e\\xac \\xeb\\xaf\\xb8\\xea\\xb5\\xad, \\xec\\x9d\\xb4\\xec\\x8a\\xa4\\xeb\\x9d\\xbc\\xec\\x97\\x98, \\xec\\xbc\\x80\\xec\\x9d\\xb4\\xeb\\xa7\\xa8 \\xec\\xa0\\x9c\\xeb\\x8f\\x84 \\xeb\\x93\\xb1\\xec\\x97\\xac\\xeb\\x9f\\xac\\xeb\\x82\\x98\\xeb\\x9d\\xbc\\xec\\x97\\x90\\xec\\x84\\x9c \\xec\\x82\\xac\\xec\\x97\\x85\\xec\\x9d\\x84 \\xec\\xa7\\x84\\xed\\x96\\x89\\xed\\x95\\x98\\xea\\xb3\\xa0 \\xec\\x9e\\x88\\xeb\\x8b\\xa4.... \",\\n\\t\\t\\t\"bloggername\":\"\\xeb\\x82\\xad\\xeb\\xa7\\x8c\\xec\\x9d\\x84 \\xea\\xbf\\x88\\xea\\xbe\\xb8\\xeb\\x8a\\x94 \\xec\\x9d\\xbc\\xec\\x83\\x81\",\\n\\t\\t\\t\"bloggerlink\":\"blog.naver.com\\\\/jangpung_\",\\n\\t\\t\\t\"postdate\":\"20250218\"\\n\\t\\t},\\n\\t\\t{\\n\\t\\t\\t\"title\":\"IPAY <b>\\xed\\x95\\x80\\xed\\x85\\x8c\\xed\\x81\\xac<\\\\/b>\\xea\\xb4\\x80\\xeb\\xa0\\xa8\\xec\\xa3\\xbc ETF -\\xeb\\xaf\\xb8\\xea\\xb5\\xad CBDC \\xec\\xbd\\x94\\xec\\x9d\\xb8 \\xec\\x84\\x9c\\xeb\\xb9\\x84\\xec\\x8a\\xa4 \\xec\\x8b\\xa4\\xed\\x97\\x98 \\xed\\x99\\x95\\xeb\\x8c\\x80\",\\n\\t\\t\\t\"link\":\"https:\\\\/\\\\/blog.naver.com\\\\/jaso_\\\\/223736810791\",\\n\\t\\t\\t\"description\":\"IPAY <b>\\xed\\x95\\x80\\xed\\x85\\x8c\\xed\\x81\\xac<\\\\/b>\\xea\\xb4\\x80\\xeb\\xa0\\xa8\\xec\\xa3\\xbc ETF -\\xeb\\xaf\\xb8\\xea\\xb5\\xad CBDC \\xec\\xbd\\x94\\xec\\x9d\\xb8 \\xec\\x84\\x9c\\xeb\\xb9\\x84\\xec\\x8a\\xa4 \\xec\\x8b\\xa4\\xed\\x97\\x98 \\xed\\x99\\x95\\xeb\\x8c\\x80 IPAY ETF\\xeb\\x8a\\x94 \\xeb\\xaa\\xa8\\xeb\\xb0\\x94\\xec\\x9d\\xbc \\xea\\xb2\\xb0\\xec\\xa0\\x9c \\xec\\x82\\xb0\\xec\\x97\\x85\\xec\\x97\\x90 \\xed\\x88\\xac\\xec\\x9e\\x90\\xed\\x95\\x98\\xeb\\x8a\\x94 ETF\\xeb\\xa1\\x9c <b>\\xed\\x95\\x80\\xed\\x85\\x8c\\xed\\x81\\xac<\\\\/b>\\xea\\xb4\\x80\\xeb\\xa0\\xa8\\xec\\xa3\\xbc\\xeb\\x9d\\xbc\\xea\\xb3\\xa0 \\xeb\\xb3\\xb4\\xec\\x8b\\x9c\\xeb\\xa9\\xb4 \\xeb\\x90\\x98\\xeb\\x8a\\x94\\xeb\\x8d\\xb0\\xec\\x9a\\x94. \\xec\\x9d\\xb4\\xeb\\xb2\\x88 \\xed\\x8f\\xac\\xec\\x8a\\xa4\\xed\\x8c\\x85\\xec\\x97\\x90\\xec\\x84\\xa0 IPAY <b>\\xed\\x95\\x80\\xed\\x85\\x8c\\xed\\x81\\xac<\\\\/b>\\xea\\xb4\\x80\\xeb\\xa0\\xa8\\xec\\xa3\\xbc ETF, \\xed\\x88\\xac\\xec\\x9e\\x90\\xec\\x88\\x98\\xec\\x9d\\xb5\\xeb\\xa5\\xa0, \\xeb\\xaf\\xb8\\xea\\xb5\\xad CBDC... \",\\n\\t\\t\\t\"bloggername\":\"\\xeb\\xaf\\xb8\\xea\\xb5\\xad\\xec\\xa3\\xbc\\xec\\x8b\\x9d \\xed\\x8d\\xbc\\xec\\xa3\\xbc\\xeb\\xa7\\x88\",\\n\\t\\t\\t\"bloggerlink\":\"blog.naver.com\\\\/jaso_\",\\n\\t\\t\\t\"postdate\":\"20250130\"\\n\\t\\t},\\n\\t\\t{\\n\\t\\t\\t\"title\":\"\\xeb\\xa7\\xa8\\xed\\x8b\\x80 MNT \\xec\\xbd\\x94\\xec\\x9d\\xb8 \\xeb\\x94\\x94\\xed\\x8c\\x8c\\xec\\x9d\\xb4 <b>\\xed\\x95\\x80\\xed\\x85\\x8c\\xed\\x81\\xac<\\\\/b> \\xec\\x84\\x9c\\xeb\\xb9\\x84\\xec\\x8a\\xa4 \\xec\\x86\\x8c\\xea\\xb0\\x9c\",\\n\\t\\t\\t\"link\":\"https:\\\\/\\\\/blog.naver.com\\\\/tmglove\\\\/223781181469\",\\n\\t\\t\\t\"description\":\"\\xec\\x9b\\xb92\\xec\\x99\\x80 \\xec\\x9b\\xb93\\xec\\x9d\\x84 \\xec\\x95\\x84\\xec\\x9a\\xb0\\xeb\\xa5\\xb4\\xeb\\xa9\\xb0 \\xea\\xb8\\xb0\\xea\\xb4\\x80\\xea\\xb3\\xbc \\xea\\xb0\\x9c\\xec\\x9d\\xb8 \\xea\\xb7\\xb8\\xeb\\xa6\\xac\\xea\\xb3\\xa0 \\xeb\\xa6\\xac\\xed\\x85\\x8c\\xec\\x9d\\xbc\\xec\\x9d\\x84 \\xec\\x9c\\x84\\xed\\x95\\x9c \\xeb\\x8b\\xa4\\xec\\x96\\x91\\xed\\x95\\x9c <b>\\xed\\x95\\x80\\xed\\x85\\x8c\\xed\\x81\\xac<\\\\/b> \\xec\\x84\\x9c\\xeb\\xb9\\x84\\xec\\x8a\\xa4 \\xec\\xb6\\x9c\\xec\\x8b\\x9c\\xeb\\xa5\\xbc \\xec\\xa4\\x80\\xeb\\xb9\\x84\\xed\\x95\\x98\\xea\\xb3\\xa0 \\xec\\x9e\\x88\\xeb\\x8b\\xa4\\xea\\xb3\\xa0 \\xed\\x95\\x98\\xeb\\x8a\\x94\\xeb\\x8d\\xb0\\xec\\x9a\\x94. \\xea\\xb7\\xb8\\xeb\\x9e\\x98\\xec\\x84\\x9c \\xec\\x98\\xa4\\xeb\\x8a\\x98\\xec\\x9d\\x80 MNT \\xec\\xbd\\x94\\xec\\x9d\\xb8\\xec\\x9d\\x98 \\xeb\\x94\\x94\\xed\\x8c\\x8c\\xec\\x9d\\xb4 <b>\\xed\\x95\\x80\\xed\\x85\\x8c\\xed\\x81\\xac<\\\\/b> \\xec\\x84\\x9c\\xeb\\xb9\\x84\\xec\\x8a\\xa4\\xec\\x97\\x90 \\xeb\\x8c\\x80\\xed\\x95\\xb4 \\xec\\x95\\x8c\\xec\\x95\\x84\\xeb\\xb3\\xb4\\xea\\xb2\\xa0\\xec\\x8a\\xb5\\xeb\\x8b\\x88\\xeb\\x8b\\xa4. <b>\\xed\\x95\\x80\\xed\\x85\\x8c\\xed\\x81\\xac<\\\\/b>\\xeb\\xa1\\x9c... \",\\n\\t\\t\\t\"bloggername\":\"Hello-\",\\n\\t\\t\\t\"bloggerlink\":\"blog.naver.com\\\\/tmglove\",\\n\\t\\t\\t\"postdate\":\"20250302\"\\n\\t\\t},\\n\\t\\t{\\n\\t\\t\\t\"title\":\"[<b>\\xed\\x95\\x80\\xed\\x85\\x8c\\xed\\x81\\xac<\\\\/b> \\xeb\\xa6\\xac\\xeb\\x8d\\x94] # 2024 \\xea\\xb8\\x88\\xec\\x9c\\xb5\\xec\\x9c\\x84\\xec\\x9b\\x90\\xed\\x9a\\x8c \\xec\\x84\\xa0\\xec\\xa0\\x95 10\\xeb\\x8c\\x80 \\xea\\xb8\\xb0\\xec\\x97\\x85 _ 1\\xed\\x8e\\xb8\",\\n\\t\\t\\t\"link\":\"https:\\\\/\\\\/blog.naver.com\\\\/koreafintech\\\\/223675560515\",\\n\\t\\t\\t\"description\":\"[<b>\\xed\\x95\\x80\\xed\\x85\\x8c\\xed\\x81\\xac<\\\\/b> \\xeb\\xa6\\xac\\xeb\\x8d\\x94] \\xe2\\xad\\x90 # 2024 \\xea\\xb8\\x88\\xec\\x9c\\xb5\\xec\\x9c\\x84\\xec\\x9b\\x90\\xed\\x9a\\x8c \\xec\\x84\\xa0\\xec\\xa0\\x95 10\\xeb\\x8c\\x80 \\xea\\xb8\\xb0\\xec\\x97\\x85 _ 1\\xed\\x8e\\xb8 \\xea\\xb8\\x88\\xec\\x9c\\xb5\\xec\\x9c\\x84\\xec\\x9b\\x90\\xed\\x9a\\x8c\\xeb\\x8a\\x94 &lt;\\xec\\xbd\\x94\\xeb\\xa6\\xac\\xec\\x95\\x84 <b>\\xed\\x95\\x80\\xed\\x85\\x8c\\xed\\x81\\xac<\\\\/b> \\xec\\x9c\\x84\\xed\\x81\\xac 2024&gt;\\xec\\x97\\x90\\xec\\x84\\x9c \\xec\\x9e\\x91\\xeb\\x85\\x84\\xec\\x97\\x90 \\xec\\x9d\\xb4\\xec\\x96\\xb4 \\'K-Fintech 30\\' \\xed\\x94\\x84\\xeb\\xa1\\x9c\\xec\\xa0\\x9d\\xed\\x8a\\xb8\\xec\\x97\\x90 \\xec\\x84\\xa0\\xec\\xa0\\x95\\xeb\\x90\\x9c \\xec\\x9c\\xa0\\xeb\\xa7\\x9d <b>\\xed\\x95\\x80\\xed\\x85\\x8c\\xed\\x81\\xac<\\\\/b> \\xea\\xb8\\xb0\\xec\\x97\\x85 10\\xea\\xb0\\x9c\\xec\\x82\\xac\\xeb\\xa5\\xbc \\xeb\\xb0\\x9c\\xea\\xb5\\xb4\\xed\\x95\\x98\\xec\\x97\\xac \\xec\\x86\\x8c\\xea\\xb0\\x9c\\xed\\x95\\x98\\xec\\x98\\x80\\xec\\x8a\\xb5\\xeb\\x8b\\x88\\xeb\\x8b\\xa4. \\'K... \",\\n\\t\\t\\t\"bloggername\":\"\\xed\\x95\\x9c\\xea\\xb5\\xad\\xed\\x95\\x80\\xed\\x85\\x8c\\xed\\x81\\xac\\xec\\xa7\\x80\\xec\\x9b\\x90\\xec\\x84\\xbc\\xed\\x84\\xb0\",\\n\\t\\t\\t\"bloggerlink\":\"blog.naver.com\\\\/koreafintech\",\\n\\t\\t\\t\"postdate\":\"20241128\"\\n\\t\\t},\\n\\t\\t{\\n\\t\\t\\t\"title\":\"\\xeb\\xa7\\xa8\\xed\\x8b\\x80 \\xeb\\x84\\xa4\\xed\\x8a\\xb8\\xec\\x9b\\x8c\\xed\\x81\\xac \\xec\\xbd\\x94\\xec\\x9d\\xb8 MNT <b>\\xed\\x95\\x80\\xed\\x85\\x8c\\xed\\x81\\xac<\\\\/b> \\xec\\x84\\x9c\\xeb\\xb9\\x84\\xec\\x8a\\xa4 \\xeb\\x93\\xb1\\xec\\x9e\\xa5\",\\n\\t\\t\\t\"link\":\"https:\\\\/\\\\/blog.naver.com\\\\/ghfjvb465\\\\/223781841217\",\\n\\t\\t\\t\"description\":\"\\xeb\\xa7\\xa8\\xed\\x8b\\x80\\xeb\\x84\\xa4\\xed\\x8a\\xb8\\xec\\x9b\\x8c\\xed\\x81\\xac \\xec\\xbd\\x94\\xec\\x9d\\xb8 <b>\\xed\\x95\\x80\\xed\\x85\\x8c\\xed\\x81\\xac<\\\\/b>\\xec\\x99\\x80 \\xed\\x81\\xac\\xeb\\xa6\\xbd\\xed\\x86\\xa0 \\xea\\xb2\\xbd\\xea\\xb3\\x84 \\xed\\x97\\x88\\xeb\\xac\\xbc\\xea\\xb8\\xb0 \\xec\\x86\\x8c\\xea\\xb0\\x9c, \\xec\\x8b\\x9c\\xec\\x84\\xb8, \\xec\\xa0\\x84\\xeb\\xa7\\x9d \\xec\\xbd\\x94\\xed\\x95\\x98! \\xea\\xb2\\xbd\\xec\\xa0\\x9c\\xec\\xa0\\x81 \\xec\\x9e\\x90\\xec\\x9c\\xa0 \\xec\\x96\\xbb\\xea\\xb8\\xb0... \\xec\\x9d\\xb4\\xeb\\xb2\\x88 \\xed\\x8f\\xac\\xec\\x8a\\xa4\\xed\\x8c\\x85\\xec\\x97\\x90\\xec\\x84\\x9c\\xeb\\x8a\\x94 \\xeb\\xa7\\xa8\\xed\\x8b\\x80\\xeb\\x84\\xa4\\xed\\x8a\\xb8\\xec\\x9b\\x8c\\xed\\x81\\xac \\xec\\xbd\\x94\\xec\\x9d\\xb8 MNT\\xec\\x9d\\x98 <b>\\xed\\x95\\x80\\xed\\x85\\x8c\\xed\\x81\\xac<\\\\/b> \\xeb\\xb6\\x84\\xec\\x95\\xbc \\xec\\xa7\\x84\\xec\\xb6\\x9c \\xec\\x84\\x9c\\xeb\\xb9\\x84\\xec\\x8a\\xa4 \\xec\\x86\\x8c\\xea\\xb0\\x9c\\xec\\x97\\x90 \\xeb\\x8c\\x80\\xed\\x95\\x9c \\xeb\\x82\\xb4\\xec\\x9a\\xa9\\xec\\x9d\\x84 \\xed\\x95\\xa8\\xea\\xbb\\x98 \\xec\\x95\\x8c\\xec\\x95\\x84\\xeb\\xb3\\xb4\\xeb\\x8a\\x94... \",\\n\\t\\t\\t\"bloggername\":\"\\xeb\\x85\\xb8\\xeb\\xa7\\x88\\xeb\\x93\\x9c\\xec\\x8b\\xa0\\xec\\xa7\\x80\\xed\\x85\\x8c\\xec\\x9d\\x98 \\xea\\xb2\\xbd\\xec\\xa0\\x9c\\xec\\xa0\\x81\\xec\\x9e\\x90\\xec\\x9c\\xa0\\xec\\x96\\xbb\\xea\\xb8\\xb0 \\xec\\xb1\\x8c\\xeb\\xa6\\xb0\\xec\\xa7\\x80\",\\n\\t\\t\\t\"bloggerlink\":\"blog.naver.com\\\\/ghfjvb465\",\\n\\t\\t\\t\"postdate\":\"20250303\"\\n\\t\\t},\\n\\t\\t{\\n\\t\\t\\t\"title\":\"\\xec\\x8b\\xa0\\xea\\xb7\\x9c \\xec\\x83\\x81\\xec\\x9e\\xa5 \\xeb\\x8d\\x94\\xec\\xa6\\x8c <b>\\xed\\x95\\x80\\xed\\x85\\x8c\\xed\\x81\\xac<\\\\/b> B2B \\xea\\xb8\\xb0\\xec\\x97\\x85\\xec\\x9a\\xa9 \\xea\\xb8\\x88\\xec\\x9c\\xb5\\xed\\x86\\xb5\\xec\\x8b\\xa0\\xeb\\xa7\\x9d \\xec\\x89\\xbf \\xec\\x89\\xbf \\xec\\xa1\\xb0\\xec\\x9a\\xa9 \\xec\\xa1\\xb0\\xec\\x9a\\xa9\",\\n\\t\\t\\t\"link\":\"https:\\\\/\\\\/blog.naver.com\\\\/2yongki\\\\/223805949459\",\\n\\t\\t\\t\"description\":\"\\xea\\xb8\\xb0\\xec\\x97\\x85 \\xea\\xb0\\x9c\\xec\\x9a\\x94 20017\\xeb\\x85\\x84 \\xec\\x84\\xa4\\xeb\\xa6\\xbd \\xea\\xb8\\xb0\\xec\\x97\\x85\\xec\\x9a\\xa9 \\xea\\xb8\\x88\\xec\\x9c\\xb5 \\xed\\x86\\xb5\\xec\\x8b\\xa0\\xeb\\xa7\\x9d \\xec\\x84\\x9c\\xeb\\xb9\\x84\\xec\\x8a\\xa4\\xeb\\xa5\\xbc \\xec\\xa0\\x9c\\xea\\xb3\\xb5\\xed\\x95\\x98\\xeb\\x8a\\x94 <b>\\xed\\x95\\x80\\xed\\x85\\x8c\\xed\\x81\\xac<\\\\/b> \\xec\\x97\\x85\\xec\\xb2\\xb4 \\xea\\xb8\\x88\\xec\\x9c\\xb5 \\xec\\x9d\\xb8\\xed\\x94\\x84\\xeb\\x9d\\xbc\\xeb\\xa5\\xbc \\xea\\xb8\\xb0\\xeb\\xb0\\x98\\xec\\x9c\\xbc\\xeb\\xa1\\x9c... \\xe2\\x91\\xa1 \\xea\\xb2\\xbd\\xec\\x9f\\x81 \\xec\\x8b\\xac\\xed\\x99\\x94: * <b>\\xed\\x95\\x80\\xed\\x85\\x8c\\xed\\x81\\xac<\\\\/b> \\xec\\x8b\\x9c\\xec\\x9e\\xa5\\xec\\x9d\\x80 \\xea\\xb2\\xbd\\xec\\x9f\\x81\\xec\\x9d\\xb4 \\xec\\xb9\\x98\\xec\\x97\\xb4\\xed\\x95\\x98\\xeb\\xa9\\xb0, \\xec\\x83\\x88\\xeb\\xa1\\x9c\\xec\\x9a\\xb4 \\xea\\xb2\\xbd\\xec\\x9f\\x81\\xec\\x9e\\x90\\xec\\x9d\\x98 \\xeb\\x93\\xb1\\xec\\x9e\\xa5 \\xea\\xb0\\x80\\xeb\\x8a\\xa5\\xec\\x84\\xb1\\xeb\\x8f\\x84 \\xec\\x9e\\x88\\xec\\x8a\\xb5\\xeb\\x8b\\x88\\xeb\\x8b\\xa4. * \\xec\\x83\\x88\\xeb\\xa1\\x9c\\xec\\x9a\\xb4... \",\\n\\t\\t\\t\"bloggername\":\"\\xed\\x96\\x89\\xeb\\xb3\\xb5\\xed\\x95\\x9c\\xeb\\x82\\xa8 \\xea\\xb2\\xbd\\xec\\xa0\\x9c\\xec\\x95\\xbc\\xeb\\x86\\x80\\xec\\x9e\\x90\",\\n\\t\\t\\t\"bloggerlink\":\"blog.naver.com\\\\/2yongki\",\\n\\t\\t\\t\"postdate\":\"20250323\"\\n\\t\\t},\\n\\t\\t{\\n\\t\\t\\t\"title\":\"\\xed\\x85\\x8c\\xed\\x81\\xac\\xeb\\x86\\x80\\xeb\\xa1\\x9c\\xec\\xa7\\x80\\xec\\x8a\\xa4(PGY): AI \\xea\\xb8\\xb0\\xeb\\xb0\\x98 \\xeb\\x8c\\x80\\xec\\xb6\\x9c \\xed\\x98\\x81\\xec\\x8b\\xa0\\xec\\x9d\\x98 \\xec\\xa3\\xbc\\xeb\\xaa\\xa9\\xeb\\xb0\\x9b\\xeb\\x8a\\x94 <b>\\xed\\x95\\x80\\xed\\x85\\x8c\\xed\\x81\\xac<\\\\/b> \\xea\\xb8\\xb0\\xec\\x97\\x85\",\\n\\t\\t\\t\"link\":\"https:\\\\/\\\\/blog.naver.com\\\\/an5217\\\\/223810108719\",\\n\\t\\t\\t\"description\":\"\\xec\\xb5\\x9c\\xea\\xb7\\xbc <b>\\xed\\x95\\x80\\xed\\x85\\x8c\\xed\\x81\\xac<\\\\/b> \\xec\\x97\\x85\\xea\\xb3\\x84\\xec\\x97\\x90\\xec\\x84\\x9c \\xec\\xa3\\xbc\\xeb\\xaa\\xa9\\xeb\\xb0\\x9b\\xeb\\x8a\\x94 \\xea\\xb8\\xb0\\xec\\x97\\x85 **\\xed\\x8c\\x8c\\xea\\xb0\\x80\\xec\\x95\\xbc \\xed\\x85\\x8c\\xed\\x81\\xac\\xeb\\x86\\x80\\xeb\\xa1\\x9c\\xec\\xa7\\x80\\xec\\x8a\\xa4(NASDAQ:PGY)**\\xea\\xb0\\x80 \\xed\\x88\\xac\\xec\\x9e\\x90\\xec\\x9e\\x90\\xec\\x99\\x80 \\xec\\x95\\xa0\\xeb\\x84\\x90\\xeb\\xa6\\xac\\xec\\x8a\\xa4\\xed\\x8a\\xb8\\xeb\\x93\\xa4... \\xec\\xa0\\x9c\\xea\\xb3\\xb5\\xed\\x95\\x98\\xeb\\x8a\\x94 <b>\\xed\\x95\\x80\\xed\\x85\\x8c\\xed\\x81\\xac<\\\\/b> \\xea\\xb8\\xb0\\xec\\x97\\x85\\xec\\x9e\\x85\\xeb\\x8b\\x88\\xeb\\x8b\\xa4. \\xeb\\xa8\\xb8\\xec\\x8b\\xa0\\xeb\\x9f\\xac\\xeb\\x8b\\x9d \\xec\\x95\\x8c\\xea\\xb3\\xa0\\xeb\\xa6\\xac\\xec\\xa6\\x98\\xec\\x9d\\x84 \\xed\\x86\\xb5\\xed\\x95\\xb4 \\xea\\xb0\\x9c\\xec\\x9d\\xb8 \\xeb\\x8c\\x80\\xec\\xb6\\x9c, \\xec\\x9e\\x90\\xeb\\x8f\\x99\\xec\\xb0\\xa8 \\xeb\\x8c\\x80\\xec\\xb6\\x9c, POS(Point-of-Sale)... \",\\n\\t\\t\\t\"bloggername\":\"\\xec\\x98\\xa4\\xeb\\x8a\\x98 \\xed\\x95\\x98\\xeb\\xa3\\xa8\\xeb\\x8f\\x84 \\xec\\xa0\\x88\\xeb\\x8f\\x84\\xec\\x9e\\x88\\xea\\xb3\\xa0 \\xea\\xb2\\x80\\xec\\x86\\x8c\\xed\\x95\\x98\\xea\\xb2\\x8c\",\\n\\t\\t\\t\"bloggerlink\":\"blog.naver.com\\\\/an5217\",\\n\\t\\t\\t\"postdate\":\"20250326\"\\n\\t\\t}\\n\\t]\\n}'"
      ]
     },
     "execution_count": 5,
     "metadata": {},
     "output_type": "execute_result"
    }
   ],
   "source": [
    "response_body"
   ]
  },
  {
   "cell_type": "code",
   "execution_count": 7,
   "id": "dd5e711f",
   "metadata": {},
   "outputs": [
    {
     "data": {
      "text/plain": [
       "'{\\n\\t\"lastBuildDate\":\"Mon, 31 Mar 2025 13:25:07 +0900\",\\n\\t\"total\":456036,\\n\\t\"start\":1,\\n\\t\"display\":10,\\n\\t\"items\":[\\n\\t\\t{\\n\\t\\t\\t\"title\":\"<b>핀테크<\\\\/b> 투자 후기\",\\n\\t\\t\\t\"link\":\"https:\\\\/\\\\/blog.naver.com\\\\/kan1687\\\\/223812724931\",\\n\\t\\t\\t\"description\":\"<b>핀테크<\\\\/b> 투자, 아직도 망설이고 계신가요?  여러분 혹시 이런 고민 해보신 적 있나요? &quot;<b>핀테크<\\\\/b> 분야가 떴다는데, 지금 시작해도 괜찮을까? 좀 더 상황을 지켜봐야 하나?&quot; 사실 이런 생각은 투자를 고민하는 우리... \",\\n\\t\\t\\t\"bloggername\":\"우정잉♥\",\\n\\t\\t\\t\"bloggerlink\":\"blog.naver.com\\\\/kan1687\",\\n\\t\\t\\t\"postdate\":\"20250329\"\\n\\t\\t},\\n\\t\\t{\\n\\t\\t\\t\"title\":\"[<b>핀테크<\\\\/b>] 2024년 <b>핀테크<\\\\/b> 업계 결산: 놀라운 3가지 변화\",\\n\\t\\t\\t\"link\":\"https:\\\\/\\\\/blog.naver.com\\\\/xoom777\\\\/223708685044\",\\n\\t\\t\\t\"description\":\"동안 <b>핀테크<\\\\/b> 업계에는 예상치 못한 변화의 바람이 불었습니다. 한동안 주춤했던 트렌드가... 올 한 해 <b>핀테크<\\\\/b> 업계를 뜨겁게 달군 3가지 트렌드에 대해 자세히 살펴보겠습니다. 암호화폐의 귀환, 기관... \",\\n\\t\\t\\t\"bloggername\":\"Ich fange an\",\\n\\t\\t\\t\"bloggerlink\":\"blog.naver.com\\\\/xoom777\",\\n\\t\\t\\t\"postdate\":\"20241229\"\\n\\t\\t},\\n\\t\\t{\\n\\t\\t\\t\"title\":\"[인사이트 캠퍼스] 2025 동계 <b>핀테크<\\\\/b> 캠프 (with 전주대학교... \",\\n\\t\\t\\t\"link\":\"https:\\\\/\\\\/blog.naver.com\\\\/fininsight\\\\/223734638126\",\\n\\t\\t\\t\"description\":\"전주대학교 친구들이 직접 여의도까지 방문하여 <b>핀테크<\\\\/b>(FinTech)의 세계를 탐구할 기회를 가질 수... <b>핀테크<\\\\/b>의 개념부터 해당 기술을 적용하는 사업 분야 그리고 앞으로의 트렌드까지 현업자의 시선에서 면밀하게... \",\\n\\t\\t\\t\"bloggername\":\"핀인사이트 (Fininsight)\",\\n\\t\\t\\t\"bloggerlink\":\"blog.naver.com\\\\/fininsight\",\\n\\t\\t\\t\"postdate\":\"20250122\"\\n\\t\\t},\\n\\t\\t{\\n\\t\\t\\t\"title\":\"[AI <b>핀테크<\\\\/b>] AI와 빅데이터로 금융 시장을 재편하는 <b>핀테크<\\\\/b>... \",\\n\\t\\t\\t\"link\":\"https:\\\\/\\\\/blog.naver.com\\\\/jangpung_\\\\/223765345858\",\\n\\t\\t\\t\"description\":\"이제 대출도 AI가 하는 시대 출처 : 파가야 테크놀러지스 홈페이지 금융과 기술이 만나는 <b>핀테크<\\\\/b>... 제공하는 <b>핀테크<\\\\/b> 기업으로, 현재 미국, 이스라엘, 케이맨 제도 등여러나라에서 사업을 진행하고 있다.... \",\\n\\t\\t\\t\"bloggername\":\"낭만을 꿈꾸는 일상\",\\n\\t\\t\\t\"bloggerlink\":\"blog.naver.com\\\\/jangpung_\",\\n\\t\\t\\t\"postdate\":\"20250218\"\\n\\t\\t},\\n\\t\\t{\\n\\t\\t\\t\"title\":\"IPAY <b>핀테크<\\\\/b>관련주 ETF -미국 CBDC 코인 서비스 실험 확대\",\\n\\t\\t\\t\"link\":\"https:\\\\/\\\\/blog.naver.com\\\\/jaso_\\\\/223736810791\",\\n\\t\\t\\t\"description\":\"IPAY <b>핀테크<\\\\/b>관련주 ETF -미국 CBDC 코인 서비스 실험 확대 IPAY ETF는 모바일 결제 산업에 투자하는 ETF로 <b>핀테크<\\\\/b>관련주라고 보시면 되는데요. 이번 포스팅에선 IPAY <b>핀테크<\\\\/b>관련주 ETF, 투자수익률, 미국 CBDC... \",\\n\\t\\t\\t\"bloggername\":\"미국주식 퍼주마\",\\n\\t\\t\\t\"bloggerlink\":\"blog.naver.com\\\\/jaso_\",\\n\\t\\t\\t\"postdate\":\"20250130\"\\n\\t\\t},\\n\\t\\t{\\n\\t\\t\\t\"title\":\"맨틀 MNT 코인 디파이 <b>핀테크<\\\\/b> 서비스 소개\",\\n\\t\\t\\t\"link\":\"https:\\\\/\\\\/blog.naver.com\\\\/tmglove\\\\/223781181469\",\\n\\t\\t\\t\"description\":\"웹2와 웹3을 아우르며 기관과 개인 그리고 리테일을 위한 다양한 <b>핀테크<\\\\/b> 서비스 출시를 준비하고 있다고 하는데요. 그래서 오늘은 MNT 코인의 디파이 <b>핀테크<\\\\/b> 서비스에 대해 알아보겠습니다. <b>핀테크<\\\\/b>로... \",\\n\\t\\t\\t\"bloggername\":\"Hello-\",\\n\\t\\t\\t\"bloggerlink\":\"blog.naver.com\\\\/tmglove\",\\n\\t\\t\\t\"postdate\":\"20250302\"\\n\\t\\t},\\n\\t\\t{\\n\\t\\t\\t\"title\":\"[<b>핀테크<\\\\/b> 리더] # 2024 금융위원회 선정 10대 기업 _ 1편\",\\n\\t\\t\\t\"link\":\"https:\\\\/\\\\/blog.naver.com\\\\/koreafintech\\\\/223675560515\",\\n\\t\\t\\t\"description\":\"[<b>핀테크<\\\\/b> 리더] ⭐ # 2024 금융위원회 선정 10대 기업 _ 1편 금융위원회는 &lt;코리아 <b>핀테크<\\\\/b> 위크 2024&gt;에서 작년에 이어 \\'K-Fintech 30\\' 프로젝트에 선정된 유망 <b>핀테크<\\\\/b> 기업 10개사를 발굴하여 소개하였습니다. \\'K... \",\\n\\t\\t\\t\"bloggername\":\"한국핀테크지원센터\",\\n\\t\\t\\t\"bloggerlink\":\"blog.naver.com\\\\/koreafintech\",\\n\\t\\t\\t\"postdate\":\"20241128\"\\n\\t\\t},\\n\\t\\t{\\n\\t\\t\\t\"title\":\"맨틀 네트워크 코인 MNT <b>핀테크<\\\\/b> 서비스 등장\",\\n\\t\\t\\t\"link\":\"https:\\\\/\\\\/blog.naver.com\\\\/ghfjvb465\\\\/223781841217\",\\n\\t\\t\\t\"description\":\"맨틀네트워크 코인 <b>핀테크<\\\\/b>와 크립토 경계 허물기 소개, 시세, 전망 코하! 경제적 자유 얻기... 이번 포스팅에서는 맨틀네트워크 코인 MNT의 <b>핀테크<\\\\/b> 분야 진출 서비스 소개에 대한 내용을 함께 알아보는... \",\\n\\t\\t\\t\"bloggername\":\"노마드신지테의 경제적자유얻기 챌린지\",\\n\\t\\t\\t\"bloggerlink\":\"blog.naver.com\\\\/ghfjvb465\",\\n\\t\\t\\t\"postdate\":\"20250303\"\\n\\t\\t},\\n\\t\\t{\\n\\t\\t\\t\"title\":\"신규 상장 더즌 <b>핀테크<\\\\/b> B2B 기업용 금융통신망 쉿 쉿 조용 조용\",\\n\\t\\t\\t\"link\":\"https:\\\\/\\\\/blog.naver.com\\\\/2yongki\\\\/223805949459\",\\n\\t\\t\\t\"description\":\"기업 개요 20017년 설립 기업용 금융 통신망 서비스를 제공하는 <b>핀테크<\\\\/b> 업체 금융 인프라를 기반으로... ② 경쟁 심화: * <b>핀테크<\\\\/b> 시장은 경쟁이 치열하며, 새로운 경쟁자의 등장 가능성도 있습니다. * 새로운... \",\\n\\t\\t\\t\"bloggername\":\"행복한남 경제야놀자\",\\n\\t\\t\\t\"bloggerlink\":\"blog.naver.com\\\\/2yongki\",\\n\\t\\t\\t\"postdate\":\"20250323\"\\n\\t\\t},\\n\\t\\t{\\n\\t\\t\\t\"title\":\"테크놀로지스(PGY): AI 기반 대출 혁신의 주목받는 <b>핀테크<\\\\/b> 기업\",\\n\\t\\t\\t\"link\":\"https:\\\\/\\\\/blog.naver.com\\\\/an5217\\\\/223810108719\",\\n\\t\\t\\t\"description\":\"최근 <b>핀테크<\\\\/b> 업계에서 주목받는 기업 **파가야 테크놀로지스(NASDAQ:PGY)**가 투자자와 애널리스트들... 제공하는 <b>핀테크<\\\\/b> 기업입니다. 머신러닝 알고리즘을 통해 개인 대출, 자동차 대출, POS(Point-of-Sale)... \",\\n\\t\\t\\t\"bloggername\":\"오늘 하루도 절도있고 검소하게\",\\n\\t\\t\\t\"bloggerlink\":\"blog.naver.com\\\\/an5217\",\\n\\t\\t\\t\"postdate\":\"20250326\"\\n\\t\\t}\\n\\t]\\n}'"
      ]
     },
     "execution_count": 7,
     "metadata": {},
     "output_type": "execute_result"
    }
   ],
   "source": [
    "data = response_body.decode('utf-8')\n",
    "data"
   ]
  },
  {
   "cell_type": "markdown",
   "id": "6364f622",
   "metadata": {},
   "source": [
    "1. URL 주소로 서버에 URL과 parameter를 보냄\n",
    "2. 요청값을 utf -8로 변환하여 출력\n",
    "3. 응답코드가 200이면 출력"
   ]
  },
  {
   "cell_type": "markdown",
   "id": "39c0fef7",
   "metadata": {},
   "source": [
    "# url : http://로 시작하는 웹페이지 접속주소\n",
    "* url: 실제 서비스에 접속하는 주소\n",
    "* parameter: 서비스에 요청하는 값\n",
    "* https://search.shopping.naver.com/book/search?bookTabType=ALL&pageIndex=1&pageSize=40&query=%ED%95%80%ED%85%8C%ED%81%AC&sort=REL\n",
    "* url : https://search.shopping.naver.com/book/search?\n",
    "* parameter: bookTabType=ALL&pageIndex=1&pageSize=40&query=%ED%95%80%ED%85%8C%ED%81%AC&sort=REL"
   ]
  },
  {
   "cell_type": "code",
   "execution_count": 8,
   "id": "91f1d184",
   "metadata": {},
   "outputs": [],
   "source": [
    "import json"
   ]
  },
  {
   "cell_type": "code",
   "execution_count": 10,
   "id": "e04f561a",
   "metadata": {},
   "outputs": [],
   "source": [
    "data = json.loads(data)"
   ]
  },
  {
   "cell_type": "code",
   "execution_count": 11,
   "id": "9dc2f8c7",
   "metadata": {},
   "outputs": [
    {
     "data": {
      "text/plain": [
       "{'lastBuildDate': 'Mon, 31 Mar 2025 13:25:07 +0900',\n",
       " 'total': 456036,\n",
       " 'start': 1,\n",
       " 'display': 10,\n",
       " 'items': [{'title': '<b>핀테크</b> 투자 후기',\n",
       "   'link': 'https://blog.naver.com/kan1687/223812724931',\n",
       "   'description': '<b>핀테크</b> 투자, 아직도 망설이고 계신가요?  여러분 혹시 이런 고민 해보신 적 있나요? &quot;<b>핀테크</b> 분야가 떴다는데, 지금 시작해도 괜찮을까? 좀 더 상황을 지켜봐야 하나?&quot; 사실 이런 생각은 투자를 고민하는 우리... ',\n",
       "   'bloggername': '우정잉♥',\n",
       "   'bloggerlink': 'blog.naver.com/kan1687',\n",
       "   'postdate': '20250329'},\n",
       "  {'title': '[<b>핀테크</b>] 2024년 <b>핀테크</b> 업계 결산: 놀라운 3가지 변화',\n",
       "   'link': 'https://blog.naver.com/xoom777/223708685044',\n",
       "   'description': '동안 <b>핀테크</b> 업계에는 예상치 못한 변화의 바람이 불었습니다. 한동안 주춤했던 트렌드가... 올 한 해 <b>핀테크</b> 업계를 뜨겁게 달군 3가지 트렌드에 대해 자세히 살펴보겠습니다. 암호화폐의 귀환, 기관... ',\n",
       "   'bloggername': 'Ich fange an',\n",
       "   'bloggerlink': 'blog.naver.com/xoom777',\n",
       "   'postdate': '20241229'},\n",
       "  {'title': '[인사이트 캠퍼스] 2025 동계 <b>핀테크</b> 캠프 (with 전주대학교... ',\n",
       "   'link': 'https://blog.naver.com/fininsight/223734638126',\n",
       "   'description': '전주대학교 친구들이 직접 여의도까지 방문하여 <b>핀테크</b>(FinTech)의 세계를 탐구할 기회를 가질 수... <b>핀테크</b>의 개념부터 해당 기술을 적용하는 사업 분야 그리고 앞으로의 트렌드까지 현업자의 시선에서 면밀하게... ',\n",
       "   'bloggername': '핀인사이트 (Fininsight)',\n",
       "   'bloggerlink': 'blog.naver.com/fininsight',\n",
       "   'postdate': '20250122'},\n",
       "  {'title': '[AI <b>핀테크</b>] AI와 빅데이터로 금융 시장을 재편하는 <b>핀테크</b>... ',\n",
       "   'link': 'https://blog.naver.com/jangpung_/223765345858',\n",
       "   'description': '이제 대출도 AI가 하는 시대 출처 : 파가야 테크놀러지스 홈페이지 금융과 기술이 만나는 <b>핀테크</b>... 제공하는 <b>핀테크</b> 기업으로, 현재 미국, 이스라엘, 케이맨 제도 등여러나라에서 사업을 진행하고 있다.... ',\n",
       "   'bloggername': '낭만을 꿈꾸는 일상',\n",
       "   'bloggerlink': 'blog.naver.com/jangpung_',\n",
       "   'postdate': '20250218'},\n",
       "  {'title': 'IPAY <b>핀테크</b>관련주 ETF -미국 CBDC 코인 서비스 실험 확대',\n",
       "   'link': 'https://blog.naver.com/jaso_/223736810791',\n",
       "   'description': 'IPAY <b>핀테크</b>관련주 ETF -미국 CBDC 코인 서비스 실험 확대 IPAY ETF는 모바일 결제 산업에 투자하는 ETF로 <b>핀테크</b>관련주라고 보시면 되는데요. 이번 포스팅에선 IPAY <b>핀테크</b>관련주 ETF, 투자수익률, 미국 CBDC... ',\n",
       "   'bloggername': '미국주식 퍼주마',\n",
       "   'bloggerlink': 'blog.naver.com/jaso_',\n",
       "   'postdate': '20250130'},\n",
       "  {'title': '맨틀 MNT 코인 디파이 <b>핀테크</b> 서비스 소개',\n",
       "   'link': 'https://blog.naver.com/tmglove/223781181469',\n",
       "   'description': '웹2와 웹3을 아우르며 기관과 개인 그리고 리테일을 위한 다양한 <b>핀테크</b> 서비스 출시를 준비하고 있다고 하는데요. 그래서 오늘은 MNT 코인의 디파이 <b>핀테크</b> 서비스에 대해 알아보겠습니다. <b>핀테크</b>로... ',\n",
       "   'bloggername': 'Hello-',\n",
       "   'bloggerlink': 'blog.naver.com/tmglove',\n",
       "   'postdate': '20250302'},\n",
       "  {'title': '[<b>핀테크</b> 리더] # 2024 금융위원회 선정 10대 기업 _ 1편',\n",
       "   'link': 'https://blog.naver.com/koreafintech/223675560515',\n",
       "   'description': \"[<b>핀테크</b> 리더] ⭐ # 2024 금융위원회 선정 10대 기업 _ 1편 금융위원회는 &lt;코리아 <b>핀테크</b> 위크 2024&gt;에서 작년에 이어 'K-Fintech 30' 프로젝트에 선정된 유망 <b>핀테크</b> 기업 10개사를 발굴하여 소개하였습니다. 'K... \",\n",
       "   'bloggername': '한국핀테크지원센터',\n",
       "   'bloggerlink': 'blog.naver.com/koreafintech',\n",
       "   'postdate': '20241128'},\n",
       "  {'title': '맨틀 네트워크 코인 MNT <b>핀테크</b> 서비스 등장',\n",
       "   'link': 'https://blog.naver.com/ghfjvb465/223781841217',\n",
       "   'description': '맨틀네트워크 코인 <b>핀테크</b>와 크립토 경계 허물기 소개, 시세, 전망 코하! 경제적 자유 얻기... 이번 포스팅에서는 맨틀네트워크 코인 MNT의 <b>핀테크</b> 분야 진출 서비스 소개에 대한 내용을 함께 알아보는... ',\n",
       "   'bloggername': '노마드신지테의 경제적자유얻기 챌린지',\n",
       "   'bloggerlink': 'blog.naver.com/ghfjvb465',\n",
       "   'postdate': '20250303'},\n",
       "  {'title': '신규 상장 더즌 <b>핀테크</b> B2B 기업용 금융통신망 쉿 쉿 조용 조용',\n",
       "   'link': 'https://blog.naver.com/2yongki/223805949459',\n",
       "   'description': '기업 개요 20017년 설립 기업용 금융 통신망 서비스를 제공하는 <b>핀테크</b> 업체 금융 인프라를 기반으로... ② 경쟁 심화: * <b>핀테크</b> 시장은 경쟁이 치열하며, 새로운 경쟁자의 등장 가능성도 있습니다. * 새로운... ',\n",
       "   'bloggername': '행복한남 경제야놀자',\n",
       "   'bloggerlink': 'blog.naver.com/2yongki',\n",
       "   'postdate': '20250323'},\n",
       "  {'title': '테크놀로지스(PGY): AI 기반 대출 혁신의 주목받는 <b>핀테크</b> 기업',\n",
       "   'link': 'https://blog.naver.com/an5217/223810108719',\n",
       "   'description': '최근 <b>핀테크</b> 업계에서 주목받는 기업 **파가야 테크놀로지스(NASDAQ:PGY)**가 투자자와 애널리스트들... 제공하는 <b>핀테크</b> 기업입니다. 머신러닝 알고리즘을 통해 개인 대출, 자동차 대출, POS(Point-of-Sale)... ',\n",
       "   'bloggername': '오늘 하루도 절도있고 검소하게',\n",
       "   'bloggerlink': 'blog.naver.com/an5217',\n",
       "   'postdate': '20250326'}]}"
      ]
     },
     "execution_count": 11,
     "metadata": {},
     "output_type": "execute_result"
    }
   ],
   "source": [
    "data"
   ]
  },
  {
   "cell_type": "code",
   "execution_count": 12,
   "id": "75c9d015",
   "metadata": {},
   "outputs": [
    {
     "data": {
      "text/plain": [
       "5"
      ]
     },
     "execution_count": 12,
     "metadata": {},
     "output_type": "execute_result"
    }
   ],
   "source": [
    "len(data)"
   ]
  },
  {
   "cell_type": "code",
   "execution_count": 14,
   "id": "fcfec9f2",
   "metadata": {},
   "outputs": [
    {
     "data": {
      "text/plain": [
       "{'title': '<b>핀테크</b> 투자 후기',\n",
       " 'link': 'https://blog.naver.com/kan1687/223812724931',\n",
       " 'description': '<b>핀테크</b> 투자, 아직도 망설이고 계신가요?  여러분 혹시 이런 고민 해보신 적 있나요? &quot;<b>핀테크</b> 분야가 떴다는데, 지금 시작해도 괜찮을까? 좀 더 상황을 지켜봐야 하나?&quot; 사실 이런 생각은 투자를 고민하는 우리... ',\n",
       " 'bloggername': '우정잉♥',\n",
       " 'bloggerlink': 'blog.naver.com/kan1687',\n",
       " 'postdate': '20250329'}"
      ]
     },
     "execution_count": 14,
     "metadata": {},
     "output_type": "execute_result"
    }
   ],
   "source": [
    "data['items'][0]"
   ]
  },
  {
   "cell_type": "code",
   "execution_count": 27,
   "id": "d735fa2c",
   "metadata": {},
   "outputs": [],
   "source": [
    "def text_clean(x):\n",
    "    result = x.replace(\"<b>\",\"\").replace(\"</b>\",\"\")\n",
    "    return result"
   ]
  },
  {
   "cell_type": "code",
   "execution_count": 28,
   "id": "bc408725",
   "metadata": {},
   "outputs": [
    {
     "name": "stdout",
     "output_type": "stream",
     "text": [
      "title <b>핀테크</b> 투자 후기\n",
      "link https://blog.naver.com/kan1687/223812724931\n",
      "description <b>핀테크</b> 투자, 아직도 망설이고 계신가요?  여러분 혹시 이런 고민 해보신 적 있나요? &quot;<b>핀테크</b> 분야가 떴다는데, 지금 시작해도 괜찮을까? 좀 더 상황을 지켜봐야 하나?&quot; 사실 이런 생각은 투자를 고민하는 우리... \n",
      "bloggername 우정잉♥\n",
      "bloggerlink blog.naver.com/kan1687\n",
      "postdate 20250329\n",
      "title [<b>핀테크</b>] 2024년 <b>핀테크</b> 업계 결산: 놀라운 3가지 변화\n",
      "link https://blog.naver.com/xoom777/223708685044\n",
      "description 동안 <b>핀테크</b> 업계에는 예상치 못한 변화의 바람이 불었습니다. 한동안 주춤했던 트렌드가... 올 한 해 <b>핀테크</b> 업계를 뜨겁게 달군 3가지 트렌드에 대해 자세히 살펴보겠습니다. 암호화폐의 귀환, 기관... \n",
      "bloggername Ich fange an\n",
      "bloggerlink blog.naver.com/xoom777\n",
      "postdate 20241229\n",
      "title [인사이트 캠퍼스] 2025 동계 <b>핀테크</b> 캠프 (with 전주대학교... \n",
      "link https://blog.naver.com/fininsight/223734638126\n",
      "description 전주대학교 친구들이 직접 여의도까지 방문하여 <b>핀테크</b>(FinTech)의 세계를 탐구할 기회를 가질 수... <b>핀테크</b>의 개념부터 해당 기술을 적용하는 사업 분야 그리고 앞으로의 트렌드까지 현업자의 시선에서 면밀하게... \n",
      "bloggername 핀인사이트 (Fininsight)\n",
      "bloggerlink blog.naver.com/fininsight\n",
      "postdate 20250122\n",
      "title [AI <b>핀테크</b>] AI와 빅데이터로 금융 시장을 재편하는 <b>핀테크</b>... \n",
      "link https://blog.naver.com/jangpung_/223765345858\n",
      "description 이제 대출도 AI가 하는 시대 출처 : 파가야 테크놀러지스 홈페이지 금융과 기술이 만나는 <b>핀테크</b>... 제공하는 <b>핀테크</b> 기업으로, 현재 미국, 이스라엘, 케이맨 제도 등여러나라에서 사업을 진행하고 있다.... \n",
      "bloggername 낭만을 꿈꾸는 일상\n",
      "bloggerlink blog.naver.com/jangpung_\n",
      "postdate 20250218\n",
      "title IPAY <b>핀테크</b>관련주 ETF -미국 CBDC 코인 서비스 실험 확대\n",
      "link https://blog.naver.com/jaso_/223736810791\n",
      "description IPAY <b>핀테크</b>관련주 ETF -미국 CBDC 코인 서비스 실험 확대 IPAY ETF는 모바일 결제 산업에 투자하는 ETF로 <b>핀테크</b>관련주라고 보시면 되는데요. 이번 포스팅에선 IPAY <b>핀테크</b>관련주 ETF, 투자수익률, 미국 CBDC... \n",
      "bloggername 미국주식 퍼주마\n",
      "bloggerlink blog.naver.com/jaso_\n",
      "postdate 20250130\n",
      "title 맨틀 MNT 코인 디파이 <b>핀테크</b> 서비스 소개\n",
      "link https://blog.naver.com/tmglove/223781181469\n",
      "description 웹2와 웹3을 아우르며 기관과 개인 그리고 리테일을 위한 다양한 <b>핀테크</b> 서비스 출시를 준비하고 있다고 하는데요. 그래서 오늘은 MNT 코인의 디파이 <b>핀테크</b> 서비스에 대해 알아보겠습니다. <b>핀테크</b>로... \n",
      "bloggername Hello-\n",
      "bloggerlink blog.naver.com/tmglove\n",
      "postdate 20250302\n",
      "title [<b>핀테크</b> 리더] # 2024 금융위원회 선정 10대 기업 _ 1편\n",
      "link https://blog.naver.com/koreafintech/223675560515\n",
      "description [<b>핀테크</b> 리더] ⭐ # 2024 금융위원회 선정 10대 기업 _ 1편 금융위원회는 &lt;코리아 <b>핀테크</b> 위크 2024&gt;에서 작년에 이어 'K-Fintech 30' 프로젝트에 선정된 유망 <b>핀테크</b> 기업 10개사를 발굴하여 소개하였습니다. 'K... \n",
      "bloggername 한국핀테크지원센터\n",
      "bloggerlink blog.naver.com/koreafintech\n",
      "postdate 20241128\n",
      "title 맨틀 네트워크 코인 MNT <b>핀테크</b> 서비스 등장\n",
      "link https://blog.naver.com/ghfjvb465/223781841217\n",
      "description 맨틀네트워크 코인 <b>핀테크</b>와 크립토 경계 허물기 소개, 시세, 전망 코하! 경제적 자유 얻기... 이번 포스팅에서는 맨틀네트워크 코인 MNT의 <b>핀테크</b> 분야 진출 서비스 소개에 대한 내용을 함께 알아보는... \n",
      "bloggername 노마드신지테의 경제적자유얻기 챌린지\n",
      "bloggerlink blog.naver.com/ghfjvb465\n",
      "postdate 20250303\n",
      "title 신규 상장 더즌 <b>핀테크</b> B2B 기업용 금융통신망 쉿 쉿 조용 조용\n",
      "link https://blog.naver.com/2yongki/223805949459\n",
      "description 기업 개요 20017년 설립 기업용 금융 통신망 서비스를 제공하는 <b>핀테크</b> 업체 금융 인프라를 기반으로... ② 경쟁 심화: * <b>핀테크</b> 시장은 경쟁이 치열하며, 새로운 경쟁자의 등장 가능성도 있습니다. * 새로운... \n",
      "bloggername 행복한남 경제야놀자\n",
      "bloggerlink blog.naver.com/2yongki\n",
      "postdate 20250323\n",
      "title 테크놀로지스(PGY): AI 기반 대출 혁신의 주목받는 <b>핀테크</b> 기업\n",
      "link https://blog.naver.com/an5217/223810108719\n",
      "description 최근 <b>핀테크</b> 업계에서 주목받는 기업 **파가야 테크놀로지스(NASDAQ:PGY)**가 투자자와 애널리스트들... 제공하는 <b>핀테크</b> 기업입니다. 머신러닝 알고리즘을 통해 개인 대출, 자동차 대출, POS(Point-of-Sale)... \n",
      "bloggername 오늘 하루도 절도있고 검소하게\n",
      "bloggerlink blog.naver.com/an5217\n",
      "postdate 20250326\n"
     ]
    }
   ],
   "source": [
    "result ={}\n",
    "for item in data['items']:\n",
    "    for key, value in item.items():\n",
    "        print(key, value)"
   ]
  },
  {
   "cell_type": "code",
   "execution_count": 29,
   "id": "f728dd9f",
   "metadata": {},
   "outputs": [
    {
     "name": "stdout",
     "output_type": "stream",
     "text": [
      "{'title': ['<b>핀테크</b> 투자 후기', '[<b>핀테크</b>] 2024년 <b>핀테크</b> 업계 결산: 놀라운 3가지 변화', '[인사이트 캠퍼스] 2025 동계 <b>핀테크</b> 캠프 (with 전주대학교... ', '[AI <b>핀테크</b>] AI와 빅데이터로 금융 시장을 재편하는 <b>핀테크</b>... ', 'IPAY <b>핀테크</b>관련주 ETF -미국 CBDC 코인 서비스 실험 확대', '맨틀 MNT 코인 디파이 <b>핀테크</b> 서비스 소개', '[<b>핀테크</b> 리더] # 2024 금융위원회 선정 10대 기업 _ 1편', '맨틀 네트워크 코인 MNT <b>핀테크</b> 서비스 등장', '신규 상장 더즌 <b>핀테크</b> B2B 기업용 금융통신망 쉿 쉿 조용 조용', '테크놀로지스(PGY): AI 기반 대출 혁신의 주목받는 <b>핀테크</b> 기업'], 'link': ['https://blog.naver.com/kan1687/223812724931', 'https://blog.naver.com/xoom777/223708685044', 'https://blog.naver.com/fininsight/223734638126', 'https://blog.naver.com/jangpung_/223765345858', 'https://blog.naver.com/jaso_/223736810791', 'https://blog.naver.com/tmglove/223781181469', 'https://blog.naver.com/koreafintech/223675560515', 'https://blog.naver.com/ghfjvb465/223781841217', 'https://blog.naver.com/2yongki/223805949459', 'https://blog.naver.com/an5217/223810108719'], 'description': ['<b>핀테크</b> 투자, 아직도 망설이고 계신가요?  여러분 혹시 이런 고민 해보신 적 있나요? &quot;<b>핀테크</b> 분야가 떴다는데, 지금 시작해도 괜찮을까? 좀 더 상황을 지켜봐야 하나?&quot; 사실 이런 생각은 투자를 고민하는 우리... ', '동안 <b>핀테크</b> 업계에는 예상치 못한 변화의 바람이 불었습니다. 한동안 주춤했던 트렌드가... 올 한 해 <b>핀테크</b> 업계를 뜨겁게 달군 3가지 트렌드에 대해 자세히 살펴보겠습니다. 암호화폐의 귀환, 기관... ', '전주대학교 친구들이 직접 여의도까지 방문하여 <b>핀테크</b>(FinTech)의 세계를 탐구할 기회를 가질 수... <b>핀테크</b>의 개념부터 해당 기술을 적용하는 사업 분야 그리고 앞으로의 트렌드까지 현업자의 시선에서 면밀하게... ', '이제 대출도 AI가 하는 시대 출처 : 파가야 테크놀러지스 홈페이지 금융과 기술이 만나는 <b>핀테크</b>... 제공하는 <b>핀테크</b> 기업으로, 현재 미국, 이스라엘, 케이맨 제도 등여러나라에서 사업을 진행하고 있다.... ', 'IPAY <b>핀테크</b>관련주 ETF -미국 CBDC 코인 서비스 실험 확대 IPAY ETF는 모바일 결제 산업에 투자하는 ETF로 <b>핀테크</b>관련주라고 보시면 되는데요. 이번 포스팅에선 IPAY <b>핀테크</b>관련주 ETF, 투자수익률, 미국 CBDC... ', '웹2와 웹3을 아우르며 기관과 개인 그리고 리테일을 위한 다양한 <b>핀테크</b> 서비스 출시를 준비하고 있다고 하는데요. 그래서 오늘은 MNT 코인의 디파이 <b>핀테크</b> 서비스에 대해 알아보겠습니다. <b>핀테크</b>로... ', \"[<b>핀테크</b> 리더] ⭐ # 2024 금융위원회 선정 10대 기업 _ 1편 금융위원회는 &lt;코리아 <b>핀테크</b> 위크 2024&gt;에서 작년에 이어 'K-Fintech 30' 프로젝트에 선정된 유망 <b>핀테크</b> 기업 10개사를 발굴하여 소개하였습니다. 'K... \", '맨틀네트워크 코인 <b>핀테크</b>와 크립토 경계 허물기 소개, 시세, 전망 코하! 경제적 자유 얻기... 이번 포스팅에서는 맨틀네트워크 코인 MNT의 <b>핀테크</b> 분야 진출 서비스 소개에 대한 내용을 함께 알아보는... ', '기업 개요 20017년 설립 기업용 금융 통신망 서비스를 제공하는 <b>핀테크</b> 업체 금융 인프라를 기반으로... ② 경쟁 심화: * <b>핀테크</b> 시장은 경쟁이 치열하며, 새로운 경쟁자의 등장 가능성도 있습니다. * 새로운... ', '최근 <b>핀테크</b> 업계에서 주목받는 기업 **파가야 테크놀로지스(NASDAQ:PGY)**가 투자자와 애널리스트들... 제공하는 <b>핀테크</b> 기업입니다. 머신러닝 알고리즘을 통해 개인 대출, 자동차 대출, POS(Point-of-Sale)... '], 'bloggername': ['우정잉♥', 'Ich fange an', '핀인사이트 (Fininsight)', '낭만을 꿈꾸는 일상', '미국주식 퍼주마', 'Hello-', '한국핀테크지원센터', '노마드신지테의 경제적자유얻기 챌린지', '행복한남 경제야놀자', '오늘 하루도 절도있고 검소하게'], 'bloggerlink': ['blog.naver.com/kan1687', 'blog.naver.com/xoom777', 'blog.naver.com/fininsight', 'blog.naver.com/jangpung_', 'blog.naver.com/jaso_', 'blog.naver.com/tmglove', 'blog.naver.com/koreafintech', 'blog.naver.com/ghfjvb465', 'blog.naver.com/2yongki', 'blog.naver.com/an5217'], 'postdate': ['20250329', '20241229', '20250122', '20250218', '20250130', '20250302', '20241128', '20250303', '20250323', '20250326']}\n"
     ]
    }
   ],
   "source": [
    "result ={}\n",
    "for item in data['items']:\n",
    "    for key, value in item.items():\n",
    "        valuee = text_clean(value)\n",
    "        result.setdefault(key,[]).append(value)\n",
    "print(result)"
   ]
  },
  {
   "cell_type": "code",
   "execution_count": 30,
   "id": "6b3fe9b3",
   "metadata": {},
   "outputs": [],
   "source": [
    "import pandas as pd"
   ]
  },
  {
   "cell_type": "code",
   "execution_count": 31,
   "id": "8d2e7d8f",
   "metadata": {},
   "outputs": [
    {
     "data": {
      "text/html": [
       "<div>\n",
       "<style scoped>\n",
       "    .dataframe tbody tr th:only-of-type {\n",
       "        vertical-align: middle;\n",
       "    }\n",
       "\n",
       "    .dataframe tbody tr th {\n",
       "        vertical-align: top;\n",
       "    }\n",
       "\n",
       "    .dataframe thead th {\n",
       "        text-align: right;\n",
       "    }\n",
       "</style>\n",
       "<table border=\"1\" class=\"dataframe\">\n",
       "  <thead>\n",
       "    <tr style=\"text-align: right;\">\n",
       "      <th></th>\n",
       "      <th>title</th>\n",
       "      <th>link</th>\n",
       "      <th>description</th>\n",
       "      <th>bloggername</th>\n",
       "      <th>bloggerlink</th>\n",
       "      <th>postdate</th>\n",
       "    </tr>\n",
       "  </thead>\n",
       "  <tbody>\n",
       "    <tr>\n",
       "      <th>0</th>\n",
       "      <td>&lt;b&gt;핀테크&lt;/b&gt; 투자 후기</td>\n",
       "      <td>https://blog.naver.com/kan1687/223812724931</td>\n",
       "      <td>&lt;b&gt;핀테크&lt;/b&gt; 투자, 아직도 망설이고 계신가요?  여러분 혹시 이런 고민 해보...</td>\n",
       "      <td>우정잉♥</td>\n",
       "      <td>blog.naver.com/kan1687</td>\n",
       "      <td>20250329</td>\n",
       "    </tr>\n",
       "    <tr>\n",
       "      <th>1</th>\n",
       "      <td>[&lt;b&gt;핀테크&lt;/b&gt;] 2024년 &lt;b&gt;핀테크&lt;/b&gt; 업계 결산: 놀라운 3가지 변화</td>\n",
       "      <td>https://blog.naver.com/xoom777/223708685044</td>\n",
       "      <td>동안 &lt;b&gt;핀테크&lt;/b&gt; 업계에는 예상치 못한 변화의 바람이 불었습니다. 한동안 주...</td>\n",
       "      <td>Ich fange an</td>\n",
       "      <td>blog.naver.com/xoom777</td>\n",
       "      <td>20241229</td>\n",
       "    </tr>\n",
       "    <tr>\n",
       "      <th>2</th>\n",
       "      <td>[인사이트 캠퍼스] 2025 동계 &lt;b&gt;핀테크&lt;/b&gt; 캠프 (with 전주대학교...</td>\n",
       "      <td>https://blog.naver.com/fininsight/223734638126</td>\n",
       "      <td>전주대학교 친구들이 직접 여의도까지 방문하여 &lt;b&gt;핀테크&lt;/b&gt;(FinTech)의 ...</td>\n",
       "      <td>핀인사이트 (Fininsight)</td>\n",
       "      <td>blog.naver.com/fininsight</td>\n",
       "      <td>20250122</td>\n",
       "    </tr>\n",
       "    <tr>\n",
       "      <th>3</th>\n",
       "      <td>[AI &lt;b&gt;핀테크&lt;/b&gt;] AI와 빅데이터로 금융 시장을 재편하는 &lt;b&gt;핀테크&lt;/...</td>\n",
       "      <td>https://blog.naver.com/jangpung_/223765345858</td>\n",
       "      <td>이제 대출도 AI가 하는 시대 출처 : 파가야 테크놀러지스 홈페이지 금융과 기술이 ...</td>\n",
       "      <td>낭만을 꿈꾸는 일상</td>\n",
       "      <td>blog.naver.com/jangpung_</td>\n",
       "      <td>20250218</td>\n",
       "    </tr>\n",
       "    <tr>\n",
       "      <th>4</th>\n",
       "      <td>IPAY &lt;b&gt;핀테크&lt;/b&gt;관련주 ETF -미국 CBDC 코인 서비스 실험 확대</td>\n",
       "      <td>https://blog.naver.com/jaso_/223736810791</td>\n",
       "      <td>IPAY &lt;b&gt;핀테크&lt;/b&gt;관련주 ETF -미국 CBDC 코인 서비스 실험 확대 I...</td>\n",
       "      <td>미국주식 퍼주마</td>\n",
       "      <td>blog.naver.com/jaso_</td>\n",
       "      <td>20250130</td>\n",
       "    </tr>\n",
       "    <tr>\n",
       "      <th>5</th>\n",
       "      <td>맨틀 MNT 코인 디파이 &lt;b&gt;핀테크&lt;/b&gt; 서비스 소개</td>\n",
       "      <td>https://blog.naver.com/tmglove/223781181469</td>\n",
       "      <td>웹2와 웹3을 아우르며 기관과 개인 그리고 리테일을 위한 다양한 &lt;b&gt;핀테크&lt;/b&gt;...</td>\n",
       "      <td>Hello-</td>\n",
       "      <td>blog.naver.com/tmglove</td>\n",
       "      <td>20250302</td>\n",
       "    </tr>\n",
       "    <tr>\n",
       "      <th>6</th>\n",
       "      <td>[&lt;b&gt;핀테크&lt;/b&gt; 리더] # 2024 금융위원회 선정 10대 기업 _ 1편</td>\n",
       "      <td>https://blog.naver.com/koreafintech/223675560515</td>\n",
       "      <td>[&lt;b&gt;핀테크&lt;/b&gt; 리더] ⭐ # 2024 금융위원회 선정 10대 기업 _ 1편 ...</td>\n",
       "      <td>한국핀테크지원센터</td>\n",
       "      <td>blog.naver.com/koreafintech</td>\n",
       "      <td>20241128</td>\n",
       "    </tr>\n",
       "    <tr>\n",
       "      <th>7</th>\n",
       "      <td>맨틀 네트워크 코인 MNT &lt;b&gt;핀테크&lt;/b&gt; 서비스 등장</td>\n",
       "      <td>https://blog.naver.com/ghfjvb465/223781841217</td>\n",
       "      <td>맨틀네트워크 코인 &lt;b&gt;핀테크&lt;/b&gt;와 크립토 경계 허물기 소개, 시세, 전망 코하...</td>\n",
       "      <td>노마드신지테의 경제적자유얻기 챌린지</td>\n",
       "      <td>blog.naver.com/ghfjvb465</td>\n",
       "      <td>20250303</td>\n",
       "    </tr>\n",
       "    <tr>\n",
       "      <th>8</th>\n",
       "      <td>신규 상장 더즌 &lt;b&gt;핀테크&lt;/b&gt; B2B 기업용 금융통신망 쉿 쉿 조용 조용</td>\n",
       "      <td>https://blog.naver.com/2yongki/223805949459</td>\n",
       "      <td>기업 개요 20017년 설립 기업용 금융 통신망 서비스를 제공하는 &lt;b&gt;핀테크&lt;/b...</td>\n",
       "      <td>행복한남 경제야놀자</td>\n",
       "      <td>blog.naver.com/2yongki</td>\n",
       "      <td>20250323</td>\n",
       "    </tr>\n",
       "    <tr>\n",
       "      <th>9</th>\n",
       "      <td>테크놀로지스(PGY): AI 기반 대출 혁신의 주목받는 &lt;b&gt;핀테크&lt;/b&gt; 기업</td>\n",
       "      <td>https://blog.naver.com/an5217/223810108719</td>\n",
       "      <td>최근 &lt;b&gt;핀테크&lt;/b&gt; 업계에서 주목받는 기업 **파가야 테크놀로지스(NASDAQ...</td>\n",
       "      <td>오늘 하루도 절도있고 검소하게</td>\n",
       "      <td>blog.naver.com/an5217</td>\n",
       "      <td>20250326</td>\n",
       "    </tr>\n",
       "  </tbody>\n",
       "</table>\n",
       "</div>"
      ],
      "text/plain": [
       "                                               title  \\\n",
       "0                                   <b>핀테크</b> 투자 후기   \n",
       "1    [<b>핀테크</b>] 2024년 <b>핀테크</b> 업계 결산: 놀라운 3가지 변화   \n",
       "2   [인사이트 캠퍼스] 2025 동계 <b>핀테크</b> 캠프 (with 전주대학교...    \n",
       "3  [AI <b>핀테크</b>] AI와 빅데이터로 금융 시장을 재편하는 <b>핀테크</...   \n",
       "4       IPAY <b>핀테크</b>관련주 ETF -미국 CBDC 코인 서비스 실험 확대   \n",
       "5                    맨틀 MNT 코인 디파이 <b>핀테크</b> 서비스 소개   \n",
       "6        [<b>핀테크</b> 리더] # 2024 금융위원회 선정 10대 기업 _ 1편   \n",
       "7                   맨틀 네트워크 코인 MNT <b>핀테크</b> 서비스 등장   \n",
       "8        신규 상장 더즌 <b>핀테크</b> B2B 기업용 금융통신망 쉿 쉿 조용 조용   \n",
       "9       테크놀로지스(PGY): AI 기반 대출 혁신의 주목받는 <b>핀테크</b> 기업   \n",
       "\n",
       "                                               link  \\\n",
       "0       https://blog.naver.com/kan1687/223812724931   \n",
       "1       https://blog.naver.com/xoom777/223708685044   \n",
       "2    https://blog.naver.com/fininsight/223734638126   \n",
       "3     https://blog.naver.com/jangpung_/223765345858   \n",
       "4         https://blog.naver.com/jaso_/223736810791   \n",
       "5       https://blog.naver.com/tmglove/223781181469   \n",
       "6  https://blog.naver.com/koreafintech/223675560515   \n",
       "7     https://blog.naver.com/ghfjvb465/223781841217   \n",
       "8       https://blog.naver.com/2yongki/223805949459   \n",
       "9        https://blog.naver.com/an5217/223810108719   \n",
       "\n",
       "                                         description          bloggername  \\\n",
       "0  <b>핀테크</b> 투자, 아직도 망설이고 계신가요?  여러분 혹시 이런 고민 해보...                 우정잉♥   \n",
       "1  동안 <b>핀테크</b> 업계에는 예상치 못한 변화의 바람이 불었습니다. 한동안 주...         Ich fange an   \n",
       "2  전주대학교 친구들이 직접 여의도까지 방문하여 <b>핀테크</b>(FinTech)의 ...   핀인사이트 (Fininsight)   \n",
       "3  이제 대출도 AI가 하는 시대 출처 : 파가야 테크놀러지스 홈페이지 금융과 기술이 ...           낭만을 꿈꾸는 일상   \n",
       "4  IPAY <b>핀테크</b>관련주 ETF -미국 CBDC 코인 서비스 실험 확대 I...             미국주식 퍼주마   \n",
       "5  웹2와 웹3을 아우르며 기관과 개인 그리고 리테일을 위한 다양한 <b>핀테크</b>...               Hello-   \n",
       "6  [<b>핀테크</b> 리더] ⭐ # 2024 금융위원회 선정 10대 기업 _ 1편 ...            한국핀테크지원센터   \n",
       "7  맨틀네트워크 코인 <b>핀테크</b>와 크립토 경계 허물기 소개, 시세, 전망 코하...  노마드신지테의 경제적자유얻기 챌린지   \n",
       "8  기업 개요 20017년 설립 기업용 금융 통신망 서비스를 제공하는 <b>핀테크</b...           행복한남 경제야놀자   \n",
       "9  최근 <b>핀테크</b> 업계에서 주목받는 기업 **파가야 테크놀로지스(NASDAQ...     오늘 하루도 절도있고 검소하게   \n",
       "\n",
       "                   bloggerlink  postdate  \n",
       "0       blog.naver.com/kan1687  20250329  \n",
       "1       blog.naver.com/xoom777  20241229  \n",
       "2    blog.naver.com/fininsight  20250122  \n",
       "3     blog.naver.com/jangpung_  20250218  \n",
       "4         blog.naver.com/jaso_  20250130  \n",
       "5       blog.naver.com/tmglove  20250302  \n",
       "6  blog.naver.com/koreafintech  20241128  \n",
       "7     blog.naver.com/ghfjvb465  20250303  \n",
       "8       blog.naver.com/2yongki  20250323  \n",
       "9        blog.naver.com/an5217  20250326  "
      ]
     },
     "execution_count": 31,
     "metadata": {},
     "output_type": "execute_result"
    }
   ],
   "source": [
    "df = pd.DataFrame(result)\n",
    "df"
   ]
  },
  {
   "cell_type": "code",
   "execution_count": null,
   "id": "f4617e50",
   "metadata": {},
   "outputs": [],
   "source": []
  },
  {
   "cell_type": "code",
   "execution_count": null,
   "id": "7c168284",
   "metadata": {},
   "outputs": [],
   "source": []
  },
  {
   "cell_type": "code",
   "execution_count": null,
   "id": "825593cb",
   "metadata": {},
   "outputs": [],
   "source": []
  },
  {
   "cell_type": "code",
   "execution_count": null,
   "id": "3ec1837d",
   "metadata": {},
   "outputs": [],
   "source": []
  },
  {
   "cell_type": "code",
   "execution_count": null,
   "id": "b7ec6e06",
   "metadata": {},
   "outputs": [],
   "source": []
  }
 ],
 "metadata": {
  "kernelspec": {
   "display_name": "Python 3 (ipykernel)",
   "language": "python",
   "name": "python3"
  },
  "language_info": {
   "codemirror_mode": {
    "name": "ipython",
    "version": 3
   },
   "file_extension": ".py",
   "mimetype": "text/x-python",
   "name": "python",
   "nbconvert_exporter": "python",
   "pygments_lexer": "ipython3",
   "version": "3.9.21"
  }
 },
 "nbformat": 4,
 "nbformat_minor": 5
}
