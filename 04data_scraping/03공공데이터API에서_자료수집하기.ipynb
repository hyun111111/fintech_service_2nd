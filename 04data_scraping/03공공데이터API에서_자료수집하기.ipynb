{
 "cells": [
  {
   "cell_type": "code",
   "execution_count": 82,
   "id": "69987564",
   "metadata": {},
   "outputs": [],
   "source": [
    "import requests"
   ]
  },
  {
   "cell_type": "code",
   "execution_count": 83,
   "id": "47865bd1",
   "metadata": {},
   "outputs": [],
   "source": [
    "import pandas as pd"
   ]
  },
  {
   "cell_type": "code",
   "execution_count": 84,
   "id": "371d635a",
   "metadata": {},
   "outputs": [],
   "source": [
    "import json"
   ]
  },
  {
   "cell_type": "code",
   "execution_count": 122,
   "id": "3d69922d",
   "metadata": {},
   "outputs": [],
   "source": [
    "def unpaking(data):\n",
    "    c_shops = {}\n",
    "    for i in shop:\n",
    "        for key, value in zip(category,i.values()):\n",
    "            c_shops.setdefault(key,[]).append(value)\n",
    "    return c_shops"
   ]
  },
  {
   "cell_type": "code",
   "execution_count": null,
   "id": "967f648c",
   "metadata": {},
   "outputs": [],
   "source": [
    "def unpaking(data):\n",
    "    c_shops = {}\n",
    "    category = data['header']['columns']\n",
    "    shop = data['body']['items']\n",
    "    for i in shop:\n",
    "        for key, value in zip(category,i.values()):\n",
    "            c_shops.setdefault(key,[]).append(value)\n",
    "    return c_shops"
   ]
  },
  {
   "cell_type": "code",
   "execution_count": 138,
   "id": "90e1ee63",
   "metadata": {},
   "outputs": [
    {
     "name": "stdout",
     "output_type": "stream",
     "text": [
      "http://apis.data.go.kr/B553077/api/open/sdsc2/storeListInUpjong?servicekey=bmvKYhJ5bZui%2FzXZQuUKx%2BC2Ma%2BhmR%2Fx%2FpPGfHBoB17yLKB342mU66pZd0WyvB0P28Cxj0jFB%2FtiXgVZlmZJHg%3D%3D&divId=indsSclsCd&key=I21006&numOfRows=1000&pageNo=1&type=json\n",
      "200\n"
     ]
    }
   ],
   "source": [
    "servicekey = 'bmvKYhJ5bZui/zXZQuUKx+C2Ma+hmR/x/pPGfHBoB17yLKB342mU66pZd0WyvB0P28Cxj0jFB/tiXgVZlmZJHg=='\n",
    "divId = 'indsSclsCd'\n",
    "key = 'I21006'\n",
    "payload = {'servicekey': servicekey , 'divId': divId , 'key': key, \"numOfRows\" : 1000, 'pageNo' : 1, 'type': 'json'}\n",
    "r = requests.get('http://apis.data.go.kr/B553077/api/open/sdsc2/storeListInUpjong', params=payload)\n",
    "data = r.json()\n",
    "print(r.url)\n",
    "print(r.status_code)\n",
    "category = data['header']['columns']"
   ]
  },
  {
   "cell_type": "code",
   "execution_count": 139,
   "id": "5a832d60",
   "metadata": {},
   "outputs": [
    {
     "data": {
      "text/plain": [
       "1000"
      ]
     },
     "execution_count": 139,
     "metadata": {},
     "output_type": "execute_result"
    }
   ],
   "source": [
    "len(data['body']['items'])"
   ]
  },
  {
   "cell_type": "code",
   "execution_count": 140,
   "id": "cdb57f12",
   "metadata": {},
   "outputs": [
    {
     "data": {
      "text/plain": [
       "dict_keys(['items', 'numOfRows', 'pageNo', 'totalCount'])"
      ]
     },
     "execution_count": 140,
     "metadata": {},
     "output_type": "execute_result"
    }
   ],
   "source": [
    "data['body'].keys()"
   ]
  },
  {
   "cell_type": "code",
   "execution_count": 141,
   "id": "b8c9ae8f",
   "metadata": {},
   "outputs": [
    {
     "data": {
      "text/plain": [
       "42095"
      ]
     },
     "execution_count": 141,
     "metadata": {},
     "output_type": "execute_result"
    }
   ],
   "source": [
    "data['body']['totalCount']"
   ]
  },
  {
   "cell_type": "code",
   "execution_count": 142,
   "id": "2d838fbc",
   "metadata": {},
   "outputs": [
    {
     "data": {
      "text/plain": [
       "1000"
      ]
     },
     "execution_count": 142,
     "metadata": {},
     "output_type": "execute_result"
    }
   ],
   "source": [
    "len(data['body']['items'])"
   ]
  },
  {
   "cell_type": "code",
   "execution_count": 151,
   "id": "992219ae",
   "metadata": {},
   "outputs": [
    {
     "ename": "KeyError",
     "evalue": "'columns'",
     "output_type": "error",
     "traceback": [
      "\u001b[1;31m---------------------------------------------------------------------------\u001b[0m",
      "\u001b[1;31mKeyError\u001b[0m                                  Traceback (most recent call last)",
      "Cell \u001b[1;32mIn[151], line 1\u001b[0m\n\u001b[1;32m----> 1\u001b[0m \u001b[43mdata\u001b[49m\u001b[43m[\u001b[49m\u001b[38;5;124;43m'\u001b[39;49m\u001b[38;5;124;43mheader\u001b[39;49m\u001b[38;5;124;43m'\u001b[39;49m\u001b[43m]\u001b[49m\u001b[43m[\u001b[49m\u001b[38;5;124;43m'\u001b[39;49m\u001b[38;5;124;43mcolumns\u001b[39;49m\u001b[38;5;124;43m'\u001b[39;49m\u001b[43m]\u001b[49m\n",
      "\u001b[1;31mKeyError\u001b[0m: 'columns'"
     ]
    }
   ],
   "source": [
    "data['header']['columns']"
   ]
  },
  {
   "cell_type": "code",
   "execution_count": 145,
   "id": "f39c5e07",
   "metadata": {},
   "outputs": [
    {
     "data": {
      "text/plain": [
       "{'bizesId': 'MA010120220800445252',\n",
       " 'bizesNm': '가마로닭강정',\n",
       " 'brchNm': '',\n",
       " 'indsLclsCd': 'I2',\n",
       " 'indsLclsNm': '음식',\n",
       " 'indsMclsCd': 'I210',\n",
       " 'indsMclsNm': '기타 간이',\n",
       " 'indsSclsCd': 'I21006',\n",
       " 'indsSclsNm': '치킨',\n",
       " 'ksicCd': 'I56193',\n",
       " 'ksicNm': '치킨 전문점',\n",
       " 'ctprvnCd': '11',\n",
       " 'ctprvnNm': '서울특별시',\n",
       " 'signguCd': '11590',\n",
       " 'signguNm': '동작구',\n",
       " 'adongCd': '11590605',\n",
       " 'adongNm': '흑석동',\n",
       " 'ldongCd': '1159010500',\n",
       " 'ldongNm': '흑석동',\n",
       " 'lnoCd': '1159010500102250015',\n",
       " 'plotSctCd': '1',\n",
       " 'plotSctNm': '대지',\n",
       " 'lnoMnno': 225,\n",
       " 'lnoSlno': 15,\n",
       " 'lnoAdr': '서울특별시 동작구 흑석동 225-15',\n",
       " 'rdnmCd': '115903119006',\n",
       " 'rdnm': '서울특별시 동작구 서달로',\n",
       " 'bldMnno': 151,\n",
       " 'bldSlno': '',\n",
       " 'bldMngNo': '1159010500102240001017670',\n",
       " 'bldNm': '제',\n",
       " 'rdnmAdr': '서울특별시 동작구 서달로 151',\n",
       " 'oldZipcd': '156861',\n",
       " 'newZipcd': '06973',\n",
       " 'dongNo': '',\n",
       " 'flrNo': '1',\n",
       " 'hoNo': '',\n",
       " 'lon': 126.961534642074,\n",
       " 'lat': 37.5069754179478}"
      ]
     },
     "execution_count": 145,
     "metadata": {},
     "output_type": "execute_result"
    }
   ],
   "source": [
    "data['body']['items'][0]"
   ]
  },
  {
   "cell_type": "code",
   "execution_count": 46,
   "id": "342976a1",
   "metadata": {
    "scrolled": true
   },
   "outputs": [
    {
     "name": "stdout",
     "output_type": "stream",
     "text": [
      "1000\n"
     ]
    }
   ],
   "source": [
    "c_shops = {}\n",
    "category = data['header']['columns']\n",
    "shop = data['body']['items']\n",
    "for i in shop:\n",
    "    for key, value in zip(category,i.values()):\n",
    "        c_shops.setdefault(key,[]).append(value)\n",
    "print(len(c_shops['상가업소번호']))"
   ]
  },
  {
   "cell_type": "code",
   "execution_count": null,
   "id": "6df79e22",
   "metadata": {},
   "outputs": [],
   "source": [
    "result_c_shop.append(unpaking(data))"
   ]
  },
  {
   "cell_type": "code",
   "execution_count": null,
   "id": "21c8529c",
   "metadata": {},
   "outputs": [],
   "source": [
    "result_c_shop = []\n",
    "page = 1\n",
    "for :\n",
    "    servicekey = 'bmvKYhJ5bZui/zXZQuUKx+C2Ma+hmR/x/pPGfHBoB17yLKB342mU66pZd0WyvB0P28Cxj0jFB/tiXgVZlmZJHg=='\n",
    "    divId = 'indsSclsCd'\n",
    "    key = 'I21006'\n",
    "    payload = {'servicekey': servicekey , 'divId': divId , 'key': key, \"numOfRows\" : 1000, 'pageNo' : page, 'type': 'json'}\n",
    "    r = requests.get('http://apis.data.go.kr/B553077/api/open/sdsc2/storeListInUpjong', params=payload)\n",
    "    data = r.json()\n",
    "    print(r.url, end =\"\\r\")\n",
    "    print(r.status_code, end =\"\\r\")\n",
    "    \n",
    "    if page < 21 :\n",
    "        \n",
    "        page += 1\n",
    "    else : \n",
    "        break \n",
    "        \n",
    "        \n"
   ]
  },
  {
   "cell_type": "code",
   "execution_count": 64,
   "id": "49981e81",
   "metadata": {},
   "outputs": [
    {
     "data": {
      "text/html": [
       "<div>\n",
       "<style scoped>\n",
       "    .dataframe tbody tr th:only-of-type {\n",
       "        vertical-align: middle;\n",
       "    }\n",
       "\n",
       "    .dataframe tbody tr th {\n",
       "        vertical-align: top;\n",
       "    }\n",
       "\n",
       "    .dataframe thead th {\n",
       "        text-align: right;\n",
       "    }\n",
       "</style>\n",
       "<table border=\"1\" class=\"dataframe\">\n",
       "  <thead>\n",
       "    <tr style=\"text-align: right;\">\n",
       "      <th></th>\n",
       "      <th>상가업소번호</th>\n",
       "      <th>상호명</th>\n",
       "      <th>지점명</th>\n",
       "      <th>상권업종대분류코드</th>\n",
       "      <th>상권업종대분류명</th>\n",
       "      <th>상권업종중분류코드</th>\n",
       "      <th>상권업종중분류명</th>\n",
       "      <th>상권업종소분류코드</th>\n",
       "      <th>상권업종소분류명</th>\n",
       "      <th>표준산업분류코드</th>\n",
       "      <th>...</th>\n",
       "      <th>건물관리번호</th>\n",
       "      <th>건물명</th>\n",
       "      <th>도로명주소</th>\n",
       "      <th>구우편번호</th>\n",
       "      <th>신우편번호</th>\n",
       "      <th>동정보</th>\n",
       "      <th>층정보</th>\n",
       "      <th>호정보</th>\n",
       "      <th>경도</th>\n",
       "      <th>위도</th>\n",
       "    </tr>\n",
       "  </thead>\n",
       "  <tbody>\n",
       "    <tr>\n",
       "      <th>0</th>\n",
       "      <td>MA010120220800445252</td>\n",
       "      <td>가마로닭강정</td>\n",
       "      <td></td>\n",
       "      <td>I2</td>\n",
       "      <td>음식</td>\n",
       "      <td>I210</td>\n",
       "      <td>기타 간이</td>\n",
       "      <td>I21006</td>\n",
       "      <td>치킨</td>\n",
       "      <td>I56193</td>\n",
       "      <td>...</td>\n",
       "      <td>1159010500102240001017670</td>\n",
       "      <td>제</td>\n",
       "      <td>서울특별시 동작구 서달로 151</td>\n",
       "      <td>156861</td>\n",
       "      <td>06973</td>\n",
       "      <td></td>\n",
       "      <td>1</td>\n",
       "      <td></td>\n",
       "      <td>126.961535</td>\n",
       "      <td>37.506975</td>\n",
       "    </tr>\n",
       "    <tr>\n",
       "      <th>1</th>\n",
       "      <td>MA010120220800445378</td>\n",
       "      <td>수원왕갈비통닭</td>\n",
       "      <td>보라매점</td>\n",
       "      <td>I2</td>\n",
       "      <td>음식</td>\n",
       "      <td>I210</td>\n",
       "      <td>기타 간이</td>\n",
       "      <td>I21006</td>\n",
       "      <td>치킨</td>\n",
       "      <td>I56213</td>\n",
       "      <td>...</td>\n",
       "      <td>1159010800104150005004103</td>\n",
       "      <td></td>\n",
       "      <td>서울특별시 동작구 여의대방로24가길 12</td>\n",
       "      <td>156811</td>\n",
       "      <td>07055</td>\n",
       "      <td></td>\n",
       "      <td>1</td>\n",
       "      <td></td>\n",
       "      <td>126.921008</td>\n",
       "      <td>37.498774</td>\n",
       "    </tr>\n",
       "    <tr>\n",
       "      <th>2</th>\n",
       "      <td>MA010120220800430361</td>\n",
       "      <td>페리카나</td>\n",
       "      <td></td>\n",
       "      <td>I2</td>\n",
       "      <td>음식</td>\n",
       "      <td>I210</td>\n",
       "      <td>기타 간이</td>\n",
       "      <td>I21006</td>\n",
       "      <td>치킨</td>\n",
       "      <td>I56193</td>\n",
       "      <td>...</td>\n",
       "      <td>1159010700102130007006364</td>\n",
       "      <td></td>\n",
       "      <td>서울특별시 동작구 사당로 168</td>\n",
       "      <td>156879</td>\n",
       "      <td>07030</td>\n",
       "      <td></td>\n",
       "      <td></td>\n",
       "      <td></td>\n",
       "      <td>126.967572</td>\n",
       "      <td>37.486813</td>\n",
       "    </tr>\n",
       "    <tr>\n",
       "      <th>3</th>\n",
       "      <td>MA010120220800445715</td>\n",
       "      <td>치킨89</td>\n",
       "      <td></td>\n",
       "      <td>I2</td>\n",
       "      <td>음식</td>\n",
       "      <td>I210</td>\n",
       "      <td>기타 간이</td>\n",
       "      <td>I21006</td>\n",
       "      <td>치킨</td>\n",
       "      <td>I56193</td>\n",
       "      <td>...</td>\n",
       "      <td>1159010900103460008001825</td>\n",
       "      <td>노블레스빌</td>\n",
       "      <td>서울특별시 동작구 보라매로 98-5</td>\n",
       "      <td>156847</td>\n",
       "      <td>07053</td>\n",
       "      <td></td>\n",
       "      <td></td>\n",
       "      <td></td>\n",
       "      <td>126.928484</td>\n",
       "      <td>37.497932</td>\n",
       "    </tr>\n",
       "    <tr>\n",
       "      <th>4</th>\n",
       "      <td>MA010120220800439275</td>\n",
       "      <td>또바기치킨</td>\n",
       "      <td></td>\n",
       "      <td>I2</td>\n",
       "      <td>음식</td>\n",
       "      <td>I210</td>\n",
       "      <td>기타 간이</td>\n",
       "      <td>I21006</td>\n",
       "      <td>치킨</td>\n",
       "      <td>I56193</td>\n",
       "      <td>...</td>\n",
       "      <td>1156013200103470294013808</td>\n",
       "      <td></td>\n",
       "      <td>서울특별시 영등포구 가마산로 439</td>\n",
       "      <td>150848</td>\n",
       "      <td>07382</td>\n",
       "      <td></td>\n",
       "      <td></td>\n",
       "      <td></td>\n",
       "      <td>126.905292</td>\n",
       "      <td>37.505322</td>\n",
       "    </tr>\n",
       "    <tr>\n",
       "      <th>...</th>\n",
       "      <td>...</td>\n",
       "      <td>...</td>\n",
       "      <td>...</td>\n",
       "      <td>...</td>\n",
       "      <td>...</td>\n",
       "      <td>...</td>\n",
       "      <td>...</td>\n",
       "      <td>...</td>\n",
       "      <td>...</td>\n",
       "      <td>...</td>\n",
       "      <td>...</td>\n",
       "      <td>...</td>\n",
       "      <td>...</td>\n",
       "      <td>...</td>\n",
       "      <td>...</td>\n",
       "      <td>...</td>\n",
       "      <td>...</td>\n",
       "      <td>...</td>\n",
       "      <td>...</td>\n",
       "      <td>...</td>\n",
       "      <td>...</td>\n",
       "    </tr>\n",
       "    <tr>\n",
       "      <th>995</th>\n",
       "      <td>MA010120220800526797</td>\n",
       "      <td>페리카나</td>\n",
       "      <td></td>\n",
       "      <td>I2</td>\n",
       "      <td>음식</td>\n",
       "      <td>I210</td>\n",
       "      <td>기타 간이</td>\n",
       "      <td>I21006</td>\n",
       "      <td>치킨</td>\n",
       "      <td>I56193</td>\n",
       "      <td>...</td>\n",
       "      <td>4155025026100630014014599</td>\n",
       "      <td></td>\n",
       "      <td>경기도 안성시 공도읍 고무다리길 10-1</td>\n",
       "      <td>456825</td>\n",
       "      <td>17562</td>\n",
       "      <td></td>\n",
       "      <td></td>\n",
       "      <td></td>\n",
       "      <td>127.169648</td>\n",
       "      <td>36.998410</td>\n",
       "    </tr>\n",
       "    <tr>\n",
       "      <th>996</th>\n",
       "      <td>MA010120220800533653</td>\n",
       "      <td>비비큐</td>\n",
       "      <td>석수점</td>\n",
       "      <td>I2</td>\n",
       "      <td>음식</td>\n",
       "      <td>I210</td>\n",
       "      <td>기타 간이</td>\n",
       "      <td>I21006</td>\n",
       "      <td>치킨</td>\n",
       "      <td>I56193</td>\n",
       "      <td>...</td>\n",
       "      <td>4117110200103040023012812</td>\n",
       "      <td></td>\n",
       "      <td>경기도 안양시 만안구 석천로 164-1</td>\n",
       "      <td>430806</td>\n",
       "      <td>13969</td>\n",
       "      <td></td>\n",
       "      <td>1</td>\n",
       "      <td></td>\n",
       "      <td>126.907387</td>\n",
       "      <td>37.411582</td>\n",
       "    </tr>\n",
       "    <tr>\n",
       "      <th>997</th>\n",
       "      <td>MA010120220800547453</td>\n",
       "      <td>푸드모아</td>\n",
       "      <td></td>\n",
       "      <td>I2</td>\n",
       "      <td>음식</td>\n",
       "      <td>I210</td>\n",
       "      <td>기타 간이</td>\n",
       "      <td>I21006</td>\n",
       "      <td>치킨</td>\n",
       "      <td>M71531</td>\n",
       "      <td>...</td>\n",
       "      <td>1150010500100000000000005</td>\n",
       "      <td>보타닉파크타워</td>\n",
       "      <td>서울특별시 강서구 마곡중앙6로 11</td>\n",
       "      <td>157805</td>\n",
       "      <td>07801</td>\n",
       "      <td></td>\n",
       "      <td></td>\n",
       "      <td></td>\n",
       "      <td>126.828654</td>\n",
       "      <td>37.560872</td>\n",
       "    </tr>\n",
       "    <tr>\n",
       "      <th>998</th>\n",
       "      <td>MA010120220800526994</td>\n",
       "      <td>치킨인류</td>\n",
       "      <td></td>\n",
       "      <td>I2</td>\n",
       "      <td>음식</td>\n",
       "      <td>I210</td>\n",
       "      <td>기타 간이</td>\n",
       "      <td>I21006</td>\n",
       "      <td>치킨</td>\n",
       "      <td>I56193</td>\n",
       "      <td>...</td>\n",
       "      <td>4150025330106790003000001</td>\n",
       "      <td></td>\n",
       "      <td>경기도 이천시 부발읍 경충대로2050번길 15-46</td>\n",
       "      <td>467866</td>\n",
       "      <td>17332</td>\n",
       "      <td></td>\n",
       "      <td>1</td>\n",
       "      <td></td>\n",
       "      <td>127.493131</td>\n",
       "      <td>37.250713</td>\n",
       "    </tr>\n",
       "    <tr>\n",
       "      <th>999</th>\n",
       "      <td>MA010120220800527119</td>\n",
       "      <td>네네치킨밀양삼문점</td>\n",
       "      <td></td>\n",
       "      <td>I2</td>\n",
       "      <td>음식</td>\n",
       "      <td>I210</td>\n",
       "      <td>기타 간이</td>\n",
       "      <td>I21006</td>\n",
       "      <td>치킨</td>\n",
       "      <td>I56193</td>\n",
       "      <td>...</td>\n",
       "      <td>4827010400107290004000001</td>\n",
       "      <td></td>\n",
       "      <td>경상남도 밀양시 미리벌중앙로 85</td>\n",
       "      <td>627150</td>\n",
       "      <td>50434</td>\n",
       "      <td></td>\n",
       "      <td>1</td>\n",
       "      <td></td>\n",
       "      <td>128.747223</td>\n",
       "      <td>35.485028</td>\n",
       "    </tr>\n",
       "  </tbody>\n",
       "</table>\n",
       "<p>1000 rows × 39 columns</p>\n",
       "</div>"
      ],
      "text/plain": [
       "                   상가업소번호        상호명   지점명 상권업종대분류코드 상권업종대분류명 상권업종중분류코드  \\\n",
       "0    MA010120220800445252     가마로닭강정              I2       음식      I210   \n",
       "1    MA010120220800445378    수원왕갈비통닭  보라매점        I2       음식      I210   \n",
       "2    MA010120220800430361       페리카나              I2       음식      I210   \n",
       "3    MA010120220800445715       치킨89              I2       음식      I210   \n",
       "4    MA010120220800439275      또바기치킨              I2       음식      I210   \n",
       "..                    ...        ...   ...       ...      ...       ...   \n",
       "995  MA010120220800526797       페리카나              I2       음식      I210   \n",
       "996  MA010120220800533653        비비큐   석수점        I2       음식      I210   \n",
       "997  MA010120220800547453       푸드모아              I2       음식      I210   \n",
       "998  MA010120220800526994       치킨인류              I2       음식      I210   \n",
       "999  MA010120220800527119  네네치킨밀양삼문점              I2       음식      I210   \n",
       "\n",
       "    상권업종중분류명 상권업종소분류코드 상권업종소분류명 표준산업분류코드  ...                     건물관리번호  \\\n",
       "0      기타 간이    I21006       치킨   I56193  ...  1159010500102240001017670   \n",
       "1      기타 간이    I21006       치킨   I56213  ...  1159010800104150005004103   \n",
       "2      기타 간이    I21006       치킨   I56193  ...  1159010700102130007006364   \n",
       "3      기타 간이    I21006       치킨   I56193  ...  1159010900103460008001825   \n",
       "4      기타 간이    I21006       치킨   I56193  ...  1156013200103470294013808   \n",
       "..       ...       ...      ...      ...  ...                        ...   \n",
       "995    기타 간이    I21006       치킨   I56193  ...  4155025026100630014014599   \n",
       "996    기타 간이    I21006       치킨   I56193  ...  4117110200103040023012812   \n",
       "997    기타 간이    I21006       치킨   M71531  ...  1150010500100000000000005   \n",
       "998    기타 간이    I21006       치킨   I56193  ...  4150025330106790003000001   \n",
       "999    기타 간이    I21006       치킨   I56193  ...  4827010400107290004000001   \n",
       "\n",
       "         건물명                         도로명주소   구우편번호  신우편번호 동정보 층정보 호정보  \\\n",
       "0          제             서울특별시 동작구 서달로 151  156861  06973       1       \n",
       "1                   서울특별시 동작구 여의대방로24가길 12  156811  07055       1       \n",
       "2                        서울특별시 동작구 사당로 168  156879  07030               \n",
       "3      노블레스빌           서울특별시 동작구 보라매로 98-5  156847  07053               \n",
       "4                      서울특별시 영등포구 가마산로 439  150848  07382               \n",
       "..       ...                           ...     ...    ...  ..  ..  ..   \n",
       "995                 경기도 안성시 공도읍 고무다리길 10-1  456825  17562               \n",
       "996                  경기도 안양시 만안구 석천로 164-1  430806  13969       1       \n",
       "997  보타닉파크타워           서울특별시 강서구 마곡중앙6로 11  157805  07801               \n",
       "998           경기도 이천시 부발읍 경충대로2050번길 15-46  467866  17332       1       \n",
       "999                     경상남도 밀양시 미리벌중앙로 85  627150  50434       1       \n",
       "\n",
       "             경도         위도  \n",
       "0    126.961535  37.506975  \n",
       "1    126.921008  37.498774  \n",
       "2    126.967572  37.486813  \n",
       "3    126.928484  37.497932  \n",
       "4    126.905292  37.505322  \n",
       "..          ...        ...  \n",
       "995  127.169648  36.998410  \n",
       "996  126.907387  37.411582  \n",
       "997  126.828654  37.560872  \n",
       "998  127.493131  37.250713  \n",
       "999  128.747223  35.485028  \n",
       "\n",
       "[1000 rows x 39 columns]"
      ]
     },
     "execution_count": 64,
     "metadata": {},
     "output_type": "execute_result"
    }
   ],
   "source": [
    "result = unpaking(data)\n",
    "result = pd.DataFrame(result)\n",
    "result"
   ]
  },
  {
   "cell_type": "code",
   "execution_count": 146,
   "id": "8134abe8",
   "metadata": {},
   "outputs": [
    {
     "name": "stdout",
     "output_type": "stream",
     "text": [
      "200p://apis.data.go.kr/B553077/api/open/sdsc2/storeListInUpjong?servicekey=bmvKYhJ5bZui%2FzXZQuUKx%2BC2Ma%2BhmR%2Fx%2FpPGfHBoB17yLKB342mU66pZd0WyvB0P28Cxj0jFB%2FtiXgVZlmZJHg%3D%3D&divId=indsSclsCd&key=I21006&numOfRows=1000&pageNo=21&type=json\r"
     ]
    },
    {
     "ename": "KeyboardInterrupt",
     "evalue": "",
     "output_type": "error",
     "traceback": [
      "\u001b[1;31m---------------------------------------------------------------------------\u001b[0m",
      "\u001b[1;31mKeyboardInterrupt\u001b[0m                         Traceback (most recent call last)",
      "Cell \u001b[1;32mIn[146], line 8\u001b[0m\n\u001b[0;32m      6\u001b[0m key \u001b[38;5;241m=\u001b[39m \u001b[38;5;124m'\u001b[39m\u001b[38;5;124mI21006\u001b[39m\u001b[38;5;124m'\u001b[39m\n\u001b[0;32m      7\u001b[0m payload \u001b[38;5;241m=\u001b[39m {\u001b[38;5;124m'\u001b[39m\u001b[38;5;124mservicekey\u001b[39m\u001b[38;5;124m'\u001b[39m: servicekey , \u001b[38;5;124m'\u001b[39m\u001b[38;5;124mdivId\u001b[39m\u001b[38;5;124m'\u001b[39m: divId , \u001b[38;5;124m'\u001b[39m\u001b[38;5;124mkey\u001b[39m\u001b[38;5;124m'\u001b[39m: key, \u001b[38;5;124m\"\u001b[39m\u001b[38;5;124mnumOfRows\u001b[39m\u001b[38;5;124m\"\u001b[39m : \u001b[38;5;241m1000\u001b[39m, \u001b[38;5;124m'\u001b[39m\u001b[38;5;124mpageNo\u001b[39m\u001b[38;5;124m'\u001b[39m : page, \u001b[38;5;124m'\u001b[39m\u001b[38;5;124mtype\u001b[39m\u001b[38;5;124m'\u001b[39m: \u001b[38;5;124m'\u001b[39m\u001b[38;5;124mjson\u001b[39m\u001b[38;5;124m'\u001b[39m}\n\u001b[1;32m----> 8\u001b[0m r \u001b[38;5;241m=\u001b[39m \u001b[43mrequests\u001b[49m\u001b[38;5;241;43m.\u001b[39;49m\u001b[43mget\u001b[49m\u001b[43m(\u001b[49m\u001b[38;5;124;43m'\u001b[39;49m\u001b[38;5;124;43mhttp://apis.data.go.kr/B553077/api/open/sdsc2/storeListInUpjong\u001b[39;49m\u001b[38;5;124;43m'\u001b[39;49m\u001b[43m,\u001b[49m\u001b[43m \u001b[49m\u001b[43mparams\u001b[49m\u001b[38;5;241;43m=\u001b[39;49m\u001b[43mpayload\u001b[49m\u001b[43m)\u001b[49m\n\u001b[0;32m      9\u001b[0m data \u001b[38;5;241m=\u001b[39m r\u001b[38;5;241m.\u001b[39mjson()\n\u001b[0;32m     10\u001b[0m category \u001b[38;5;241m=\u001b[39m data[\u001b[38;5;124m'\u001b[39m\u001b[38;5;124mheader\u001b[39m\u001b[38;5;124m'\u001b[39m][\u001b[38;5;124m'\u001b[39m\u001b[38;5;124mcolumns\u001b[39m\u001b[38;5;124m'\u001b[39m]\n",
      "File \u001b[1;32m~\\miniforge3\\envs\\fintech\\lib\\site-packages\\requests\\api.py:73\u001b[0m, in \u001b[0;36mget\u001b[1;34m(url, params, **kwargs)\u001b[0m\n\u001b[0;32m     62\u001b[0m \u001b[38;5;28;01mdef\u001b[39;00m\u001b[38;5;250m \u001b[39m\u001b[38;5;21mget\u001b[39m(url, params\u001b[38;5;241m=\u001b[39m\u001b[38;5;28;01mNone\u001b[39;00m, \u001b[38;5;241m*\u001b[39m\u001b[38;5;241m*\u001b[39mkwargs):\n\u001b[0;32m     63\u001b[0m \u001b[38;5;250m    \u001b[39m\u001b[38;5;124mr\u001b[39m\u001b[38;5;124;03m\"\"\"Sends a GET request.\u001b[39;00m\n\u001b[0;32m     64\u001b[0m \n\u001b[0;32m     65\u001b[0m \u001b[38;5;124;03m    :param url: URL for the new :class:`Request` object.\u001b[39;00m\n\u001b[1;32m   (...)\u001b[0m\n\u001b[0;32m     70\u001b[0m \u001b[38;5;124;03m    :rtype: requests.Response\u001b[39;00m\n\u001b[0;32m     71\u001b[0m \u001b[38;5;124;03m    \"\"\"\u001b[39;00m\n\u001b[1;32m---> 73\u001b[0m     \u001b[38;5;28;01mreturn\u001b[39;00m request(\u001b[38;5;124m\"\u001b[39m\u001b[38;5;124mget\u001b[39m\u001b[38;5;124m\"\u001b[39m, url, params\u001b[38;5;241m=\u001b[39mparams, \u001b[38;5;241m*\u001b[39m\u001b[38;5;241m*\u001b[39mkwargs)\n",
      "File \u001b[1;32m~\\miniforge3\\envs\\fintech\\lib\\site-packages\\requests\\api.py:59\u001b[0m, in \u001b[0;36mrequest\u001b[1;34m(method, url, **kwargs)\u001b[0m\n\u001b[0;32m     55\u001b[0m \u001b[38;5;66;03m# By using the 'with' statement we are sure the session is closed, thus we\u001b[39;00m\n\u001b[0;32m     56\u001b[0m \u001b[38;5;66;03m# avoid leaving sockets open which can trigger a ResourceWarning in some\u001b[39;00m\n\u001b[0;32m     57\u001b[0m \u001b[38;5;66;03m# cases, and look like a memory leak in others.\u001b[39;00m\n\u001b[0;32m     58\u001b[0m \u001b[38;5;28;01mwith\u001b[39;00m sessions\u001b[38;5;241m.\u001b[39mSession() \u001b[38;5;28;01mas\u001b[39;00m session:\n\u001b[1;32m---> 59\u001b[0m     \u001b[38;5;28;01mreturn\u001b[39;00m session\u001b[38;5;241m.\u001b[39mrequest(method\u001b[38;5;241m=\u001b[39mmethod, url\u001b[38;5;241m=\u001b[39murl, \u001b[38;5;241m*\u001b[39m\u001b[38;5;241m*\u001b[39mkwargs)\n",
      "File \u001b[1;32m~\\miniforge3\\envs\\fintech\\lib\\site-packages\\requests\\sessions.py:589\u001b[0m, in \u001b[0;36mSession.request\u001b[1;34m(self, method, url, params, data, headers, cookies, files, auth, timeout, allow_redirects, proxies, hooks, stream, verify, cert, json)\u001b[0m\n\u001b[0;32m    584\u001b[0m send_kwargs \u001b[38;5;241m=\u001b[39m {\n\u001b[0;32m    585\u001b[0m     \u001b[38;5;124m\"\u001b[39m\u001b[38;5;124mtimeout\u001b[39m\u001b[38;5;124m\"\u001b[39m: timeout,\n\u001b[0;32m    586\u001b[0m     \u001b[38;5;124m\"\u001b[39m\u001b[38;5;124mallow_redirects\u001b[39m\u001b[38;5;124m\"\u001b[39m: allow_redirects,\n\u001b[0;32m    587\u001b[0m }\n\u001b[0;32m    588\u001b[0m send_kwargs\u001b[38;5;241m.\u001b[39mupdate(settings)\n\u001b[1;32m--> 589\u001b[0m resp \u001b[38;5;241m=\u001b[39m \u001b[38;5;28mself\u001b[39m\u001b[38;5;241m.\u001b[39msend(prep, \u001b[38;5;241m*\u001b[39m\u001b[38;5;241m*\u001b[39msend_kwargs)\n\u001b[0;32m    591\u001b[0m \u001b[38;5;28;01mreturn\u001b[39;00m resp\n",
      "File \u001b[1;32m~\\miniforge3\\envs\\fintech\\lib\\site-packages\\requests\\sessions.py:703\u001b[0m, in \u001b[0;36mSession.send\u001b[1;34m(self, request, **kwargs)\u001b[0m\n\u001b[0;32m    700\u001b[0m start \u001b[38;5;241m=\u001b[39m preferred_clock()\n\u001b[0;32m    702\u001b[0m \u001b[38;5;66;03m# Send the request\u001b[39;00m\n\u001b[1;32m--> 703\u001b[0m r \u001b[38;5;241m=\u001b[39m adapter\u001b[38;5;241m.\u001b[39msend(request, \u001b[38;5;241m*\u001b[39m\u001b[38;5;241m*\u001b[39mkwargs)\n\u001b[0;32m    705\u001b[0m \u001b[38;5;66;03m# Total elapsed time of the request (approximately)\u001b[39;00m\n\u001b[0;32m    706\u001b[0m elapsed \u001b[38;5;241m=\u001b[39m preferred_clock() \u001b[38;5;241m-\u001b[39m start\n",
      "File \u001b[1;32m~\\miniforge3\\envs\\fintech\\lib\\site-packages\\requests\\adapters.py:667\u001b[0m, in \u001b[0;36mHTTPAdapter.send\u001b[1;34m(self, request, stream, timeout, verify, cert, proxies)\u001b[0m\n\u001b[0;32m    664\u001b[0m     timeout \u001b[38;5;241m=\u001b[39m TimeoutSauce(connect\u001b[38;5;241m=\u001b[39mtimeout, read\u001b[38;5;241m=\u001b[39mtimeout)\n\u001b[0;32m    666\u001b[0m \u001b[38;5;28;01mtry\u001b[39;00m:\n\u001b[1;32m--> 667\u001b[0m     resp \u001b[38;5;241m=\u001b[39m \u001b[43mconn\u001b[49m\u001b[38;5;241;43m.\u001b[39;49m\u001b[43murlopen\u001b[49m\u001b[43m(\u001b[49m\n\u001b[0;32m    668\u001b[0m \u001b[43m        \u001b[49m\u001b[43mmethod\u001b[49m\u001b[38;5;241;43m=\u001b[39;49m\u001b[43mrequest\u001b[49m\u001b[38;5;241;43m.\u001b[39;49m\u001b[43mmethod\u001b[49m\u001b[43m,\u001b[49m\n\u001b[0;32m    669\u001b[0m \u001b[43m        \u001b[49m\u001b[43murl\u001b[49m\u001b[38;5;241;43m=\u001b[39;49m\u001b[43murl\u001b[49m\u001b[43m,\u001b[49m\n\u001b[0;32m    670\u001b[0m \u001b[43m        \u001b[49m\u001b[43mbody\u001b[49m\u001b[38;5;241;43m=\u001b[39;49m\u001b[43mrequest\u001b[49m\u001b[38;5;241;43m.\u001b[39;49m\u001b[43mbody\u001b[49m\u001b[43m,\u001b[49m\n\u001b[0;32m    671\u001b[0m \u001b[43m        \u001b[49m\u001b[43mheaders\u001b[49m\u001b[38;5;241;43m=\u001b[39;49m\u001b[43mrequest\u001b[49m\u001b[38;5;241;43m.\u001b[39;49m\u001b[43mheaders\u001b[49m\u001b[43m,\u001b[49m\n\u001b[0;32m    672\u001b[0m \u001b[43m        \u001b[49m\u001b[43mredirect\u001b[49m\u001b[38;5;241;43m=\u001b[39;49m\u001b[38;5;28;43;01mFalse\u001b[39;49;00m\u001b[43m,\u001b[49m\n\u001b[0;32m    673\u001b[0m \u001b[43m        \u001b[49m\u001b[43massert_same_host\u001b[49m\u001b[38;5;241;43m=\u001b[39;49m\u001b[38;5;28;43;01mFalse\u001b[39;49;00m\u001b[43m,\u001b[49m\n\u001b[0;32m    674\u001b[0m \u001b[43m        \u001b[49m\u001b[43mpreload_content\u001b[49m\u001b[38;5;241;43m=\u001b[39;49m\u001b[38;5;28;43;01mFalse\u001b[39;49;00m\u001b[43m,\u001b[49m\n\u001b[0;32m    675\u001b[0m \u001b[43m        \u001b[49m\u001b[43mdecode_content\u001b[49m\u001b[38;5;241;43m=\u001b[39;49m\u001b[38;5;28;43;01mFalse\u001b[39;49;00m\u001b[43m,\u001b[49m\n\u001b[0;32m    676\u001b[0m \u001b[43m        \u001b[49m\u001b[43mretries\u001b[49m\u001b[38;5;241;43m=\u001b[39;49m\u001b[38;5;28;43mself\u001b[39;49m\u001b[38;5;241;43m.\u001b[39;49m\u001b[43mmax_retries\u001b[49m\u001b[43m,\u001b[49m\n\u001b[0;32m    677\u001b[0m \u001b[43m        \u001b[49m\u001b[43mtimeout\u001b[49m\u001b[38;5;241;43m=\u001b[39;49m\u001b[43mtimeout\u001b[49m\u001b[43m,\u001b[49m\n\u001b[0;32m    678\u001b[0m \u001b[43m        \u001b[49m\u001b[43mchunked\u001b[49m\u001b[38;5;241;43m=\u001b[39;49m\u001b[43mchunked\u001b[49m\u001b[43m,\u001b[49m\n\u001b[0;32m    679\u001b[0m \u001b[43m    \u001b[49m\u001b[43m)\u001b[49m\n\u001b[0;32m    681\u001b[0m \u001b[38;5;28;01mexcept\u001b[39;00m (ProtocolError, \u001b[38;5;167;01mOSError\u001b[39;00m) \u001b[38;5;28;01mas\u001b[39;00m err:\n\u001b[0;32m    682\u001b[0m     \u001b[38;5;28;01mraise\u001b[39;00m \u001b[38;5;167;01mConnectionError\u001b[39;00m(err, request\u001b[38;5;241m=\u001b[39mrequest)\n",
      "File \u001b[1;32m~\\miniforge3\\envs\\fintech\\lib\\site-packages\\urllib3\\connectionpool.py:787\u001b[0m, in \u001b[0;36mHTTPConnectionPool.urlopen\u001b[1;34m(self, method, url, body, headers, retries, redirect, assert_same_host, timeout, pool_timeout, release_conn, chunked, body_pos, preload_content, decode_content, **response_kw)\u001b[0m\n\u001b[0;32m    784\u001b[0m response_conn \u001b[38;5;241m=\u001b[39m conn \u001b[38;5;28;01mif\u001b[39;00m \u001b[38;5;129;01mnot\u001b[39;00m release_conn \u001b[38;5;28;01melse\u001b[39;00m \u001b[38;5;28;01mNone\u001b[39;00m\n\u001b[0;32m    786\u001b[0m \u001b[38;5;66;03m# Make the request on the HTTPConnection object\u001b[39;00m\n\u001b[1;32m--> 787\u001b[0m response \u001b[38;5;241m=\u001b[39m \u001b[38;5;28mself\u001b[39m\u001b[38;5;241m.\u001b[39m_make_request(\n\u001b[0;32m    788\u001b[0m     conn,\n\u001b[0;32m    789\u001b[0m     method,\n\u001b[0;32m    790\u001b[0m     url,\n\u001b[0;32m    791\u001b[0m     timeout\u001b[38;5;241m=\u001b[39mtimeout_obj,\n\u001b[0;32m    792\u001b[0m     body\u001b[38;5;241m=\u001b[39mbody,\n\u001b[0;32m    793\u001b[0m     headers\u001b[38;5;241m=\u001b[39mheaders,\n\u001b[0;32m    794\u001b[0m     chunked\u001b[38;5;241m=\u001b[39mchunked,\n\u001b[0;32m    795\u001b[0m     retries\u001b[38;5;241m=\u001b[39mretries,\n\u001b[0;32m    796\u001b[0m     response_conn\u001b[38;5;241m=\u001b[39mresponse_conn,\n\u001b[0;32m    797\u001b[0m     preload_content\u001b[38;5;241m=\u001b[39mpreload_content,\n\u001b[0;32m    798\u001b[0m     decode_content\u001b[38;5;241m=\u001b[39mdecode_content,\n\u001b[0;32m    799\u001b[0m     \u001b[38;5;241m*\u001b[39m\u001b[38;5;241m*\u001b[39mresponse_kw,\n\u001b[0;32m    800\u001b[0m )\n\u001b[0;32m    802\u001b[0m \u001b[38;5;66;03m# Everything went great!\u001b[39;00m\n\u001b[0;32m    803\u001b[0m clean_exit \u001b[38;5;241m=\u001b[39m \u001b[38;5;28;01mTrue\u001b[39;00m\n",
      "File \u001b[1;32m~\\miniforge3\\envs\\fintech\\lib\\site-packages\\urllib3\\connectionpool.py:534\u001b[0m, in \u001b[0;36mHTTPConnectionPool._make_request\u001b[1;34m(self, conn, method, url, body, headers, retries, timeout, chunked, response_conn, preload_content, decode_content, enforce_content_length)\u001b[0m\n\u001b[0;32m    532\u001b[0m \u001b[38;5;66;03m# Receive the response from the server\u001b[39;00m\n\u001b[0;32m    533\u001b[0m \u001b[38;5;28;01mtry\u001b[39;00m:\n\u001b[1;32m--> 534\u001b[0m     response \u001b[38;5;241m=\u001b[39m \u001b[43mconn\u001b[49m\u001b[38;5;241;43m.\u001b[39;49m\u001b[43mgetresponse\u001b[49m\u001b[43m(\u001b[49m\u001b[43m)\u001b[49m\n\u001b[0;32m    535\u001b[0m \u001b[38;5;28;01mexcept\u001b[39;00m (BaseSSLError, \u001b[38;5;167;01mOSError\u001b[39;00m) \u001b[38;5;28;01mas\u001b[39;00m e:\n\u001b[0;32m    536\u001b[0m     \u001b[38;5;28mself\u001b[39m\u001b[38;5;241m.\u001b[39m_raise_timeout(err\u001b[38;5;241m=\u001b[39me, url\u001b[38;5;241m=\u001b[39murl, timeout_value\u001b[38;5;241m=\u001b[39mread_timeout)\n",
      "File \u001b[1;32m~\\miniforge3\\envs\\fintech\\lib\\site-packages\\urllib3\\connection.py:516\u001b[0m, in \u001b[0;36mHTTPConnection.getresponse\u001b[1;34m(self)\u001b[0m\n\u001b[0;32m    513\u001b[0m _shutdown \u001b[38;5;241m=\u001b[39m \u001b[38;5;28mgetattr\u001b[39m(\u001b[38;5;28mself\u001b[39m\u001b[38;5;241m.\u001b[39msock, \u001b[38;5;124m\"\u001b[39m\u001b[38;5;124mshutdown\u001b[39m\u001b[38;5;124m\"\u001b[39m, \u001b[38;5;28;01mNone\u001b[39;00m)\n\u001b[0;32m    515\u001b[0m \u001b[38;5;66;03m# Get the response from http.client.HTTPConnection\u001b[39;00m\n\u001b[1;32m--> 516\u001b[0m httplib_response \u001b[38;5;241m=\u001b[39m \u001b[38;5;28;43msuper\u001b[39;49m\u001b[43m(\u001b[49m\u001b[43m)\u001b[49m\u001b[38;5;241;43m.\u001b[39;49m\u001b[43mgetresponse\u001b[49m\u001b[43m(\u001b[49m\u001b[43m)\u001b[49m\n\u001b[0;32m    518\u001b[0m \u001b[38;5;28;01mtry\u001b[39;00m:\n\u001b[0;32m    519\u001b[0m     assert_header_parsing(httplib_response\u001b[38;5;241m.\u001b[39mmsg)\n",
      "File \u001b[1;32m~\\miniforge3\\envs\\fintech\\lib\\http\\client.py:1377\u001b[0m, in \u001b[0;36mHTTPConnection.getresponse\u001b[1;34m(self)\u001b[0m\n\u001b[0;32m   1375\u001b[0m \u001b[38;5;28;01mtry\u001b[39;00m:\n\u001b[0;32m   1376\u001b[0m     \u001b[38;5;28;01mtry\u001b[39;00m:\n\u001b[1;32m-> 1377\u001b[0m         \u001b[43mresponse\u001b[49m\u001b[38;5;241;43m.\u001b[39;49m\u001b[43mbegin\u001b[49m\u001b[43m(\u001b[49m\u001b[43m)\u001b[49m\n\u001b[0;32m   1378\u001b[0m     \u001b[38;5;28;01mexcept\u001b[39;00m \u001b[38;5;167;01mConnectionError\u001b[39;00m:\n\u001b[0;32m   1379\u001b[0m         \u001b[38;5;28mself\u001b[39m\u001b[38;5;241m.\u001b[39mclose()\n",
      "File \u001b[1;32m~\\miniforge3\\envs\\fintech\\lib\\http\\client.py:320\u001b[0m, in \u001b[0;36mHTTPResponse.begin\u001b[1;34m(self)\u001b[0m\n\u001b[0;32m    318\u001b[0m \u001b[38;5;66;03m# read until we get a non-100 response\u001b[39;00m\n\u001b[0;32m    319\u001b[0m \u001b[38;5;28;01mwhile\u001b[39;00m \u001b[38;5;28;01mTrue\u001b[39;00m:\n\u001b[1;32m--> 320\u001b[0m     version, status, reason \u001b[38;5;241m=\u001b[39m \u001b[38;5;28;43mself\u001b[39;49m\u001b[38;5;241;43m.\u001b[39;49m\u001b[43m_read_status\u001b[49m\u001b[43m(\u001b[49m\u001b[43m)\u001b[49m\n\u001b[0;32m    321\u001b[0m     \u001b[38;5;28;01mif\u001b[39;00m status \u001b[38;5;241m!=\u001b[39m CONTINUE:\n\u001b[0;32m    322\u001b[0m         \u001b[38;5;28;01mbreak\u001b[39;00m\n",
      "File \u001b[1;32m~\\miniforge3\\envs\\fintech\\lib\\http\\client.py:281\u001b[0m, in \u001b[0;36mHTTPResponse._read_status\u001b[1;34m(self)\u001b[0m\n\u001b[0;32m    280\u001b[0m \u001b[38;5;28;01mdef\u001b[39;00m\u001b[38;5;250m \u001b[39m\u001b[38;5;21m_read_status\u001b[39m(\u001b[38;5;28mself\u001b[39m):\n\u001b[1;32m--> 281\u001b[0m     line \u001b[38;5;241m=\u001b[39m \u001b[38;5;28mstr\u001b[39m(\u001b[38;5;28;43mself\u001b[39;49m\u001b[38;5;241;43m.\u001b[39;49m\u001b[43mfp\u001b[49m\u001b[38;5;241;43m.\u001b[39;49m\u001b[43mreadline\u001b[49m\u001b[43m(\u001b[49m\u001b[43m_MAXLINE\u001b[49m\u001b[43m \u001b[49m\u001b[38;5;241;43m+\u001b[39;49m\u001b[43m \u001b[49m\u001b[38;5;241;43m1\u001b[39;49m\u001b[43m)\u001b[49m, \u001b[38;5;124m\"\u001b[39m\u001b[38;5;124miso-8859-1\u001b[39m\u001b[38;5;124m\"\u001b[39m)\n\u001b[0;32m    282\u001b[0m     \u001b[38;5;28;01mif\u001b[39;00m \u001b[38;5;28mlen\u001b[39m(line) \u001b[38;5;241m>\u001b[39m _MAXLINE:\n\u001b[0;32m    283\u001b[0m         \u001b[38;5;28;01mraise\u001b[39;00m LineTooLong(\u001b[38;5;124m\"\u001b[39m\u001b[38;5;124mstatus line\u001b[39m\u001b[38;5;124m\"\u001b[39m)\n",
      "File \u001b[1;32m~\\miniforge3\\envs\\fintech\\lib\\socket.py:716\u001b[0m, in \u001b[0;36mSocketIO.readinto\u001b[1;34m(self, b)\u001b[0m\n\u001b[0;32m    714\u001b[0m \u001b[38;5;28;01mwhile\u001b[39;00m \u001b[38;5;28;01mTrue\u001b[39;00m:\n\u001b[0;32m    715\u001b[0m     \u001b[38;5;28;01mtry\u001b[39;00m:\n\u001b[1;32m--> 716\u001b[0m         \u001b[38;5;28;01mreturn\u001b[39;00m \u001b[38;5;28;43mself\u001b[39;49m\u001b[38;5;241;43m.\u001b[39;49m\u001b[43m_sock\u001b[49m\u001b[38;5;241;43m.\u001b[39;49m\u001b[43mrecv_into\u001b[49m\u001b[43m(\u001b[49m\u001b[43mb\u001b[49m\u001b[43m)\u001b[49m\n\u001b[0;32m    717\u001b[0m     \u001b[38;5;28;01mexcept\u001b[39;00m timeout:\n\u001b[0;32m    718\u001b[0m         \u001b[38;5;28mself\u001b[39m\u001b[38;5;241m.\u001b[39m_timeout_occurred \u001b[38;5;241m=\u001b[39m \u001b[38;5;28;01mTrue\u001b[39;00m\n",
      "\u001b[1;31mKeyboardInterrupt\u001b[0m: "
     ]
    }
   ],
   "source": [
    "result_c_shop = []\n",
    "page = 1\n",
    "while True:\n",
    "    servicekey = 'bmvKYhJ5bZui/zXZQuUKx+C2Ma+hmR/x/pPGfHBoB17yLKB342mU66pZd0WyvB0P28Cxj0jFB/tiXgVZlmZJHg=='\n",
    "    divId = 'indsSclsCd'\n",
    "    key = 'I21006'\n",
    "    payload = {'servicekey': servicekey , 'divId': divId , 'key': key, \"numOfRows\" : 1000, 'pageNo' : page, 'type': 'json'}\n",
    "    r = requests.get('http://apis.data.go.kr/B553077/api/open/sdsc2/storeListInUpjong', params=payload)\n",
    "    data = r.json()\n",
    "    category = data['header']['columns']\n",
    "    shop = data['body']['items']\n",
    "    df = unpaking(data)\n",
    "    result = pd.DataFrame(df)\n",
    "    result_c_shop.append(result)\n",
    "    totalCount = data['body']['totalCount']\n",
    "    print(r.url, end =\"\\r\")\n",
    "    print(r.status_code, end =\"\\r\")\n",
    "    if page*1000 < totalCount:\n",
    "        page += 1\n",
    "    else : \n",
    "        break \n",
    "final_result = pd.concat(result_c_shop)\n",
    "final_result = final_result.reset_index(drop=True)\n",
    "final_result.to_csv(\"공공데이터_상권정보_202504.csv\",encoding=\"utf-8-sig\",index=False)\n",
    "final_result"
   ]
  },
  {
   "cell_type": "code",
   "execution_count": null,
   "id": "27655c55",
   "metadata": {},
   "outputs": [],
   "source": []
  },
  {
   "cell_type": "code",
   "execution_count": 71,
   "id": "0280270b",
   "metadata": {},
   "outputs": [],
   "source": [
    "final_result = pd.concat(result_c_shop)\n",
    "final_result = final_result.reset_index(drop=True)\n",
    "final_result.to_csv(\"공공데이터_상권정보_202504.csv\",encoding=\"utf-8\",index=False)\n",
    "final_result"
   ]
  },
  {
   "cell_type": "code",
   "execution_count": null,
   "id": "d9b2a323",
   "metadata": {},
   "outputs": [],
   "source": [
    "\n",
    "industry_chiken =[]\n",
    "industry_chiken =[]\n",
    "for industry in data :\n",
    "result_c_shop = []\n",
    "page = 1\n",
    "while True:\n",
    "    servicekey = 'bmvKYhJ5bZui/zXZQuUKx+C2Ma+hmR/x/pPGfHBoB17yLKB342mU66pZd0WyvB0P28Cxj0jFB/tiXgVZlmZJHg=='\n",
    "    divId = 'indsSclsCd'\n",
    "    key = 'I21006'\n",
    "    payload = {'servicekey': servicekey , 'divId': divId , 'key': key, \"numOfRows\" : 1000, 'pageNo' : page, 'type': 'json'}\n",
    "    r = requests.get('http://apis.data.go.kr/B553077/api/open/sdsc2/storeListInUpjong', params=payload)\n",
    "    data = r.json()\n",
    "    category = data['header']['columns']\n",
    "    shop = data['body']['items']\n",
    "    result = pd.DataFrame(unpaking(data))\n",
    "    result_c_shop.append(result)\n",
    "    totalCount = data['body']['totalCount']\n",
    "    print(r.url, end =\"\\r\")\n",
    "    print(r.status_code, end =\"\\r\")\n",
    "    if page*1000 < totalCount:\n",
    "        page += 1\n",
    "    else : \n",
    "        break \n",
    "print(len(result_c_shop) )"
   ]
  },
  {
   "cell_type": "code",
   "execution_count": 86,
   "id": "3f8dcf8c",
   "metadata": {
    "scrolled": false
   },
   "outputs": [
    {
     "name": "stdout",
     "output_type": "stream",
     "text": [
      "Requirement already satisfied: openpyxl in c:\\users\\admin\\miniforge3\\envs\\fintech\\lib\\site-packages (3.1.5)\n",
      "Requirement already satisfied: et-xmlfile in c:\\users\\admin\\miniforge3\\envs\\fintech\\lib\\site-packages (from openpyxl) (2.0.0)\n"
     ]
    }
   ],
   "source": [
    "!pip install openpyxl"
   ]
  },
  {
   "cell_type": "code",
   "execution_count": 89,
   "id": "0352ccdb",
   "metadata": {
    "scrolled": true
   },
   "outputs": [
    {
     "data": {
      "text/html": [
       "<div>\n",
       "<style scoped>\n",
       "    .dataframe tbody tr th:only-of-type {\n",
       "        vertical-align: middle;\n",
       "    }\n",
       "\n",
       "    .dataframe tbody tr th {\n",
       "        vertical-align: top;\n",
       "    }\n",
       "\n",
       "    .dataframe thead th {\n",
       "        text-align: right;\n",
       "    }\n",
       "</style>\n",
       "<table border=\"1\" class=\"dataframe\">\n",
       "  <thead>\n",
       "    <tr style=\"text-align: right;\">\n",
       "      <th></th>\n",
       "      <th>대분류코드</th>\n",
       "      <th>대분류명</th>\n",
       "      <th>중분류코드</th>\n",
       "      <th>중분류명</th>\n",
       "      <th>소분류코드</th>\n",
       "      <th>소분류명</th>\n",
       "    </tr>\n",
       "  </thead>\n",
       "  <tbody>\n",
       "    <tr>\n",
       "      <th>0</th>\n",
       "      <td>G2</td>\n",
       "      <td>소매업</td>\n",
       "      <td>G202</td>\n",
       "      <td>자동차 부품 및 내장품 소매업</td>\n",
       "      <td>G20201</td>\n",
       "      <td>타이어 소매업</td>\n",
       "    </tr>\n",
       "    <tr>\n",
       "      <th>1</th>\n",
       "      <td>G2</td>\n",
       "      <td>소매업</td>\n",
       "      <td>G202</td>\n",
       "      <td>자동차 부품 및 내장품 소매업</td>\n",
       "      <td>G20202</td>\n",
       "      <td>자동차 부품 소매업</td>\n",
       "    </tr>\n",
       "    <tr>\n",
       "      <th>2</th>\n",
       "      <td>G2</td>\n",
       "      <td>소매업</td>\n",
       "      <td>G203</td>\n",
       "      <td>모터사이클 및 부품 소매업</td>\n",
       "      <td>G20301</td>\n",
       "      <td>모터사이클 및 부품 소매업</td>\n",
       "    </tr>\n",
       "    <tr>\n",
       "      <th>3</th>\n",
       "      <td>G2</td>\n",
       "      <td>소매업</td>\n",
       "      <td>G204</td>\n",
       "      <td>종합 소매업</td>\n",
       "      <td>G20404</td>\n",
       "      <td>슈퍼마켓</td>\n",
       "    </tr>\n",
       "    <tr>\n",
       "      <th>4</th>\n",
       "      <td>G2</td>\n",
       "      <td>소매업</td>\n",
       "      <td>G204</td>\n",
       "      <td>종합 소매업</td>\n",
       "      <td>G20405</td>\n",
       "      <td>편의점</td>\n",
       "    </tr>\n",
       "    <tr>\n",
       "      <th>...</th>\n",
       "      <td>...</td>\n",
       "      <td>...</td>\n",
       "      <td>...</td>\n",
       "      <td>...</td>\n",
       "      <td>...</td>\n",
       "      <td>...</td>\n",
       "    </tr>\n",
       "    <tr>\n",
       "      <th>242</th>\n",
       "      <td>S2</td>\n",
       "      <td>수리 및 개인 서비스업</td>\n",
       "      <td>S209</td>\n",
       "      <td>세탁업</td>\n",
       "      <td>S20902</td>\n",
       "      <td>셀프 빨래방</td>\n",
       "    </tr>\n",
       "    <tr>\n",
       "      <th>243</th>\n",
       "      <td>S2</td>\n",
       "      <td>수리 및 개인 서비스업</td>\n",
       "      <td>S210</td>\n",
       "      <td>장례식장 및 관련 서비스업</td>\n",
       "      <td>S21001</td>\n",
       "      <td>장례식장</td>\n",
       "    </tr>\n",
       "    <tr>\n",
       "      <th>244</th>\n",
       "      <td>S2</td>\n",
       "      <td>수리 및 개인 서비스업</td>\n",
       "      <td>S210</td>\n",
       "      <td>장례식장 및 관련 서비스업</td>\n",
       "      <td>S21002</td>\n",
       "      <td>화장터/묘지/납골당</td>\n",
       "    </tr>\n",
       "    <tr>\n",
       "      <th>245</th>\n",
       "      <td>S2</td>\n",
       "      <td>수리 및 개인 서비스업</td>\n",
       "      <td>S211</td>\n",
       "      <td>기타 개인서비스</td>\n",
       "      <td>S21101</td>\n",
       "      <td>예식장업</td>\n",
       "    </tr>\n",
       "    <tr>\n",
       "      <th>246</th>\n",
       "      <td>S2</td>\n",
       "      <td>수리 및 개인 서비스업</td>\n",
       "      <td>S211</td>\n",
       "      <td>기타 개인서비스</td>\n",
       "      <td>S21105</td>\n",
       "      <td>결혼 상담 서비스업</td>\n",
       "    </tr>\n",
       "  </tbody>\n",
       "</table>\n",
       "<p>247 rows × 6 columns</p>\n",
       "</div>"
      ],
      "text/plain": [
       "    대분류코드          대분류명 중분류코드              중분류명   소분류코드            소분류명\n",
       "0      G2           소매업  G202  자동차 부품 및 내장품 소매업  G20201         타이어 소매업\n",
       "1      G2           소매업  G202  자동차 부품 및 내장품 소매업  G20202      자동차 부품 소매업\n",
       "2      G2           소매업  G203    모터사이클 및 부품 소매업  G20301  모터사이클 및 부품 소매업\n",
       "3      G2           소매업  G204            종합 소매업  G20404            슈퍼마켓\n",
       "4      G2           소매업  G204            종합 소매업  G20405             편의점\n",
       "..    ...           ...   ...               ...     ...             ...\n",
       "242    S2  수리 및 개인 서비스업  S209               세탁업  S20902          셀프 빨래방\n",
       "243    S2  수리 및 개인 서비스업  S210    장례식장 및 관련 서비스업  S21001            장례식장\n",
       "244    S2  수리 및 개인 서비스업  S210    장례식장 및 관련 서비스업  S21002      화장터/묘지/납골당\n",
       "245    S2  수리 및 개인 서비스업  S211          기타 개인서비스  S21101            예식장업\n",
       "246    S2  수리 및 개인 서비스업  S211          기타 개인서비스  S21105      결혼 상담 서비스업\n",
       "\n",
       "[247 rows x 6 columns]"
      ]
     },
     "execution_count": 89,
     "metadata": {},
     "output_type": "execute_result"
    }
   ],
   "source": [
    "ori_data = pd.read_excel(\"./data/소상공인시장진흥공단_상가(상권)정보_업종분류(2302)_및_연계표_v1.0.xlsx\",engine=\"openpyxl\",header=[1])\n",
    "ori_data"
   ]
  },
  {
   "cell_type": "code",
   "execution_count": 92,
   "id": "45dcd59c",
   "metadata": {
    "scrolled": true
   },
   "outputs": [
    {
     "data": {
      "text/plain": [
       "0      G20201\n",
       "1      G20202\n",
       "2      G20301\n",
       "3      G20404\n",
       "4      G20405\n",
       "        ...  \n",
       "242    S20902\n",
       "243    S21001\n",
       "244    S21002\n",
       "245    S21101\n",
       "246    S21105\n",
       "Name: 소분류코드, Length: 247, dtype: object"
      ]
     },
     "execution_count": 92,
     "metadata": {},
     "output_type": "execute_result"
    }
   ],
   "source": [
    "ori_data['소분류코드']"
   ]
  },
  {
   "cell_type": "code",
   "execution_count": 110,
   "id": "e2e1b7d8",
   "metadata": {},
   "outputs": [
    {
     "ename": "AttributeError",
     "evalue": "'DataFrame' object has no attribute 'iitems'",
     "output_type": "error",
     "traceback": [
      "\u001b[1;31m---------------------------------------------------------------------------\u001b[0m",
      "\u001b[1;31mAttributeError\u001b[0m                            Traceback (most recent call last)",
      "Cell \u001b[1;32mIn[110], line 1\u001b[0m\n\u001b[1;32m----> 1\u001b[0m \u001b[43mori_data\u001b[49m\u001b[38;5;241;43m.\u001b[39;49m\u001b[43miitems\u001b[49m()\n",
      "File \u001b[1;32m~\\miniforge3\\envs\\fintech\\lib\\site-packages\\pandas\\core\\generic.py:6299\u001b[0m, in \u001b[0;36mNDFrame.__getattr__\u001b[1;34m(self, name)\u001b[0m\n\u001b[0;32m   6292\u001b[0m \u001b[38;5;28;01mif\u001b[39;00m (\n\u001b[0;32m   6293\u001b[0m     name \u001b[38;5;129;01mnot\u001b[39;00m \u001b[38;5;129;01min\u001b[39;00m \u001b[38;5;28mself\u001b[39m\u001b[38;5;241m.\u001b[39m_internal_names_set\n\u001b[0;32m   6294\u001b[0m     \u001b[38;5;129;01mand\u001b[39;00m name \u001b[38;5;129;01mnot\u001b[39;00m \u001b[38;5;129;01min\u001b[39;00m \u001b[38;5;28mself\u001b[39m\u001b[38;5;241m.\u001b[39m_metadata\n\u001b[0;32m   6295\u001b[0m     \u001b[38;5;129;01mand\u001b[39;00m name \u001b[38;5;129;01mnot\u001b[39;00m \u001b[38;5;129;01min\u001b[39;00m \u001b[38;5;28mself\u001b[39m\u001b[38;5;241m.\u001b[39m_accessors\n\u001b[0;32m   6296\u001b[0m     \u001b[38;5;129;01mand\u001b[39;00m \u001b[38;5;28mself\u001b[39m\u001b[38;5;241m.\u001b[39m_info_axis\u001b[38;5;241m.\u001b[39m_can_hold_identifiers_and_holds_name(name)\n\u001b[0;32m   6297\u001b[0m ):\n\u001b[0;32m   6298\u001b[0m     \u001b[38;5;28;01mreturn\u001b[39;00m \u001b[38;5;28mself\u001b[39m[name]\n\u001b[1;32m-> 6299\u001b[0m \u001b[38;5;28;01mreturn\u001b[39;00m \u001b[38;5;28;43mobject\u001b[39;49m\u001b[38;5;241;43m.\u001b[39;49m\u001b[38;5;21;43m__getattribute__\u001b[39;49m\u001b[43m(\u001b[49m\u001b[38;5;28;43mself\u001b[39;49m\u001b[43m,\u001b[49m\u001b[43m \u001b[49m\u001b[43mname\u001b[49m\u001b[43m)\u001b[49m\n",
      "\u001b[1;31mAttributeError\u001b[0m: 'DataFrame' object has no attribute 'iitems'"
     ]
    }
   ],
   "source": [
    "ori_data.iitems()"
   ]
  },
  {
   "cell_type": "code",
   "execution_count": 158,
   "id": "1732c04c",
   "metadata": {
    "scrolled": true
   },
   "outputs": [
    {
     "name": "stdout",
     "output_type": "stream",
     "text": [
      "['타이어 소매업', '자동차 부품 소매업', '모터사이클 및 부품 소매업', '슈퍼마켓', '편의점', '그 외 기타 종합 소매업', '곡물곡분 소매업', '가축 사료 소매업', '정육점', '건어물젓갈 소매업', '수산물 소매업', '채소과일 소매업', '아이스크림 할인점', '건강보조식품 소매업', '반찬식료품 소매업', '얼음 소매업', '주류 소매업', '생수음료 소매업', '우유 소매업', '담배전자담배 소매업', '컴퓨터소프트웨어 소매업', '핸드폰 소매업', '가전제품 소매업', '남성 의류 소매업', '여성 의류 소매업', '유아용 의류 소매업', '한복 소매업', '기타 의류 소매업', '침구류커튼 소매업', '액세서리잡화 소매업', '가발 소매업', '실섬유제품 소매업', '신발 소매업', '가방 소매업', '철물공구 소매업', '벽지장판마루 소매업', '건설건축자재 소매업', '기타 건설건축자재 소매업', '가구 소매업', '전기용품조명장치 소매업', '주방가정용품 소매업', '악기 소매업', '서점', '문구회화용품 소매업', '음반비디오물 소매업', '운동용품 소매업', '자전거 소매업', '장난감 소매업', '주유소', '가스 충전소', '가정용 연료 소매업', '약국', '의료기기 소매업', '화장품 소매업', '사무기기 소매업', '안경렌즈 소매업', '사진기기타 광학기기 소매업', '시계귀금속 소매업', '예술품 소매업', '기념품점', '꽃집', '애완동물애완용품 소매업', '그 외 기타 상품 전문 소매업', '중고 상품 소매업', '호텔리조트', '여관모텔', '펜션', '캠핑글램핑', '기숙사고시원', '그 외 기타 숙박업', '백반한정식', '국탕찌개류', '족발보쌈', '전부침개', '국수칼국수', '냉면밀면', '돼지고기 구이찜', '소고기 구이찜', '곱창 전골구이', '닭오리고기 구이찜', '횟집', '해산물 구이찜', '복 요리 전문', '기타 한식 음식점', '중국집', '마라탕훠궈', '일식 회초밥', '일식 카레돈가스덮밥', '일식 면 요리', '기타 일식 음식점', '경양식', '파스타스테이크', '패밀리레스토랑', '기타 서양식 음식점', '베트남식 전문', '기타 동남아식 전문', '분류 안된 외국식 음식점', '구내식당', '뷔페', '빵도넛', '떡한과', '피자', '버거', '토스트샌드위치샐러드', '치킨', '김밥만두분식', '아이스크림빙수', '그 외 기타 간이 음식점', '일반 유흥 주점', '무도 유흥 주점', '생맥주 전문', '요리 주점', '카페', '부동산 중개대리업', '변호사', '변리사', '법무사', '행정사', '공인노무사', '기타 법무관련 서비스업', '공인회계사', '세무사', '기타 회계 관련 서비스업', '광고 대행업', '옥외전시 광고 대행업', '광고 매체 판매업', '광고물 설계제작업', '기타 광고 관련 서비스업', '시장 조사 및 여론 조사업', '경영 컨설팅업', '건축 설계 및 관련 서비스업', '도시 계획 및 조경 설계 서비스업', '건물 및 토목 엔지니어링 서비스업', '환경 관련 엔지니어링 서비스업', '기타 엔지니어링 서비스업', '동물병원', '인테리어 디자인업', '제품 디자인업', '시각 디자인업', '패션섬유기타 전문 디자인업', '사진촬영업', '명함간판광고물 제작', '번역통역 서비스업', '사업무형 재산권 중개업', '사업시설 유지·관리 서비스업', '건축물 일반 청소업', '산업설비, 운송장비 및 공공장소 청소업', '소독, 구충 및 방제 서비스업', '조경 유지·관리 서비스업', '고용 알선업', '임시일용 인력 공급업', '상용 인력 공급 및 인사관리 서비스업', '여행사', '기타 여행 보조예약 서비스업', '복사업', '기타 사무 지원 서비스업', '전시컨벤션행사 대행 서비스업', '포장충전업', '자동차 대여업', '기타 운송장비 대여업', '스포츠레크리에이션 용품 대여업', '음반비디오물 대여업', '만화방', '의류 대여업', '기타 개인가정용품 대여업', '건설기계장비 대여업', '컴퓨터사무기기 대여업', '기타 산업용 기계장비 대여업', '입시·교과학원', '태권도무술학원', '요가필라테스 학원', '레크리에이션 교육기관', '청소년 수련시설', '음악학원', '미술학원', '기타 예술스포츠 교육기관', '외국어학원', '전문자격고시학원', '사회교육시설', '직원 훈련기관', '운전학원', '기타 기술직업 훈련학원', '컴퓨터 학원', '그 외 기타 교육기관', '교육컨설팅업', '기타 교육지원 서비스업', '종합병원', '일반병원', '치과병원', '한방병원', '요양병원', '내과소아과 의원', '외과 의원', '신경정신과 의원', '피부비뇨기과 의원', '안과 의원', '이비인후과 의원', '산부인과 의원', '성형외과 의원', '기타 의원', '치과의원', '한의원', '방사선 진단병리 검사 의원', '유사 의료업', '독서실스터디 카페', '종합 스포츠시설', '헬스장', '수영장', '볼링장', '당구장', '골프 연습장', '테니스장', '탁구장', '기타 스포츠시설 운영업', '스쿼시라켓볼장', '비디오방', '전자 게임장', '기타 오락장', 'PC방', '노래방', '낚시터 운영업', '수상해양 레저업', '복권 발행판매업', '바둑장기체스 경기 운영업', '기타 오락관련 서비스업', '컴퓨터노트북프린터 수리업', '핸드폰통신장비 수리업', '자동차 정비소', '자동차 세차장', '모터사이클 수리업', '가전제품 수리업', '의류이불 수선업', '가죽가방신발 수선업', '시계귀금속악기 수리업', '그 외 기타 개인가정용품 수리업', '미용실', '피부 관리실', '네일숍', '목욕탕사우나', '마사지안마', '체형비만 관리', '세탁소', '셀프 빨래방', '장례식장', '화장터묘지납골당', '예식장업', '결혼 상담 서비스업']\n"
     ]
    }
   ],
   "source": [
    "name = []\n",
    "for a_name in ori_data['소분류명'].values :\n",
    "    a_name = a_name.replace('/','')\n",
    "    name.append(a_name)\n",
    "\n",
    "print(name)"
   ]
  },
  {
   "cell_type": "code",
   "execution_count": 159,
   "id": "5fea8a17",
   "metadata": {
    "scrolled": true
   },
   "outputs": [
    {
     "name": "stdout",
     "output_type": "stream",
     "text": [
      "http://apis.data.go.kr/B553077/api/open/sdsc2/storeListInUpjong?servicekey=bmvKYhJ5bZui%2FzXZQuUKx%2BC2Ma%2BhmR%2Fx%2FpPGfHBoB17yLKB342mU66pZd0WyvB0P28Cxj0jFB%2FtiXgVZlmZJHg%3D%3D&divId=indsSclsCd&key=S21105&numOfRows=1000&pageNo=2&type=json 20000\r"
     ]
    }
   ],
   "source": [
    "\n",
    "for name, code in zip(name, ori_data['소분류코드']):\n",
    "    result_c_shop = []\n",
    "    page = 1\n",
    "    while True:\n",
    "        url = 'http://apis.data.go.kr/B553077/api/open/sdsc2/storeListInUpjong'\n",
    "        servicekey = 'bmvKYhJ5bZui/zXZQuUKx+C2Ma+hmR/x/pPGfHBoB17yLKB342mU66pZd0WyvB0P28Cxj0jFB/tiXgVZlmZJHg=='\n",
    "        divId = 'indsSclsCd'\n",
    "        key = 'I21006'\n",
    "        payload = {'servicekey': servicekey , 'divId': divId , 'key': code , \"numOfRows\" : 1000, 'pageNo' : page, 'type': 'json'}\n",
    "        r = requests.get(url, params=payload )\n",
    "        data = r.json()\n",
    "        category = data['header']['columns']\n",
    "        if 'error' in data:\n",
    "            print(\"API 오류:\", data['error'])\n",
    "        shop = data['body']['items']\n",
    "        df = unpaking(data)\n",
    "        result = pd.DataFrame(df)\n",
    "        result_c_shop.append(result)\n",
    "        totalCount = data['body']['totalCount']\n",
    "        print(r.url, r.status_code, end =\"\\r\")\n",
    "        if page*1000 < totalCount:\n",
    "            page += 1\n",
    "        else : \n",
    "            break \n",
    "    final_result = pd.concat(result_c_shop)\n",
    "    final_result = final_result.reset_index(drop=True)\n",
    "    final_result.to_csv(f\"공공데이터_{name}_상권정보_202504.csv\",encoding=\"utf-8-sig\",index=False)"
   ]
  },
  {
   "cell_type": "code",
   "execution_count": 156,
   "id": "20621673",
   "metadata": {
    "scrolled": true
   },
   "outputs": [
    {
     "name": "stdout",
     "output_type": "stream",
     "text": [
      "http://apis.data.go.kr/B553077/api/open/sdsc2/storeListInUpjong?servicekey=bmvKYhJ5bZui%2FzXZQuUKx%2BC2Ma%2BhmR%2Fx%2FpPGfHBoB17yLKB342mU66pZd0WyvB0P28Cxj0jFB%2FtiXgVZlmZJHg%3D%3D&divId=indsSclsCd&key=%EC%97%85&numOfRows=10&pageNo=1&type=json 200\r"
     ]
    },
    {
     "data": {
      "text/plain": [
       "{'header': {'resultCode': '10',\n",
       "  'resultMsg': 'INVALID_REQUEST_PARAMETER_ERROR'},\n",
       " 'body': {}}"
      ]
     },
     "execution_count": 156,
     "metadata": {},
     "output_type": "execute_result"
    }
   ],
   "source": [
    "\n",
    "\n",
    "result_c_shop = []\n",
    "page = 1\n",
    "url = 'http://apis.data.go.kr/B553077/api/open/sdsc2/storeListInUpjong'\n",
    "servicekey = 'bmvKYhJ5bZui/zXZQuUKx+C2Ma+hmR/x/pPGfHBoB17yLKB342mU66pZd0WyvB0P28Cxj0jFB/tiXgVZlmZJHg=='\n",
    "divId = 'indsSclsCd'\n",
    "key = 'I21006'\n",
    "payload = {'servicekey': servicekey , 'divId': divId , 'key': code , \"numOfRows\" : 10, 'pageNo' : page, 'type': 'json'}\n",
    "r = requests.get(url, params=payload )\n",
    "data = r.json()\n",
    "print(r.url, r.status_code, end =\"\\r\")\n",
    "data"
   ]
  },
  {
   "cell_type": "code",
   "execution_count": null,
   "id": "f6673043",
   "metadata": {},
   "outputs": [],
   "source": []
  },
  {
   "cell_type": "code",
   "execution_count": null,
   "id": "6b5a89f7",
   "metadata": {},
   "outputs": [],
   "source": []
  },
  {
   "cell_type": "code",
   "execution_count": null,
   "id": "8bae2be1",
   "metadata": {},
   "outputs": [],
   "source": []
  },
  {
   "cell_type": "code",
   "execution_count": null,
   "id": "c177041a",
   "metadata": {},
   "outputs": [],
   "source": []
  },
  {
   "cell_type": "code",
   "execution_count": null,
   "id": "a498f5c0",
   "metadata": {},
   "outputs": [],
   "source": []
  }
 ],
 "metadata": {
  "kernelspec": {
   "display_name": "Python 3 (ipykernel)",
   "language": "python",
   "name": "python3"
  },
  "language_info": {
   "codemirror_mode": {
    "name": "ipython",
    "version": 3
   },
   "file_extension": ".py",
   "mimetype": "text/x-python",
   "name": "python",
   "nbconvert_exporter": "python",
   "pygments_lexer": "ipython3",
   "version": "3.9.21"
  }
 },
 "nbformat": 4,
 "nbformat_minor": 5
}
