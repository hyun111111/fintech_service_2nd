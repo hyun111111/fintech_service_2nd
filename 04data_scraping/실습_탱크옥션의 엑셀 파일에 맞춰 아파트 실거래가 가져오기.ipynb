{
 "cells": [
  {
   "cell_type": "code",
   "execution_count": 3,
   "id": "da42645f",
   "metadata": {},
   "outputs": [],
   "source": [
    "import os\n",
    "import time\n",
    "import requests\n",
    "import pandas as pd\n",
    "from sqlalchemy import create_engine, text\n",
    "import pymysql\n",
    "from bs4 import BeautifulSoup as bs\n",
    "pymysql.install_as_MySQLdb()"
   ]
  },
  {
   "cell_type": "code",
   "execution_count": 34,
   "id": "540e9d3e",
   "metadata": {},
   "outputs": [
    {
     "name": "stdout",
     "output_type": "stream",
     "text": [
      "https://apis.data.go.kr/1613000/RTMSDataSvcAptTrade/getRTMSDataSvcAptTrade?LAWD_CD=11110&DEAL_YMD=202503&serviceKey=bmvKYhJ5bZui%2FzXZQuUKx%2BC2Ma%2BhmR%2Fx%2FpPGfHBoB17yLKB342mU66pZd0WyvB0P28Cxj0jFB%2FtiXgVZlmZJHg%3D%3D&pageNo=1&numOfRows=10 200\n"
     ]
    },
    {
     "data": {
      "text/plain": [
       "<?xml version=\"1.0\" encoding=\"utf-8\"?>\n",
       "<response><header><resultCode>000</resultCode><resultMsg>OK</resultMsg></header><body><items><item><aptDong> </aptDong><aptNm>경희궁의아침4단지</aptNm><buildYear>2004</buildYear><buyerGbn>개인</buyerGbn><cdealDay> </cdealDay><cdealType> </cdealType><dealAmount>230,000</dealAmount><dealDay>25</dealDay><dealMonth>3</dealMonth><dealYear>2025</dealYear><dealingGbn>중개거래</dealingGbn><estateAgentSggNm>서울 종로구</estateAgentSggNm><excluUseAr>124.17</excluUseAr><floor>12</floor><jibun>73</jibun><landLeaseholdGbn>N</landLeaseholdGbn><rgstDate> </rgstDate><sggCd>11110</sggCd><slerGbn>개인</slerGbn><umdNm>내수동</umdNm></item><item><aptDong> </aptDong><aptNm>경희궁자이(3단지)</aptNm><buildYear>2017</buildYear><buyerGbn>개인</buyerGbn><cdealDay> </cdealDay><cdealType> </cdealType><dealAmount>220,000</dealAmount><dealDay>21</dealDay><dealMonth>3</dealMonth><dealYear>2025</dealYear><dealingGbn>중개거래</dealingGbn><estateAgentSggNm>서울 종로구</estateAgentSggNm><excluUseAr>84.614</excluUseAr><floor>9</floor><jibun>233</jibun><landLeaseholdGbn>N</landLeaseholdGbn><rgstDate> </rgstDate><sggCd>11110</sggCd><slerGbn>개인</slerGbn><umdNm>평동</umdNm></item><item><aptDong> </aptDong><aptNm>경희궁자이(3단지)</aptNm><buildYear>2017</buildYear><buyerGbn>개인</buyerGbn><cdealDay> </cdealDay><cdealType> </cdealType><dealAmount>220,000</dealAmount><dealDay>22</dealDay><dealMonth>3</dealMonth><dealYear>2025</dealYear><dealingGbn>중개거래</dealingGbn><estateAgentSggNm>서울 종로구</estateAgentSggNm><excluUseAr>84.8359</excluUseAr><floor>10</floor><jibun>233</jibun><landLeaseholdGbn>N</landLeaseholdGbn><rgstDate> </rgstDate><sggCd>11110</sggCd><slerGbn>개인</slerGbn><umdNm>평동</umdNm></item><item><aptDong> </aptDong><aptNm>인왕산아이파크</aptNm><buildYear>2008</buildYear><buyerGbn>개인</buyerGbn><cdealDay> </cdealDay><cdealType> </cdealType><dealAmount>135,000</dealAmount><dealDay>7</dealDay><dealMonth>3</dealMonth><dealYear>2025</dealYear><dealingGbn>중개거래</dealingGbn><estateAgentSggNm>서울 종로구</estateAgentSggNm><excluUseAr>84.858</excluUseAr><floor>6</floor><jibun>60</jibun><landLeaseholdGbn>N</landLeaseholdGbn><rgstDate> </rgstDate><sggCd>11110</sggCd><slerGbn>개인</slerGbn><umdNm>무악동</umdNm></item><item><aptDong> </aptDong><aptNm>현대</aptNm><buildYear>2000</buildYear><buyerGbn>개인</buyerGbn><cdealDay> </cdealDay><cdealType> </cdealType><dealAmount>144,000</dealAmount><dealDay>8</dealDay><dealMonth>3</dealMonth><dealYear>2025</dealYear><dealingGbn>중개거래</dealingGbn><estateAgentSggNm>서울 종로구</estateAgentSggNm><excluUseAr>114.9</excluUseAr><floor>15</floor><jibun>82</jibun><landLeaseholdGbn>N</landLeaseholdGbn><rgstDate> </rgstDate><sggCd>11110</sggCd><slerGbn>개인</slerGbn><umdNm>무악동</umdNm></item><item><aptDong> </aptDong><aptNm>현대</aptNm><buildYear>2000</buildYear><buyerGbn>개인</buyerGbn><cdealDay> </cdealDay><cdealType> </cdealType><dealAmount>97,100</dealAmount><dealDay>22</dealDay><dealMonth>3</dealMonth><dealYear>2025</dealYear><dealingGbn>중개거래</dealingGbn><estateAgentSggNm>서울 종로구</estateAgentSggNm><excluUseAr>60</excluUseAr><floor>11</floor><jibun>82</jibun><landLeaseholdGbn>N</landLeaseholdGbn><rgstDate> </rgstDate><sggCd>11110</sggCd><slerGbn>개인</slerGbn><umdNm>무악동</umdNm></item><item><aptDong> </aptDong><aptNm>경희궁자이(2단지)</aptNm><buildYear>2017</buildYear><buyerGbn>개인</buyerGbn><cdealDay> </cdealDay><cdealType> </cdealType><dealAmount>254,000</dealAmount><dealDay>21</dealDay><dealMonth>3</dealMonth><dealYear>2025</dealYear><dealingGbn>중개거래</dealingGbn><estateAgentSggNm>서울 서초구, 서울 종로구</estateAgentSggNm><excluUseAr>84.8359</excluUseAr><floor>11</floor><jibun>199</jibun><landLeaseholdGbn>N</landLeaseholdGbn><rgstDate> </rgstDate><sggCd>11110</sggCd><slerGbn>개인</slerGbn><umdNm>홍파동</umdNm></item><item><aptDong> </aptDong><aptNm>경희궁자이(3단지)</aptNm><buildYear>2017</buildYear><buyerGbn>개인</buyerGbn><cdealDay>25.04.02</cdealDay><cdealType>O</cdealType><dealAmount>220,000</dealAmount><dealDay>22</dealDay><dealMonth>3</dealMonth><dealYear>2025</dealYear><dealingGbn>중개거래</dealingGbn><estateAgentSggNm>서울 종로구</estateAgentSggNm><excluUseAr>84.8359</excluUseAr><floor>10</floor><jibun>233</jibun><landLeaseholdGbn>N</landLeaseholdGbn><rgstDate> </rgstDate><sggCd>11110</sggCd><slerGbn>개인</slerGbn><umdNm>평동</umdNm></item><item><aptDong> </aptDong><aptNm>창신쌍용2</aptNm><buildYear>1993</buildYear><buyerGbn>개인</buyerGbn><cdealDay> </cdealDay><cdealType> </cdealType><dealAmount>83,000</dealAmount><dealDay>30</dealDay><dealMonth>3</dealMonth><dealYear>2025</dealYear><dealingGbn>중개거래</dealingGbn><estateAgentSggNm>서울 종로구</estateAgentSggNm><excluUseAr>106.62</excluUseAr><floor>9</floor><jibun>703</jibun><landLeaseholdGbn>N</landLeaseholdGbn><rgstDate> </rgstDate><sggCd>11110</sggCd><slerGbn>개인</slerGbn><umdNm>창신동</umdNm></item><item><aptDong> </aptDong><aptNm>롯데낙천대</aptNm><buildYear>2001</buildYear><buyerGbn>개인</buyerGbn><cdealDay> </cdealDay><cdealType> </cdealType><dealAmount>87,000</dealAmount><dealDay>29</dealDay><dealMonth>3</dealMonth><dealYear>2025</dealYear><dealingGbn>중개거래</dealingGbn><estateAgentSggNm>서울 종로구</estateAgentSggNm><excluUseAr>84.21</excluUseAr><floor>5</floor><jibun>72</jibun><landLeaseholdGbn>N</landLeaseholdGbn><rgstDate> </rgstDate><sggCd>11110</sggCd><slerGbn>개인</slerGbn><umdNm>평창동</umdNm></item></items><numOfRows>10</numOfRows><pageNo>1</pageNo><totalCount>53</totalCount></body></response>"
      ]
     },
     "execution_count": 34,
     "metadata": {},
     "output_type": "execute_result"
    }
   ],
   "source": [
    "url = \"https://apis.data.go.kr/1613000/RTMSDataSvcAptTrade/getRTMSDataSvcAptTrade\"\n",
    "key = \"bmvKYhJ5bZui/zXZQuUKx+C2Ma+hmR/x/pPGfHBoB17yLKB342mU66pZd0WyvB0P28Cxj0jFB/tiXgVZlmZJHg==\"\n",
    "payload = dict(LAWD_CD=\"11110\", DEAL_YMD=\"202503\", serviceKey=key, pageNo=1,numOfRows=10 )\n",
    "r = requests.get(url,payload)\n",
    "print(r.url, r.status_code)\n",
    "soup = bs(r.content, \"xml\")\n",
    "soup"
   ]
  },
  {
   "cell_type": "code",
   "execution_count": 42,
   "id": "cd6a23be",
   "metadata": {},
   "outputs": [
    {
     "data": {
      "text/plain": [
       "'경희궁의아침4단지'"
      ]
     },
     "execution_count": 42,
     "metadata": {},
     "output_type": "execute_result"
    }
   ],
   "source": [
    "# 아파트 이름\n",
    "soup.select('item')[0].select('aptNm')[0].text"
   ]
  },
  {
   "cell_type": "code",
   "execution_count": 43,
   "id": "b38b6588",
   "metadata": {},
   "outputs": [
    {
     "data": {
      "text/plain": [
       "'서울 종로구'"
      ]
     },
     "execution_count": 43,
     "metadata": {},
     "output_type": "execute_result"
    }
   ],
   "source": [
    "# 행정동\n",
    "soup.select('item')[0].select('estateAgentSggNm')[0].text"
   ]
  },
  {
   "cell_type": "code",
   "execution_count": 44,
   "id": "aac782ef",
   "metadata": {},
   "outputs": [
    {
     "data": {
      "text/plain": [
       "'230,000'"
      ]
     },
     "execution_count": 44,
     "metadata": {},
     "output_type": "execute_result"
    }
   ],
   "source": [
    "# 실거래가\n",
    "soup.select('item')[0].select('dealAmount')[0].text"
   ]
  },
  {
   "cell_type": "code",
   "execution_count": 45,
   "id": "f6994239",
   "metadata": {},
   "outputs": [
    {
     "data": {
      "text/plain": [
       "'12'"
      ]
     },
     "execution_count": 45,
     "metadata": {},
     "output_type": "execute_result"
    }
   ],
   "source": [
    "# 층수\n",
    "soup.select('item')[0].select('floor')[0].text"
   ]
  },
  {
   "cell_type": "code",
   "execution_count": 46,
   "id": "56210fdc",
   "metadata": {},
   "outputs": [
    {
     "data": {
      "text/plain": [
       "'124.17'"
      ]
     },
     "execution_count": 46,
     "metadata": {},
     "output_type": "execute_result"
    }
   ],
   "source": [
    "# 넓이\n",
    "soup.select('item')[0].select('excluUseAr')[0].text"
   ]
  },
  {
   "cell_type": "code",
   "execution_count": null,
   "id": "50f00a19",
   "metadata": {},
   "outputs": [],
   "source": []
  },
  {
   "cell_type": "code",
   "execution_count": null,
   "id": "bcdd3b23",
   "metadata": {},
   "outputs": [],
   "source": []
  },
  {
   "cell_type": "code",
   "execution_count": 35,
   "id": "c890346a",
   "metadata": {},
   "outputs": [
    {
     "data": {
      "text/plain": [
       "<item><aptDong> </aptDong><aptNm>경희궁의아침4단지</aptNm><buildYear>2004</buildYear><buyerGbn>개인</buyerGbn><cdealDay> </cdealDay><cdealType> </cdealType><dealAmount>230,000</dealAmount><dealDay>25</dealDay><dealMonth>3</dealMonth><dealYear>2025</dealYear><dealingGbn>중개거래</dealingGbn><estateAgentSggNm>서울 종로구</estateAgentSggNm><excluUseAr>124.17</excluUseAr><floor>12</floor><jibun>73</jibun><landLeaseholdGbn>N</landLeaseholdGbn><rgstDate> </rgstDate><sggCd>11110</sggCd><slerGbn>개인</slerGbn><umdNm>내수동</umdNm></item>"
      ]
     },
     "execution_count": 35,
     "metadata": {},
     "output_type": "execute_result"
    }
   ],
   "source": [
    "soup.select('item')[0]"
   ]
  },
  {
   "cell_type": "code",
   "execution_count": 47,
   "id": "7b94af77",
   "metadata": {},
   "outputs": [],
   "source": [
    "apt_info = []\n",
    "\n",
    "for info in soup.select('item'):\n",
    "    # 아파트 이름\n",
    "    name = info.select_one('aptNm')\n",
    "    # 행정동\n",
    "    don = info.select_one('estateAgentSggNm')\n",
    "    # 실거래가\n",
    "    price = info.select_one('dealAmount')\n",
    "    # 층수\n",
    "    floor = info.select_one('floor')\n",
    "    # 넓이\n",
    "    p = info.select_one('excluUseAr')\n",
    "    \n",
    "    apt_info.setdefault()\n",
    "    df = pd.DataFrame(apt_info)\n",
    "print ()"
   ]
  },
  {
   "cell_type": "code",
   "execution_count": null,
   "id": "1475f108",
   "metadata": {},
   "outputs": [],
   "source": []
  },
  {
   "cell_type": "code",
   "execution_count": null,
   "id": "f06b4140",
   "metadata": {},
   "outputs": [],
   "source": []
  },
  {
   "cell_type": "code",
   "execution_count": null,
   "id": "aa59047d",
   "metadata": {},
   "outputs": [],
   "source": []
  },
  {
   "cell_type": "code",
   "execution_count": null,
   "id": "57fd0840",
   "metadata": {},
   "outputs": [],
   "source": []
  }
 ],
 "metadata": {
  "kernelspec": {
   "display_name": "Python 3 (ipykernel)",
   "language": "python",
   "name": "python3"
  },
  "language_info": {
   "codemirror_mode": {
    "name": "ipython",
    "version": 3
   },
   "file_extension": ".py",
   "mimetype": "text/x-python",
   "name": "python",
   "nbconvert_exporter": "python",
   "pygments_lexer": "ipython3",
   "version": "3.9.21"
  }
 },
 "nbformat": 4,
 "nbformat_minor": 5
}
