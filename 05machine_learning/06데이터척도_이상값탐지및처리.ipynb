{
 "cells": [
  {
   "cell_type": "code",
   "execution_count": 55,
   "id": "b187bfc3-6813-4cbd-8b6d-cbb610d98b7b",
   "metadata": {},
   "outputs": [],
   "source": [
    "import pandas as pd\n",
    "import numpy as np\n",
    "import matplotlib.pyplot as plt\n",
    "import koreanize_matplotlib"
   ]
  },
  {
   "cell_type": "code",
   "execution_count": 56,
   "id": "3e41a055-b755-45fd-b908-cac2ba63e0b3",
   "metadata": {},
   "outputs": [
    {
     "data": {
      "text/html": [
       "<div>\n",
       "<style scoped>\n",
       "    .dataframe tbody tr th:only-of-type {\n",
       "        vertical-align: middle;\n",
       "    }\n",
       "\n",
       "    .dataframe tbody tr th {\n",
       "        vertical-align: top;\n",
       "    }\n",
       "\n",
       "    .dataframe thead th {\n",
       "        text-align: right;\n",
       "    }\n",
       "</style>\n",
       "<table border=\"1\" class=\"dataframe\">\n",
       "  <thead>\n",
       "    <tr style=\"text-align: right;\">\n",
       "      <th></th>\n",
       "      <th>PassengerId</th>\n",
       "      <th>Survived</th>\n",
       "      <th>Pclass</th>\n",
       "      <th>Name</th>\n",
       "      <th>Sex</th>\n",
       "      <th>Age</th>\n",
       "      <th>SibSp</th>\n",
       "      <th>Parch</th>\n",
       "      <th>Ticket</th>\n",
       "      <th>Fare</th>\n",
       "      <th>Cabin</th>\n",
       "      <th>Embarked</th>\n",
       "    </tr>\n",
       "  </thead>\n",
       "  <tbody>\n",
       "    <tr>\n",
       "      <th>0</th>\n",
       "      <td>1</td>\n",
       "      <td>0</td>\n",
       "      <td>3</td>\n",
       "      <td>Braund, Mr. Owen Harris</td>\n",
       "      <td>male</td>\n",
       "      <td>22.0</td>\n",
       "      <td>1</td>\n",
       "      <td>0</td>\n",
       "      <td>A/5 21171</td>\n",
       "      <td>7.2500</td>\n",
       "      <td>NaN</td>\n",
       "      <td>S</td>\n",
       "    </tr>\n",
       "    <tr>\n",
       "      <th>1</th>\n",
       "      <td>2</td>\n",
       "      <td>1</td>\n",
       "      <td>1</td>\n",
       "      <td>Cumings, Mrs. John Bradley (Florence Briggs Th...</td>\n",
       "      <td>female</td>\n",
       "      <td>38.0</td>\n",
       "      <td>1</td>\n",
       "      <td>0</td>\n",
       "      <td>PC 17599</td>\n",
       "      <td>71.2833</td>\n",
       "      <td>C85</td>\n",
       "      <td>C</td>\n",
       "    </tr>\n",
       "    <tr>\n",
       "      <th>2</th>\n",
       "      <td>3</td>\n",
       "      <td>1</td>\n",
       "      <td>3</td>\n",
       "      <td>Heikkinen, Miss. Laina</td>\n",
       "      <td>female</td>\n",
       "      <td>26.0</td>\n",
       "      <td>0</td>\n",
       "      <td>0</td>\n",
       "      <td>STON/O2. 3101282</td>\n",
       "      <td>7.9250</td>\n",
       "      <td>NaN</td>\n",
       "      <td>S</td>\n",
       "    </tr>\n",
       "  </tbody>\n",
       "</table>\n",
       "</div>"
      ],
      "text/plain": [
       "   PassengerId  Survived  Pclass  \\\n",
       "0            1         0       3   \n",
       "1            2         1       1   \n",
       "2            3         1       3   \n",
       "\n",
       "                                                Name     Sex   Age  SibSp  \\\n",
       "0                            Braund, Mr. Owen Harris    male  22.0      1   \n",
       "1  Cumings, Mrs. John Bradley (Florence Briggs Th...  female  38.0      1   \n",
       "2                             Heikkinen, Miss. Laina  female  26.0      0   \n",
       "\n",
       "   Parch            Ticket     Fare Cabin Embarked  \n",
       "0      0         A/5 21171   7.2500   NaN        S  \n",
       "1      0          PC 17599  71.2833   C85        C  \n",
       "2      0  STON/O2. 3101282   7.9250   NaN        S  "
      ]
     },
     "execution_count": 56,
     "metadata": {},
     "output_type": "execute_result"
    }
   ],
   "source": [
    "data = pd.read_csv(\"./data/Titanic_train.csv\")\n",
    "data.head(3)"
   ]
  },
  {
   "cell_type": "markdown",
   "id": "9a9f1ee2-3150-4a59-bdb2-6979a8ba61e4",
   "metadata": {},
   "source": [
    "# 척도의 종류(자료의 종류)\n",
    "| 척도 구분    | 특징 | 예시 | 타이타닉 데이터 예시 |\n",
    "|:------------|:----|:----|:----------------|\n",
    "| **명목척도 (Nominal Scale)** | - 분류만 가능<br>- 서열 없음<br>- 수학적 연산 불가 | 성별, 지역, 혈액형, 선호도 등 | - 성별 (male, female)<br>- 승선 항구 (C, Q, S) |\n",
    "| **순서척도 (Ordinal Scale)** | - 분류 가능 + 서열 있음<br>- 크기 차이는 불명확<br>- 덧셈, 뺄셈 불가 | 선호도(1순위, 2순위...), 학년, 고객 만족도 등 | - 선실 등급 (1st, 2nd, 3rd) |\n",
    "| **구간척도 (Interval Scale)** | - 분류 가능 + 서열 있음 + 간격 의미 있음<br>- 하지만 절대 0이 없음<br>- 비율 계산 불가 | 온도(섭씨), 지수(지능지수 IQ 등) | (타이타닉에는 구간척도 예시는 특별히 없음)<br>- 가상의 예로 \"탑승객 만족 점수 (0~100 점)\" |\n",
    "| **비율척도 (Ratio Scale)** | - 분류 가능 + 서열 있음 + 간격 의미 + 절대 0 존재<br>- 사칙연산 모두 가능 (비율 연산 가능) | 키, 몸무게, 나이, 수입, 점수 | - 나이 (Age)<br>- 운임 요금 (Fare)<br>- 형제/배우자 수 (SibSp), 부모/자식 수 (Parch) |\n",
    "\n",
    "---\n",
    "| 변수명  | 척도 종류 | 이유 |\n",
    "|:-------|:---------|:-----|\n",
    "| `Sex` (성별) | 명목척도 | 남자, 여자 구분만 가능. 남자가 여자보다 크다거나 작다는 개념 없음. |\n",
    "| `Embarked` (승선항구) | 명목척도 | 탑승한 항구(C=쉘버그, Q=퀸스타운, S=사우샘프턴)는 단순 구분일 뿐, 크고 작음이 없음. |\n",
    "| `Pclass` (선실 등급) | 순서척도 | 1등실 > 2등실 > 3등실 로 서열은 존재하지만, 1등실과 2등실 간 '차이'가 2등실과 3등실 간 '차이'와 같은지는 알 수 없음. |\n",
    "| `Age` (나이) | 비율척도 | 0세가 절대적 기준, 나이의 비율 계산 가능 (20살은 10살의 2배). |\n",
    "| `Fare` (운임) | 비율척도 | 0원이 절대적 기준, 100파운드는 50파운드의 2배. |\n",
    "| `SibSp`, `Parch` (형제/배우자, 부모/자식 수) | 비율척도 | 0이 기준이고, 숫자 간 비율 의미 있음. |"
   ]
  },
  {
   "cell_type": "markdown",
   "id": "0e214505-1c9a-4a09-8945-6144f6e74bf2",
   "metadata": {},
   "source": [
    "명확하게 알고리즘을 짜기위해 문자를 숫자를 보내줘야하고 등급의 경우 숫자가 낮을수록 좋은데 이런 개념을 컴퓨터는 이해하지 못한다. 그래서 컴퓨터가 이해하게끔 처리를 한다."
   ]
  },
  {
   "cell_type": "markdown",
   "id": "d7573345-1c44-4449-9734-ad1a69319577",
   "metadata": {},
   "source": [
    "# 이상값 탐지\n",
    "* 이상값: 데이터 집합에서 다른값들과 뚜렷하게 다른 값\n",
    "* 통계적으로 평균을 왜곡시킴. 모델의 결과를 왜곡시킬 수 있음\n",
    "* 전체 데이터 분포에서 **정상범위**에 속하지 않는 데이터\n",
    "## 이상값 탐지 방법 3가지 \n",
    "* Z-score가 -3 ~ 3 범위를 넘어가는 경우\n",
    "* 평균을 기준으로 평균에서 +-(3*표준편차)를 넘는경우 : 표준편차가 큰 경우에는 잘 못잡음\n",
    "* IQR(사분위수)기준으로 계산한 상위 하위 이상값을 넘는 경우 : 정규 , 비정규분포에서 모두 강함"
   ]
  },
  {
   "cell_type": "markdown",
   "id": "380e310a-047d-4cc8-98dd-78caddf0581b",
   "metadata": {},
   "source": [
    "## 1)Z-score로 이상값 탐지하기\n",
    "* z-score: (값 - 평균) /표준편차\n",
    "* 평균: .mean()\n",
    "* 표준편차: .std()"
   ]
  },
  {
   "cell_type": "markdown",
   "id": "f80a9865-dda3-45e1-9fc5-f22bb07c6d67",
   "metadata": {},
   "source": [
    "* Fare 컬럼의 z-score 구하기"
   ]
  },
  {
   "cell_type": "code",
   "execution_count": 57,
   "id": "921ca682-d6bf-4c48-9716-49eabddf4d8b",
   "metadata": {},
   "outputs": [
    {
     "data": {
      "text/plain": [
       "np.float64(32.204207968574636)"
      ]
     },
     "execution_count": 57,
     "metadata": {},
     "output_type": "execute_result"
    }
   ],
   "source": [
    "# 평균과 표준편차를 구해서 z-score 계산하기\n",
    "mean = data['Fare'].mean()\n",
    "mean"
   ]
  },
  {
   "cell_type": "code",
   "execution_count": 58,
   "id": "3cb906d8-4aa4-4ac5-aa9d-c5a0f4878db0",
   "metadata": {},
   "outputs": [
    {
     "data": {
      "text/plain": [
       "np.float64(49.6934285971809)"
      ]
     },
     "execution_count": 58,
     "metadata": {},
     "output_type": "execute_result"
    }
   ],
   "source": [
    "# 표준편차\n",
    "std = data['Fare'].std()\n",
    "std"
   ]
  },
  {
   "cell_type": "code",
   "execution_count": 59,
   "id": "33e30ddc-a09e-4f65-9ae9-1b9387cc5be4",
   "metadata": {},
   "outputs": [],
   "source": [
    "data['z_score']= (data['Fare']-mean)/std"
   ]
  },
  {
   "cell_type": "markdown",
   "id": "58cdd5fb-80a9-43cb-bcef-f56f0feacdb4",
   "metadata": {},
   "source": [
    "Z-score를 이용한 Fare칼럼의 이상값 찾기"
   ]
  },
  {
   "cell_type": "code",
   "execution_count": 60,
   "id": "c3dcd70f-ac7d-4be6-bddf-23fac141e0c9",
   "metadata": {},
   "outputs": [
    {
     "name": "stdout",
     "output_type": "stream",
     "text": [
      "20\n",
      "27     263.0000\n",
      "88     263.0000\n",
      "118    247.5208\n",
      "258    512.3292\n",
      "299    247.5208\n",
      "311    262.3750\n",
      "341    263.0000\n",
      "377    211.5000\n",
      "380    227.5250\n",
      "438    263.0000\n",
      "527    221.7792\n",
      "557    227.5250\n",
      "679    512.3292\n",
      "689    211.3375\n",
      "700    227.5250\n",
      "716    227.5250\n",
      "730    211.3375\n",
      "737    512.3292\n",
      "742    262.3750\n",
      "779    211.3375\n",
      "Name: Fare, dtype: float64\n"
     ]
    }
   ],
   "source": [
    "outlirer_zscore = data[(data['z_score'] <-3)|(data['z_score']>3)]\n",
    "print(len(outlirer_zscore))\n",
    "print(outlirer_zscore['Fare'])"
   ]
  },
  {
   "cell_type": "markdown",
   "id": "3da776f0-2b6c-4f30-beee-7ee3e4546b6e",
   "metadata": {},
   "source": [
    "scipy.stats.zscore를 이용해 zscore 계산하기"
   ]
  },
  {
   "cell_type": "code",
   "execution_count": 61,
   "id": "ae6c2b35-99c7-4649-8680-1e9ae99de8d5",
   "metadata": {},
   "outputs": [],
   "source": [
    "from scipy.stats import zscore"
   ]
  },
  {
   "cell_type": "code",
   "execution_count": 62,
   "id": "a262cb9a-09a5-4a8f-a5ec-b81455033001",
   "metadata": {},
   "outputs": [
    {
     "data": {
      "text/html": [
       "<div>\n",
       "<style scoped>\n",
       "    .dataframe tbody tr th:only-of-type {\n",
       "        vertical-align: middle;\n",
       "    }\n",
       "\n",
       "    .dataframe tbody tr th {\n",
       "        vertical-align: top;\n",
       "    }\n",
       "\n",
       "    .dataframe thead th {\n",
       "        text-align: right;\n",
       "    }\n",
       "</style>\n",
       "<table border=\"1\" class=\"dataframe\">\n",
       "  <thead>\n",
       "    <tr style=\"text-align: right;\">\n",
       "      <th></th>\n",
       "      <th>z_score</th>\n",
       "      <th>z_score2</th>\n",
       "    </tr>\n",
       "  </thead>\n",
       "  <tbody>\n",
       "    <tr>\n",
       "      <th>0</th>\n",
       "      <td>-0.502163</td>\n",
       "      <td>-0.502445</td>\n",
       "    </tr>\n",
       "    <tr>\n",
       "      <th>1</th>\n",
       "      <td>0.786404</td>\n",
       "      <td>0.786845</td>\n",
       "    </tr>\n",
       "    <tr>\n",
       "      <th>2</th>\n",
       "      <td>-0.488580</td>\n",
       "      <td>-0.488854</td>\n",
       "    </tr>\n",
       "    <tr>\n",
       "      <th>3</th>\n",
       "      <td>0.420494</td>\n",
       "      <td>0.420730</td>\n",
       "    </tr>\n",
       "    <tr>\n",
       "      <th>4</th>\n",
       "      <td>-0.486064</td>\n",
       "      <td>-0.486337</td>\n",
       "    </tr>\n",
       "    <tr>\n",
       "      <th>...</th>\n",
       "      <td>...</td>\n",
       "      <td>...</td>\n",
       "    </tr>\n",
       "    <tr>\n",
       "      <th>886</th>\n",
       "      <td>-0.386454</td>\n",
       "      <td>-0.386671</td>\n",
       "    </tr>\n",
       "    <tr>\n",
       "      <th>887</th>\n",
       "      <td>-0.044356</td>\n",
       "      <td>-0.044381</td>\n",
       "    </tr>\n",
       "    <tr>\n",
       "      <th>888</th>\n",
       "      <td>-0.176164</td>\n",
       "      <td>-0.176263</td>\n",
       "    </tr>\n",
       "    <tr>\n",
       "      <th>889</th>\n",
       "      <td>-0.044356</td>\n",
       "      <td>-0.044381</td>\n",
       "    </tr>\n",
       "    <tr>\n",
       "      <th>890</th>\n",
       "      <td>-0.492101</td>\n",
       "      <td>-0.492378</td>\n",
       "    </tr>\n",
       "  </tbody>\n",
       "</table>\n",
       "<p>891 rows × 2 columns</p>\n",
       "</div>"
      ],
      "text/plain": [
       "      z_score  z_score2\n",
       "0   -0.502163 -0.502445\n",
       "1    0.786404  0.786845\n",
       "2   -0.488580 -0.488854\n",
       "3    0.420494  0.420730\n",
       "4   -0.486064 -0.486337\n",
       "..        ...       ...\n",
       "886 -0.386454 -0.386671\n",
       "887 -0.044356 -0.044381\n",
       "888 -0.176164 -0.176263\n",
       "889 -0.044356 -0.044381\n",
       "890 -0.492101 -0.492378\n",
       "\n",
       "[891 rows x 2 columns]"
      ]
     },
     "execution_count": 62,
     "metadata": {},
     "output_type": "execute_result"
    }
   ],
   "source": [
    "data['z_score2'] = zscore(data['Fare'])\n",
    "data[['z_score', 'z_score2']] "
   ]
  },
  {
   "cell_type": "code",
   "execution_count": 63,
   "id": "86c49d3b-89cc-442d-9948-fda40b00649a",
   "metadata": {},
   "outputs": [
    {
     "name": "stdout",
     "output_type": "stream",
     "text": [
      "20\n",
      "211.3375\n"
     ]
    }
   ],
   "source": [
    "outlier_zscore = data[(data['z_score2'] < -3) | (data['z_score2'] > 3)]\n",
    "print(len(outlier_zscore))\n",
    "print(outlier_zscore['Fare'].min())"
   ]
  },
  {
   "attachments": {
    "6bff9782-5e1c-4cba-bb20-50e2f512a1ff.png": {
     "image/png": "[encoded data removed]"
    }
   },
   "cell_type": "markdown",
   "id": "255c1b4e-da56-4a1f-9184-d0bc27ff3c9a",
   "metadata": {},
   "source": [
    "## 2) 평균과 표준편차를 이용해 이상값 찾기 ESD(Extreme Studenized Deiation)\n",
    "* 평균+-(3표준편차) $(\\mu\\pm3 \\sigma})$\n",
    "  ![image.png](attachment:6bff9782-5e1c-4cba-bb20-50e2f512a1ff.png)"
   ]
  },
  {
   "cell_type": "code",
   "execution_count": 64,
   "id": "809e0ac3-bbef-41d2-ab29-e8a468455583",
   "metadata": {},
   "outputs": [
    {
     "name": "stdout",
     "output_type": "stream",
     "text": [
      "lower_bound -116.87607782296804 upper_bound 181.2844937601173\n"
     ]
    }
   ],
   "source": [
    "mean_fare = data['Fare'].mean()\n",
    "std_fare = data['Fare'].std()\n",
    "lower_bound = mean_fare - (3*std_fare)\n",
    "upper_bound = mean_fare + (3*std_fare)\n",
    "print(\"lower_bound\", lower_bound, \"upper_bound\", upper_bound)"
   ]
  },
  {
   "cell_type": "code",
   "execution_count": 65,
   "id": "44e41e8e-8488-4124-b403-a7f1e40d438e",
   "metadata": {},
   "outputs": [
    {
     "name": "stdout",
     "output_type": "stream",
     "text": [
      "outlire_esd:  20\n",
      "outlire_esd:  211.3375\n"
     ]
    }
   ],
   "source": [
    "outlire_esd = data[data['Fare'] > upper_bound]\n",
    "print(\"outlire_esd: \", len(outlire_esd))\n",
    "print(\"outlire_esd: \", outlire_esd['Fare'].min())"
   ]
  },
  {
   "cell_type": "markdown",
   "id": "e56eb2b0-9a99-4215-835a-2d97427ace76",
   "metadata": {},
   "source": [
    "## 3) IQR(사분위수)를 이용한 이상값 탐지\n",
    "### (1) IQR 이란?\n",
    "* IQR은 데이터의 중간 50% 구간의 길이를 의미\n",
    "* IQR은 0, 25, 50, 75, 100 \n",
    "* IQR공식 : Q3(75%) - Q1(25%)\n",
    "\n",
    "### (2)IQR로 이상값을 찾는 이유?\n",
    "* 평균과 표준편차는 극단적인 값에 민감\n",
    "* IQR은 중간값 기반이라 극단값(outlire)에 영향을 덜 받음\n",
    "* 정규분포가 아닌 데이터에서도 이상치를 잘 찾을 수 있음\n",
    "\n",
    "### (3)IQR기반 이상값 판정 기준\n",
    "* 하한값: Q1(25%) - (1.5*(Q3(75%)-Q1(25%))\n",
    "* 상한값: Q3(75%) + (1.5 *(Q3(75%)-Q1(25%))"
   ]
  },
  {
   "cell_type": "code",
   "execution_count": 19,
   "id": "63908dc1-d7d9-45d0-8c8d-ee0a4d9ae02e",
   "metadata": {},
   "outputs": [
    {
     "data": {
      "text/html": [
       "<div>\n",
       "<style scoped>\n",
       "    .dataframe tbody tr th:only-of-type {\n",
       "        vertical-align: middle;\n",
       "    }\n",
       "\n",
       "    .dataframe tbody tr th {\n",
       "        vertical-align: top;\n",
       "    }\n",
       "\n",
       "    .dataframe thead th {\n",
       "        text-align: right;\n",
       "    }\n",
       "</style>\n",
       "<table border=\"1\" class=\"dataframe\">\n",
       "  <thead>\n",
       "    <tr style=\"text-align: right;\">\n",
       "      <th></th>\n",
       "      <th>Age</th>\n",
       "      <th>Fare</th>\n",
       "    </tr>\n",
       "  </thead>\n",
       "  <tbody>\n",
       "    <tr>\n",
       "      <th>count</th>\n",
       "      <td>714.000000</td>\n",
       "      <td>891.000000</td>\n",
       "    </tr>\n",
       "    <tr>\n",
       "      <th>mean</th>\n",
       "      <td>29.699118</td>\n",
       "      <td>32.204208</td>\n",
       "    </tr>\n",
       "    <tr>\n",
       "      <th>std</th>\n",
       "      <td>14.526497</td>\n",
       "      <td>49.693429</td>\n",
       "    </tr>\n",
       "    <tr>\n",
       "      <th>min</th>\n",
       "      <td>0.420000</td>\n",
       "      <td>0.000000</td>\n",
       "    </tr>\n",
       "    <tr>\n",
       "      <th>25%</th>\n",
       "      <td>20.125000</td>\n",
       "      <td>7.910400</td>\n",
       "    </tr>\n",
       "    <tr>\n",
       "      <th>50%</th>\n",
       "      <td>28.000000</td>\n",
       "      <td>14.454200</td>\n",
       "    </tr>\n",
       "    <tr>\n",
       "      <th>75%</th>\n",
       "      <td>38.000000</td>\n",
       "      <td>31.000000</td>\n",
       "    </tr>\n",
       "    <tr>\n",
       "      <th>max</th>\n",
       "      <td>80.000000</td>\n",
       "      <td>512.329200</td>\n",
       "    </tr>\n",
       "  </tbody>\n",
       "</table>\n",
       "</div>"
      ],
      "text/plain": [
       "              Age        Fare\n",
       "count  714.000000  891.000000\n",
       "mean    29.699118   32.204208\n",
       "std     14.526497   49.693429\n",
       "min      0.420000    0.000000\n",
       "25%     20.125000    7.910400\n",
       "50%     28.000000   14.454200\n",
       "75%     38.000000   31.000000\n",
       "max     80.000000  512.329200"
      ]
     },
     "execution_count": 19,
     "metadata": {},
     "output_type": "execute_result"
    }
   ],
   "source": [
    "data[['Age','Fare']].describe()"
   ]
  },
  {
   "cell_type": "code",
   "execution_count": 21,
   "id": "91872c01-582c-4899-aefb-c002bbbf2b2d",
   "metadata": {},
   "outputs": [
    {
     "name": "stdout",
     "output_type": "stream",
     "text": [
      "minimun : -26.724 maximun: 65.6344\n"
     ]
    }
   ],
   "source": [
    "minimun = 7.910400-(1.5*(31.000000-7.910400))\n",
    "maximun = 31.000000+(1.5*(31.000000-7.910400))\n",
    "print(\"minimun :\", minimun , \"maximun:\", maximun)"
   ]
  },
  {
   "cell_type": "code",
   "execution_count": 23,
   "id": "071fb1df-afbb-4ef4-9315-33d0d6341b3f",
   "metadata": {},
   "outputs": [
    {
     "data": {
      "text/plain": [
       "<Axes: ylabel='Frequency'>"
      ]
     },
     "execution_count": 23,
     "metadata": {},
     "output_type": "execute_result"
    },
    {
     "data": {
      "image/png": "[encoded data removed]",
      "text/plain": [
       "<Figure size 640x480 with 1 Axes>"
      ]
     },
     "metadata": {},
     "output_type": "display_data"
    }
   ],
   "source": [
    "data['Fare'].plot(kind=\"hist\")"
   ]
  },
  {
   "cell_type": "markdown",
   "id": "b98ac3fe-17d0-496f-b028-c50a742c7a8e",
   "metadata": {},
   "source": [
    "* describe 값을 이용해 계산"
   ]
  },
  {
   "cell_type": "code",
   "execution_count": 24,
   "id": "bb67badc-c129-455c-bba4-cc44b699fdef",
   "metadata": {},
   "outputs": [
    {
     "data": {
      "text/html": [
       "<div>\n",
       "<style scoped>\n",
       "    .dataframe tbody tr th:only-of-type {\n",
       "        vertical-align: middle;\n",
       "    }\n",
       "\n",
       "    .dataframe tbody tr th {\n",
       "        vertical-align: top;\n",
       "    }\n",
       "\n",
       "    .dataframe thead th {\n",
       "        text-align: right;\n",
       "    }\n",
       "</style>\n",
       "<table border=\"1\" class=\"dataframe\">\n",
       "  <thead>\n",
       "    <tr style=\"text-align: right;\">\n",
       "      <th></th>\n",
       "      <th>Age</th>\n",
       "      <th>Fare</th>\n",
       "    </tr>\n",
       "  </thead>\n",
       "  <tbody>\n",
       "    <tr>\n",
       "      <th>count</th>\n",
       "      <td>714.000000</td>\n",
       "      <td>891.000000</td>\n",
       "    </tr>\n",
       "    <tr>\n",
       "      <th>mean</th>\n",
       "      <td>29.699118</td>\n",
       "      <td>32.204208</td>\n",
       "    </tr>\n",
       "    <tr>\n",
       "      <th>std</th>\n",
       "      <td>14.526497</td>\n",
       "      <td>49.693429</td>\n",
       "    </tr>\n",
       "    <tr>\n",
       "      <th>min</th>\n",
       "      <td>0.420000</td>\n",
       "      <td>0.000000</td>\n",
       "    </tr>\n",
       "    <tr>\n",
       "      <th>25%</th>\n",
       "      <td>20.125000</td>\n",
       "      <td>7.910400</td>\n",
       "    </tr>\n",
       "    <tr>\n",
       "      <th>50%</th>\n",
       "      <td>28.000000</td>\n",
       "      <td>14.454200</td>\n",
       "    </tr>\n",
       "    <tr>\n",
       "      <th>75%</th>\n",
       "      <td>38.000000</td>\n",
       "      <td>31.000000</td>\n",
       "    </tr>\n",
       "    <tr>\n",
       "      <th>max</th>\n",
       "      <td>80.000000</td>\n",
       "      <td>512.329200</td>\n",
       "    </tr>\n",
       "  </tbody>\n",
       "</table>\n",
       "</div>"
      ],
      "text/plain": [
       "              Age        Fare\n",
       "count  714.000000  891.000000\n",
       "mean    29.699118   32.204208\n",
       "std     14.526497   49.693429\n",
       "min      0.420000    0.000000\n",
       "25%     20.125000    7.910400\n",
       "50%     28.000000   14.454200\n",
       "75%     38.000000   31.000000\n",
       "max     80.000000  512.329200"
      ]
     },
     "execution_count": 24,
     "metadata": {},
     "output_type": "execute_result"
    }
   ],
   "source": [
    "titanic_desc = data[['Age','Fare']].describe()\n",
    "titanic_desc"
   ]
  },
  {
   "cell_type": "code",
   "execution_count": 31,
   "id": "5b7640b1-9554-4eda-86e6-cf976689cd26",
   "metadata": {},
   "outputs": [
    {
     "data": {
      "text/plain": [
       "np.float64(65.6344)"
      ]
     },
     "execution_count": 31,
     "metadata": {},
     "output_type": "execute_result"
    }
   ],
   "source": [
    "maximun2 = titanic_desc.loc['75%','Fare'] + (1.5*(titanic_desc.loc['75%','Fare']-titanic_desc.loc['25%','Fare']))\n",
    "maximun2"
   ]
  },
  {
   "cell_type": "code",
   "execution_count": 32,
   "id": "c2caf009-a185-48a7-9215-2eddf4b0f1ae",
   "metadata": {},
   "outputs": [
    {
     "name": "stdout",
     "output_type": "stream",
     "text": [
      "116\n",
      "66.6\n"
     ]
    }
   ],
   "source": [
    "outlire_iqr = data[data['Fare']> maximun2]\n",
    "print(len(outlire_iqr))\n",
    "print(outlire_iqr['Fare'].min())"
   ]
  },
  {
   "cell_type": "markdown",
   "id": "aeafb4d5-d023-46a9-8605-d7c8ac35bedb",
   "metadata": {},
   "source": [
    "## 상자수염그림(boxplot)을 이용해서 컬럼의 이상치 여부 판단하기"
   ]
  },
  {
   "cell_type": "code",
   "execution_count": 36,
   "id": "ee3791b6-2c95-4d27-98d5-3dbfd7586a5d",
   "metadata": {},
   "outputs": [
    {
     "data": {
      "text/plain": [
       "<Axes: >"
      ]
     },
     "execution_count": 36,
     "metadata": {},
     "output_type": "execute_result"
    },
    {
     "data": {
      "image/png": "[encoded data removed]",
      "text/plain": [
       "<Figure size 640x480 with 1 Axes>"
      ]
     },
     "metadata": {},
     "output_type": "display_data"
    }
   ],
   "source": [
    "data['Age'].plot(kind=\"box\")\n",
    "# 녹색선 중앙값\n",
    "# 박스 전 : 25%\n",
    "# 박스 후 75%\n",
    "# 그리고 선 외에는 아웃라이어"
   ]
  },
  {
   "cell_type": "code",
   "execution_count": 34,
   "id": "a0f67f0d-1bc7-4c87-8f0d-793b907e6426",
   "metadata": {},
   "outputs": [
    {
     "data": {
      "text/plain": [
       "<Axes: >"
      ]
     },
     "execution_count": 34,
     "metadata": {},
     "output_type": "execute_result"
    },
    {
     "data": {
      "image/png": "[encoded data removed]",
      "text/plain": [
       "<Figure size 640x480 with 1 Axes>"
      ]
     },
     "metadata": {},
     "output_type": "display_data"
    }
   ],
   "source": [
    "data['Fare'].plot(kind=\"box\")"
   ]
  },
  {
   "cell_type": "code",
   "execution_count": 37,
   "id": "f30f42fc-16b1-467d-b85e-20f2449caec0",
   "metadata": {},
   "outputs": [
    {
     "data": {
      "text/plain": [
       "<Axes: >"
      ]
     },
     "execution_count": 37,
     "metadata": {},
     "output_type": "execute_result"
    },
    {
     "data": {
      "image/png": "[encoded data removed]",
      "text/plain": [
       "<Figure size 640x480 with 1 Axes>"
      ]
     },
     "metadata": {},
     "output_type": "display_data"
    }
   ],
   "source": [
    "data.plot(kind=\"box\")"
   ]
  },
  {
   "cell_type": "code",
   "execution_count": 40,
   "id": "03f401d1-15b9-490b-a5bf-0795c92fe593",
   "metadata": {},
   "outputs": [
    {
     "data": {
      "text/plain": [
       "Index(['PassengerId', 'Survived', 'Pclass', 'Name', 'Sex', 'Age', 'SibSp',\n",
       "       'Parch', 'Ticket', 'Fare', 'Cabin', 'Embarked', 'z_score', 'z_score2'],\n",
       "      dtype='object')"
      ]
     },
     "execution_count": 40,
     "metadata": {},
     "output_type": "execute_result"
    }
   ],
   "source": [
    "data.columns"
   ]
  },
  {
   "cell_type": "code",
   "execution_count": 41,
   "id": "84db5c74-e141-4ce1-acc5-3d46a7030354",
   "metadata": {},
   "outputs": [
    {
     "data": {
      "text/plain": [
       "<Axes: >"
      ]
     },
     "execution_count": 41,
     "metadata": {},
     "output_type": "execute_result"
    },
    {
     "data": {
      "image/png": "[encoded data removed]",
      "text/plain": [
       "<Figure size 640x480 with 1 Axes>"
      ]
     },
     "metadata": {},
     "output_type": "display_data"
    }
   ],
   "source": [
    "data[['SibSp','Fare']].plot(kind=\"box\")"
   ]
  },
  {
   "cell_type": "markdown",
   "id": "c5a94585-8604-4933-ba31-bfc7c6f33d0b",
   "metadata": {},
   "source": [
    "# 이상치 처리 방법 6가지\n",
    "| 방법 | 설명 | 주의사항 |\n",
    "|:----|:----|:----|\n",
    "| 1. 삭제 (제거) | 이상치인 행(row) 삭제 | 데이터 수가 많을 때만 추천 |\n",
    "| 2. 대체 (수정) | 평균, 중앙값 등으로 이상치 값을 대체 | 대체 값이 데이터의 특성을 망가뜨릴 수 있음 |\n",
    "| 3. 변환 | 로그(log), 루트(sqrt) 변환해서 이상치 영향을 줄이기 | 주로 오른쪽으로 긴 분포(Skewed Data) |\n",
    "| 4. 구간 압축 (Winsorization) | 상/하위 극단값을 일정 값으로 '컷' | 통계 왜곡 최소화할 때 사용 |\n",
    "| 5. 모델링 시 Robust 방법 사용 | 이상치에 강한 모델 사용 (예: RobustScaler, RANSAC) | 이상치를 제거하지 않고 대응 |\n",
    "| 6. 별도 분석 | 이상치만 따로 분석해서 인사이트 얻기 | 이상치가 중요한 의미를 가질 때 |"
   ]
  },
  {
   "cell_type": "markdown",
   "id": "b1d0626c-8279-4c20-ba40-253fce9feda2",
   "metadata": {},
   "source": [
    "* winsorization으로 이상값 컷하기"
   ]
  },
  {
   "cell_type": "code",
   "execution_count": 42,
   "id": "8fbd1664-f3b9-4736-ac68-a788e72024e5",
   "metadata": {},
   "outputs": [
    {
     "data": {
      "text/plain": [
       "np.float64(65.6344)"
      ]
     },
     "execution_count": 42,
     "metadata": {},
     "output_type": "execute_result"
    }
   ],
   "source": [
    "maximun2"
   ]
  },
  {
   "cell_type": "code",
   "execution_count": 49,
   "id": "499643f1-4e66-41ee-b962-bb8596eb92d1",
   "metadata": {},
   "outputs": [
    {
     "data": {
      "text/html": [
       "<div>\n",
       "<style scoped>\n",
       "    .dataframe tbody tr th:only-of-type {\n",
       "        vertical-align: middle;\n",
       "    }\n",
       "\n",
       "    .dataframe tbody tr th {\n",
       "        vertical-align: top;\n",
       "    }\n",
       "\n",
       "    .dataframe thead th {\n",
       "        text-align: right;\n",
       "    }\n",
       "</style>\n",
       "<table border=\"1\" class=\"dataframe\">\n",
       "  <thead>\n",
       "    <tr style=\"text-align: right;\">\n",
       "      <th></th>\n",
       "      <th>PassengerId</th>\n",
       "      <th>Survived</th>\n",
       "      <th>Pclass</th>\n",
       "      <th>Name</th>\n",
       "      <th>Sex</th>\n",
       "      <th>Age</th>\n",
       "      <th>SibSp</th>\n",
       "      <th>Parch</th>\n",
       "      <th>Ticket</th>\n",
       "      <th>Fare</th>\n",
       "      <th>Cabin</th>\n",
       "      <th>Embarked</th>\n",
       "      <th>z_score</th>\n",
       "      <th>z_score2</th>\n",
       "    </tr>\n",
       "  </thead>\n",
       "  <tbody>\n",
       "    <tr>\n",
       "      <th>1</th>\n",
       "      <td>2</td>\n",
       "      <td>1</td>\n",
       "      <td>1</td>\n",
       "      <td>Cumings, Mrs. John Bradley (Florence Briggs Th...</td>\n",
       "      <td>female</td>\n",
       "      <td>38.0</td>\n",
       "      <td>1</td>\n",
       "      <td>0</td>\n",
       "      <td>PC 17599</td>\n",
       "      <td>65.6344</td>\n",
       "      <td>C85</td>\n",
       "      <td>C</td>\n",
       "      <td>0.786404</td>\n",
       "      <td>0.786845</td>\n",
       "    </tr>\n",
       "    <tr>\n",
       "      <th>27</th>\n",
       "      <td>28</td>\n",
       "      <td>0</td>\n",
       "      <td>1</td>\n",
       "      <td>Fortune, Mr. Charles Alexander</td>\n",
       "      <td>male</td>\n",
       "      <td>19.0</td>\n",
       "      <td>3</td>\n",
       "      <td>2</td>\n",
       "      <td>19950</td>\n",
       "      <td>65.6344</td>\n",
       "      <td>C23 C25 C27</td>\n",
       "      <td>S</td>\n",
       "      <td>4.644393</td>\n",
       "      <td>4.647001</td>\n",
       "    </tr>\n",
       "    <tr>\n",
       "      <th>31</th>\n",
       "      <td>32</td>\n",
       "      <td>1</td>\n",
       "      <td>1</td>\n",
       "      <td>Spencer, Mrs. William Augustus (Marie Eugenie)</td>\n",
       "      <td>female</td>\n",
       "      <td>NaN</td>\n",
       "      <td>1</td>\n",
       "      <td>0</td>\n",
       "      <td>PC 17569</td>\n",
       "      <td>65.6344</td>\n",
       "      <td>B78</td>\n",
       "      <td>C</td>\n",
       "      <td>2.300437</td>\n",
       "      <td>2.301729</td>\n",
       "    </tr>\n",
       "    <tr>\n",
       "      <th>34</th>\n",
       "      <td>35</td>\n",
       "      <td>0</td>\n",
       "      <td>1</td>\n",
       "      <td>Meyer, Mr. Edgar Joseph</td>\n",
       "      <td>male</td>\n",
       "      <td>28.0</td>\n",
       "      <td>1</td>\n",
       "      <td>0</td>\n",
       "      <td>PC 17604</td>\n",
       "      <td>65.6344</td>\n",
       "      <td>NaN</td>\n",
       "      <td>C</td>\n",
       "      <td>1.005497</td>\n",
       "      <td>1.006062</td>\n",
       "    </tr>\n",
       "    <tr>\n",
       "      <th>52</th>\n",
       "      <td>53</td>\n",
       "      <td>1</td>\n",
       "      <td>1</td>\n",
       "      <td>Harper, Mrs. Henry Sleeper (Myna Haxtun)</td>\n",
       "      <td>female</td>\n",
       "      <td>49.0</td>\n",
       "      <td>1</td>\n",
       "      <td>0</td>\n",
       "      <td>PC 17572</td>\n",
       "      <td>65.6344</td>\n",
       "      <td>D33</td>\n",
       "      <td>C</td>\n",
       "      <td>0.895994</td>\n",
       "      <td>0.896497</td>\n",
       "    </tr>\n",
       "    <tr>\n",
       "      <th>...</th>\n",
       "      <td>...</td>\n",
       "      <td>...</td>\n",
       "      <td>...</td>\n",
       "      <td>...</td>\n",
       "      <td>...</td>\n",
       "      <td>...</td>\n",
       "      <td>...</td>\n",
       "      <td>...</td>\n",
       "      <td>...</td>\n",
       "      <td>...</td>\n",
       "      <td>...</td>\n",
       "      <td>...</td>\n",
       "      <td>...</td>\n",
       "      <td>...</td>\n",
       "    </tr>\n",
       "    <tr>\n",
       "      <th>846</th>\n",
       "      <td>847</td>\n",
       "      <td>0</td>\n",
       "      <td>3</td>\n",
       "      <td>Sage, Mr. Douglas Bullen</td>\n",
       "      <td>male</td>\n",
       "      <td>NaN</td>\n",
       "      <td>8</td>\n",
       "      <td>2</td>\n",
       "      <td>CA. 2343</td>\n",
       "      <td>65.6344</td>\n",
       "      <td>NaN</td>\n",
       "      <td>S</td>\n",
       "      <td>0.751524</td>\n",
       "      <td>0.751946</td>\n",
       "    </tr>\n",
       "    <tr>\n",
       "      <th>849</th>\n",
       "      <td>850</td>\n",
       "      <td>1</td>\n",
       "      <td>1</td>\n",
       "      <td>Goldenberg, Mrs. Samuel L (Edwiga Grabowska)</td>\n",
       "      <td>female</td>\n",
       "      <td>NaN</td>\n",
       "      <td>1</td>\n",
       "      <td>0</td>\n",
       "      <td>17453</td>\n",
       "      <td>65.6344</td>\n",
       "      <td>C92</td>\n",
       "      <td>C</td>\n",
       "      <td>1.145020</td>\n",
       "      <td>1.145664</td>\n",
       "    </tr>\n",
       "    <tr>\n",
       "      <th>856</th>\n",
       "      <td>857</td>\n",
       "      <td>1</td>\n",
       "      <td>1</td>\n",
       "      <td>Wick, Mrs. George Dennick (Mary Hitchcock)</td>\n",
       "      <td>female</td>\n",
       "      <td>45.0</td>\n",
       "      <td>1</td>\n",
       "      <td>1</td>\n",
       "      <td>36928</td>\n",
       "      <td>65.6344</td>\n",
       "      <td>NaN</td>\n",
       "      <td>S</td>\n",
       "      <td>2.669618</td>\n",
       "      <td>2.671118</td>\n",
       "    </tr>\n",
       "    <tr>\n",
       "      <th>863</th>\n",
       "      <td>864</td>\n",
       "      <td>0</td>\n",
       "      <td>3</td>\n",
       "      <td>Sage, Miss. Dorothy Edith \"Dolly\"</td>\n",
       "      <td>female</td>\n",
       "      <td>NaN</td>\n",
       "      <td>8</td>\n",
       "      <td>2</td>\n",
       "      <td>CA. 2343</td>\n",
       "      <td>65.6344</td>\n",
       "      <td>NaN</td>\n",
       "      <td>S</td>\n",
       "      <td>0.751524</td>\n",
       "      <td>0.751946</td>\n",
       "    </tr>\n",
       "    <tr>\n",
       "      <th>879</th>\n",
       "      <td>880</td>\n",
       "      <td>1</td>\n",
       "      <td>1</td>\n",
       "      <td>Potter, Mrs. Thomas Jr (Lily Alexenia Wilson)</td>\n",
       "      <td>female</td>\n",
       "      <td>56.0</td>\n",
       "      <td>0</td>\n",
       "      <td>1</td>\n",
       "      <td>11767</td>\n",
       "      <td>65.6344</td>\n",
       "      <td>C50</td>\n",
       "      <td>C</td>\n",
       "      <td>1.025369</td>\n",
       "      <td>1.025945</td>\n",
       "    </tr>\n",
       "  </tbody>\n",
       "</table>\n",
       "<p>116 rows × 14 columns</p>\n",
       "</div>"
      ],
      "text/plain": [
       "     PassengerId  Survived  Pclass  \\\n",
       "1              2         1       1   \n",
       "27            28         0       1   \n",
       "31            32         1       1   \n",
       "34            35         0       1   \n",
       "52            53         1       1   \n",
       "..           ...       ...     ...   \n",
       "846          847         0       3   \n",
       "849          850         1       1   \n",
       "856          857         1       1   \n",
       "863          864         0       3   \n",
       "879          880         1       1   \n",
       "\n",
       "                                                  Name     Sex   Age  SibSp  \\\n",
       "1    Cumings, Mrs. John Bradley (Florence Briggs Th...  female  38.0      1   \n",
       "27                      Fortune, Mr. Charles Alexander    male  19.0      3   \n",
       "31      Spencer, Mrs. William Augustus (Marie Eugenie)  female   NaN      1   \n",
       "34                             Meyer, Mr. Edgar Joseph    male  28.0      1   \n",
       "52            Harper, Mrs. Henry Sleeper (Myna Haxtun)  female  49.0      1   \n",
       "..                                                 ...     ...   ...    ...   \n",
       "846                           Sage, Mr. Douglas Bullen    male   NaN      8   \n",
       "849       Goldenberg, Mrs. Samuel L (Edwiga Grabowska)  female   NaN      1   \n",
       "856         Wick, Mrs. George Dennick (Mary Hitchcock)  female  45.0      1   \n",
       "863                  Sage, Miss. Dorothy Edith \"Dolly\"  female   NaN      8   \n",
       "879      Potter, Mrs. Thomas Jr (Lily Alexenia Wilson)  female  56.0      0   \n",
       "\n",
       "     Parch    Ticket     Fare        Cabin Embarked   z_score  z_score2  \n",
       "1        0  PC 17599  65.6344          C85        C  0.786404  0.786845  \n",
       "27       2     19950  65.6344  C23 C25 C27        S  4.644393  4.647001  \n",
       "31       0  PC 17569  65.6344          B78        C  2.300437  2.301729  \n",
       "34       0  PC 17604  65.6344          NaN        C  1.005497  1.006062  \n",
       "52       0  PC 17572  65.6344          D33        C  0.895994  0.896497  \n",
       "..     ...       ...      ...          ...      ...       ...       ...  \n",
       "846      2  CA. 2343  65.6344          NaN        S  0.751524  0.751946  \n",
       "849      0     17453  65.6344          C92        C  1.145020  1.145664  \n",
       "856      1     36928  65.6344          NaN        S  2.669618  2.671118  \n",
       "863      2  CA. 2343  65.6344          NaN        S  0.751524  0.751946  \n",
       "879      1     11767  65.6344          C50        C  1.025369  1.025945  \n",
       "\n",
       "[116 rows x 14 columns]"
      ]
     },
     "execution_count": 49,
     "metadata": {},
     "output_type": "execute_result"
    }
   ],
   "source": [
    "outlire_iqr.loc[ :, 'Fare'] = maximun2\n",
    "outlire_iqr"
   ]
  },
  {
   "cell_type": "code",
   "execution_count": 50,
   "id": "d2dde21e-8e67-4971-abb3-95a8f20666fd",
   "metadata": {},
   "outputs": [
    {
     "data": {
      "text/plain": [
       "Index([  1,  27,  31,  34,  52,  61,  62,  72,  88, 102,\n",
       "       ...\n",
       "       792, 802, 820, 829, 835, 846, 849, 856, 863, 879],\n",
       "      dtype='int64', length=116)"
      ]
     },
     "execution_count": 50,
     "metadata": {},
     "output_type": "execute_result"
    }
   ],
   "source": [
    "outlire_idx = data.loc[data['Fare'] > maximun2, 'Fare'].index\n",
    "outlire_idx"
   ]
  },
  {
   "cell_type": "code",
   "execution_count": 51,
   "id": "fcc5dfeb-d1e0-48f9-bfa1-23410a8088ec",
   "metadata": {},
   "outputs": [],
   "source": [
    "data.loc[data['Fare'] > maximun2, 'Fare'] =maximun2"
   ]
  },
  {
   "cell_type": "code",
   "execution_count": null,
   "id": "888a62e9-06a6-4393-b8da-1d77bf60c08e",
   "metadata": {},
   "outputs": [],
   "source": [
    "data.loc[]"
   ]
  },
  {
   "cell_type": "code",
   "execution_count": null,
   "id": "bdf75fbf-06e8-4b77-bd41-07a672ef33b5",
   "metadata": {},
   "outputs": [],
   "source": []
  },
  {
   "cell_type": "code",
   "execution_count": null,
   "id": "75fa8d80-7693-4931-85a9-13e2da6a35f9",
   "metadata": {},
   "outputs": [],
   "source": []
  },
  {
   "cell_type": "code",
   "execution_count": null,
   "id": "a673d701-3290-47ba-afa0-03c394119c56",
   "metadata": {},
   "outputs": [],
   "source": []
  },
  {
   "cell_type": "code",
   "execution_count": null,
   "id": "ea7c99e2-77d3-4538-b103-6879fc89e63c",
   "metadata": {},
   "outputs": [],
   "source": []
  },
  {
   "cell_type": "code",
   "execution_count": null,
   "id": "23e20e4e-bf99-47bc-942c-b93c50be9228",
   "metadata": {},
   "outputs": [],
   "source": []
  },
  {
   "cell_type": "code",
   "execution_count": null,
   "id": "bc8996b7-2eb9-496a-bbb7-1ede8dfb948d",
   "metadata": {},
   "outputs": [],
   "source": []
  },
  {
   "cell_type": "code",
   "execution_count": null,
   "id": "1035119c-e9a5-4f34-ba26-b52ad05fd59f",
   "metadata": {},
   "outputs": [],
   "source": []
  },
  {
   "cell_type": "code",
   "execution_count": null,
   "id": "490562ee-21bc-4f01-998e-66c49e1291c3",
   "metadata": {},
   "outputs": [],
   "source": []
  },
  {
   "cell_type": "code",
   "execution_count": null,
   "id": "b9454a10-3e7f-4081-bb9c-bdf063296a73",
   "metadata": {},
   "outputs": [],
   "source": []
  },
  {
   "cell_type": "code",
   "execution_count": null,
   "id": "368e4c30-1ae6-4dda-b511-245340161883",
   "metadata": {},
   "outputs": [],
   "source": []
  },
  {
   "cell_type": "code",
   "execution_count": null,
   "id": "3311de5c-6ee2-434b-9e97-097f214a02f1",
   "metadata": {},
   "outputs": [],
   "source": []
  },
  {
   "cell_type": "code",
   "execution_count": null,
   "id": "0b16760a-cd1f-4365-b109-e4ab69aec6d1",
   "metadata": {},
   "outputs": [],
   "source": []
  },
  {
   "cell_type": "code",
   "execution_count": null,
   "id": "cd3bee28-e706-422a-af89-a4eab5c0be92",
   "metadata": {},
   "outputs": [],
   "source": []
  },
  {
   "cell_type": "code",
   "execution_count": null,
   "id": "5d837681-fd9e-492a-a332-c23d89e2e79e",
   "metadata": {},
   "outputs": [],
   "source": []
  },
  {
   "cell_type": "code",
   "execution_count": null,
   "id": "16039c32-1d7a-4cdb-a36c-f92104c027a2",
   "metadata": {},
   "outputs": [],
   "source": []
  },
  {
   "cell_type": "code",
   "execution_count": null,
   "id": "81395860-e654-4a1b-80de-75b69816ac98",
   "metadata": {},
   "outputs": [],
   "source": []
  },
  {
   "cell_type": "code",
   "execution_count": null,
   "id": "f5d312ac-f578-44eb-8867-9ae330e14613",
   "metadata": {},
   "outputs": [],
   "source": []
  }
 ],
 "metadata": {
  "kernelspec": {
   "display_name": "Python 3 (ipykernel)",
   "language": "python",
   "name": "python3"
  },
  "language_info": {
   "codemirror_mode": {
    "name": "ipython",
    "version": 3
   },
   "file_extension": ".py",
   "mimetype": "text/x-python",
   "name": "python",
   "nbconvert_exporter": "python",
   "pygments_lexer": "ipython3",
   "version": "3.9.22"
  }
 },
 "nbformat": 4,
 "nbformat_minor": 5
}
