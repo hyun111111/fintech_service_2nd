{
 "cells": [
  {
   "cell_type": "code",
   "execution_count": 1,
   "id": "650186eb",
   "metadata": {},
   "outputs": [],
   "source": [
    "import pandas as pd\n",
    "import numpy as np\n",
    "import matplotlib.pyplot as plt\n",
    "import seaborn as sns\n",
    "import koreanize_matplotlib"
   ]
  },
  {
   "cell_type": "code",
   "execution_count": 2,
   "id": "8796b838",
   "metadata": {},
   "outputs": [
    {
     "data": {
      "text/html": [
       "<div>\n",
       "<style scoped>\n",
       "    .dataframe tbody tr th:only-of-type {\n",
       "        vertical-align: middle;\n",
       "    }\n",
       "\n",
       "    .dataframe tbody tr th {\n",
       "        vertical-align: top;\n",
       "    }\n",
       "\n",
       "    .dataframe thead th {\n",
       "        text-align: right;\n",
       "    }\n",
       "</style>\n",
       "<table border=\"1\" class=\"dataframe\">\n",
       "  <thead>\n",
       "    <tr style=\"text-align: right;\">\n",
       "      <th></th>\n",
       "      <th>리뷰일</th>\n",
       "      <th>평점</th>\n",
       "      <th>사용자리뷰</th>\n",
       "      <th>업체답변</th>\n",
       "      <th>은행명</th>\n",
       "    </tr>\n",
       "  </thead>\n",
       "  <tbody>\n",
       "    <tr>\n",
       "      <th>0</th>\n",
       "      <td>2023-12-21</td>\n",
       "      <td>5</td>\n",
       "      <td>엄빠 폰에 설치해드렸는데 두분 다 쓰기 편하다고 하시네요 ㅎㅎ 저도 쓰고있음!</td>\n",
       "      <td>NaN</td>\n",
       "      <td>하나</td>\n",
       "    </tr>\n",
       "    <tr>\n",
       "      <th>1</th>\n",
       "      <td>2025-02-17</td>\n",
       "      <td>1</td>\n",
       "      <td>Cd기 축소 연장하려면 이 어플 깔라는데 왜 30퍼에서 안깔리는지 아니 애초에 슈퍼...</td>\n",
       "      <td>안녕하세요. 신한은행입니다.\\n먼저 SOL사용에 불편을 드려 죄송합니다.\\n어플의 ...</td>\n",
       "      <td>신한</td>\n",
       "    </tr>\n",
       "    <tr>\n",
       "      <th>2</th>\n",
       "      <td>2024-07-26</td>\n",
       "      <td>5</td>\n",
       "      <td>서비스가 통합되어 있어서 점점 사용빈도가 높아지네요.</td>\n",
       "      <td>고객님 안녕하세요! KB스타뱅킹을 이용해 주셔서 진심으로 감사드립니다. KB스타뱅킹...</td>\n",
       "      <td>국민</td>\n",
       "    </tr>\n",
       "    <tr>\n",
       "      <th>3</th>\n",
       "      <td>2024-09-01</td>\n",
       "      <td>1</td>\n",
       "      <td>카드 충천이 안됌</td>\n",
       "      <td>안녕하세요. 전민구 님, 토스팀입니다. 남겨주신 내용만으로는 겪고계신 불편사항의 자...</td>\n",
       "      <td>토스</td>\n",
       "    </tr>\n",
       "    <tr>\n",
       "      <th>4</th>\n",
       "      <td>2023-11-13</td>\n",
       "      <td>1</td>\n",
       "      <td>알뜰폰 인증이 안돼요.....</td>\n",
       "      <td>안녕하세요 헤이모두들안녕님, 우리은행입니다. 먼저 이용에 불편을 드려 매우 죄송합니...</td>\n",
       "      <td>우리</td>\n",
       "    </tr>\n",
       "  </tbody>\n",
       "</table>\n",
       "</div>"
      ],
      "text/plain": [
       "          리뷰일  평점                                              사용자리뷰  \\\n",
       "0  2023-12-21   5        엄빠 폰에 설치해드렸는데 두분 다 쓰기 편하다고 하시네요 ㅎㅎ 저도 쓰고있음!   \n",
       "1  2025-02-17   1  Cd기 축소 연장하려면 이 어플 깔라는데 왜 30퍼에서 안깔리는지 아니 애초에 슈퍼...   \n",
       "2  2024-07-26   5                      서비스가 통합되어 있어서 점점 사용빈도가 높아지네요.   \n",
       "3  2024-09-01   1                                          카드 충천이 안됌   \n",
       "4  2023-11-13   1                                   알뜰폰 인증이 안돼요.....   \n",
       "\n",
       "                                                업체답변 은행명  \n",
       "0                                                NaN  하나  \n",
       "1  안녕하세요. 신한은행입니다.\\n먼저 SOL사용에 불편을 드려 죄송합니다.\\n어플의 ...  신한  \n",
       "2  고객님 안녕하세요! KB스타뱅킹을 이용해 주셔서 진심으로 감사드립니다. KB스타뱅킹...  국민  \n",
       "3  안녕하세요. 전민구 님, 토스팀입니다. 남겨주신 내용만으로는 겪고계신 불편사항의 자...  토스  \n",
       "4  안녕하세요 헤이모두들안녕님, 우리은행입니다. 먼저 이용에 불편을 드려 매우 죄송합니...  우리  "
      ]
     },
     "execution_count": 2,
     "metadata": {},
     "output_type": "execute_result"
    }
   ],
   "source": [
    "train_df = pd.read_csv(\"./data/bank_app_reviews_train.csv\")\n",
    "train_df.head()"
   ]
  },
  {
   "cell_type": "code",
   "execution_count": 4,
   "id": "ec6be78b",
   "metadata": {},
   "outputs": [
    {
     "name": "stdout",
     "output_type": "stream",
     "text": [
      "<class 'pandas.core.frame.DataFrame'>\n",
      "RangeIndex: 22246 entries, 0 to 22245\n",
      "Data columns (total 5 columns):\n",
      " #   Column  Non-Null Count  Dtype \n",
      "---  ------  --------------  ----- \n",
      " 0   리뷰일     22246 non-null  object\n",
      " 1   평점      22246 non-null  int64 \n",
      " 2   사용자리뷰   22246 non-null  object\n",
      " 3   업체답변    19141 non-null  object\n",
      " 4   은행명     22246 non-null  object\n",
      "dtypes: int64(1), object(4)\n",
      "memory usage: 869.1+ KB\n"
     ]
    }
   ],
   "source": [
    "train_df.info()"
   ]
  },
  {
   "cell_type": "code",
   "execution_count": 3,
   "id": "acb1966d",
   "metadata": {
    "scrolled": true
   },
   "outputs": [
    {
     "data": {
      "text/html": [
       "<div>\n",
       "<style scoped>\n",
       "    .dataframe tbody tr th:only-of-type {\n",
       "        vertical-align: middle;\n",
       "    }\n",
       "\n",
       "    .dataframe tbody tr th {\n",
       "        vertical-align: top;\n",
       "    }\n",
       "\n",
       "    .dataframe thead th {\n",
       "        text-align: right;\n",
       "    }\n",
       "</style>\n",
       "<table border=\"1\" class=\"dataframe\">\n",
       "  <thead>\n",
       "    <tr style=\"text-align: right;\">\n",
       "      <th></th>\n",
       "      <th>리뷰일</th>\n",
       "      <th>평점</th>\n",
       "      <th>사용자리뷰</th>\n",
       "      <th>업체답변</th>\n",
       "      <th>은행명</th>\n",
       "    </tr>\n",
       "  </thead>\n",
       "  <tbody>\n",
       "    <tr>\n",
       "      <th>0</th>\n",
       "      <td>2024-02-08</td>\n",
       "      <td>5</td>\n",
       "      <td>고경민계장님감사해요</td>\n",
       "      <td>안녕하세요 최순녀 고객님. 칭찬 진심으로 감사드리며, 더욱 편리하고 안정적인 서비스...</td>\n",
       "      <td>우리</td>\n",
       "    </tr>\n",
       "    <tr>\n",
       "      <th>1</th>\n",
       "      <td>2023-07-24</td>\n",
       "      <td>5</td>\n",
       "      <td>저축목표피드 새로 생긴거 너무좋은데 분명 카테고리를 저축으로 했는데 왜 인식이 안되...</td>\n",
       "      <td>신아​ 님, 안녕하세요? 뱅크샐러드 고객감동팀​입니다. 소중한 시간내어 고객센터에 ...</td>\n",
       "      <td>뱅크샐러드</td>\n",
       "    </tr>\n",
       "    <tr>\n",
       "      <th>2</th>\n",
       "      <td>2023-09-25</td>\n",
       "      <td>1</td>\n",
       "      <td>아니 이딴걸 편리하게 사용하는앱이라고 쳐만들엇나 이렇게 불편하게만든건 일부러그런거에...</td>\n",
       "      <td>안녕하세요. 우리은행입니다. 먼저 우리WON뱅킹 이용에 불편을 드려 죄송합니다. 보...</td>\n",
       "      <td>우리</td>\n",
       "    </tr>\n",
       "    <tr>\n",
       "      <th>3</th>\n",
       "      <td>2024-02-15</td>\n",
       "      <td>3</td>\n",
       "      <td>몇 년째 만족하며 사용중이라 조금식 개선되어거는 모습에 만족하며 사용중입니다. 하지...</td>\n",
       "      <td>안녕하세요? 뱅크샐러드 고객감동팀입니다. 뱅크샐러드에 KB pay를 연결해 모든 자...</td>\n",
       "      <td>뱅크샐러드</td>\n",
       "    </tr>\n",
       "    <tr>\n",
       "      <th>4</th>\n",
       "      <td>2023-06-19</td>\n",
       "      <td>5</td>\n",
       "      <td>스타뱅킹을 사용 하고나서부터 편안해서 좋아요</td>\n",
       "      <td>한송림 고객님, 안녕하세요! KB스타뱅킹을 이용해 주셔서 진심으로 감사드립니다. 앞...</td>\n",
       "      <td>국민</td>\n",
       "    </tr>\n",
       "  </tbody>\n",
       "</table>\n",
       "</div>"
      ],
      "text/plain": [
       "          리뷰일  평점                                              사용자리뷰  \\\n",
       "0  2024-02-08   5                                         고경민계장님감사해요   \n",
       "1  2023-07-24   5  저축목표피드 새로 생긴거 너무좋은데 분명 카테고리를 저축으로 했는데 왜 인식이 안되...   \n",
       "2  2023-09-25   1  아니 이딴걸 편리하게 사용하는앱이라고 쳐만들엇나 이렇게 불편하게만든건 일부러그런거에...   \n",
       "3  2024-02-15   3  몇 년째 만족하며 사용중이라 조금식 개선되어거는 모습에 만족하며 사용중입니다. 하지...   \n",
       "4  2023-06-19   5                           스타뱅킹을 사용 하고나서부터 편안해서 좋아요   \n",
       "\n",
       "                                                업체답변    은행명  \n",
       "0  안녕하세요 최순녀 고객님. 칭찬 진심으로 감사드리며, 더욱 편리하고 안정적인 서비스...     우리  \n",
       "1  신아​ 님, 안녕하세요? 뱅크샐러드 고객감동팀​입니다. 소중한 시간내어 고객센터에 ...  뱅크샐러드  \n",
       "2  안녕하세요. 우리은행입니다. 먼저 우리WON뱅킹 이용에 불편을 드려 죄송합니다. 보...     우리  \n",
       "3  안녕하세요? 뱅크샐러드 고객감동팀입니다. 뱅크샐러드에 KB pay를 연결해 모든 자...  뱅크샐러드  \n",
       "4  한송림 고객님, 안녕하세요! KB스타뱅킹을 이용해 주셔서 진심으로 감사드립니다. 앞...     국민  "
      ]
     },
     "execution_count": 3,
     "metadata": {},
     "output_type": "execute_result"
    }
   ],
   "source": [
    "test_df = pd.read_csv(\"./data/bank_app_reviews_test.csv\")\n",
    "test_df.head()"
   ]
  },
  {
   "cell_type": "code",
   "execution_count": 5,
   "id": "a9d2b4c5",
   "metadata": {},
   "outputs": [
    {
     "name": "stdout",
     "output_type": "stream",
     "text": [
      "<class 'pandas.core.frame.DataFrame'>\n",
      "RangeIndex: 9534 entries, 0 to 9533\n",
      "Data columns (total 5 columns):\n",
      " #   Column  Non-Null Count  Dtype \n",
      "---  ------  --------------  ----- \n",
      " 0   리뷰일     9534 non-null   object\n",
      " 1   평점      9534 non-null   int64 \n",
      " 2   사용자리뷰   9534 non-null   object\n",
      " 3   업체답변    8221 non-null   object\n",
      " 4   은행명     9534 non-null   object\n",
      "dtypes: int64(1), object(4)\n",
      "memory usage: 372.5+ KB\n"
     ]
    }
   ],
   "source": [
    "test_df.info()"
   ]
  },
  {
   "cell_type": "code",
   "execution_count": 6,
   "id": "487b28b3",
   "metadata": {},
   "outputs": [
    {
     "data": {
      "text/plain": [
       "평점\n",
       "5    11416\n",
       "1     6751\n",
       "4     1824\n",
       "3     1308\n",
       "2      947\n",
       "Name: count, dtype: int64"
      ]
     },
     "execution_count": 6,
     "metadata": {},
     "output_type": "execute_result"
    }
   ],
   "source": [
    "train_df['평점']. value_counts()"
   ]
  },
  {
   "cell_type": "code",
   "execution_count": 7,
   "id": "7a0c2fc7",
   "metadata": {},
   "outputs": [
    {
     "data": {
      "text/plain": [
       "<Axes: xlabel='평점'>"
      ]
     },
     "execution_count": 7,
     "metadata": {},
     "output_type": "execute_result"
    },
    {
     "data": {
      "image/png": "[encoded data removed]",
      "text/plain": [
       "<Figure size 640x480 with 1 Axes>"
      ]
     },
     "metadata": {},
     "output_type": "display_data"
    }
   ],
   "source": [
    "train_df['평점']. value_counts().plot(kind='bar')"
   ]
  },
  {
   "cell_type": "code",
   "execution_count": 10,
   "id": "9cd1d114",
   "metadata": {},
   "outputs": [
    {
     "data": {
      "text/plain": [
       "11                                                   좋아요\n",
       "14                                                    좋음\n",
       "27     Not Found 실행이 안됩니다 하나은행 어플 누르면 Not Found 메세지 뜨...\n",
       "30     이전거보다 메뉴가 많아진건지 내가 사용하는게 걷기가 숨겨져 불편.확인 할때마다 일상...\n",
       "38              보상을 얻기위해 광고를 보는건 상관없는데 광고 좀 가려 받으면 안되나요?\n",
       "69     오늘 토스 재가입 후 저도 모르는 사이 토스페이가입되었네요. 가입 금액(5,900원...\n",
       "75                                     빠르고 정확함 이용을 권장합니다\n",
       "82                                    아직까지 잘 사용하고 있습니다 ?\n",
       "91     지난 달부터 갑자기 홈->앞으로 낼 카드값 부분에 특정 카드사 한곳만 뜹니다ㅠ 분명...\n",
       "97                                                    만족\n",
       "98                                                    좋음\n",
       "106    가상계좌가 브랜드콘 같은걸 살때는 아무 불편함이없는데 온라인으로 결제를할때 제계좌명...\n",
       "107                                  토스아이디를 제발 다시 만들어주세요\n",
       "118                                       금액이조금적어서 아쉬었어요\n",
       "130                 해외(영국)현지번호를 쓰다보니, 인증번호를 받을수가 없습니다. ㅠ\n",
       "145                     항상 먼저 고객상황을 고려해서 정보을 알려주어 감사감사^^\n",
       "151     역대 은행앱 중 가장 만족. 허나 이벤트를 하려고 버튼을 누르면 오류가 생겼다며 안됨.\n",
       "153    소비 관리하는 데 아주 유용하게 쓰고 있습니다. ktx 예매 때문에 코레일을 이용했...\n",
       "156                                                  효율적\n",
       "157                           전산상 확인이 안되는 상품설명이 있어서 아쉽네요\n",
       "165                                                    굿\n",
       "175                                              사용하기 좋음\n",
       "191    업데이트 하고 나서부터 비밀번호, 지문인식 등등 한 후 그 다음 화면으로 안넘어가고...\n",
       "205                                                    굳\n",
       "206                                                  좋아요\n",
       "208    전.조흥은행때최최초로싸인.서명을한사람인겄같습니다. 신용등급으로~ 지금은 보이스피싱피...\n",
       "222                                                    굿\n",
       "223    알람이 안떠서 직접 가서 알람 뜨도록 설정 을 했는데 돈만 가져가고 알람 안뜨네요 ...\n",
       "232                                           직관적이고 쉬워요!\n",
       "235    하루에 가장 많이 사용하는 어플입니다. 근데 라이브쇼핑에서 60초 기다리고 최대 5...\n",
       "247                                               빨라서좋네요\n",
       "255                                               Gooooo\n",
       "259                                게좌숨기기 기능 굿~!! 쉽고 편해요.\n",
       "260                                            대체로 만족합니다\n",
       "267                                                  좋아요\n",
       "296                                            앱이 너무 버벅댐\n",
       "303                                넘나 편하지만 교통카드 충전이 불편해요\n",
       "304    kb국민인증서 유효기간이 340일 넘게 남았는데 계속 연장하겠냐고 탭이뜨네요.. 적...\n",
       "315                      수수료 1300원이나 내야함 (700원정도면 상관없어요)\n",
       "329                                            간편하여 좋습니다\n",
       "348              이것저것 뒤로가는 단계에서 삑나서 귀찮게하는게있긴한데 이정도면 편리해요\n",
       "360                               토스증권 아이패드도 쓸 수 있게 해주세요\n",
       "361    정말 다 좋은데 만보기가 작동을 안해서 가족 중 나만 돈을 못벌고 있음. 알림 허용...\n",
       "384    알기쉽고 따라하기 쉽게 구성되어 있네요,한가지 아쉬운점은 간편비밀번호 입력에 일부제...\n",
       "392                  토스피드에 만원내고 사진 올리면 포인트 수익은 따로 없는건가요?\n",
       "399                                          카드 포안트가 안떠요\n",
       "423                          한가지가 다마칠땍까지는 비밀번호를넣지안앟음좋것어요\n",
       "429                                             안전하고 편리함\n",
       "438                                                 좋아요.\n",
       "443    번호표 발행에 (개인대출,예금,입출금 각 각) 세부 항목별로 인원수 대로 나오게 만...\n",
       "445    예.적금 안내와 기타 상담시 답변도 빠르고 친절합니다 이번엔 N일 적금으로 모은 작...\n",
       "460    잘 사용했는데 호가창에서 체결강도랑 보이던게 안보이니까 너무 불편해요.. 설정할 수...\n",
       "465    ㅂㄴㅣㅓ든2 aaa×²aㅁㅂㅁㅈㅇㅋㄷㅃㄷㅓㅗ6ㅗㅓㄷ6ㄴㅍㄴㅇㄴㅇ릅린ㅍ1ㅜㅗ 000 ...\n",
       "470                                                    굿\n",
       "472              내역합치기 기능 어떻게 쓰나요? 내역 길게 눌러도 삭제 버튼만 뜹니다.\n",
       "482                                                아주좋아요\n",
       "527                                                   깔끔\n",
       "603                                                 좋습니다\n",
       "625                                                  좋아요\n",
       "627                                              사용하기편해요\n",
       "Name: 사용자리뷰, dtype: object"
      ]
     },
     "execution_count": 10,
     "metadata": {},
     "output_type": "execute_result"
    }
   ],
   "source": [
    "train_df[train_df['평점'] == 4]['사용자리뷰'].head(60)"
   ]
  },
  {
   "cell_type": "code",
   "execution_count": 11,
   "id": "61b99790",
   "metadata": {},
   "outputs": [
    {
     "data": {
      "text/plain": [
       "6                           고양이키우기 쿠폰 유효기간 6일. 넘 한거 아닌가요?\n",
       "18      배터리가 빨리 줄어요..서비스센터 가면 토스앱이 배터리 사용이 많다고 하네요.. 방...\n",
       "32                                입출금목록에서 터치해서메모입력하던게안되네요\n",
       "39                             앱 켤때 70%는 다시 켜야됨. 캐시 남아있다고\n",
       "89      제일 큰 문제중 하나는 혜택으로 알림설정을 유도하면서 알림이 제대로 동작 안합니다....\n",
       "132     포인트통의 포인트를 포인트리로 전환하려는데 보내기가 안되네요 오류 개선 좀 부탁드려...\n",
       "176     은행.신한카드 잘 쓰고 있는데 이거 왜? 출시? 수퍼 Opt 재발행하고,은행쓸려 했...\n",
       "177                                   토스 요즘 쫌 짜증난다 맨날 버그야\n",
       "184      데이터로 하나원큐 들어가려는데 너무 오래 걸립니다... 옛날에는 안그랬는데 버그인가요?\n",
       "197                 할부금 완납한거는 왜 반영이 안돼서 계속 할부금액으로 계속 잡히나요\n",
       "209     무슨 점검을 밥 먹듯이 하세요.. 할꺼면 새벽 2시 이후로 해주세요 타이밍 진짜.....\n",
       "253     쇼핑, 주식 메뉴가 삼성 덱스에선 안나옵니다. 다른앱은 이런게 없는데 토스만 그렇군...\n",
       "266                                  만족합니다. 간단하고 빠르고~~~~~\n",
       "305     토스를 사용하고 싶어도 비번을 틀려서 못 사용중 ㅠㅠㅠ 이거 어떻하나요? 저 번호도...\n",
       "352     홈화면에서 노란색 이체 버튼 눌렀을때 최근계좌에 입금금액이랑 입금날짜가 같이 떴었는...\n",
       "357     10월4일 부터 푸시알림(?)이 이상네요. 며칠 전 앱 업데이를 많이 한 것 같은데...\n",
       "362     다 좋은데 요즘 고양이??키우기 100%채운 후 새 고양이로 넘어갈때 화면 정지되고...\n",
       "389     토스 요즘 배터리 너무 많이 잡아 먹는데 저만 그런건가요? 폰 최적화하면 토스만 매...\n",
       "391     토스 만보기 나이 만12세로 낮춰주세요ㅜㅜㅠ 토스 사용연량이 만12센데 왜 만보기는...\n",
       "401                          잘쓰고 있는데 점점앱이 무거워지고 느려지는게 느껴짐\n",
       "413     매일걷기 연동이 되다 안되다 바뀌고 나서 이상 하네요 다른 걷기 앱은 똑같이 걸음수...\n",
       "414                                 왜 자꾸 포인트받는 양을 줄이는지 ㅋㅋ\n",
       "432     왜 뒤로가기 버튼이 실행이 안되죠? 핸드폰 뒤로가기도 토스에 있는 뒤로가기도 안먹히는데요\n",
       "450     토스뱅크 접속은 되는데 다른메뉴로 넘어가지 않습니다. 미라클 모닝 이벤트, 증권 등...\n",
       "456              알림앱은 왜 삭제하셨는지요... 다시 만들어 주세요! 글고 앱이 느립니다\n",
       "511     잘 쓰고는 있는데 일주일 방문미션으로 광고보면서 실제로 그 광고제품을 구매한적도 있...\n",
       "534     업데이트가 종료된 폰이기에 커스텀롬을 사용하는데. 해킹위험 감지라며 더 이상 사용이...\n",
       "550     일주일 걷기 미션이 없어져서 아쉽네요. 그나마 고정포인트라서 좋았는데.. 걷기 미션...\n",
       "562     토스 프라임 적립 금액이 1원 미만이라서 적립이 안 된다는데 이제 배민은 지원 안 ...\n",
       "611                                      지문인식 로그인 왜 사라짐??\n",
       "618                   잘쓰고있는데 귀찮게 자꾸 뭐 입력하라마라좀 그만했으면 좋겠습니다\n",
       "665     사용하기 편하고 좋습니다. 다만 건강탭에 발병률 부분은 이해가 안가네요 관련 수치도...\n",
       "669                                           진원 ㅈㅈㄷㅈㅈㅍ2ㅈ\n",
       "672     위비뱅크 진짜 편했는데 종료된거에 대해 아직도 이해가 안되고 자동로그인이라도 있었음...\n",
       "686                            갑자기 카테고리가 왜 없어진건가요???;;;;,\n",
       "693                       토스 잘쓰고 있는데 하루가 지났는데 왜 돈이 안 꺼내저여\n",
       "723     간편 로그인하기 설정좀 한번만 뜨게하면 안되나 들어갈때마다 안하기 누르기 짜증남. ...\n",
       "741     앱 사용중 홈키를 누르거나 다른 앱 실행시 백그라운드에서 실행중인 어플리케이션 목록...\n",
       "746     보안상이유로 가상기기 에서는 사용 할수없다고 뜨는데 어떻게해야되나요? 가상기기 가 ...\n",
       "767     가위바위보 누구 아이디어냐ㅋㅋ 놀리는거도 아니고ㅋㅋ 0.1초 보다 빠르게 바뀌면 어...\n",
       "780     어제부터 실행이 안되서 오늘 앱 삭제후 새로 설치하고 실행할려고해도 어제와 동일하게...\n",
       "781                                                편리한 구성\n",
       "797                                   ㅌㄹㄹㄷㄷᆢㄹㅡㅡㄹㆍ로ㅡㄹ르ㅡㅡ둗됴\n",
       "798     고양이 키우기 애용하고 있는데 버벅임이 눈에 띄게 많고, 최근 광고가 무료 폰게임 ...\n",
       "804     너무잘사용중인데 최근 업데이트후 너무 느려지네요. 앱이 멈추기도하고 스크롤 반응이 ...\n",
       "824                                    아니 왜 오늘 접속이 안되는건가요\n",
       "848     기존 알림서비스 앱에서는 입출금내역 선택적으로 삭제가 가능했는데, 통합되면서 내역삭...\n",
       "870                                        편리한 가입 및 저축 가입\n",
       "900                                 와!!! 추가이체 겁나게 불편 하네요ㅜ\n",
       "932                                      인터넷 뱅킹이 너무 어려워요.\n",
       "958     광고 소리 없애고 보기만 하는건 안되는건가요? 음악들으면서 토스 앱 켜서 만보기든 ...\n",
       "977     사용하다가 종종 그냥 하얀색 창만 뜨고 떠야할 페이지가 안뜰 때가 있습니다. 이러기...\n",
       "1001    안녕하세요 계좌이체를 하는데 돈 보낸사람 이름으로 뜨는 문제점이 있어 큰 어려움과 ...\n",
       "1027                                           토스가 안깔려요ㅠㅠ\n",
       "1028    앱내 kbpay 결제를 하려고 해도 앱이 설치되어 있는데 구글플레이로 넘어가요. 결...\n",
       "1029    농협 손해보험 연결이 안되네요 처음에 연결되었지만 작년부터 연결이 안되네요 왜 그런...\n",
       "1057    제가 사용한지얼마안된 사람인데 나쁜점이 있습니다 급식표를 보려고하는데 계속 점검중이...\n",
       "1071    Not found 오류 저만 뜨는 건가요..? 접속이 아예 안되는데요 삭제하고 다시...\n",
       "1099                왜 토스 업데이트가 안되죠? 와이파이연결 저장공간 다 되있는데...\n",
       "1125    토스앱 다운로드 받으려면 넘 시간이 걸리는데 왜 그런지 모르겠네요..다른 앱은 빨리...\n",
       "Name: 사용자리뷰, dtype: object"
      ]
     },
     "execution_count": 11,
     "metadata": {},
     "output_type": "execute_result"
    }
   ],
   "source": [
    "train_df[train_df['평점'] == 3]['사용자리뷰'].head(60)"
   ]
  },
  {
   "cell_type": "code",
   "execution_count": 12,
   "id": "c626afa0",
   "metadata": {},
   "outputs": [
    {
     "data": {
      "text/html": [
       "<div>\n",
       "<style scoped>\n",
       "    .dataframe tbody tr th:only-of-type {\n",
       "        vertical-align: middle;\n",
       "    }\n",
       "\n",
       "    .dataframe tbody tr th {\n",
       "        vertical-align: top;\n",
       "    }\n",
       "\n",
       "    .dataframe thead th {\n",
       "        text-align: right;\n",
       "    }\n",
       "</style>\n",
       "<table border=\"1\" class=\"dataframe\">\n",
       "  <thead>\n",
       "    <tr style=\"text-align: right;\">\n",
       "      <th></th>\n",
       "      <th>리뷰일</th>\n",
       "      <th>평점</th>\n",
       "      <th>사용자리뷰</th>\n",
       "      <th>업체답변</th>\n",
       "      <th>은행명</th>\n",
       "      <th>긍정</th>\n",
       "    </tr>\n",
       "  </thead>\n",
       "  <tbody>\n",
       "    <tr>\n",
       "      <th>0</th>\n",
       "      <td>2023-12-21</td>\n",
       "      <td>5</td>\n",
       "      <td>엄빠 폰에 설치해드렸는데 두분 다 쓰기 편하다고 하시네요 ㅎㅎ 저도 쓰고있음!</td>\n",
       "      <td>NaN</td>\n",
       "      <td>하나</td>\n",
       "      <td>1</td>\n",
       "    </tr>\n",
       "    <tr>\n",
       "      <th>1</th>\n",
       "      <td>2025-02-17</td>\n",
       "      <td>1</td>\n",
       "      <td>Cd기 축소 연장하려면 이 어플 깔라는데 왜 30퍼에서 안깔리는지 아니 애초에 슈퍼...</td>\n",
       "      <td>안녕하세요. 신한은행입니다.\\n먼저 SOL사용에 불편을 드려 죄송합니다.\\n어플의 ...</td>\n",
       "      <td>신한</td>\n",
       "      <td>0</td>\n",
       "    </tr>\n",
       "    <tr>\n",
       "      <th>2</th>\n",
       "      <td>2024-07-26</td>\n",
       "      <td>5</td>\n",
       "      <td>서비스가 통합되어 있어서 점점 사용빈도가 높아지네요.</td>\n",
       "      <td>고객님 안녕하세요! KB스타뱅킹을 이용해 주셔서 진심으로 감사드립니다. KB스타뱅킹...</td>\n",
       "      <td>국민</td>\n",
       "      <td>1</td>\n",
       "    </tr>\n",
       "    <tr>\n",
       "      <th>3</th>\n",
       "      <td>2024-09-01</td>\n",
       "      <td>1</td>\n",
       "      <td>카드 충천이 안됌</td>\n",
       "      <td>안녕하세요. 전민구 님, 토스팀입니다. 남겨주신 내용만으로는 겪고계신 불편사항의 자...</td>\n",
       "      <td>토스</td>\n",
       "      <td>0</td>\n",
       "    </tr>\n",
       "    <tr>\n",
       "      <th>4</th>\n",
       "      <td>2023-11-13</td>\n",
       "      <td>1</td>\n",
       "      <td>알뜰폰 인증이 안돼요.....</td>\n",
       "      <td>안녕하세요 헤이모두들안녕님, 우리은행입니다. 먼저 이용에 불편을 드려 매우 죄송합니...</td>\n",
       "      <td>우리</td>\n",
       "      <td>0</td>\n",
       "    </tr>\n",
       "    <tr>\n",
       "      <th>...</th>\n",
       "      <td>...</td>\n",
       "      <td>...</td>\n",
       "      <td>...</td>\n",
       "      <td>...</td>\n",
       "      <td>...</td>\n",
       "      <td>...</td>\n",
       "    </tr>\n",
       "    <tr>\n",
       "      <th>22241</th>\n",
       "      <td>2025-03-12</td>\n",
       "      <td>3</td>\n",
       "      <td>어플 시작오류가 가끔 나네요.</td>\n",
       "      <td>안녕하세요 푸딩 고객님. 우리은행 우리WON뱅킹 이용에 불편을 드려 죄송합니다. 2...</td>\n",
       "      <td>우리</td>\n",
       "      <td>0</td>\n",
       "    </tr>\n",
       "    <tr>\n",
       "      <th>22242</th>\n",
       "      <td>2025-01-09</td>\n",
       "      <td>1</td>\n",
       "      <td>업데이트 후에 계좌이체하는 게 자주 튕겨요</td>\n",
       "      <td>안녕하세요 일월구일 고객님. 먼저 우리WON뱅킹 이용에 불편을 드려 죄송합니다. 보...</td>\n",
       "      <td>우리</td>\n",
       "      <td>0</td>\n",
       "    </tr>\n",
       "    <tr>\n",
       "      <th>22243</th>\n",
       "      <td>2023-07-07</td>\n",
       "      <td>5</td>\n",
       "      <td>굳굳굳</td>\n",
       "      <td>Seung Woo Kim 고객님, 안녕하세요! KB스타뱅킹을 이용해 주셔서 진심으로...</td>\n",
       "      <td>국민</td>\n",
       "      <td>1</td>\n",
       "    </tr>\n",
       "    <tr>\n",
       "      <th>22244</th>\n",
       "      <td>2024-10-10</td>\n",
       "      <td>5</td>\n",
       "      <td>오래시간 같이한 나의은행 든든합니다.</td>\n",
       "      <td>안녕하세요 lee jeong seon (isate) 고객님. 칭찬 진심으로 감사드리...</td>\n",
       "      <td>우리</td>\n",
       "      <td>1</td>\n",
       "    </tr>\n",
       "    <tr>\n",
       "      <th>22245</th>\n",
       "      <td>2023-08-09</td>\n",
       "      <td>1</td>\n",
       "      <td>라이브 광고 전보다 더 안좋네 아무리 주기 싫어도 겨우 3원줄거면서 너무 쪼잔하게 ...</td>\n",
       "      <td>안녕하세요. 송재영님, 토스 고객센터입니다. 토스를 이용하시면서 느끼신 소중한 의견...</td>\n",
       "      <td>토스</td>\n",
       "      <td>0</td>\n",
       "    </tr>\n",
       "  </tbody>\n",
       "</table>\n",
       "<p>22246 rows × 6 columns</p>\n",
       "</div>"
      ],
      "text/plain": [
       "              리뷰일  평점                                              사용자리뷰  \\\n",
       "0      2023-12-21   5        엄빠 폰에 설치해드렸는데 두분 다 쓰기 편하다고 하시네요 ㅎㅎ 저도 쓰고있음!   \n",
       "1      2025-02-17   1  Cd기 축소 연장하려면 이 어플 깔라는데 왜 30퍼에서 안깔리는지 아니 애초에 슈퍼...   \n",
       "2      2024-07-26   5                      서비스가 통합되어 있어서 점점 사용빈도가 높아지네요.   \n",
       "3      2024-09-01   1                                          카드 충천이 안됌   \n",
       "4      2023-11-13   1                                   알뜰폰 인증이 안돼요.....   \n",
       "...           ...  ..                                                ...   \n",
       "22241  2025-03-12   3                                   어플 시작오류가 가끔 나네요.   \n",
       "22242  2025-01-09   1                            업데이트 후에 계좌이체하는 게 자주 튕겨요   \n",
       "22243  2023-07-07   5                                                굳굳굳   \n",
       "22244  2024-10-10   5                               오래시간 같이한 나의은행 든든합니다.   \n",
       "22245  2023-08-09   1  라이브 광고 전보다 더 안좋네 아무리 주기 싫어도 겨우 3원줄거면서 너무 쪼잔하게 ...   \n",
       "\n",
       "                                                    업체답변 은행명  긍정  \n",
       "0                                                    NaN  하나   1  \n",
       "1      안녕하세요. 신한은행입니다.\\n먼저 SOL사용에 불편을 드려 죄송합니다.\\n어플의 ...  신한   0  \n",
       "2      고객님 안녕하세요! KB스타뱅킹을 이용해 주셔서 진심으로 감사드립니다. KB스타뱅킹...  국민   1  \n",
       "3      안녕하세요. 전민구 님, 토스팀입니다. 남겨주신 내용만으로는 겪고계신 불편사항의 자...  토스   0  \n",
       "4      안녕하세요 헤이모두들안녕님, 우리은행입니다. 먼저 이용에 불편을 드려 매우 죄송합니...  우리   0  \n",
       "...                                                  ...  ..  ..  \n",
       "22241  안녕하세요 푸딩 고객님. 우리은행 우리WON뱅킹 이용에 불편을 드려 죄송합니다. 2...  우리   0  \n",
       "22242  안녕하세요 일월구일 고객님. 먼저 우리WON뱅킹 이용에 불편을 드려 죄송합니다. 보...  우리   0  \n",
       "22243  Seung Woo Kim 고객님, 안녕하세요! KB스타뱅킹을 이용해 주셔서 진심으로...  국민   1  \n",
       "22244  안녕하세요 lee jeong seon (isate) 고객님. 칭찬 진심으로 감사드리...  우리   1  \n",
       "22245  안녕하세요. 송재영님, 토스 고객센터입니다. 토스를 이용하시면서 느끼신 소중한 의견...  토스   0  \n",
       "\n",
       "[22246 rows x 6 columns]"
      ]
     },
     "execution_count": 12,
     "metadata": {},
     "output_type": "execute_result"
    }
   ],
   "source": [
    "train_df['긍정'] = train_df['평점'].apply(lambda x: 1 if x in [5, 4] else 0)\n",
    "train_df"
   ]
  },
  {
   "cell_type": "code",
   "execution_count": 13,
   "id": "2ddd2e44",
   "metadata": {},
   "outputs": [
    {
     "data": {
      "text/html": [
       "<div>\n",
       "<style scoped>\n",
       "    .dataframe tbody tr th:only-of-type {\n",
       "        vertical-align: middle;\n",
       "    }\n",
       "\n",
       "    .dataframe tbody tr th {\n",
       "        vertical-align: top;\n",
       "    }\n",
       "\n",
       "    .dataframe thead th {\n",
       "        text-align: right;\n",
       "    }\n",
       "</style>\n",
       "<table border=\"1\" class=\"dataframe\">\n",
       "  <thead>\n",
       "    <tr style=\"text-align: right;\">\n",
       "      <th></th>\n",
       "      <th>리뷰일</th>\n",
       "      <th>평점</th>\n",
       "      <th>사용자리뷰</th>\n",
       "      <th>업체답변</th>\n",
       "      <th>은행명</th>\n",
       "      <th>긍정</th>\n",
       "    </tr>\n",
       "  </thead>\n",
       "  <tbody>\n",
       "    <tr>\n",
       "      <th>0</th>\n",
       "      <td>2024-02-08</td>\n",
       "      <td>5</td>\n",
       "      <td>고경민계장님감사해요</td>\n",
       "      <td>안녕하세요 최순녀 고객님. 칭찬 진심으로 감사드리며, 더욱 편리하고 안정적인 서비스...</td>\n",
       "      <td>우리</td>\n",
       "      <td>1</td>\n",
       "    </tr>\n",
       "    <tr>\n",
       "      <th>1</th>\n",
       "      <td>2023-07-24</td>\n",
       "      <td>5</td>\n",
       "      <td>저축목표피드 새로 생긴거 너무좋은데 분명 카테고리를 저축으로 했는데 왜 인식이 안되...</td>\n",
       "      <td>신아​ 님, 안녕하세요? 뱅크샐러드 고객감동팀​입니다. 소중한 시간내어 고객센터에 ...</td>\n",
       "      <td>뱅크샐러드</td>\n",
       "      <td>1</td>\n",
       "    </tr>\n",
       "    <tr>\n",
       "      <th>2</th>\n",
       "      <td>2023-09-25</td>\n",
       "      <td>1</td>\n",
       "      <td>아니 이딴걸 편리하게 사용하는앱이라고 쳐만들엇나 이렇게 불편하게만든건 일부러그런거에...</td>\n",
       "      <td>안녕하세요. 우리은행입니다. 먼저 우리WON뱅킹 이용에 불편을 드려 죄송합니다. 보...</td>\n",
       "      <td>우리</td>\n",
       "      <td>0</td>\n",
       "    </tr>\n",
       "    <tr>\n",
       "      <th>3</th>\n",
       "      <td>2024-02-15</td>\n",
       "      <td>3</td>\n",
       "      <td>몇 년째 만족하며 사용중이라 조금식 개선되어거는 모습에 만족하며 사용중입니다. 하지...</td>\n",
       "      <td>안녕하세요? 뱅크샐러드 고객감동팀입니다. 뱅크샐러드에 KB pay를 연결해 모든 자...</td>\n",
       "      <td>뱅크샐러드</td>\n",
       "      <td>0</td>\n",
       "    </tr>\n",
       "    <tr>\n",
       "      <th>4</th>\n",
       "      <td>2023-06-19</td>\n",
       "      <td>5</td>\n",
       "      <td>스타뱅킹을 사용 하고나서부터 편안해서 좋아요</td>\n",
       "      <td>한송림 고객님, 안녕하세요! KB스타뱅킹을 이용해 주셔서 진심으로 감사드립니다. 앞...</td>\n",
       "      <td>국민</td>\n",
       "      <td>1</td>\n",
       "    </tr>\n",
       "    <tr>\n",
       "      <th>...</th>\n",
       "      <td>...</td>\n",
       "      <td>...</td>\n",
       "      <td>...</td>\n",
       "      <td>...</td>\n",
       "      <td>...</td>\n",
       "      <td>...</td>\n",
       "    </tr>\n",
       "    <tr>\n",
       "      <th>9529</th>\n",
       "      <td>2025-04-05</td>\n",
       "      <td>1</td>\n",
       "      <td>만보기 이벤트는 실망스러워요. 후기 말투 다 똑같고 사기 맞죠? 양심이 참... 정...</td>\n",
       "      <td>안녕하세요. 송송님, 토스팀입니다. 만족스러운 서비스를 제공하기 위해 노력하였으나,...</td>\n",
       "      <td>토스</td>\n",
       "      <td>0</td>\n",
       "    </tr>\n",
       "    <tr>\n",
       "      <th>9530</th>\n",
       "      <td>2023-05-17</td>\n",
       "      <td>5</td>\n",
       "      <td>기능이 많아 다 사용해보진 못 했지만 대체적으로 편한거 같아요</td>\n",
       "      <td>이강욱 고객님 안녕하세요! KB스타뱅킹을 이용해 주셔서 진심으로 감사드립니다. 고객...</td>\n",
       "      <td>국민</td>\n",
       "      <td>1</td>\n",
       "    </tr>\n",
       "    <tr>\n",
       "      <th>9531</th>\n",
       "      <td>2023-07-05</td>\n",
       "      <td>5</td>\n",
       "      <td>편리하네요.</td>\n",
       "      <td>농사꾼 고객님, 안녕하세요! KB스타뱅킹을 이용해 주셔서 진심으로 감사드립니다. 앞...</td>\n",
       "      <td>국민</td>\n",
       "      <td>1</td>\n",
       "    </tr>\n",
       "    <tr>\n",
       "      <th>9532</th>\n",
       "      <td>2024-12-20</td>\n",
       "      <td>5</td>\n",
       "      <td>사용하기 편리해요</td>\n",
       "      <td>고객님 안녕하세요! KB스타뱅킹을 이용해 주셔서 진심으로 감사드립니다. KB스타뱅킹...</td>\n",
       "      <td>국민</td>\n",
       "      <td>1</td>\n",
       "    </tr>\n",
       "    <tr>\n",
       "      <th>9533</th>\n",
       "      <td>2024-03-06</td>\n",
       "      <td>1</td>\n",
       "      <td>너무 후져서 오랜만에 어플이용하다가 욕했답니다 인증방식이 2010년대에 머물러계심 ...</td>\n",
       "      <td>안녕하세요 신한은행입니다.\\n먼저 SOL사용에 불편을 드려 정말 죄송합니다.\\n고객...</td>\n",
       "      <td>신한</td>\n",
       "      <td>0</td>\n",
       "    </tr>\n",
       "  </tbody>\n",
       "</table>\n",
       "<p>9534 rows × 6 columns</p>\n",
       "</div>"
      ],
      "text/plain": [
       "             리뷰일  평점                                              사용자리뷰  \\\n",
       "0     2024-02-08   5                                         고경민계장님감사해요   \n",
       "1     2023-07-24   5  저축목표피드 새로 생긴거 너무좋은데 분명 카테고리를 저축으로 했는데 왜 인식이 안되...   \n",
       "2     2023-09-25   1  아니 이딴걸 편리하게 사용하는앱이라고 쳐만들엇나 이렇게 불편하게만든건 일부러그런거에...   \n",
       "3     2024-02-15   3  몇 년째 만족하며 사용중이라 조금식 개선되어거는 모습에 만족하며 사용중입니다. 하지...   \n",
       "4     2023-06-19   5                           스타뱅킹을 사용 하고나서부터 편안해서 좋아요   \n",
       "...          ...  ..                                                ...   \n",
       "9529  2025-04-05   1  만보기 이벤트는 실망스러워요. 후기 말투 다 똑같고 사기 맞죠? 양심이 참... 정...   \n",
       "9530  2023-05-17   5                 기능이 많아 다 사용해보진 못 했지만 대체적으로 편한거 같아요   \n",
       "9531  2023-07-05   5                                             편리하네요.   \n",
       "9532  2024-12-20   5                                          사용하기 편리해요   \n",
       "9533  2024-03-06   1  너무 후져서 오랜만에 어플이용하다가 욕했답니다 인증방식이 2010년대에 머물러계심 ...   \n",
       "\n",
       "                                                   업체답변    은행명  긍정  \n",
       "0     안녕하세요 최순녀 고객님. 칭찬 진심으로 감사드리며, 더욱 편리하고 안정적인 서비스...     우리   1  \n",
       "1     신아​ 님, 안녕하세요? 뱅크샐러드 고객감동팀​입니다. 소중한 시간내어 고객센터에 ...  뱅크샐러드   1  \n",
       "2     안녕하세요. 우리은행입니다. 먼저 우리WON뱅킹 이용에 불편을 드려 죄송합니다. 보...     우리   0  \n",
       "3     안녕하세요? 뱅크샐러드 고객감동팀입니다. 뱅크샐러드에 KB pay를 연결해 모든 자...  뱅크샐러드   0  \n",
       "4     한송림 고객님, 안녕하세요! KB스타뱅킹을 이용해 주셔서 진심으로 감사드립니다. 앞...     국민   1  \n",
       "...                                                 ...    ...  ..  \n",
       "9529  안녕하세요. 송송님, 토스팀입니다. 만족스러운 서비스를 제공하기 위해 노력하였으나,...     토스   0  \n",
       "9530  이강욱 고객님 안녕하세요! KB스타뱅킹을 이용해 주셔서 진심으로 감사드립니다. 고객...     국민   1  \n",
       "9531  농사꾼 고객님, 안녕하세요! KB스타뱅킹을 이용해 주셔서 진심으로 감사드립니다. 앞...     국민   1  \n",
       "9532  고객님 안녕하세요! KB스타뱅킹을 이용해 주셔서 진심으로 감사드립니다. KB스타뱅킹...     국민   1  \n",
       "9533  안녕하세요 신한은행입니다.\\n먼저 SOL사용에 불편을 드려 정말 죄송합니다.\\n고객...     신한   0  \n",
       "\n",
       "[9534 rows x 6 columns]"
      ]
     },
     "execution_count": 13,
     "metadata": {},
     "output_type": "execute_result"
    }
   ],
   "source": [
    "test_df['긍정'] = test_df['평점'].apply(lambda x: 1 if x in [5, 4] else 0)\n",
    "test_df"
   ]
  },
  {
   "cell_type": "code",
   "execution_count": 15,
   "id": "60b616da",
   "metadata": {},
   "outputs": [
    {
     "data": {
      "text/plain": [
       "은행명\n",
       "국민       8863\n",
       "토스       6201\n",
       "우리       2969\n",
       "하나       1932\n",
       "신한       1764\n",
       "뱅크샐러드     517\n",
       "Name: count, dtype: int64"
      ]
     },
     "execution_count": 15,
     "metadata": {},
     "output_type": "execute_result"
    }
   ],
   "source": [
    "train_df['은행명'].value_counts()"
   ]
  },
  {
   "cell_type": "markdown",
   "id": "485307a2",
   "metadata": {},
   "source": [
    "# 변수를 자동으로 생성하면서 긍정부정 데이터프레임 만들기\n",
    "* globals()[변수명]"
   ]
  },
  {
   "cell_type": "code",
   "execution_count": 20,
   "id": "11d7f8b4",
   "metadata": {},
   "outputs": [],
   "source": [
    "bank_en_list = ['hana', 'shinhan', 'kb', 'toss', 'woori', 'b_salad']"
   ]
  },
  {
   "cell_type": "code",
   "execution_count": 28,
   "id": "f0f6ba7e",
   "metadata": {
    "scrolled": false
   },
   "outputs": [
    {
     "data": {
      "image/png": "[encoded data removed]",
      "text/plain": [
       "<Figure size 640x480 with 1 Axes>"
      ]
     },
     "metadata": {},
     "output_type": "display_data"
    },
    {
     "name": "stdout",
     "output_type": "stream",
     "text": [
      "\n",
      "1042 890\n"
     ]
    },
    {
     "data": {
      "image/png": "[encoded data removed]",
      "text/plain": [
       "<Figure size 640x480 with 1 Axes>"
      ]
     },
     "metadata": {},
     "output_type": "display_data"
    },
    {
     "name": "stdout",
     "output_type": "stream",
     "text": [
      "\n",
      "755 1009\n"
     ]
    },
    {
     "data": {
      "image/png": "[encoded data removed]",
      "text/plain": [
       "<Figure size 640x480 with 1 Axes>"
      ]
     },
     "metadata": {},
     "output_type": "display_data"
    },
    {
     "name": "stdout",
     "output_type": "stream",
     "text": [
      "\n",
      "7553 1310\n"
     ]
    },
    {
     "data": {
      "image/png": "[encoded data removed]",
      "text/plain": [
       "<Figure size 640x480 with 1 Axes>"
      ]
     },
     "metadata": {},
     "output_type": "display_data"
    },
    {
     "name": "stdout",
     "output_type": "stream",
     "text": [
      "\n",
      "2415 3786\n"
     ]
    },
    {
     "data": {
      "image/png": "[encoded data removed]",
      "text/plain": [
       "<Figure size 640x480 with 1 Axes>"
      ]
     },
     "metadata": {},
     "output_type": "display_data"
    },
    {
     "name": "stdout",
     "output_type": "stream",
     "text": [
      "\n",
      "1146 1823\n"
     ]
    },
    {
     "data": {
      "image/png": "[encoded data removed]",
      "text/plain": [
       "<Figure size 640x480 with 1 Axes>"
      ]
     },
     "metadata": {},
     "output_type": "display_data"
    },
    {
     "name": "stdout",
     "output_type": "stream",
     "text": [
      "\n",
      "329 188\n"
     ]
    }
   ],
   "source": [
    "pos_neg_list = []\n",
    "for bank, bank_eng in zip(train_df['은행명'].unique(), bank_en_list):\n",
    "    # 은행별 긍정 부정 리뷰를 필터링\n",
    "    pos = train_df[(train_df['은행명'] == bank) & (train_df['긍정'] == 1)]\n",
    "    neg = train_df[(train_df['은행명'] == bank) & (train_df['긍정'] == 0)]\n",
    "    # 전역변수를 자동 생성해서 저장\n",
    "    globals()[f\"{bank_eng}_pos\"] = pos\n",
    "    globals()[f\"{bank_eng}_neg\"] = neg\n",
    "    pos_neg_list.append(f\"{bank_eng}_pos\")\n",
    "    pos_neg_list.append(f\"{bank_eng}_neg\")\n",
    "    \n",
    "    # 시각화\n",
    "    plt.bar(['긍정', '부정'], [pos.shape[0], neg.shape[0]], color=['skyblue', 'salmon'])\n",
    "    plt.title(f\"{bank} 긍부정 분포\")\n",
    "    plt.ylabel(\"리뷰수\")\n",
    "    plt.ylim(0, max(pos.shape[0], neg.shape[0] + 100))\n",
    "    plt.show()\n",
    "    print()\n",
    "    print(pos.shape[0], neg.shape[0])\n",
    "    "
   ]
  },
  {
   "cell_type": "code",
   "execution_count": 29,
   "id": "0f2d6998",
   "metadata": {},
   "outputs": [
    {
     "data": {
      "text/plain": [
       "['hana_pos',\n",
       " 'hana_neg',\n",
       " 'shinhan_pos',\n",
       " 'shinhan_neg',\n",
       " 'kb_pos',\n",
       " 'kb_neg',\n",
       " 'toss_pos',\n",
       " 'toss_neg',\n",
       " 'woori_pos',\n",
       " 'woori_neg',\n",
       " 'b_salad_pos',\n",
       " 'b_salad_neg']"
      ]
     },
     "execution_count": 29,
     "metadata": {},
     "output_type": "execute_result"
    }
   ],
   "source": [
    "pos_neg_list"
   ]
  },
  {
   "cell_type": "code",
   "execution_count": 44,
   "id": "9f27d155",
   "metadata": {
    "scrolled": false
   },
   "outputs": [],
   "source": [
    "# for bank in pos_neg_list:\n",
    "#     display(globals()[bank])"
   ]
  },
  {
   "cell_type": "markdown",
   "id": "774a81d1",
   "metadata": {},
   "source": [
    "모든 데이터 프레임에서 특수문자 제거하기"
   ]
  },
  {
   "cell_type": "code",
   "execution_count": 46,
   "id": "1a4c4703",
   "metadata": {},
   "outputs": [],
   "source": [
    "import re\n",
    "def text_clean(x):\n",
    "    pattern = r'[가-힣0-9a-zA-Z]+'\n",
    "    matches = re.findall(pattern, x)\n",
    "    matches = \" \".join(matches)\n",
    "    return matches"
   ]
  },
  {
   "cell_type": "code",
   "execution_count": 47,
   "id": "301ccb60",
   "metadata": {},
   "outputs": [
    {
     "name": "stderr",
     "output_type": "stream",
     "text": [
      "/tmp/ipykernel_12043/295539541.py:2: SettingWithCopyWarning: \n",
      "A value is trying to be set on a copy of a slice from a DataFrame.\n",
      "Try using .loc[row_indexer,col_indexer] = value instead\n",
      "\n",
      "See the caveats in the documentation: https://pandas.pydata.org/pandas-docs/stable/user_guide/indexing.html#returning-a-view-versus-a-copy\n",
      "  globals()[bank]['사용자리뷰'] = globals()[bank]['사용자리뷰'].apply(text_clean)\n"
     ]
    }
   ],
   "source": [
    "for bank in pos_neg_list:\n",
    "    globals()[bank]['사용자리뷰'] = globals()[bank]['사용자리뷰'].apply(text_clean)"
   ]
  },
  {
   "cell_type": "code",
   "execution_count": 48,
   "id": "5a92e647",
   "metadata": {},
   "outputs": [
    {
     "data": {
      "text/plain": [
       "0                  엄빠 폰에 설치해드렸는데 두분 다 쓰기 편하다고 하시네요 저도 쓰고있음\n",
       "27       Not Found 실행이 안됩니다 하나은행 어플 누르면 Not Found 메세지 뜨...\n",
       "58                 뱅킹 잘 이용하고 있어요 항상친절 하게 설명 해 주셔서 감사 수고하세요\n",
       "59                                                  잘쓰고잇어용\n",
       "66                                                   감사합니다\n",
       "                               ...                        \n",
       "22120                         입 출 현황을 확인할 수 있어 매우 편리하고 좋아요\n",
       "22165                                          최고입니다 감사합니다\n",
       "22196                                                감사합니다\n",
       "22202                                             간편하고 좋네요\n",
       "22214                                                  좋아요\n",
       "Name: 사용자리뷰, Length: 1042, dtype: object"
      ]
     },
     "execution_count": 48,
     "metadata": {},
     "output_type": "execute_result"
    }
   ],
   "source": [
    "hana_pos['사용자리뷰']"
   ]
  },
  {
   "cell_type": "code",
   "execution_count": null,
   "id": "4c0b47bf",
   "metadata": {},
   "outputs": [],
   "source": []
  },
  {
   "cell_type": "code",
   "execution_count": null,
   "id": "ebc11c01",
   "metadata": {},
   "outputs": [],
   "source": []
  },
  {
   "cell_type": "markdown",
   "id": "a7bbfd6a",
   "metadata": {},
   "source": [
    "# 은행별 긍부정 리뷰 워드클라우드 만들기"
   ]
  },
  {
   "cell_type": "code",
   "execution_count": 36,
   "id": "71fa3047",
   "metadata": {},
   "outputs": [],
   "source": [
    "# !pip install wordcloud"
   ]
  },
  {
   "cell_type": "code",
   "execution_count": 37,
   "id": "5c494afa",
   "metadata": {},
   "outputs": [],
   "source": [
    "from wordcloud import WordCloud\n",
    "from konlpy.tag import Mecab\n",
    "mecab= Mecab()"
   ]
  },
  {
   "cell_type": "code",
   "execution_count": 38,
   "id": "d9053375",
   "metadata": {},
   "outputs": [
    {
     "data": {
      "text/plain": [
       "['hana_pos',\n",
       " 'hana_neg',\n",
       " 'shinhan_pos',\n",
       " 'shinhan_neg',\n",
       " 'kb_pos',\n",
       " 'kb_neg',\n",
       " 'toss_pos',\n",
       " 'toss_neg',\n",
       " 'woori_pos',\n",
       " 'woori_neg',\n",
       " 'b_salad_pos',\n",
       " 'b_salad_neg']"
      ]
     },
     "execution_count": 38,
     "metadata": {},
     "output_type": "execute_result"
    }
   ],
   "source": [
    "pos_neg_list"
   ]
  },
  {
   "cell_type": "code",
   "execution_count": 51,
   "id": "e0a061a5",
   "metadata": {},
   "outputs": [
    {
     "data": {
      "text/plain": [
       "0                  엄빠 폰에 설치해드렸는데 두분 다 쓰기 편하다고 하시네요 저도 쓰고있음\n",
       "27       Not Found 실행이 안됩니다 하나은행 어플 누르면 Not Found 메세지 뜨...\n",
       "58                 뱅킹 잘 이용하고 있어요 항상친절 하게 설명 해 주셔서 감사 수고하세요\n",
       "59                                                  잘쓰고잇어용\n",
       "66                                                   감사합니다\n",
       "                               ...                        \n",
       "22120                         입 출 현황을 확인할 수 있어 매우 편리하고 좋아요\n",
       "22165                                          최고입니다 감사합니다\n",
       "22196                                                감사합니다\n",
       "22202                                             간편하고 좋네요\n",
       "22214                                                  좋아요\n",
       "Name: 사용자리뷰, Length: 1042, dtype: object"
      ]
     },
     "execution_count": 51,
     "metadata": {},
     "output_type": "execute_result"
    }
   ],
   "source": [
    "hana_pos['사용자리뷰']"
   ]
  },
  {
   "cell_type": "code",
   "execution_count": 54,
   "id": "e8b16341",
   "metadata": {},
   "outputs": [
    {
     "data": {
      "text/plain": [
       "(1042, 6)"
      ]
     },
     "execution_count": 54,
     "metadata": {},
     "output_type": "execute_result"
    }
   ],
   "source": [
    "hana_pos.shape"
   ]
  },
  {
   "cell_type": "code",
   "execution_count": 53,
   "id": "8e92d244",
   "metadata": {
    "scrolled": false
   },
   "outputs": [],
   "source": [
    "# 사용자리뷰 커럼을 Series에서 list 변경해서 담고\n",
    "# 다시 join으로 1개의 문자열로 변환\n",
    "text_data = hana_pos['사용자리뷰'].astype(str).tolist()\n",
    "full_text = \" \".join(text_data)\n",
    "\n",
    "# 불용어 세트 생성\n",
    "stopwords = set(['은행', '어플', '뱅킹'])\n",
    "\n",
    "# 명사 추출\n",
    "nouns = mecab.nouns(full_text)\n",
    "filtered = [word for word in nouns if len(word) > 1 and word not in stopwords]\n",
    "\n",
    "# 빈도수 집계\n"
   ]
  },
  {
   "cell_type": "code",
   "execution_count": null,
   "id": "1adcdb86",
   "metadata": {},
   "outputs": [],
   "source": []
  },
  {
   "cell_type": "code",
   "execution_count": null,
   "id": "86b4090d",
   "metadata": {},
   "outputs": [],
   "source": []
  },
  {
   "cell_type": "code",
   "execution_count": null,
   "id": "649cf45e",
   "metadata": {},
   "outputs": [],
   "source": []
  },
  {
   "cell_type": "code",
   "execution_count": null,
   "id": "24d6aa36",
   "metadata": {},
   "outputs": [],
   "source": []
  },
  {
   "cell_type": "code",
   "execution_count": null,
   "id": "44771fe3",
   "metadata": {},
   "outputs": [],
   "source": []
  }
 ],
 "metadata": {
  "kernelspec": {
   "display_name": "Python 3 (ipykernel)",
   "language": "python",
   "name": "python3"
  },
  "language_info": {
   "codemirror_mode": {
    "name": "ipython",
    "version": 3
   },
   "file_extension": ".py",
   "mimetype": "text/x-python",
   "name": "python",
   "nbconvert_exporter": "python",
   "pygments_lexer": "ipython3",
   "version": "3.10.17"
  }
 },
 "nbformat": 4,
 "nbformat_minor": 5
}
