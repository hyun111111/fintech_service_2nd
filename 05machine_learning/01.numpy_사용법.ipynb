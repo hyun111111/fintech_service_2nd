{
 "cells": [
  {
   "attachments": {},
   "cell_type": "markdown",
   "id": "241374c6",
   "metadata": {},
   "source": [
    "# numpy\n",
    "* https://numpy.org/learn/\n",
    "* numpy: Nemerical Python 과학적, 산업적 연산을 위한 패키지 \n",
    "* **다차원 배열, 행렬, 연산에 주로 사용**\n",
    "* numpy는 pyhton의 list와 비슷한 자료형\n",
    "* 순서가 있는 자료형\n",
    "* 파이썬의 list와의 차이는 자료형이 1가지만 들어간다.\n",
    "* "
   ]
  },
  {
   "cell_type": "markdown",
   "id": "37cadea2",
   "metadata": {},
   "source": [
    "# 차원\n",
    "* 0차원 = 점,  스칼라 a= 10\n",
    "* 1차원 = 선 ------ 벡터, 배열, list, tuple,[1,2,3,4]\n",
    "  * 벡터는 방향을 가진 데이터\n",
    "* 2차원 = 면, 가로 세로, DB 테이블, Dataframe, matrix\n",
    "* 3차원 = 입체, 가로, 세로, 깊이, 정육면체\n",
    "* 4차원 = 3차원 요소가 2개 이상\n",
    "* 5차원 = 4차원요소가 2개 이상"
   ]
  },
  {
   "cell_type": "code",
   "execution_count": 1,
   "id": "94083097",
   "metadata": {},
   "outputs": [],
   "source": [
    "import numpy as np"
   ]
  },
  {
   "cell_type": "code",
   "execution_count": 20,
   "id": "fc652d6e",
   "metadata": {},
   "outputs": [],
   "source": [
    "# 1차원 데이터\n",
    "a = np.array([1,2,3,4,5])"
   ]
  },
  {
   "cell_type": "code",
   "execution_count": 21,
   "id": "e1420d58",
   "metadata": {},
   "outputs": [],
   "source": [
    "s = 10\n",
    "# 스칼라"
   ]
  },
  {
   "cell_type": "markdown",
   "id": "ab8dcda9",
   "metadata": {},
   "source": [
    "* 차원을 출력하는 메서드 .ndim,\n",
    "* 차원의 형태를 출력하는 메서드 .shape"
   ]
  },
  {
   "cell_type": "code",
   "execution_count": 22,
   "id": "a26def36",
   "metadata": {},
   "outputs": [
    {
     "data": {
      "text/plain": [
       "1"
      ]
     },
     "execution_count": 22,
     "metadata": {},
     "output_type": "execute_result"
    }
   ],
   "source": [
    "# ndim\n",
    "a.ndim"
   ]
  },
  {
   "cell_type": "code",
   "execution_count": 23,
   "id": "ee9ca5af",
   "metadata": {},
   "outputs": [
    {
     "data": {
      "text/plain": [
       "(5,)"
      ]
     },
     "execution_count": 23,
     "metadata": {},
     "output_type": "execute_result"
    }
   ],
   "source": [
    "# 방향이 없는 벡터\n",
    "#(5, )로 표기되는 것은 그렇게 표기하고 있고 다른 방향이 있는 것을 표기하기 위한 것임,\n",
    "# 방향이 없음의 표기\n",
    "a.shape"
   ]
  },
  {
   "cell_type": "code",
   "execution_count": 24,
   "id": "560ba4c2",
   "metadata": {},
   "outputs": [],
   "source": [
    "# 2차원 데이터\n",
    "c = np.array([[1,2,3,4,5],[6,7,8,9,10]])"
   ]
  },
  {
   "cell_type": "code",
   "execution_count": 25,
   "id": "da2d2c16",
   "metadata": {},
   "outputs": [
    {
     "data": {
      "text/plain": [
       "array([[ 1,  2,  3,  4,  5],\n",
       "       [ 6,  7,  8,  9, 10]])"
      ]
     },
     "execution_count": 25,
     "metadata": {},
     "output_type": "execute_result"
    }
   ],
   "source": [
    "c"
   ]
  },
  {
   "cell_type": "code",
   "execution_count": 9,
   "id": "ad8cd18e",
   "metadata": {},
   "outputs": [
    {
     "data": {
      "text/plain": [
       "2"
      ]
     },
     "execution_count": 9,
     "metadata": {},
     "output_type": "execute_result"
    }
   ],
   "source": [
    "c.ndim"
   ]
  },
  {
   "cell_type": "code",
   "execution_count": 11,
   "id": "396ea643",
   "metadata": {},
   "outputs": [
    {
     "data": {
      "text/plain": [
       "(2, 5)"
      ]
     },
     "execution_count": 11,
     "metadata": {},
     "output_type": "execute_result"
    }
   ],
   "source": [
    "c.shape\n",
    "# 앞에가 행, 뒤에가 열"
   ]
  },
  {
   "cell_type": "code",
   "execution_count": 13,
   "id": "7aa661a5",
   "metadata": {},
   "outputs": [
    {
     "data": {
      "text/plain": [
       "array([[[ 1,  2,  3,  4,  5],\n",
       "        [ 6,  7,  8,  9, 10]],\n",
       "\n",
       "       [[ 1,  2,  3,  4,  5],\n",
       "        [ 6,  7,  8,  9, 10]]])"
      ]
     },
     "execution_count": 13,
     "metadata": {},
     "output_type": "execute_result"
    }
   ],
   "source": [
    "# 3차원 데이터\n",
    "d = np.array([[[1,2,3,4,5],[6,7,8,9,10]],[[1,2,3,4,5],[6,7,8,9,10]]])\n",
    "d"
   ]
  },
  {
   "cell_type": "code",
   "execution_count": 14,
   "id": "f3a689da",
   "metadata": {},
   "outputs": [
    {
     "data": {
      "text/plain": [
       "(2, 2, 5)"
      ]
     },
     "execution_count": 14,
     "metadata": {},
     "output_type": "execute_result"
    }
   ],
   "source": [
    "d.shape"
   ]
  },
  {
   "cell_type": "code",
   "execution_count": 16,
   "id": "95b09179",
   "metadata": {},
   "outputs": [
    {
     "data": {
      "text/plain": [
       "array([[[[ 1,  2,  3,  4,  5],\n",
       "         [ 6,  7,  8,  9, 10]],\n",
       "\n",
       "        [[ 1,  2,  3,  4,  5],\n",
       "         [ 6,  7,  8,  9, 10]]],\n",
       "\n",
       "\n",
       "       [[[ 1,  2,  3,  4,  5],\n",
       "         [ 6,  7,  8,  9, 10]],\n",
       "\n",
       "        [[ 1,  2,  3,  4,  5],\n",
       "         [ 6,  7,  8,  9, 10]]]])"
      ]
     },
     "execution_count": 16,
     "metadata": {},
     "output_type": "execute_result"
    }
   ],
   "source": [
    "# 4차원 데이터 \n",
    "e = np.array([[[[1,2,3,4,5],[6,7,8,9,10]],[[1,2,3,4,5],[6,7,8,9,10]]],[[[1,2,3,4,5],[6,7,8,9,10]],[[1,2,3,4,5],[6,7,8,9,10]]]])\n",
    "e"
   ]
  },
  {
   "cell_type": "code",
   "execution_count": 17,
   "id": "405fde28",
   "metadata": {},
   "outputs": [
    {
     "data": {
      "text/plain": [
       "4"
      ]
     },
     "execution_count": 17,
     "metadata": {},
     "output_type": "execute_result"
    }
   ],
   "source": [
    "e.ndim"
   ]
  },
  {
   "cell_type": "code",
   "execution_count": 18,
   "id": "1675246d",
   "metadata": {},
   "outputs": [
    {
     "data": {
      "text/plain": [
       "(2, 2, 2, 5)"
      ]
     },
     "execution_count": 18,
     "metadata": {},
     "output_type": "execute_result"
    }
   ],
   "source": [
    "e.shape"
   ]
  },
  {
   "cell_type": "code",
   "execution_count": 19,
   "id": "38656256",
   "metadata": {},
   "outputs": [
    {
     "data": {
      "text/plain": [
       "array([[[[[ 1,  2,  3,  4,  5],\n",
       "          [ 6,  7,  8,  9, 10]],\n",
       "\n",
       "         [[ 1,  2,  3,  4,  5],\n",
       "          [ 6,  7,  8,  9, 10]]],\n",
       "\n",
       "\n",
       "        [[[ 1,  2,  3,  4,  5],\n",
       "          [ 6,  7,  8,  9, 10]],\n",
       "\n",
       "         [[ 1,  2,  3,  4,  5],\n",
       "          [ 6,  7,  8,  9, 10]]]],\n",
       "\n",
       "\n",
       "\n",
       "       [[[[ 1,  2,  3,  4,  5],\n",
       "          [ 6,  7,  8,  9, 10]],\n",
       "\n",
       "         [[ 1,  2,  3,  4,  5],\n",
       "          [ 6,  7,  8,  9, 10]]],\n",
       "\n",
       "\n",
       "        [[[ 1,  2,  3,  4,  5],\n",
       "          [ 6,  7,  8,  9, 10]],\n",
       "\n",
       "         [[ 1,  2,  3,  4,  5],\n",
       "          [ 6,  7,  8,  9, 10]]]]])"
      ]
     },
     "execution_count": 19,
     "metadata": {},
     "output_type": "execute_result"
    }
   ],
   "source": [
    "# 5차원 데이터\n",
    "f = np.array([[[[[1,2,3,4,5],[6,7,8,9,10]],[[1,2,3,4,5],[6,7,8,9,10]]],[[[1,2,3,4,5],[6,7,8,9,10]],[[1,2,3,4,5],[6,7,8,9,10]]]],[[[[1,2,3,4,5],[6,7,8,9,10]],[[1,2,3,4,5],[6,7,8,9,10]]],[[[1,2,3,4,5],[6,7,8,9,10]],[[1,2,3,4,5],[6,7,8,9,10]]]]])\n",
    "f"
   ]
  },
  {
   "cell_type": "code",
   "execution_count": 28,
   "id": "5ff0d4b5",
   "metadata": {},
   "outputs": [
    {
     "data": {
      "text/plain": [
       "array([[1],\n",
       "       [2],\n",
       "       [3],\n",
       "       [4],\n",
       "       [5]])"
      ]
     },
     "execution_count": 28,
     "metadata": {},
     "output_type": "execute_result"
    }
   ],
   "source": [
    "a2 = np.array([[1],[2],[3],[4],[5]])\n",
    "a2"
   ]
  },
  {
   "cell_type": "code",
   "execution_count": 29,
   "id": "2fe5158b",
   "metadata": {},
   "outputs": [
    {
     "data": {
      "text/plain": [
       "(5, 1)"
      ]
     },
     "execution_count": 29,
     "metadata": {},
     "output_type": "execute_result"
    }
   ],
   "source": [
    "a2.shape"
   ]
  },
  {
   "cell_type": "markdown",
   "id": "318abe60",
   "metadata": {},
   "source": [
    "# 넘파이를 사용하는 이유\n",
    "* 행렬연산이 쉽고 빠르기 때문"
   ]
  },
  {
   "cell_type": "code",
   "execution_count": 30,
   "id": "72457887",
   "metadata": {},
   "outputs": [
    {
     "name": "stdout",
     "output_type": "stream",
     "text": [
      "15\n"
     ]
    }
   ],
   "source": [
    "# 스칼라 연산\n",
    "a = 10\n",
    "b = 5\n",
    "scalar = a+ b\n",
    "print(scalar)"
   ]
  },
  {
   "cell_type": "code",
   "execution_count": 31,
   "id": "e6642a5d",
   "metadata": {},
   "outputs": [
    {
     "data": {
      "text/plain": [
       "25"
      ]
     },
     "execution_count": 31,
     "metadata": {},
     "output_type": "execute_result"
    }
   ],
   "source": [
    "scalar+ 10"
   ]
  },
  {
   "cell_type": "code",
   "execution_count": 32,
   "id": "0f290a3f",
   "metadata": {},
   "outputs": [
    {
     "data": {
      "text/plain": [
       "[10, 20, 30, 40, 50]"
      ]
     },
     "execution_count": 32,
     "metadata": {},
     "output_type": "execute_result"
    }
   ],
   "source": [
    "# 1차원 데이터 백터의 연산\n",
    "b1 = [1,2,3,4,5]\n",
    "# 리스트의 요소에 10을 곱한 후 다시 리스트로 만드세요.\n",
    "result = []\n",
    "for num in b1:\n",
    "    result.append(num*10)\n",
    "result"
   ]
  },
  {
   "cell_type": "code",
   "execution_count": 33,
   "id": "864df9eb",
   "metadata": {},
   "outputs": [
    {
     "data": {
      "text/plain": [
       "[10, 20, 30, 40, 50]"
      ]
     },
     "execution_count": 33,
     "metadata": {},
     "output_type": "execute_result"
    }
   ],
   "source": [
    "result2 = [num*10 for num in b1]\n",
    "result2"
   ]
  },
  {
   "cell_type": "code",
   "execution_count": 35,
   "id": "91cea6de",
   "metadata": {},
   "outputs": [
    {
     "name": "stdout",
     "output_type": "stream",
     "text": [
      "[[1 2 3]\n",
      " [1 2 3]] 2 (2, 3)\n"
     ]
    }
   ],
   "source": [
    "# 2차원 데이터 계산 *10하기\n",
    "second = np.array([[1,2,3],[1,2,3]])\n",
    "print(second, second.ndim, second.shape)"
   ]
  },
  {
   "cell_type": "code",
   "execution_count": 108,
   "id": "ea948ec8",
   "metadata": {},
   "outputs": [],
   "source": [
    "result = []\n",
    "for num in second:\n",
    "    mid_result = []\n",
    "    for number in num:\n",
    "        mid_result.append(number * 10)\n",
    "    result.append(mid_result)\n",
    "result = np.array(result)"
   ]
  },
  {
   "cell_type": "code",
   "execution_count": 109,
   "id": "af9370f7",
   "metadata": {},
   "outputs": [
    {
     "data": {
      "text/plain": [
       "2"
      ]
     },
     "execution_count": 109,
     "metadata": {},
     "output_type": "execute_result"
    }
   ],
   "source": [
    "result.ndim"
   ]
  },
  {
   "cell_type": "code",
   "execution_count": 110,
   "id": "172bd663",
   "metadata": {},
   "outputs": [
    {
     "data": {
      "text/plain": [
       "(2, 3)"
      ]
     },
     "execution_count": 110,
     "metadata": {},
     "output_type": "execute_result"
    }
   ],
   "source": [
    "result.shape"
   ]
  },
  {
   "cell_type": "code",
   "execution_count": 37,
   "id": "d349d33e",
   "metadata": {},
   "outputs": [
    {
     "name": "stdout",
     "output_type": "stream",
     "text": [
      "[[[1 2 3]\n",
      "  [1 2 3]]\n",
      "\n",
      " [[1 2 3]\n",
      "  [1 2 3]]] 3 (2, 2, 3)\n"
     ]
    }
   ],
   "source": [
    "# 3차원 데이터의 요소에 10곱하기\n",
    "third = np.array([[[1,2,3],[1,2,3]],[[1,2,3],[1,2,3]]])\n",
    "print(third, third.ndim, third.shape)"
   ]
  },
  {
   "cell_type": "code",
   "execution_count": 111,
   "id": "8b264740",
   "metadata": {},
   "outputs": [],
   "source": [
    "result = []\n",
    "for num1 in third:\n",
    "    num1_result = []\n",
    "    for num2 in num1:\n",
    "        num2_result = []\n",
    "        for num3 in num2:\n",
    "            num2_result.append(num3 * 10)\n",
    "        num1_result.append(num2_result)\n",
    "    result.append(num1_result)\n",
    "result = np.array(result)"
   ]
  },
  {
   "cell_type": "code",
   "execution_count": 112,
   "id": "4365686d",
   "metadata": {},
   "outputs": [
    {
     "data": {
      "text/plain": [
       "3"
      ]
     },
     "execution_count": 112,
     "metadata": {},
     "output_type": "execute_result"
    }
   ],
   "source": [
    "result.ndim"
   ]
  },
  {
   "cell_type": "code",
   "execution_count": 113,
   "id": "0c880092",
   "metadata": {},
   "outputs": [
    {
     "data": {
      "text/plain": [
       "array([[[10, 20, 30],\n",
       "        [10, 20, 30]],\n",
       "\n",
       "       [[10, 20, 30],\n",
       "        [10, 20, 30]]])"
      ]
     },
     "execution_count": 113,
     "metadata": {},
     "output_type": "execute_result"
    }
   ],
   "source": [
    "result"
   ]
  },
  {
   "cell_type": "code",
   "execution_count": 42,
   "id": "cc2ef4bf",
   "metadata": {},
   "outputs": [],
   "source": [
    "# 4차원 데이터에 10곱하기\n",
    "forth = np.array([[[[1,2,3],[1,2,3]],[[1,2,3],[1,2,3]]],[[[1,2,3],[1,2,3]],[[1,2,3],[1,2,3]]]])"
   ]
  },
  {
   "cell_type": "code",
   "execution_count": 43,
   "id": "dadd11fa",
   "metadata": {},
   "outputs": [
    {
     "data": {
      "text/plain": [
       "array([[[[10, 20, 30],\n",
       "         [10, 20, 30]],\n",
       "\n",
       "        [[10, 20, 30],\n",
       "         [10, 20, 30]]],\n",
       "\n",
       "\n",
       "       [[[10, 20, 30],\n",
       "         [10, 20, 30]],\n",
       "\n",
       "        [[10, 20, 30],\n",
       "         [10, 20, 30]]]])"
      ]
     },
     "execution_count": 43,
     "metadata": {},
     "output_type": "execute_result"
    }
   ],
   "source": [
    "forth * 10"
   ]
  },
  {
   "cell_type": "code",
   "execution_count": 47,
   "id": "3ad112c1",
   "metadata": {},
   "outputs": [
    {
     "name": "stdout",
     "output_type": "stream",
     "text": [
      "5 (2, 2, 2, 2, 3)\n"
     ]
    }
   ],
   "source": [
    "# 5차원 데이터에 10 곱하기\n",
    "fifth = np.array([[[[[1,2,3],[1,2,3]],[[1,2,3],[1,2,3]]],[[[1,2,3],[1,2,3]],[[1,2,3],[1,2,3]]]],[[[[1,2,3],[1,2,3]],[[1,2,3],[1,2,3]]],[[[1,2,3],[1,2,3]],[[1,2,3],[1,2,3]]]]])\n",
    "print(fifth.ndim, fifth.shape)"
   ]
  },
  {
   "cell_type": "code",
   "execution_count": 48,
   "id": "997c9db6",
   "metadata": {},
   "outputs": [
    {
     "data": {
      "text/plain": [
       "array([[[[[10, 20, 30],\n",
       "          [10, 20, 30]],\n",
       "\n",
       "         [[10, 20, 30],\n",
       "          [10, 20, 30]]],\n",
       "\n",
       "\n",
       "        [[[10, 20, 30],\n",
       "          [10, 20, 30]],\n",
       "\n",
       "         [[10, 20, 30],\n",
       "          [10, 20, 30]]]],\n",
       "\n",
       "\n",
       "\n",
       "       [[[[10, 20, 30],\n",
       "          [10, 20, 30]],\n",
       "\n",
       "         [[10, 20, 30],\n",
       "          [10, 20, 30]]],\n",
       "\n",
       "\n",
       "        [[[10, 20, 30],\n",
       "          [10, 20, 30]],\n",
       "\n",
       "         [[10, 20, 30],\n",
       "          [10, 20, 30]]]]])"
      ]
     },
     "execution_count": 48,
     "metadata": {},
     "output_type": "execute_result"
    }
   ],
   "source": [
    "fifth * 10"
   ]
  },
  {
   "cell_type": "markdown",
   "id": "16655d7b",
   "metadata": {},
   "source": [
    "# numpy 에서 자주 사용하는 메서드\n",
    "* .ndim: 몇 차원인지 보는 것\n",
    "* .shape: 몇차원, 몇행, 몇열로 되어있는지 구조 확인\n",
    "* .size: 배열안에 있는 요소의 총 개수가 몇 개인지\n",
    "* .dtype: 데이터 타입이 무엇인지"
   ]
  },
  {
   "cell_type": "code",
   "execution_count": 49,
   "id": "7ce3f817",
   "metadata": {},
   "outputs": [
    {
     "data": {
      "text/plain": [
       "5"
      ]
     },
     "execution_count": 49,
     "metadata": {},
     "output_type": "execute_result"
    }
   ],
   "source": [
    "fifth.ndim"
   ]
  },
  {
   "cell_type": "code",
   "execution_count": 50,
   "id": "58a08544",
   "metadata": {},
   "outputs": [
    {
     "data": {
      "text/plain": [
       "(2, 2, 2, 2, 3)"
      ]
     },
     "execution_count": 50,
     "metadata": {},
     "output_type": "execute_result"
    }
   ],
   "source": [
    "fifth.shape"
   ]
  },
  {
   "cell_type": "code",
   "execution_count": 51,
   "id": "69ac6043",
   "metadata": {},
   "outputs": [
    {
     "data": {
      "text/plain": [
       "48"
      ]
     },
     "execution_count": 51,
     "metadata": {},
     "output_type": "execute_result"
    }
   ],
   "source": [
    "fifth.size"
   ]
  },
  {
   "cell_type": "code",
   "execution_count": 54,
   "id": "8adf6471",
   "metadata": {},
   "outputs": [
    {
     "data": {
      "text/plain": [
       "dtype('int64')"
      ]
     },
     "execution_count": 54,
     "metadata": {},
     "output_type": "execute_result"
    }
   ],
   "source": [
    "fifth.dtype\n",
    "# 'int64', 'int32', 'int16'등의 표현식으로 나눔. 표현식의 범위에 따라 자료의 범위가 다르고, 용량이 커지기 때문에 최적화를 잘 해줘야함\n",
    "# 'float64' 소수도 표현 가능함"
   ]
  },
  {
   "cell_type": "markdown",
   "id": "5268baf9",
   "metadata": {},
   "source": [
    "# ndarray 만들기\n",
    "* numpy의 기본 자료형 ndarray(n차원(demention)배열(array))\n",
    "* np.array(리스트/튜플)\n",
    "* 자료형은 반드시 한가지 자료형으로만 만든다."
   ]
  },
  {
   "cell_type": "code",
   "execution_count": 56,
   "id": "59a2934d",
   "metadata": {},
   "outputs": [
    {
     "ename": "TypeError",
     "evalue": "array() takes from 1 to 2 positional arguments but 5 were given",
     "output_type": "error",
     "traceback": [
      "\u001b[1;31m---------------------------------------------------------------------------\u001b[0m",
      "\u001b[1;31mTypeError\u001b[0m                                 Traceback (most recent call last)",
      "Cell \u001b[1;32mIn[56], line 1\u001b[0m\n\u001b[1;32m----> 1\u001b[0m e \u001b[38;5;241m=\u001b[39m \u001b[43mnp\u001b[49m\u001b[38;5;241;43m.\u001b[39;49m\u001b[43marray\u001b[49m\u001b[43m(\u001b[49m\u001b[38;5;241;43m1\u001b[39;49m\u001b[43m,\u001b[49m\u001b[38;5;241;43m2\u001b[39;49m\u001b[43m,\u001b[49m\u001b[38;5;241;43m3\u001b[39;49m\u001b[43m,\u001b[49m\u001b[38;5;241;43m4\u001b[39;49m\u001b[43m,\u001b[49m\u001b[38;5;241;43m5\u001b[39;49m\u001b[43m)\u001b[49m\n",
      "\u001b[1;31mTypeError\u001b[0m: array() takes from 1 to 2 positional arguments but 5 were given"
     ]
    }
   ],
   "source": [
    "e = np.array(1,2,3,4,5)"
   ]
  },
  {
   "cell_type": "code",
   "execution_count": 55,
   "id": "3d500968",
   "metadata": {},
   "outputs": [
    {
     "name": "stdout",
     "output_type": "stream",
     "text": [
      "1 2 3 4 5\n"
     ]
    }
   ],
   "source": [
    "print(*[1,2,3,4,5])"
   ]
  },
  {
   "cell_type": "code",
   "execution_count": 58,
   "id": "8613f3d5",
   "metadata": {},
   "outputs": [
    {
     "data": {
      "text/plain": [
       "array([1, 2, 3, 4, 5])"
      ]
     },
     "execution_count": 58,
     "metadata": {},
     "output_type": "execute_result"
    }
   ],
   "source": [
    "e = np.array([1,2,3,4,5])\n",
    "e"
   ]
  },
  {
   "cell_type": "code",
   "execution_count": 62,
   "id": "3303eae1",
   "metadata": {},
   "outputs": [
    {
     "name": "stdout",
     "output_type": "stream",
     "text": [
      "[1.   2.   3.14 4.   5.  ]\n"
     ]
    },
    {
     "data": {
      "text/plain": [
       "dtype('float64')"
      ]
     },
     "execution_count": 62,
     "metadata": {},
     "output_type": "execute_result"
    }
   ],
   "source": [
    "e2 = np.array([1,2,3.14,4,5])\n",
    "print(e2)\n",
    "e2.dtype"
   ]
  },
  {
   "cell_type": "code",
   "execution_count": 65,
   "id": "1c5b716e",
   "metadata": {},
   "outputs": [
    {
     "name": "stdout",
     "output_type": "stream",
     "text": [
      "['True' '1' '2' '3' '4' '5']\n"
     ]
    },
    {
     "data": {
      "text/plain": [
       "dtype('<U21')"
      ]
     },
     "execution_count": 65,
     "metadata": {},
     "output_type": "execute_result"
    }
   ],
   "source": [
    "e3 = np.array([True,1,2,3,\"4\",5])\n",
    "print(e3)\n",
    "e3.dtype # 문자열 표기 "
   ]
  },
  {
   "cell_type": "markdown",
   "id": "df8cb2af",
   "metadata": {},
   "source": [
    "### 타입을 잘 넣어야 바뀌지 않는다."
   ]
  },
  {
   "cell_type": "markdown",
   "id": "49db4c02",
   "metadata": {},
   "source": [
    "* np.arange(시작,끝, step)"
   ]
  },
  {
   "cell_type": "code",
   "execution_count": 67,
   "id": "7af27b19",
   "metadata": {},
   "outputs": [
    {
     "data": {
      "text/plain": [
       "array([ 0,  1,  2,  3,  4,  5,  6,  7,  8,  9, 10, 11, 12, 13, 14, 15, 16,\n",
       "       17, 18, 19, 20, 21, 22, 23])"
      ]
     },
     "execution_count": 67,
     "metadata": {},
     "output_type": "execute_result"
    }
   ],
   "source": [
    "a = np.arange(24)\n",
    "a"
   ]
  },
  {
   "cell_type": "code",
   "execution_count": 69,
   "id": "2757c733",
   "metadata": {},
   "outputs": [
    {
     "data": {
      "text/plain": [
       "array([1, 3, 5, 7, 9])"
      ]
     },
     "execution_count": 69,
     "metadata": {},
     "output_type": "execute_result"
    }
   ],
   "source": [
    "a = np.arange(1,11,2)\n",
    "a"
   ]
  },
  {
   "cell_type": "code",
   "execution_count": 70,
   "id": "a0a07505",
   "metadata": {},
   "outputs": [
    {
     "data": {
      "text/plain": [
       "array([11,  8,  5,  2])"
      ]
     },
     "execution_count": 70,
     "metadata": {},
     "output_type": "execute_result"
    }
   ],
   "source": [
    "a2 = np.arange(11,1, -3)\n",
    "a2"
   ]
  },
  {
   "cell_type": "code",
   "execution_count": 71,
   "id": "0f0fb9a1",
   "metadata": {},
   "outputs": [
    {
     "data": {
      "text/plain": [
       "array([  1,   2,   3,   4,   5,   6,   7,   8,   9,  10,  11,  12,  13,\n",
       "        14,  15,  16,  17,  18,  19,  20,  21,  22,  23,  24,  25,  26,\n",
       "        27,  28,  29,  30,  31,  32,  33,  34,  35,  36,  37,  38,  39,\n",
       "        40,  41,  42,  43,  44,  45,  46,  47,  48,  49,  50,  51,  52,\n",
       "        53,  54,  55,  56,  57,  58,  59,  60,  61,  62,  63,  64,  65,\n",
       "        66,  67,  68,  69,  70,  71,  72,  73,  74,  75,  76,  77,  78,\n",
       "        79,  80,  81,  82,  83,  84,  85,  86,  87,  88,  89,  90,  91,\n",
       "        92,  93,  94,  95,  96,  97,  98,  99, 100])"
      ]
     },
     "execution_count": 71,
     "metadata": {},
     "output_type": "execute_result"
    }
   ],
   "source": [
    "# 1-100까지 있는 array\n",
    "a3 = np.arange(1, 101)\n",
    "a3"
   ]
  },
  {
   "cell_type": "code",
   "execution_count": 74,
   "id": "09864206",
   "metadata": {},
   "outputs": [
    {
     "name": "stdout",
     "output_type": "stream",
     "text": [
      "1\n",
      "(100,)\n",
      "2\n",
      "(20, 5)\n"
     ]
    }
   ],
   "source": [
    "# .reshape(행,열) 벡터를 원하는 크기의 matrix 또는 다차원 배열로 변환\n",
    "print(a3.ndim)\n",
    "print(a3.shape)\n",
    "a4 = a3.reshape(20, 5)\n",
    "print(a4.ndim)\n",
    "print(a4.shape)"
   ]
  },
  {
   "cell_type": "code",
   "execution_count": 75,
   "id": "6a363bfc",
   "metadata": {},
   "outputs": [
    {
     "data": {
      "text/plain": [
       "array([[[  1,   2,   3,   4,   5],\n",
       "        [  6,   7,   8,   9,  10],\n",
       "        [ 11,  12,  13,  14,  15],\n",
       "        [ 16,  17,  18,  19,  20]],\n",
       "\n",
       "       [[ 21,  22,  23,  24,  25],\n",
       "        [ 26,  27,  28,  29,  30],\n",
       "        [ 31,  32,  33,  34,  35],\n",
       "        [ 36,  37,  38,  39,  40]],\n",
       "\n",
       "       [[ 41,  42,  43,  44,  45],\n",
       "        [ 46,  47,  48,  49,  50],\n",
       "        [ 51,  52,  53,  54,  55],\n",
       "        [ 56,  57,  58,  59,  60]],\n",
       "\n",
       "       [[ 61,  62,  63,  64,  65],\n",
       "        [ 66,  67,  68,  69,  70],\n",
       "        [ 71,  72,  73,  74,  75],\n",
       "        [ 76,  77,  78,  79,  80]],\n",
       "\n",
       "       [[ 81,  82,  83,  84,  85],\n",
       "        [ 86,  87,  88,  89,  90],\n",
       "        [ 91,  92,  93,  94,  95],\n",
       "        [ 96,  97,  98,  99, 100]]])"
      ]
     },
     "execution_count": 75,
     "metadata": {},
     "output_type": "execute_result"
    }
   ],
   "source": [
    "a5 = a3.reshape(5,4,5)\n",
    "a5"
   ]
  },
  {
   "cell_type": "code",
   "execution_count": null,
   "id": "0a9f5c77",
   "metadata": {},
   "outputs": [],
   "source": [
    "a6 = a3.reshape(25, )\n",
    "print(a6.ndim)\n",
    "print(a6.shape)"
   ]
  },
  {
   "cell_type": "code",
   "execution_count": 77,
   "id": "fdcbd9c6",
   "metadata": {},
   "outputs": [
    {
     "data": {
      "text/plain": [
       "array([  1,   2,   3,   4,   5,   6,   7,   8,   9,  10,  11,  12,  13,\n",
       "        14,  15,  16,  17,  18,  19,  20,  21,  22,  23,  24,  25,  26,\n",
       "        27,  28,  29,  30,  31,  32,  33,  34,  35,  36,  37,  38,  39,\n",
       "        40,  41,  42,  43,  44,  45,  46,  47,  48,  49,  50,  51,  52,\n",
       "        53,  54,  55,  56,  57,  58,  59,  60,  61,  62,  63,  64,  65,\n",
       "        66,  67,  68,  69,  70,  71,  72,  73,  74,  75,  76,  77,  78,\n",
       "        79,  80,  81,  82,  83,  84,  85,  86,  87,  88,  89,  90,  91,\n",
       "        92,  93,  94,  95,  96,  97,  98,  99, 100])"
      ]
     },
     "execution_count": 77,
     "metadata": {},
     "output_type": "execute_result"
    }
   ],
   "source": [
    "# fattren() : 다차원의 배열을 1차원으로 펼쳐줌\n",
    "a5.flatten()"
   ]
  },
  {
   "cell_type": "code",
   "execution_count": 79,
   "id": "8e55b740",
   "metadata": {},
   "outputs": [
    {
     "data": {
      "text/plain": [
       "array([[[[ 0,  1],\n",
       "         [ 2,  3]],\n",
       "\n",
       "        [[ 4,  5],\n",
       "         [ 6,  7]]],\n",
       "\n",
       "\n",
       "       [[[ 8,  9],\n",
       "         [10, 11]],\n",
       "\n",
       "        [[12, 13],\n",
       "         [14, 15]]],\n",
       "\n",
       "\n",
       "       [[[16, 17],\n",
       "         [18, 19]],\n",
       "\n",
       "        [[20, 21],\n",
       "         [22, 23]]]])"
      ]
     },
     "execution_count": 79,
     "metadata": {},
     "output_type": "execute_result"
    }
   ],
   "source": [
    "a7 = np.arange(24)\n",
    "a7 = a7.reshape(3,2,2,2)\n",
    "a7"
   ]
  },
  {
   "cell_type": "code",
   "execution_count": 80,
   "id": "607c843b",
   "metadata": {},
   "outputs": [
    {
     "data": {
      "text/plain": [
       "4"
      ]
     },
     "execution_count": 80,
     "metadata": {},
     "output_type": "execute_result"
    }
   ],
   "source": [
    "a7.ndim"
   ]
  },
  {
   "cell_type": "code",
   "execution_count": 81,
   "id": "ddce804f",
   "metadata": {},
   "outputs": [
    {
     "data": {
      "text/plain": [
       "(3, 2, 2, 2)"
      ]
     },
     "execution_count": 81,
     "metadata": {},
     "output_type": "execute_result"
    }
   ],
   "source": [
    "a7.shape"
   ]
  },
  {
   "cell_type": "code",
   "execution_count": 83,
   "id": "5a9b743b",
   "metadata": {},
   "outputs": [
    {
     "data": {
      "text/plain": [
       "array([ 0,  1,  2,  3,  4,  5,  6,  7,  8,  9, 10, 11, 12, 13, 14, 15, 16,\n",
       "       17, 18, 19, 20, 21, 22, 23])"
      ]
     },
     "execution_count": 83,
     "metadata": {},
     "output_type": "execute_result"
    }
   ],
   "source": [
    "a72 = a7.flatten()\n",
    "a72"
   ]
  },
  {
   "cell_type": "code",
   "execution_count": 84,
   "id": "732b7cfd",
   "metadata": {},
   "outputs": [
    {
     "data": {
      "text/plain": [
       "array([[[[ 0,  1],\n",
       "         [ 2,  3]],\n",
       "\n",
       "        [[ 4,  5],\n",
       "         [ 6,  7]]],\n",
       "\n",
       "\n",
       "       [[[ 8,  9],\n",
       "         [10, 11]],\n",
       "\n",
       "        [[12, 13],\n",
       "         [14, 15]]],\n",
       "\n",
       "\n",
       "       [[[16, 17],\n",
       "         [18, 19]],\n",
       "\n",
       "        [[20, 21],\n",
       "         [22, 23]]]])"
      ]
     },
     "execution_count": 84,
     "metadata": {},
     "output_type": "execute_result"
    }
   ],
   "source": [
    "a73 = a72.reshape(3,2,2,2)\n",
    "a73"
   ]
  },
  {
   "cell_type": "code",
   "execution_count": 85,
   "id": "7e012f33",
   "metadata": {},
   "outputs": [
    {
     "data": {
      "text/plain": [
       "4"
      ]
     },
     "execution_count": 85,
     "metadata": {},
     "output_type": "execute_result"
    }
   ],
   "source": [
    "a73.ndim"
   ]
  },
  {
   "cell_type": "markdown",
   "id": "8363bb3e",
   "metadata": {},
   "source": [
    "### np.flip() 행렬의 순서를 뒤집을 때\n"
   ]
  },
  {
   "cell_type": "code",
   "execution_count": 86,
   "id": "b2427f3f",
   "metadata": {},
   "outputs": [
    {
     "data": {
      "text/plain": [
       "array([[[[23, 22],\n",
       "         [21, 20]],\n",
       "\n",
       "        [[19, 18],\n",
       "         [17, 16]]],\n",
       "\n",
       "\n",
       "       [[[15, 14],\n",
       "         [13, 12]],\n",
       "\n",
       "        [[11, 10],\n",
       "         [ 9,  8]]],\n",
       "\n",
       "\n",
       "       [[[ 7,  6],\n",
       "         [ 5,  4]],\n",
       "\n",
       "        [[ 3,  2],\n",
       "         [ 1,  0]]]])"
      ]
     },
     "execution_count": 86,
     "metadata": {},
     "output_type": "execute_result"
    }
   ],
   "source": [
    "np.flip(a73)"
   ]
  },
  {
   "cell_type": "code",
   "execution_count": 90,
   "id": "d391434f",
   "metadata": {
    "scrolled": true
   },
   "outputs": [
    {
     "data": {
      "text/plain": [
       "array([[[[16, 17],\n",
       "         [18, 19]],\n",
       "\n",
       "        [[20, 21],\n",
       "         [22, 23]]],\n",
       "\n",
       "\n",
       "       [[[ 8,  9],\n",
       "         [10, 11]],\n",
       "\n",
       "        [[12, 13],\n",
       "         [14, 15]]],\n",
       "\n",
       "\n",
       "       [[[ 0,  1],\n",
       "         [ 2,  3]],\n",
       "\n",
       "        [[ 4,  5],\n",
       "         [ 6,  7]]]])"
      ]
     },
     "execution_count": 90,
     "metadata": {},
     "output_type": "execute_result"
    }
   ],
   "source": [
    "a73[::-1]"
   ]
  },
  {
   "cell_type": "markdown",
   "id": "8e18b018",
   "metadata": {},
   "source": [
    "## np.linspace(시작, 끝, 구간 수): 정해진 숫자 범위 안에서 균등하게 구간을 나눌 때\n",
    "* 반드시 시작과 끝은 입력수이다. "
   ]
  },
  {
   "cell_type": "code",
   "execution_count": 91,
   "id": "8a6dc49d",
   "metadata": {},
   "outputs": [
    {
     "data": {
      "text/plain": [
       "array([ 1.,  2.,  3.,  4.,  5.,  6.,  7.,  8.,  9., 10.])"
      ]
     },
     "execution_count": 91,
     "metadata": {},
     "output_type": "execute_result"
    }
   ],
   "source": [
    "# np.linspace(시작, 끝, 구간 수): 정해진 숫자 범위 안에서 균등하게 구간을 나눌 때\n",
    "np.linspace(1, 10, 10)"
   ]
  },
  {
   "cell_type": "code",
   "execution_count": 92,
   "id": "77e922a6",
   "metadata": {},
   "outputs": [
    {
     "data": {
      "text/plain": [
       "array([ 1.     ,  1.28125,  1.5625 ,  1.84375,  2.125  ,  2.40625,\n",
       "        2.6875 ,  2.96875,  3.25   ,  3.53125,  3.8125 ,  4.09375,\n",
       "        4.375  ,  4.65625,  4.9375 ,  5.21875,  5.5    ,  5.78125,\n",
       "        6.0625 ,  6.34375,  6.625  ,  6.90625,  7.1875 ,  7.46875,\n",
       "        7.75   ,  8.03125,  8.3125 ,  8.59375,  8.875  ,  9.15625,\n",
       "        9.4375 ,  9.71875, 10.     ])"
      ]
     },
     "execution_count": 92,
     "metadata": {},
     "output_type": "execute_result"
    }
   ],
   "source": [
    "np.linspace(1, 10, 33)"
   ]
  },
  {
   "cell_type": "code",
   "execution_count": 93,
   "id": "d2ec8bfe",
   "metadata": {
    "scrolled": false
   },
   "outputs": [
    {
     "data": {
      "text/plain": [
       "array([ 1.        ,  1.01672862,  1.03345725,  1.05018587,  1.0669145 ,\n",
       "        1.08364312,  1.10037175,  1.11710037,  1.133829  ,  1.15055762,\n",
       "        1.16728625,  1.18401487,  1.20074349,  1.21747212,  1.23420074,\n",
       "        1.25092937,  1.26765799,  1.28438662,  1.30111524,  1.31784387,\n",
       "        1.33457249,  1.35130112,  1.36802974,  1.38475836,  1.40148699,\n",
       "        1.41821561,  1.43494424,  1.45167286,  1.46840149,  1.48513011,\n",
       "        1.50185874,  1.51858736,  1.53531599,  1.55204461,  1.56877323,\n",
       "        1.58550186,  1.60223048,  1.61895911,  1.63568773,  1.65241636,\n",
       "        1.66914498,  1.68587361,  1.70260223,  1.71933086,  1.73605948,\n",
       "        1.7527881 ,  1.76951673,  1.78624535,  1.80297398,  1.8197026 ,\n",
       "        1.83643123,  1.85315985,  1.86988848,  1.8866171 ,  1.90334572,\n",
       "        1.92007435,  1.93680297,  1.9535316 ,  1.97026022,  1.98698885,\n",
       "        2.00371747,  2.0204461 ,  2.03717472,  2.05390335,  2.07063197,\n",
       "        2.08736059,  2.10408922,  2.12081784,  2.13754647,  2.15427509,\n",
       "        2.17100372,  2.18773234,  2.20446097,  2.22118959,  2.23791822,\n",
       "        2.25464684,  2.27137546,  2.28810409,  2.30483271,  2.32156134,\n",
       "        2.33828996,  2.35501859,  2.37174721,  2.38847584,  2.40520446,\n",
       "        2.42193309,  2.43866171,  2.45539033,  2.47211896,  2.48884758,\n",
       "        2.50557621,  2.52230483,  2.53903346,  2.55576208,  2.57249071,\n",
       "        2.58921933,  2.60594796,  2.62267658,  2.6394052 ,  2.65613383,\n",
       "        2.67286245,  2.68959108,  2.7063197 ,  2.72304833,  2.73977695,\n",
       "        2.75650558,  2.7732342 ,  2.78996283,  2.80669145,  2.82342007,\n",
       "        2.8401487 ,  2.85687732,  2.87360595,  2.89033457,  2.9070632 ,\n",
       "        2.92379182,  2.94052045,  2.95724907,  2.9739777 ,  2.99070632,\n",
       "        3.00743494,  3.02416357,  3.04089219,  3.05762082,  3.07434944,\n",
       "        3.09107807,  3.10780669,  3.12453532,  3.14126394,  3.15799257,\n",
       "        3.17472119,  3.19144981,  3.20817844,  3.22490706,  3.24163569,\n",
       "        3.25836431,  3.27509294,  3.29182156,  3.30855019,  3.32527881,\n",
       "        3.34200743,  3.35873606,  3.37546468,  3.39219331,  3.40892193,\n",
       "        3.42565056,  3.44237918,  3.45910781,  3.47583643,  3.49256506,\n",
       "        3.50929368,  3.5260223 ,  3.54275093,  3.55947955,  3.57620818,\n",
       "        3.5929368 ,  3.60966543,  3.62639405,  3.64312268,  3.6598513 ,\n",
       "        3.67657993,  3.69330855,  3.71003717,  3.7267658 ,  3.74349442,\n",
       "        3.76022305,  3.77695167,  3.7936803 ,  3.81040892,  3.82713755,\n",
       "        3.84386617,  3.8605948 ,  3.87732342,  3.89405204,  3.91078067,\n",
       "        3.92750929,  3.94423792,  3.96096654,  3.97769517,  3.99442379,\n",
       "        4.01115242,  4.02788104,  4.04460967,  4.06133829,  4.07806691,\n",
       "        4.09479554,  4.11152416,  4.12825279,  4.14498141,  4.16171004,\n",
       "        4.17843866,  4.19516729,  4.21189591,  4.22862454,  4.24535316,\n",
       "        4.26208178,  4.27881041,  4.29553903,  4.31226766,  4.32899628,\n",
       "        4.34572491,  4.36245353,  4.37918216,  4.39591078,  4.41263941,\n",
       "        4.42936803,  4.44609665,  4.46282528,  4.4795539 ,  4.49628253,\n",
       "        4.51301115,  4.52973978,  4.5464684 ,  4.56319703,  4.57992565,\n",
       "        4.59665428,  4.6133829 ,  4.63011152,  4.64684015,  4.66356877,\n",
       "        4.6802974 ,  4.69702602,  4.71375465,  4.73048327,  4.7472119 ,\n",
       "        4.76394052,  4.78066914,  4.79739777,  4.81412639,  4.83085502,\n",
       "        4.84758364,  4.86431227,  4.88104089,  4.89776952,  4.91449814,\n",
       "        4.93122677,  4.94795539,  4.96468401,  4.98141264,  4.99814126,\n",
       "        5.01486989,  5.03159851,  5.04832714,  5.06505576,  5.08178439,\n",
       "        5.09851301,  5.11524164,  5.13197026,  5.14869888,  5.16542751,\n",
       "        5.18215613,  5.19888476,  5.21561338,  5.23234201,  5.24907063,\n",
       "        5.26579926,  5.28252788,  5.29925651,  5.31598513,  5.33271375,\n",
       "        5.34944238,  5.366171  ,  5.38289963,  5.39962825,  5.41635688,\n",
       "        5.4330855 ,  5.44981413,  5.46654275,  5.48327138,  5.5       ,\n",
       "        5.51672862,  5.53345725,  5.55018587,  5.5669145 ,  5.58364312,\n",
       "        5.60037175,  5.61710037,  5.633829  ,  5.65055762,  5.66728625,\n",
       "        5.68401487,  5.70074349,  5.71747212,  5.73420074,  5.75092937,\n",
       "        5.76765799,  5.78438662,  5.80111524,  5.81784387,  5.83457249,\n",
       "        5.85130112,  5.86802974,  5.88475836,  5.90148699,  5.91821561,\n",
       "        5.93494424,  5.95167286,  5.96840149,  5.98513011,  6.00185874,\n",
       "        6.01858736,  6.03531599,  6.05204461,  6.06877323,  6.08550186,\n",
       "        6.10223048,  6.11895911,  6.13568773,  6.15241636,  6.16914498,\n",
       "        6.18587361,  6.20260223,  6.21933086,  6.23605948,  6.2527881 ,\n",
       "        6.26951673,  6.28624535,  6.30297398,  6.3197026 ,  6.33643123,\n",
       "        6.35315985,  6.36988848,  6.3866171 ,  6.40334572,  6.42007435,\n",
       "        6.43680297,  6.4535316 ,  6.47026022,  6.48698885,  6.50371747,\n",
       "        6.5204461 ,  6.53717472,  6.55390335,  6.57063197,  6.58736059,\n",
       "        6.60408922,  6.62081784,  6.63754647,  6.65427509,  6.67100372,\n",
       "        6.68773234,  6.70446097,  6.72118959,  6.73791822,  6.75464684,\n",
       "        6.77137546,  6.78810409,  6.80483271,  6.82156134,  6.83828996,\n",
       "        6.85501859,  6.87174721,  6.88847584,  6.90520446,  6.92193309,\n",
       "        6.93866171,  6.95539033,  6.97211896,  6.98884758,  7.00557621,\n",
       "        7.02230483,  7.03903346,  7.05576208,  7.07249071,  7.08921933,\n",
       "        7.10594796,  7.12267658,  7.1394052 ,  7.15613383,  7.17286245,\n",
       "        7.18959108,  7.2063197 ,  7.22304833,  7.23977695,  7.25650558,\n",
       "        7.2732342 ,  7.28996283,  7.30669145,  7.32342007,  7.3401487 ,\n",
       "        7.35687732,  7.37360595,  7.39033457,  7.4070632 ,  7.42379182,\n",
       "        7.44052045,  7.45724907,  7.4739777 ,  7.49070632,  7.50743494,\n",
       "        7.52416357,  7.54089219,  7.55762082,  7.57434944,  7.59107807,\n",
       "        7.60780669,  7.62453532,  7.64126394,  7.65799257,  7.67472119,\n",
       "        7.69144981,  7.70817844,  7.72490706,  7.74163569,  7.75836431,\n",
       "        7.77509294,  7.79182156,  7.80855019,  7.82527881,  7.84200743,\n",
       "        7.85873606,  7.87546468,  7.89219331,  7.90892193,  7.92565056,\n",
       "        7.94237918,  7.95910781,  7.97583643,  7.99256506,  8.00929368,\n",
       "        8.0260223 ,  8.04275093,  8.05947955,  8.07620818,  8.0929368 ,\n",
       "        8.10966543,  8.12639405,  8.14312268,  8.1598513 ,  8.17657993,\n",
       "        8.19330855,  8.21003717,  8.2267658 ,  8.24349442,  8.26022305,\n",
       "        8.27695167,  8.2936803 ,  8.31040892,  8.32713755,  8.34386617,\n",
       "        8.3605948 ,  8.37732342,  8.39405204,  8.41078067,  8.42750929,\n",
       "        8.44423792,  8.46096654,  8.47769517,  8.49442379,  8.51115242,\n",
       "        8.52788104,  8.54460967,  8.56133829,  8.57806691,  8.59479554,\n",
       "        8.61152416,  8.62825279,  8.64498141,  8.66171004,  8.67843866,\n",
       "        8.69516729,  8.71189591,  8.72862454,  8.74535316,  8.76208178,\n",
       "        8.77881041,  8.79553903,  8.81226766,  8.82899628,  8.84572491,\n",
       "        8.86245353,  8.87918216,  8.89591078,  8.91263941,  8.92936803,\n",
       "        8.94609665,  8.96282528,  8.9795539 ,  8.99628253,  9.01301115,\n",
       "        9.02973978,  9.0464684 ,  9.06319703,  9.07992565,  9.09665428,\n",
       "        9.1133829 ,  9.13011152,  9.14684015,  9.16356877,  9.1802974 ,\n",
       "        9.19702602,  9.21375465,  9.23048327,  9.2472119 ,  9.26394052,\n",
       "        9.28066914,  9.29739777,  9.31412639,  9.33085502,  9.34758364,\n",
       "        9.36431227,  9.38104089,  9.39776952,  9.41449814,  9.43122677,\n",
       "        9.44795539,  9.46468401,  9.48141264,  9.49814126,  9.51486989,\n",
       "        9.53159851,  9.54832714,  9.56505576,  9.58178439,  9.59851301,\n",
       "        9.61524164,  9.63197026,  9.64869888,  9.66542751,  9.68215613,\n",
       "        9.69888476,  9.71561338,  9.73234201,  9.74907063,  9.76579926,\n",
       "        9.78252788,  9.79925651,  9.81598513,  9.83271375,  9.84944238,\n",
       "        9.866171  ,  9.88289963,  9.89962825,  9.91635688,  9.9330855 ,\n",
       "        9.94981413,  9.96654275,  9.98327138, 10.        ])"
      ]
     },
     "execution_count": 93,
     "metadata": {},
     "output_type": "execute_result"
    }
   ],
   "source": [
    "np.linspace(1, 10, 539)"
   ]
  },
  {
   "cell_type": "markdown",
   "id": "7f22bc9b",
   "metadata": {},
   "source": [
    "# 정렬, .sort(), sorted()\n",
    "* 전체정렬"
   ]
  },
  {
   "cell_type": "code",
   "execution_count": 98,
   "id": "fc679360",
   "metadata": {},
   "outputs": [
    {
     "data": {
      "text/plain": [
       "array([ 5. ,  7. , 11. ,  1. ,  3. ,  5. ,  6. ,  3. , 67. ,  0. , 23. ,\n",
       "        0.5])"
      ]
     },
     "execution_count": 98,
     "metadata": {},
     "output_type": "execute_result"
    }
   ],
   "source": [
    "# 정렬, .sort(), sorted()\n",
    "f = np.array([5,7,11,1,3,5,6,3,67,0,23,0.5])\n",
    "f"
   ]
  },
  {
   "cell_type": "code",
   "execution_count": null,
   "id": "13487892",
   "metadata": {},
   "outputs": [],
   "source": []
  },
  {
   "cell_type": "code",
   "execution_count": 97,
   "id": "8abb0415",
   "metadata": {},
   "outputs": [
    {
     "data": {
      "text/plain": [
       "array([ 0. ,  0.5,  1. ,  3. ,  3. ,  5. ,  5. ,  6. ,  7. , 11. , 23. ,\n",
       "       67. ])"
      ]
     },
     "execution_count": 97,
     "metadata": {},
     "output_type": "execute_result"
    }
   ],
   "source": [
    "f.sort()\n",
    "\n",
    "f"
   ]
  },
  {
   "cell_type": "code",
   "execution_count": null,
   "id": "82e162a6",
   "metadata": {},
   "outputs": [],
   "source": [
    "f.sort(order=True)\n",
    "\n",
    "f"
   ]
  },
  {
   "cell_type": "code",
   "execution_count": 101,
   "id": "4b572c5c",
   "metadata": {},
   "outputs": [
    {
     "name": "stdout",
     "output_type": "stream",
     "text": [
      "[np.float64(67.0), np.float64(23.0), np.float64(11.0), np.float64(7.0), np.float64(6.0), np.float64(5.0), np.float64(5.0), np.float64(3.0), np.float64(3.0), np.float64(1.0), np.float64(0.5), np.float64(0.0)]\n"
     ]
    },
    {
     "data": {
      "text/plain": [
       "array([ 5. ,  7. , 11. ,  1. ,  3. ,  5. ,  6. ,  3. , 67. ,  0. , 23. ,\n",
       "        0.5])"
      ]
     },
     "execution_count": 101,
     "metadata": {},
     "output_type": "execute_result"
    }
   ],
   "source": [
    "print(sorted(f, reverse=True))\n",
    "f"
   ]
  },
  {
   "cell_type": "code",
   "execution_count": null,
   "id": "86d248ce",
   "metadata": {},
   "outputs": [],
   "source": [
    "f = np.array([5,7,11,1,3,5,6,3,67,0,23,0.5])\n",
    "f"
   ]
  },
  {
   "cell_type": "markdown",
   "id": "3c3eb6b0",
   "metadata": {},
   "source": [
    "## argsort() 자료 중 값이 작은 것에서 큰 순으로 원래 인덱스 출력\n",
    "* 부분정렬"
   ]
  },
  {
   "cell_type": "code",
   "execution_count": 102,
   "id": "a8328088",
   "metadata": {},
   "outputs": [
    {
     "name": "stdout",
     "output_type": "stream",
     "text": [
      "[ 5.   0.5 -7.  42.  10.   0. ]\n"
     ]
    }
   ],
   "source": [
    "g = np.array([5,0.5,-7,42,10,0])\n",
    "print(g)"
   ]
  },
  {
   "cell_type": "code",
   "execution_count": null,
   "id": "2a987622",
   "metadata": {},
   "outputs": [],
   "source": [
    "# 2, 5, 1, 0, 4, 3"
   ]
  },
  {
   "cell_type": "code",
   "execution_count": 105,
   "id": "507754aa",
   "metadata": {},
   "outputs": [
    {
     "data": {
      "text/plain": [
       "array([2, 5, 1, 0, 4, 3])"
      ]
     },
     "execution_count": 105,
     "metadata": {},
     "output_type": "execute_result"
    }
   ],
   "source": [
    "s = g.argsort()\n",
    "s"
   ]
  },
  {
   "cell_type": "code",
   "execution_count": 107,
   "id": "36ab4e38",
   "metadata": {},
   "outputs": [
    {
     "data": {
      "text/plain": [
       "array([42. , 10. ,  5. ,  0.5,  0. , -7. ])"
      ]
     },
     "execution_count": 107,
     "metadata": {},
     "output_type": "execute_result"
    }
   ],
   "source": [
    "g[s][::-1]"
   ]
  },
  {
   "cell_type": "markdown",
   "id": "edc9ff0f",
   "metadata": {},
   "source": [
    "추천시스템 만들때, ex) 영화, 금융상품\n",
    "* 정렬해줌"
   ]
  },
  {
   "cell_type": "code",
   "execution_count": null,
   "id": "a8cd6f9a",
   "metadata": {},
   "outputs": [],
   "source": []
  },
  {
   "cell_type": "code",
   "execution_count": null,
   "id": "752b213a",
   "metadata": {},
   "outputs": [],
   "source": []
  },
  {
   "cell_type": "code",
   "execution_count": null,
   "id": "aa81fad0",
   "metadata": {},
   "outputs": [],
   "source": []
  },
  {
   "cell_type": "code",
   "execution_count": null,
   "id": "a5b8be16",
   "metadata": {},
   "outputs": [],
   "source": []
  }
 ],
 "metadata": {
  "kernelspec": {
   "display_name": "Python 3 (ipykernel)",
   "language": "python",
   "name": "python3"
  },
  "language_info": {
   "codemirror_mode": {
    "name": "ipython",
    "version": 3
   },
   "file_extension": ".py",
   "mimetype": "text/x-python",
   "name": "python",
   "nbconvert_exporter": "python",
   "pygments_lexer": "ipython3",
   "version": "3.9.21"
  }
 },
 "nbformat": 4,
 "nbformat_minor": 5
}
