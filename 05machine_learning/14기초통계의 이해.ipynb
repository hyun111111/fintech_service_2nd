{
 "cells": [
  {
   "cell_type": "code",
   "execution_count": 4,
   "id": "57befa80-714f-4da8-bd57-9d1777ef95c5",
   "metadata": {},
   "outputs": [],
   "source": [
    "import pandas as pd\n",
    "import numpy as np\n",
    "import matplotlib.pyplot as plt\n",
    "import seaborn as sns\n",
    "import math"
   ]
  },
  {
   "cell_type": "markdown",
   "id": "f97a9476-a17d-415e-8d57-e9dcf3633005",
   "metadata": {},
   "source": [
    "# 기초통계 개념정리"
   ]
  },
  {
   "cell_type": "markdown",
   "id": "583d63ee-b10b-4cdf-884b-993d0f3cad2f",
   "metadata": {},
   "source": [
    "## 대푯값: 데이터의 중심을 나타내는 값\n",
    "* 평균(mean)\n",
    "* 중앙값(median)\n",
    "* 최빈값(mode)"
   ]
  },
  {
   "cell_type": "markdown",
   "id": "d389102f-6b8f-4a0b-bfa7-53fdbea7f099",
   "metadata": {},
   "source": [
    "### (1)평균(mean) $ \\mu $\n",
    "* 모든 값의 총합을 값의 개수로 나눈 값\n",
    "* 극단적인 값(이상값/아웃라이어)이 있는 경우 평균에 영향을 미친다.\n",
    "* 모집단의 평균 $ \\mu $\n",
    "* 표본집단의 평균 $ \\bar{x} $\n",
    "* $$ 모평균: \\mu = {\\sum_{i=1}^N x_i \\over N} $$\n",
    "* $$ 표본평균 : \\bar{x} = {\\sum_{i=1}^N x_i \\over n} $$"
   ]
  },
  {
   "cell_type": "code",
   "execution_count": 49,
   "id": "ccffb9d6-8322-4dbc-8992-24bf554a6ae3",
   "metadata": {},
   "outputs": [
    {
     "data": {
      "text/html": [
       "<div>\n",
       "<style scoped>\n",
       "    .dataframe tbody tr th:only-of-type {\n",
       "        vertical-align: middle;\n",
       "    }\n",
       "\n",
       "    .dataframe tbody tr th {\n",
       "        vertical-align: top;\n",
       "    }\n",
       "\n",
       "    .dataframe thead th {\n",
       "        text-align: right;\n",
       "    }\n",
       "</style>\n",
       "<table border=\"1\" class=\"dataframe\">\n",
       "  <thead>\n",
       "    <tr style=\"text-align: right;\">\n",
       "      <th></th>\n",
       "      <th>표본</th>\n",
       "    </tr>\n",
       "  </thead>\n",
       "  <tbody>\n",
       "    <tr>\n",
       "      <th>0</th>\n",
       "      <td>2</td>\n",
       "    </tr>\n",
       "    <tr>\n",
       "      <th>1</th>\n",
       "      <td>3</td>\n",
       "    </tr>\n",
       "    <tr>\n",
       "      <th>2</th>\n",
       "      <td>3</td>\n",
       "    </tr>\n",
       "    <tr>\n",
       "      <th>3</th>\n",
       "      <td>4</td>\n",
       "    </tr>\n",
       "    <tr>\n",
       "      <th>4</th>\n",
       "      <td>4</td>\n",
       "    </tr>\n",
       "    <tr>\n",
       "      <th>5</th>\n",
       "      <td>5</td>\n",
       "    </tr>\n",
       "    <tr>\n",
       "      <th>6</th>\n",
       "      <td>7</td>\n",
       "    </tr>\n",
       "    <tr>\n",
       "      <th>7</th>\n",
       "      <td>7</td>\n",
       "    </tr>\n",
       "    <tr>\n",
       "      <th>8</th>\n",
       "      <td>7</td>\n",
       "    </tr>\n",
       "    <tr>\n",
       "      <th>9</th>\n",
       "      <td>8</td>\n",
       "    </tr>\n",
       "  </tbody>\n",
       "</table>\n",
       "</div>"
      ],
      "text/plain": [
       "   표본\n",
       "0   2\n",
       "1   3\n",
       "2   3\n",
       "3   4\n",
       "4   4\n",
       "5   5\n",
       "6   7\n",
       "7   7\n",
       "8   7\n",
       "9   8"
      ]
     },
     "execution_count": 49,
     "metadata": {},
     "output_type": "execute_result"
    }
   ],
   "source": [
    "a = pd.DataFrame([2,3,3,4,4,5,7,7,7,8], columns=['표본'])\n",
    "a\n"
   ]
  },
  {
   "cell_type": "code",
   "execution_count": 50,
   "id": "ebfd28a2-ac12-44cd-b47d-67ed2e9fd0a3",
   "metadata": {},
   "outputs": [
    {
     "data": {
      "text/plain": [
       "표본    5.0\n",
       "dtype: float64"
      ]
     },
     "execution_count": 50,
     "metadata": {},
     "output_type": "execute_result"
    }
   ],
   "source": [
    "# 평균\n",
    "a.mean()"
   ]
  },
  {
   "cell_type": "markdown",
   "id": "5d189c9d-a7ce-4b1b-8cc6-d61d77e02de6",
   "metadata": {},
   "source": [
    "### (2)중앙값(median)\n",
    "* 모든 데이터를 큰 순서대로 나열할때 가운데 있는 값\n",
    "* 데이터의 갯수가 홀수일 경우 정중앙의 값\n",
    "* 데이터의 개수가 짝수일 때는 정중앙 2개의 수의 평균값\n",
    "* 이상치가 있어도 영향을 받지 않는다."
   ]
  },
  {
   "cell_type": "code",
   "execution_count": 51,
   "id": "63f75107-d91e-4698-8dd4-47822ad20d69",
   "metadata": {},
   "outputs": [
    {
     "data": {
      "text/html": [
       "<div>\n",
       "<style scoped>\n",
       "    .dataframe tbody tr th:only-of-type {\n",
       "        vertical-align: middle;\n",
       "    }\n",
       "\n",
       "    .dataframe tbody tr th {\n",
       "        vertical-align: top;\n",
       "    }\n",
       "\n",
       "    .dataframe thead th {\n",
       "        text-align: right;\n",
       "    }\n",
       "</style>\n",
       "<table border=\"1\" class=\"dataframe\">\n",
       "  <thead>\n",
       "    <tr style=\"text-align: right;\">\n",
       "      <th></th>\n",
       "      <th>0</th>\n",
       "      <th>1</th>\n",
       "      <th>2</th>\n",
       "      <th>3</th>\n",
       "      <th>4</th>\n",
       "      <th>5</th>\n",
       "      <th>6</th>\n",
       "      <th>7</th>\n",
       "      <th>8</th>\n",
       "      <th>9</th>\n",
       "    </tr>\n",
       "  </thead>\n",
       "  <tbody>\n",
       "    <tr>\n",
       "      <th>표본</th>\n",
       "      <td>2</td>\n",
       "      <td>3</td>\n",
       "      <td>3</td>\n",
       "      <td>4</td>\n",
       "      <td>4</td>\n",
       "      <td>5</td>\n",
       "      <td>7</td>\n",
       "      <td>7</td>\n",
       "      <td>7</td>\n",
       "      <td>8</td>\n",
       "    </tr>\n",
       "  </tbody>\n",
       "</table>\n",
       "</div>"
      ],
      "text/plain": [
       "    0  1  2  3  4  5  6  7  8  9\n",
       "표본  2  3  3  4  4  5  7  7  7  8"
      ]
     },
     "execution_count": 51,
     "metadata": {},
     "output_type": "execute_result"
    }
   ],
   "source": [
    "a.T"
   ]
  },
  {
   "cell_type": "code",
   "execution_count": 52,
   "id": "dc608eac-37c8-4daa-997e-869b6e018c55",
   "metadata": {},
   "outputs": [
    {
     "data": {
      "text/plain": [
       "표본    4.5\n",
       "dtype: float64"
      ]
     },
     "execution_count": 52,
     "metadata": {},
     "output_type": "execute_result"
    }
   ],
   "source": [
    "# 중앙값\n",
    "a.median()"
   ]
  },
  {
   "cell_type": "code",
   "execution_count": 53,
   "id": "1d35ba97-a8cb-43c3-9b07-c6c855764f75",
   "metadata": {},
   "outputs": [
    {
     "data": {
      "text/html": [
       "<div>\n",
       "<style scoped>\n",
       "    .dataframe tbody tr th:only-of-type {\n",
       "        vertical-align: middle;\n",
       "    }\n",
       "\n",
       "    .dataframe tbody tr th {\n",
       "        vertical-align: top;\n",
       "    }\n",
       "\n",
       "    .dataframe thead th {\n",
       "        text-align: right;\n",
       "    }\n",
       "</style>\n",
       "<table border=\"1\" class=\"dataframe\">\n",
       "  <thead>\n",
       "    <tr style=\"text-align: right;\">\n",
       "      <th></th>\n",
       "      <th>표본</th>\n",
       "    </tr>\n",
       "  </thead>\n",
       "  <tbody>\n",
       "    <tr>\n",
       "      <th>0</th>\n",
       "      <td>2</td>\n",
       "    </tr>\n",
       "    <tr>\n",
       "      <th>1</th>\n",
       "      <td>3</td>\n",
       "    </tr>\n",
       "    <tr>\n",
       "      <th>2</th>\n",
       "      <td>3</td>\n",
       "    </tr>\n",
       "    <tr>\n",
       "      <th>3</th>\n",
       "      <td>4</td>\n",
       "    </tr>\n",
       "    <tr>\n",
       "      <th>4</th>\n",
       "      <td>4</td>\n",
       "    </tr>\n",
       "    <tr>\n",
       "      <th>5</th>\n",
       "      <td>5</td>\n",
       "    </tr>\n",
       "    <tr>\n",
       "      <th>6</th>\n",
       "      <td>7</td>\n",
       "    </tr>\n",
       "    <tr>\n",
       "      <th>7</th>\n",
       "      <td>7</td>\n",
       "    </tr>\n",
       "    <tr>\n",
       "      <th>8</th>\n",
       "      <td>7</td>\n",
       "    </tr>\n",
       "  </tbody>\n",
       "</table>\n",
       "</div>"
      ],
      "text/plain": [
       "   표본\n",
       "0   2\n",
       "1   3\n",
       "2   3\n",
       "3   4\n",
       "4   4\n",
       "5   5\n",
       "6   7\n",
       "7   7\n",
       "8   7"
      ]
     },
     "execution_count": 53,
     "metadata": {},
     "output_type": "execute_result"
    }
   ],
   "source": [
    "b =  a.drop(9)\n",
    "b"
   ]
  },
  {
   "cell_type": "code",
   "execution_count": 54,
   "id": "f373f35b-2656-43d2-8537-574964569008",
   "metadata": {},
   "outputs": [
    {
     "data": {
      "text/plain": [
       "표본    4.0\n",
       "dtype: float64"
      ]
     },
     "execution_count": 54,
     "metadata": {},
     "output_type": "execute_result"
    }
   ],
   "source": [
    "b.median()"
   ]
  },
  {
   "cell_type": "markdown",
   "id": "77a1e360-72df-4447-8791-29971023c344",
   "metadata": {},
   "source": [
    "* 최빈값도 극단값에 영향을 받지 않음"
   ]
  },
  {
   "cell_type": "code",
   "execution_count": 60,
   "id": "3a03e4a5-1ae4-4786-aa5f-aa943706b016",
   "metadata": {},
   "outputs": [
    {
     "data": {
      "text/html": [
       "<div>\n",
       "<style scoped>\n",
       "    .dataframe tbody tr th:only-of-type {\n",
       "        vertical-align: middle;\n",
       "    }\n",
       "\n",
       "    .dataframe tbody tr th {\n",
       "        vertical-align: top;\n",
       "    }\n",
       "\n",
       "    .dataframe thead th {\n",
       "        text-align: right;\n",
       "    }\n",
       "</style>\n",
       "<table border=\"1\" class=\"dataframe\">\n",
       "  <thead>\n",
       "    <tr style=\"text-align: right;\">\n",
       "      <th></th>\n",
       "      <th>표본</th>\n",
       "    </tr>\n",
       "  </thead>\n",
       "  <tbody>\n",
       "    <tr>\n",
       "      <th>0</th>\n",
       "      <td>2</td>\n",
       "    </tr>\n",
       "    <tr>\n",
       "      <th>1</th>\n",
       "      <td>3</td>\n",
       "    </tr>\n",
       "    <tr>\n",
       "      <th>2</th>\n",
       "      <td>3</td>\n",
       "    </tr>\n",
       "    <tr>\n",
       "      <th>3</th>\n",
       "      <td>4</td>\n",
       "    </tr>\n",
       "    <tr>\n",
       "      <th>4</th>\n",
       "      <td>4</td>\n",
       "    </tr>\n",
       "    <tr>\n",
       "      <th>5</th>\n",
       "      <td>5</td>\n",
       "    </tr>\n",
       "    <tr>\n",
       "      <th>6</th>\n",
       "      <td>7</td>\n",
       "    </tr>\n",
       "    <tr>\n",
       "      <th>7</th>\n",
       "      <td>7</td>\n",
       "    </tr>\n",
       "    <tr>\n",
       "      <th>8</th>\n",
       "      <td>7</td>\n",
       "    </tr>\n",
       "  </tbody>\n",
       "</table>\n",
       "</div>"
      ],
      "text/plain": [
       "   표본\n",
       "0   2\n",
       "1   3\n",
       "2   3\n",
       "3   4\n",
       "4   4\n",
       "5   5\n",
       "6   7\n",
       "7   7\n",
       "8   7"
      ]
     },
     "execution_count": 60,
     "metadata": {},
     "output_type": "execute_result"
    }
   ],
   "source": [
    "b"
   ]
  },
  {
   "cell_type": "code",
   "execution_count": 59,
   "id": "a70c8d01-25fb-4fdb-9145-555755f6644e",
   "metadata": {},
   "outputs": [
    {
     "data": {
      "text/plain": [
       "표본    4.0\n",
       "dtype: float64"
      ]
     },
     "execution_count": 59,
     "metadata": {},
     "output_type": "execute_result"
    }
   ],
   "source": [
    "b.median()"
   ]
  },
  {
   "cell_type": "markdown",
   "id": "b6575d78-32aa-49e7-a024-2a3273828f9e",
   "metadata": {},
   "source": [
    "\t\n",
    "### (3) 최빈값(mode)\n",
    "* 표본에서 가장 많이 등장하는 값\n",
    "* 최빈값도 극단값에 영향을 받지 않음"
   ]
  },
  {
   "cell_type": "code",
   "execution_count": 62,
   "id": "48bd1e3b-cecb-48ea-a534-4a5f6650eaa1",
   "metadata": {},
   "outputs": [
    {
     "data": {
      "text/html": [
       "<div>\n",
       "<style scoped>\n",
       "    .dataframe tbody tr th:only-of-type {\n",
       "        vertical-align: middle;\n",
       "    }\n",
       "\n",
       "    .dataframe tbody tr th {\n",
       "        vertical-align: top;\n",
       "    }\n",
       "\n",
       "    .dataframe thead th {\n",
       "        text-align: right;\n",
       "    }\n",
       "</style>\n",
       "<table border=\"1\" class=\"dataframe\">\n",
       "  <thead>\n",
       "    <tr style=\"text-align: right;\">\n",
       "      <th></th>\n",
       "      <th>0</th>\n",
       "      <th>1</th>\n",
       "      <th>2</th>\n",
       "      <th>3</th>\n",
       "      <th>4</th>\n",
       "      <th>5</th>\n",
       "      <th>6</th>\n",
       "      <th>7</th>\n",
       "      <th>8</th>\n",
       "      <th>9</th>\n",
       "    </tr>\n",
       "  </thead>\n",
       "  <tbody>\n",
       "    <tr>\n",
       "      <th>표본</th>\n",
       "      <td>2</td>\n",
       "      <td>3</td>\n",
       "      <td>3</td>\n",
       "      <td>4</td>\n",
       "      <td>4</td>\n",
       "      <td>5</td>\n",
       "      <td>7</td>\n",
       "      <td>7</td>\n",
       "      <td>7</td>\n",
       "      <td>8</td>\n",
       "    </tr>\n",
       "  </tbody>\n",
       "</table>\n",
       "</div>"
      ],
      "text/plain": [
       "    0  1  2  3  4  5  6  7  8  9\n",
       "표본  2  3  3  4  4  5  7  7  7  8"
      ]
     },
     "execution_count": 62,
     "metadata": {},
     "output_type": "execute_result"
    }
   ],
   "source": [
    "a.T"
   ]
  },
  {
   "cell_type": "code",
   "execution_count": 61,
   "id": "a7d7ea0a-39e6-4da3-a80c-a035e85bae4f",
   "metadata": {},
   "outputs": [
    {
     "data": {
      "text/html": [
       "<div>\n",
       "<style scoped>\n",
       "    .dataframe tbody tr th:only-of-type {\n",
       "        vertical-align: middle;\n",
       "    }\n",
       "\n",
       "    .dataframe tbody tr th {\n",
       "        vertical-align: top;\n",
       "    }\n",
       "\n",
       "    .dataframe thead th {\n",
       "        text-align: right;\n",
       "    }\n",
       "</style>\n",
       "<table border=\"1\" class=\"dataframe\">\n",
       "  <thead>\n",
       "    <tr style=\"text-align: right;\">\n",
       "      <th></th>\n",
       "      <th>표본</th>\n",
       "    </tr>\n",
       "  </thead>\n",
       "  <tbody>\n",
       "    <tr>\n",
       "      <th>0</th>\n",
       "      <td>7</td>\n",
       "    </tr>\n",
       "  </tbody>\n",
       "</table>\n",
       "</div>"
      ],
      "text/plain": [
       "   표본\n",
       "0   7"
      ]
     },
     "execution_count": 61,
     "metadata": {},
     "output_type": "execute_result"
    }
   ],
   "source": [
    "# 최빈값\n",
    "a.mode()\n"
   ]
  },
  {
   "cell_type": "markdown",
   "id": "9cd9500a-a481-45aa-9114-f9ad07effe25",
   "metadata": {},
   "source": [
    "### (4)산술평균/기하평균\n",
    "* 산술평균(덧셈의 평균) : 모든 데이터의 합계/ 데이터 수\n",
    "* 기하평균(곱셈의 평균) : 모든 데이터의 곱의 n제곱근 -증가율의 평균을  "
   ]
  },
  {
   "cell_type": "code",
   "execution_count": 63,
   "id": "baaea902-7ece-49dc-9a9b-8cd8513d4692",
   "metadata": {},
   "outputs": [
    {
     "data": {
      "text/html": [
       "<div>\n",
       "<style scoped>\n",
       "    .dataframe tbody tr th:only-of-type {\n",
       "        vertical-align: middle;\n",
       "    }\n",
       "\n",
       "    .dataframe tbody tr th {\n",
       "        vertical-align: top;\n",
       "    }\n",
       "\n",
       "    .dataframe thead th {\n",
       "        text-align: right;\n",
       "    }\n",
       "</style>\n",
       "<table border=\"1\" class=\"dataframe\">\n",
       "  <thead>\n",
       "    <tr style=\"text-align: right;\">\n",
       "      <th></th>\n",
       "      <th>0</th>\n",
       "      <th>1</th>\n",
       "      <th>2</th>\n",
       "      <th>3</th>\n",
       "      <th>4</th>\n",
       "      <th>5</th>\n",
       "      <th>6</th>\n",
       "      <th>7</th>\n",
       "      <th>8</th>\n",
       "      <th>9</th>\n",
       "    </tr>\n",
       "  </thead>\n",
       "  <tbody>\n",
       "    <tr>\n",
       "      <th>표본</th>\n",
       "      <td>2</td>\n",
       "      <td>3</td>\n",
       "      <td>3</td>\n",
       "      <td>4</td>\n",
       "      <td>4</td>\n",
       "      <td>5</td>\n",
       "      <td>7</td>\n",
       "      <td>7</td>\n",
       "      <td>7</td>\n",
       "      <td>8</td>\n",
       "    </tr>\n",
       "  </tbody>\n",
       "</table>\n",
       "</div>"
      ],
      "text/plain": [
       "    0  1  2  3  4  5  6  7  8  9\n",
       "표본  2  3  3  4  4  5  7  7  7  8"
      ]
     },
     "execution_count": 63,
     "metadata": {},
     "output_type": "execute_result"
    }
   ],
   "source": [
    "a.T"
   ]
  },
  {
   "cell_type": "code",
   "execution_count": 64,
   "id": "3418beef-845a-4aa2-9d0f-fd74e3522878",
   "metadata": {},
   "outputs": [
    {
     "name": "stdout",
     "output_type": "stream",
     "text": [
      "표본    5.0\n",
      "dtype: float64\n",
      "43.9\n"
     ]
    }
   ],
   "source": [
    "# 산술평균\n",
    "# 다 더한 것 /갯수\n",
    "print(a.mean())\n",
    "print(2+3+3+4+4+5+7+7+8+9/10)"
   ]
  },
  {
   "cell_type": "code",
   "execution_count": 65,
   "id": "ce456233-da4b-4985-9c40-3122f70064ab",
   "metadata": {},
   "outputs": [
    {
     "data": {
      "text/plain": [
       "3.7203954696125"
      ]
     },
     "execution_count": 65,
     "metadata": {},
     "output_type": "execute_result"
    }
   ],
   "source": [
    "# 기하평균\n",
    "math.pow((2*3*3*4*4*5*7*7*8*9/10), 1/10)"
   ]
  },
  {
   "cell_type": "code",
   "execution_count": 68,
   "id": "180c58f4-4625-452c-8ef6-a0c1d20bbc1a",
   "metadata": {},
   "outputs": [
    {
     "name": "stdout",
     "output_type": "stream",
     "text": [
      "기하평균:  4.567459024554637\n"
     ]
    }
   ],
   "source": [
    "from scipy.stats import gmean\n",
    "geometric_mean = gmean(a['표본'])\n",
    "print(\"기하평균: \", geometric_mean)\n"
   ]
  },
  {
   "cell_type": "markdown",
   "id": "f376af4d-3fca-4e78-a1c3-0556f89cc9da",
   "metadata": {},
   "source": [
    "2020년에 7%, 2021년에 35%, 2022년에 40%, 2023년에 69%의 매출증가가 있었다면 4년간 평균 매출 증가율은?"
   ]
  },
  {
   "cell_type": "code",
   "execution_count": 69,
   "id": "ea92ff91-1005-47ad-b241-13d7a146a090",
   "metadata": {
    "scrolled": true
   },
   "outputs": [
    {
     "name": "stdout",
     "output_type": "stream",
     "text": [
      "산술평균;  37.75\n",
      "기하평균:  28.67601451933219\n"
     ]
    }
   ],
   "source": [
    "print('산술평균; ',pd.Series([7,35,40,69]).mean())\n",
    "print('기하평균: ',gmean([7,35,40,69]))"
   ]
  },
  {
   "cell_type": "markdown",
   "id": "5ca5de64-7a83-4541-a529-82ac67fcf1d9",
   "metadata": {},
   "source": [
    "## 2) 도수분포표와 히스토그램\n",
    "### (1)도수분포표(histogram 그래프)\n",
    "* 주어진 데이터를 일정한 범위로 나누고 그 범위에 출현하는 데이터 개수를 조사해 나타낸 표\n",
    "* 데이터의 구간 폭을 '계급(class)', 각 계급에 속하는 데이터 개수 '도수'라고 한다.\n",
    "* 각 계급의 중앙값을 '계급값'이라 한다.\n",
    "* 도수분포표에서 도수가 큰것을 '출현횟수가 많다'라고 하고\n",
    "* 가장 도수가 큰 계급의 계급값을 '최빈값'이라고 한다. "
   ]
  },
  {
   "cell_type": "code",
   "execution_count": 29,
   "id": "1a1b1bfd-abec-426a-a205-4f7b14678055",
   "metadata": {
    "scrolled": true
   },
   "outputs": [
    {
     "data": {
      "text/html": [
       "<div>\n",
       "<style scoped>\n",
       "    .dataframe tbody tr th:only-of-type {\n",
       "        vertical-align: middle;\n",
       "    }\n",
       "\n",
       "    .dataframe tbody tr th {\n",
       "        vertical-align: top;\n",
       "    }\n",
       "\n",
       "    .dataframe thead th {\n",
       "        text-align: right;\n",
       "    }\n",
       "</style>\n",
       "<table border=\"1\" class=\"dataframe\">\n",
       "  <thead>\n",
       "    <tr style=\"text-align: right;\">\n",
       "      <th></th>\n",
       "      <th>PassengerId</th>\n",
       "      <th>Survived</th>\n",
       "      <th>Pclass</th>\n",
       "      <th>Name</th>\n",
       "      <th>Sex</th>\n",
       "      <th>Age</th>\n",
       "      <th>SibSp</th>\n",
       "      <th>Parch</th>\n",
       "      <th>Ticket</th>\n",
       "      <th>Fare</th>\n",
       "      <th>Cabin</th>\n",
       "      <th>Embarked</th>\n",
       "    </tr>\n",
       "  </thead>\n",
       "  <tbody>\n",
       "    <tr>\n",
       "      <th>0</th>\n",
       "      <td>1</td>\n",
       "      <td>0</td>\n",
       "      <td>3</td>\n",
       "      <td>Braund, Mr. Owen Harris</td>\n",
       "      <td>male</td>\n",
       "      <td>22.0</td>\n",
       "      <td>1</td>\n",
       "      <td>0</td>\n",
       "      <td>A/5 21171</td>\n",
       "      <td>7.2500</td>\n",
       "      <td>NaN</td>\n",
       "      <td>S</td>\n",
       "    </tr>\n",
       "    <tr>\n",
       "      <th>1</th>\n",
       "      <td>2</td>\n",
       "      <td>1</td>\n",
       "      <td>1</td>\n",
       "      <td>Cumings, Mrs. John Bradley (Florence Briggs Th...</td>\n",
       "      <td>female</td>\n",
       "      <td>38.0</td>\n",
       "      <td>1</td>\n",
       "      <td>0</td>\n",
       "      <td>PC 17599</td>\n",
       "      <td>71.2833</td>\n",
       "      <td>C85</td>\n",
       "      <td>C</td>\n",
       "    </tr>\n",
       "    <tr>\n",
       "      <th>2</th>\n",
       "      <td>3</td>\n",
       "      <td>1</td>\n",
       "      <td>3</td>\n",
       "      <td>Heikkinen, Miss. Laina</td>\n",
       "      <td>female</td>\n",
       "      <td>26.0</td>\n",
       "      <td>0</td>\n",
       "      <td>0</td>\n",
       "      <td>STON/O2. 3101282</td>\n",
       "      <td>7.9250</td>\n",
       "      <td>NaN</td>\n",
       "      <td>S</td>\n",
       "    </tr>\n",
       "    <tr>\n",
       "      <th>3</th>\n",
       "      <td>4</td>\n",
       "      <td>1</td>\n",
       "      <td>1</td>\n",
       "      <td>Futrelle, Mrs. Jacques Heath (Lily May Peel)</td>\n",
       "      <td>female</td>\n",
       "      <td>35.0</td>\n",
       "      <td>1</td>\n",
       "      <td>0</td>\n",
       "      <td>113803</td>\n",
       "      <td>53.1000</td>\n",
       "      <td>C123</td>\n",
       "      <td>S</td>\n",
       "    </tr>\n",
       "    <tr>\n",
       "      <th>4</th>\n",
       "      <td>5</td>\n",
       "      <td>0</td>\n",
       "      <td>3</td>\n",
       "      <td>Allen, Mr. William Henry</td>\n",
       "      <td>male</td>\n",
       "      <td>35.0</td>\n",
       "      <td>0</td>\n",
       "      <td>0</td>\n",
       "      <td>373450</td>\n",
       "      <td>8.0500</td>\n",
       "      <td>NaN</td>\n",
       "      <td>S</td>\n",
       "    </tr>\n",
       "  </tbody>\n",
       "</table>\n",
       "</div>"
      ],
      "text/plain": [
       "   PassengerId  Survived  Pclass  \\\n",
       "0            1         0       3   \n",
       "1            2         1       1   \n",
       "2            3         1       3   \n",
       "3            4         1       1   \n",
       "4            5         0       3   \n",
       "\n",
       "                                                Name     Sex   Age  SibSp  \\\n",
       "0                            Braund, Mr. Owen Harris    male  22.0      1   \n",
       "1  Cumings, Mrs. John Bradley (Florence Briggs Th...  female  38.0      1   \n",
       "2                             Heikkinen, Miss. Laina  female  26.0      0   \n",
       "3       Futrelle, Mrs. Jacques Heath (Lily May Peel)  female  35.0      1   \n",
       "4                           Allen, Mr. William Henry    male  35.0      0   \n",
       "\n",
       "   Parch            Ticket     Fare Cabin Embarked  \n",
       "0      0         A/5 21171   7.2500   NaN        S  \n",
       "1      0          PC 17599  71.2833   C85        C  \n",
       "2      0  STON/O2. 3101282   7.9250   NaN        S  \n",
       "3      0            113803  53.1000  C123        S  \n",
       "4      0            373450   8.0500   NaN        S  "
      ]
     },
     "execution_count": 29,
     "metadata": {},
     "output_type": "execute_result"
    }
   ],
   "source": [
    "data = pd.read_csv(\"./data/Titanic_train.csv\")\n",
    "data.head()"
   ]
  },
  {
   "cell_type": "code",
   "execution_count": 31,
   "id": "e14e12e7-d2a7-4780-b727-f29799e8ea2b",
   "metadata": {},
   "outputs": [
    {
     "data": {
      "text/html": [
       "<div>\n",
       "<style scoped>\n",
       "    .dataframe tbody tr th:only-of-type {\n",
       "        vertical-align: middle;\n",
       "    }\n",
       "\n",
       "    .dataframe tbody tr th {\n",
       "        vertical-align: top;\n",
       "    }\n",
       "\n",
       "    .dataframe thead th {\n",
       "        text-align: right;\n",
       "    }\n",
       "</style>\n",
       "<table border=\"1\" class=\"dataframe\">\n",
       "  <thead>\n",
       "    <tr style=\"text-align: right;\">\n",
       "      <th></th>\n",
       "      <th>Age</th>\n",
       "    </tr>\n",
       "  </thead>\n",
       "  <tbody>\n",
       "    <tr>\n",
       "      <th>0</th>\n",
       "      <td>22.0</td>\n",
       "    </tr>\n",
       "    <tr>\n",
       "      <th>1</th>\n",
       "      <td>38.0</td>\n",
       "    </tr>\n",
       "    <tr>\n",
       "      <th>2</th>\n",
       "      <td>26.0</td>\n",
       "    </tr>\n",
       "    <tr>\n",
       "      <th>3</th>\n",
       "      <td>35.0</td>\n",
       "    </tr>\n",
       "    <tr>\n",
       "      <th>4</th>\n",
       "      <td>35.0</td>\n",
       "    </tr>\n",
       "    <tr>\n",
       "      <th>...</th>\n",
       "      <td>...</td>\n",
       "    </tr>\n",
       "    <tr>\n",
       "      <th>886</th>\n",
       "      <td>27.0</td>\n",
       "    </tr>\n",
       "    <tr>\n",
       "      <th>887</th>\n",
       "      <td>19.0</td>\n",
       "    </tr>\n",
       "    <tr>\n",
       "      <th>888</th>\n",
       "      <td>NaN</td>\n",
       "    </tr>\n",
       "    <tr>\n",
       "      <th>889</th>\n",
       "      <td>26.0</td>\n",
       "    </tr>\n",
       "    <tr>\n",
       "      <th>890</th>\n",
       "      <td>32.0</td>\n",
       "    </tr>\n",
       "  </tbody>\n",
       "</table>\n",
       "<p>891 rows × 1 columns</p>\n",
       "</div>"
      ],
      "text/plain": [
       "      Age\n",
       "0    22.0\n",
       "1    38.0\n",
       "2    26.0\n",
       "3    35.0\n",
       "4    35.0\n",
       "..    ...\n",
       "886  27.0\n",
       "887  19.0\n",
       "888   NaN\n",
       "889  26.0\n",
       "890  32.0\n",
       "\n",
       "[891 rows x 1 columns]"
      ]
     },
     "execution_count": 31,
     "metadata": {},
     "output_type": "execute_result"
    }
   ],
   "source": [
    "age = data[['Age']]\n",
    "age"
   ]
  },
  {
   "cell_type": "code",
   "execution_count": 33,
   "id": "7c74cb7d-cf8b-4e68-903d-8ec3960d5efc",
   "metadata": {},
   "outputs": [
    {
     "data": {
      "text/plain": [
       "Age \n",
       "24.0    30\n",
       "22.0    27\n",
       "18.0    26\n",
       "19.0    25\n",
       "30.0    25\n",
       "        ..\n",
       "53.0     1\n",
       "66.0     1\n",
       "70.5     1\n",
       "74.0     1\n",
       "80.0     1\n",
       "Name: count, Length: 88, dtype: int64"
      ]
     },
     "execution_count": 33,
     "metadata": {},
     "output_type": "execute_result"
    }
   ],
   "source": [
    "# 간단하게 도수분포표 만들기\n",
    "age.value_counts()"
   ]
  },
  {
   "cell_type": "code",
   "execution_count": 36,
   "id": "0e19abd3-ab74-49f8-83e3-09f17ecd2249",
   "metadata": {},
   "outputs": [
    {
     "name": "stdout",
     "output_type": "stream",
     "text": [
      "under10s     62\n",
      "10s         102\n",
      "20s         220\n",
      "30s         167\n",
      "40s          89\n",
      "50s          48\n",
      "60s          19\n",
      "70s           6\n",
      "80s           1\n",
      "Name: count, dtype: int64\n"
     ]
    }
   ],
   "source": [
    "#계급 구간을 10단위로 나누어 도수분포표를 만들고 \n",
    "# 도수분포표(Frequency Distribution Table)를 시각화한 히스토그램 그래프 그리기\n",
    "bins = (0,10,20,30,40,50,60,70,80,90)\n",
    "labels = ['under10s', '10s','20s','30s','40s','50s','60s','70s','80s']\n",
    "age_FDT = pd.cut(age['Age'].values, bins=bins, labels=labels, right=False)\n",
    "print(age_FDT.value_counts())"
   ]
  },
  {
   "cell_type": "code",
   "execution_count": 37,
   "id": "a420852c-858f-4cc2-ab17-b622436bde44",
   "metadata": {},
   "outputs": [
    {
     "data": {
      "text/plain": [
       "<Axes: >"
      ]
     },
     "execution_count": 37,
     "metadata": {},
     "output_type": "execute_result"
    },
    {
     "data": {
      "image/png": "[encoded data removed]",
      "text/plain": [
       "<Figure size 640x480 with 1 Axes>"
      ]
     },
     "metadata": {},
     "output_type": "display_data"
    }
   ],
   "source": [
    "age_FDT.value_counts().plot(kind='bar')"
   ]
  },
  {
   "cell_type": "markdown",
   "id": "57e75f2d-d8bc-4a14-9144-f440e7c0f390",
   "metadata": {},
   "source": [
    "### (2) 상대도수분포표(Relative Frequency Distribution Table)\n",
    "* 상대도수: 계급의 도수 / 전체 도수의 합계, 어떤 계급의 도수가 전체 도수에서 몇 % 를 차지하는지 나타내는 값\n",
    "* 상대도수분포표: 모든 계급의 상대도수를 구해서 더한 것\n"
   ]
  },
  {
   "cell_type": "code",
   "execution_count": 70,
   "id": "fd9d7fcd-1570-4cf6-8b7d-de441f2b9b44",
   "metadata": {},
   "outputs": [
    {
     "data": {
      "text/html": [
       "<div>\n",
       "<style scoped>\n",
       "    .dataframe tbody tr th:only-of-type {\n",
       "        vertical-align: middle;\n",
       "    }\n",
       "\n",
       "    .dataframe tbody tr th {\n",
       "        vertical-align: top;\n",
       "    }\n",
       "\n",
       "    .dataframe thead th {\n",
       "        text-align: right;\n",
       "    }\n",
       "</style>\n",
       "<table border=\"1\" class=\"dataframe\">\n",
       "  <thead>\n",
       "    <tr style=\"text-align: right;\">\n",
       "      <th></th>\n",
       "      <th>count</th>\n",
       "    </tr>\n",
       "  </thead>\n",
       "  <tbody>\n",
       "    <tr>\n",
       "      <th>under10s</th>\n",
       "      <td>62</td>\n",
       "    </tr>\n",
       "    <tr>\n",
       "      <th>10s</th>\n",
       "      <td>102</td>\n",
       "    </tr>\n",
       "    <tr>\n",
       "      <th>20s</th>\n",
       "      <td>220</td>\n",
       "    </tr>\n",
       "    <tr>\n",
       "      <th>30s</th>\n",
       "      <td>167</td>\n",
       "    </tr>\n",
       "    <tr>\n",
       "      <th>40s</th>\n",
       "      <td>89</td>\n",
       "    </tr>\n",
       "    <tr>\n",
       "      <th>50s</th>\n",
       "      <td>48</td>\n",
       "    </tr>\n",
       "    <tr>\n",
       "      <th>60s</th>\n",
       "      <td>19</td>\n",
       "    </tr>\n",
       "    <tr>\n",
       "      <th>70s</th>\n",
       "      <td>6</td>\n",
       "    </tr>\n",
       "    <tr>\n",
       "      <th>80s</th>\n",
       "      <td>1</td>\n",
       "    </tr>\n",
       "  </tbody>\n",
       "</table>\n",
       "</div>"
      ],
      "text/plain": [
       "          count\n",
       "under10s     62\n",
       "10s         102\n",
       "20s         220\n",
       "30s         167\n",
       "40s          89\n",
       "50s          48\n",
       "60s          19\n",
       "70s           6\n",
       "80s           1"
      ]
     },
     "execution_count": 70,
     "metadata": {},
     "output_type": "execute_result"
    }
   ],
   "source": [
    "\t\n",
    "\n",
    "fdt_df = pd.DataFrame(age_FDT.value_counts())\n",
    "fdt_df\n"
   ]
  },
  {
   "cell_type": "code",
   "execution_count": 38,
   "id": "74ccf231-e477-4246-bafd-5e8402a61475",
   "metadata": {},
   "outputs": [],
   "source": [
    "# 상대도수분포표 만들기\n",
    "# 상대도수: 계급의 도수 / 전체도수의 합계"
   ]
  },
  {
   "cell_type": "code",
   "execution_count": 71,
   "id": "ff20e323-6495-417a-acce-fefd7bbb22b4",
   "metadata": {
    "scrolled": true
   },
   "outputs": [
    {
     "data": {
      "text/plain": [
       "under10s    0.086835\n",
       "10s         0.142857\n",
       "20s         0.308123\n",
       "30s         0.233894\n",
       "40s         0.124650\n",
       "50s         0.067227\n",
       "60s         0.026611\n",
       "70s         0.008403\n",
       "80s         0.001401\n",
       "Name: count, dtype: float64"
      ]
     },
     "execution_count": 71,
     "metadata": {},
     "output_type": "execute_result"
    }
   ],
   "source": [
    "\t\n",
    "\n",
    "fdt_df['count'] / fdt_df['count'].sum()\n"
   ]
  },
  {
   "cell_type": "code",
   "execution_count": 73,
   "id": "50da69d9-7373-4fa8-b2f0-55d9c941ac74",
   "metadata": {},
   "outputs": [
    {
     "data": {
      "text/plain": [
       "under10s     8.7\n",
       "10s         14.3\n",
       "20s         30.8\n",
       "30s         23.4\n",
       "40s         12.5\n",
       "50s          6.7\n",
       "60s          2.7\n",
       "70s          0.8\n",
       "80s          0.1\n",
       "Name: count, dtype: float64"
      ]
     },
     "execution_count": 73,
     "metadata": {},
     "output_type": "execute_result"
    }
   ],
   "source": [
    "round(fdt_df['count'] / fdt_df['count'].sum(), 3) * 100"
   ]
  },
  {
   "cell_type": "code",
   "execution_count": 74,
   "id": "75c3d5fd-55e5-411f-940c-a37521914a93",
   "metadata": {},
   "outputs": [],
   "source": [
    "fdt_df['count'] =round(fdt_df['count'] / fdt_df['count'].sum(), 3) * 100\n",
    "\n"
   ]
  },
  {
   "cell_type": "code",
   "execution_count": 75,
   "id": "8261b814-4b73-4350-bdc3-da64c2318c98",
   "metadata": {},
   "outputs": [
    {
     "data": {
      "text/html": [
       "<div>\n",
       "<style scoped>\n",
       "    .dataframe tbody tr th:only-of-type {\n",
       "        vertical-align: middle;\n",
       "    }\n",
       "\n",
       "    .dataframe tbody tr th {\n",
       "        vertical-align: top;\n",
       "    }\n",
       "\n",
       "    .dataframe thead th {\n",
       "        text-align: right;\n",
       "    }\n",
       "</style>\n",
       "<table border=\"1\" class=\"dataframe\">\n",
       "  <thead>\n",
       "    <tr style=\"text-align: right;\">\n",
       "      <th></th>\n",
       "      <th>count</th>\n",
       "    </tr>\n",
       "  </thead>\n",
       "  <tbody>\n",
       "    <tr>\n",
       "      <th>under10s</th>\n",
       "      <td>8.7</td>\n",
       "    </tr>\n",
       "    <tr>\n",
       "      <th>10s</th>\n",
       "      <td>14.3</td>\n",
       "    </tr>\n",
       "    <tr>\n",
       "      <th>20s</th>\n",
       "      <td>30.8</td>\n",
       "    </tr>\n",
       "    <tr>\n",
       "      <th>30s</th>\n",
       "      <td>23.4</td>\n",
       "    </tr>\n",
       "    <tr>\n",
       "      <th>40s</th>\n",
       "      <td>12.5</td>\n",
       "    </tr>\n",
       "    <tr>\n",
       "      <th>50s</th>\n",
       "      <td>6.7</td>\n",
       "    </tr>\n",
       "    <tr>\n",
       "      <th>60s</th>\n",
       "      <td>2.7</td>\n",
       "    </tr>\n",
       "    <tr>\n",
       "      <th>70s</th>\n",
       "      <td>0.8</td>\n",
       "    </tr>\n",
       "    <tr>\n",
       "      <th>80s</th>\n",
       "      <td>0.1</td>\n",
       "    </tr>\n",
       "  </tbody>\n",
       "</table>\n",
       "</div>"
      ],
      "text/plain": [
       "          count\n",
       "under10s    8.7\n",
       "10s        14.3\n",
       "20s        30.8\n",
       "30s        23.4\n",
       "40s        12.5\n",
       "50s         6.7\n",
       "60s         2.7\n",
       "70s         0.8\n",
       "80s         0.1"
      ]
     },
     "execution_count": 75,
     "metadata": {},
     "output_type": "execute_result"
    }
   ],
   "source": [
    "fdt_df\n"
   ]
  },
  {
   "cell_type": "markdown",
   "id": "4c0100e6-5eb7-4395-94c5-0c5cfb66ab1c",
   "metadata": {},
   "source": [
    "#### 구간화가 필요한 데이터에서 계급의 개수는 몇 개로?\n",
    "* 스터지스 공식: 도수분포표나 히스토그램을 만들 때 계급의 수가 적당한지 판단하는 공식\n",
    "* 전체 데이터 개수를 $ 2^n $ 이라 하고, 그때 계수를 n+1"
   ]
  },
  {
   "cell_type": "code",
   "execution_count": 78,
   "id": "0b8cf50d-4487-4978-9226-a27ebee48616",
   "metadata": {},
   "outputs": [
    {
     "data": {
      "text/plain": [
       "891"
      ]
     },
     "execution_count": 78,
     "metadata": {},
     "output_type": "execute_result"
    }
   ],
   "source": [
    "len(age['Age'])"
   ]
  },
  {
   "cell_type": "code",
   "execution_count": 79,
   "id": "ea35e1b3-5580-4f63-9252-6b364b68222d",
   "metadata": {},
   "outputs": [
    {
     "name": "stdout",
     "output_type": "stream",
     "text": [
      "11\n"
     ]
    }
   ],
   "source": [
    "# 891은 2의 몇승?\n",
    "n =  math.log(891,2)\n",
    "print(round(n)+1)"
   ]
  },
  {
   "cell_type": "markdown",
   "id": "d3ec9d13-747a-4eef-bf27-0b6731c12a5d",
   "metadata": {},
   "source": [
    "### 3) 편차(deviation)\n",
    "* 데이터와 평균이 떨어진 거리, 데이터와 평균값과의 차이\n",
    "* 데이터 - 평균값"
   ]
  },
  {
   "cell_type": "code",
   "execution_count": 80,
   "id": "e9680fbb-0859-47fe-8ad5-34e94c41ac79",
   "metadata": {},
   "outputs": [],
   "source": [
    "a['평균'] = a['표본'].mean()"
   ]
  },
  {
   "cell_type": "code",
   "execution_count": 81,
   "id": "aa569b9f-c30e-499f-b8f2-44493d6b5027",
   "metadata": {},
   "outputs": [
    {
     "data": {
      "text/html": [
       "<div>\n",
       "<style scoped>\n",
       "    .dataframe tbody tr th:only-of-type {\n",
       "        vertical-align: middle;\n",
       "    }\n",
       "\n",
       "    .dataframe tbody tr th {\n",
       "        vertical-align: top;\n",
       "    }\n",
       "\n",
       "    .dataframe thead th {\n",
       "        text-align: right;\n",
       "    }\n",
       "</style>\n",
       "<table border=\"1\" class=\"dataframe\">\n",
       "  <thead>\n",
       "    <tr style=\"text-align: right;\">\n",
       "      <th></th>\n",
       "      <th>표본</th>\n",
       "      <th>평균</th>\n",
       "    </tr>\n",
       "  </thead>\n",
       "  <tbody>\n",
       "    <tr>\n",
       "      <th>0</th>\n",
       "      <td>2</td>\n",
       "      <td>5.0</td>\n",
       "    </tr>\n",
       "    <tr>\n",
       "      <th>1</th>\n",
       "      <td>3</td>\n",
       "      <td>5.0</td>\n",
       "    </tr>\n",
       "    <tr>\n",
       "      <th>2</th>\n",
       "      <td>3</td>\n",
       "      <td>5.0</td>\n",
       "    </tr>\n",
       "    <tr>\n",
       "      <th>3</th>\n",
       "      <td>4</td>\n",
       "      <td>5.0</td>\n",
       "    </tr>\n",
       "    <tr>\n",
       "      <th>4</th>\n",
       "      <td>4</td>\n",
       "      <td>5.0</td>\n",
       "    </tr>\n",
       "    <tr>\n",
       "      <th>5</th>\n",
       "      <td>5</td>\n",
       "      <td>5.0</td>\n",
       "    </tr>\n",
       "    <tr>\n",
       "      <th>6</th>\n",
       "      <td>7</td>\n",
       "      <td>5.0</td>\n",
       "    </tr>\n",
       "    <tr>\n",
       "      <th>7</th>\n",
       "      <td>7</td>\n",
       "      <td>5.0</td>\n",
       "    </tr>\n",
       "    <tr>\n",
       "      <th>8</th>\n",
       "      <td>7</td>\n",
       "      <td>5.0</td>\n",
       "    </tr>\n",
       "    <tr>\n",
       "      <th>9</th>\n",
       "      <td>8</td>\n",
       "      <td>5.0</td>\n",
       "    </tr>\n",
       "  </tbody>\n",
       "</table>\n",
       "</div>"
      ],
      "text/plain": [
       "   표본   평균\n",
       "0   2  5.0\n",
       "1   3  5.0\n",
       "2   3  5.0\n",
       "3   4  5.0\n",
       "4   4  5.0\n",
       "5   5  5.0\n",
       "6   7  5.0\n",
       "7   7  5.0\n",
       "8   7  5.0\n",
       "9   8  5.0"
      ]
     },
     "execution_count": 81,
     "metadata": {},
     "output_type": "execute_result"
    }
   ],
   "source": [
    "a"
   ]
  },
  {
   "cell_type": "code",
   "execution_count": 82,
   "id": "0a805188-eee8-4477-96de-3ae43a410fa8",
   "metadata": {},
   "outputs": [
    {
     "data": {
      "text/html": [
       "<div>\n",
       "<style scoped>\n",
       "    .dataframe tbody tr th:only-of-type {\n",
       "        vertical-align: middle;\n",
       "    }\n",
       "\n",
       "    .dataframe tbody tr th {\n",
       "        vertical-align: top;\n",
       "    }\n",
       "\n",
       "    .dataframe thead th {\n",
       "        text-align: right;\n",
       "    }\n",
       "</style>\n",
       "<table border=\"1\" class=\"dataframe\">\n",
       "  <thead>\n",
       "    <tr style=\"text-align: right;\">\n",
       "      <th></th>\n",
       "      <th>표본</th>\n",
       "      <th>평균</th>\n",
       "      <th>편차</th>\n",
       "    </tr>\n",
       "  </thead>\n",
       "  <tbody>\n",
       "    <tr>\n",
       "      <th>0</th>\n",
       "      <td>2</td>\n",
       "      <td>5.0</td>\n",
       "      <td>-3.0</td>\n",
       "    </tr>\n",
       "    <tr>\n",
       "      <th>1</th>\n",
       "      <td>3</td>\n",
       "      <td>5.0</td>\n",
       "      <td>-2.0</td>\n",
       "    </tr>\n",
       "    <tr>\n",
       "      <th>2</th>\n",
       "      <td>3</td>\n",
       "      <td>5.0</td>\n",
       "      <td>-2.0</td>\n",
       "    </tr>\n",
       "    <tr>\n",
       "      <th>3</th>\n",
       "      <td>4</td>\n",
       "      <td>5.0</td>\n",
       "      <td>-1.0</td>\n",
       "    </tr>\n",
       "    <tr>\n",
       "      <th>4</th>\n",
       "      <td>4</td>\n",
       "      <td>5.0</td>\n",
       "      <td>-1.0</td>\n",
       "    </tr>\n",
       "    <tr>\n",
       "      <th>5</th>\n",
       "      <td>5</td>\n",
       "      <td>5.0</td>\n",
       "      <td>0.0</td>\n",
       "    </tr>\n",
       "    <tr>\n",
       "      <th>6</th>\n",
       "      <td>7</td>\n",
       "      <td>5.0</td>\n",
       "      <td>2.0</td>\n",
       "    </tr>\n",
       "    <tr>\n",
       "      <th>7</th>\n",
       "      <td>7</td>\n",
       "      <td>5.0</td>\n",
       "      <td>2.0</td>\n",
       "    </tr>\n",
       "    <tr>\n",
       "      <th>8</th>\n",
       "      <td>7</td>\n",
       "      <td>5.0</td>\n",
       "      <td>2.0</td>\n",
       "    </tr>\n",
       "    <tr>\n",
       "      <th>9</th>\n",
       "      <td>8</td>\n",
       "      <td>5.0</td>\n",
       "      <td>3.0</td>\n",
       "    </tr>\n",
       "  </tbody>\n",
       "</table>\n",
       "</div>"
      ],
      "text/plain": [
       "   표본   평균   편차\n",
       "0   2  5.0 -3.0\n",
       "1   3  5.0 -2.0\n",
       "2   3  5.0 -2.0\n",
       "3   4  5.0 -1.0\n",
       "4   4  5.0 -1.0\n",
       "5   5  5.0  0.0\n",
       "6   7  5.0  2.0\n",
       "7   7  5.0  2.0\n",
       "8   7  5.0  2.0\n",
       "9   8  5.0  3.0"
      ]
     },
     "execution_count": 82,
     "metadata": {},
     "output_type": "execute_result"
    }
   ],
   "source": [
    "a['편차'] =  a['표본']- a['평균']\n",
    "a"
   ]
  },
  {
   "cell_type": "code",
   "execution_count": 83,
   "id": "3d669ee9-e374-47ed-a3b9-e9dc464c6ff9",
   "metadata": {},
   "outputs": [
    {
     "data": {
      "text/plain": [
       "np.float64(0.0)"
      ]
     },
     "execution_count": 83,
     "metadata": {},
     "output_type": "execute_result"
    }
   ],
   "source": [
    "# 전체 데이터의 편차의 합은 0\n",
    "a['편차'].sum()"
   ]
  },
  {
   "cell_type": "markdown",
   "id": "100c65fe-f93f-489d-ba31-9313e246f942",
   "metadata": {},
   "source": [
    "### 4)분산(variance): 편차 제곱의 합 /  데이터 수\n",
    "* 평균으로부터 떨어진 정도가 잘 보일 수 있도록 고안된 지표\n",
    "* 편차의 합은 양수와 음수가 합쳐져서 0이 되기 때문에 각 데이터가 평균으로부터 얼마나 떨어져있는지 알 수 없어서 편차 제곱의 합인 분산을 사용함\n",
    "* 모분산: $ \\sigma^2 $\n",
    "$$ \\sigma^2 = {\\sum(x_i-\\mu)^2 \\over N} $$\n",
    "* 표본분산: $ s^2 $\n",
    "$$ s^2 = {\\sum(x_i-\\bar{x})^2 \\over n-1} $$"
   ]
  },
  {
   "cell_type": "code",
   "execution_count": 89,
   "id": "a3889be9-d3f1-4357-8e51-087d6c3804fa",
   "metadata": {},
   "outputs": [
    {
     "ename": "KeyError",
     "evalue": "'편차'",
     "output_type": "error",
     "traceback": [
      "\u001b[0;31m---------------------------------------------------------------------------\u001b[0m",
      "\u001b[0;31mKeyError\u001b[0m                                  Traceback (most recent call last)",
      "File \u001b[0;32m~/miniforge3/envs/fintech/lib/python3.12/site-packages/pandas/core/indexes/base.py:3805\u001b[0m, in \u001b[0;36mIndex.get_loc\u001b[0;34m(self, key)\u001b[0m\n\u001b[1;32m   3804\u001b[0m \u001b[38;5;28;01mtry\u001b[39;00m:\n\u001b[0;32m-> 3805\u001b[0m     \u001b[38;5;28;01mreturn\u001b[39;00m \u001b[38;5;28;43mself\u001b[39;49m\u001b[38;5;241;43m.\u001b[39;49m\u001b[43m_engine\u001b[49m\u001b[38;5;241;43m.\u001b[39;49m\u001b[43mget_loc\u001b[49m\u001b[43m(\u001b[49m\u001b[43mcasted_key\u001b[49m\u001b[43m)\u001b[49m\n\u001b[1;32m   3806\u001b[0m \u001b[38;5;28;01mexcept\u001b[39;00m \u001b[38;5;167;01mKeyError\u001b[39;00m \u001b[38;5;28;01mas\u001b[39;00m err:\n",
      "File \u001b[0;32mindex.pyx:167\u001b[0m, in \u001b[0;36mpandas._libs.index.IndexEngine.get_loc\u001b[0;34m()\u001b[0m\n",
      "File \u001b[0;32mindex.pyx:196\u001b[0m, in \u001b[0;36mpandas._libs.index.IndexEngine.get_loc\u001b[0;34m()\u001b[0m\n",
      "File \u001b[0;32mpandas/_libs/hashtable_class_helper.pxi:7081\u001b[0m, in \u001b[0;36mpandas._libs.hashtable.PyObjectHashTable.get_item\u001b[0;34m()\u001b[0m\n",
      "File \u001b[0;32mpandas/_libs/hashtable_class_helper.pxi:7089\u001b[0m, in \u001b[0;36mpandas._libs.hashtable.PyObjectHashTable.get_item\u001b[0;34m()\u001b[0m\n",
      "\u001b[0;31mKeyError\u001b[0m: '편차'",
      "\nThe above exception was the direct cause of the following exception:\n",
      "\u001b[0;31mKeyError\u001b[0m                                  Traceback (most recent call last)",
      "Cell \u001b[0;32mIn[89], line 2\u001b[0m\n\u001b[1;32m      1\u001b[0m \u001b[38;5;66;03m# 분산: 편차제곱의 합 / 데이터 수\u001b[39;00m\n\u001b[0;32m----> 2\u001b[0m a[\u001b[38;5;124m'\u001b[39m\u001b[38;5;124m편차제곱\u001b[39m\u001b[38;5;124m'\u001b[39m] \u001b[38;5;241m=\u001b[39m \u001b[43ma\u001b[49m\u001b[43m[\u001b[49m\u001b[38;5;124;43m'\u001b[39;49m\u001b[38;5;124;43m편차\u001b[39;49m\u001b[38;5;124;43m'\u001b[39;49m\u001b[43m]\u001b[49m \u001b[38;5;241m*\u001b[39m\u001b[38;5;241m*\u001b[39m \u001b[38;5;241m2\u001b[39m\n\u001b[1;32m      3\u001b[0m a\n",
      "File \u001b[0;32m~/miniforge3/envs/fintech/lib/python3.12/site-packages/pandas/core/frame.py:4102\u001b[0m, in \u001b[0;36mDataFrame.__getitem__\u001b[0;34m(self, key)\u001b[0m\n\u001b[1;32m   4100\u001b[0m \u001b[38;5;28;01mif\u001b[39;00m \u001b[38;5;28mself\u001b[39m\u001b[38;5;241m.\u001b[39mcolumns\u001b[38;5;241m.\u001b[39mnlevels \u001b[38;5;241m>\u001b[39m \u001b[38;5;241m1\u001b[39m:\n\u001b[1;32m   4101\u001b[0m     \u001b[38;5;28;01mreturn\u001b[39;00m \u001b[38;5;28mself\u001b[39m\u001b[38;5;241m.\u001b[39m_getitem_multilevel(key)\n\u001b[0;32m-> 4102\u001b[0m indexer \u001b[38;5;241m=\u001b[39m \u001b[38;5;28;43mself\u001b[39;49m\u001b[38;5;241;43m.\u001b[39;49m\u001b[43mcolumns\u001b[49m\u001b[38;5;241;43m.\u001b[39;49m\u001b[43mget_loc\u001b[49m\u001b[43m(\u001b[49m\u001b[43mkey\u001b[49m\u001b[43m)\u001b[49m\n\u001b[1;32m   4103\u001b[0m \u001b[38;5;28;01mif\u001b[39;00m is_integer(indexer):\n\u001b[1;32m   4104\u001b[0m     indexer \u001b[38;5;241m=\u001b[39m [indexer]\n",
      "File \u001b[0;32m~/miniforge3/envs/fintech/lib/python3.12/site-packages/pandas/core/indexes/base.py:3812\u001b[0m, in \u001b[0;36mIndex.get_loc\u001b[0;34m(self, key)\u001b[0m\n\u001b[1;32m   3807\u001b[0m     \u001b[38;5;28;01mif\u001b[39;00m \u001b[38;5;28misinstance\u001b[39m(casted_key, \u001b[38;5;28mslice\u001b[39m) \u001b[38;5;129;01mor\u001b[39;00m (\n\u001b[1;32m   3808\u001b[0m         \u001b[38;5;28misinstance\u001b[39m(casted_key, abc\u001b[38;5;241m.\u001b[39mIterable)\n\u001b[1;32m   3809\u001b[0m         \u001b[38;5;129;01mand\u001b[39;00m \u001b[38;5;28many\u001b[39m(\u001b[38;5;28misinstance\u001b[39m(x, \u001b[38;5;28mslice\u001b[39m) \u001b[38;5;28;01mfor\u001b[39;00m x \u001b[38;5;129;01min\u001b[39;00m casted_key)\n\u001b[1;32m   3810\u001b[0m     ):\n\u001b[1;32m   3811\u001b[0m         \u001b[38;5;28;01mraise\u001b[39;00m InvalidIndexError(key)\n\u001b[0;32m-> 3812\u001b[0m     \u001b[38;5;28;01mraise\u001b[39;00m \u001b[38;5;167;01mKeyError\u001b[39;00m(key) \u001b[38;5;28;01mfrom\u001b[39;00m\u001b[38;5;250m \u001b[39m\u001b[38;5;21;01merr\u001b[39;00m\n\u001b[1;32m   3813\u001b[0m \u001b[38;5;28;01mexcept\u001b[39;00m \u001b[38;5;167;01mTypeError\u001b[39;00m:\n\u001b[1;32m   3814\u001b[0m     \u001b[38;5;66;03m# If we have a listlike key, _check_indexing_error will raise\u001b[39;00m\n\u001b[1;32m   3815\u001b[0m     \u001b[38;5;66;03m#  InvalidIndexError. Otherwise we fall through and re-raise\u001b[39;00m\n\u001b[1;32m   3816\u001b[0m     \u001b[38;5;66;03m#  the TypeError.\u001b[39;00m\n\u001b[1;32m   3817\u001b[0m     \u001b[38;5;28mself\u001b[39m\u001b[38;5;241m.\u001b[39m_check_indexing_error(key)\n",
      "\u001b[0;31mKeyError\u001b[0m: '편차'"
     ]
    }
   ],
   "source": [
    "# 분산: 편차제곱의 합 / 데이터 수\n",
    "a['편차제곱'] = a['편차'] ** 2\n",
    "a\n"
   ]
  },
  {
   "cell_type": "code",
   "execution_count": 90,
   "id": "1d76b4ee-1f12-4989-bc70-566804838f7a",
   "metadata": {},
   "outputs": [
    {
     "ename": "KeyError",
     "evalue": "'편차제곱'",
     "output_type": "error",
     "traceback": [
      "\u001b[0;31m---------------------------------------------------------------------------\u001b[0m",
      "\u001b[0;31mKeyError\u001b[0m                                  Traceback (most recent call last)",
      "File \u001b[0;32m~/miniforge3/envs/fintech/lib/python3.12/site-packages/pandas/core/indexes/base.py:3805\u001b[0m, in \u001b[0;36mIndex.get_loc\u001b[0;34m(self, key)\u001b[0m\n\u001b[1;32m   3804\u001b[0m \u001b[38;5;28;01mtry\u001b[39;00m:\n\u001b[0;32m-> 3805\u001b[0m     \u001b[38;5;28;01mreturn\u001b[39;00m \u001b[38;5;28;43mself\u001b[39;49m\u001b[38;5;241;43m.\u001b[39;49m\u001b[43m_engine\u001b[49m\u001b[38;5;241;43m.\u001b[39;49m\u001b[43mget_loc\u001b[49m\u001b[43m(\u001b[49m\u001b[43mcasted_key\u001b[49m\u001b[43m)\u001b[49m\n\u001b[1;32m   3806\u001b[0m \u001b[38;5;28;01mexcept\u001b[39;00m \u001b[38;5;167;01mKeyError\u001b[39;00m \u001b[38;5;28;01mas\u001b[39;00m err:\n",
      "File \u001b[0;32mindex.pyx:167\u001b[0m, in \u001b[0;36mpandas._libs.index.IndexEngine.get_loc\u001b[0;34m()\u001b[0m\n",
      "File \u001b[0;32mindex.pyx:196\u001b[0m, in \u001b[0;36mpandas._libs.index.IndexEngine.get_loc\u001b[0;34m()\u001b[0m\n",
      "File \u001b[0;32mpandas/_libs/hashtable_class_helper.pxi:7081\u001b[0m, in \u001b[0;36mpandas._libs.hashtable.PyObjectHashTable.get_item\u001b[0;34m()\u001b[0m\n",
      "File \u001b[0;32mpandas/_libs/hashtable_class_helper.pxi:7089\u001b[0m, in \u001b[0;36mpandas._libs.hashtable.PyObjectHashTable.get_item\u001b[0;34m()\u001b[0m\n",
      "\u001b[0;31mKeyError\u001b[0m: '편차제곱'",
      "\nThe above exception was the direct cause of the following exception:\n",
      "\u001b[0;31mKeyError\u001b[0m                                  Traceback (most recent call last)",
      "Cell \u001b[0;32mIn[90], line 1\u001b[0m\n\u001b[0;32m----> 1\u001b[0m a[\u001b[38;5;124m'\u001b[39m\u001b[38;5;124m모분산\u001b[39m\u001b[38;5;124m'\u001b[39m] \u001b[38;5;241m=\u001b[39m \u001b[43ma\u001b[49m\u001b[43m[\u001b[49m\u001b[38;5;124;43m'\u001b[39;49m\u001b[38;5;124;43m편차제곱\u001b[39;49m\u001b[38;5;124;43m'\u001b[39;49m\u001b[43m]\u001b[49m\u001b[38;5;241m.\u001b[39msum() \u001b[38;5;241m/\u001b[39m \u001b[38;5;28mlen\u001b[39m(a[\u001b[38;5;124m'\u001b[39m\u001b[38;5;124m편차제곱\u001b[39m\u001b[38;5;124m'\u001b[39m])\n\u001b[1;32m      2\u001b[0m a\n",
      "File \u001b[0;32m~/miniforge3/envs/fintech/lib/python3.12/site-packages/pandas/core/frame.py:4102\u001b[0m, in \u001b[0;36mDataFrame.__getitem__\u001b[0;34m(self, key)\u001b[0m\n\u001b[1;32m   4100\u001b[0m \u001b[38;5;28;01mif\u001b[39;00m \u001b[38;5;28mself\u001b[39m\u001b[38;5;241m.\u001b[39mcolumns\u001b[38;5;241m.\u001b[39mnlevels \u001b[38;5;241m>\u001b[39m \u001b[38;5;241m1\u001b[39m:\n\u001b[1;32m   4101\u001b[0m     \u001b[38;5;28;01mreturn\u001b[39;00m \u001b[38;5;28mself\u001b[39m\u001b[38;5;241m.\u001b[39m_getitem_multilevel(key)\n\u001b[0;32m-> 4102\u001b[0m indexer \u001b[38;5;241m=\u001b[39m \u001b[38;5;28;43mself\u001b[39;49m\u001b[38;5;241;43m.\u001b[39;49m\u001b[43mcolumns\u001b[49m\u001b[38;5;241;43m.\u001b[39;49m\u001b[43mget_loc\u001b[49m\u001b[43m(\u001b[49m\u001b[43mkey\u001b[49m\u001b[43m)\u001b[49m\n\u001b[1;32m   4103\u001b[0m \u001b[38;5;28;01mif\u001b[39;00m is_integer(indexer):\n\u001b[1;32m   4104\u001b[0m     indexer \u001b[38;5;241m=\u001b[39m [indexer]\n",
      "File \u001b[0;32m~/miniforge3/envs/fintech/lib/python3.12/site-packages/pandas/core/indexes/base.py:3812\u001b[0m, in \u001b[0;36mIndex.get_loc\u001b[0;34m(self, key)\u001b[0m\n\u001b[1;32m   3807\u001b[0m     \u001b[38;5;28;01mif\u001b[39;00m \u001b[38;5;28misinstance\u001b[39m(casted_key, \u001b[38;5;28mslice\u001b[39m) \u001b[38;5;129;01mor\u001b[39;00m (\n\u001b[1;32m   3808\u001b[0m         \u001b[38;5;28misinstance\u001b[39m(casted_key, abc\u001b[38;5;241m.\u001b[39mIterable)\n\u001b[1;32m   3809\u001b[0m         \u001b[38;5;129;01mand\u001b[39;00m \u001b[38;5;28many\u001b[39m(\u001b[38;5;28misinstance\u001b[39m(x, \u001b[38;5;28mslice\u001b[39m) \u001b[38;5;28;01mfor\u001b[39;00m x \u001b[38;5;129;01min\u001b[39;00m casted_key)\n\u001b[1;32m   3810\u001b[0m     ):\n\u001b[1;32m   3811\u001b[0m         \u001b[38;5;28;01mraise\u001b[39;00m InvalidIndexError(key)\n\u001b[0;32m-> 3812\u001b[0m     \u001b[38;5;28;01mraise\u001b[39;00m \u001b[38;5;167;01mKeyError\u001b[39;00m(key) \u001b[38;5;28;01mfrom\u001b[39;00m\u001b[38;5;250m \u001b[39m\u001b[38;5;21;01merr\u001b[39;00m\n\u001b[1;32m   3813\u001b[0m \u001b[38;5;28;01mexcept\u001b[39;00m \u001b[38;5;167;01mTypeError\u001b[39;00m:\n\u001b[1;32m   3814\u001b[0m     \u001b[38;5;66;03m# If we have a listlike key, _check_indexing_error will raise\u001b[39;00m\n\u001b[1;32m   3815\u001b[0m     \u001b[38;5;66;03m#  InvalidIndexError. Otherwise we fall through and re-raise\u001b[39;00m\n\u001b[1;32m   3816\u001b[0m     \u001b[38;5;66;03m#  the TypeError.\u001b[39;00m\n\u001b[1;32m   3817\u001b[0m     \u001b[38;5;28mself\u001b[39m\u001b[38;5;241m.\u001b[39m_check_indexing_error(key)\n",
      "\u001b[0;31mKeyError\u001b[0m: '편차제곱'"
     ]
    }
   ],
   "source": [
    "\t\n",
    "a['모분산'] = a['편차제곱'].sum() / len(a['편차제곱'])\n",
    "a\n"
   ]
  },
  {
   "cell_type": "code",
   "execution_count": 87,
   "id": "1a763861-a31e-4962-bf18-1a3dd080c441",
   "metadata": {},
   "outputs": [
    {
     "data": {
      "text/plain": [
       "np.float64(4.444444444444445)"
      ]
     },
     "execution_count": 87,
     "metadata": {},
     "output_type": "execute_result"
    }
   ],
   "source": [
    "a['표본'].var()"
   ]
  },
  {
   "cell_type": "markdown",
   "id": "d4d34129-6687-4d78-9462-c1a4e5198912",
   "metadata": {},
   "source": [
    "### 5) 표준편자(Standard Diviation): 분산의 제곱근\n",
    "* "
   ]
  },
  {
   "cell_type": "code",
   "execution_count": null,
   "id": "e47f5ab5-f06a-4d2b-99d5-33efc07e32ae",
   "metadata": {},
   "outputs": [],
   "source": []
  },
  {
   "cell_type": "code",
   "execution_count": null,
   "id": "6fc12913-d828-46b7-9fbc-6be7352302a4",
   "metadata": {},
   "outputs": [],
   "source": []
  },
  {
   "cell_type": "code",
   "execution_count": null,
   "id": "98bec958-9424-4519-a19c-3680ffd94775",
   "metadata": {},
   "outputs": [],
   "source": []
  },
  {
   "cell_type": "code",
   "execution_count": null,
   "id": "81cd13ad-d7f1-4df1-8953-2e4ec7513bf1",
   "metadata": {},
   "outputs": [],
   "source": []
  },
  {
   "cell_type": "code",
   "execution_count": null,
   "id": "4d15cd67-19e9-495d-9173-fb445e008dd1",
   "metadata": {},
   "outputs": [],
   "source": []
  },
  {
   "cell_type": "code",
   "execution_count": null,
   "id": "02484074-2d7f-4ef8-a503-5df9e3bad920",
   "metadata": {},
   "outputs": [],
   "source": []
  },
  {
   "cell_type": "markdown",
   "id": "c6a742c7-35c8-47e8-ac88-a8beba300ca8",
   "metadata": {},
   "source": [
    "### 6) 표준점수(standard score), z-점수(z-score)\n",
    "* 데이터 포인트(값)이 평균으로부터 얼마나 떨어져 있는지를 나타내는 지표\n",
    "* 이는 데이터 포인트가 평균에서 몇 표준편자 떨어져 있는지를 나타내며\n",
    "* 데이터의 상대적인 위치를 이해하는데 유용하다.\n",
    "* 모집단의 표준점수 (z-score)\n",
    "* $ Z =\n",
    "* 표본집단의 표준점수(z-score)\n",
    "* $ Z"
   ]
  },
  {
   "cell_type": "markdown",
   "id": "4bacff4f-8543-4376-a9ee-96d2944c21ed",
   "metadata": {},
   "source": [
    "## 가설 검정 t-test\n",
    "* t-test는 두 집단의 평균을 비교해서 차이가 있는지 확인하는 통계적인 방법\n",
    "* t 통계랑의 절대값이 크면 p-values(유의수준)가 낮아짐"
   ]
  },
  {
   "cell_type": "markdown",
   "id": "6d2b07f9-c6dd-41c6-9a22-a62bda414c70",
   "metadata": {},
   "source": [
    "### 1) 일 표본 단측 t-검정(한 쪽으로 방향성을 갖는 경우)\n",
    "* 모수에 대한 검정을 할 때 모수 값이 ~보다 크다, ~보다 작다와 같이 한쪽으로 방향성을 갖는 경우 수행되는 검정 방법\n",
    "* 00 공장에서 생산되는 지우개의 평균 중량은 50g이하다. (귀무가설) - 원래 알고 있던 사실\n",
    "* 00 공장에서 생산되는 지우개의 평균 중량은 50g초과다. (대립가설) - 새로운 주장"
   ]
  },
  {
   "cell_type": "markdown",
   "id": "5bb308d5-99fc-4d98-b612-037203562d30",
   "metadata": {},
   "source": [
    "#### 통계와 회귀분석에 특화되어있는 라이브라러\n",
    "#### !pip install statsmodels \n",
    "https://www.statsmodels.org/stable/index.html"
   ]
  },
  {
   "cell_type": "code",
   "execution_count": 2,
   "id": "09f9a08e-48b0-469e-b251-f6b9885a577f",
   "metadata": {},
   "outputs": [],
   "source": [
    "import statsmodels.stats.weightstats as stests\n",
    "from scipy import stats"
   ]
  },
  {
   "cell_type": "code",
   "execution_count": 6,
   "id": "cd9e479c-0eac-4d07-b76c-8c94e267859c",
   "metadata": {},
   "outputs": [
    {
     "name": "stdout",
     "output_type": "stream",
     "text": [
      "[49.52735445 49.71468546 49.80676767 51.51111027 50.15310887 50.51797093\n",
      " 49.54134764 50.80243945 50.17683357 51.45538845]\n",
      "지우개의 평균  50.320700676367295\n"
     ]
    }
   ],
   "source": [
    "# 일 표본 단측 t-test를 위해서 지우개 10개의 표본 추출\n",
    "weights = np.random.uniform(49,52,10)\n",
    "print(weights)\n",
    "print(\"지우개의 평균 \", weights.mean())"
   ]
  },
  {
   "cell_type": "code",
   "execution_count": 8,
   "id": "58a6d91d-74b4-42a0-bc01-85e413df7deb",
   "metadata": {},
   "outputs": [
    {
     "data": {
      "text/plain": [
       "TtestResult(statistic=np.float64(1.375479635912609), pvalue=np.float64(0.1011230023659009), df=np.int64(9))"
      ]
     },
     "execution_count": 8,
     "metadata": {},
     "output_type": "execute_result"
    }
   ],
   "source": [
    " stats.ttest_1samp(weights, 50, alternative='greater')"
   ]
  },
  {
   "cell_type": "code",
   "execution_count": 9,
   "id": "6327c5c7-2f7c-40bc-8e08-d7a855c9679c",
   "metadata": {},
   "outputs": [
    {
     "name": "stdout",
     "output_type": "stream",
     "text": [
      "t-통계랑: 1.375479635912609, p-value: 0.1011230023659009\n"
     ]
    }
   ],
   "source": [
    "# 일 표본 단측 t-test\n",
    "t_test, p_value = stats.ttest_1samp(weights, 50, alternative='greater')\n",
    "#주장이 원래 주장이 50g초과이기 때문에 옵션을 크다는 의미로 그레이터로 주었다.\n",
    "print(f\"t-통계랑: {t_test}, p-value: {p_value}\")"
   ]
  },
  {
   "cell_type": "markdown",
   "id": "7d463955-fee0-45bf-8a40-561a5404857c",
   "metadata": {},
   "source": [
    "* p-value가 0.10이므로 유의수준 0.05보다 크기 때문에<br>\n",
    "   귀무가설(지우개의 무개는 50g이하다)은 채택<br>\n",
    "  대립가설(지우개의 무개는 50g이하다)은 기각<br>"
   ]
  },
  {
   "cell_type": "markdown",
   "id": "f5dea0cf-459f-4739-8f7a-66c6181d42ec",
   "metadata": {},
   "source": [
    "### 2) 일 표본 양측 t-test(방향성이 없는 경우)맞다, 아니다\n",
    "* 단측 검정과 달리 모수 값이 **~이다. ~가 아니다** 와 같이 방향이 없는 경우.\n",
    "* 대한민국의 남성의 평균 몸무게는 70kg이다. (귀무가설)\n",
    "* 대한민국의 남성의 평균 몸무게는 70kg이 아니다. (대립가설)"
   ]
  },
  {
   "cell_type": "code",
   "execution_count": 11,
   "id": "e9c6db0b-2040-4cf1-9c30-2600425a6149",
   "metadata": {},
   "outputs": [
    {
     "name": "stdout",
     "output_type": "stream",
     "text": [
      "100\n",
      "몸무게 평균  71.4730764576609\n"
     ]
    }
   ],
   "source": [
    "# 일 표본 양측 t-test를 위한 40kg -100kg 사이 남성 100명 표본을 추출\n",
    "weights =  np.random.uniform(40,100,100)\n",
    "print(len(weights))\n",
    "print(\"몸무게 평균 \", weights.mean())"
   ]
  },
  {
   "cell_type": "code",
   "execution_count": 12,
   "id": "01422ac9-60e1-41c9-b365-4e68833f0666",
   "metadata": {},
   "outputs": [
    {
     "name": "stdout",
     "output_type": "stream",
     "text": [
      "t-통계랑: 0.8936650728756597, p-value: 0.3736684648516586\n"
     ]
    }
   ],
   "source": [
    "t_test, p_value = stats.ttest_1samp(weights, 70, alternative='two-sided')\n",
    "# 두가지 선책이므로 옵션을 투 사이디드로 주었다\n",
    "print(f\"t-통계랑: {t_test}, p-value: {p_value}\")"
   ]
  },
  {
   "cell_type": "markdown",
   "id": "2dbee5e8-47c6-43a3-a39f-8945920912d3",
   "metadata": {},
   "source": [
    "* p-value가 0.37이므로 유의수준 0.05보다 작기 때문에<br>\n",
    "   귀무가설(대한민국의 남성의 평균 몸무게는 70kg이다)은 기각<br>\n",
    "  대립가설(대한민국의 남성의 평균 몸무게는 70kg이 아니다)은 채택<br>"
   ]
  },
  {
   "cell_type": "markdown",
   "id": "f2c0a0ae-3cde-42d7-aa6a-d33c4bb11738",
   "metadata": {},
   "source": [
    "### 이 표본 **단측** t검정(~보다 크다/작다)\n",
    "* 두 집단에 대해서 모수비교를 할 때 A가 B보다 크다/작다를 비교하는 검정\n",
    "* A회사의 급여가 B회사의 급여보다 같거나 많다."
   ]
  },
  {
   "cell_type": "markdown",
   "id": "609d6256-fdaf-417d-8d53-3a4607375884",
   "metadata": {},
   "source": [
    "### 이 표본 **양측** t검정 ( a와 b가 같다/혹은 다르다 )\n",
    "* 두 집단에 대해서 모수비교를 할 때 A가 B보다 크다/작다를 비교하는 검정\n",
    "* A회사의 급여가 B회사의 급여보다 같다/다르다."
   ]
  },
  {
   "cell_type": "markdown",
   "id": "2e2e4ecd-0913-48a9-98ac-774abc8cdbfc",
   "metadata": {},
   "source": [
    "### 6) 대응표본 t검정(paired t-test) A/B test\n",
    "* 실험 전후 비교\n",
    "* 동일한 대상에 대해 두 가지 관측치가 있는 경우 이를 비교하여 차이가 있는지 검정할 때 사용\n",
    "* 두 집단에 신약투여 후 전후 수치 비교, 새로운 버전의 앱/기능 추가 전후 비교\n",
    "* 새로운 운동법이 체중 감량 효과가 있는지 검증하기 위해서 새로운 운동법을 실시한 집단과 실시하지 않은 집단의 체중 비교\n",
    "* 새로운 운동법으로 체중감량의 효과는 없다.(귀무가설) 운동전 무게와 운동 후 무게 >= 0\n",
    "* 새로운 운동법으로 체중감량의 효과가 있다.(대립가설) 운동전 무게와 운동 후 무게 < 0"
   ]
  },
  {
   "cell_type": "code",
   "execution_count": 17,
   "id": "ba3104ed-14c9-4c10-b6ac-0aa060e1683d",
   "metadata": {},
   "outputs": [
    {
     "name": "stdout",
     "output_type": "stream",
     "text": [
      "t-통계랑: 3.5325974013681103, p-value: 0.0003134226367302257\n"
     ]
    }
   ],
   "source": [
    "# 대응표본 t검정을 위한 표본 추출\n",
    "before = np.random.uniform(60,80, 100)\n",
    "after = before + np.random.uniform(-3,2, 100)\n",
    "\n",
    "# 대응 표본 t검정 \n",
    "t_test, p_value = stats.ttest_rel(before,after, alternative='greater')\n",
    "print(f\"t-통계랑: {t_test}, p-value: {p_value}\")"
   ]
  },
  {
   "cell_type": "markdown",
   "id": "235b2199-8032-4fbd-a1cd-9e5317667708",
   "metadata": {},
   "source": [
    "* p-value가 0.05 이하이므로 <br>\n",
    "새로운 운동법으로 체중감량의 효과는 없다.(귀무가설)가 기각 <br>\n",
    "새로운 운동법으로 체중감량의 효과가 있다.(대립가설)가 채택"
   ]
  },
  {
   "cell_type": "markdown",
   "id": "d9a6c56b-6f40-40d5-a077-591dcbe6d345",
   "metadata": {},
   "source": [
    "## 분산분석(ANOVA)\n",
    "* 3개 이상의 모집단 있을 경우 집단 사이의 평균 비교\n",
    "* 분산분석의 귀무가설($ H_0 $) \"모든 집단 간 평균은 같다\"\n",
    "* 1) 분산분석을 수행하기 위해서는 3가지 가정이 필요.\n",
    "     * 정규성: 각 집단의 표본들은 정규 분포를 따라야 한다.\n",
    "     * 등분산성: 각 집단은 동일한 분산을 가져야한다.\n",
    "     * 독립성: 각 집단은 서로에게 영향을 주지 않는다.\n",
    "* 2) 분산 분석\n",
    "     * 분산 분석의 독립변수는 범주형 데이터, 종속 변수는 연속형이어야 한다.\n",
    "     * 분산 분석에는 '(집단 간 분산)/(집단 내 분산)'으로 계산되는 F-value가 사용.\n",
    "     * F-value가 커지면 p-value가 작아진다.\n",
    "     * 평균을 비교하는 분석에 '분산'의 개념을 사용하는 이유는 집단간 단 평균의 분산이 클수록 각 집단의 평균은 서로 멀리 떨어져 있기 때문에 집단 간 차이를 비교하기 쉬워진다. "
   ]
  },
  {
   "cell_type": "markdown",
   "id": "df76a804-9d8e-4d99-b530-f62aa0cc2c2b",
   "metadata": {},
   "source": [
    "### 1) 일원분산분석(one-way ANOVA)\n",
    "* 셋 이상의 집단 간 평균을 비교하는 상황에서 하나의 집단에 속하는 독립변수와 종속변수가 모두 한 개일 때 사용\n",
    "   * 독립변수 1: 연령별 집단(청소년, 성인, 노인) - 범주형\n",
    "   * 종속변수 1: 유튜브 시청 시간 - 연속형\n",
    "\n",
    "* 신형 휴대폰 A,B,C의 속도 차이가 있는지 여부\n",
    "* 귀무가설($ H_O $): A, B,C 세 대의 신형 휴대폰 간의 속도 차이는 없다.\n",
    "* 대립가설($ H_1 $): A, B,C 세 대의 신형 휴대폰 간의 속도 차이는 있다."
   ]
  },
  {
   "cell_type": "code",
   "execution_count": 31,
   "id": "aeccb87b-d12c-416b-a79d-5f083cb78741",
   "metadata": {},
   "outputs": [],
   "source": [
    "# 분산분석을 위한 데이터 생성\n",
    "import statsmodels.api as sm\n",
    "import statsmodels.formula.api as ols"
   ]
  },
  {
   "cell_type": "code",
   "execution_count": 25,
   "id": "bc0ccb23-1acc-4213-970d-1b67784d7645",
   "metadata": {},
   "outputs": [
    {
     "name": "stdout",
     "output_type": "stream",
     "text": [
      "phone_speed  [88.7203376  92.87973416 90.0690844  88.62207957 85.59136998 91.14735283\n",
      " 85.93968028 97.29432502 99.09156901 84.58603797 94.79312595 88.22237299\n",
      " 89.20111403 98.13991596 76.77590145 77.17823249 75.50545994 95.81549614\n",
      " 94.45391877 96.75030371 99.46545856 94.97896411 86.53698406 94.51322941\n",
      " 77.95686065 90.99802553 78.58383219 98.61672293 88.04620804 85.3665485\n",
      " 81.6138903  94.35584224 86.40375831 89.21084872 75.46974501 90.44088743\n",
      " 90.30239307 90.42334992 98.59370196 92.04550748 83.98769751 85.92579884\n",
      " 92.4407799  76.50563679 91.66916789]\n",
      "telecom ['A' 'B' 'C' 'A' 'B' 'C' 'A' 'B' 'C' 'A' 'B' 'C' 'A' 'B' 'C' 'A' 'B' 'C'\n",
      " 'A' 'B' 'C' 'A' 'B' 'C' 'A' 'B' 'C' 'A' 'B' 'C' 'A' 'B' 'C' 'A' 'B' 'C'\n",
      " 'A' 'B' 'C' 'A' 'B' 'C' 'A' 'B' 'C']\n"
     ]
    }
   ],
   "source": [
    "np.random.seed(0)\n",
    "phone_speed = np.random.uniform(75,100,45)\n",
    "telecom = np.tile(['A','B',\"C\"],15)\n",
    "print('phone_speed ', phone_speed)\n",
    "print('telecom', telecom )"
   ]
  },
  {
   "cell_type": "code",
   "execution_count": 26,
   "id": "cadcc6d5-284a-447a-af70-276f94d15194",
   "metadata": {},
   "outputs": [
    {
     "data": {
      "text/html": [
       "<div>\n",
       "<style scoped>\n",
       "    .dataframe tbody tr th:only-of-type {\n",
       "        vertical-align: middle;\n",
       "    }\n",
       "\n",
       "    .dataframe tbody tr th {\n",
       "        vertical-align: top;\n",
       "    }\n",
       "\n",
       "    .dataframe thead th {\n",
       "        text-align: right;\n",
       "    }\n",
       "</style>\n",
       "<table border=\"1\" class=\"dataframe\">\n",
       "  <thead>\n",
       "    <tr style=\"text-align: right;\">\n",
       "      <th></th>\n",
       "      <th>phone_speed</th>\n",
       "      <th>telecom</th>\n",
       "    </tr>\n",
       "  </thead>\n",
       "  <tbody>\n",
       "    <tr>\n",
       "      <th>0</th>\n",
       "      <td>88.720338</td>\n",
       "      <td>A</td>\n",
       "    </tr>\n",
       "    <tr>\n",
       "      <th>1</th>\n",
       "      <td>92.879734</td>\n",
       "      <td>B</td>\n",
       "    </tr>\n",
       "    <tr>\n",
       "      <th>2</th>\n",
       "      <td>90.069084</td>\n",
       "      <td>C</td>\n",
       "    </tr>\n",
       "    <tr>\n",
       "      <th>3</th>\n",
       "      <td>88.622080</td>\n",
       "      <td>A</td>\n",
       "    </tr>\n",
       "    <tr>\n",
       "      <th>4</th>\n",
       "      <td>85.591370</td>\n",
       "      <td>B</td>\n",
       "    </tr>\n",
       "    <tr>\n",
       "      <th>5</th>\n",
       "      <td>91.147353</td>\n",
       "      <td>C</td>\n",
       "    </tr>\n",
       "    <tr>\n",
       "      <th>6</th>\n",
       "      <td>85.939680</td>\n",
       "      <td>A</td>\n",
       "    </tr>\n",
       "    <tr>\n",
       "      <th>7</th>\n",
       "      <td>97.294325</td>\n",
       "      <td>B</td>\n",
       "    </tr>\n",
       "    <tr>\n",
       "      <th>8</th>\n",
       "      <td>99.091569</td>\n",
       "      <td>C</td>\n",
       "    </tr>\n",
       "    <tr>\n",
       "      <th>9</th>\n",
       "      <td>84.586038</td>\n",
       "      <td>A</td>\n",
       "    </tr>\n",
       "    <tr>\n",
       "      <th>10</th>\n",
       "      <td>94.793126</td>\n",
       "      <td>B</td>\n",
       "    </tr>\n",
       "    <tr>\n",
       "      <th>11</th>\n",
       "      <td>88.222373</td>\n",
       "      <td>C</td>\n",
       "    </tr>\n",
       "    <tr>\n",
       "      <th>12</th>\n",
       "      <td>89.201114</td>\n",
       "      <td>A</td>\n",
       "    </tr>\n",
       "    <tr>\n",
       "      <th>13</th>\n",
       "      <td>98.139916</td>\n",
       "      <td>B</td>\n",
       "    </tr>\n",
       "    <tr>\n",
       "      <th>14</th>\n",
       "      <td>76.775901</td>\n",
       "      <td>C</td>\n",
       "    </tr>\n",
       "    <tr>\n",
       "      <th>15</th>\n",
       "      <td>77.178232</td>\n",
       "      <td>A</td>\n",
       "    </tr>\n",
       "    <tr>\n",
       "      <th>16</th>\n",
       "      <td>75.505460</td>\n",
       "      <td>B</td>\n",
       "    </tr>\n",
       "    <tr>\n",
       "      <th>17</th>\n",
       "      <td>95.815496</td>\n",
       "      <td>C</td>\n",
       "    </tr>\n",
       "    <tr>\n",
       "      <th>18</th>\n",
       "      <td>94.453919</td>\n",
       "      <td>A</td>\n",
       "    </tr>\n",
       "    <tr>\n",
       "      <th>19</th>\n",
       "      <td>96.750304</td>\n",
       "      <td>B</td>\n",
       "    </tr>\n",
       "    <tr>\n",
       "      <th>20</th>\n",
       "      <td>99.465459</td>\n",
       "      <td>C</td>\n",
       "    </tr>\n",
       "    <tr>\n",
       "      <th>21</th>\n",
       "      <td>94.978964</td>\n",
       "      <td>A</td>\n",
       "    </tr>\n",
       "    <tr>\n",
       "      <th>22</th>\n",
       "      <td>86.536984</td>\n",
       "      <td>B</td>\n",
       "    </tr>\n",
       "    <tr>\n",
       "      <th>23</th>\n",
       "      <td>94.513229</td>\n",
       "      <td>C</td>\n",
       "    </tr>\n",
       "    <tr>\n",
       "      <th>24</th>\n",
       "      <td>77.956861</td>\n",
       "      <td>A</td>\n",
       "    </tr>\n",
       "    <tr>\n",
       "      <th>25</th>\n",
       "      <td>90.998026</td>\n",
       "      <td>B</td>\n",
       "    </tr>\n",
       "    <tr>\n",
       "      <th>26</th>\n",
       "      <td>78.583832</td>\n",
       "      <td>C</td>\n",
       "    </tr>\n",
       "    <tr>\n",
       "      <th>27</th>\n",
       "      <td>98.616723</td>\n",
       "      <td>A</td>\n",
       "    </tr>\n",
       "    <tr>\n",
       "      <th>28</th>\n",
       "      <td>88.046208</td>\n",
       "      <td>B</td>\n",
       "    </tr>\n",
       "    <tr>\n",
       "      <th>29</th>\n",
       "      <td>85.366548</td>\n",
       "      <td>C</td>\n",
       "    </tr>\n",
       "    <tr>\n",
       "      <th>30</th>\n",
       "      <td>81.613890</td>\n",
       "      <td>A</td>\n",
       "    </tr>\n",
       "    <tr>\n",
       "      <th>31</th>\n",
       "      <td>94.355842</td>\n",
       "      <td>B</td>\n",
       "    </tr>\n",
       "    <tr>\n",
       "      <th>32</th>\n",
       "      <td>86.403758</td>\n",
       "      <td>C</td>\n",
       "    </tr>\n",
       "    <tr>\n",
       "      <th>33</th>\n",
       "      <td>89.210849</td>\n",
       "      <td>A</td>\n",
       "    </tr>\n",
       "    <tr>\n",
       "      <th>34</th>\n",
       "      <td>75.469745</td>\n",
       "      <td>B</td>\n",
       "    </tr>\n",
       "    <tr>\n",
       "      <th>35</th>\n",
       "      <td>90.440887</td>\n",
       "      <td>C</td>\n",
       "    </tr>\n",
       "    <tr>\n",
       "      <th>36</th>\n",
       "      <td>90.302393</td>\n",
       "      <td>A</td>\n",
       "    </tr>\n",
       "    <tr>\n",
       "      <th>37</th>\n",
       "      <td>90.423350</td>\n",
       "      <td>B</td>\n",
       "    </tr>\n",
       "    <tr>\n",
       "      <th>38</th>\n",
       "      <td>98.593702</td>\n",
       "      <td>C</td>\n",
       "    </tr>\n",
       "    <tr>\n",
       "      <th>39</th>\n",
       "      <td>92.045507</td>\n",
       "      <td>A</td>\n",
       "    </tr>\n",
       "    <tr>\n",
       "      <th>40</th>\n",
       "      <td>83.987698</td>\n",
       "      <td>B</td>\n",
       "    </tr>\n",
       "    <tr>\n",
       "      <th>41</th>\n",
       "      <td>85.925799</td>\n",
       "      <td>C</td>\n",
       "    </tr>\n",
       "    <tr>\n",
       "      <th>42</th>\n",
       "      <td>92.440780</td>\n",
       "      <td>A</td>\n",
       "    </tr>\n",
       "    <tr>\n",
       "      <th>43</th>\n",
       "      <td>76.505637</td>\n",
       "      <td>B</td>\n",
       "    </tr>\n",
       "    <tr>\n",
       "      <th>44</th>\n",
       "      <td>91.669168</td>\n",
       "      <td>C</td>\n",
       "    </tr>\n",
       "  </tbody>\n",
       "</table>\n",
       "</div>"
      ],
      "text/plain": [
       "    phone_speed telecom\n",
       "0     88.720338       A\n",
       "1     92.879734       B\n",
       "2     90.069084       C\n",
       "3     88.622080       A\n",
       "4     85.591370       B\n",
       "5     91.147353       C\n",
       "6     85.939680       A\n",
       "7     97.294325       B\n",
       "8     99.091569       C\n",
       "9     84.586038       A\n",
       "10    94.793126       B\n",
       "11    88.222373       C\n",
       "12    89.201114       A\n",
       "13    98.139916       B\n",
       "14    76.775901       C\n",
       "15    77.178232       A\n",
       "16    75.505460       B\n",
       "17    95.815496       C\n",
       "18    94.453919       A\n",
       "19    96.750304       B\n",
       "20    99.465459       C\n",
       "21    94.978964       A\n",
       "22    86.536984       B\n",
       "23    94.513229       C\n",
       "24    77.956861       A\n",
       "25    90.998026       B\n",
       "26    78.583832       C\n",
       "27    98.616723       A\n",
       "28    88.046208       B\n",
       "29    85.366548       C\n",
       "30    81.613890       A\n",
       "31    94.355842       B\n",
       "32    86.403758       C\n",
       "33    89.210849       A\n",
       "34    75.469745       B\n",
       "35    90.440887       C\n",
       "36    90.302393       A\n",
       "37    90.423350       B\n",
       "38    98.593702       C\n",
       "39    92.045507       A\n",
       "40    83.987698       B\n",
       "41    85.925799       C\n",
       "42    92.440780       A\n",
       "43    76.505637       B\n",
       "44    91.669168       C"
      ]
     },
     "execution_count": 26,
     "metadata": {},
     "output_type": "execute_result"
    }
   ],
   "source": [
    "phone_data = pd.DataFrame(dict( phone_speed=phone_speed, telecom =telecom))\n",
    "phone_data "
   ]
  },
  {
   "cell_type": "code",
   "execution_count": 32,
   "id": "8dd23b89-a143-4038-bab1-9e002708d710",
   "metadata": {},
   "outputs": [
    {
     "ename": "TypeError",
     "evalue": "'module' object is not callable",
     "output_type": "error",
     "traceback": [
      "\u001b[0;31m---------------------------------------------------------------------------\u001b[0m",
      "\u001b[0;31mTypeError\u001b[0m                                 Traceback (most recent call last)",
      "Cell \u001b[0;32mIn[32], line 3\u001b[0m\n\u001b[1;32m      1\u001b[0m \u001b[38;5;66;03m# 분산분석 수행\u001b[39;00m\n\u001b[1;32m      2\u001b[0m \u001b[38;5;66;03m# 선형회귀 분석\u001b[39;00m\n\u001b[0;32m----> 3\u001b[0m model \u001b[38;5;241m=\u001b[39m  \u001b[43mols\u001b[49m\u001b[43m(\u001b[49m\u001b[38;5;124;43m'\u001b[39;49m\u001b[38;5;124;43mphone_speed ~ C(telecom)\u001b[39;49m\u001b[38;5;124;43m'\u001b[39;49m\u001b[43m,\u001b[49m\u001b[43m \u001b[49m\u001b[43mdata\u001b[49m\u001b[38;5;241;43m=\u001b[39;49m\u001b[43m \u001b[49m\u001b[43mphone_data\u001b[49m\u001b[43m)\u001b[49m\u001b[38;5;241m.\u001b[39mfit()\n\u001b[1;32m      4\u001b[0m \u001b[38;5;28mprint\u001b[39m( model\u001b[38;5;241m.\u001b[39msummary())\n\u001b[1;32m      5\u001b[0m anova_table \u001b[38;5;241m=\u001b[39m sm\u001b[38;5;241m.\u001b[39mstats\u001b[38;5;241m.\u001b[39manova_Im(model, typ\u001b[38;5;241m=\u001b[39m\u001b[38;5;241m2\u001b[39m)\n",
      "\u001b[0;31mTypeError\u001b[0m: 'module' object is not callable"
     ]
    }
   ],
   "source": [
    "# 분산분석 수행\n",
    "# 선형회귀 분석\n",
    "model =  ols('phone_speed ~ C(telecom)', data= phone_data).fit()\n",
    "print( model.summary())\n",
    "anova_table = sm.stats.anova_Im(model, typ=2)\n",
    "print(anova_table)"
   ]
  },
  {
   "cell_type": "markdown",
   "id": "3c7a5edb-ea58-488b-aa5f-430a23bb6e8b",
   "metadata": {},
   "source": [
    "* 신형 휴대폰 A,B,C의 속도 차이가 있는지 여부\n",
    "* 귀무가설($ H_O $): A, B,C 세 대의 신형 휴대폰 간의 속도 차이는 없다.(> 0.05)\n",
    "* 대립가설($ H_1 $): A, B,C 세 대의 신형 휴대폰 간의 속도 차이는 있다.(<0.05)"
   ]
  },
  {
   "cell_type": "code",
   "execution_count": null,
   "id": "39ed8228-7ca2-4e02-9234-20c8e035c5f1",
   "metadata": {},
   "outputs": [],
   "source": []
  },
  {
   "cell_type": "code",
   "execution_count": null,
   "id": "c554ca8a-6f08-48d9-9ef9-73011c47659c",
   "metadata": {},
   "outputs": [],
   "source": []
  },
  {
   "cell_type": "code",
   "execution_count": null,
   "id": "e4d22c0b-274a-4e5d-9af2-1cbff5b17ee5",
   "metadata": {},
   "outputs": [],
   "source": []
  },
  {
   "cell_type": "code",
   "execution_count": null,
   "id": "55b737db-536c-4132-8ca5-0a339c2a6576",
   "metadata": {},
   "outputs": [],
   "source": []
  }
 ],
 "metadata": {
  "kernelspec": {
   "display_name": "Python 3 (ipykernel)",
   "language": "python",
   "name": "python3"
  },
  "language_info": {
   "codemirror_mode": {
    "name": "ipython",
    "version": 3
   },
   "file_extension": ".py",
   "mimetype": "text/x-python",
   "name": "python",
   "nbconvert_exporter": "python",
   "pygments_lexer": "ipython3",
   "version": "3.12.8"
  }
 },
 "nbformat": 4,
 "nbformat_minor": 5
}
