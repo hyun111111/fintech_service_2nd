{
 "cells": [
  {
   "cell_type": "code",
   "execution_count": 1,
   "id": "c75078ab",
   "metadata": {},
   "outputs": [],
   "source": [
    "\n",
    "import pandas as pd\n",
    "import numpy as np\n",
    "import matplotlib.pyplot as plt\n",
    "import seaborn as sns\n",
    "import koreanize_matplotlib"
   ]
  },
  {
   "cell_type": "code",
   "execution_count": 2,
   "id": "629f39fe",
   "metadata": {},
   "outputs": [
    {
     "data": {
      "text/html": [
       "<div>\n",
       "<style scoped>\n",
       "    .dataframe tbody tr th:only-of-type {\n",
       "        vertical-align: middle;\n",
       "    }\n",
       "\n",
       "    .dataframe tbody tr th {\n",
       "        vertical-align: top;\n",
       "    }\n",
       "\n",
       "    .dataframe thead th {\n",
       "        text-align: right;\n",
       "    }\n",
       "</style>\n",
       "<table border=\"1\" class=\"dataframe\">\n",
       "  <thead>\n",
       "    <tr style=\"text-align: right;\">\n",
       "      <th></th>\n",
       "      <th>리뷰일</th>\n",
       "      <th>평점</th>\n",
       "      <th>사용자리뷰</th>\n",
       "      <th>업체답변</th>\n",
       "    </tr>\n",
       "  </thead>\n",
       "  <tbody>\n",
       "    <tr>\n",
       "      <th>0</th>\n",
       "      <td>2025-5-29</td>\n",
       "      <td>5</td>\n",
       "      <td>거래대금 상위에 순위 표시해주세요</td>\n",
       "      <td>NaN</td>\n",
       "    </tr>\n",
       "    <tr>\n",
       "      <th>1</th>\n",
       "      <td>2025-5-27</td>\n",
       "      <td>4</td>\n",
       "      <td>너무 좋은데 지금 장종료라 그런가요? ETF 구성종목이 안떠요~~</td>\n",
       "      <td>NaN</td>\n",
       "    </tr>\n",
       "    <tr>\n",
       "      <th>2</th>\n",
       "      <td>2025-5-25</td>\n",
       "      <td>3</td>\n",
       "      <td>특징주(krx)바뀐거 진짜 너무 불편함 100종목 이상 안보여주는 것 전체선택 복사...</td>\n",
       "      <td>NaN</td>\n",
       "    </tr>\n",
       "    <tr>\n",
       "      <th>3</th>\n",
       "      <td>2025-5-23</td>\n",
       "      <td>1</td>\n",
       "      <td>전버전보다 신버전 너무별로입니다. 미장시 순위와 체결량이 같이 떠야보기편한데 따로확...</td>\n",
       "      <td>NaN</td>\n",
       "    </tr>\n",
       "    <tr>\n",
       "      <th>4</th>\n",
       "      <td>2025-5-23</td>\n",
       "      <td>5</td>\n",
       "      <td>이번 업데이트 장점과 단점을 말씀드립니다 장점은 종목 차트마다 krx로 강제 고정되...</td>\n",
       "      <td>NaN</td>\n",
       "    </tr>\n",
       "  </tbody>\n",
       "</table>\n",
       "</div>"
      ],
      "text/plain": [
       "         리뷰일  평점                                              사용자리뷰 업체답변\n",
       "0  2025-5-29   5                                 거래대금 상위에 순위 표시해주세요  NaN\n",
       "1  2025-5-27   4               너무 좋은데 지금 장종료라 그런가요? ETF 구성종목이 안떠요~~  NaN\n",
       "2  2025-5-25   3  특징주(krx)바뀐거 진짜 너무 불편함 100종목 이상 안보여주는 것 전체선택 복사...  NaN\n",
       "3  2025-5-23   1  전버전보다 신버전 너무별로입니다. 미장시 순위와 체결량이 같이 떠야보기편한데 따로확...  NaN\n",
       "4  2025-5-23   5  이번 업데이트 장점과 단점을 말씀드립니다 장점은 종목 차트마다 krx로 강제 고정되...  NaN"
      ]
     },
     "execution_count": 2,
     "metadata": {},
     "output_type": "execute_result"
    }
   ],
   "source": [
    "train_df = pd.read_csv(\"./data/삼성증권2년_review_result.csv\")\n",
    "train_df.head()"
   ]
  },
  {
   "cell_type": "code",
   "execution_count": null,
   "id": "4368b1ac",
   "metadata": {},
   "outputs": [],
   "source": []
  }
 ],
 "metadata": {
  "kernelspec": {
   "display_name": "Python 3 (ipykernel)",
   "language": "python",
   "name": "python3"
  },
  "language_info": {
   "codemirror_mode": {
    "name": "ipython",
    "version": 3
   },
   "file_extension": ".py",
   "mimetype": "text/x-python",
   "name": "python",
   "nbconvert_exporter": "python",
   "pygments_lexer": "ipython3",
   "version": "3.9.21"
  }
 },
 "nbformat": 4,
 "nbformat_minor": 5
}
