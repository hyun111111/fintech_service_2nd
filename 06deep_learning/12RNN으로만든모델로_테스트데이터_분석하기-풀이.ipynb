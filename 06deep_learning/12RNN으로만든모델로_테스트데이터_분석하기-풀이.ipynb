{
 "cells": [
  {
   "cell_type": "code",
   "execution_count": 5,
   "id": "d19313cb",
   "metadata": {
    "scrolled": true
   },
   "outputs": [],
   "source": [
    "import pandas as pd\n",
    "import numpy as np\n",
    "import matplotlib.pyplot as plt\n",
    "from konlpy.tag import Mecab\n",
    "from tensorflow.keras.preprocessing.text import Tokenizer, text_to_word_sequence\n",
    "from tensorflow.keras.preprocessing.sequence import pad_sequences\n",
    "from tensorflow.keras.models import Sequential, load_model\n",
    "from tensorflow.keras.layers import Dense, Flatten, Embedding\n",
    "from tensorflow.keras.utils import to_categorical"
   ]
  },
  {
   "cell_type": "code",
   "execution_count": 6,
   "id": "95c6c660",
   "metadata": {},
   "outputs": [
    {
     "data": {
      "text/html": [
       "<div>\n",
       "<style scoped>\n",
       "    .dataframe tbody tr th:only-of-type {\n",
       "        vertical-align: middle;\n",
       "    }\n",
       "\n",
       "    .dataframe tbody tr th {\n",
       "        vertical-align: top;\n",
       "    }\n",
       "\n",
       "    .dataframe thead th {\n",
       "        text-align: right;\n",
       "    }\n",
       "</style>\n",
       "<table border=\"1\" class=\"dataframe\">\n",
       "  <thead>\n",
       "    <tr style=\"text-align: right;\">\n",
       "      <th></th>\n",
       "      <th>리뷰일</th>\n",
       "      <th>평점</th>\n",
       "      <th>사용자리뷰</th>\n",
       "      <th>업체답변</th>\n",
       "      <th>은행명</th>\n",
       "    </tr>\n",
       "  </thead>\n",
       "  <tbody>\n",
       "    <tr>\n",
       "      <th>0</th>\n",
       "      <td>2024-02-08</td>\n",
       "      <td>5</td>\n",
       "      <td>고경민계장님감사해요</td>\n",
       "      <td>안녕하세요 최순녀 고객님. 칭찬 진심으로 감사드리며, 더욱 편리하고 안정적인 서비스...</td>\n",
       "      <td>우리</td>\n",
       "    </tr>\n",
       "    <tr>\n",
       "      <th>1</th>\n",
       "      <td>2023-07-24</td>\n",
       "      <td>5</td>\n",
       "      <td>저축목표피드 새로 생긴거 너무좋은데 분명 카테고리를 저축으로 했는데 왜 인식이 안되...</td>\n",
       "      <td>신아​ 님, 안녕하세요? 뱅크샐러드 고객감동팀​입니다. 소중한 시간내어 고객센터에 ...</td>\n",
       "      <td>뱅크샐러드</td>\n",
       "    </tr>\n",
       "  </tbody>\n",
       "</table>\n",
       "</div>"
      ],
      "text/plain": [
       "          리뷰일  평점                                              사용자리뷰  \\\n",
       "0  2024-02-08   5                                         고경민계장님감사해요   \n",
       "1  2023-07-24   5  저축목표피드 새로 생긴거 너무좋은데 분명 카테고리를 저축으로 했는데 왜 인식이 안되...   \n",
       "\n",
       "                                                업체답변    은행명  \n",
       "0  안녕하세요 최순녀 고객님. 칭찬 진심으로 감사드리며, 더욱 편리하고 안정적인 서비스...     우리  \n",
       "1  신아​ 님, 안녕하세요? 뱅크샐러드 고객감동팀​입니다. 소중한 시간내어 고객센터에 ...  뱅크샐러드  "
      ]
     },
     "execution_count": 6,
     "metadata": {},
     "output_type": "execute_result"
    }
   ],
   "source": [
    "test_data = pd.read_csv(\"../05machine_learning/data/bank_app_reviews_test.csv\")\n",
    "test_data.head(2)"
   ]
  },
  {
   "cell_type": "code",
   "execution_count": 7,
   "id": "79137a69",
   "metadata": {},
   "outputs": [],
   "source": [
    "import re\n",
    "\n",
    "def clean_text(text):\n",
    "    cleaned = re.sub(r'[^가-힣a-zA-Z0-9\\s]','', text) #한글, 영문, 숫자\n",
    "    cleaned = re.sub(r'\\s+', ' ', cleaned) # 연속된 공백을 하나의 공백\n",
    "    return cleaned.strip()"
   ]
  },
  {
   "cell_type": "code",
   "execution_count": 8,
   "id": "9110a2af",
   "metadata": {},
   "outputs": [
    {
     "data": {
      "text/plain": [
       "0                                              고경민계장님감사해요\n",
       "1       저축목표피드 새로 생긴거 너무좋은데 분명 카테고리를 저축으로 했는데 왜 인식이 안되...\n",
       "2         아니 이딴걸 편리하게 사용하는앱이라고 쳐만들엇나 이렇게 불편하게만든건 일부러그런거에요\n",
       "3       몇 년째 만족하며 사용중이라 조금식 개선되어거는 모습에 만족하며 사용중입니다 하지만...\n",
       "4                                스타뱅킹을 사용 하고나서부터 편안해서 좋아요\n",
       "                              ...                        \n",
       "9529    만보기 이벤트는 실망스러워요 후기 말투 다 똑같고 사기 맞죠 양심이 참 정직하게 확...\n",
       "9530                   기능이 많아 다 사용해보진 못 했지만 대체적으로 편한거 같아요\n",
       "9531                                                편리하네요\n",
       "9532                                            사용하기 편리해요\n",
       "9533    너무 후져서 오랜만에 어플이용하다가 욕했답니다 인증방식이 2010년대에 머물러계심 ...\n",
       "Name: 사용자리뷰, Length: 9534, dtype: object"
      ]
     },
     "execution_count": 8,
     "metadata": {},
     "output_type": "execute_result"
    }
   ],
   "source": [
    "test_data['사용자리뷰'] = test_data['사용자리뷰'].apply(clean_text)\n",
    "test_data['사용자리뷰']"
   ]
  },
  {
   "cell_type": "code",
   "execution_count": 9,
   "id": "14886a23",
   "metadata": {},
   "outputs": [
    {
     "data": {
      "text/plain": [
       "0       1\n",
       "1       1\n",
       "2       0\n",
       "3       0\n",
       "4       1\n",
       "       ..\n",
       "9529    0\n",
       "9530    1\n",
       "9531    1\n",
       "9532    1\n",
       "9533    0\n",
       "Name: is_good, Length: 9534, dtype: int64"
      ]
     },
     "execution_count": 9,
     "metadata": {},
     "output_type": "execute_result"
    }
   ],
   "source": [
    "test_data['is_good'] = test_data['평점'].apply(lambda x: 1 if x >=4 else 0)\n",
    "test_data['is_good']"
   ]
  },
  {
   "cell_type": "code",
   "execution_count": 10,
   "id": "edfe182a",
   "metadata": {},
   "outputs": [],
   "source": [
    "mecab = Mecab()"
   ]
  },
  {
   "cell_type": "code",
   "execution_count": 11,
   "id": "f32803c7",
   "metadata": {},
   "outputs": [],
   "source": [
    "tokenized_docs = test_data['사용자리뷰'].apply(mecab.morphs)"
   ]
  },
  {
   "cell_type": "code",
   "execution_count": 12,
   "id": "75f319e5",
   "metadata": {},
   "outputs": [
    {
     "data": {
      "text/plain": [
       "['고경민', '계장', '님', '감사', '해요']"
      ]
     },
     "execution_count": 12,
     "metadata": {},
     "output_type": "execute_result"
    }
   ],
   "source": [
    "tokenized_docs[0]"
   ]
  },
  {
   "cell_type": "markdown",
   "id": "0b5c3395",
   "metadata": {},
   "source": [
    "# train에서 사용했던 tokenizer를 불러와서 one hot encoding"
   ]
  },
  {
   "cell_type": "code",
   "execution_count": 17,
   "id": "e5e4e790",
   "metadata": {},
   "outputs": [],
   "source": [
    "import joblib"
   ]
  },
  {
   "cell_type": "code",
   "execution_count": 18,
   "id": "4f4432ec",
   "metadata": {},
   "outputs": [],
   "source": [
    "token = joblib.load(\"./model/bank_app_tokeizer.joblib\")"
   ]
  },
  {
   "cell_type": "code",
   "execution_count": 19,
   "id": "4f71f6a9",
   "metadata": {},
   "outputs": [
    {
     "name": "stdout",
     "output_type": "stream",
     "text": [
      "[6248, 327, 111, 71]\n"
     ]
    }
   ],
   "source": [
    "x = token.texts_to_sequences(tokenized_docs)\n",
    "print(x[0])"
   ]
  },
  {
   "cell_type": "markdown",
   "id": "627579fb",
   "metadata": {},
   "source": [
    "# train에서 사용했던 패딩 길이(모델에 넣을 컬럼 수)"
   ]
  },
  {
   "cell_type": "code",
   "execution_count": 20,
   "id": "74e9b8c6",
   "metadata": {},
   "outputs": [
    {
     "name": "stdout",
     "output_type": "stream",
     "text": [
      "302\n"
     ]
    }
   ],
   "source": [
    "max_length = joblib.load(\"./model/bank_app_max_length.joblib\")\n",
    "print(max_length)"
   ]
  },
  {
   "cell_type": "code",
   "execution_count": 21,
   "id": "0c14c260",
   "metadata": {},
   "outputs": [
    {
     "name": "stdout",
     "output_type": "stream",
     "text": [
      "[ 216  717  370 1524   39   44    8  148 1025  724   27 1033   31   43\n",
      "   14   51  117    3    6    9    4  861  117    9  414  224  112    9\n",
      "  164  409 2261 1336   20    0    0    0    0    0    0    0    0    0\n",
      "    0    0    0    0    0    0    0    0    0    0    0    0    0    0\n",
      "    0    0    0    0    0    0    0    0    0    0    0    0    0    0\n",
      "    0    0    0    0    0    0    0    0    0    0    0    0    0    0\n",
      "    0    0    0    0    0    0    0    0    0    0    0    0    0    0\n",
      "    0    0    0    0    0    0    0    0    0    0    0    0    0    0\n",
      "    0    0    0    0    0    0    0    0    0    0    0    0    0    0\n",
      "    0    0    0    0    0    0    0    0    0    0    0    0    0    0\n",
      "    0    0    0    0    0    0    0    0    0    0    0    0    0    0\n",
      "    0    0    0    0    0    0    0    0    0    0    0    0    0    0\n",
      "    0    0    0    0    0    0    0    0    0    0    0    0    0    0\n",
      "    0    0    0    0    0    0    0    0    0    0    0    0    0    0\n",
      "    0    0    0    0    0    0    0    0    0    0    0    0    0    0\n",
      "    0    0    0    0    0    0    0    0    0    0    0    0    0    0\n",
      "    0    0    0    0    0    0    0    0    0    0    0    0    0    0\n",
      "    0    0    0    0    0    0    0    0    0    0    0    0    0    0\n",
      "    0    0    0    0    0    0    0    0    0    0    0    0    0    0\n",
      "    0    0    0    0    0    0    0    0    0    0    0    0    0    0\n",
      "    0    0    0    0    0    0    0    0    0    0    0    0    0    0\n",
      "    0    0    0    0    0    0    0    0]\n"
     ]
    }
   ],
   "source": [
    "X_padded = pad_sequences(x, maxlen=max_length, padding='post')\n",
    "print(X_padded[1])"
   ]
  },
  {
   "cell_type": "code",
   "execution_count": 22,
   "id": "f701a006",
   "metadata": {},
   "outputs": [
    {
     "data": {
      "text/plain": [
       "302"
      ]
     },
     "execution_count": 22,
     "metadata": {},
     "output_type": "execute_result"
    }
   ],
   "source": [
    "len(X_padded[1])"
   ]
  },
  {
   "cell_type": "code",
   "execution_count": 23,
   "id": "87e871aa",
   "metadata": {},
   "outputs": [
    {
     "data": {
      "text/plain": [
       "0       1\n",
       "1       1\n",
       "2       0\n",
       "3       0\n",
       "4       1\n",
       "       ..\n",
       "9529    0\n",
       "9530    1\n",
       "9531    1\n",
       "9532    1\n",
       "9533    0\n",
       "Name: is_good, Length: 9534, dtype: int64"
      ]
     },
     "execution_count": 23,
     "metadata": {},
     "output_type": "execute_result"
    }
   ],
   "source": [
    "y = test_data['is_good']\n",
    "y"
   ]
  },
  {
   "cell_type": "markdown",
   "id": "05ff3645",
   "metadata": {},
   "source": [
    "# 모델 불러와서 예측하고 결과 비교하기"
   ]
  },
  {
   "cell_type": "code",
   "execution_count": 24,
   "id": "222bf2eb",
   "metadata": {},
   "outputs": [
    {
     "name": "stderr",
     "output_type": "stream",
     "text": [
      "I0000 00:00:1747887848.961304    9142 gpu_device.cc:2019] Created device /job:localhost/replica:0/task:0/device:GPU:0 with 3065 MB memory:  -> device: 0, name: NVIDIA GeForce RTX 3060 Laptop GPU, pci bus id: 0000:01:00.0, compute capability: 8.6\n"
     ]
    }
   ],
   "source": [
    "birnn_best = load_model(\"./model/bank_app_review_birnn.keras\")\n",
    "cnn_lstm_best = load_model(\"./model/bank_app_review_lstm_cnn.keras\")\n",
    "attn_best = load_model(\"./model/bank_app_review_attn_model.keras\")"
   ]
  },
  {
   "cell_type": "code",
   "execution_count": 25,
   "id": "c5a5dc28",
   "metadata": {},
   "outputs": [
    {
     "name": "stderr",
     "output_type": "stream",
     "text": [
      "WARNING: All log messages before absl::InitializeLog() is called are written to STDERR\n",
      "I0000 00:00:1747887951.154436    9400 service.cc:152] XLA service 0x7f9ae8004c10 initialized for platform CUDA (this does not guarantee that XLA will be used). Devices:\n",
      "I0000 00:00:1747887951.154582    9400 service.cc:160]   StreamExecutor device (0): NVIDIA GeForce RTX 3060 Laptop GPU, Compute Capability 8.6\n",
      "2025-05-22 13:25:51.206149: I tensorflow/compiler/mlir/tensorflow/utils/dump_mlir_util.cc:269] disabling MLIR crash reproducer, set env var `MLIR_CRASH_REPRODUCER_DIRECTORY` to enable.\n",
      "I0000 00:00:1747887951.278324    9400 cuda_dnn.cc:529] Loaded cuDNN version 90300\n"
     ]
    },
    {
     "name": "stdout",
     "output_type": "stream",
     "text": [
      "\u001b[1m  5/298\u001b[0m \u001b[37m━━━━━━━━━━━━━━━━━━━━\u001b[0m \u001b[1m4s\u001b[0m 15ms/step   "
     ]
    },
    {
     "name": "stderr",
     "output_type": "stream",
     "text": [
      "I0000 00:00:1747887951.551901    9400 device_compiler.h:188] Compiled cluster using XLA!  This line is logged at most once for the lifetime of the process.\n"
     ]
    },
    {
     "name": "stdout",
     "output_type": "stream",
     "text": [
      "\u001b[1m298/298\u001b[0m \u001b[32m━━━━━━━━━━━━━━━━━━━━\u001b[0m\u001b[37m\u001b[0m \u001b[1m14s\u001b[0m 43ms/step\n",
      "\u001b[1m298/298\u001b[0m \u001b[32m━━━━━━━━━━━━━━━━━━━━\u001b[0m\u001b[37m\u001b[0m \u001b[1m9s\u001b[0m 22ms/step\n",
      "\u001b[1m298/298\u001b[0m \u001b[32m━━━━━━━━━━━━━━━━━━━━\u001b[0m\u001b[37m\u001b[0m \u001b[1m30s\u001b[0m 93ms/step\n"
     ]
    }
   ],
   "source": [
    "birnn_pred = birnn_best.predict(X_padded)\n",
    "cnn_latm_pred = cnn_lstm_best.predict(X_padded)\n",
    "attn_pred = attn_best.predict(X_padded)"
   ]
  },
  {
   "cell_type": "code",
   "execution_count": 28,
   "id": "1e382bd6",
   "metadata": {},
   "outputs": [],
   "source": [
    "birnn_pred = pd.DataFrame(birnn_pred)\n",
    "cnn_lstm_pred = pd.DataFrame(cnn_latm_pred)\n",
    "attn_pred = pd.DataFrame(attn_pred)"
   ]
  },
  {
   "cell_type": "code",
   "execution_count": 30,
   "id": "3e7dc89d",
   "metadata": {},
   "outputs": [
    {
     "data": {
      "text/plain": [
       "0       1\n",
       "1       1\n",
       "2       0\n",
       "3       0\n",
       "4       1\n",
       "       ..\n",
       "9529    0\n",
       "9530    1\n",
       "9531    1\n",
       "9532    1\n",
       "9533    0\n",
       "Name: is_good, Length: 9534, dtype: int64"
      ]
     },
     "execution_count": 30,
     "metadata": {},
     "output_type": "execute_result"
    }
   ],
   "source": [
    "y"
   ]
  },
  {
   "cell_type": "code",
   "execution_count": 36,
   "id": "6e613205",
   "metadata": {},
   "outputs": [],
   "source": [
    "y = pd.DataFrame(y)"
   ]
  },
  {
   "cell_type": "code",
   "execution_count": 38,
   "id": "a0f27a8e",
   "metadata": {
    "scrolled": true
   },
   "outputs": [],
   "source": [
    "birnn_result = y.join(birnn_pred)\n",
    "cnn_lstm_result = y.join(cnn_lstm_pred)\n",
    "attn_pred_result = y.join(attn_pred)"
   ]
  },
  {
   "cell_type": "code",
   "execution_count": 42,
   "id": "b6c563cb",
   "metadata": {},
   "outputs": [],
   "source": [
    "birnn_result.loc[:, 0] = birnn_result.loc[:, 0].apply(lambda x: 1 if x > 0.5 else 0)\n",
    "cnn_lstm_result.loc[:, 0] = cnn_lstm_result.loc[:, 0].apply(lambda x: 1 if x > 0.5 else 0)\n",
    "attn_pred_result.loc[:, 0] = attn_pred_result.loc[:, 0].apply(lambda x: 1 if x > 0.5 else 0)\n"
   ]
  },
  {
   "cell_type": "code",
   "execution_count": 45,
   "id": "be46dacd",
   "metadata": {},
   "outputs": [
    {
     "data": {
      "text/html": [
       "<div>\n",
       "<style scoped>\n",
       "    .dataframe tbody tr th:only-of-type {\n",
       "        vertical-align: middle;\n",
       "    }\n",
       "\n",
       "    .dataframe tbody tr th {\n",
       "        vertical-align: top;\n",
       "    }\n",
       "\n",
       "    .dataframe thead th {\n",
       "        text-align: right;\n",
       "    }\n",
       "</style>\n",
       "<table border=\"1\" class=\"dataframe\">\n",
       "  <thead>\n",
       "    <tr style=\"text-align: right;\">\n",
       "      <th></th>\n",
       "      <th>is_good</th>\n",
       "      <th>0</th>\n",
       "    </tr>\n",
       "  </thead>\n",
       "  <tbody>\n",
       "    <tr>\n",
       "      <th>0</th>\n",
       "      <td>1</td>\n",
       "      <td>1.0</td>\n",
       "    </tr>\n",
       "    <tr>\n",
       "      <th>1</th>\n",
       "      <td>1</td>\n",
       "      <td>0.0</td>\n",
       "    </tr>\n",
       "    <tr>\n",
       "      <th>2</th>\n",
       "      <td>0</td>\n",
       "      <td>0.0</td>\n",
       "    </tr>\n",
       "    <tr>\n",
       "      <th>3</th>\n",
       "      <td>0</td>\n",
       "      <td>1.0</td>\n",
       "    </tr>\n",
       "    <tr>\n",
       "      <th>4</th>\n",
       "      <td>1</td>\n",
       "      <td>1.0</td>\n",
       "    </tr>\n",
       "    <tr>\n",
       "      <th>...</th>\n",
       "      <td>...</td>\n",
       "      <td>...</td>\n",
       "    </tr>\n",
       "    <tr>\n",
       "      <th>9529</th>\n",
       "      <td>0</td>\n",
       "      <td>0.0</td>\n",
       "    </tr>\n",
       "    <tr>\n",
       "      <th>9530</th>\n",
       "      <td>1</td>\n",
       "      <td>1.0</td>\n",
       "    </tr>\n",
       "    <tr>\n",
       "      <th>9531</th>\n",
       "      <td>1</td>\n",
       "      <td>1.0</td>\n",
       "    </tr>\n",
       "    <tr>\n",
       "      <th>9532</th>\n",
       "      <td>1</td>\n",
       "      <td>1.0</td>\n",
       "    </tr>\n",
       "    <tr>\n",
       "      <th>9533</th>\n",
       "      <td>0</td>\n",
       "      <td>0.0</td>\n",
       "    </tr>\n",
       "  </tbody>\n",
       "</table>\n",
       "<p>9534 rows × 2 columns</p>\n",
       "</div>"
      ],
      "text/plain": [
       "      is_good    0\n",
       "0           1  1.0\n",
       "1           1  0.0\n",
       "2           0  0.0\n",
       "3           0  1.0\n",
       "4           1  1.0\n",
       "...       ...  ...\n",
       "9529        0  0.0\n",
       "9530        1  1.0\n",
       "9531        1  1.0\n",
       "9532        1  1.0\n",
       "9533        0  0.0\n",
       "\n",
       "[9534 rows x 2 columns]"
      ]
     },
     "execution_count": 45,
     "metadata": {},
     "output_type": "execute_result"
    }
   ],
   "source": [
    "birnn_result"
   ]
  },
  {
   "cell_type": "code",
   "execution_count": 43,
   "id": "733e1fbf",
   "metadata": {
    "scrolled": true
   },
   "outputs": [
    {
     "data": {
      "text/html": [
       "<div>\n",
       "<style scoped>\n",
       "    .dataframe tbody tr th:only-of-type {\n",
       "        vertical-align: middle;\n",
       "    }\n",
       "\n",
       "    .dataframe tbody tr th {\n",
       "        vertical-align: top;\n",
       "    }\n",
       "\n",
       "    .dataframe thead th {\n",
       "        text-align: right;\n",
       "    }\n",
       "</style>\n",
       "<table border=\"1\" class=\"dataframe\">\n",
       "  <thead>\n",
       "    <tr style=\"text-align: right;\">\n",
       "      <th></th>\n",
       "      <th>is_good</th>\n",
       "      <th>0</th>\n",
       "    </tr>\n",
       "  </thead>\n",
       "  <tbody>\n",
       "    <tr>\n",
       "      <th>0</th>\n",
       "      <td>1</td>\n",
       "      <td>1.0</td>\n",
       "    </tr>\n",
       "    <tr>\n",
       "      <th>1</th>\n",
       "      <td>1</td>\n",
       "      <td>0.0</td>\n",
       "    </tr>\n",
       "    <tr>\n",
       "      <th>2</th>\n",
       "      <td>0</td>\n",
       "      <td>0.0</td>\n",
       "    </tr>\n",
       "    <tr>\n",
       "      <th>3</th>\n",
       "      <td>0</td>\n",
       "      <td>1.0</td>\n",
       "    </tr>\n",
       "    <tr>\n",
       "      <th>4</th>\n",
       "      <td>1</td>\n",
       "      <td>1.0</td>\n",
       "    </tr>\n",
       "    <tr>\n",
       "      <th>...</th>\n",
       "      <td>...</td>\n",
       "      <td>...</td>\n",
       "    </tr>\n",
       "    <tr>\n",
       "      <th>9529</th>\n",
       "      <td>0</td>\n",
       "      <td>0.0</td>\n",
       "    </tr>\n",
       "    <tr>\n",
       "      <th>9530</th>\n",
       "      <td>1</td>\n",
       "      <td>1.0</td>\n",
       "    </tr>\n",
       "    <tr>\n",
       "      <th>9531</th>\n",
       "      <td>1</td>\n",
       "      <td>1.0</td>\n",
       "    </tr>\n",
       "    <tr>\n",
       "      <th>9532</th>\n",
       "      <td>1</td>\n",
       "      <td>1.0</td>\n",
       "    </tr>\n",
       "    <tr>\n",
       "      <th>9533</th>\n",
       "      <td>0</td>\n",
       "      <td>0.0</td>\n",
       "    </tr>\n",
       "  </tbody>\n",
       "</table>\n",
       "<p>9534 rows × 2 columns</p>\n",
       "</div>"
      ],
      "text/plain": [
       "      is_good    0\n",
       "0           1  1.0\n",
       "1           1  0.0\n",
       "2           0  0.0\n",
       "3           0  1.0\n",
       "4           1  1.0\n",
       "...       ...  ...\n",
       "9529        0  0.0\n",
       "9530        1  1.0\n",
       "9531        1  1.0\n",
       "9532        1  1.0\n",
       "9533        0  0.0\n",
       "\n",
       "[9534 rows x 2 columns]"
      ]
     },
     "execution_count": 43,
     "metadata": {},
     "output_type": "execute_result"
    }
   ],
   "source": [
    "cnn_lstm_result"
   ]
  },
  {
   "cell_type": "code",
   "execution_count": 44,
   "id": "1c224ab4",
   "metadata": {
    "scrolled": true
   },
   "outputs": [
    {
     "data": {
      "text/html": [
       "<div>\n",
       "<style scoped>\n",
       "    .dataframe tbody tr th:only-of-type {\n",
       "        vertical-align: middle;\n",
       "    }\n",
       "\n",
       "    .dataframe tbody tr th {\n",
       "        vertical-align: top;\n",
       "    }\n",
       "\n",
       "    .dataframe thead th {\n",
       "        text-align: right;\n",
       "    }\n",
       "</style>\n",
       "<table border=\"1\" class=\"dataframe\">\n",
       "  <thead>\n",
       "    <tr style=\"text-align: right;\">\n",
       "      <th></th>\n",
       "      <th>is_good</th>\n",
       "      <th>0</th>\n",
       "    </tr>\n",
       "  </thead>\n",
       "  <tbody>\n",
       "    <tr>\n",
       "      <th>0</th>\n",
       "      <td>1</td>\n",
       "      <td>1.0</td>\n",
       "    </tr>\n",
       "    <tr>\n",
       "      <th>1</th>\n",
       "      <td>1</td>\n",
       "      <td>0.0</td>\n",
       "    </tr>\n",
       "    <tr>\n",
       "      <th>2</th>\n",
       "      <td>0</td>\n",
       "      <td>0.0</td>\n",
       "    </tr>\n",
       "    <tr>\n",
       "      <th>3</th>\n",
       "      <td>0</td>\n",
       "      <td>1.0</td>\n",
       "    </tr>\n",
       "    <tr>\n",
       "      <th>4</th>\n",
       "      <td>1</td>\n",
       "      <td>1.0</td>\n",
       "    </tr>\n",
       "    <tr>\n",
       "      <th>...</th>\n",
       "      <td>...</td>\n",
       "      <td>...</td>\n",
       "    </tr>\n",
       "    <tr>\n",
       "      <th>9529</th>\n",
       "      <td>0</td>\n",
       "      <td>0.0</td>\n",
       "    </tr>\n",
       "    <tr>\n",
       "      <th>9530</th>\n",
       "      <td>1</td>\n",
       "      <td>1.0</td>\n",
       "    </tr>\n",
       "    <tr>\n",
       "      <th>9531</th>\n",
       "      <td>1</td>\n",
       "      <td>1.0</td>\n",
       "    </tr>\n",
       "    <tr>\n",
       "      <th>9532</th>\n",
       "      <td>1</td>\n",
       "      <td>1.0</td>\n",
       "    </tr>\n",
       "    <tr>\n",
       "      <th>9533</th>\n",
       "      <td>0</td>\n",
       "      <td>0.0</td>\n",
       "    </tr>\n",
       "  </tbody>\n",
       "</table>\n",
       "<p>9534 rows × 2 columns</p>\n",
       "</div>"
      ],
      "text/plain": [
       "      is_good    0\n",
       "0           1  1.0\n",
       "1           1  0.0\n",
       "2           0  0.0\n",
       "3           0  1.0\n",
       "4           1  1.0\n",
       "...       ...  ...\n",
       "9529        0  0.0\n",
       "9530        1  1.0\n",
       "9531        1  1.0\n",
       "9532        1  1.0\n",
       "9533        0  0.0\n",
       "\n",
       "[9534 rows x 2 columns]"
      ]
     },
     "execution_count": 44,
     "metadata": {},
     "output_type": "execute_result"
    }
   ],
   "source": [
    "attn_pred_result"
   ]
  },
  {
   "cell_type": "code",
   "execution_count": 46,
   "id": "3be85105",
   "metadata": {},
   "outputs": [],
   "source": [
    "from sklearn.metrics import classification_report"
   ]
  },
  {
   "cell_type": "code",
   "execution_count": 47,
   "id": "983c6603",
   "metadata": {},
   "outputs": [
    {
     "name": "stdout",
     "output_type": "stream",
     "text": [
      "              precision    recall  f1-score   support\n",
      "\n",
      "           0       0.83      0.92      0.87      3862\n",
      "           1       0.94      0.87      0.90      5672\n",
      "\n",
      "    accuracy                           0.89      9534\n",
      "   macro avg       0.88      0.89      0.89      9534\n",
      "weighted avg       0.89      0.89      0.89      9534\n",
      "\n"
     ]
    }
   ],
   "source": [
    "print(classification_report(birnn_result['is_good'], birnn_result[0]))"
   ]
  },
  {
   "cell_type": "code",
   "execution_count": 48,
   "id": "a81bf5f4",
   "metadata": {},
   "outputs": [
    {
     "name": "stdout",
     "output_type": "stream",
     "text": [
      "              precision    recall  f1-score   support\n",
      "\n",
      "           0       0.84      0.91      0.88      3862\n",
      "           1       0.94      0.88      0.91      5672\n",
      "\n",
      "    accuracy                           0.89      9534\n",
      "   macro avg       0.89      0.90      0.89      9534\n",
      "weighted avg       0.90      0.89      0.90      9534\n",
      "\n"
     ]
    }
   ],
   "source": [
    "print(classification_report(cnn_lstm_result['is_good'], cnn_lstm_result[0]))"
   ]
  },
  {
   "cell_type": "code",
   "execution_count": 49,
   "id": "b62ac812",
   "metadata": {},
   "outputs": [
    {
     "name": "stdout",
     "output_type": "stream",
     "text": [
      "              precision    recall  f1-score   support\n",
      "\n",
      "           0       0.86      0.90      0.88      3862\n",
      "           1       0.93      0.90      0.91      5672\n",
      "\n",
      "    accuracy                           0.90      9534\n",
      "   macro avg       0.89      0.90      0.90      9534\n",
      "weighted avg       0.90      0.90      0.90      9534\n",
      "\n"
     ]
    }
   ],
   "source": [
    "print(classification_report(attn_pred_result['is_good'], attn_pred_result[0]))"
   ]
  },
  {
   "cell_type": "code",
   "execution_count": null,
   "id": "eb23aac9",
   "metadata": {},
   "outputs": [],
   "source": [
    "attn_pred_result"
   ]
  },
  {
   "cell_type": "markdown",
   "id": "aaad8f49",
   "metadata": {},
   "source": [
    "# evaluate"
   ]
  },
  {
   "cell_type": "code",
   "execution_count": 51,
   "id": "dfa57b81",
   "metadata": {},
   "outputs": [
    {
     "name": "stdout",
     "output_type": "stream",
     "text": [
      "\u001b[1m298/298\u001b[0m \u001b[32m━━━━━━━━━━━━━━━━━━━━\u001b[0m\u001b[37m\u001b[0m \u001b[1m6s\u001b[0m 18ms/step - accuracy: 0.8900 - auc: 0.9494 - loss: 0.2806\n",
      "CPU times: user 3.37 s, sys: 808 ms, total: 4.18 s\n",
      "Wall time: 7.22 s\n"
     ]
    },
    {
     "data": {
      "text/plain": [
       "[0.2848619818687439, 0.8879798650741577, 0.9476749300956726]"
      ]
     },
     "execution_count": 51,
     "metadata": {},
     "output_type": "execute_result"
    }
   ],
   "source": [
    "%%time\n",
    "birnn_best.evaluate(X_padded, test_data['is_good'])"
   ]
  },
  {
   "cell_type": "code",
   "execution_count": 52,
   "id": "60933905",
   "metadata": {},
   "outputs": [
    {
     "name": "stdout",
     "output_type": "stream",
     "text": [
      "\u001b[1m298/298\u001b[0m \u001b[32m━━━━━━━━━━━━━━━━━━━━\u001b[0m\u001b[37m\u001b[0m \u001b[1m4s\u001b[0m 10ms/step - accuracy: 0.8980 - auc: 0.9565 - loss: 0.2565\n",
      "CPU times: user 3.77 s, sys: 1.17 s, total: 4.94 s\n",
      "Wall time: 4.58 s\n"
     ]
    },
    {
     "data": {
      "text/plain": [
       "[0.26050737500190735, 0.8949024677276611, 0.9555007219314575]"
      ]
     },
     "execution_count": 52,
     "metadata": {},
     "output_type": "execute_result"
    }
   ],
   "source": [
    "%%time\n",
    "cnn_lstm_best.evaluate(X_padded, test_data['is_good'])"
   ]
  },
  {
   "cell_type": "code",
   "execution_count": 53,
   "id": "080de92e",
   "metadata": {},
   "outputs": [
    {
     "name": "stdout",
     "output_type": "stream",
     "text": [
      "\u001b[1m298/298\u001b[0m \u001b[32m━━━━━━━━━━━━━━━━━━━━\u001b[0m\u001b[37m\u001b[0m \u001b[1m9s\u001b[0m 29ms/step - accuracy: 0.9013 - auc: 0.9585 - loss: 0.2600\n",
      "CPU times: user 4.96 s, sys: 2.22 s, total: 7.17 s\n",
      "Wall time: 9.22 s\n"
     ]
    },
    {
     "data": {
      "text/plain": [
       "[0.26245906949043274, 0.899937093257904, 0.9579288363456726]"
      ]
     },
     "execution_count": 53,
     "metadata": {},
     "output_type": "execute_result"
    }
   ],
   "source": [
    "%%time\n",
    "attn_best.evaluate(X_padded, test_data['is_good'])"
   ]
  },
  {
   "cell_type": "code",
   "execution_count": null,
   "id": "f5636cf2",
   "metadata": {},
   "outputs": [],
   "source": []
  }
 ],
 "metadata": {
  "kernelspec": {
   "display_name": "Python 3 (ipykernel)",
   "language": "python",
   "name": "python3"
  },
  "language_info": {
   "codemirror_mode": {
    "name": "ipython",
    "version": 3
   },
   "file_extension": ".py",
   "mimetype": "text/x-python",
   "name": "python",
   "nbconvert_exporter": "python",
   "pygments_lexer": "ipython3",
   "version": "3.10.17"
  }
 },
 "nbformat": 4,
 "nbformat_minor": 5
}
