{
 "cells": [
  {
   "cell_type": "code",
   "execution_count": 2,
   "id": "4377e16b",
   "metadata": {},
   "outputs": [
    {
     "name": "stderr",
     "output_type": "stream",
     "text": [
      "2025-05-23 09:39:27.328899: I tensorflow/core/util/port.cc:153] oneDNN custom operations are on. You may see slightly different numerical results due to floating-point round-off errors from different computation orders. To turn them off, set the environment variable `TF_ENABLE_ONEDNN_OPTS=0`.\n",
      "2025-05-23 09:39:27.411614: E external/local_xla/xla/stream_executor/cuda/cuda_fft.cc:467] Unable to register cuFFT factory: Attempting to register factory for plugin cuFFT when one has already been registered\n",
      "WARNING: All log messages before absl::InitializeLog() is called are written to STDERR\n",
      "E0000 00:00:1747960767.463227     529 cuda_dnn.cc:8579] Unable to register cuDNN factory: Attempting to register factory for plugin cuDNN when one has already been registered\n",
      "E0000 00:00:1747960767.481776     529 cuda_blas.cc:1407] Unable to register cuBLAS factory: Attempting to register factory for plugin cuBLAS when one has already been registered\n",
      "W0000 00:00:1747960767.538711     529 computation_placer.cc:177] computation placer already registered. Please check linkage and avoid linking the same target more than once.\n",
      "W0000 00:00:1747960767.538900     529 computation_placer.cc:177] computation placer already registered. Please check linkage and avoid linking the same target more than once.\n",
      "W0000 00:00:1747960767.538914     529 computation_placer.cc:177] computation placer already registered. Please check linkage and avoid linking the same target more than once.\n",
      "W0000 00:00:1747960767.538920     529 computation_placer.cc:177] computation placer already registered. Please check linkage and avoid linking the same target more than once.\n",
      "2025-05-23 09:39:27.557774: I tensorflow/core/platform/cpu_feature_guard.cc:210] This TensorFlow binary is optimized to use available CPU instructions in performance-critical operations.\n",
      "To enable the following instructions: AVX2 AVX512F AVX512_VNNI FMA, in other operations, rebuild TensorFlow with the appropriate compiler flags.\n"
     ]
    }
   ],
   "source": [
    "from konlpy.tag import Mecab\n",
    "import pandas as pd\n",
    "import numpy as np\n",
    "from tensorflow.keras.preprocessing.text import Tokenizer, text_to_word_sequence\n",
    "from tensorflow.keras.preprocessing.sequence import pad_sequences\n",
    "from tensorflow.keras.models import Sequential\n",
    "from tensorflow.keras.layers import Dense, Flatten, Embedding\n",
    "from tensorflow.keras.utils import to_categorical"
   ]
  },
  {
   "cell_type": "code",
   "execution_count": 3,
   "id": "de18ee71",
   "metadata": {},
   "outputs": [],
   "source": [
    "test_data = pd.read_csv(\"./data/bank_app_reviews_test.csv\")"
   ]
  },
  {
   "cell_type": "code",
   "execution_count": 4,
   "id": "e3971710",
   "metadata": {},
   "outputs": [],
   "source": [
    "import re\n",
    "def clean_text(text):\n",
    "    cleaned = re.sub(r'[^가-힣0-9a-zA-Z\\s]', '', text)  # 한글, 숫자, 영문, 공백 제외한 모든 것 제거\n",
    "    cleaned = re.sub(r'\\s+', ' ', cleaned)\n",
    "    return cleaned.strip()\n"
   ]
  },
  {
   "cell_type": "code",
   "execution_count": 5,
   "id": "247b9189",
   "metadata": {},
   "outputs": [
    {
     "data": {
      "text/plain": [
       "0       1\n",
       "1       1\n",
       "2       0\n",
       "3       0\n",
       "4       1\n",
       "       ..\n",
       "9529    0\n",
       "9530    1\n",
       "9531    1\n",
       "9532    1\n",
       "9533    0\n",
       "Name: is_good, Length: 9534, dtype: int64"
      ]
     },
     "execution_count": 5,
     "metadata": {},
     "output_type": "execute_result"
    }
   ],
   "source": [
    "test_data['is_good'] = test_data['평점'].apply(lambda x: 1 if x >=4 else 0)\n",
    "test_data['is_good']"
   ]
  },
  {
   "cell_type": "code",
   "execution_count": 6,
   "id": "9507a5ca",
   "metadata": {
    "scrolled": true
   },
   "outputs": [
    {
     "data": {
      "text/plain": [
       "0                                              고경민계장님감사해요\n",
       "1       저축목표피드 새로 생긴거 너무좋은데 분명 카테고리를 저축으로 했는데 왜 인식이 안되...\n",
       "2         아니 이딴걸 편리하게 사용하는앱이라고 쳐만들엇나 이렇게 불편하게만든건 일부러그런거에요\n",
       "3       몇 년째 만족하며 사용중이라 조금식 개선되어거는 모습에 만족하며 사용중입니다 하지만...\n",
       "4                                스타뱅킹을 사용 하고나서부터 편안해서 좋아요\n",
       "                              ...                        \n",
       "9529    만보기 이벤트는 실망스러워요 후기 말투 다 똑같고 사기 맞죠 양심이 참 정직하게 확...\n",
       "9530                   기능이 많아 다 사용해보진 못 했지만 대체적으로 편한거 같아요\n",
       "9531                                                편리하네요\n",
       "9532                                            사용하기 편리해요\n",
       "9533    너무 후져서 오랜만에 어플이용하다가 욕했답니다 인증방식이 2010년대에 머물러계심 ...\n",
       "Name: 사용자리뷰, Length: 9534, dtype: object"
      ]
     },
     "execution_count": 6,
     "metadata": {},
     "output_type": "execute_result"
    }
   ],
   "source": [
    "test_data['사용자리뷰'] = test_data['사용자리뷰'].apply(clean_text)\n",
    "test_data['사용자리뷰']"
   ]
  },
  {
   "cell_type": "code",
   "execution_count": 7,
   "id": "54266e02",
   "metadata": {},
   "outputs": [
    {
     "data": {
      "text/plain": [
       "0       1\n",
       "1       1\n",
       "2       0\n",
       "3       0\n",
       "4       1\n",
       "       ..\n",
       "9529    0\n",
       "9530    1\n",
       "9531    1\n",
       "9532    1\n",
       "9533    0\n",
       "Name: is_good, Length: 9534, dtype: int64"
      ]
     },
     "execution_count": 7,
     "metadata": {},
     "output_type": "execute_result"
    }
   ],
   "source": [
    "test_data['is_good'] = test_data['평점'].apply(lambda x: 1 if x >=4 else 0)\n",
    "test_data['is_good']"
   ]
  },
  {
   "cell_type": "code",
   "execution_count": 8,
   "id": "67473bed",
   "metadata": {},
   "outputs": [],
   "source": [
    "mecab = Mecab()"
   ]
  },
  {
   "cell_type": "code",
   "execution_count": 9,
   "id": "f8a67143",
   "metadata": {},
   "outputs": [],
   "source": [
    "dokenized_docs =  test_data['사용자리뷰'].apply(mecab.morphs)"
   ]
  },
  {
   "cell_type": "code",
   "execution_count": 10,
   "id": "0191efe2",
   "metadata": {
    "scrolled": true
   },
   "outputs": [
    {
     "data": {
      "text/plain": [
       "['고경민', '계장', '님', '감사', '해요']"
      ]
     },
     "execution_count": 10,
     "metadata": {},
     "output_type": "execute_result"
    }
   ],
   "source": [
    "dokenized_docs[0]"
   ]
  },
  {
   "cell_type": "markdown",
   "id": "16a1cb74",
   "metadata": {},
   "source": [
    "# train에서 사용했던 tokenizer를 불러와서 one hot encoding"
   ]
  },
  {
   "cell_type": "code",
   "execution_count": 12,
   "id": "56f471c5",
   "metadata": {},
   "outputs": [],
   "source": [
    "import joblib"
   ]
  },
  {
   "cell_type": "code",
   "execution_count": 15,
   "id": "8c9ed4b5",
   "metadata": {},
   "outputs": [
    {
     "name": "stdout",
     "output_type": "stream",
     "text": [
      "302\n"
     ]
    }
   ],
   "source": [
    "token = joblib.load(\"./model/bank_app_tokeizer.joblib\")\n",
    "max_len = joblib.load(\"./model/bank_app_max_length.joblib\")\n",
    "print(max_len)"
   ]
  },
  {
   "cell_type": "code",
   "execution_count": 16,
   "id": "4cb86e6e",
   "metadata": {},
   "outputs": [
    {
     "name": "stdout",
     "output_type": "stream",
     "text": [
      "[6248, 327, 111, 71]\n"
     ]
    }
   ],
   "source": [
    "x = token.texts_to_sequences(dokenized_docs)\n",
    "print(x[0])"
   ]
  },
  {
   "cell_type": "markdown",
   "id": "8b9a59d6",
   "metadata": {},
   "source": [
    "# train에서 사용했던 패딩길이 (모델 넣을 컬럼 수)"
   ]
  },
  {
   "cell_type": "code",
   "execution_count": 17,
   "id": "301df39d",
   "metadata": {},
   "outputs": [
    {
     "data": {
      "text/plain": [
       "302"
      ]
     },
     "execution_count": 17,
     "metadata": {},
     "output_type": "execute_result"
    }
   ],
   "source": [
    "max_len = joblib.load(\"./model/bank_app_max_length.joblib\")\n",
    "max_len"
   ]
  },
  {
   "cell_type": "code",
   "execution_count": null,
   "id": "097a7896",
   "metadata": {},
   "outputs": [],
   "source": []
  },
  {
   "cell_type": "code",
   "execution_count": null,
   "id": "964bf18a",
   "metadata": {},
   "outputs": [],
   "source": []
  },
  {
   "cell_type": "code",
   "execution_count": null,
   "id": "672919c3",
   "metadata": {},
   "outputs": [],
   "source": []
  },
  {
   "cell_type": "code",
   "execution_count": null,
   "id": "7003c950",
   "metadata": {},
   "outputs": [],
   "source": []
  },
  {
   "cell_type": "code",
   "execution_count": null,
   "id": "73ee9e54",
   "metadata": {},
   "outputs": [],
   "source": []
  }
 ],
 "metadata": {
  "kernelspec": {
   "display_name": "Python 3 (ipykernel)",
   "language": "python",
   "name": "python3"
  },
  "language_info": {
   "codemirror_mode": {
    "name": "ipython",
    "version": 3
   },
   "file_extension": ".py",
   "mimetype": "text/x-python",
   "name": "python",
   "nbconvert_exporter": "python",
   "pygments_lexer": "ipython3",
   "version": "3.10.8"
  }
 },
 "nbformat": 4,
 "nbformat_minor": 5
}
