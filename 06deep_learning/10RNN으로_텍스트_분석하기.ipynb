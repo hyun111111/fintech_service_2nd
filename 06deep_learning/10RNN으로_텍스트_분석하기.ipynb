{
 "cells": [
  {
   "cell_type": "markdown",
   "id": "e039c47b",
   "metadata": {},
   "source": [
    "# RNN으로_텍스트_분석하기\n",
    "* RNN: 순환신경망\n",
    "* 언어, 시계열 데이터 분석에 주로 사용\n",
    "* 길이가 길어지면 기울기 소실 문제  방생\n",
    "* LSTM, GRU "
   ]
  },
  {
   "cell_type": "code",
   "execution_count": 1,
   "id": "791769b6",
   "metadata": {},
   "outputs": [
    {
     "name": "stderr",
     "output_type": "stream",
     "text": [
      "2025-05-21 15:11:17.378266: I tensorflow/core/platform/cpu_feature_guard.cc:193] This TensorFlow binary is optimized with oneAPI Deep Neural Network Library (oneDNN) to use the following CPU instructions in performance-critical operations:  AVX2 AVX512F AVX512_VNNI FMA\n",
      "To enable them in other operations, rebuild TensorFlow with the appropriate compiler flags.\n",
      "2025-05-21 15:11:17.539518: I tensorflow/core/util/util.cc:169] oneDNN custom operations are on. You may see slightly different numerical results due to floating-point round-off errors from different computation orders. To turn them off, set the environment variable `TF_ENABLE_ONEDNN_OPTS=0`.\n",
      "2025-05-21 15:11:17.543816: W tensorflow/stream_executor/platform/default/dso_loader.cc:64] Could not load dynamic library 'libcudart.so.11.0'; dlerror: libcudart.so.11.0: cannot open shared object file: No such file or directory\n",
      "2025-05-21 15:11:17.543839: I tensorflow/stream_executor/cuda/cudart_stub.cc:29] Ignore above cudart dlerror if you do not have a GPU set up on your machine.\n",
      "2025-05-21 15:11:17.568738: E tensorflow/stream_executor/cuda/cuda_blas.cc:2981] Unable to register cuBLAS factory: Attempting to register factory for plugin cuBLAS when one has already been registered\n",
      "2025-05-21 15:11:18.625048: W tensorflow/stream_executor/platform/default/dso_loader.cc:64] Could not load dynamic library 'libnvinfer.so.7'; dlerror: libnvinfer.so.7: cannot open shared object file: No such file or directory\n",
      "2025-05-21 15:11:18.625187: W tensorflow/stream_executor/platform/default/dso_loader.cc:64] Could not load dynamic library 'libnvinfer_plugin.so.7'; dlerror: libnvinfer_plugin.so.7: cannot open shared object file: No such file or directory\n",
      "2025-05-21 15:11:18.625199: W tensorflow/compiler/tf2tensorrt/utils/py_utils.cc:38] TF-TRT Warning: Cannot dlopen some TensorRT libraries. If you would like to use Nvidia GPU with TensorRT, please make sure the missing libraries mentioned above are installed properly.\n"
     ]
    }
   ],
   "source": [
    "from tensorflow.keras.preprocessing.text import Tokenizer, text_to_word_sequence\n",
    "from tensorflow.keras.preprocessing.sequence import pad_sequences\n",
    "from tensorflow.keras.models import Sequential\n",
    "from tensorflow.keras.layers import Dense, Flatten, Embedding\n",
    "from tensorflow.keras.utils import to_categorical\n",
    "import pandas as pd\n",
    "import numpy as np"
   ]
  },
  {
   "cell_type": "markdown",
   "id": "15827f58",
   "metadata": {},
   "source": [
    "# 텐서플로에서 텍스트 전처리 하기\n",
    "* 토큰화 : 문장을 단어 혹은 형태소로 쪼개는 것\n",
    "* 원핫인코딩 : 문자를 벡터화\n",
    "* 임베딩(enbedding):백터화 -> 원핫인코딩을 더 축소"
   ]
  },
  {
   "cell_type": "code",
   "execution_count": 7,
   "id": "50875955",
   "metadata": {},
   "outputs": [],
   "source": [
    "text = \"해보지 않으면 해낼수 없다\""
   ]
  },
  {
   "cell_type": "code",
   "execution_count": 9,
   "id": "5acf9c30",
   "metadata": {},
   "outputs": [
    {
     "data": {
      "text/plain": [
       "['해보지', '않으면', '해낼수', '없다']"
      ]
     },
     "execution_count": 9,
     "metadata": {},
     "output_type": "execute_result"
    }
   ],
   "source": [
    "result = text_to_word_sequence(text)\n",
    "result"
   ]
  },
  {
   "cell_type": "markdown",
   "id": "efadac9b",
   "metadata": {},
   "source": [
    "단어 빈도수 세기"
   ]
  },
  {
   "cell_type": "code",
   "execution_count": 5,
   "id": "4062e544",
   "metadata": {},
   "outputs": [],
   "source": [
    "docs = ['먼저 텍스트의 각 단어를 나누어 토큰화 합니다',\n",
    "       '텍스트의 단어로 토큰화해야 딥러닝에서 인식됩니다',\n",
    "       '토큰화한 결과는 딥러닝에서 사용할 수 있습니다',\n",
    "       '텍스트 전처리에는 벡터화 원핫인코딩 패딩으로 길이 맞추기 등이 필요합니다',\n",
    "       '딥러닝 쉽지 않네요']"
   ]
  },
  {
   "cell_type": "code",
   "execution_count": 12,
   "id": "cc9ce2ab",
   "metadata": {},
   "outputs": [
    {
     "name": "stdout",
     "output_type": "stream",
     "text": [
      "단어카운트 : OrderedDict([('먼저', 1), ('텍스트의', 2), ('각', 1), ('단어를', 1), ('나누어', 1), ('토큰화', 1), ('합니다', 1), ('단어로', 1), ('토큰화해야', 1), ('딥러닝에서', 2), ('인식됩니다', 1), ('토큰화한', 1), ('결과는', 1), ('사용할', 1), ('수', 1), ('있습니다', 1), ('텍스트', 1), ('전처리에는', 1), ('벡터화', 1), ('원핫인코딩', 1), ('패딩으로', 1), ('길이', 1), ('맞추기', 1), ('등이', 1), ('필요합니다', 1), ('딥러닝', 1), ('쉽지', 1), ('않네요', 1)])\n",
      "\n",
      "문장카운트 : 5\n",
      "\n",
      "각 단어가 몇 개의 문장에 포함되어있는지 계산 : defaultdict(<class 'int'>, {'합니다': 1, '단어를': 1, '토큰화': 1, '텍스트의': 2, '먼저': 1, '각': 1, '나누어': 1, '딥러닝에서': 2, '단어로': 1, '토큰화해야': 1, '인식됩니다': 1, '수': 1, '있습니다': 1, '결과는': 1, '토큰화한': 1, '사용할': 1, '전처리에는': 1, '등이': 1, '원핫인코딩': 1, '패딩으로': 1, '텍스트': 1, '길이': 1, '맞추기': 1, '필요합니다': 1, '벡터화': 1, '않네요': 1, '쉽지': 1, '딥러닝': 1})\n",
      "\n",
      "각 단어의 매겨진 인덱스값:  {'텍스트의': 1, '딥러닝에서': 2, '먼저': 3, '각': 4, '단어를': 5, '나누어': 6, '토큰화': 7, '합니다': 8, '단어로': 9, '토큰화해야': 10, '인식됩니다': 11, '토큰화한': 12, '결과는': 13, '사용할': 14, '수': 15, '있습니다': 16, '텍스트': 17, '전처리에는': 18, '벡터화': 19, '원핫인코딩': 20, '패딩으로': 21, '길이': 22, '맞추기': 23, '등이': 24, '필요합니다': 25, '딥러닝': 26, '쉽지': 27, '않네요': 28}\n",
      "\n"
     ]
    }
   ],
   "source": [
    "token = Tokenizer()\n",
    "token.fit_on_texts(docs)\n",
    "print(\"단어카운트 :\", token.word_counts, end=\"\\n\\n\")\n",
    "print(\"문장카운트 :\", token.document_count, end=\"\\n\\n\")\n",
    "print('각 단어가 몇 개의 문장에 포함되어있는지 계산 :', token.word_docs, end=\"\\n\\n\")\n",
    "print(\"각 단어의 매겨진 인덱스값: \", token.word_index, end=\"\\n\\n\")"
   ]
  },
  {
   "cell_type": "code",
   "execution_count": null,
   "id": "1f841d1a",
   "metadata": {},
   "outputs": [],
   "source": [
    "'딥러닝 쉽지 않네요' -> [26, 27, 28]"
   ]
  },
  {
   "cell_type": "code",
   "execution_count": 13,
   "id": "4aabe6be",
   "metadata": {},
   "outputs": [
    {
     "name": "stdout",
     "output_type": "stream",
     "text": [
      "[[3, 1, 4, 5, 6, 7, 8], [1, 9, 10, 2, 11], [12, 13, 2, 14, 15, 16], [17, 18, 19, 20, 21, 22, 23, 24, 25], [26, 27, 28]]\n"
     ]
    }
   ],
   "source": [
    "x = token.texts_to_sequences(docs)\n",
    "print(x)"
   ]
  },
  {
   "cell_type": "markdown",
   "id": "1a09c4ea",
   "metadata": {},
   "source": [
    "가장 긴 백터의 길이 추출"
   ]
  },
  {
   "cell_type": "code",
   "execution_count": 15,
   "id": "5a974d14",
   "metadata": {},
   "outputs": [
    {
     "data": {
      "text/plain": [
       "9"
      ]
     },
     "execution_count": 15,
     "metadata": {},
     "output_type": "execute_result"
    }
   ],
   "source": [
    "max([len(i) for i in x])"
   ]
  },
  {
   "cell_type": "markdown",
   "id": "e070c1d8",
   "metadata": {},
   "source": [
    "# 가장 긴 길이의 문장에 맞추어 패딩\n",
    "* 가장 긴 문장 길이 + 1의 길이로 패딩\n",
    "* 문장의 시작에는 반드시 0이 있어야 함"
   ]
  },
  {
   "cell_type": "code",
   "execution_count": 16,
   "id": "380ac54e",
   "metadata": {},
   "outputs": [
    {
     "data": {
      "text/plain": [
       "array([[ 0,  0,  0,  3,  1,  4,  5,  6,  7,  8],\n",
       "       [ 0,  0,  0,  0,  0,  1,  9, 10,  2, 11],\n",
       "       [ 0,  0,  0,  0, 12, 13,  2, 14, 15, 16],\n",
       "       [ 0, 17, 18, 19, 20, 21, 22, 23, 24, 25],\n",
       "       [ 0,  0,  0,  0,  0,  0,  0, 26, 27, 28]], dtype=int32)"
      ]
     },
     "execution_count": 16,
     "metadata": {},
     "output_type": "execute_result"
    }
   ],
   "source": [
    "padded_x = pad_sequences(x, max([len(i) for i in x])+1)\n",
    "padded_x"
   ]
  },
  {
   "cell_type": "code",
   "execution_count": 17,
   "id": "efe5b638",
   "metadata": {},
   "outputs": [
    {
     "data": {
      "text/plain": [
       "(5, 10)"
      ]
     },
     "execution_count": 17,
     "metadata": {},
     "output_type": "execute_result"
    }
   ],
   "source": [
    "padded_x.shape"
   ]
  },
  {
   "cell_type": "markdown",
   "id": "9144135b",
   "metadata": {},
   "source": [
    "# 텍스트를 읽고 긍정, 부정 예측하기"
   ]
  },
  {
   "cell_type": "code",
   "execution_count": 18,
   "id": "ac7a3ef7",
   "metadata": {},
   "outputs": [],
   "source": [
    "docs2 = ['너무 재미있네요',\n",
    "        '최고예요',\n",
    "        '참 신기한 딥러닝이네요',\n",
    "        '인공지능 칭찬합니다',\n",
    "        '더 자세히 배우고 싶어요',\n",
    "        '변화가 너무 빨라요',\n",
    "        \"GPT성능이 생각보다 별로네요\",\n",
    "        '제미나이보다는 낫죠',\n",
    "        '나는 차라리 라마를 쓴다',\n",
    "        '유료 결제 싫어요']\n"
   ]
  },
  {
   "cell_type": "code",
   "execution_count": 19,
   "id": "aa239852",
   "metadata": {},
   "outputs": [],
   "source": [
    "classes = np.array([1,1,1,1,1,0,0,1,0,0])"
   ]
  },
  {
   "cell_type": "code",
   "execution_count": 25,
   "id": "28add40e",
   "metadata": {},
   "outputs": [],
   "source": [
    "token = Tokenizer()\n",
    "token.fit_on_texts(docs2)"
   ]
  },
  {
   "cell_type": "code",
   "execution_count": 33,
   "id": "564c6239",
   "metadata": {},
   "outputs": [
    {
     "name": "stdout",
     "output_type": "stream",
     "text": [
      "[[1, 2], [3], [4, 5, 6], [7, 8], [9, 10, 11, 12], [13, 1, 14], [15, 16, 17], [18, 19], [20, 21, 22, 23], [24, 25, 26]]\n"
     ]
    }
   ],
   "source": [
    "x = token.texts_to_sequences(docs2)\n",
    "print(x)"
   ]
  },
  {
   "cell_type": "code",
   "execution_count": 34,
   "id": "5c7fa09a",
   "metadata": {},
   "outputs": [
    {
     "data": {
      "text/plain": [
       "array([[ 0,  0,  0,  1,  2],\n",
       "       [ 0,  0,  0,  0,  3],\n",
       "       [ 0,  0,  4,  5,  6],\n",
       "       [ 0,  0,  0,  7,  8],\n",
       "       [ 0,  9, 10, 11, 12],\n",
       "       [ 0,  0, 13,  1, 14],\n",
       "       [ 0,  0, 15, 16, 17],\n",
       "       [ 0,  0,  0, 18, 19],\n",
       "       [ 0, 20, 21, 22, 23],\n",
       "       [ 0,  0, 24, 25, 26]], dtype=int32)"
      ]
     },
     "execution_count": 34,
     "metadata": {},
     "output_type": "execute_result"
    }
   ],
   "source": [
    "padding_x = pad_sequences(x, max([len(i) for i in x])+1)\n",
    "padding_x"
   ]
  },
  {
   "cell_type": "code",
   "execution_count": null,
   "id": "7478804b",
   "metadata": {},
   "outputs": [],
   "source": []
  },
  {
   "cell_type": "code",
   "execution_count": 35,
   "id": "f187fc01",
   "metadata": {},
   "outputs": [
    {
     "data": {
      "text/plain": [
       "27"
      ]
     },
     "execution_count": 35,
     "metadata": {},
     "output_type": "execute_result"
    }
   ],
   "source": [
    "word_size = len(token.word_index) +1\n",
    "word_size"
   ]
  },
  {
   "cell_type": "code",
   "execution_count": 36,
   "id": "fb0737a2",
   "metadata": {},
   "outputs": [
    {
     "data": {
      "text/plain": [
       "<keras.layers.core.embedding.Embedding at 0x7f4693dcebc0>"
      ]
     },
     "execution_count": 36,
     "metadata": {},
     "output_type": "execute_result"
    }
   ],
   "source": [
    "Embedding(word_size, 8)"
   ]
  },
  {
   "cell_type": "code",
   "execution_count": null,
   "id": "7cdd6411",
   "metadata": {},
   "outputs": [],
   "source": [
    "for i in "
   ]
  },
  {
   "cell_type": "code",
   "execution_count": 38,
   "id": "cafff67b",
   "metadata": {},
   "outputs": [
    {
     "name": "stdout",
     "output_type": "stream",
     "text": [
      "Model: \"sequential_1\"\n",
      "_________________________________________________________________\n",
      " Layer (type)                Output Shape              Param #   \n",
      "=================================================================\n",
      " embedding_1 (Embedding)     (None, None, 8)           216       \n",
      "                                                                 \n",
      " dense (Dense)               (None, None, 1)           9         \n",
      "                                                                 \n",
      "=================================================================\n",
      "Total params: 225\n",
      "Trainable params: 225\n",
      "Non-trainable params: 0\n",
      "_________________________________________________________________\n"
     ]
    }
   ],
   "source": [
    "model = Sequential()\n",
    "model.add(Embedding(word_size, 8))\n",
    "model.add(Dense(1, activation='sigmoid'))\n",
    "model.summary()"
   ]
  },
  {
   "cell_type": "code",
   "execution_count": 40,
   "id": "a30e8ff1",
   "metadata": {},
   "outputs": [
    {
     "name": "stdout",
     "output_type": "stream",
     "text": [
      "Epoch 1/20\n"
     ]
    },
    {
     "ename": "ValueError",
     "evalue": "in user code:\n\n    File \"/home/jihyun/miniforge3/envs/face/lib/python3.10/site-packages/keras/engine/training.py\", line 1160, in train_function  *\n        return step_function(self, iterator)\n    File \"/home/jihyun/miniforge3/envs/face/lib/python3.10/site-packages/keras/engine/training.py\", line 1146, in step_function  **\n        outputs = model.distribute_strategy.run(run_step, args=(data,))\n    File \"/home/jihyun/miniforge3/envs/face/lib/python3.10/site-packages/keras/engine/training.py\", line 1135, in run_step  **\n        outputs = model.train_step(data)\n    File \"/home/jihyun/miniforge3/envs/face/lib/python3.10/site-packages/keras/engine/training.py\", line 994, in train_step\n        loss = self.compute_loss(x, y, y_pred, sample_weight)\n    File \"/home/jihyun/miniforge3/envs/face/lib/python3.10/site-packages/keras/engine/training.py\", line 1052, in compute_loss\n        return self.compiled_loss(\n    File \"/home/jihyun/miniforge3/envs/face/lib/python3.10/site-packages/keras/engine/compile_utils.py\", line 265, in __call__\n        loss_value = loss_obj(y_t, y_p, sample_weight=sw)\n    File \"/home/jihyun/miniforge3/envs/face/lib/python3.10/site-packages/keras/losses.py\", line 152, in __call__\n        losses = call_fn(y_true, y_pred)\n    File \"/home/jihyun/miniforge3/envs/face/lib/python3.10/site-packages/keras/losses.py\", line 272, in call  **\n        return ag_fn(y_true, y_pred, **self._fn_kwargs)\n    File \"/home/jihyun/miniforge3/envs/face/lib/python3.10/site-packages/keras/losses.py\", line 2162, in binary_crossentropy\n        backend.binary_crossentropy(y_true, y_pred, from_logits=from_logits),\n    File \"/home/jihyun/miniforge3/envs/face/lib/python3.10/site-packages/keras/backend.py\", line 5677, in binary_crossentropy\n        return tf.nn.sigmoid_cross_entropy_with_logits(\n\n    ValueError: `logits` and `labels` must have the same shape, received ((None, 5, 1) vs (None,)).\n",
     "output_type": "error",
     "traceback": [
      "\u001b[0;31m---------------------------------------------------------------------------\u001b[0m",
      "\u001b[0;31mValueError\u001b[0m                                Traceback (most recent call last)",
      "Cell \u001b[0;32mIn[40], line 2\u001b[0m\n\u001b[1;32m      1\u001b[0m model\u001b[38;5;241m.\u001b[39mcompile(loss\u001b[38;5;241m=\u001b[39m\u001b[38;5;124m\"\u001b[39m\u001b[38;5;124mbinary_crossentropy\u001b[39m\u001b[38;5;124m\"\u001b[39m, optimizer\u001b[38;5;241m=\u001b[39m\u001b[38;5;124m'\u001b[39m\u001b[38;5;124madam\u001b[39m\u001b[38;5;124m'\u001b[39m, metrics\u001b[38;5;241m=\u001b[39m[\u001b[38;5;124m'\u001b[39m\u001b[38;5;124maccuracy\u001b[39m\u001b[38;5;124m'\u001b[39m])\n\u001b[0;32m----> 2\u001b[0m \u001b[43mmodel\u001b[49m\u001b[38;5;241;43m.\u001b[39;49m\u001b[43mfit\u001b[49m\u001b[43m(\u001b[49m\u001b[43mpadding_x\u001b[49m\u001b[43m,\u001b[49m\u001b[43m \u001b[49m\u001b[43mclasses\u001b[49m\u001b[43m,\u001b[49m\u001b[43m \u001b[49m\u001b[43mepochs\u001b[49m\u001b[38;5;241;43m=\u001b[39;49m\u001b[38;5;241;43m20\u001b[39;49m\u001b[43m)\u001b[49m\n\u001b[1;32m      3\u001b[0m \u001b[38;5;28mprint\u001b[39m(model\u001b[38;5;241m.\u001b[39mevaluate(padding_x, classes))\n",
      "File \u001b[0;32m~/miniforge3/envs/face/lib/python3.10/site-packages/keras/utils/traceback_utils.py:70\u001b[0m, in \u001b[0;36mfilter_traceback.<locals>.error_handler\u001b[0;34m(*args, **kwargs)\u001b[0m\n\u001b[1;32m     67\u001b[0m     filtered_tb \u001b[38;5;241m=\u001b[39m _process_traceback_frames(e\u001b[38;5;241m.\u001b[39m__traceback__)\n\u001b[1;32m     68\u001b[0m     \u001b[38;5;66;03m# To get the full stack trace, call:\u001b[39;00m\n\u001b[1;32m     69\u001b[0m     \u001b[38;5;66;03m# `tf.debugging.disable_traceback_filtering()`\u001b[39;00m\n\u001b[0;32m---> 70\u001b[0m     \u001b[38;5;28;01mraise\u001b[39;00m e\u001b[38;5;241m.\u001b[39mwith_traceback(filtered_tb) \u001b[38;5;28;01mfrom\u001b[39;00m\u001b[38;5;250m \u001b[39m\u001b[38;5;28;01mNone\u001b[39;00m\n\u001b[1;32m     71\u001b[0m \u001b[38;5;28;01mfinally\u001b[39;00m:\n\u001b[1;32m     72\u001b[0m     \u001b[38;5;28;01mdel\u001b[39;00m filtered_tb\n",
      "File \u001b[0;32m/tmp/__autograph_generated_file53o480l5.py:15\u001b[0m, in \u001b[0;36mouter_factory.<locals>.inner_factory.<locals>.tf__train_function\u001b[0;34m(iterator)\u001b[0m\n\u001b[1;32m     13\u001b[0m \u001b[38;5;28;01mtry\u001b[39;00m:\n\u001b[1;32m     14\u001b[0m     do_return \u001b[38;5;241m=\u001b[39m \u001b[38;5;28;01mTrue\u001b[39;00m\n\u001b[0;32m---> 15\u001b[0m     retval_ \u001b[38;5;241m=\u001b[39m ag__\u001b[38;5;241m.\u001b[39mconverted_call(ag__\u001b[38;5;241m.\u001b[39mld(step_function), (ag__\u001b[38;5;241m.\u001b[39mld(\u001b[38;5;28mself\u001b[39m), ag__\u001b[38;5;241m.\u001b[39mld(iterator)), \u001b[38;5;28;01mNone\u001b[39;00m, fscope)\n\u001b[1;32m     16\u001b[0m \u001b[38;5;28;01mexcept\u001b[39;00m:\n\u001b[1;32m     17\u001b[0m     do_return \u001b[38;5;241m=\u001b[39m \u001b[38;5;28;01mFalse\u001b[39;00m\n",
      "\u001b[0;31mValueError\u001b[0m: in user code:\n\n    File \"/home/jihyun/miniforge3/envs/face/lib/python3.10/site-packages/keras/engine/training.py\", line 1160, in train_function  *\n        return step_function(self, iterator)\n    File \"/home/jihyun/miniforge3/envs/face/lib/python3.10/site-packages/keras/engine/training.py\", line 1146, in step_function  **\n        outputs = model.distribute_strategy.run(run_step, args=(data,))\n    File \"/home/jihyun/miniforge3/envs/face/lib/python3.10/site-packages/keras/engine/training.py\", line 1135, in run_step  **\n        outputs = model.train_step(data)\n    File \"/home/jihyun/miniforge3/envs/face/lib/python3.10/site-packages/keras/engine/training.py\", line 994, in train_step\n        loss = self.compute_loss(x, y, y_pred, sample_weight)\n    File \"/home/jihyun/miniforge3/envs/face/lib/python3.10/site-packages/keras/engine/training.py\", line 1052, in compute_loss\n        return self.compiled_loss(\n    File \"/home/jihyun/miniforge3/envs/face/lib/python3.10/site-packages/keras/engine/compile_utils.py\", line 265, in __call__\n        loss_value = loss_obj(y_t, y_p, sample_weight=sw)\n    File \"/home/jihyun/miniforge3/envs/face/lib/python3.10/site-packages/keras/losses.py\", line 152, in __call__\n        losses = call_fn(y_true, y_pred)\n    File \"/home/jihyun/miniforge3/envs/face/lib/python3.10/site-packages/keras/losses.py\", line 272, in call  **\n        return ag_fn(y_true, y_pred, **self._fn_kwargs)\n    File \"/home/jihyun/miniforge3/envs/face/lib/python3.10/site-packages/keras/losses.py\", line 2162, in binary_crossentropy\n        backend.binary_crossentropy(y_true, y_pred, from_logits=from_logits),\n    File \"/home/jihyun/miniforge3/envs/face/lib/python3.10/site-packages/keras/backend.py\", line 5677, in binary_crossentropy\n        return tf.nn.sigmoid_cross_entropy_with_logits(\n\n    ValueError: `logits` and `labels` must have the same shape, received ((None, 5, 1) vs (None,)).\n"
     ]
    }
   ],
   "source": [
    "model.compile(loss=\"binary_crossentropy\", optimizer='adam', metrics=['accuracy'])\n",
    "model.fit(padding_x, classes, epochs=20)\n",
    "print(model.evaluate(padding_x, classes))"
   ]
  },
  {
   "cell_type": "code",
   "execution_count": null,
   "id": "13812b50",
   "metadata": {},
   "outputs": [],
   "source": []
  },
  {
   "cell_type": "code",
   "execution_count": null,
   "id": "bf368b7c",
   "metadata": {},
   "outputs": [],
   "source": []
  }
 ],
 "metadata": {
  "kernelspec": {
   "display_name": "Python 3 (ipykernel)",
   "language": "python",
   "name": "python3"
  },
  "language_info": {
   "codemirror_mode": {
    "name": "ipython",
    "version": 3
   },
   "file_extension": ".py",
   "mimetype": "text/x-python",
   "name": "python",
   "nbconvert_exporter": "python",
   "pygments_lexer": "ipython3",
   "version": "3.11.0rc1"
  }
 },
 "nbformat": 4,
 "nbformat_minor": 5
}
